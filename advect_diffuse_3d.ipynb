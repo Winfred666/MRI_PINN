{
 "cells": [
  {
   "cell_type": "markdown",
   "id": "1f3278e3",
   "metadata": {},
   "source": [
    "### advect_diffuse_3d\n",
    "\n",
    "Use the down sample version of .nii MRI data, hope for a good interpolation. We mostly use DeepXDE to build research-grade PINN, with several optimization module, which is enough for DCE-MRI task."
   ]
  },
  {
   "cell_type": "markdown",
   "id": "707e4cbe",
   "metadata": {},
   "source": [
    "1. Data preparation"
   ]
  },
  {
   "cell_type": "code",
   "execution_count": 1,
   "id": "b92874a8",
   "metadata": {},
   "outputs": [],
   "source": [
    "import numpy as np\n",
    "import matplotlib.pyplot as plt\n",
    "import torch\n",
    "import torch.nn as nn\n",
    "import lightning as L\n",
    "from lightning.pytorch import Trainer\n",
    "from lightning.pytorch.loggers import TensorBoardLogger\n",
    "\n",
    "%matplotlib widget\n",
    "%load_ext autoreload\n",
    "%autoreload 2\n"
   ]
  },
  {
   "cell_type": "code",
   "execution_count": 2,
   "id": "891b0a39",
   "metadata": {},
   "outputs": [
    {
     "name": "stdout",
     "output_type": "stream",
     "text": [
      "(32, 40, 32, 9) (32, 40, 32) [0.5 0.5 0.5]\n",
      "(32,) (40,) (32,) (9,)\n"
     ]
    }
   ],
   "source": [
    "from dataModule import load_dcemri_data, DCEMRIDataModule\n",
    "from visualize import visualize_prediction_vs_groundtruth\n",
    "data,mask,pixdim,x,y,z,t = load_dcemri_data(\"data/dataset_downsampled.npz\")\n",
    "\n",
    "# Also need to transform anisotropic diffusivity if needed here.\n",
    "device = torch.device(\"cuda\" if torch.cuda.is_available() else \"cpu\")\n",
    "\n",
    "\n",
    "dataset = DCEMRIDataModule(data, mask, t, \n",
    "                           pixdim=pixdim, batch_size=20_000, device=device)"
   ]
  },
  {
   "cell_type": "markdown",
   "id": "9d0d580f",
   "metadata": {},
   "source": [
    "2. Network definition\n",
    "\n",
    "Here only define a base advect-diffuse PINN that learn the whole, it is reported in [J. D. Toscano et al. 2025](https://doi.org/10.1101/2025.07.30.667741) , that pure AD instead of Darcy's law cannot capture bimodal velocity distribution. \n",
    "\n",
    "This version has two variants:\n",
    "1. simply using FNN to produce velocity field, without any pruning on solution space.\n",
    "2. physics constrained divergence-free to the \n"
   ]
  },
  {
   "cell_type": "code",
   "execution_count": null,
   "id": "cc858289",
   "metadata": {},
   "outputs": [],
   "source": [
    "class ADPINN(L.LightningModule):\n",
    "    def __init__(self, c_layers, u_layers, learning_rate=1e-3, incompressible=False):\n",
    "        \n",
    "        super().__init__()\n",
    "        self.save_hyperparameters()\n",
    "        self.learning_rate = learning_rate\n",
    "        self.incompressible = incompressible\n",
    "\n",
    "        self.data_loss = nn.MSELoss()\n",
    "\n",
    "        self.c_net = nn.Sequential()\n",
    "        self.c_net.add_module(\"c_input_layer\", nn.Linear(c_layers[0], c_layers[1]))\n",
    "        self.c_net.add_module(\"c_input_activation\", nn.Tanh())\n",
    "        for i in range(1, len(c_layers) - 2):\n",
    "            self.c_net.add_module(f\"c_hidden_layer_{i}\", nn.Linear(c_layers[i], c_layers[i + 1]))\n",
    "            self.c_net.add_module(f\"c_hidden_activation_{i}\", nn.Tanh())\n",
    "        self.c_net.add_module(\"c_output_layer\", nn.Linear(c_layers[-2], c_layers[-1]))\n",
    "        \n",
    "        # if incompressible , this v_net will predict vector potential psi instead of velocity directly\n",
    "        self.v_net_raw = nn.Sequential()\n",
    "        self.v_net_raw.add_module(\"v_input_layer\", nn.Linear(u_layers[0], u_layers[1]))\n",
    "        self.v_net_raw.add_module(\"v_input_activation\", nn.Tanh())\n",
    "        for i in range(1, len(u_layers) - 2):\n",
    "            self.v_net_raw.add_module(f\"v_hidden_layer_{i}\", nn.Linear(u_layers[i], u_layers[i+1]))\n",
    "            self.v_net_raw.add_module(f\"v_hidden_activation_{i}\", nn.Tanh())\n",
    "        # The final layer outputs vx, vy, vz\n",
    "        self.v_net_raw.add_module(\"v_output_layer\", nn.Linear(u_layers[-2], u_layers[-1]))\n",
    "\n",
    "        # define learnable diffusivity\n",
    "        self.D = nn.Parameter(torch.tensor(0.01))\n",
    "\n",
    "        # Initialize weights\n",
    "        for m in self.c_net.modules():\n",
    "            if isinstance(m, nn.Linear):\n",
    "                nn.init.xavier_normal_(m.weight)\n",
    "                nn.init.zeros_(m.bias)\n",
    "        for m in self.v_net_raw.modules():\n",
    "            if isinstance(m, nn.Linear):\n",
    "                nn.init.xavier_normal_(m.weight)\n",
    "                nn.init.zeros_(m.bias)\n",
    "        \n",
    "        \n",
    "        # slice domain for visualization\n",
    "        self.slice_4d = dataset.get_characteristic_geotimedomain(slice_zindex=[data.shape[2]//2], slice_tindex=[data.shape[3]//2])\n",
    "        self.slice_3d = dataset.get_characteristic_geodomain(slice_zindex=[data.shape[2]//2])\n",
    "        \n",
    "        self.slice_gt_c = data[:, :, data.shape[2]//2, data.shape[3]//2]\n",
    "    \n",
    "    # WARNING: here x is only spatial coordinates, no time\n",
    "    def v_model(self, x):\n",
    "        if self.incompressible:\n",
    "            psi = self.v_net_raw(x[:, :3]) # steady-assumption\n",
    "            psi_x, psi_y, psi_z = torch.split(psi, 1, dim=1)\n",
    "            vx = torch.autograd.grad(psi_z, x[:, 1], grad_outputs=torch.ones_like(psi_z), create_graph=True)[0] - \\\n",
    "                 torch.autograd.grad(psi_y, x[:, 2], grad_outputs=torch.ones_like(psi_y), create_graph=True)[0]\n",
    "            vy = torch.autograd.grad(psi_x, x[:, 2], grad_outputs=torch.ones_like(psi_x), create_graph=True)[0] - \\\n",
    "                 torch.autograd.grad(psi_z, x[:, 0], grad_outputs=torch.ones_like(psi_z), create_graph=True)[0]\n",
    "            vz = torch.autograd.grad(psi_y, x[:, 0], grad_outputs=torch.ones_like(psi_y), create_graph=True)[0] - \\\n",
    "                torch.autograd.grad(psi_x, x[:, 1], grad_outputs=torch.ones_like(psi_x), create_graph=True)[0]\n",
    "        else:\n",
    "            v = self.v_net_raw(x[:, :3])\n",
    "            vx, vy, vz = v[:, 0:1], v[:, 1:2], v[:, 2:3]\n",
    "        return vx, vy, vz\n",
    "\n",
    "    # WARNING: here x includes time as 4th dimension\n",
    "    def forward(self, x):\n",
    "        c = self.c_net(x)\n",
    "        vx, vy, vz = self.v_model(x)\n",
    "        return c, vx, vy, vz\n",
    "    \n",
    "    def configure_optimizers(self):\n",
    "        optimizer = torch.optim.Adam(self.parameters(), lr=self.learning_rate)\n",
    "        return optimizer\n",
    "\n",
    "    def training_step(self, batch, batch_idx):\n",
    "        x, C_true = batch\n",
    "        x.requires_grad = True\n",
    "        C_pred, vx, vy, vz = self.forward(x)\n",
    "        \n",
    "        # Compute gradients of density\n",
    "        grad_C = torch.autograd.grad(C_pred, x, grad_outputs=torch.ones_like(C_pred), create_graph=True)[0]\n",
    "        C_x, C_y, C_z, C_t = grad_C[:, 0:1], grad_C[:, 1:2], grad_C[:, 2:3], grad_C[:, 3:4]\n",
    "        \n",
    "        # Second derivatives\n",
    "        grad_C_x = torch.autograd.grad(C_x, x, grad_outputs=torch.ones_like(C_x), create_graph=True)[0]\n",
    "        C_xx = grad_C_x[:, 0:1]\n",
    "\n",
    "        grad_C_y = torch.autograd.grad(C_y, x, grad_outputs=torch.ones_like(C_y), create_graph=True)[0]\n",
    "        C_yy = grad_C_y[:, 1:2]\n",
    "\n",
    "        grad_C_z = torch.autograd.grad(C_z, x, grad_outputs=torch.ones_like(C_z), create_graph=True)[0]\n",
    "        C_zz = grad_C_z[:, 2:3]\n",
    "\n",
    "        # Advection-diffusion equation residual\n",
    "        f = C_t + vx * C_x + vy * C_y + vz * C_z - self.D * (C_xx + C_yy + C_zz)\n",
    "        \n",
    "        # Loss: MSE of data and residual\n",
    "        mse_data = self.data_loss(C_pred, C_true)\n",
    "        mse_pde = torch.mean(f**2)\n",
    "        # here follow the paper, setting weight higher for pde\n",
    "        loss = mse_data + 100 * mse_pde\n",
    "        \n",
    "        if batch_idx % 100 == 0:\n",
    "            self.log('train_loss', loss)\n",
    "            self.log('data_loss', mse_data)\n",
    "            self.log('pde_loss', mse_pde)\n",
    "            self.log('D', self.D)\n",
    "            # also log velocity magnitude image slices (jointly in one image)\n",
    "        return loss\n",
    "    \n",
    "    def validation_step(self, batch, batch_idx):\n",
    "        x, C_true = batch\n",
    "        C_pred = self.c_net(x)\n",
    "        mse_data = self.data_loss(C_pred, C_true)\n",
    "        \n",
    "        # also slice c map of mid time + mid z when validation\n",
    "        if batch_idx == 0:\n",
    "            self.log('val_data_loss', mse_data)\n",
    "            if self.current_epoch % 100 == 0:\n",
    "                with torch.no_grad():\n",
    "                    vol_disp = self.c_net(self.slice_4d).cpu().numpy().reshape(data.shape[0], data.shape[1])\n",
    "                    # scale to 0-1 for better visualization\n",
    "                    vol_disp = (vol_disp - vol_disp.min()) / (vol_disp.max() - vol_disp.min() + 1e-8)\n",
    "                    # self.logger.experiment.add_image('val_C_slice', vol_disp, self.current_epoch, dataformats='HW')\n",
    "                    self.logger.experiment.add_image('val_C_compare' ,visualize_prediction_vs_groundtruth(vol_disp, self.slice_gt_c), self.current_epoch, dataformats='WH')\n",
    "                    \n",
    "                    vx_img, vy_img, vz_img = self.v_model(self.slice_3d)\n",
    "                    v_mag_img = torch.sqrt(vx_img**2 + vy_img**2 + vz_img**2).cpu().numpy().reshape(data.shape[0], data.shape[1])\n",
    "                    self.logger.experiment.add_image('train_v_mag_slice', v_mag_img, self.current_epoch, dataformats='HW')\n",
    "        return mse_data"
   ]
  },
  {
   "cell_type": "markdown",
   "id": "79a2035e",
   "metadata": {},
   "source": [
    "3. Training step\n",
    "\n",
    "TODO: pretrain step. Here directly do joint optimization, no any warm init for velocity or concentration."
   ]
  },
  {
   "cell_type": "code",
   "execution_count": null,
   "id": "61e490b4",
   "metadata": {},
   "outputs": [
    {
     "name": "stderr",
     "output_type": "stream",
     "text": [
      "💡 Tip: For seamless cloud uploads and versioning, try installing [litmodels](https://pypi.org/project/litmodels/) to enable LitModelCheckpoint, which syncs automatically with the Lightning model registry.\n",
      "GPU available: True (cuda), used: True\n",
      "TPU available: False, using: 0 TPU cores\n",
      "HPU available: False, using: 0 HPUs\n",
      "LOCAL_RANK: 0 - CUDA_VISIBLE_DEVICES: [0]\n",
      "\n",
      "  | Name         | Type       | Params | Mode \n",
      "----------------------------------------------------\n",
      "0 | data_loss    | MSELoss    | 0      | train\n",
      "1 | c_net        | Sequential | 66.8 K | train\n",
      "2 | v_net_raw    | Sequential | 66.9 K | train\n",
      "  | other params | n/a        | 1      | n/a  \n",
      "----------------------------------------------------\n",
      "133 K     Trainable params\n",
      "0         Non-trainable params\n",
      "133 K     Total params\n",
      "0.535     Total estimated model params size (MB)\n",
      "25        Modules in train mode\n",
      "0         Modules in eval mode\n"
     ]
    },
    {
     "data": {
      "application/vnd.jupyter.widget-view+json": {
       "model_id": "03796f60dcfb419bbecd3076535e8a12",
       "version_major": 2,
       "version_minor": 0
      },
      "text/plain": [
       "Sanity Checking: |          | 0/? [00:00<?, ?it/s]"
      ]
     },
     "metadata": {},
     "output_type": "display_data"
    },
    {
     "name": "stderr",
     "output_type": "stream",
     "text": [
      "w:\\bigTool\\Anaconda\\envs\\AI\\lib\\site-packages\\lightning\\pytorch\\trainer\\connectors\\data_connector.py:433: The 'train_dataloader' does not have many workers which may be a bottleneck. Consider increasing the value of the `num_workers` argument` to `num_workers=19` in the `DataLoader` to improve performance.\n",
      "w:\\bigTool\\Anaconda\\envs\\AI\\lib\\site-packages\\lightning\\pytorch\\loops\\fit_loop.py:310: The number of training batches (1) is smaller than the logging interval Trainer(log_every_n_steps=3). Set a lower value for log_every_n_steps if you want to see logs for the training epoch.\n"
     ]
    },
    {
     "data": {
      "application/vnd.jupyter.widget-view+json": {
       "model_id": "97a616210d024bfcad33855c8043f33a",
       "version_major": 2,
       "version_minor": 0
      },
      "text/plain": [
       "Training: |          | 0/? [00:00<?, ?it/s]"
      ]
     },
     "metadata": {},
     "output_type": "display_data"
    },
    {
     "data": {
      "application/vnd.jupyter.widget-view+json": {
       "model_id": "e03124f7aa004edf9dd549ebdcf26eb5",
       "version_major": 2,
       "version_minor": 0
      },
      "text/plain": [
       "Validation: |          | 0/? [00:00<?, ?it/s]"
      ]
     },
     "metadata": {},
     "output_type": "display_data"
    },
    {
     "data": {
      "application/vnd.jupyter.widget-view+json": {
       "model_id": "aca72a5914c84819b85ce5bc3827c834",
       "version_major": 2,
       "version_minor": 0
      },
      "text/plain": [
       "Validation: |          | 0/? [00:00<?, ?it/s]"
      ]
     },
     "metadata": {},
     "output_type": "display_data"
    },
    {
     "data": {
      "application/vnd.jupyter.widget-view+json": {
       "model_id": "708551756ee04f06a97da7e9aa752f64",
       "version_major": 2,
       "version_minor": 0
      },
      "text/plain": [
       "Validation: |          | 0/? [00:00<?, ?it/s]"
      ]
     },
     "metadata": {},
     "output_type": "display_data"
    },
    {
     "data": {
      "application/vnd.jupyter.widget-view+json": {
       "model_id": "bcff76a75e414d66bdbda87413621f78",
       "version_major": 2,
       "version_minor": 0
      },
      "text/plain": [
       "Validation: |          | 0/? [00:00<?, ?it/s]"
      ]
     },
     "metadata": {},
     "output_type": "display_data"
    },
    {
     "data": {
      "application/vnd.jupyter.widget-view+json": {
       "model_id": "c94c740673b04b398a85ce77160d845e",
       "version_major": 2,
       "version_minor": 0
      },
      "text/plain": [
       "Validation: |          | 0/? [00:00<?, ?it/s]"
      ]
     },
     "metadata": {},
     "output_type": "display_data"
    },
    {
     "data": {
      "application/vnd.jupyter.widget-view+json": {
       "model_id": "5af976e83aa245bfa4c4c9e6e47c273c",
       "version_major": 2,
       "version_minor": 0
      },
      "text/plain": [
       "Validation: |          | 0/? [00:00<?, ?it/s]"
      ]
     },
     "metadata": {},
     "output_type": "display_data"
    },
    {
     "data": {
      "application/vnd.jupyter.widget-view+json": {
       "model_id": "7a23d7d8e8ee4e1a919f5656a5d5c822",
       "version_major": 2,
       "version_minor": 0
      },
      "text/plain": [
       "Validation: |          | 0/? [00:00<?, ?it/s]"
      ]
     },
     "metadata": {},
     "output_type": "display_data"
    },
    {
     "data": {
      "application/vnd.jupyter.widget-view+json": {
       "model_id": "dfb31a3011e34c87ba235c1f78045b55",
       "version_major": 2,
       "version_minor": 0
      },
      "text/plain": [
       "Validation: |          | 0/? [00:00<?, ?it/s]"
      ]
     },
     "metadata": {},
     "output_type": "display_data"
    },
    {
     "data": {
      "application/vnd.jupyter.widget-view+json": {
       "model_id": "a34db6af54f9493c874a6ccac6852cbf",
       "version_major": 2,
       "version_minor": 0
      },
      "text/plain": [
       "Validation: |          | 0/? [00:00<?, ?it/s]"
      ]
     },
     "metadata": {},
     "output_type": "display_data"
    },
    {
     "data": {
      "application/vnd.jupyter.widget-view+json": {
       "model_id": "444a92e2dc574f158bbb3f435627505c",
       "version_major": 2,
       "version_minor": 0
      },
      "text/plain": [
       "Validation: |          | 0/? [00:00<?, ?it/s]"
      ]
     },
     "metadata": {},
     "output_type": "display_data"
    },
    {
     "data": {
      "application/vnd.jupyter.widget-view+json": {
       "model_id": "12dc5e89355546d1a53ce7d3837289c4",
       "version_major": 2,
       "version_minor": 0
      },
      "text/plain": [
       "Validation: |          | 0/? [00:00<?, ?it/s]"
      ]
     },
     "metadata": {},
     "output_type": "display_data"
    },
    {
     "data": {
      "application/vnd.jupyter.widget-view+json": {
       "model_id": "11b60d819245449580a4dc225955617c",
       "version_major": 2,
       "version_minor": 0
      },
      "text/plain": [
       "Validation: |          | 0/? [00:00<?, ?it/s]"
      ]
     },
     "metadata": {},
     "output_type": "display_data"
    },
    {
     "data": {
      "application/vnd.jupyter.widget-view+json": {
       "model_id": "7da9841f76314875bf9e889af80041fc",
       "version_major": 2,
       "version_minor": 0
      },
      "text/plain": [
       "Validation: |          | 0/? [00:00<?, ?it/s]"
      ]
     },
     "metadata": {},
     "output_type": "display_data"
    },
    {
     "data": {
      "application/vnd.jupyter.widget-view+json": {
       "model_id": "0a18ab05a3594e94b94f439276419b85",
       "version_major": 2,
       "version_minor": 0
      },
      "text/plain": [
       "Validation: |          | 0/? [00:00<?, ?it/s]"
      ]
     },
     "metadata": {},
     "output_type": "display_data"
    },
    {
     "data": {
      "application/vnd.jupyter.widget-view+json": {
       "model_id": "4e796663d7c3401b9dd784d9cd62e5b9",
       "version_major": 2,
       "version_minor": 0
      },
      "text/plain": [
       "Validation: |          | 0/? [00:00<?, ?it/s]"
      ]
     },
     "metadata": {},
     "output_type": "display_data"
    },
    {
     "data": {
      "application/vnd.jupyter.widget-view+json": {
       "model_id": "f63d76a4230e448182cafedbb3baab4d",
       "version_major": 2,
       "version_minor": 0
      },
      "text/plain": [
       "Validation: |          | 0/? [00:00<?, ?it/s]"
      ]
     },
     "metadata": {},
     "output_type": "display_data"
    },
    {
     "data": {
      "application/vnd.jupyter.widget-view+json": {
       "model_id": "aaf9ad478cfb46e98b693a671c744b93",
       "version_major": 2,
       "version_minor": 0
      },
      "text/plain": [
       "Validation: |          | 0/? [00:00<?, ?it/s]"
      ]
     },
     "metadata": {},
     "output_type": "display_data"
    },
    {
     "data": {
      "application/vnd.jupyter.widget-view+json": {
       "model_id": "9733c971a07d40ee82f589cdae9f2819",
       "version_major": 2,
       "version_minor": 0
      },
      "text/plain": [
       "Validation: |          | 0/? [00:00<?, ?it/s]"
      ]
     },
     "metadata": {},
     "output_type": "display_data"
    },
    {
     "data": {
      "application/vnd.jupyter.widget-view+json": {
       "model_id": "0c466c6cdb6f4334a31c57b8fae247b5",
       "version_major": 2,
       "version_minor": 0
      },
      "text/plain": [
       "Validation: |          | 0/? [00:00<?, ?it/s]"
      ]
     },
     "metadata": {},
     "output_type": "display_data"
    },
    {
     "data": {
      "application/vnd.jupyter.widget-view+json": {
       "model_id": "372509ca39c447a2a249d1b1dd23f1e6",
       "version_major": 2,
       "version_minor": 0
      },
      "text/plain": [
       "Validation: |          | 0/? [00:00<?, ?it/s]"
      ]
     },
     "metadata": {},
     "output_type": "display_data"
    },
    {
     "data": {
      "application/vnd.jupyter.widget-view+json": {
       "model_id": "5413e678e2dc4f75a34b89f370063313",
       "version_major": 2,
       "version_minor": 0
      },
      "text/plain": [
       "Validation: |          | 0/? [00:00<?, ?it/s]"
      ]
     },
     "metadata": {},
     "output_type": "display_data"
    },
    {
     "data": {
      "application/vnd.jupyter.widget-view+json": {
       "model_id": "05a8f8ca6c8c465bab70dcbcdddb19c4",
       "version_major": 2,
       "version_minor": 0
      },
      "text/plain": [
       "Validation: |          | 0/? [00:00<?, ?it/s]"
      ]
     },
     "metadata": {},
     "output_type": "display_data"
    },
    {
     "data": {
      "application/vnd.jupyter.widget-view+json": {
       "model_id": "a96989ad7d8a4317ad8dc3d3b9a93db3",
       "version_major": 2,
       "version_minor": 0
      },
      "text/plain": [
       "Validation: |          | 0/? [00:00<?, ?it/s]"
      ]
     },
     "metadata": {},
     "output_type": "display_data"
    },
    {
     "data": {
      "application/vnd.jupyter.widget-view+json": {
       "model_id": "878c82c14e09467cad4ba3529a0438e0",
       "version_major": 2,
       "version_minor": 0
      },
      "text/plain": [
       "Validation: |          | 0/? [00:00<?, ?it/s]"
      ]
     },
     "metadata": {},
     "output_type": "display_data"
    },
    {
     "data": {
      "application/vnd.jupyter.widget-view+json": {
       "model_id": "e94f5cf6c7004c66b6a166f88a72e74e",
       "version_major": 2,
       "version_minor": 0
      },
      "text/plain": [
       "Validation: |          | 0/? [00:00<?, ?it/s]"
      ]
     },
     "metadata": {},
     "output_type": "display_data"
    },
    {
     "data": {
      "application/vnd.jupyter.widget-view+json": {
       "model_id": "d7968f508b6d4ceeae1b725b0be2092f",
       "version_major": 2,
       "version_minor": 0
      },
      "text/plain": [
       "Validation: |          | 0/? [00:00<?, ?it/s]"
      ]
     },
     "metadata": {},
     "output_type": "display_data"
    },
    {
     "data": {
      "application/vnd.jupyter.widget-view+json": {
       "model_id": "c7ad1565208f48e39c1a753ec3c6514c",
       "version_major": 2,
       "version_minor": 0
      },
      "text/plain": [
       "Validation: |          | 0/? [00:00<?, ?it/s]"
      ]
     },
     "metadata": {},
     "output_type": "display_data"
    },
    {
     "data": {
      "application/vnd.jupyter.widget-view+json": {
       "model_id": "f4981a0e856b4332bfdc8149203762ac",
       "version_major": 2,
       "version_minor": 0
      },
      "text/plain": [
       "Validation: |          | 0/? [00:00<?, ?it/s]"
      ]
     },
     "metadata": {},
     "output_type": "display_data"
    },
    {
     "data": {
      "application/vnd.jupyter.widget-view+json": {
       "model_id": "79fbfb5329834a28b36e43a6d77035ec",
       "version_major": 2,
       "version_minor": 0
      },
      "text/plain": [
       "Validation: |          | 0/? [00:00<?, ?it/s]"
      ]
     },
     "metadata": {},
     "output_type": "display_data"
    },
    {
     "data": {
      "application/vnd.jupyter.widget-view+json": {
       "model_id": "303891a7463a4fbfa0f74fd771b9fab0",
       "version_major": 2,
       "version_minor": 0
      },
      "text/plain": [
       "Validation: |          | 0/? [00:00<?, ?it/s]"
      ]
     },
     "metadata": {},
     "output_type": "display_data"
    },
    {
     "data": {
      "application/vnd.jupyter.widget-view+json": {
       "model_id": "d74279b11cc74a468a6c428540c91b2d",
       "version_major": 2,
       "version_minor": 0
      },
      "text/plain": [
       "Validation: |          | 0/? [00:00<?, ?it/s]"
      ]
     },
     "metadata": {},
     "output_type": "display_data"
    },
    {
     "data": {
      "application/vnd.jupyter.widget-view+json": {
       "model_id": "dfd484e5ede54a8287a5b67126e92f56",
       "version_major": 2,
       "version_minor": 0
      },
      "text/plain": [
       "Validation: |          | 0/? [00:00<?, ?it/s]"
      ]
     },
     "metadata": {},
     "output_type": "display_data"
    },
    {
     "data": {
      "application/vnd.jupyter.widget-view+json": {
       "model_id": "f4d4df3cd8974e46bafdccdac8895f47",
       "version_major": 2,
       "version_minor": 0
      },
      "text/plain": [
       "Validation: |          | 0/? [00:00<?, ?it/s]"
      ]
     },
     "metadata": {},
     "output_type": "display_data"
    },
    {
     "data": {
      "application/vnd.jupyter.widget-view+json": {
       "model_id": "4b2eae53a3dd4fbebad8581f23e5906d",
       "version_major": 2,
       "version_minor": 0
      },
      "text/plain": [
       "Validation: |          | 0/? [00:00<?, ?it/s]"
      ]
     },
     "metadata": {},
     "output_type": "display_data"
    },
    {
     "data": {
      "application/vnd.jupyter.widget-view+json": {
       "model_id": "ed4013571cbf494681ac66d07339a696",
       "version_major": 2,
       "version_minor": 0
      },
      "text/plain": [
       "Validation: |          | 0/? [00:00<?, ?it/s]"
      ]
     },
     "metadata": {},
     "output_type": "display_data"
    },
    {
     "data": {
      "application/vnd.jupyter.widget-view+json": {
       "model_id": "d23b2960759f45a980c8603fbdd0960b",
       "version_major": 2,
       "version_minor": 0
      },
      "text/plain": [
       "Validation: |          | 0/? [00:00<?, ?it/s]"
      ]
     },
     "metadata": {},
     "output_type": "display_data"
    },
    {
     "data": {
      "application/vnd.jupyter.widget-view+json": {
       "model_id": "7e8d61ada2bc44bc87a046277c773830",
       "version_major": 2,
       "version_minor": 0
      },
      "text/plain": [
       "Validation: |          | 0/? [00:00<?, ?it/s]"
      ]
     },
     "metadata": {},
     "output_type": "display_data"
    },
    {
     "data": {
      "application/vnd.jupyter.widget-view+json": {
       "model_id": "40d901be5a784171924f39441553d3d8",
       "version_major": 2,
       "version_minor": 0
      },
      "text/plain": [
       "Validation: |          | 0/? [00:00<?, ?it/s]"
      ]
     },
     "metadata": {},
     "output_type": "display_data"
    },
    {
     "data": {
      "application/vnd.jupyter.widget-view+json": {
       "model_id": "75a57ef12a9f4ba0941fe2f778bcd9f8",
       "version_major": 2,
       "version_minor": 0
      },
      "text/plain": [
       "Validation: |          | 0/? [00:00<?, ?it/s]"
      ]
     },
     "metadata": {},
     "output_type": "display_data"
    },
    {
     "data": {
      "application/vnd.jupyter.widget-view+json": {
       "model_id": "633d474967624617adc9164d3830d831",
       "version_major": 2,
       "version_minor": 0
      },
      "text/plain": [
       "Validation: |          | 0/? [00:00<?, ?it/s]"
      ]
     },
     "metadata": {},
     "output_type": "display_data"
    },
    {
     "data": {
      "application/vnd.jupyter.widget-view+json": {
       "model_id": "156423e2f2d546eb97858541177815f9",
       "version_major": 2,
       "version_minor": 0
      },
      "text/plain": [
       "Validation: |          | 0/? [00:00<?, ?it/s]"
      ]
     },
     "metadata": {},
     "output_type": "display_data"
    },
    {
     "data": {
      "application/vnd.jupyter.widget-view+json": {
       "model_id": "979064f04a904cf499e39f67c4b0d01b",
       "version_major": 2,
       "version_minor": 0
      },
      "text/plain": [
       "Validation: |          | 0/? [00:00<?, ?it/s]"
      ]
     },
     "metadata": {},
     "output_type": "display_data"
    },
    {
     "data": {
      "application/vnd.jupyter.widget-view+json": {
       "model_id": "e7da128db97f4c1685c15d956a4a1cb9",
       "version_major": 2,
       "version_minor": 0
      },
      "text/plain": [
       "Validation: |          | 0/? [00:00<?, ?it/s]"
      ]
     },
     "metadata": {},
     "output_type": "display_data"
    },
    {
     "data": {
      "application/vnd.jupyter.widget-view+json": {
       "model_id": "688d4aad2e234fe5a2b2e5f838351592",
       "version_major": 2,
       "version_minor": 0
      },
      "text/plain": [
       "Validation: |          | 0/? [00:00<?, ?it/s]"
      ]
     },
     "metadata": {},
     "output_type": "display_data"
    },
    {
     "data": {
      "application/vnd.jupyter.widget-view+json": {
       "model_id": "bd8b7ffb0213456cb9cb5af0dd7f98e5",
       "version_major": 2,
       "version_minor": 0
      },
      "text/plain": [
       "Validation: |          | 0/? [00:00<?, ?it/s]"
      ]
     },
     "metadata": {},
     "output_type": "display_data"
    },
    {
     "data": {
      "application/vnd.jupyter.widget-view+json": {
       "model_id": "e5027d42a17b49b7b07c6c416d0b3e80",
       "version_major": 2,
       "version_minor": 0
      },
      "text/plain": [
       "Validation: |          | 0/? [00:00<?, ?it/s]"
      ]
     },
     "metadata": {},
     "output_type": "display_data"
    },
    {
     "data": {
      "application/vnd.jupyter.widget-view+json": {
       "model_id": "b2cff9e059784b1eb368a5b41a8e539b",
       "version_major": 2,
       "version_minor": 0
      },
      "text/plain": [
       "Validation: |          | 0/? [00:00<?, ?it/s]"
      ]
     },
     "metadata": {},
     "output_type": "display_data"
    },
    {
     "data": {
      "application/vnd.jupyter.widget-view+json": {
       "model_id": "28ba8786b1eb41189101913ac54ed746",
       "version_major": 2,
       "version_minor": 0
      },
      "text/plain": [
       "Validation: |          | 0/? [00:00<?, ?it/s]"
      ]
     },
     "metadata": {},
     "output_type": "display_data"
    },
    {
     "data": {
      "application/vnd.jupyter.widget-view+json": {
       "model_id": "aca52c58153847689bd62cb2a5bc6906",
       "version_major": 2,
       "version_minor": 0
      },
      "text/plain": [
       "Validation: |          | 0/? [00:00<?, ?it/s]"
      ]
     },
     "metadata": {},
     "output_type": "display_data"
    },
    {
     "data": {
      "application/vnd.jupyter.widget-view+json": {
       "model_id": "f967acb9d4824a95bfd0c00d9d4675d9",
       "version_major": 2,
       "version_minor": 0
      },
      "text/plain": [
       "Validation: |          | 0/? [00:00<?, ?it/s]"
      ]
     },
     "metadata": {},
     "output_type": "display_data"
    },
    {
     "data": {
      "application/vnd.jupyter.widget-view+json": {
       "model_id": "d1585b7312fe4019b02448c57d63c6ce",
       "version_major": 2,
       "version_minor": 0
      },
      "text/plain": [
       "Validation: |          | 0/? [00:00<?, ?it/s]"
      ]
     },
     "metadata": {},
     "output_type": "display_data"
    },
    {
     "data": {
      "application/vnd.jupyter.widget-view+json": {
       "model_id": "9aedc0f65ba541e8b84f2c441e6d02ae",
       "version_major": 2,
       "version_minor": 0
      },
      "text/plain": [
       "Validation: |          | 0/? [00:00<?, ?it/s]"
      ]
     },
     "metadata": {},
     "output_type": "display_data"
    },
    {
     "data": {
      "application/vnd.jupyter.widget-view+json": {
       "model_id": "3dc7e7d633304166b1af72fd60f2eac8",
       "version_major": 2,
       "version_minor": 0
      },
      "text/plain": [
       "Validation: |          | 0/? [00:00<?, ?it/s]"
      ]
     },
     "metadata": {},
     "output_type": "display_data"
    },
    {
     "data": {
      "application/vnd.jupyter.widget-view+json": {
       "model_id": "83adb45450544d60b93c255be6e2d34e",
       "version_major": 2,
       "version_minor": 0
      },
      "text/plain": [
       "Validation: |          | 0/? [00:00<?, ?it/s]"
      ]
     },
     "metadata": {},
     "output_type": "display_data"
    },
    {
     "data": {
      "application/vnd.jupyter.widget-view+json": {
       "model_id": "b9500690a89d4009a816d32344724110",
       "version_major": 2,
       "version_minor": 0
      },
      "text/plain": [
       "Validation: |          | 0/? [00:00<?, ?it/s]"
      ]
     },
     "metadata": {},
     "output_type": "display_data"
    },
    {
     "data": {
      "application/vnd.jupyter.widget-view+json": {
       "model_id": "1e6d5c74e855426fbfc4983119f72fe2",
       "version_major": 2,
       "version_minor": 0
      },
      "text/plain": [
       "Validation: |          | 0/? [00:00<?, ?it/s]"
      ]
     },
     "metadata": {},
     "output_type": "display_data"
    },
    {
     "data": {
      "application/vnd.jupyter.widget-view+json": {
       "model_id": "7363b6f3a86340ccadb41fcd1440eff7",
       "version_major": 2,
       "version_minor": 0
      },
      "text/plain": [
       "Validation: |          | 0/? [00:00<?, ?it/s]"
      ]
     },
     "metadata": {},
     "output_type": "display_data"
    },
    {
     "data": {
      "application/vnd.jupyter.widget-view+json": {
       "model_id": "09d5153be9bc4a15a39ec60967fe7e8d",
       "version_major": 2,
       "version_minor": 0
      },
      "text/plain": [
       "Validation: |          | 0/? [00:00<?, ?it/s]"
      ]
     },
     "metadata": {},
     "output_type": "display_data"
    },
    {
     "data": {
      "application/vnd.jupyter.widget-view+json": {
       "model_id": "ee12a481bdcf4a81987ec86dde3c7ede",
       "version_major": 2,
       "version_minor": 0
      },
      "text/plain": [
       "Validation: |          | 0/? [00:00<?, ?it/s]"
      ]
     },
     "metadata": {},
     "output_type": "display_data"
    },
    {
     "data": {
      "application/vnd.jupyter.widget-view+json": {
       "model_id": "e2af6016b054417a98ce6fe59346aad2",
       "version_major": 2,
       "version_minor": 0
      },
      "text/plain": [
       "Validation: |          | 0/? [00:00<?, ?it/s]"
      ]
     },
     "metadata": {},
     "output_type": "display_data"
    },
    {
     "data": {
      "application/vnd.jupyter.widget-view+json": {
       "model_id": "92bfb22d83514c1b89df0b53c215e309",
       "version_major": 2,
       "version_minor": 0
      },
      "text/plain": [
       "Validation: |          | 0/? [00:00<?, ?it/s]"
      ]
     },
     "metadata": {},
     "output_type": "display_data"
    },
    {
     "data": {
      "application/vnd.jupyter.widget-view+json": {
       "model_id": "965cb08c7d7a4b72ba055d45a1b18fc8",
       "version_major": 2,
       "version_minor": 0
      },
      "text/plain": [
       "Validation: |          | 0/? [00:00<?, ?it/s]"
      ]
     },
     "metadata": {},
     "output_type": "display_data"
    },
    {
     "data": {
      "application/vnd.jupyter.widget-view+json": {
       "model_id": "c6ea7b93798d4841b2d77b89ff900d22",
       "version_major": 2,
       "version_minor": 0
      },
      "text/plain": [
       "Validation: |          | 0/? [00:00<?, ?it/s]"
      ]
     },
     "metadata": {},
     "output_type": "display_data"
    },
    {
     "data": {
      "application/vnd.jupyter.widget-view+json": {
       "model_id": "ad1067b680ed41938167836cdb08064c",
       "version_major": 2,
       "version_minor": 0
      },
      "text/plain": [
       "Validation: |          | 0/? [00:00<?, ?it/s]"
      ]
     },
     "metadata": {},
     "output_type": "display_data"
    },
    {
     "data": {
      "application/vnd.jupyter.widget-view+json": {
       "model_id": "f15176acf7e44a36a90c45b10dc8d4e8",
       "version_major": 2,
       "version_minor": 0
      },
      "text/plain": [
       "Validation: |          | 0/? [00:00<?, ?it/s]"
      ]
     },
     "metadata": {},
     "output_type": "display_data"
    },
    {
     "data": {
      "application/vnd.jupyter.widget-view+json": {
       "model_id": "21567d6948b0417a8aaced49834b7fe6",
       "version_major": 2,
       "version_minor": 0
      },
      "text/plain": [
       "Validation: |          | 0/? [00:00<?, ?it/s]"
      ]
     },
     "metadata": {},
     "output_type": "display_data"
    },
    {
     "data": {
      "application/vnd.jupyter.widget-view+json": {
       "model_id": "eb7ddbe5e9f94221aca768340db9af1e",
       "version_major": 2,
       "version_minor": 0
      },
      "text/plain": [
       "Validation: |          | 0/? [00:00<?, ?it/s]"
      ]
     },
     "metadata": {},
     "output_type": "display_data"
    },
    {
     "data": {
      "application/vnd.jupyter.widget-view+json": {
       "model_id": "e2e7516d5c334ff795a3095e5edbcb2a",
       "version_major": 2,
       "version_minor": 0
      },
      "text/plain": [
       "Validation: |          | 0/? [00:00<?, ?it/s]"
      ]
     },
     "metadata": {},
     "output_type": "display_data"
    },
    {
     "data": {
      "application/vnd.jupyter.widget-view+json": {
       "model_id": "a5baa8330a7645a6b2bf097838ca4612",
       "version_major": 2,
       "version_minor": 0
      },
      "text/plain": [
       "Validation: |          | 0/? [00:00<?, ?it/s]"
      ]
     },
     "metadata": {},
     "output_type": "display_data"
    },
    {
     "data": {
      "application/vnd.jupyter.widget-view+json": {
       "model_id": "74dcd05fd42248d79db8d7bae4629b6e",
       "version_major": 2,
       "version_minor": 0
      },
      "text/plain": [
       "Validation: |          | 0/? [00:00<?, ?it/s]"
      ]
     },
     "metadata": {},
     "output_type": "display_data"
    },
    {
     "data": {
      "application/vnd.jupyter.widget-view+json": {
       "model_id": "ffb35bd839f546a0b88b8af42863ec5a",
       "version_major": 2,
       "version_minor": 0
      },
      "text/plain": [
       "Validation: |          | 0/? [00:00<?, ?it/s]"
      ]
     },
     "metadata": {},
     "output_type": "display_data"
    },
    {
     "data": {
      "application/vnd.jupyter.widget-view+json": {
       "model_id": "b06afa2e1543482590e3bd0e26a4515c",
       "version_major": 2,
       "version_minor": 0
      },
      "text/plain": [
       "Validation: |          | 0/? [00:00<?, ?it/s]"
      ]
     },
     "metadata": {},
     "output_type": "display_data"
    },
    {
     "data": {
      "application/vnd.jupyter.widget-view+json": {
       "model_id": "f51a4c18f7b94562917779e66f6481e1",
       "version_major": 2,
       "version_minor": 0
      },
      "text/plain": [
       "Validation: |          | 0/? [00:00<?, ?it/s]"
      ]
     },
     "metadata": {},
     "output_type": "display_data"
    },
    {
     "data": {
      "application/vnd.jupyter.widget-view+json": {
       "model_id": "6db2d8d343b74eb3af77280b8dea3f20",
       "version_major": 2,
       "version_minor": 0
      },
      "text/plain": [
       "Validation: |          | 0/? [00:00<?, ?it/s]"
      ]
     },
     "metadata": {},
     "output_type": "display_data"
    },
    {
     "data": {
      "application/vnd.jupyter.widget-view+json": {
       "model_id": "99992d5d82354c8dbb120b962a5d0763",
       "version_major": 2,
       "version_minor": 0
      },
      "text/plain": [
       "Validation: |          | 0/? [00:00<?, ?it/s]"
      ]
     },
     "metadata": {},
     "output_type": "display_data"
    },
    {
     "data": {
      "application/vnd.jupyter.widget-view+json": {
       "model_id": "ae84d6d18b424dd3b4bbf9e25cf1cbf1",
       "version_major": 2,
       "version_minor": 0
      },
      "text/plain": [
       "Validation: |          | 0/? [00:00<?, ?it/s]"
      ]
     },
     "metadata": {},
     "output_type": "display_data"
    },
    {
     "data": {
      "application/vnd.jupyter.widget-view+json": {
       "model_id": "57f035ed6b474a2b87a8c47133ed0910",
       "version_major": 2,
       "version_minor": 0
      },
      "text/plain": [
       "Validation: |          | 0/? [00:00<?, ?it/s]"
      ]
     },
     "metadata": {},
     "output_type": "display_data"
    },
    {
     "data": {
      "application/vnd.jupyter.widget-view+json": {
       "model_id": "b4f5838bd6444ec18218bf673d980009",
       "version_major": 2,
       "version_minor": 0
      },
      "text/plain": [
       "Validation: |          | 0/? [00:00<?, ?it/s]"
      ]
     },
     "metadata": {},
     "output_type": "display_data"
    },
    {
     "data": {
      "application/vnd.jupyter.widget-view+json": {
       "model_id": "e8fd4723f8cb43e2835994a1de774b58",
       "version_major": 2,
       "version_minor": 0
      },
      "text/plain": [
       "Validation: |          | 0/? [00:00<?, ?it/s]"
      ]
     },
     "metadata": {},
     "output_type": "display_data"
    },
    {
     "data": {
      "application/vnd.jupyter.widget-view+json": {
       "model_id": "45a78d0ec3dc44ddb5acc2af2830d3e3",
       "version_major": 2,
       "version_minor": 0
      },
      "text/plain": [
       "Validation: |          | 0/? [00:00<?, ?it/s]"
      ]
     },
     "metadata": {},
     "output_type": "display_data"
    },
    {
     "data": {
      "application/vnd.jupyter.widget-view+json": {
       "model_id": "fb062bc93d304c02ad8de9e4d6744375",
       "version_major": 2,
       "version_minor": 0
      },
      "text/plain": [
       "Validation: |          | 0/? [00:00<?, ?it/s]"
      ]
     },
     "metadata": {},
     "output_type": "display_data"
    },
    {
     "data": {
      "application/vnd.jupyter.widget-view+json": {
       "model_id": "a7a78f8e79624785b32f278f7de6edf9",
       "version_major": 2,
       "version_minor": 0
      },
      "text/plain": [
       "Validation: |          | 0/? [00:00<?, ?it/s]"
      ]
     },
     "metadata": {},
     "output_type": "display_data"
    },
    {
     "data": {
      "application/vnd.jupyter.widget-view+json": {
       "model_id": "3a6ddc9fbcee488199963fa3665ff251",
       "version_major": 2,
       "version_minor": 0
      },
      "text/plain": [
       "Validation: |          | 0/? [00:00<?, ?it/s]"
      ]
     },
     "metadata": {},
     "output_type": "display_data"
    },
    {
     "data": {
      "application/vnd.jupyter.widget-view+json": {
       "model_id": "8e6980c7c7b349aea4288f803703281e",
       "version_major": 2,
       "version_minor": 0
      },
      "text/plain": [
       "Validation: |          | 0/? [00:00<?, ?it/s]"
      ]
     },
     "metadata": {},
     "output_type": "display_data"
    },
    {
     "data": {
      "application/vnd.jupyter.widget-view+json": {
       "model_id": "c83ef9a9351e4ec7919502a9a9a988e5",
       "version_major": 2,
       "version_minor": 0
      },
      "text/plain": [
       "Validation: |          | 0/? [00:00<?, ?it/s]"
      ]
     },
     "metadata": {},
     "output_type": "display_data"
    },
    {
     "data": {
      "application/vnd.jupyter.widget-view+json": {
       "model_id": "c8d8b92306824d5898949b0467d4078a",
       "version_major": 2,
       "version_minor": 0
      },
      "text/plain": [
       "Validation: |          | 0/? [00:00<?, ?it/s]"
      ]
     },
     "metadata": {},
     "output_type": "display_data"
    },
    {
     "data": {
      "application/vnd.jupyter.widget-view+json": {
       "model_id": "14efc1f8e1774e5b8f68aa8afc2ac9da",
       "version_major": 2,
       "version_minor": 0
      },
      "text/plain": [
       "Validation: |          | 0/? [00:00<?, ?it/s]"
      ]
     },
     "metadata": {},
     "output_type": "display_data"
    },
    {
     "data": {
      "application/vnd.jupyter.widget-view+json": {
       "model_id": "6ae0197239f2457ba8767993fa1e7bcb",
       "version_major": 2,
       "version_minor": 0
      },
      "text/plain": [
       "Validation: |          | 0/? [00:00<?, ?it/s]"
      ]
     },
     "metadata": {},
     "output_type": "display_data"
    },
    {
     "data": {
      "application/vnd.jupyter.widget-view+json": {
       "model_id": "f7898e1a77b44f2dae7de4dacef0c65a",
       "version_major": 2,
       "version_minor": 0
      },
      "text/plain": [
       "Validation: |          | 0/? [00:00<?, ?it/s]"
      ]
     },
     "metadata": {},
     "output_type": "display_data"
    },
    {
     "data": {
      "application/vnd.jupyter.widget-view+json": {
       "model_id": "93a003aaa0014d72b002ef2a9cf52e0a",
       "version_major": 2,
       "version_minor": 0
      },
      "text/plain": [
       "Validation: |          | 0/? [00:00<?, ?it/s]"
      ]
     },
     "metadata": {},
     "output_type": "display_data"
    },
    {
     "data": {
      "application/vnd.jupyter.widget-view+json": {
       "model_id": "de6bf65068564b0eb031deedb1684628",
       "version_major": 2,
       "version_minor": 0
      },
      "text/plain": [
       "Validation: |          | 0/? [00:00<?, ?it/s]"
      ]
     },
     "metadata": {},
     "output_type": "display_data"
    },
    {
     "data": {
      "application/vnd.jupyter.widget-view+json": {
       "model_id": "5d445bc47d6d46aba1806972421c3b06",
       "version_major": 2,
       "version_minor": 0
      },
      "text/plain": [
       "Validation: |          | 0/? [00:00<?, ?it/s]"
      ]
     },
     "metadata": {},
     "output_type": "display_data"
    },
    {
     "data": {
      "application/vnd.jupyter.widget-view+json": {
       "model_id": "907b0faaa76942a4b2b562855b4ea8f7",
       "version_major": 2,
       "version_minor": 0
      },
      "text/plain": [
       "Validation: |          | 0/? [00:00<?, ?it/s]"
      ]
     },
     "metadata": {},
     "output_type": "display_data"
    },
    {
     "data": {
      "application/vnd.jupyter.widget-view+json": {
       "model_id": "43408f5eccf54fdeba36464bd93ce7bb",
       "version_major": 2,
       "version_minor": 0
      },
      "text/plain": [
       "Validation: |          | 0/? [00:00<?, ?it/s]"
      ]
     },
     "metadata": {},
     "output_type": "display_data"
    },
    {
     "data": {
      "application/vnd.jupyter.widget-view+json": {
       "model_id": "ad4d15cb20064263aecfb4f7a8acfe49",
       "version_major": 2,
       "version_minor": 0
      },
      "text/plain": [
       "Validation: |          | 0/? [00:00<?, ?it/s]"
      ]
     },
     "metadata": {},
     "output_type": "display_data"
    },
    {
     "data": {
      "application/vnd.jupyter.widget-view+json": {
       "model_id": "c7413660697143f18af189afe1dbc4d1",
       "version_major": 2,
       "version_minor": 0
      },
      "text/plain": [
       "Validation: |          | 0/? [00:00<?, ?it/s]"
      ]
     },
     "metadata": {},
     "output_type": "display_data"
    },
    {
     "data": {
      "application/vnd.jupyter.widget-view+json": {
       "model_id": "cc096b834a584c10973190f70d2045a0",
       "version_major": 2,
       "version_minor": 0
      },
      "text/plain": [
       "Validation: |          | 0/? [00:00<?, ?it/s]"
      ]
     },
     "metadata": {},
     "output_type": "display_data"
    },
    {
     "data": {
      "application/vnd.jupyter.widget-view+json": {
       "model_id": "dd2a45775c3240c2a08a0df43e930a36",
       "version_major": 2,
       "version_minor": 0
      },
      "text/plain": [
       "Validation: |          | 0/? [00:00<?, ?it/s]"
      ]
     },
     "metadata": {},
     "output_type": "display_data"
    },
    {
     "data": {
      "application/vnd.jupyter.widget-view+json": {
       "model_id": "600bcc2acf294acdae924b9b9a933291",
       "version_major": 2,
       "version_minor": 0
      },
      "text/plain": [
       "Validation: |          | 0/? [00:00<?, ?it/s]"
      ]
     },
     "metadata": {},
     "output_type": "display_data"
    },
    {
     "data": {
      "application/vnd.jupyter.widget-view+json": {
       "model_id": "0e9859159cfa4a22b30b91409c363031",
       "version_major": 2,
       "version_minor": 0
      },
      "text/plain": [
       "Validation: |          | 0/? [00:00<?, ?it/s]"
      ]
     },
     "metadata": {},
     "output_type": "display_data"
    },
    {
     "data": {
      "application/vnd.jupyter.widget-view+json": {
       "model_id": "38541f6d0361414aa37092d49531cd87",
       "version_major": 2,
       "version_minor": 0
      },
      "text/plain": [
       "Validation: |          | 0/? [00:00<?, ?it/s]"
      ]
     },
     "metadata": {},
     "output_type": "display_data"
    },
    {
     "data": {
      "application/vnd.jupyter.widget-view+json": {
       "model_id": "f5b044bdbb414cb28fd08a7d8e69b153",
       "version_major": 2,
       "version_minor": 0
      },
      "text/plain": [
       "Validation: |          | 0/? [00:00<?, ?it/s]"
      ]
     },
     "metadata": {},
     "output_type": "display_data"
    },
    {
     "data": {
      "application/vnd.jupyter.widget-view+json": {
       "model_id": "420f1ccd7cda4635acb51567b8fe9659",
       "version_major": 2,
       "version_minor": 0
      },
      "text/plain": [
       "Validation: |          | 0/? [00:00<?, ?it/s]"
      ]
     },
     "metadata": {},
     "output_type": "display_data"
    },
    {
     "data": {
      "application/vnd.jupyter.widget-view+json": {
       "model_id": "9386e7ef9bd44029990fff228da2b778",
       "version_major": 2,
       "version_minor": 0
      },
      "text/plain": [
       "Validation: |          | 0/? [00:00<?, ?it/s]"
      ]
     },
     "metadata": {},
     "output_type": "display_data"
    },
    {
     "data": {
      "application/vnd.jupyter.widget-view+json": {
       "model_id": "0b8a99028c5443d6848e3627d258dc28",
       "version_major": 2,
       "version_minor": 0
      },
      "text/plain": [
       "Validation: |          | 0/? [00:00<?, ?it/s]"
      ]
     },
     "metadata": {},
     "output_type": "display_data"
    },
    {
     "data": {
      "application/vnd.jupyter.widget-view+json": {
       "model_id": "2a7a05a3f4d845a3b00fe75bc6cc1306",
       "version_major": 2,
       "version_minor": 0
      },
      "text/plain": [
       "Validation: |          | 0/? [00:00<?, ?it/s]"
      ]
     },
     "metadata": {},
     "output_type": "display_data"
    },
    {
     "data": {
      "application/vnd.jupyter.widget-view+json": {
       "model_id": "5db8856a1e5243efb8f8fab84dc4be2a",
       "version_major": 2,
       "version_minor": 0
      },
      "text/plain": [
       "Validation: |          | 0/? [00:00<?, ?it/s]"
      ]
     },
     "metadata": {},
     "output_type": "display_data"
    },
    {
     "data": {
      "application/vnd.jupyter.widget-view+json": {
       "model_id": "27a744bf3bb14d938829bc2252f98b9e",
       "version_major": 2,
       "version_minor": 0
      },
      "text/plain": [
       "Validation: |          | 0/? [00:00<?, ?it/s]"
      ]
     },
     "metadata": {},
     "output_type": "display_data"
    },
    {
     "data": {
      "application/vnd.jupyter.widget-view+json": {
       "model_id": "bb7726c425f1408ab72565a56ee0f9c1",
       "version_major": 2,
       "version_minor": 0
      },
      "text/plain": [
       "Validation: |          | 0/? [00:00<?, ?it/s]"
      ]
     },
     "metadata": {},
     "output_type": "display_data"
    },
    {
     "data": {
      "application/vnd.jupyter.widget-view+json": {
       "model_id": "db8c7582bf8f4bce9e2eb02799a45357",
       "version_major": 2,
       "version_minor": 0
      },
      "text/plain": [
       "Validation: |          | 0/? [00:00<?, ?it/s]"
      ]
     },
     "metadata": {},
     "output_type": "display_data"
    },
    {
     "data": {
      "application/vnd.jupyter.widget-view+json": {
       "model_id": "470ba203599d4366bf30dc6ac8aaa108",
       "version_major": 2,
       "version_minor": 0
      },
      "text/plain": [
       "Validation: |          | 0/? [00:00<?, ?it/s]"
      ]
     },
     "metadata": {},
     "output_type": "display_data"
    },
    {
     "data": {
      "application/vnd.jupyter.widget-view+json": {
       "model_id": "84f1dd34b5cc4a8b9374cd75d68b5305",
       "version_major": 2,
       "version_minor": 0
      },
      "text/plain": [
       "Validation: |          | 0/? [00:00<?, ?it/s]"
      ]
     },
     "metadata": {},
     "output_type": "display_data"
    },
    {
     "data": {
      "application/vnd.jupyter.widget-view+json": {
       "model_id": "53d718082527483298a0c279bae0e20a",
       "version_major": 2,
       "version_minor": 0
      },
      "text/plain": [
       "Validation: |          | 0/? [00:00<?, ?it/s]"
      ]
     },
     "metadata": {},
     "output_type": "display_data"
    },
    {
     "data": {
      "application/vnd.jupyter.widget-view+json": {
       "model_id": "ec457f1e0583431baa2592c440932f51",
       "version_major": 2,
       "version_minor": 0
      },
      "text/plain": [
       "Validation: |          | 0/? [00:00<?, ?it/s]"
      ]
     },
     "metadata": {},
     "output_type": "display_data"
    },
    {
     "data": {
      "application/vnd.jupyter.widget-view+json": {
       "model_id": "2d04dace753c411e9646e9c032f3e83b",
       "version_major": 2,
       "version_minor": 0
      },
      "text/plain": [
       "Validation: |          | 0/? [00:00<?, ?it/s]"
      ]
     },
     "metadata": {},
     "output_type": "display_data"
    },
    {
     "data": {
      "application/vnd.jupyter.widget-view+json": {
       "model_id": "54267335af504be1af810062ab6cd3fd",
       "version_major": 2,
       "version_minor": 0
      },
      "text/plain": [
       "Validation: |          | 0/? [00:00<?, ?it/s]"
      ]
     },
     "metadata": {},
     "output_type": "display_data"
    },
    {
     "data": {
      "application/vnd.jupyter.widget-view+json": {
       "model_id": "5710039a705c483f95977f6757fbd733",
       "version_major": 2,
       "version_minor": 0
      },
      "text/plain": [
       "Validation: |          | 0/? [00:00<?, ?it/s]"
      ]
     },
     "metadata": {},
     "output_type": "display_data"
    },
    {
     "data": {
      "application/vnd.jupyter.widget-view+json": {
       "model_id": "019cd38ada834f2a96a5d5d379019e1e",
       "version_major": 2,
       "version_minor": 0
      },
      "text/plain": [
       "Validation: |          | 0/? [00:00<?, ?it/s]"
      ]
     },
     "metadata": {},
     "output_type": "display_data"
    },
    {
     "data": {
      "application/vnd.jupyter.widget-view+json": {
       "model_id": "176aa410b58e42678733040b5b0a7665",
       "version_major": 2,
       "version_minor": 0
      },
      "text/plain": [
       "Validation: |          | 0/? [00:00<?, ?it/s]"
      ]
     },
     "metadata": {},
     "output_type": "display_data"
    },
    {
     "data": {
      "application/vnd.jupyter.widget-view+json": {
       "model_id": "03fefa0f7b294ee193017cb94b6c1e74",
       "version_major": 2,
       "version_minor": 0
      },
      "text/plain": [
       "Validation: |          | 0/? [00:00<?, ?it/s]"
      ]
     },
     "metadata": {},
     "output_type": "display_data"
    },
    {
     "data": {
      "application/vnd.jupyter.widget-view+json": {
       "model_id": "481e77ddab9d4b69a10a1bf155392b76",
       "version_major": 2,
       "version_minor": 0
      },
      "text/plain": [
       "Validation: |          | 0/? [00:00<?, ?it/s]"
      ]
     },
     "metadata": {},
     "output_type": "display_data"
    },
    {
     "data": {
      "application/vnd.jupyter.widget-view+json": {
       "model_id": "9d6990d18df3488dbaa9e1c9b245185a",
       "version_major": 2,
       "version_minor": 0
      },
      "text/plain": [
       "Validation: |          | 0/? [00:00<?, ?it/s]"
      ]
     },
     "metadata": {},
     "output_type": "display_data"
    },
    {
     "data": {
      "application/vnd.jupyter.widget-view+json": {
       "model_id": "4c41116464744c0bbca4497f89899f40",
       "version_major": 2,
       "version_minor": 0
      },
      "text/plain": [
       "Validation: |          | 0/? [00:00<?, ?it/s]"
      ]
     },
     "metadata": {},
     "output_type": "display_data"
    },
    {
     "data": {
      "application/vnd.jupyter.widget-view+json": {
       "model_id": "b3ede89c422242719affa9faf065b3ba",
       "version_major": 2,
       "version_minor": 0
      },
      "text/plain": [
       "Validation: |          | 0/? [00:00<?, ?it/s]"
      ]
     },
     "metadata": {},
     "output_type": "display_data"
    },
    {
     "data": {
      "application/vnd.jupyter.widget-view+json": {
       "model_id": "e82bef3076134d6f80ccd6ffdf917e31",
       "version_major": 2,
       "version_minor": 0
      },
      "text/plain": [
       "Validation: |          | 0/? [00:00<?, ?it/s]"
      ]
     },
     "metadata": {},
     "output_type": "display_data"
    },
    {
     "data": {
      "application/vnd.jupyter.widget-view+json": {
       "model_id": "b9f8c90a344d4e6f973cbe569fc4e88a",
       "version_major": 2,
       "version_minor": 0
      },
      "text/plain": [
       "Validation: |          | 0/? [00:00<?, ?it/s]"
      ]
     },
     "metadata": {},
     "output_type": "display_data"
    },
    {
     "data": {
      "application/vnd.jupyter.widget-view+json": {
       "model_id": "2891640eca3d41088501fbae07265c89",
       "version_major": 2,
       "version_minor": 0
      },
      "text/plain": [
       "Validation: |          | 0/? [00:00<?, ?it/s]"
      ]
     },
     "metadata": {},
     "output_type": "display_data"
    },
    {
     "data": {
      "application/vnd.jupyter.widget-view+json": {
       "model_id": "9e957476da0043f48360e2bc3effd888",
       "version_major": 2,
       "version_minor": 0
      },
      "text/plain": [
       "Validation: |          | 0/? [00:00<?, ?it/s]"
      ]
     },
     "metadata": {},
     "output_type": "display_data"
    },
    {
     "data": {
      "application/vnd.jupyter.widget-view+json": {
       "model_id": "bb373319666747cdbb32c658600fe338",
       "version_major": 2,
       "version_minor": 0
      },
      "text/plain": [
       "Validation: |          | 0/? [00:00<?, ?it/s]"
      ]
     },
     "metadata": {},
     "output_type": "display_data"
    },
    {
     "data": {
      "application/vnd.jupyter.widget-view+json": {
       "model_id": "bc41ab58643349989752e2d0fc0e87e0",
       "version_major": 2,
       "version_minor": 0
      },
      "text/plain": [
       "Validation: |          | 0/? [00:00<?, ?it/s]"
      ]
     },
     "metadata": {},
     "output_type": "display_data"
    },
    {
     "data": {
      "application/vnd.jupyter.widget-view+json": {
       "model_id": "ee140cea9fb14f25b8e4a8ed087011e5",
       "version_major": 2,
       "version_minor": 0
      },
      "text/plain": [
       "Validation: |          | 0/? [00:00<?, ?it/s]"
      ]
     },
     "metadata": {},
     "output_type": "display_data"
    },
    {
     "data": {
      "application/vnd.jupyter.widget-view+json": {
       "model_id": "ba0dff21b3d8472dbd2c88c98089bb78",
       "version_major": 2,
       "version_minor": 0
      },
      "text/plain": [
       "Validation: |          | 0/? [00:00<?, ?it/s]"
      ]
     },
     "metadata": {},
     "output_type": "display_data"
    },
    {
     "data": {
      "application/vnd.jupyter.widget-view+json": {
       "model_id": "4edc635074f4476599d315464d728d3b",
       "version_major": 2,
       "version_minor": 0
      },
      "text/plain": [
       "Validation: |          | 0/? [00:00<?, ?it/s]"
      ]
     },
     "metadata": {},
     "output_type": "display_data"
    },
    {
     "data": {
      "application/vnd.jupyter.widget-view+json": {
       "model_id": "1cc53a1ce55c4d959adff35f90c21587",
       "version_major": 2,
       "version_minor": 0
      },
      "text/plain": [
       "Validation: |          | 0/? [00:00<?, ?it/s]"
      ]
     },
     "metadata": {},
     "output_type": "display_data"
    },
    {
     "data": {
      "application/vnd.jupyter.widget-view+json": {
       "model_id": "50df9cd1a119400cac0d16048d9ee780",
       "version_major": 2,
       "version_minor": 0
      },
      "text/plain": [
       "Validation: |          | 0/? [00:00<?, ?it/s]"
      ]
     },
     "metadata": {},
     "output_type": "display_data"
    },
    {
     "data": {
      "application/vnd.jupyter.widget-view+json": {
       "model_id": "78d54875ac7948c59ea6ec2d4b364c0a",
       "version_major": 2,
       "version_minor": 0
      },
      "text/plain": [
       "Validation: |          | 0/? [00:00<?, ?it/s]"
      ]
     },
     "metadata": {},
     "output_type": "display_data"
    },
    {
     "data": {
      "application/vnd.jupyter.widget-view+json": {
       "model_id": "ae480dc9f7a344b6a2909b78f85cf6f4",
       "version_major": 2,
       "version_minor": 0
      },
      "text/plain": [
       "Validation: |          | 0/? [00:00<?, ?it/s]"
      ]
     },
     "metadata": {},
     "output_type": "display_data"
    }
   ],
   "source": [
    "do_training = True\n",
    "\n",
    "neuron_num = 128\n",
    "hid_layer_num = 5\n",
    "\n",
    "# Instantiate the model and trainer or load from checkpoint:\n",
    "pinn_model = ADPINN(c_layers=[4] + [neuron_num for _ in range(hid_layer_num)] + [1],\n",
    "    u_layers=[3] + [neuron_num for _ in range(hid_layer_num)] + [3],\n",
    "    learning_rate=1e-3,\n",
    "    incompressible=False)\n",
    "\n",
    "# pinn_model = ADPINN.load_from_checkpoint(\n",
    "#     \"data/adpinn_32_20-52_20250926.pth\",\n",
    "#     c_layers=[4] + [neuron_num for _ in range(hid_layer_num)] + [1],\n",
    "#     u_layers=[3] + [neuron_num for _ in range(hid_layer_num)] + [3],\n",
    "#     learning_rate=1e-3,\n",
    "#     incompressible=False,\n",
    "# )\n",
    "\n",
    "logger = TensorBoardLogger(\"tb_logs\", name=\"naive_ADPINN\")\n",
    "\n",
    "\n",
    "if do_training:\n",
    "    trainer = Trainer(max_epochs=10_000, log_every_n_steps=3, logger=logger)\n",
    "\n",
    "    # Train the model\n",
    "\n",
    "    trainer.fit(pinn_model, dataset)\n",
    "\n",
    "# After training, visualize the learned velocity field and diffusivity\n",
    "\n",
    "# Extract learned parameters\n",
    "\n",
    "D_learned = pinn_model.D.item()\n",
    "\n",
    "print(f\"Learned diffusivity D: {D_learned}\")"
   ]
  },
  {
   "cell_type": "code",
   "execution_count": null,
   "id": "548a78ab",
   "metadata": {},
   "outputs": [],
   "source": [
    "from datetime import datetime\n",
    "# save the checkpoint of model for further usage\n",
    "if do_training:\n",
    "    trainer.save_checkpoint(f\"data/adpinn_{data.shape[0]}_{int(t[0])}-{int(t[-1])}_l{hid_layer_num}_n{neuron_num}_{datetime.now().strftime('%Y%m%d')}.pth\")"
   ]
  },
  {
   "cell_type": "code",
   "execution_count": null,
   "id": "9d1104b0",
   "metadata": {},
   "outputs": [
    {
     "name": "stdout",
     "output_type": "stream",
     "text": [
      "torch.Size([40960, 3])\n"
     ]
    }
   ],
   "source": [
    "\n",
    "# 1. Extract learned velocity field on a grid for visualization\n",
    "pinn_model.to(device)\n",
    "\n",
    "# use a grid (from real to characteristic) to extract velocity field\n",
    "# Create a grid in normalized coordinates\n",
    "nx, ny, nz = data.shape[0], data.shape[1], data.shape[2]\n",
    "# to characteristic units first.\n",
    "grid_tensor = dataset.get_characteristic_geodomain()  # only need spatial part\n",
    "print(grid_tensor.shape)\n",
    "# directly using 3D matplotlib to visualize the quiver\n",
    "with torch.no_grad():\n",
    "    vx, vy, vz = pinn_model.v_model(grid_tensor)\n",
    "    \n",
    "    vx = vx.cpu().numpy().reshape((nx, ny, nz))\n",
    "    vy = vy.cpu().numpy().reshape((nx, ny, nz))\n",
    "    vz = vz.cpu().numpy().reshape((nx, ny, nz))\n",
    "# Scale velocity back to physical units\n",
    "vx *= dataset.L_star[0] / dataset.T_star\n",
    "vy *= dataset.L_star[1] / dataset.T_star\n",
    "vz *= dataset.L_star[2] / dataset.T_star"
   ]
  },
  {
   "cell_type": "code",
   "execution_count": null,
   "id": "7fe5a3ba",
   "metadata": {},
   "outputs": [
    {
     "name": "stdout",
     "output_type": "stream",
     "text": [
      "[0.5 0.5 0.5]\n"
     ]
    },
    {
     "data": {
      "application/vnd.jupyter.widget-view+json": {
       "model_id": "c430ea9fc0244dd4946b5eb3159e8455",
       "version_major": 2,
       "version_minor": 0
      },
      "text/plain": [
       "interactive(children=(IntSlider(value=3, description='Stride', max=10, min=1), IntSlider(value=25, description…"
      ]
     },
     "metadata": {},
     "output_type": "display_data"
    }
   ],
   "source": [
    "%matplotlib widget\n",
    "\n",
    "from visualize import draw_3d_quiver, interactive_quiver\n",
    "# draw_3d_quiver(X, Y, Z, vx, vy, vz, stride=4)\n",
    "# using mask to filter out the background vectors\n",
    "\n",
    "# get rid of background vectors by mask\n",
    "vx = vx * mask\n",
    "vy = vy * mask\n",
    "vz = vz * mask\n",
    "print(pixdim)\n",
    "_ = interactive_quiver(vx, vy, vz, pixdim)\n"
   ]
  },
  {
   "cell_type": "code",
   "execution_count": null,
   "id": "f4cb6f15",
   "metadata": {},
   "outputs": [
    {
     "name": "stdout",
     "output_type": "stream",
     "text": [
      "torch.Size([368640, 4])\n",
      "Pred shape: (32, 40, 32, 9) True shape: (32, 40, 32, 9)\n"
     ]
    },
    {
     "data": {
      "application/vnd.jupyter.widget-view+json": {
       "model_id": "95def96817e44eeba2777670c73b7693",
       "version_major": 2,
       "version_minor": 0
      },
      "text/plain": [
       "VBox(children=(HBox(children=(IntSlider(value=0, description='Time', max=8), IntSlider(value=16, description='…"
      ]
     },
     "metadata": {},
     "output_type": "display_data"
    },
    {
     "name": "stdout",
     "output_type": "stream",
     "text": [
      "Overall MSE: 75.00911712646484\n"
     ]
    },
    {
     "data": {
      "application/vnd.jupyter.widget-view+json": {
       "model_id": "bfa033b0ea794235b16c8347922f2fd0",
       "version_major": 2,
       "version_minor": 0
      },
      "image/png": "[encoded data removed]",
      "text/html": [
       "\n",
       "            <div style=\"display: inline-block;\">\n",
       "                <div class=\"jupyter-widgets widget-label\" style=\"text-align: center;\">\n",
       "                    Figure\n",
       "                </div>\n",
       "                <img src='data:image/png;base64,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' width=500.0/>\n",
       "            </div>\n",
       "        "
      ],
      "text/plain": [
       "Canvas(toolbar=Toolbar(toolitems=[('Home', 'Reset original view', 'home', 'home'), ('Back', 'Back to previous …"
      ]
     },
     "metadata": {},
     "output_type": "display_data"
    }
   ],
   "source": [
    "# 2. Extract all density field with x,y,z,t 4D grid for visualization\n",
    "\n",
    "grid_tensor_4d = dataset.get_characteristic_geotimedomain()  # include time part\n",
    "print(grid_tensor_4d.shape)\n",
    "def predict_concentration_4d(model, pts4, nx, ny, nz, nt, batch_size=200_000):\n",
    "    out_list = []\n",
    "    with torch.no_grad():\n",
    "        for i in range(0, pts4.shape[0], batch_size):\n",
    "            chunk = pts4[i:i+batch_size]\n",
    "            pred = model.c_net(chunk)\n",
    "            out_list.append(pred.cpu())\n",
    "    C_flat = dataset.points_to_geotimedomain(pts4.cpu().numpy(), torch.cat(out_list, dim=0).numpy())\n",
    "    # C_flat = torch.cat(out_list, dim=0).numpy().reshape(nx, ny, nz, nt)\n",
    "    return C_flat\n",
    "\n",
    "C_pred_4d = predict_concentration_4d(pinn_model, grid_tensor_4d, nx, ny, nz, len(t), batch_size=200_000)\n",
    "\n",
    "# Back to physical units\n",
    "C_pred_4d *= dataset.C_star\n",
    "\n",
    "print(\"Pred shape:\", C_pred_4d.shape, \"True shape:\", data.shape)  # (nx, ny, nz, nt)\n",
    "\n",
    "from visualize import draw_nifti_slices_with_time\n",
    "_ = draw_nifti_slices_with_time(C_pred_4d)\n",
    "# try calculate loss with true data\n",
    "from sklearn.metrics import mean_squared_error\n",
    "mse_overall = mean_squared_error(data.flatten(), C_pred_4d.flatten())\n",
    "\n",
    "print(f\"Overall MSE: {mse_overall}\")"
   ]
  }
 ],
 "metadata": {
  "kernelspec": {
   "display_name": "AI",
   "language": "python",
   "name": "python3"
  },
  "language_info": {
   "codemirror_mode": {
    "name": "ipython",
    "version": 3
   },
   "file_extension": ".py",
   "mimetype": "text/x-python",
   "name": "python",
   "nbconvert_exporter": "python",
   "pygments_lexer": "ipython3",
   "version": "3.10.14"
  }
 },
 "nbformat": 4,
 "nbformat_minor": 5
}
