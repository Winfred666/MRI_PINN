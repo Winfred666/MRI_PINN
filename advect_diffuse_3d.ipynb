{
 "cells": [
  {
   "cell_type": "markdown",
   "id": "1f3278e3",
   "metadata": {},
   "source": [
    "### advect_diffuse_3d\n",
    "\n",
    "Use the down sample version of .nii MRI data, hope for a good interpolation. We mostly use DeepXDE to build research-grade PINN, with several optimization module, which is enough for DCE-MRI task."
   ]
  },
  {
   "cell_type": "markdown",
   "id": "fa6b28a8",
   "metadata": {},
   "source": [
    "0. parameter adjust"
   ]
  },
  {
   "cell_type": "code",
   "execution_count": null,
   "id": "be6b9f8f",
   "metadata": {},
   "outputs": [],
   "source": [
    "do_training = True\n",
    "# if do not training, please provide pth path to load.\n",
    "# ckpt_path = \"data/adpinn_pde_v_32_20-52_l8_n128_20250930.pth\"\n",
    "\n",
    "continue_training = True\n",
    "# if continue training, please provide ckpt path to load.\n",
    "ckpt_path = \"tb_logs/seqtrain_ADPINN/version_7/checkpoints/epoch=1280-step=1281.ckpt\"\n",
    "\n",
    "neuron_num = 256\n",
    "hid_layer_num = 6\n",
    "\n",
    "positional_encode_nums = (12, 12, 12, 0)  # (x,y,z,t)\n",
    "position_encode_freq_scale = 1.0\n",
    "\n",
    "# define ordered phases explicitly\n",
    "phase_order = [\"init_c\", \"init_v\", \"pde_v\" ,\"joint\"]\n",
    "\n",
    "train_setting = {\n",
    "    # \"init_c\":{\n",
    "    #     \"learning_rate\": 1e-3,\n",
    "    #     \"max_epochs\": 1000,\n",
    "    # },\n",
    "    # \"init_v\":{\n",
    "    #     \"learning_rate\": 1e-3,\n",
    "    #     \"max_epochs\": 1000,\n",
    "    # },\n",
    "    \"pde_v\":{\n",
    "        \"learning_rate\": 1e-4,\n",
    "        \"max_epochs\": 2000,\n",
    "        \"batch_size\": 40_000,\n",
    "    },\n",
    "    # \"joint\":{\n",
    "    #     \"learning_rate\": 1e-5,\n",
    "    #     \"max_epochs\": 2000,\n",
    "    # }\n",
    "}\n"
   ]
  },
  {
   "cell_type": "markdown",
   "id": "707e4cbe",
   "metadata": {},
   "source": [
    "1. Data preparation"
   ]
  },
  {
   "cell_type": "code",
   "execution_count": null,
   "id": "b92874a8",
   "metadata": {},
   "outputs": [],
   "source": [
    "import numpy as np\n",
    "import matplotlib.pyplot as plt\n",
    "import torch\n",
    "\n",
    "torch.set_float32_matmul_precision('medium')\n",
    "\n",
    "import torch.nn as nn\n",
    "import lightning as L\n",
    "from lightning.pytorch import Trainer\n",
    "from lightning.pytorch.loggers import TensorBoardLogger\n",
    "\n",
    "from modules.ad_net import AD_Net\n",
    "from datetime import datetime\n",
    "from modules.data_module import CharacteristicDomain, DCEMRIDataModule, VelocityDataModule\n",
    "from utils.visualize import visualize_prediction_vs_groundtruth, draw_nifti_slices_with_time, draw_nifti_slices_with_threshold\n",
    "from utils.io import load_dcemri_data, save_velocity_mat, load_DTI\n",
    "%matplotlib widget\n",
    "%load_ext autoreload\n",
    "%autoreload 2\n"
   ]
  },
  {
   "cell_type": "code",
   "execution_count": 3,
   "id": "891b0a39",
   "metadata": {},
   "outputs": [
    {
     "name": "stdout",
     "output_type": "stream",
     "text": [
      "data_shape:  (51, 64, 51, 18) pixdim:  [0.3125 0.3125 0.3125]\n",
      "domain_shape:  (51,) (64,) (51,) (18,)\n",
      "min_c:  0.0 max_c:  518.96185\n",
      "L_star:  [7.8125  9.84375 7.8125 ] T_star:  34.0 Pe_g:  21197.94858047385\n"
     ]
    }
   ],
   "source": [
    "\n",
    "data,mask,pixdim,x,y,z,t = load_dcemri_data(\"data/dataset_downsampled.npz\")\n",
    "\n",
    "# Also need to transform anisotropic diffusivity if needed here.\n",
    "device = torch.device(\"cuda\" if torch.cuda.is_available() else \"cpu\")\n",
    "\n",
    "char_domain = CharacteristicDomain(data.shape, t, pixdim, device)\n",
    "\n",
    "print(\"L_star: \",char_domain.L_star, \"T_star: \", char_domain.T_star ,\n",
    "      \"Pe_g: \", char_domain.Pe_g)\n",
    "# batch_size is sum over data's point\n",
    "c_dataset = DCEMRIDataModule(data, char_domain, mask, \n",
    "                           batch_size=int(mask.sum()*len(t)), device=device)"
   ]
  },
  {
   "cell_type": "code",
   "execution_count": 4,
   "id": "d0fb5765",
   "metadata": {},
   "outputs": [
    {
     "name": "stdout",
     "output_type": "stream",
     "text": [
      "Original DTI shape:  (128, 160, 128, 3, 3)\n",
      "Resized DTI shape:  (51, 64, 51, 3, 3)\n",
      "DTI_MD min:  0.0018162270727720652 DTI_MD max:  0.07596498740581302 DTI_MD mean:  0.020034078335411713\n"
     ]
    }
   ],
   "source": [
    "DTI_tensor,DTI_MD = load_DTI(char_domain, \"data/DCE_nii_data/dti_tensor_3_3.mat\", data.shape[:3])"
   ]
  },
  {
   "cell_type": "code",
   "execution_count": 5,
   "id": "622bf29b",
   "metadata": {},
   "outputs": [
    {
     "name": "stdout",
     "output_type": "stream",
     "text": [
      "Volume shape: (51, 64, 51) dtype: float64\n"
     ]
    },
    {
     "data": {
      "application/vnd.jupyter.widget-view+json": {
       "model_id": "08614438f650436a90c3943eb0fdca55",
       "version_major": 2,
       "version_minor": 0
      },
      "text/plain": [
       "interactive(children=(IntSlider(value=25, description='z', max=50), FloatSlider(value=0.5, description='thr', …"
      ]
     },
     "metadata": {},
     "output_type": "display_data"
    }
   ],
   "source": [
    "# unit of DTI is mm^2/s, need to transform to mm^2/min, then characteristic unit\n",
    "draw_nifti_slices_with_threshold(DTI_MD, brain_mask=mask)"
   ]
  },
  {
   "cell_type": "code",
   "execution_count": 6,
   "id": "3a81e2fb",
   "metadata": {},
   "outputs": [
    {
     "name": "stdout",
     "output_type": "stream",
     "text": [
      "velocity max and min:  1.882027340871384 0.0\n",
      "Volume shape: (51, 64, 51) dtype: float64\n"
     ]
    },
    {
     "data": {
      "application/vnd.jupyter.widget-view+json": {
       "model_id": "6857ebb270e34c869beaa1b6d9b0304e",
       "version_major": 2,
       "version_minor": 0
      },
      "text/plain": [
       "interactive(children=(IntSlider(value=25, description='z', max=50), FloatSlider(value=0.5, description='thr', …"
      ]
     },
     "metadata": {},
     "output_type": "display_data"
    }
   ],
   "source": [
    "# use front-tracking to get initial velocity field.\n",
    "from utils.front_tracking import front_tracking_velocity\n",
    "# shape (nx, ny, nz, 3), only use half of the timestep to training, consistant with c_dataset\n",
    "\n",
    "initial_velocity_field = front_tracking_velocity(data[:,:,:,::2], \n",
    "                                                 dt=t[2] - t[0])\n",
    "# scaling using V_star\n",
    "initial_velocity_field /= char_domain.V_star\n",
    "# draw initial velocity magnitude\n",
    "vel_mag = np.linalg.norm(initial_velocity_field, axis=-1)\n",
    "\n",
    "# print(pixdim, char_domain.domain_shape, char_domain.L_star, char_domain.T_star, char_domain.V_star)\n",
    "print(\"velocity max and min: \", vel_mag.max(), vel_mag.min())\n",
    "\n",
    "draw_nifti_slices_with_threshold(vel_mag)\n",
    "\n",
    "v_dataset = VelocityDataModule(initial_velocity_field, char_domain, mask, \n",
    "                              batch_size=int(mask.sum()), device=device)"
   ]
  },
  {
   "cell_type": "markdown",
   "id": "9d0d580f",
   "metadata": {},
   "source": [
    "2. Network definition\n",
    "\n",
    "Here only define a base advect-diffuse PINN that learn the whole, it is reported in [J. D. Toscano et al. 2025](https://doi.org/10.1101/2025.07.30.667741) , that pure AD instead of Darcy's law cannot capture bimodal velocity distribution. \n",
    "\n",
    "This version has two variants:\n",
    "1. simply using FNN to produce velocity field, without any pruning on solution space.\n",
    "2. physics constrained divergence-free to the \n"
   ]
  },
  {
   "cell_type": "code",
   "execution_count": null,
   "id": "cc858289",
   "metadata": {},
   "outputs": [],
   "source": [
    "class ADPINN_Base(L.LightningModule):\n",
    "    def __init__(self, ad_net: AD_Net, learning_rate=1e-3):\n",
    "        super().__init__()\n",
    "        self.save_hyperparameters({\"learning_rate\": learning_rate})\n",
    "\n",
    "        self.L2_loss = nn.MSELoss()\n",
    "\n",
    "        self.ad_net = ad_net\n",
    "        self.c_net = ad_net.c_net\n",
    "        self.v_net = ad_net.v_net\n",
    "        \n",
    "        self.learning_rate = learning_rate\n",
    "        \n",
    "        # slice domain for visualization\n",
    "        self.val_slice_z = [data.shape[2]//2 - 4, data.shape[2]//2, data.shape[2]//2 + 4]\n",
    "        base_t = data.shape[3]//4 * 2\n",
    "        self.val_slice_t = [base_t - 6, base_t - 3 ,base_t, base_t + 3]\n",
    "        self.val_slice_4d = char_domain.get_characteristic_geotimedomain(slice_zindex = self.val_slice_z, \n",
    "                                                                       slice_tindex = self.val_slice_t)\n",
    "        Z,T = np.meshgrid(self.val_slice_z, self.val_slice_t, indexing='ij')\n",
    "        self.val_slice_gt_c = data[:, :, Z, T] / c_dataset.C_star # simulate the dataset process\n",
    "        # print(self.val_slice_gt_c.shape)\n",
    "    \n",
    "    \n",
    "    def configure_optimizers(self):\n",
    "        params = [p for p in self.parameters() if p.requires_grad]\n",
    "        optimizer = torch.optim.AdamW(params, lr=self.learning_rate, weight_decay=1e-6)\n",
    "        return optimizer\n",
    "    \n",
    "    def validation_step(self, batch, batch_idx):\n",
    "        x, C_true = batch\n",
    "        C_pred = self.c_net(x)\n",
    "        mse_data = self.L2_loss(C_pred, C_true)\n",
    "        \n",
    "        # also slice c map of mid time + mid z when validation\n",
    "        if batch_idx == 0:\n",
    "            self.log('val_data_loss', mse_data)\n",
    "            if self.current_epoch % 50 == 0:\n",
    "                c_vis_list = self.draw_concentration_slices()\n",
    "                self.logger.experiment.add_image('val_C_compare', c_vis_list, self.current_epoch, dataformats='WH')\n",
    "                v_vis_list = self.draw_velocity_slices()\n",
    "                self.logger.experiment.add_image('train_v_mag_slice', v_vis_list, self.current_epoch, dataformats='WH')\n",
    "        return mse_data\n",
    "    \n",
    "    def draw_concentration_slices(self,):\n",
    "        with torch.no_grad():\n",
    "            vol_disp_all = self.c_net(self.val_slice_4d).cpu().numpy().reshape(\n",
    "                data.shape[0], data.shape[1], len(self.val_slice_z), len(self.val_slice_t))\n",
    "            # self.logger.experiment.add_image('val_C_slice', vol_disp, self.current_epoch, dataformats='HW')\n",
    "            # scale of vol_disp will done inside visualize function\n",
    "            c_vis_list = []\n",
    "            for i in range(len(self.val_slice_z)):\n",
    "                for j in range(len(self.val_slice_t)):\n",
    "                    slice_gt_c = self.val_slice_gt_c[:, :, i, j]\n",
    "                    vol_disp = vol_disp_all[:, :, i, j]\n",
    "                    vol_disp *= mask[:,:,self.val_slice_z[i]]  # mask out of brain region\n",
    "                    c_vis_list.append(visualize_prediction_vs_groundtruth(vol_disp, slice_gt_c))\n",
    "            # stack all images horizontally (along H direction)\n",
    "            return np.hstack(c_vis_list)\n",
    "            \n",
    "    def draw_velocity_slices(self):\n",
    "        with torch.no_grad():\n",
    "            vx_img, vy_img, vz_img = self.v_net(self.val_slice_4d)\n",
    "            vx_img = vx_img.cpu().numpy().reshape(data.shape[0], data.shape[1], len(self.val_slice_z), len(self.val_slice_t))\n",
    "            vy_img = vy_img.cpu().numpy().reshape(data.shape[0], data.shape[1], len(self.val_slice_z), len(self.val_slice_t))\n",
    "            vz_img = vz_img.cpu().numpy().reshape(data.shape[0], data.shape[1], len(self.val_slice_z), len(self.val_slice_t))\n",
    "            v_vis_list = []\n",
    "            for i in range(len(self.val_slice_z)):\n",
    "                vx = vx_img[:, :, i, 0]\n",
    "                vy = vy_img[:, :, i, 0]\n",
    "                vz = vz_img[:, :, i, 0]\n",
    "                v_mag = np.sqrt(vx**2 + vy**2 + vz**2) * mask[:,:,self.val_slice_z[i]]  # mask out of brain region\n",
    "                v_vis_list.append(v_mag)\n",
    "            v_vis_list = np.hstack(v_vis_list)\n",
    "            # scale to [0,1] for visualization\n",
    "            v_vis_list = (v_vis_list - v_vis_list.min()) / (v_vis_list.max() - v_vis_list.min() + 1e-8)\n",
    "            return v_vis_list\n"
   ]
  },
  {
   "cell_type": "code",
   "execution_count": 8,
   "id": "1b4303f8",
   "metadata": {},
   "outputs": [],
   "source": [
    "# Training variant 1: init C_Net\n",
    "class ADPINN_InitC(ADPINN_Base):\n",
    "    def training_step(self, batch, batch_idx):\n",
    "        x, C_true = batch\n",
    "        C_pred = self.c_net(x)\n",
    "        # add weight curriculumly, according to C_true (0-100) value\n",
    "\n",
    "        weight = 1.0 + 0.09 * C_true.float() # give more weight to high concentration region\n",
    "        mse_data = (weight * (C_pred - C_true) ** 2).mean()\n",
    "        loss = mse_data\n",
    "        if batch_idx == 0:\n",
    "            self.log('train_c_init_data_loss', mse_data)\n",
    "        return loss\n",
    "\n",
    "# Training varient 2: init V_Net (need heuristic estimate)\n",
    "class ADPINN_InitV(ADPINN_Base):\n",
    "    def training_step(self, batch_v, batch_idx):\n",
    "        x, v_true = batch_v # still x shaped (N, 4), v_true shaped (N, 3)\n",
    "        vx,vy,vz = self.v_net(x)\n",
    "        vx = vx.view(vx.shape[0], -1) # (N, 1) -> (N, )\n",
    "        vy = vy.view(vy.shape[0], -1)\n",
    "        vz = vz.view(vz.shape[0], -1)\n",
    "        v_pred = torch.cat([vx, vy, vz], dim=1) # (N, 3)\n",
    "\n",
    "        mse_data = self.L2_loss(v_pred, v_true)\n",
    "\n",
    "        if batch_idx == 0:\n",
    "            self.log('train_v_init_loss', mse_data)\n",
    "            if self.current_epoch % 50 == 0:\n",
    "                self.draw_velocity_slices()\n",
    "        return mse_data\n",
    "\n",
    "# only optimize v + D, using advect-diffuse.\n",
    "class ADPINN_PDE_V(ADPINN_Base):\n",
    "    def __init__(self, ad_net, learning_rate=1e-3):\n",
    "        super().__init__(ad_net, learning_rate)\n",
    "        # freeze c_net\n",
    "        for param in self.c_net.parameters():\n",
    "            param.requires_grad = False\n",
    "        self.c_net.eval()\n",
    "        \n",
    "    # TODO: here to batch could use smart sampling.\n",
    "    def training_step(self, batch, batch_idx):\n",
    "        x, _ = batch\n",
    "        # PDE loss\n",
    "        pde_residual = self.ad_net.pde_residual(x)\n",
    "        mse_pde = self.L2_loss(pde_residual, torch.zeros_like(pde_residual))\n",
    "        \n",
    "        loss = mse_pde\n",
    "        \n",
    "        if batch_idx == 0:\n",
    "            self.log('pde_v_residual', mse_pde)\n",
    "            self.log('pde_v_D', self.ad_net.D.item())\n",
    "        return loss\n",
    "\n",
    "# joint optimize c + v + D, using advect-diffuse\n",
    "class ADPINN_Joint(ADPINN_Base):\n",
    "    def training_step(self, batch, batch_idx):\n",
    "        x, C_true = batch\n",
    "        C_pred = self.c_net(x)\n",
    "        mse_data = self.L2_loss(C_pred, C_true)\n",
    "        \n",
    "        # PDE loss\n",
    "        pde_residual = self.ad_net.pde_residual(x)\n",
    "        mse_pde = self.L2_loss(pde_residual, torch.zeros_like(pde_residual))\n",
    "        loss = mse_data + 10.0 * mse_pde\n",
    "\n",
    "        if batch_idx == 0:\n",
    "            self.log('joint_data_loss', mse_data)\n",
    "            self.log('joint_pde_loss', mse_pde)\n",
    "            self.log('joint_D', self.ad_net.D.item())\n",
    "        \n",
    "        return loss"
   ]
  },
  {
   "cell_type": "markdown",
   "id": "79a2035e",
   "metadata": {},
   "source": [
    "3. Training step\n",
    "\n",
    "- first we has initializaiton for c and v net\n",
    "- then pde loss for only v net\n",
    "- finally joint optimization."
   ]
  },
  {
   "cell_type": "code",
   "execution_count": null,
   "id": "16edc20d",
   "metadata": {},
   "outputs": [
    {
     "name": "stderr",
     "output_type": "stream",
     "text": [
      "💡 Tip: For seamless cloud uploads and versioning, try installing [litmodels](https://pypi.org/project/litmodels/) to enable LitModelCheckpoint, which syncs automatically with the Lightning model registry.\n",
      "GPU available: True (cuda), used: True\n",
      "TPU available: False, using: 0 TPU cores\n",
      "HPU available: False, using: 0 HPUs\n",
      "You are using a CUDA device ('NVIDIA GeForce RTX 3050 Laptop GPU') that has Tensor Cores. To properly utilize them, you should set `torch.set_float32_matmul_precision('medium' | 'high')` which will trade-off precision for performance. For more details, read https://pytorch.org/docs/stable/generated/torch.set_float32_matmul_precision.html#torch.set_float32_matmul_precision\n",
      "LOCAL_RANK: 0 - CUDA_VISIBLE_DEVICES: [0]\n",
      "\n",
      "  | Name    | Type    | Params | Mode \n",
      "--------------------------------------------\n",
      "0 | L2_loss | MSELoss | 0      | train\n",
      "1 | ad_net  | AD_Net  | 698 K  | train\n",
      "2 | c_net   | C_Net   | 348 K  | eval \n",
      "3 | v_net   | V_Net   | 349 K  | train\n",
      "--------------------------------------------\n",
      "349 K     Trainable params\n",
      "348 K     Non-trainable params\n",
      "698 K     Total params\n",
      "2.792     Total estimated model params size (MB)\n",
      "18        Modules in train mode\n",
      "16        Modules in eval mode\n"
     ]
    },
    {
     "data": {
      "application/vnd.jupyter.widget-view+json": {
       "model_id": "fc6fa7ef78f44b959044226d4d5b81eb",
       "version_major": 2,
       "version_minor": 0
      },
      "text/plain": [
       "Sanity Checking: |          | 0/? [00:00<?, ?it/s]"
      ]
     },
     "metadata": {},
     "output_type": "display_data"
    },
    {
     "name": "stderr",
     "output_type": "stream",
     "text": [
      "w:\\bigTool\\Anaconda\\envs\\AI\\lib\\site-packages\\lightning\\pytorch\\trainer\\connectors\\data_connector.py:433: The 'val_dataloader' does not have many workers which may be a bottleneck. Consider increasing the value of the `num_workers` argument` to `num_workers=19` in the `DataLoader` to improve performance.\n",
      "w:\\bigTool\\Anaconda\\envs\\AI\\lib\\site-packages\\lightning\\pytorch\\trainer\\connectors\\data_connector.py:433: The 'train_dataloader' does not have many workers which may be a bottleneck. Consider increasing the value of the `num_workers` argument` to `num_workers=19` in the `DataLoader` to improve performance.\n",
      "w:\\bigTool\\Anaconda\\envs\\AI\\lib\\site-packages\\lightning\\pytorch\\loops\\fit_loop.py:527: Found 16 module(s) in eval mode at the start of training. This may lead to unexpected behavior during training. If this is intentional, you can ignore this warning.\n"
     ]
    },
    {
     "data": {
      "application/vnd.jupyter.widget-view+json": {
       "model_id": "4b44f0fd837f420aa5879f8eff30cf08",
       "version_major": 2,
       "version_minor": 0
      },
      "text/plain": [
       "Training: |          | 0/? [00:00<?, ?it/s]"
      ]
     },
     "metadata": {},
     "output_type": "display_data"
    },
    {
     "data": {
      "application/vnd.jupyter.widget-view+json": {
       "model_id": "add00167eb3a45fc9ba757f7dea04483",
       "version_major": 2,
       "version_minor": 0
      },
      "text/plain": [
       "Validation: |          | 0/? [00:00<?, ?it/s]"
      ]
     },
     "metadata": {},
     "output_type": "display_data"
    },
    {
     "data": {
      "application/vnd.jupyter.widget-view+json": {
       "model_id": "5ec35b82a0b84e6dac6076a581df0203",
       "version_major": 2,
       "version_minor": 0
      },
      "text/plain": [
       "Validation: |          | 0/? [00:00<?, ?it/s]"
      ]
     },
     "metadata": {},
     "output_type": "display_data"
    },
    {
     "data": {
      "application/vnd.jupyter.widget-view+json": {
       "model_id": "308e5f52f08745829c4da77941d90d64",
       "version_major": 2,
       "version_minor": 0
      },
      "text/plain": [
       "Validation: |          | 0/? [00:00<?, ?it/s]"
      ]
     },
     "metadata": {},
     "output_type": "display_data"
    },
    {
     "data": {
      "application/vnd.jupyter.widget-view+json": {
       "model_id": "7eb2f4f0e2e7432e8dd36d8b89122a02",
       "version_major": 2,
       "version_minor": 0
      },
      "text/plain": [
       "Validation: |          | 0/? [00:00<?, ?it/s]"
      ]
     },
     "metadata": {},
     "output_type": "display_data"
    },
    {
     "data": {
      "application/vnd.jupyter.widget-view+json": {
       "model_id": "274bb29b1eca4a89869b27db7374025c",
       "version_major": 2,
       "version_minor": 0
      },
      "text/plain": [
       "Validation: |          | 0/? [00:00<?, ?it/s]"
      ]
     },
     "metadata": {},
     "output_type": "display_data"
    },
    {
     "data": {
      "application/vnd.jupyter.widget-view+json": {
       "model_id": "f8d3ea072c904065b9da33452b3a9464",
       "version_major": 2,
       "version_minor": 0
      },
      "text/plain": [
       "Validation: |          | 0/? [00:00<?, ?it/s]"
      ]
     },
     "metadata": {},
     "output_type": "display_data"
    },
    {
     "data": {
      "application/vnd.jupyter.widget-view+json": {
       "model_id": "7d154af770244f34b77d8068ad00433a",
       "version_major": 2,
       "version_minor": 0
      },
      "text/plain": [
       "Validation: |          | 0/? [00:00<?, ?it/s]"
      ]
     },
     "metadata": {},
     "output_type": "display_data"
    },
    {
     "data": {
      "application/vnd.jupyter.widget-view+json": {
       "model_id": "fec1decffebd4eb89aee08b355c3f01a",
       "version_major": 2,
       "version_minor": 0
      },
      "text/plain": [
       "Validation: |          | 0/? [00:00<?, ?it/s]"
      ]
     },
     "metadata": {},
     "output_type": "display_data"
    },
    {
     "data": {
      "application/vnd.jupyter.widget-view+json": {
       "model_id": "03177dfe47dd4960b75acbb9c10b7cc6",
       "version_major": 2,
       "version_minor": 0
      },
      "text/plain": [
       "Validation: |          | 0/? [00:00<?, ?it/s]"
      ]
     },
     "metadata": {},
     "output_type": "display_data"
    },
    {
     "data": {
      "application/vnd.jupyter.widget-view+json": {
       "model_id": "6d55266197744d2e9af7fe49a7547c2b",
       "version_major": 2,
       "version_minor": 0
      },
      "text/plain": [
       "Validation: |          | 0/? [00:00<?, ?it/s]"
      ]
     },
     "metadata": {},
     "output_type": "display_data"
    },
    {
     "data": {
      "application/vnd.jupyter.widget-view+json": {
       "model_id": "b4401c73c35d470eaf929bb9b23cde30",
       "version_major": 2,
       "version_minor": 0
      },
      "text/plain": [
       "Validation: |          | 0/? [00:00<?, ?it/s]"
      ]
     },
     "metadata": {},
     "output_type": "display_data"
    },
    {
     "data": {
      "application/vnd.jupyter.widget-view+json": {
       "model_id": "36eb1a21d3ca4e97842e8d4e49deae39",
       "version_major": 2,
       "version_minor": 0
      },
      "text/plain": [
       "Validation: |          | 0/? [00:00<?, ?it/s]"
      ]
     },
     "metadata": {},
     "output_type": "display_data"
    },
    {
     "data": {
      "application/vnd.jupyter.widget-view+json": {
       "model_id": "e4bea557e5ed4c1f89f54f690a491792",
       "version_major": 2,
       "version_minor": 0
      },
      "text/plain": [
       "Validation: |          | 0/? [00:00<?, ?it/s]"
      ]
     },
     "metadata": {},
     "output_type": "display_data"
    },
    {
     "data": {
      "application/vnd.jupyter.widget-view+json": {
       "model_id": "bb78f1ea044f4d0b812f46088f9dca57",
       "version_major": 2,
       "version_minor": 0
      },
      "text/plain": [
       "Validation: |          | 0/? [00:00<?, ?it/s]"
      ]
     },
     "metadata": {},
     "output_type": "display_data"
    },
    {
     "data": {
      "application/vnd.jupyter.widget-view+json": {
       "model_id": "21a4b0c826eb49a0a657244dfc84be91",
       "version_major": 2,
       "version_minor": 0
      },
      "text/plain": [
       "Validation: |          | 0/? [00:00<?, ?it/s]"
      ]
     },
     "metadata": {},
     "output_type": "display_data"
    },
    {
     "data": {
      "application/vnd.jupyter.widget-view+json": {
       "model_id": "cc1cdebdd3c84ef1bb4ec7d0527c54f0",
       "version_major": 2,
       "version_minor": 0
      },
      "text/plain": [
       "Validation: |          | 0/? [00:00<?, ?it/s]"
      ]
     },
     "metadata": {},
     "output_type": "display_data"
    },
    {
     "data": {
      "application/vnd.jupyter.widget-view+json": {
       "model_id": "8c0746b54cb542f0807e13c872885403",
       "version_major": 2,
       "version_minor": 0
      },
      "text/plain": [
       "Validation: |          | 0/? [00:00<?, ?it/s]"
      ]
     },
     "metadata": {},
     "output_type": "display_data"
    },
    {
     "data": {
      "application/vnd.jupyter.widget-view+json": {
       "model_id": "3ef16a04152643aa8188f24c06150a73",
       "version_major": 2,
       "version_minor": 0
      },
      "text/plain": [
       "Validation: |          | 0/? [00:00<?, ?it/s]"
      ]
     },
     "metadata": {},
     "output_type": "display_data"
    },
    {
     "data": {
      "application/vnd.jupyter.widget-view+json": {
       "model_id": "1836db7dd2bd4161a4b3bffc4c4676bd",
       "version_major": 2,
       "version_minor": 0
      },
      "text/plain": [
       "Validation: |          | 0/? [00:00<?, ?it/s]"
      ]
     },
     "metadata": {},
     "output_type": "display_data"
    },
    {
     "data": {
      "application/vnd.jupyter.widget-view+json": {
       "model_id": "a3de74599f164843af1551911cccb051",
       "version_major": 2,
       "version_minor": 0
      },
      "text/plain": [
       "Validation: |          | 0/? [00:00<?, ?it/s]"
      ]
     },
     "metadata": {},
     "output_type": "display_data"
    },
    {
     "data": {
      "application/vnd.jupyter.widget-view+json": {
       "model_id": "9d7c5164fae846f4828cfda2d605e169",
       "version_major": 2,
       "version_minor": 0
      },
      "text/plain": [
       "Validation: |          | 0/? [00:00<?, ?it/s]"
      ]
     },
     "metadata": {},
     "output_type": "display_data"
    },
    {
     "data": {
      "application/vnd.jupyter.widget-view+json": {
       "model_id": "05b10fadb21e43519f00ec449002db06",
       "version_major": 2,
       "version_minor": 0
      },
      "text/plain": [
       "Validation: |          | 0/? [00:00<?, ?it/s]"
      ]
     },
     "metadata": {},
     "output_type": "display_data"
    },
    {
     "data": {
      "application/vnd.jupyter.widget-view+json": {
       "model_id": "7abdb823a4354075ac27e9dd8ff941e2",
       "version_major": 2,
       "version_minor": 0
      },
      "text/plain": [
       "Validation: |          | 0/? [00:00<?, ?it/s]"
      ]
     },
     "metadata": {},
     "output_type": "display_data"
    },
    {
     "data": {
      "application/vnd.jupyter.widget-view+json": {
       "model_id": "2fdf5c9ae7494b2aac64f968ca09e4c7",
       "version_major": 2,
       "version_minor": 0
      },
      "text/plain": [
       "Validation: |          | 0/? [00:00<?, ?it/s]"
      ]
     },
     "metadata": {},
     "output_type": "display_data"
    },
    {
     "data": {
      "application/vnd.jupyter.widget-view+json": {
       "model_id": "b38aa6fe1ec14587bee70cb3ac76821a",
       "version_major": 2,
       "version_minor": 0
      },
      "text/plain": [
       "Validation: |          | 0/? [00:00<?, ?it/s]"
      ]
     },
     "metadata": {},
     "output_type": "display_data"
    },
    {
     "data": {
      "application/vnd.jupyter.widget-view+json": {
       "model_id": "449becb59a3943739386b1b85b89a9ea",
       "version_major": 2,
       "version_minor": 0
      },
      "text/plain": [
       "Validation: |          | 0/? [00:00<?, ?it/s]"
      ]
     },
     "metadata": {},
     "output_type": "display_data"
    },
    {
     "data": {
      "application/vnd.jupyter.widget-view+json": {
       "model_id": "d37d625e677c4c0cb2300541067879be",
       "version_major": 2,
       "version_minor": 0
      },
      "text/plain": [
       "Validation: |          | 0/? [00:00<?, ?it/s]"
      ]
     },
     "metadata": {},
     "output_type": "display_data"
    },
    {
     "data": {
      "application/vnd.jupyter.widget-view+json": {
       "model_id": "ac86c998c6194fad943fd20c34ec5905",
       "version_major": 2,
       "version_minor": 0
      },
      "text/plain": [
       "Validation: |          | 0/? [00:00<?, ?it/s]"
      ]
     },
     "metadata": {},
     "output_type": "display_data"
    },
    {
     "data": {
      "application/vnd.jupyter.widget-view+json": {
       "model_id": "089429c8bdae4f88bca195d3533ddbb2",
       "version_major": 2,
       "version_minor": 0
      },
      "text/plain": [
       "Validation: |          | 0/? [00:00<?, ?it/s]"
      ]
     },
     "metadata": {},
     "output_type": "display_data"
    },
    {
     "data": {
      "application/vnd.jupyter.widget-view+json": {
       "model_id": "ceb9e72fd1fc4b2ca5c1a00d8984da15",
       "version_major": 2,
       "version_minor": 0
      },
      "text/plain": [
       "Validation: |          | 0/? [00:00<?, ?it/s]"
      ]
     },
     "metadata": {},
     "output_type": "display_data"
    },
    {
     "data": {
      "application/vnd.jupyter.widget-view+json": {
       "model_id": "846097c93a7d4b1591a8d766bd72e61a",
       "version_major": 2,
       "version_minor": 0
      },
      "text/plain": [
       "Validation: |          | 0/? [00:00<?, ?it/s]"
      ]
     },
     "metadata": {},
     "output_type": "display_data"
    },
    {
     "data": {
      "application/vnd.jupyter.widget-view+json": {
       "model_id": "f13dbe8d9a7d47348e1b59e45cd663b1",
       "version_major": 2,
       "version_minor": 0
      },
      "text/plain": [
       "Validation: |          | 0/? [00:00<?, ?it/s]"
      ]
     },
     "metadata": {},
     "output_type": "display_data"
    },
    {
     "data": {
      "application/vnd.jupyter.widget-view+json": {
       "model_id": "ce551d53989a497e8a39f2356255d535",
       "version_major": 2,
       "version_minor": 0
      },
      "text/plain": [
       "Validation: |          | 0/? [00:00<?, ?it/s]"
      ]
     },
     "metadata": {},
     "output_type": "display_data"
    },
    {
     "data": {
      "application/vnd.jupyter.widget-view+json": {
       "model_id": "cc60a46bac6f4e5bbed73a4292a300c1",
       "version_major": 2,
       "version_minor": 0
      },
      "text/plain": [
       "Validation: |          | 0/? [00:00<?, ?it/s]"
      ]
     },
     "metadata": {},
     "output_type": "display_data"
    },
    {
     "data": {
      "application/vnd.jupyter.widget-view+json": {
       "model_id": "bd4f801c93494ae9b9774d0cacd0eb06",
       "version_major": 2,
       "version_minor": 0
      },
      "text/plain": [
       "Validation: |          | 0/? [00:00<?, ?it/s]"
      ]
     },
     "metadata": {},
     "output_type": "display_data"
    },
    {
     "data": {
      "application/vnd.jupyter.widget-view+json": {
       "model_id": "cfdc748a56d14ac3a00cb63174229d8b",
       "version_major": 2,
       "version_minor": 0
      },
      "text/plain": [
       "Validation: |          | 0/? [00:00<?, ?it/s]"
      ]
     },
     "metadata": {},
     "output_type": "display_data"
    },
    {
     "data": {
      "application/vnd.jupyter.widget-view+json": {
       "model_id": "aebf5a1892a3482bbbd335bed4c803f8",
       "version_major": 2,
       "version_minor": 0
      },
      "text/plain": [
       "Validation: |          | 0/? [00:00<?, ?it/s]"
      ]
     },
     "metadata": {},
     "output_type": "display_data"
    },
    {
     "data": {
      "application/vnd.jupyter.widget-view+json": {
       "model_id": "0b13fca31a5847cc97d244bef3d7cea6",
       "version_major": 2,
       "version_minor": 0
      },
      "text/plain": [
       "Validation: |          | 0/? [00:00<?, ?it/s]"
      ]
     },
     "metadata": {},
     "output_type": "display_data"
    },
    {
     "data": {
      "application/vnd.jupyter.widget-view+json": {
       "model_id": "8af966f779c748249e0fcd42b7a3f8ba",
       "version_major": 2,
       "version_minor": 0
      },
      "text/plain": [
       "Validation: |          | 0/? [00:00<?, ?it/s]"
      ]
     },
     "metadata": {},
     "output_type": "display_data"
    },
    {
     "data": {
      "application/vnd.jupyter.widget-view+json": {
       "model_id": "f24459fcbd9844b5984557a1e7a368d9",
       "version_major": 2,
       "version_minor": 0
      },
      "text/plain": [
       "Validation: |          | 0/? [00:00<?, ?it/s]"
      ]
     },
     "metadata": {},
     "output_type": "display_data"
    },
    {
     "data": {
      "application/vnd.jupyter.widget-view+json": {
       "model_id": "12833b0bd6ca43b6a6ba10c66e9f3377",
       "version_major": 2,
       "version_minor": 0
      },
      "text/plain": [
       "Validation: |          | 0/? [00:00<?, ?it/s]"
      ]
     },
     "metadata": {},
     "output_type": "display_data"
    },
    {
     "data": {
      "application/vnd.jupyter.widget-view+json": {
       "model_id": "22e5b2c2a57b4b5196a48f06c8004b25",
       "version_major": 2,
       "version_minor": 0
      },
      "text/plain": [
       "Validation: |          | 0/? [00:00<?, ?it/s]"
      ]
     },
     "metadata": {},
     "output_type": "display_data"
    },
    {
     "data": {
      "application/vnd.jupyter.widget-view+json": {
       "model_id": "1826ae2a932d441da51a5839b2809636",
       "version_major": 2,
       "version_minor": 0
      },
      "text/plain": [
       "Validation: |          | 0/? [00:00<?, ?it/s]"
      ]
     },
     "metadata": {},
     "output_type": "display_data"
    },
    {
     "data": {
      "application/vnd.jupyter.widget-view+json": {
       "model_id": "88e7dd881e5a4984974600e1b26c425f",
       "version_major": 2,
       "version_minor": 0
      },
      "text/plain": [
       "Validation: |          | 0/? [00:00<?, ?it/s]"
      ]
     },
     "metadata": {},
     "output_type": "display_data"
    },
    {
     "data": {
      "application/vnd.jupyter.widget-view+json": {
       "model_id": "47d74995ba1c4d12ad193c087746b0a2",
       "version_major": 2,
       "version_minor": 0
      },
      "text/plain": [
       "Validation: |          | 0/? [00:00<?, ?it/s]"
      ]
     },
     "metadata": {},
     "output_type": "display_data"
    },
    {
     "data": {
      "application/vnd.jupyter.widget-view+json": {
       "model_id": "58a26ecb1ac14895aa643bf73a37a429",
       "version_major": 2,
       "version_minor": 0
      },
      "text/plain": [
       "Validation: |          | 0/? [00:00<?, ?it/s]"
      ]
     },
     "metadata": {},
     "output_type": "display_data"
    },
    {
     "data": {
      "application/vnd.jupyter.widget-view+json": {
       "model_id": "2863dddb2e4e494d82391e07263bcdac",
       "version_major": 2,
       "version_minor": 0
      },
      "text/plain": [
       "Validation: |          | 0/? [00:00<?, ?it/s]"
      ]
     },
     "metadata": {},
     "output_type": "display_data"
    },
    {
     "data": {
      "application/vnd.jupyter.widget-view+json": {
       "model_id": "3f3e98516d404885b3c1a7ef127fad77",
       "version_major": 2,
       "version_minor": 0
      },
      "text/plain": [
       "Validation: |          | 0/? [00:00<?, ?it/s]"
      ]
     },
     "metadata": {},
     "output_type": "display_data"
    },
    {
     "data": {
      "application/vnd.jupyter.widget-view+json": {
       "model_id": "6afbf7682a834a8eac6a20f69cd7f929",
       "version_major": 2,
       "version_minor": 0
      },
      "text/plain": [
       "Validation: |          | 0/? [00:00<?, ?it/s]"
      ]
     },
     "metadata": {},
     "output_type": "display_data"
    },
    {
     "data": {
      "application/vnd.jupyter.widget-view+json": {
       "model_id": "3fb887f37908482a99d71b46a2463b56",
       "version_major": 2,
       "version_minor": 0
      },
      "text/plain": [
       "Validation: |          | 0/? [00:00<?, ?it/s]"
      ]
     },
     "metadata": {},
     "output_type": "display_data"
    },
    {
     "data": {
      "application/vnd.jupyter.widget-view+json": {
       "model_id": "5c9e8f2dd8c24489a7f65655d00b5baf",
       "version_major": 2,
       "version_minor": 0
      },
      "text/plain": [
       "Validation: |          | 0/? [00:00<?, ?it/s]"
      ]
     },
     "metadata": {},
     "output_type": "display_data"
    },
    {
     "data": {
      "application/vnd.jupyter.widget-view+json": {
       "model_id": "da73a4179eee45499eca638a5457dee5",
       "version_major": 2,
       "version_minor": 0
      },
      "text/plain": [
       "Validation: |          | 0/? [00:00<?, ?it/s]"
      ]
     },
     "metadata": {},
     "output_type": "display_data"
    },
    {
     "data": {
      "application/vnd.jupyter.widget-view+json": {
       "model_id": "7bd7e9bff0db4ce0a125fe3f30b93ef0",
       "version_major": 2,
       "version_minor": 0
      },
      "text/plain": [
       "Validation: |          | 0/? [00:00<?, ?it/s]"
      ]
     },
     "metadata": {},
     "output_type": "display_data"
    },
    {
     "data": {
      "application/vnd.jupyter.widget-view+json": {
       "model_id": "313f6dee2ec14dc7a2b63c22b203dbf5",
       "version_major": 2,
       "version_minor": 0
      },
      "text/plain": [
       "Validation: |          | 0/? [00:00<?, ?it/s]"
      ]
     },
     "metadata": {},
     "output_type": "display_data"
    },
    {
     "data": {
      "application/vnd.jupyter.widget-view+json": {
       "model_id": "c913dbc5edbf4aa3bb723339238c5728",
       "version_major": 2,
       "version_minor": 0
      },
      "text/plain": [
       "Validation: |          | 0/? [00:00<?, ?it/s]"
      ]
     },
     "metadata": {},
     "output_type": "display_data"
    },
    {
     "data": {
      "application/vnd.jupyter.widget-view+json": {
       "model_id": "04bdbc8463794392b713885fee3db6d9",
       "version_major": 2,
       "version_minor": 0
      },
      "text/plain": [
       "Validation: |          | 0/? [00:00<?, ?it/s]"
      ]
     },
     "metadata": {},
     "output_type": "display_data"
    },
    {
     "data": {
      "application/vnd.jupyter.widget-view+json": {
       "model_id": "2d745842a7cf4279bf5b9c6b2d13c36e",
       "version_major": 2,
       "version_minor": 0
      },
      "text/plain": [
       "Validation: |          | 0/? [00:00<?, ?it/s]"
      ]
     },
     "metadata": {},
     "output_type": "display_data"
    },
    {
     "data": {
      "application/vnd.jupyter.widget-view+json": {
       "model_id": "124aef1ecad1473ca0b31a31e65e5fe2",
       "version_major": 2,
       "version_minor": 0
      },
      "text/plain": [
       "Validation: |          | 0/? [00:00<?, ?it/s]"
      ]
     },
     "metadata": {},
     "output_type": "display_data"
    },
    {
     "data": {
      "application/vnd.jupyter.widget-view+json": {
       "model_id": "02f3695f7998419296c2f079150968f2",
       "version_major": 2,
       "version_minor": 0
      },
      "text/plain": [
       "Validation: |          | 0/? [00:00<?, ?it/s]"
      ]
     },
     "metadata": {},
     "output_type": "display_data"
    },
    {
     "data": {
      "application/vnd.jupyter.widget-view+json": {
       "model_id": "9089c62502a442e39c0fb81147e89138",
       "version_major": 2,
       "version_minor": 0
      },
      "text/plain": [
       "Validation: |          | 0/? [00:00<?, ?it/s]"
      ]
     },
     "metadata": {},
     "output_type": "display_data"
    },
    {
     "data": {
      "application/vnd.jupyter.widget-view+json": {
       "model_id": "975110c161624cb99d0695d25f71bb8a",
       "version_major": 2,
       "version_minor": 0
      },
      "text/plain": [
       "Validation: |          | 0/? [00:00<?, ?it/s]"
      ]
     },
     "metadata": {},
     "output_type": "display_data"
    },
    {
     "data": {
      "application/vnd.jupyter.widget-view+json": {
       "model_id": "492aea9364264f0f98c44edb92ca2583",
       "version_major": 2,
       "version_minor": 0
      },
      "text/plain": [
       "Validation: |          | 0/? [00:00<?, ?it/s]"
      ]
     },
     "metadata": {},
     "output_type": "display_data"
    },
    {
     "data": {
      "application/vnd.jupyter.widget-view+json": {
       "model_id": "1d232219d09d4d0993adc6c5fbad9077",
       "version_major": 2,
       "version_minor": 0
      },
      "text/plain": [
       "Validation: |          | 0/? [00:00<?, ?it/s]"
      ]
     },
     "metadata": {},
     "output_type": "display_data"
    },
    {
     "data": {
      "application/vnd.jupyter.widget-view+json": {
       "model_id": "ab100ea2ea50459b81f86395591ca30d",
       "version_major": 2,
       "version_minor": 0
      },
      "text/plain": [
       "Validation: |          | 0/? [00:00<?, ?it/s]"
      ]
     },
     "metadata": {},
     "output_type": "display_data"
    },
    {
     "data": {
      "application/vnd.jupyter.widget-view+json": {
       "model_id": "8e9f2cb5e1fc485fa9b9de1c4171ffc5",
       "version_major": 2,
       "version_minor": 0
      },
      "text/plain": [
       "Validation: |          | 0/? [00:00<?, ?it/s]"
      ]
     },
     "metadata": {},
     "output_type": "display_data"
    },
    {
     "data": {
      "application/vnd.jupyter.widget-view+json": {
       "model_id": "99d4cd7fde9e44e8a8d5f5a68b023728",
       "version_major": 2,
       "version_minor": 0
      },
      "text/plain": [
       "Validation: |          | 0/? [00:00<?, ?it/s]"
      ]
     },
     "metadata": {},
     "output_type": "display_data"
    },
    {
     "data": {
      "application/vnd.jupyter.widget-view+json": {
       "model_id": "40ba8bf1b6884501b696a34675974e96",
       "version_major": 2,
       "version_minor": 0
      },
      "text/plain": [
       "Validation: |          | 0/? [00:00<?, ?it/s]"
      ]
     },
     "metadata": {},
     "output_type": "display_data"
    },
    {
     "data": {
      "application/vnd.jupyter.widget-view+json": {
       "model_id": "2b7f678da6364f858235b55a85b499b1",
       "version_major": 2,
       "version_minor": 0
      },
      "text/plain": [
       "Validation: |          | 0/? [00:00<?, ?it/s]"
      ]
     },
     "metadata": {},
     "output_type": "display_data"
    },
    {
     "data": {
      "application/vnd.jupyter.widget-view+json": {
       "model_id": "e95b9f0266ac4eda99ff7e53d4893392",
       "version_major": 2,
       "version_minor": 0
      },
      "text/plain": [
       "Validation: |          | 0/? [00:00<?, ?it/s]"
      ]
     },
     "metadata": {},
     "output_type": "display_data"
    },
    {
     "data": {
      "application/vnd.jupyter.widget-view+json": {
       "model_id": "dc0f7be84be045279558f185853ff2eb",
       "version_major": 2,
       "version_minor": 0
      },
      "text/plain": [
       "Validation: |          | 0/? [00:00<?, ?it/s]"
      ]
     },
     "metadata": {},
     "output_type": "display_data"
    },
    {
     "data": {
      "application/vnd.jupyter.widget-view+json": {
       "model_id": "7d183f6de49d41559b72c05923590647",
       "version_major": 2,
       "version_minor": 0
      },
      "text/plain": [
       "Validation: |          | 0/? [00:00<?, ?it/s]"
      ]
     },
     "metadata": {},
     "output_type": "display_data"
    },
    {
     "data": {
      "application/vnd.jupyter.widget-view+json": {
       "model_id": "f5f940be4b5c42ab9d38c4f179f43c3b",
       "version_major": 2,
       "version_minor": 0
      },
      "text/plain": [
       "Validation: |          | 0/? [00:00<?, ?it/s]"
      ]
     },
     "metadata": {},
     "output_type": "display_data"
    },
    {
     "data": {
      "application/vnd.jupyter.widget-view+json": {
       "model_id": "f87100adec7642fb8b112a9d5e2b9703",
       "version_major": 2,
       "version_minor": 0
      },
      "text/plain": [
       "Validation: |          | 0/? [00:00<?, ?it/s]"
      ]
     },
     "metadata": {},
     "output_type": "display_data"
    },
    {
     "data": {
      "application/vnd.jupyter.widget-view+json": {
       "model_id": "3781916fc6414b95b211484a09ae263a",
       "version_major": 2,
       "version_minor": 0
      },
      "text/plain": [
       "Validation: |          | 0/? [00:00<?, ?it/s]"
      ]
     },
     "metadata": {},
     "output_type": "display_data"
    },
    {
     "data": {
      "application/vnd.jupyter.widget-view+json": {
       "model_id": "e2e361427fc44578902c2e2aad3f5168",
       "version_major": 2,
       "version_minor": 0
      },
      "text/plain": [
       "Validation: |          | 0/? [00:00<?, ?it/s]"
      ]
     },
     "metadata": {},
     "output_type": "display_data"
    },
    {
     "data": {
      "application/vnd.jupyter.widget-view+json": {
       "model_id": "87cd125149094dc6b2fdfbf1df1cfe50",
       "version_major": 2,
       "version_minor": 0
      },
      "text/plain": [
       "Validation: |          | 0/? [00:00<?, ?it/s]"
      ]
     },
     "metadata": {},
     "output_type": "display_data"
    },
    {
     "data": {
      "application/vnd.jupyter.widget-view+json": {
       "model_id": "d9f7d96ab2954929af41ada497a03e2b",
       "version_major": 2,
       "version_minor": 0
      },
      "text/plain": [
       "Validation: |          | 0/? [00:00<?, ?it/s]"
      ]
     },
     "metadata": {},
     "output_type": "display_data"
    },
    {
     "data": {
      "application/vnd.jupyter.widget-view+json": {
       "model_id": "f7ed9c02d27147c3a3050922fb28631e",
       "version_major": 2,
       "version_minor": 0
      },
      "text/plain": [
       "Validation: |          | 0/? [00:00<?, ?it/s]"
      ]
     },
     "metadata": {},
     "output_type": "display_data"
    },
    {
     "data": {
      "application/vnd.jupyter.widget-view+json": {
       "model_id": "8956e610a40c4ec09f43e39d3f4d46cb",
       "version_major": 2,
       "version_minor": 0
      },
      "text/plain": [
       "Validation: |          | 0/? [00:00<?, ?it/s]"
      ]
     },
     "metadata": {},
     "output_type": "display_data"
    },
    {
     "data": {
      "application/vnd.jupyter.widget-view+json": {
       "model_id": "5e3cb06b707a48d5b950333d238d05c2",
       "version_major": 2,
       "version_minor": 0
      },
      "text/plain": [
       "Validation: |          | 0/? [00:00<?, ?it/s]"
      ]
     },
     "metadata": {},
     "output_type": "display_data"
    },
    {
     "data": {
      "application/vnd.jupyter.widget-view+json": {
       "model_id": "47a64899ba5b4055bbee68135d85f286",
       "version_major": 2,
       "version_minor": 0
      },
      "text/plain": [
       "Validation: |          | 0/? [00:00<?, ?it/s]"
      ]
     },
     "metadata": {},
     "output_type": "display_data"
    },
    {
     "data": {
      "application/vnd.jupyter.widget-view+json": {
       "model_id": "709088e4449441369241795a3ec91997",
       "version_major": 2,
       "version_minor": 0
      },
      "text/plain": [
       "Validation: |          | 0/? [00:00<?, ?it/s]"
      ]
     },
     "metadata": {},
     "output_type": "display_data"
    },
    {
     "data": {
      "application/vnd.jupyter.widget-view+json": {
       "model_id": "ec6d71fbdf40413591dd8b1b1ff23d58",
       "version_major": 2,
       "version_minor": 0
      },
      "text/plain": [
       "Validation: |          | 0/? [00:00<?, ?it/s]"
      ]
     },
     "metadata": {},
     "output_type": "display_data"
    },
    {
     "data": {
      "application/vnd.jupyter.widget-view+json": {
       "model_id": "bcb799923b484dec88df83d4d920437a",
       "version_major": 2,
       "version_minor": 0
      },
      "text/plain": [
       "Validation: |          | 0/? [00:00<?, ?it/s]"
      ]
     },
     "metadata": {},
     "output_type": "display_data"
    },
    {
     "data": {
      "application/vnd.jupyter.widget-view+json": {
       "model_id": "34bb0d4259234d8982ecb1002146c2b7",
       "version_major": 2,
       "version_minor": 0
      },
      "text/plain": [
       "Validation: |          | 0/? [00:00<?, ?it/s]"
      ]
     },
     "metadata": {},
     "output_type": "display_data"
    },
    {
     "data": {
      "application/vnd.jupyter.widget-view+json": {
       "model_id": "e6139c6b78bd4d2a9f8ce8ad50ca24ab",
       "version_major": 2,
       "version_minor": 0
      },
      "text/plain": [
       "Validation: |          | 0/? [00:00<?, ?it/s]"
      ]
     },
     "metadata": {},
     "output_type": "display_data"
    },
    {
     "data": {
      "application/vnd.jupyter.widget-view+json": {
       "model_id": "3a46022cfa674ba3b6e742d46ddaf84e",
       "version_major": 2,
       "version_minor": 0
      },
      "text/plain": [
       "Validation: |          | 0/? [00:00<?, ?it/s]"
      ]
     },
     "metadata": {},
     "output_type": "display_data"
    },
    {
     "data": {
      "application/vnd.jupyter.widget-view+json": {
       "model_id": "8b6c29e6924848b6b29d7f2226b3bd51",
       "version_major": 2,
       "version_minor": 0
      },
      "text/plain": [
       "Validation: |          | 0/? [00:00<?, ?it/s]"
      ]
     },
     "metadata": {},
     "output_type": "display_data"
    },
    {
     "data": {
      "application/vnd.jupyter.widget-view+json": {
       "model_id": "7a650610ef7a498fa066b1aedaab5529",
       "version_major": 2,
       "version_minor": 0
      },
      "text/plain": [
       "Validation: |          | 0/? [00:00<?, ?it/s]"
      ]
     },
     "metadata": {},
     "output_type": "display_data"
    },
    {
     "data": {
      "application/vnd.jupyter.widget-view+json": {
       "model_id": "14d0f8d0d2974a30b72230c8d6c8d5e2",
       "version_major": 2,
       "version_minor": 0
      },
      "text/plain": [
       "Validation: |          | 0/? [00:00<?, ?it/s]"
      ]
     },
     "metadata": {},
     "output_type": "display_data"
    },
    {
     "data": {
      "application/vnd.jupyter.widget-view+json": {
       "model_id": "82ce14c4d65f4455ab1f5e5ee594130b",
       "version_major": 2,
       "version_minor": 0
      },
      "text/plain": [
       "Validation: |          | 0/? [00:00<?, ?it/s]"
      ]
     },
     "metadata": {},
     "output_type": "display_data"
    },
    {
     "data": {
      "application/vnd.jupyter.widget-view+json": {
       "model_id": "4c3713e2d61d480e839208a53e375d6c",
       "version_major": 2,
       "version_minor": 0
      },
      "text/plain": [
       "Validation: |          | 0/? [00:00<?, ?it/s]"
      ]
     },
     "metadata": {},
     "output_type": "display_data"
    },
    {
     "data": {
      "application/vnd.jupyter.widget-view+json": {
       "model_id": "6c582d1a997748238231599b15ee1104",
       "version_major": 2,
       "version_minor": 0
      },
      "text/plain": [
       "Validation: |          | 0/? [00:00<?, ?it/s]"
      ]
     },
     "metadata": {},
     "output_type": "display_data"
    },
    {
     "data": {
      "application/vnd.jupyter.widget-view+json": {
       "model_id": "80e7ece3e64f4a64b365cc78bcb92eac",
       "version_major": 2,
       "version_minor": 0
      },
      "text/plain": [
       "Validation: |          | 0/? [00:00<?, ?it/s]"
      ]
     },
     "metadata": {},
     "output_type": "display_data"
    },
    {
     "data": {
      "application/vnd.jupyter.widget-view+json": {
       "model_id": "158e2edd98584205897e5a36e570493e",
       "version_major": 2,
       "version_minor": 0
      },
      "text/plain": [
       "Validation: |          | 0/? [00:00<?, ?it/s]"
      ]
     },
     "metadata": {},
     "output_type": "display_data"
    },
    {
     "data": {
      "application/vnd.jupyter.widget-view+json": {
       "model_id": "cb7f1b34c2a347a2a468653d0f981b6a",
       "version_major": 2,
       "version_minor": 0
      },
      "text/plain": [
       "Validation: |          | 0/? [00:00<?, ?it/s]"
      ]
     },
     "metadata": {},
     "output_type": "display_data"
    },
    {
     "data": {
      "application/vnd.jupyter.widget-view+json": {
       "model_id": "d76ea1660b854580931616bb74b437d1",
       "version_major": 2,
       "version_minor": 0
      },
      "text/plain": [
       "Validation: |          | 0/? [00:00<?, ?it/s]"
      ]
     },
     "metadata": {},
     "output_type": "display_data"
    },
    {
     "data": {
      "application/vnd.jupyter.widget-view+json": {
       "model_id": "f3b30c481d3f4a449d7bebf149d156d1",
       "version_major": 2,
       "version_minor": 0
      },
      "text/plain": [
       "Validation: |          | 0/? [00:00<?, ?it/s]"
      ]
     },
     "metadata": {},
     "output_type": "display_data"
    },
    {
     "data": {
      "application/vnd.jupyter.widget-view+json": {
       "model_id": "6ab3fce84f4d43be89a08fdbe9a19417",
       "version_major": 2,
       "version_minor": 0
      },
      "text/plain": [
       "Validation: |          | 0/? [00:00<?, ?it/s]"
      ]
     },
     "metadata": {},
     "output_type": "display_data"
    },
    {
     "data": {
      "application/vnd.jupyter.widget-view+json": {
       "model_id": "729901651cfc436493b28db4101085f3",
       "version_major": 2,
       "version_minor": 0
      },
      "text/plain": [
       "Validation: |          | 0/? [00:00<?, ?it/s]"
      ]
     },
     "metadata": {},
     "output_type": "display_data"
    },
    {
     "data": {
      "application/vnd.jupyter.widget-view+json": {
       "model_id": "6e045729a5c24b0f99b90230601e0159",
       "version_major": 2,
       "version_minor": 0
      },
      "text/plain": [
       "Validation: |          | 0/? [00:00<?, ?it/s]"
      ]
     },
     "metadata": {},
     "output_type": "display_data"
    },
    {
     "data": {
      "application/vnd.jupyter.widget-view+json": {
       "model_id": "3c4e47fcf7ab4d47b55c10e6153447ef",
       "version_major": 2,
       "version_minor": 0
      },
      "text/plain": [
       "Validation: |          | 0/? [00:00<?, ?it/s]"
      ]
     },
     "metadata": {},
     "output_type": "display_data"
    },
    {
     "data": {
      "application/vnd.jupyter.widget-view+json": {
       "model_id": "9c96f205bbb64852990234adc4361d89",
       "version_major": 2,
       "version_minor": 0
      },
      "text/plain": [
       "Validation: |          | 0/? [00:00<?, ?it/s]"
      ]
     },
     "metadata": {},
     "output_type": "display_data"
    },
    {
     "data": {
      "application/vnd.jupyter.widget-view+json": {
       "model_id": "255c2e818b5e46599da188d4c10d7c9c",
       "version_major": 2,
       "version_minor": 0
      },
      "text/plain": [
       "Validation: |          | 0/? [00:00<?, ?it/s]"
      ]
     },
     "metadata": {},
     "output_type": "display_data"
    },
    {
     "data": {
      "application/vnd.jupyter.widget-view+json": {
       "model_id": "a701d84361b44452bcacd92cd1c7dad9",
       "version_major": 2,
       "version_minor": 0
      },
      "text/plain": [
       "Validation: |          | 0/? [00:00<?, ?it/s]"
      ]
     },
     "metadata": {},
     "output_type": "display_data"
    },
    {
     "data": {
      "application/vnd.jupyter.widget-view+json": {
       "model_id": "7b942598f930420ba28cd7cf836249b1",
       "version_major": 2,
       "version_minor": 0
      },
      "text/plain": [
       "Validation: |          | 0/? [00:00<?, ?it/s]"
      ]
     },
     "metadata": {},
     "output_type": "display_data"
    },
    {
     "data": {
      "application/vnd.jupyter.widget-view+json": {
       "model_id": "a77c4e5ea43a4eb08e7d2c127a6b38a5",
       "version_major": 2,
       "version_minor": 0
      },
      "text/plain": [
       "Validation: |          | 0/? [00:00<?, ?it/s]"
      ]
     },
     "metadata": {},
     "output_type": "display_data"
    },
    {
     "data": {
      "application/vnd.jupyter.widget-view+json": {
       "model_id": "d73e4d42adc047bf839ba400d9b2021e",
       "version_major": 2,
       "version_minor": 0
      },
      "text/plain": [
       "Validation: |          | 0/? [00:00<?, ?it/s]"
      ]
     },
     "metadata": {},
     "output_type": "display_data"
    },
    {
     "data": {
      "application/vnd.jupyter.widget-view+json": {
       "model_id": "ba882ae466734d938f112a2237674719",
       "version_major": 2,
       "version_minor": 0
      },
      "text/plain": [
       "Validation: |          | 0/? [00:00<?, ?it/s]"
      ]
     },
     "metadata": {},
     "output_type": "display_data"
    },
    {
     "data": {
      "application/vnd.jupyter.widget-view+json": {
       "model_id": "d159629e4df64d18b8ff4e1eec6f47a3",
       "version_major": 2,
       "version_minor": 0
      },
      "text/plain": [
       "Validation: |          | 0/? [00:00<?, ?it/s]"
      ]
     },
     "metadata": {},
     "output_type": "display_data"
    },
    {
     "data": {
      "application/vnd.jupyter.widget-view+json": {
       "model_id": "e2fc8282e3b24d378a0e27510a61c959",
       "version_major": 2,
       "version_minor": 0
      },
      "text/plain": [
       "Validation: |          | 0/? [00:00<?, ?it/s]"
      ]
     },
     "metadata": {},
     "output_type": "display_data"
    },
    {
     "data": {
      "application/vnd.jupyter.widget-view+json": {
       "model_id": "602baf42009649ed85a8c18a116fac71",
       "version_major": 2,
       "version_minor": 0
      },
      "text/plain": [
       "Validation: |          | 0/? [00:00<?, ?it/s]"
      ]
     },
     "metadata": {},
     "output_type": "display_data"
    },
    {
     "data": {
      "application/vnd.jupyter.widget-view+json": {
       "model_id": "acdb5ef7c8614d46baec0f9fcd8bd1c4",
       "version_major": 2,
       "version_minor": 0
      },
      "text/plain": [
       "Validation: |          | 0/? [00:00<?, ?it/s]"
      ]
     },
     "metadata": {},
     "output_type": "display_data"
    },
    {
     "data": {
      "application/vnd.jupyter.widget-view+json": {
       "model_id": "f99b33ed3af94d8487d881c682db1ef4",
       "version_major": 2,
       "version_minor": 0
      },
      "text/plain": [
       "Validation: |          | 0/? [00:00<?, ?it/s]"
      ]
     },
     "metadata": {},
     "output_type": "display_data"
    },
    {
     "data": {
      "application/vnd.jupyter.widget-view+json": {
       "model_id": "af257fc1631e48bf84f0e785472563d4",
       "version_major": 2,
       "version_minor": 0
      },
      "text/plain": [
       "Validation: |          | 0/? [00:00<?, ?it/s]"
      ]
     },
     "metadata": {},
     "output_type": "display_data"
    },
    {
     "data": {
      "application/vnd.jupyter.widget-view+json": {
       "model_id": "ec604948761249549678b094a7ddd324",
       "version_major": 2,
       "version_minor": 0
      },
      "text/plain": [
       "Validation: |          | 0/? [00:00<?, ?it/s]"
      ]
     },
     "metadata": {},
     "output_type": "display_data"
    },
    {
     "data": {
      "application/vnd.jupyter.widget-view+json": {
       "model_id": "8ad86c29f61e4559ba092dfd06557b39",
       "version_major": 2,
       "version_minor": 0
      },
      "text/plain": [
       "Validation: |          | 0/? [00:00<?, ?it/s]"
      ]
     },
     "metadata": {},
     "output_type": "display_data"
    },
    {
     "data": {
      "application/vnd.jupyter.widget-view+json": {
       "model_id": "5a81d7198bbb427b855d2fe9fd9d1150",
       "version_major": 2,
       "version_minor": 0
      },
      "text/plain": [
       "Validation: |          | 0/? [00:00<?, ?it/s]"
      ]
     },
     "metadata": {},
     "output_type": "display_data"
    },
    {
     "data": {
      "application/vnd.jupyter.widget-view+json": {
       "model_id": "43bdfaade49e450a9c57738be7730261",
       "version_major": 2,
       "version_minor": 0
      },
      "text/plain": [
       "Validation: |          | 0/? [00:00<?, ?it/s]"
      ]
     },
     "metadata": {},
     "output_type": "display_data"
    },
    {
     "data": {
      "application/vnd.jupyter.widget-view+json": {
       "model_id": "1c42a5fdbc464cf58992787e2210399a",
       "version_major": 2,
       "version_minor": 0
      },
      "text/plain": [
       "Validation: |          | 0/? [00:00<?, ?it/s]"
      ]
     },
     "metadata": {},
     "output_type": "display_data"
    },
    {
     "data": {
      "application/vnd.jupyter.widget-view+json": {
       "model_id": "627326ff53d14f30a3f7bcfd9b0afa77",
       "version_major": 2,
       "version_minor": 0
      },
      "text/plain": [
       "Validation: |          | 0/? [00:00<?, ?it/s]"
      ]
     },
     "metadata": {},
     "output_type": "display_data"
    },
    {
     "data": {
      "application/vnd.jupyter.widget-view+json": {
       "model_id": "e52052d1b4f44c81b814568e7f7abe4c",
       "version_major": 2,
       "version_minor": 0
      },
      "text/plain": [
       "Validation: |          | 0/? [00:00<?, ?it/s]"
      ]
     },
     "metadata": {},
     "output_type": "display_data"
    },
    {
     "data": {
      "application/vnd.jupyter.widget-view+json": {
       "model_id": "bc6bf3c11033458d9d294c900c03e995",
       "version_major": 2,
       "version_minor": 0
      },
      "text/plain": [
       "Validation: |          | 0/? [00:00<?, ?it/s]"
      ]
     },
     "metadata": {},
     "output_type": "display_data"
    },
    {
     "data": {
      "application/vnd.jupyter.widget-view+json": {
       "model_id": "9abbc520ea144bd793a6240064a7080d",
       "version_major": 2,
       "version_minor": 0
      },
      "text/plain": [
       "Validation: |          | 0/? [00:00<?, ?it/s]"
      ]
     },
     "metadata": {},
     "output_type": "display_data"
    },
    {
     "data": {
      "application/vnd.jupyter.widget-view+json": {
       "model_id": "0ab73afa8ccc4ac2a2b898c69f647268",
       "version_major": 2,
       "version_minor": 0
      },
      "text/plain": [
       "Validation: |          | 0/? [00:00<?, ?it/s]"
      ]
     },
     "metadata": {},
     "output_type": "display_data"
    },
    {
     "data": {
      "application/vnd.jupyter.widget-view+json": {
       "model_id": "ce1551e0777443e98e70a77cebd1a99c",
       "version_major": 2,
       "version_minor": 0
      },
      "text/plain": [
       "Validation: |          | 0/? [00:00<?, ?it/s]"
      ]
     },
     "metadata": {},
     "output_type": "display_data"
    },
    {
     "data": {
      "application/vnd.jupyter.widget-view+json": {
       "model_id": "8a4e225f688f4a32a2edc608661aa84f",
       "version_major": 2,
       "version_minor": 0
      },
      "text/plain": [
       "Validation: |          | 0/? [00:00<?, ?it/s]"
      ]
     },
     "metadata": {},
     "output_type": "display_data"
    },
    {
     "data": {
      "application/vnd.jupyter.widget-view+json": {
       "model_id": "07c82bd77fdf447c92a94119b639981b",
       "version_major": 2,
       "version_minor": 0
      },
      "text/plain": [
       "Validation: |          | 0/? [00:00<?, ?it/s]"
      ]
     },
     "metadata": {},
     "output_type": "display_data"
    },
    {
     "data": {
      "application/vnd.jupyter.widget-view+json": {
       "model_id": "4d1ea731686646a0b0b858ff17556087",
       "version_major": 2,
       "version_minor": 0
      },
      "text/plain": [
       "Validation: |          | 0/? [00:00<?, ?it/s]"
      ]
     },
     "metadata": {},
     "output_type": "display_data"
    },
    {
     "data": {
      "application/vnd.jupyter.widget-view+json": {
       "model_id": "19910884edee447cab57be765c69095f",
       "version_major": 2,
       "version_minor": 0
      },
      "text/plain": [
       "Validation: |          | 0/? [00:00<?, ?it/s]"
      ]
     },
     "metadata": {},
     "output_type": "display_data"
    },
    {
     "data": {
      "application/vnd.jupyter.widget-view+json": {
       "model_id": "7411b009a83c418a97b5f5f75e021ced",
       "version_major": 2,
       "version_minor": 0
      },
      "text/plain": [
       "Validation: |          | 0/? [00:00<?, ?it/s]"
      ]
     },
     "metadata": {},
     "output_type": "display_data"
    },
    {
     "data": {
      "application/vnd.jupyter.widget-view+json": {
       "model_id": "1872f38834704de389ac1df60b440756",
       "version_major": 2,
       "version_minor": 0
      },
      "text/plain": [
       "Validation: |          | 0/? [00:00<?, ?it/s]"
      ]
     },
     "metadata": {},
     "output_type": "display_data"
    },
    {
     "data": {
      "application/vnd.jupyter.widget-view+json": {
       "model_id": "563f4efafd514a059a408635e796ff8a",
       "version_major": 2,
       "version_minor": 0
      },
      "text/plain": [
       "Validation: |          | 0/? [00:00<?, ?it/s]"
      ]
     },
     "metadata": {},
     "output_type": "display_data"
    },
    {
     "data": {
      "application/vnd.jupyter.widget-view+json": {
       "model_id": "28466fc1c7b44ef580aa0642e8b71706",
       "version_major": 2,
       "version_minor": 0
      },
      "text/plain": [
       "Validation: |          | 0/? [00:00<?, ?it/s]"
      ]
     },
     "metadata": {},
     "output_type": "display_data"
    },
    {
     "data": {
      "application/vnd.jupyter.widget-view+json": {
       "model_id": "ecf5e0b93abd48fc8830e9202ee947e2",
       "version_major": 2,
       "version_minor": 0
      },
      "text/plain": [
       "Validation: |          | 0/? [00:00<?, ?it/s]"
      ]
     },
     "metadata": {},
     "output_type": "display_data"
    },
    {
     "data": {
      "application/vnd.jupyter.widget-view+json": {
       "model_id": "5dd1956c93b74198a162d666b5e76155",
       "version_major": 2,
       "version_minor": 0
      },
      "text/plain": [
       "Validation: |          | 0/? [00:00<?, ?it/s]"
      ]
     },
     "metadata": {},
     "output_type": "display_data"
    },
    {
     "data": {
      "application/vnd.jupyter.widget-view+json": {
       "model_id": "826e618bd72d475b8c726b087063ca70",
       "version_major": 2,
       "version_minor": 0
      },
      "text/plain": [
       "Validation: |          | 0/? [00:00<?, ?it/s]"
      ]
     },
     "metadata": {},
     "output_type": "display_data"
    },
    {
     "data": {
      "application/vnd.jupyter.widget-view+json": {
       "model_id": "22346223517e4c9d9188514b766a9194",
       "version_major": 2,
       "version_minor": 0
      },
      "text/plain": [
       "Validation: |          | 0/? [00:00<?, ?it/s]"
      ]
     },
     "metadata": {},
     "output_type": "display_data"
    },
    {
     "data": {
      "application/vnd.jupyter.widget-view+json": {
       "model_id": "e461a6a118174f8a8567acda0d11aedc",
       "version_major": 2,
       "version_minor": 0
      },
      "text/plain": [
       "Validation: |          | 0/? [00:00<?, ?it/s]"
      ]
     },
     "metadata": {},
     "output_type": "display_data"
    },
    {
     "data": {
      "application/vnd.jupyter.widget-view+json": {
       "model_id": "39d14cb0e46844deac06b1b1f2d0121f",
       "version_major": 2,
       "version_minor": 0
      },
      "text/plain": [
       "Validation: |          | 0/? [00:00<?, ?it/s]"
      ]
     },
     "metadata": {},
     "output_type": "display_data"
    },
    {
     "data": {
      "application/vnd.jupyter.widget-view+json": {
       "model_id": "7a58d646b388489a82879c001d9ed564",
       "version_major": 2,
       "version_minor": 0
      },
      "text/plain": [
       "Validation: |          | 0/? [00:00<?, ?it/s]"
      ]
     },
     "metadata": {},
     "output_type": "display_data"
    },
    {
     "data": {
      "application/vnd.jupyter.widget-view+json": {
       "model_id": "824edf8b6da04d9dab7a3777d52cf71d",
       "version_major": 2,
       "version_minor": 0
      },
      "text/plain": [
       "Validation: |          | 0/? [00:00<?, ?it/s]"
      ]
     },
     "metadata": {},
     "output_type": "display_data"
    },
    {
     "data": {
      "application/vnd.jupyter.widget-view+json": {
       "model_id": "609e670de31548a8b5ad5b26ee59106d",
       "version_major": 2,
       "version_minor": 0
      },
      "text/plain": [
       "Validation: |          | 0/? [00:00<?, ?it/s]"
      ]
     },
     "metadata": {},
     "output_type": "display_data"
    },
    {
     "data": {
      "application/vnd.jupyter.widget-view+json": {
       "model_id": "e271e63ffa494475b6c4a2e5bf0f1b69",
       "version_major": 2,
       "version_minor": 0
      },
      "text/plain": [
       "Validation: |          | 0/? [00:00<?, ?it/s]"
      ]
     },
     "metadata": {},
     "output_type": "display_data"
    },
    {
     "data": {
      "application/vnd.jupyter.widget-view+json": {
       "model_id": "98b8e90537fe4c25a2baf43409480d06",
       "version_major": 2,
       "version_minor": 0
      },
      "text/plain": [
       "Validation: |          | 0/? [00:00<?, ?it/s]"
      ]
     },
     "metadata": {},
     "output_type": "display_data"
    },
    {
     "data": {
      "application/vnd.jupyter.widget-view+json": {
       "model_id": "dcb6315364db43a8a3c1ca7558aa0ce6",
       "version_major": 2,
       "version_minor": 0
      },
      "text/plain": [
       "Validation: |          | 0/? [00:00<?, ?it/s]"
      ]
     },
     "metadata": {},
     "output_type": "display_data"
    },
    {
     "data": {
      "application/vnd.jupyter.widget-view+json": {
       "model_id": "73e9d1b809fe4b948d20b26e7bae6422",
       "version_major": 2,
       "version_minor": 0
      },
      "text/plain": [
       "Validation: |          | 0/? [00:00<?, ?it/s]"
      ]
     },
     "metadata": {},
     "output_type": "display_data"
    },
    {
     "data": {
      "application/vnd.jupyter.widget-view+json": {
       "model_id": "e3ca890fc25e4616a5c4f4b8bcff7855",
       "version_major": 2,
       "version_minor": 0
      },
      "text/plain": [
       "Validation: |          | 0/? [00:00<?, ?it/s]"
      ]
     },
     "metadata": {},
     "output_type": "display_data"
    },
    {
     "data": {
      "application/vnd.jupyter.widget-view+json": {
       "model_id": "fc411ed0b1f24768a4c45aed7f03ee24",
       "version_major": 2,
       "version_minor": 0
      },
      "text/plain": [
       "Validation: |          | 0/? [00:00<?, ?it/s]"
      ]
     },
     "metadata": {},
     "output_type": "display_data"
    },
    {
     "data": {
      "application/vnd.jupyter.widget-view+json": {
       "model_id": "a1124533075048ef9c1f9e341990d1f1",
       "version_major": 2,
       "version_minor": 0
      },
      "text/plain": [
       "Validation: |          | 0/? [00:00<?, ?it/s]"
      ]
     },
     "metadata": {},
     "output_type": "display_data"
    },
    {
     "data": {
      "application/vnd.jupyter.widget-view+json": {
       "model_id": "429dc26f8767456b80676ac856eed9c1",
       "version_major": 2,
       "version_minor": 0
      },
      "text/plain": [
       "Validation: |          | 0/? [00:00<?, ?it/s]"
      ]
     },
     "metadata": {},
     "output_type": "display_data"
    },
    {
     "data": {
      "application/vnd.jupyter.widget-view+json": {
       "model_id": "387c8b7970044c908a32ee9b23d2bed8",
       "version_major": 2,
       "version_minor": 0
      },
      "text/plain": [
       "Validation: |          | 0/? [00:00<?, ?it/s]"
      ]
     },
     "metadata": {},
     "output_type": "display_data"
    },
    {
     "data": {
      "application/vnd.jupyter.widget-view+json": {
       "model_id": "1dc72fa0c972402988869a506ba19e4e",
       "version_major": 2,
       "version_minor": 0
      },
      "text/plain": [
       "Validation: |          | 0/? [00:00<?, ?it/s]"
      ]
     },
     "metadata": {},
     "output_type": "display_data"
    },
    {
     "data": {
      "application/vnd.jupyter.widget-view+json": {
       "model_id": "cadc69ba716e44b7959ccf11ebc253f1",
       "version_major": 2,
       "version_minor": 0
      },
      "text/plain": [
       "Validation: |          | 0/? [00:00<?, ?it/s]"
      ]
     },
     "metadata": {},
     "output_type": "display_data"
    },
    {
     "data": {
      "application/vnd.jupyter.widget-view+json": {
       "model_id": "3a36aa49f93143319e60258400dda8a8",
       "version_major": 2,
       "version_minor": 0
      },
      "text/plain": [
       "Validation: |          | 0/? [00:00<?, ?it/s]"
      ]
     },
     "metadata": {},
     "output_type": "display_data"
    },
    {
     "data": {
      "application/vnd.jupyter.widget-view+json": {
       "model_id": "075b759b7eb14d64be597c20921d34b4",
       "version_major": 2,
       "version_minor": 0
      },
      "text/plain": [
       "Validation: |          | 0/? [00:00<?, ?it/s]"
      ]
     },
     "metadata": {},
     "output_type": "display_data"
    },
    {
     "data": {
      "application/vnd.jupyter.widget-view+json": {
       "model_id": "e754f74b9e294324b6b7e6f75bfa0175",
       "version_major": 2,
       "version_minor": 0
      },
      "text/plain": [
       "Validation: |          | 0/? [00:00<?, ?it/s]"
      ]
     },
     "metadata": {},
     "output_type": "display_data"
    },
    {
     "data": {
      "application/vnd.jupyter.widget-view+json": {
       "model_id": "476437fbaf78429d8bffd54549472bee",
       "version_major": 2,
       "version_minor": 0
      },
      "text/plain": [
       "Validation: |          | 0/? [00:00<?, ?it/s]"
      ]
     },
     "metadata": {},
     "output_type": "display_data"
    },
    {
     "data": {
      "application/vnd.jupyter.widget-view+json": {
       "model_id": "1fab913764e140069a22b1c5f5b9e0f2",
       "version_major": 2,
       "version_minor": 0
      },
      "text/plain": [
       "Validation: |          | 0/? [00:00<?, ?it/s]"
      ]
     },
     "metadata": {},
     "output_type": "display_data"
    },
    {
     "data": {
      "application/vnd.jupyter.widget-view+json": {
       "model_id": "a78c68938b92445da115d298e3809410",
       "version_major": 2,
       "version_minor": 0
      },
      "text/plain": [
       "Validation: |          | 0/? [00:00<?, ?it/s]"
      ]
     },
     "metadata": {},
     "output_type": "display_data"
    },
    {
     "data": {
      "application/vnd.jupyter.widget-view+json": {
       "model_id": "a86e0ea826a349a88c56091744ced6c6",
       "version_major": 2,
       "version_minor": 0
      },
      "text/plain": [
       "Validation: |          | 0/? [00:00<?, ?it/s]"
      ]
     },
     "metadata": {},
     "output_type": "display_data"
    },
    {
     "data": {
      "application/vnd.jupyter.widget-view+json": {
       "model_id": "8efe7651fce64f2bb42b0515ff2b23ac",
       "version_major": 2,
       "version_minor": 0
      },
      "text/plain": [
       "Validation: |          | 0/? [00:00<?, ?it/s]"
      ]
     },
     "metadata": {},
     "output_type": "display_data"
    },
    {
     "data": {
      "application/vnd.jupyter.widget-view+json": {
       "model_id": "7fb1edd3b5ef4b229add5cf1be035684",
       "version_major": 2,
       "version_minor": 0
      },
      "text/plain": [
       "Validation: |          | 0/? [00:00<?, ?it/s]"
      ]
     },
     "metadata": {},
     "output_type": "display_data"
    },
    {
     "data": {
      "application/vnd.jupyter.widget-view+json": {
       "model_id": "54ad955423fa4c6e9e2642dabaf5e25a",
       "version_major": 2,
       "version_minor": 0
      },
      "text/plain": [
       "Validation: |          | 0/? [00:00<?, ?it/s]"
      ]
     },
     "metadata": {},
     "output_type": "display_data"
    },
    {
     "data": {
      "application/vnd.jupyter.widget-view+json": {
       "model_id": "1c6928d0b54944b4a888b086e3faf87d",
       "version_major": 2,
       "version_minor": 0
      },
      "text/plain": [
       "Validation: |          | 0/? [00:00<?, ?it/s]"
      ]
     },
     "metadata": {},
     "output_type": "display_data"
    },
    {
     "data": {
      "application/vnd.jupyter.widget-view+json": {
       "model_id": "2ca01e452f764b888b0297712e28b014",
       "version_major": 2,
       "version_minor": 0
      },
      "text/plain": [
       "Validation: |          | 0/? [00:00<?, ?it/s]"
      ]
     },
     "metadata": {},
     "output_type": "display_data"
    },
    {
     "data": {
      "application/vnd.jupyter.widget-view+json": {
       "model_id": "bc83dc4c0c7a427aa958cf2aa77bed0b",
       "version_major": 2,
       "version_minor": 0
      },
      "text/plain": [
       "Validation: |          | 0/? [00:00<?, ?it/s]"
      ]
     },
     "metadata": {},
     "output_type": "display_data"
    },
    {
     "data": {
      "application/vnd.jupyter.widget-view+json": {
       "model_id": "6cb3e45d3d9e4662bf56a443deb77f98",
       "version_major": 2,
       "version_minor": 0
      },
      "text/plain": [
       "Validation: |          | 0/? [00:00<?, ?it/s]"
      ]
     },
     "metadata": {},
     "output_type": "display_data"
    },
    {
     "data": {
      "application/vnd.jupyter.widget-view+json": {
       "model_id": "d7757b22fef64d67ab0e3846f7c80249",
       "version_major": 2,
       "version_minor": 0
      },
      "text/plain": [
       "Validation: |          | 0/? [00:00<?, ?it/s]"
      ]
     },
     "metadata": {},
     "output_type": "display_data"
    },
    {
     "data": {
      "application/vnd.jupyter.widget-view+json": {
       "model_id": "22790ac554df479885e1e7d139eed21b",
       "version_major": 2,
       "version_minor": 0
      },
      "text/plain": [
       "Validation: |          | 0/? [00:00<?, ?it/s]"
      ]
     },
     "metadata": {},
     "output_type": "display_data"
    },
    {
     "data": {
      "application/vnd.jupyter.widget-view+json": {
       "model_id": "5a8e3f050a2b443c9f49284d435ca416",
       "version_major": 2,
       "version_minor": 0
      },
      "text/plain": [
       "Validation: |          | 0/? [00:00<?, ?it/s]"
      ]
     },
     "metadata": {},
     "output_type": "display_data"
    },
    {
     "data": {
      "application/vnd.jupyter.widget-view+json": {
       "model_id": "6371061b849646b5b13552c382cc8517",
       "version_major": 2,
       "version_minor": 0
      },
      "text/plain": [
       "Validation: |          | 0/? [00:00<?, ?it/s]"
      ]
     },
     "metadata": {},
     "output_type": "display_data"
    },
    {
     "data": {
      "application/vnd.jupyter.widget-view+json": {
       "model_id": "92316bc74d864eed914c529a46620ecb",
       "version_major": 2,
       "version_minor": 0
      },
      "text/plain": [
       "Validation: |          | 0/? [00:00<?, ?it/s]"
      ]
     },
     "metadata": {},
     "output_type": "display_data"
    },
    {
     "data": {
      "application/vnd.jupyter.widget-view+json": {
       "model_id": "35a92400bdb14098bc8b10964bc2baa0",
       "version_major": 2,
       "version_minor": 0
      },
      "text/plain": [
       "Validation: |          | 0/? [00:00<?, ?it/s]"
      ]
     },
     "metadata": {},
     "output_type": "display_data"
    },
    {
     "data": {
      "application/vnd.jupyter.widget-view+json": {
       "model_id": "a3ff267e6a0a4aff9460cb3f16947457",
       "version_major": 2,
       "version_minor": 0
      },
      "text/plain": [
       "Validation: |          | 0/? [00:00<?, ?it/s]"
      ]
     },
     "metadata": {},
     "output_type": "display_data"
    },
    {
     "data": {
      "application/vnd.jupyter.widget-view+json": {
       "model_id": "9778bf0db8454c05a6a3127ea7581466",
       "version_major": 2,
       "version_minor": 0
      },
      "text/plain": [
       "Validation: |          | 0/? [00:00<?, ?it/s]"
      ]
     },
     "metadata": {},
     "output_type": "display_data"
    },
    {
     "data": {
      "application/vnd.jupyter.widget-view+json": {
       "model_id": "63a237d93be848189e633dabf5ef51d5",
       "version_major": 2,
       "version_minor": 0
      },
      "text/plain": [
       "Validation: |          | 0/? [00:00<?, ?it/s]"
      ]
     },
     "metadata": {},
     "output_type": "display_data"
    },
    {
     "data": {
      "application/vnd.jupyter.widget-view+json": {
       "model_id": "58c78812dc204a8d8b869df61ba9677b",
       "version_major": 2,
       "version_minor": 0
      },
      "text/plain": [
       "Validation: |          | 0/? [00:00<?, ?it/s]"
      ]
     },
     "metadata": {},
     "output_type": "display_data"
    },
    {
     "data": {
      "application/vnd.jupyter.widget-view+json": {
       "model_id": "225fad8676034ad782e73949b6b6e211",
       "version_major": 2,
       "version_minor": 0
      },
      "text/plain": [
       "Validation: |          | 0/? [00:00<?, ?it/s]"
      ]
     },
     "metadata": {},
     "output_type": "display_data"
    },
    {
     "data": {
      "application/vnd.jupyter.widget-view+json": {
       "model_id": "e574ac09276f46869185879b76392fcc",
       "version_major": 2,
       "version_minor": 0
      },
      "text/plain": [
       "Validation: |          | 0/? [00:00<?, ?it/s]"
      ]
     },
     "metadata": {},
     "output_type": "display_data"
    },
    {
     "data": {
      "application/vnd.jupyter.widget-view+json": {
       "model_id": "3a6415621697443d8942f8cca8fedd9c",
       "version_major": 2,
       "version_minor": 0
      },
      "text/plain": [
       "Validation: |          | 0/? [00:00<?, ?it/s]"
      ]
     },
     "metadata": {},
     "output_type": "display_data"
    },
    {
     "data": {
      "application/vnd.jupyter.widget-view+json": {
       "model_id": "266659eedb7242d8971230802ae43474",
       "version_major": 2,
       "version_minor": 0
      },
      "text/plain": [
       "Validation: |          | 0/? [00:00<?, ?it/s]"
      ]
     },
     "metadata": {},
     "output_type": "display_data"
    },
    {
     "data": {
      "application/vnd.jupyter.widget-view+json": {
       "model_id": "8587473fc7334e62858542a2efcdbbe1",
       "version_major": 2,
       "version_minor": 0
      },
      "text/plain": [
       "Validation: |          | 0/? [00:00<?, ?it/s]"
      ]
     },
     "metadata": {},
     "output_type": "display_data"
    },
    {
     "data": {
      "application/vnd.jupyter.widget-view+json": {
       "model_id": "e72d7f7bc60c4199a821b73fe99cc76c",
       "version_major": 2,
       "version_minor": 0
      },
      "text/plain": [
       "Validation: |          | 0/? [00:00<?, ?it/s]"
      ]
     },
     "metadata": {},
     "output_type": "display_data"
    },
    {
     "data": {
      "application/vnd.jupyter.widget-view+json": {
       "model_id": "5f9fc0cf9a68471296f5375652b1441e",
       "version_major": 2,
       "version_minor": 0
      },
      "text/plain": [
       "Validation: |          | 0/? [00:00<?, ?it/s]"
      ]
     },
     "metadata": {},
     "output_type": "display_data"
    },
    {
     "data": {
      "application/vnd.jupyter.widget-view+json": {
       "model_id": "59e959dfe1ca4075afb3cb7240519890",
       "version_major": 2,
       "version_minor": 0
      },
      "text/plain": [
       "Validation: |          | 0/? [00:00<?, ?it/s]"
      ]
     },
     "metadata": {},
     "output_type": "display_data"
    },
    {
     "data": {
      "application/vnd.jupyter.widget-view+json": {
       "model_id": "6bc029e2bee44bac9a37308caeec7730",
       "version_major": 2,
       "version_minor": 0
      },
      "text/plain": [
       "Validation: |          | 0/? [00:00<?, ?it/s]"
      ]
     },
     "metadata": {},
     "output_type": "display_data"
    },
    {
     "data": {
      "application/vnd.jupyter.widget-view+json": {
       "model_id": "98bced06b9864a51b8cbcb21cc979f11",
       "version_major": 2,
       "version_minor": 0
      },
      "text/plain": [
       "Validation: |          | 0/? [00:00<?, ?it/s]"
      ]
     },
     "metadata": {},
     "output_type": "display_data"
    },
    {
     "data": {
      "application/vnd.jupyter.widget-view+json": {
       "model_id": "3a3f4434ff054f668a145cab1b0fb8d8",
       "version_major": 2,
       "version_minor": 0
      },
      "text/plain": [
       "Validation: |          | 0/? [00:00<?, ?it/s]"
      ]
     },
     "metadata": {},
     "output_type": "display_data"
    },
    {
     "data": {
      "application/vnd.jupyter.widget-view+json": {
       "model_id": "5b00cd7a5b554063ac99b0263a3c24bc",
       "version_major": 2,
       "version_minor": 0
      },
      "text/plain": [
       "Validation: |          | 0/? [00:00<?, ?it/s]"
      ]
     },
     "metadata": {},
     "output_type": "display_data"
    },
    {
     "data": {
      "application/vnd.jupyter.widget-view+json": {
       "model_id": "bd774f280d0846809e20b52c3eb1b47d",
       "version_major": 2,
       "version_minor": 0
      },
      "text/plain": [
       "Validation: |          | 0/? [00:00<?, ?it/s]"
      ]
     },
     "metadata": {},
     "output_type": "display_data"
    },
    {
     "data": {
      "application/vnd.jupyter.widget-view+json": {
       "model_id": "4cfa2ec5afc8457bbdf3c6b5f7735cb4",
       "version_major": 2,
       "version_minor": 0
      },
      "text/plain": [
       "Validation: |          | 0/? [00:00<?, ?it/s]"
      ]
     },
     "metadata": {},
     "output_type": "display_data"
    },
    {
     "data": {
      "application/vnd.jupyter.widget-view+json": {
       "model_id": "b8b3cee74ad7428ca6e29aca91a9cf7b",
       "version_major": 2,
       "version_minor": 0
      },
      "text/plain": [
       "Validation: |          | 0/? [00:00<?, ?it/s]"
      ]
     },
     "metadata": {},
     "output_type": "display_data"
    },
    {
     "data": {
      "application/vnd.jupyter.widget-view+json": {
       "model_id": "edb9d9d7560a4969bdb93a28a982b7b9",
       "version_major": 2,
       "version_minor": 0
      },
      "text/plain": [
       "Validation: |          | 0/? [00:00<?, ?it/s]"
      ]
     },
     "metadata": {},
     "output_type": "display_data"
    },
    {
     "data": {
      "application/vnd.jupyter.widget-view+json": {
       "model_id": "699d14a2c24d4a708ac58f7f488bfd03",
       "version_major": 2,
       "version_minor": 0
      },
      "text/plain": [
       "Validation: |          | 0/? [00:00<?, ?it/s]"
      ]
     },
     "metadata": {},
     "output_type": "display_data"
    },
    {
     "data": {
      "application/vnd.jupyter.widget-view+json": {
       "model_id": "ab407d255ded4fc69132ed5c894830ec",
       "version_major": 2,
       "version_minor": 0
      },
      "text/plain": [
       "Validation: |          | 0/? [00:00<?, ?it/s]"
      ]
     },
     "metadata": {},
     "output_type": "display_data"
    },
    {
     "data": {
      "application/vnd.jupyter.widget-view+json": {
       "model_id": "824c7a97217d468ab7ec4ccc1967cc12",
       "version_major": 2,
       "version_minor": 0
      },
      "text/plain": [
       "Validation: |          | 0/? [00:00<?, ?it/s]"
      ]
     },
     "metadata": {},
     "output_type": "display_data"
    },
    {
     "data": {
      "application/vnd.jupyter.widget-view+json": {
       "model_id": "cc30480ad5184372882c3401c9067143",
       "version_major": 2,
       "version_minor": 0
      },
      "text/plain": [
       "Validation: |          | 0/? [00:00<?, ?it/s]"
      ]
     },
     "metadata": {},
     "output_type": "display_data"
    },
    {
     "data": {
      "application/vnd.jupyter.widget-view+json": {
       "model_id": "16e4208065a14a9eb9f829080d733878",
       "version_major": 2,
       "version_minor": 0
      },
      "text/plain": [
       "Validation: |          | 0/? [00:00<?, ?it/s]"
      ]
     },
     "metadata": {},
     "output_type": "display_data"
    },
    {
     "data": {
      "application/vnd.jupyter.widget-view+json": {
       "model_id": "31f6882f50a849328241db75e253a3c1",
       "version_major": 2,
       "version_minor": 0
      },
      "text/plain": [
       "Validation: |          | 0/? [00:00<?, ?it/s]"
      ]
     },
     "metadata": {},
     "output_type": "display_data"
    },
    {
     "data": {
      "application/vnd.jupyter.widget-view+json": {
       "model_id": "0c2436808af64a90aed3ae86ced55837",
       "version_major": 2,
       "version_minor": 0
      },
      "text/plain": [
       "Validation: |          | 0/? [00:00<?, ?it/s]"
      ]
     },
     "metadata": {},
     "output_type": "display_data"
    },
    {
     "data": {
      "application/vnd.jupyter.widget-view+json": {
       "model_id": "49c2339da8a047b2adeac6819b3e9d61",
       "version_major": 2,
       "version_minor": 0
      },
      "text/plain": [
       "Validation: |          | 0/? [00:00<?, ?it/s]"
      ]
     },
     "metadata": {},
     "output_type": "display_data"
    },
    {
     "data": {
      "application/vnd.jupyter.widget-view+json": {
       "model_id": "34e2434809b546bd9414106e2ebe6f03",
       "version_major": 2,
       "version_minor": 0
      },
      "text/plain": [
       "Validation: |          | 0/? [00:00<?, ?it/s]"
      ]
     },
     "metadata": {},
     "output_type": "display_data"
    },
    {
     "data": {
      "application/vnd.jupyter.widget-view+json": {
       "model_id": "be8ad57426714f40a995131701a57c8b",
       "version_major": 2,
       "version_minor": 0
      },
      "text/plain": [
       "Validation: |          | 0/? [00:00<?, ?it/s]"
      ]
     },
     "metadata": {},
     "output_type": "display_data"
    },
    {
     "data": {
      "application/vnd.jupyter.widget-view+json": {
       "model_id": "c38ad0589cb8458ca491308a56902e91",
       "version_major": 2,
       "version_minor": 0
      },
      "text/plain": [
       "Validation: |          | 0/? [00:00<?, ?it/s]"
      ]
     },
     "metadata": {},
     "output_type": "display_data"
    },
    {
     "data": {
      "application/vnd.jupyter.widget-view+json": {
       "model_id": "de66fa16233449ae8fc81de0e0b2309b",
       "version_major": 2,
       "version_minor": 0
      },
      "text/plain": [
       "Validation: |          | 0/? [00:00<?, ?it/s]"
      ]
     },
     "metadata": {},
     "output_type": "display_data"
    },
    {
     "data": {
      "application/vnd.jupyter.widget-view+json": {
       "model_id": "3efbfc137e3740bc9d7daf93c4b21488",
       "version_major": 2,
       "version_minor": 0
      },
      "text/plain": [
       "Validation: |          | 0/? [00:00<?, ?it/s]"
      ]
     },
     "metadata": {},
     "output_type": "display_data"
    },
    {
     "data": {
      "application/vnd.jupyter.widget-view+json": {
       "model_id": "d650f8e5011c4407aa362dc456540fb5",
       "version_major": 2,
       "version_minor": 0
      },
      "text/plain": [
       "Validation: |          | 0/? [00:00<?, ?it/s]"
      ]
     },
     "metadata": {},
     "output_type": "display_data"
    },
    {
     "data": {
      "application/vnd.jupyter.widget-view+json": {
       "model_id": "16b7b8afbf5a4b0490fa126dae21f988",
       "version_major": 2,
       "version_minor": 0
      },
      "text/plain": [
       "Validation: |          | 0/? [00:00<?, ?it/s]"
      ]
     },
     "metadata": {},
     "output_type": "display_data"
    },
    {
     "data": {
      "application/vnd.jupyter.widget-view+json": {
       "model_id": "2e9c5d71bfe049e3877f8a87e68b8782",
       "version_major": 2,
       "version_minor": 0
      },
      "text/plain": [
       "Validation: |          | 0/? [00:00<?, ?it/s]"
      ]
     },
     "metadata": {},
     "output_type": "display_data"
    },
    {
     "data": {
      "application/vnd.jupyter.widget-view+json": {
       "model_id": "01510ee969b54d65a828085e59265ff4",
       "version_major": 2,
       "version_minor": 0
      },
      "text/plain": [
       "Validation: |          | 0/? [00:00<?, ?it/s]"
      ]
     },
     "metadata": {},
     "output_type": "display_data"
    },
    {
     "data": {
      "application/vnd.jupyter.widget-view+json": {
       "model_id": "311897b33e6b45f58ccec0cba4ef1f0c",
       "version_major": 2,
       "version_minor": 0
      },
      "text/plain": [
       "Validation: |          | 0/? [00:00<?, ?it/s]"
      ]
     },
     "metadata": {},
     "output_type": "display_data"
    },
    {
     "data": {
      "application/vnd.jupyter.widget-view+json": {
       "model_id": "be27108fa3ac433a96c528512f100dc0",
       "version_major": 2,
       "version_minor": 0
      },
      "text/plain": [
       "Validation: |          | 0/? [00:00<?, ?it/s]"
      ]
     },
     "metadata": {},
     "output_type": "display_data"
    },
    {
     "data": {
      "application/vnd.jupyter.widget-view+json": {
       "model_id": "13a6ed1c498f49ba9b9e123118b03627",
       "version_major": 2,
       "version_minor": 0
      },
      "text/plain": [
       "Validation: |          | 0/? [00:00<?, ?it/s]"
      ]
     },
     "metadata": {},
     "output_type": "display_data"
    },
    {
     "data": {
      "application/vnd.jupyter.widget-view+json": {
       "model_id": "53e601bcbca54137b773be48d562bb94",
       "version_major": 2,
       "version_minor": 0
      },
      "text/plain": [
       "Validation: |          | 0/? [00:00<?, ?it/s]"
      ]
     },
     "metadata": {},
     "output_type": "display_data"
    },
    {
     "data": {
      "application/vnd.jupyter.widget-view+json": {
       "model_id": "0e99027b784e46aa849a78e5f0ec29c2",
       "version_major": 2,
       "version_minor": 0
      },
      "text/plain": [
       "Validation: |          | 0/? [00:00<?, ?it/s]"
      ]
     },
     "metadata": {},
     "output_type": "display_data"
    },
    {
     "data": {
      "application/vnd.jupyter.widget-view+json": {
       "model_id": "37bf98e3bd544f54a9472ce5b66bdfe1",
       "version_major": 2,
       "version_minor": 0
      },
      "text/plain": [
       "Validation: |          | 0/? [00:00<?, ?it/s]"
      ]
     },
     "metadata": {},
     "output_type": "display_data"
    },
    {
     "data": {
      "application/vnd.jupyter.widget-view+json": {
       "model_id": "d9eaaa347b09455a888ec43ee88e54f0",
       "version_major": 2,
       "version_minor": 0
      },
      "text/plain": [
       "Validation: |          | 0/? [00:00<?, ?it/s]"
      ]
     },
     "metadata": {},
     "output_type": "display_data"
    },
    {
     "data": {
      "application/vnd.jupyter.widget-view+json": {
       "model_id": "d75a7ae6cb774cccb5857656d9933c0a",
       "version_major": 2,
       "version_minor": 0
      },
      "text/plain": [
       "Validation: |          | 0/? [00:00<?, ?it/s]"
      ]
     },
     "metadata": {},
     "output_type": "display_data"
    },
    {
     "data": {
      "application/vnd.jupyter.widget-view+json": {
       "model_id": "f20e72a52c434510a89d870e348fa4a6",
       "version_major": 2,
       "version_minor": 0
      },
      "text/plain": [
       "Validation: |          | 0/? [00:00<?, ?it/s]"
      ]
     },
     "metadata": {},
     "output_type": "display_data"
    },
    {
     "data": {
      "application/vnd.jupyter.widget-view+json": {
       "model_id": "ad3ecbb4294c4f9a9a857574d66c533f",
       "version_major": 2,
       "version_minor": 0
      },
      "text/plain": [
       "Validation: |          | 0/? [00:00<?, ?it/s]"
      ]
     },
     "metadata": {},
     "output_type": "display_data"
    },
    {
     "data": {
      "application/vnd.jupyter.widget-view+json": {
       "model_id": "5ce01e79372d4f5e8d1aefff084789a4",
       "version_major": 2,
       "version_minor": 0
      },
      "text/plain": [
       "Validation: |          | 0/? [00:00<?, ?it/s]"
      ]
     },
     "metadata": {},
     "output_type": "display_data"
    },
    {
     "data": {
      "application/vnd.jupyter.widget-view+json": {
       "model_id": "a96fd1a0884c4462a396f3c4beb8bc68",
       "version_major": 2,
       "version_minor": 0
      },
      "text/plain": [
       "Validation: |          | 0/? [00:00<?, ?it/s]"
      ]
     },
     "metadata": {},
     "output_type": "display_data"
    },
    {
     "data": {
      "application/vnd.jupyter.widget-view+json": {
       "model_id": "54ca47335ea143d8bd0ed48b5365d5ec",
       "version_major": 2,
       "version_minor": 0
      },
      "text/plain": [
       "Validation: |          | 0/? [00:00<?, ?it/s]"
      ]
     },
     "metadata": {},
     "output_type": "display_data"
    },
    {
     "data": {
      "application/vnd.jupyter.widget-view+json": {
       "model_id": "742a21792dec487ca6f96a26a55a7676",
       "version_major": 2,
       "version_minor": 0
      },
      "text/plain": [
       "Validation: |          | 0/? [00:00<?, ?it/s]"
      ]
     },
     "metadata": {},
     "output_type": "display_data"
    },
    {
     "data": {
      "application/vnd.jupyter.widget-view+json": {
       "model_id": "a01e132ba3684f958a469f0a596fcee4",
       "version_major": 2,
       "version_minor": 0
      },
      "text/plain": [
       "Validation: |          | 0/? [00:00<?, ?it/s]"
      ]
     },
     "metadata": {},
     "output_type": "display_data"
    },
    {
     "data": {
      "application/vnd.jupyter.widget-view+json": {
       "model_id": "ba23bbfaf7b845bc9e0821bef1200b70",
       "version_major": 2,
       "version_minor": 0
      },
      "text/plain": [
       "Validation: |          | 0/? [00:00<?, ?it/s]"
      ]
     },
     "metadata": {},
     "output_type": "display_data"
    },
    {
     "data": {
      "application/vnd.jupyter.widget-view+json": {
       "model_id": "eec812bf1ce845efad10b1f3975f6bb1",
       "version_major": 2,
       "version_minor": 0
      },
      "text/plain": [
       "Validation: |          | 0/? [00:00<?, ?it/s]"
      ]
     },
     "metadata": {},
     "output_type": "display_data"
    },
    {
     "data": {
      "application/vnd.jupyter.widget-view+json": {
       "model_id": "55c4922ee4bf40ebb7249c22d54d9250",
       "version_major": 2,
       "version_minor": 0
      },
      "text/plain": [
       "Validation: |          | 0/? [00:00<?, ?it/s]"
      ]
     },
     "metadata": {},
     "output_type": "display_data"
    },
    {
     "data": {
      "application/vnd.jupyter.widget-view+json": {
       "model_id": "057f49197326461cb8b1b093e13b9272",
       "version_major": 2,
       "version_minor": 0
      },
      "text/plain": [
       "Validation: |          | 0/? [00:00<?, ?it/s]"
      ]
     },
     "metadata": {},
     "output_type": "display_data"
    },
    {
     "data": {
      "application/vnd.jupyter.widget-view+json": {
       "model_id": "11d9a1ea1d1f4b229a5e9cf60b8d439b",
       "version_major": 2,
       "version_minor": 0
      },
      "text/plain": [
       "Validation: |          | 0/? [00:00<?, ?it/s]"
      ]
     },
     "metadata": {},
     "output_type": "display_data"
    },
    {
     "data": {
      "application/vnd.jupyter.widget-view+json": {
       "model_id": "0f7273c4bfcc4986a28e190786794346",
       "version_major": 2,
       "version_minor": 0
      },
      "text/plain": [
       "Validation: |          | 0/? [00:00<?, ?it/s]"
      ]
     },
     "metadata": {},
     "output_type": "display_data"
    },
    {
     "data": {
      "application/vnd.jupyter.widget-view+json": {
       "model_id": "c3f9af282a114f2d8249ccbc61bd1649",
       "version_major": 2,
       "version_minor": 0
      },
      "text/plain": [
       "Validation: |          | 0/? [00:00<?, ?it/s]"
      ]
     },
     "metadata": {},
     "output_type": "display_data"
    },
    {
     "data": {
      "application/vnd.jupyter.widget-view+json": {
       "model_id": "616b32b824954b92bc7e1c4139917ca7",
       "version_major": 2,
       "version_minor": 0
      },
      "text/plain": [
       "Validation: |          | 0/? [00:00<?, ?it/s]"
      ]
     },
     "metadata": {},
     "output_type": "display_data"
    },
    {
     "data": {
      "application/vnd.jupyter.widget-view+json": {
       "model_id": "031e2c85524f42baa2cd371042e918f4",
       "version_major": 2,
       "version_minor": 0
      },
      "text/plain": [
       "Validation: |          | 0/? [00:00<?, ?it/s]"
      ]
     },
     "metadata": {},
     "output_type": "display_data"
    },
    {
     "data": {
      "application/vnd.jupyter.widget-view+json": {
       "model_id": "056b69bf4c9f491e9f74f49fa116d7a0",
       "version_major": 2,
       "version_minor": 0
      },
      "text/plain": [
       "Validation: |          | 0/? [00:00<?, ?it/s]"
      ]
     },
     "metadata": {},
     "output_type": "display_data"
    },
    {
     "data": {
      "application/vnd.jupyter.widget-view+json": {
       "model_id": "1917591366de463fb008d1c4855bf754",
       "version_major": 2,
       "version_minor": 0
      },
      "text/plain": [
       "Validation: |          | 0/? [00:00<?, ?it/s]"
      ]
     },
     "metadata": {},
     "output_type": "display_data"
    },
    {
     "data": {
      "application/vnd.jupyter.widget-view+json": {
       "model_id": "166484064e544cbcbfa59e8e186bbed5",
       "version_major": 2,
       "version_minor": 0
      },
      "text/plain": [
       "Validation: |          | 0/? [00:00<?, ?it/s]"
      ]
     },
     "metadata": {},
     "output_type": "display_data"
    },
    {
     "data": {
      "application/vnd.jupyter.widget-view+json": {
       "model_id": "bbd645d70e7c4a939e0c8a2647637dc5",
       "version_major": 2,
       "version_minor": 0
      },
      "text/plain": [
       "Validation: |          | 0/? [00:00<?, ?it/s]"
      ]
     },
     "metadata": {},
     "output_type": "display_data"
    },
    {
     "data": {
      "application/vnd.jupyter.widget-view+json": {
       "model_id": "0726f2a264724575ab150db41c99094b",
       "version_major": 2,
       "version_minor": 0
      },
      "text/plain": [
       "Validation: |          | 0/? [00:00<?, ?it/s]"
      ]
     },
     "metadata": {},
     "output_type": "display_data"
    },
    {
     "data": {
      "application/vnd.jupyter.widget-view+json": {
       "model_id": "0eb78609beb04ccabf999c6e31ed9467",
       "version_major": 2,
       "version_minor": 0
      },
      "text/plain": [
       "Validation: |          | 0/? [00:00<?, ?it/s]"
      ]
     },
     "metadata": {},
     "output_type": "display_data"
    },
    {
     "data": {
      "application/vnd.jupyter.widget-view+json": {
       "model_id": "a77118ece24c48788a8f2f2831ccb36e",
       "version_major": 2,
       "version_minor": 0
      },
      "text/plain": [
       "Validation: |          | 0/? [00:00<?, ?it/s]"
      ]
     },
     "metadata": {},
     "output_type": "display_data"
    },
    {
     "data": {
      "application/vnd.jupyter.widget-view+json": {
       "model_id": "8aada0df50114df0849b530d4630fe8e",
       "version_major": 2,
       "version_minor": 0
      },
      "text/plain": [
       "Validation: |          | 0/? [00:00<?, ?it/s]"
      ]
     },
     "metadata": {},
     "output_type": "display_data"
    },
    {
     "data": {
      "application/vnd.jupyter.widget-view+json": {
       "model_id": "e08083c1c8244f518694615c2856751f",
       "version_major": 2,
       "version_minor": 0
      },
      "text/plain": [
       "Validation: |          | 0/? [00:00<?, ?it/s]"
      ]
     },
     "metadata": {},
     "output_type": "display_data"
    },
    {
     "data": {
      "application/vnd.jupyter.widget-view+json": {
       "model_id": "8e0c6b43e38045ecb1f8f87105a74752",
       "version_major": 2,
       "version_minor": 0
      },
      "text/plain": [
       "Validation: |          | 0/? [00:00<?, ?it/s]"
      ]
     },
     "metadata": {},
     "output_type": "display_data"
    },
    {
     "data": {
      "application/vnd.jupyter.widget-view+json": {
       "model_id": "7735b29a9bac41d893d31a9fefd888b9",
       "version_major": 2,
       "version_minor": 0
      },
      "text/plain": [
       "Validation: |          | 0/? [00:00<?, ?it/s]"
      ]
     },
     "metadata": {},
     "output_type": "display_data"
    },
    {
     "data": {
      "application/vnd.jupyter.widget-view+json": {
       "model_id": "687127599dbb4ababce29ea7bc4f58eb",
       "version_major": 2,
       "version_minor": 0
      },
      "text/plain": [
       "Validation: |          | 0/? [00:00<?, ?it/s]"
      ]
     },
     "metadata": {},
     "output_type": "display_data"
    },
    {
     "data": {
      "application/vnd.jupyter.widget-view+json": {
       "model_id": "3ef61884184a4db495586c35a1fedd53",
       "version_major": 2,
       "version_minor": 0
      },
      "text/plain": [
       "Validation: |          | 0/? [00:00<?, ?it/s]"
      ]
     },
     "metadata": {},
     "output_type": "display_data"
    },
    {
     "data": {
      "application/vnd.jupyter.widget-view+json": {
       "model_id": "4d3032120219435295996b6cf43ab4de",
       "version_major": 2,
       "version_minor": 0
      },
      "text/plain": [
       "Validation: |          | 0/? [00:00<?, ?it/s]"
      ]
     },
     "metadata": {},
     "output_type": "display_data"
    },
    {
     "data": {
      "application/vnd.jupyter.widget-view+json": {
       "model_id": "a6f64149b27241e9b41d0baf7d9b4589",
       "version_major": 2,
       "version_minor": 0
      },
      "text/plain": [
       "Validation: |          | 0/? [00:00<?, ?it/s]"
      ]
     },
     "metadata": {},
     "output_type": "display_data"
    },
    {
     "data": {
      "application/vnd.jupyter.widget-view+json": {
       "model_id": "96cfb3cf66b8480b83d83c5531950410",
       "version_major": 2,
       "version_minor": 0
      },
      "text/plain": [
       "Validation: |          | 0/? [00:00<?, ?it/s]"
      ]
     },
     "metadata": {},
     "output_type": "display_data"
    },
    {
     "data": {
      "application/vnd.jupyter.widget-view+json": {
       "model_id": "2f07fc6a94bc40689cb6eca1a6f2ac85",
       "version_major": 2,
       "version_minor": 0
      },
      "text/plain": [
       "Validation: |          | 0/? [00:00<?, ?it/s]"
      ]
     },
     "metadata": {},
     "output_type": "display_data"
    },
    {
     "data": {
      "application/vnd.jupyter.widget-view+json": {
       "model_id": "cd663e04e67849348eae2cf60279725f",
       "version_major": 2,
       "version_minor": 0
      },
      "text/plain": [
       "Validation: |          | 0/? [00:00<?, ?it/s]"
      ]
     },
     "metadata": {},
     "output_type": "display_data"
    },
    {
     "data": {
      "application/vnd.jupyter.widget-view+json": {
       "model_id": "722b24168c10484d9132c361ebc6f58e",
       "version_major": 2,
       "version_minor": 0
      },
      "text/plain": [
       "Validation: |          | 0/? [00:00<?, ?it/s]"
      ]
     },
     "metadata": {},
     "output_type": "display_data"
    },
    {
     "data": {
      "application/vnd.jupyter.widget-view+json": {
       "model_id": "a2dd64aee3364be5876f5c7f2ce52a9c",
       "version_major": 2,
       "version_minor": 0
      },
      "text/plain": [
       "Validation: |          | 0/? [00:00<?, ?it/s]"
      ]
     },
     "metadata": {},
     "output_type": "display_data"
    },
    {
     "data": {
      "application/vnd.jupyter.widget-view+json": {
       "model_id": "de01133e7daa44a1811114acde5852cd",
       "version_major": 2,
       "version_minor": 0
      },
      "text/plain": [
       "Validation: |          | 0/? [00:00<?, ?it/s]"
      ]
     },
     "metadata": {},
     "output_type": "display_data"
    },
    {
     "data": {
      "application/vnd.jupyter.widget-view+json": {
       "model_id": "3edcebccc4b04073b2d35255d32c1b8c",
       "version_major": 2,
       "version_minor": 0
      },
      "text/plain": [
       "Validation: |          | 0/? [00:00<?, ?it/s]"
      ]
     },
     "metadata": {},
     "output_type": "display_data"
    },
    {
     "data": {
      "application/vnd.jupyter.widget-view+json": {
       "model_id": "ad98f1895caf47689cb39fea22854817",
       "version_major": 2,
       "version_minor": 0
      },
      "text/plain": [
       "Validation: |          | 0/? [00:00<?, ?it/s]"
      ]
     },
     "metadata": {},
     "output_type": "display_data"
    },
    {
     "data": {
      "application/vnd.jupyter.widget-view+json": {
       "model_id": "0a880828c24c4b21872be78e70149ef0",
       "version_major": 2,
       "version_minor": 0
      },
      "text/plain": [
       "Validation: |          | 0/? [00:00<?, ?it/s]"
      ]
     },
     "metadata": {},
     "output_type": "display_data"
    },
    {
     "data": {
      "application/vnd.jupyter.widget-view+json": {
       "model_id": "700cc72e51f7494d9c8b194fe497580a",
       "version_major": 2,
       "version_minor": 0
      },
      "text/plain": [
       "Validation: |          | 0/? [00:00<?, ?it/s]"
      ]
     },
     "metadata": {},
     "output_type": "display_data"
    },
    {
     "data": {
      "application/vnd.jupyter.widget-view+json": {
       "model_id": "7f0e9210b1fe41d1b190caad3f18858e",
       "version_major": 2,
       "version_minor": 0
      },
      "text/plain": [
       "Validation: |          | 0/? [00:00<?, ?it/s]"
      ]
     },
     "metadata": {},
     "output_type": "display_data"
    },
    {
     "data": {
      "application/vnd.jupyter.widget-view+json": {
       "model_id": "4e83e357ca6a4bc786c1b929c535f4de",
       "version_major": 2,
       "version_minor": 0
      },
      "text/plain": [
       "Validation: |          | 0/? [00:00<?, ?it/s]"
      ]
     },
     "metadata": {},
     "output_type": "display_data"
    },
    {
     "data": {
      "application/vnd.jupyter.widget-view+json": {
       "model_id": "1919db29345b4fafb6189e3a9b3bbc2d",
       "version_major": 2,
       "version_minor": 0
      },
      "text/plain": [
       "Validation: |          | 0/? [00:00<?, ?it/s]"
      ]
     },
     "metadata": {},
     "output_type": "display_data"
    },
    {
     "data": {
      "application/vnd.jupyter.widget-view+json": {
       "model_id": "8c6d786846b04e5c842a8085234d1ad9",
       "version_major": 2,
       "version_minor": 0
      },
      "text/plain": [
       "Validation: |          | 0/? [00:00<?, ?it/s]"
      ]
     },
     "metadata": {},
     "output_type": "display_data"
    },
    {
     "data": {
      "application/vnd.jupyter.widget-view+json": {
       "model_id": "f2ddb9a0af124e42aec9a4a7e23931f5",
       "version_major": 2,
       "version_minor": 0
      },
      "text/plain": [
       "Validation: |          | 0/? [00:00<?, ?it/s]"
      ]
     },
     "metadata": {},
     "output_type": "display_data"
    },
    {
     "data": {
      "application/vnd.jupyter.widget-view+json": {
       "model_id": "b0be6ff2c8624d7e8f0ac443ad6982e4",
       "version_major": 2,
       "version_minor": 0
      },
      "text/plain": [
       "Validation: |          | 0/? [00:00<?, ?it/s]"
      ]
     },
     "metadata": {},
     "output_type": "display_data"
    },
    {
     "data": {
      "application/vnd.jupyter.widget-view+json": {
       "model_id": "0a94496e72404818bdfd164fc43045db",
       "version_major": 2,
       "version_minor": 0
      },
      "text/plain": [
       "Validation: |          | 0/? [00:00<?, ?it/s]"
      ]
     },
     "metadata": {},
     "output_type": "display_data"
    },
    {
     "data": {
      "application/vnd.jupyter.widget-view+json": {
       "model_id": "4f231ce289374634956b2425327f3ce7",
       "version_major": 2,
       "version_minor": 0
      },
      "text/plain": [
       "Validation: |          | 0/? [00:00<?, ?it/s]"
      ]
     },
     "metadata": {},
     "output_type": "display_data"
    },
    {
     "data": {
      "application/vnd.jupyter.widget-view+json": {
       "model_id": "ca6a623d76b942ef91dd87dc834c0c63",
       "version_major": 2,
       "version_minor": 0
      },
      "text/plain": [
       "Validation: |          | 0/? [00:00<?, ?it/s]"
      ]
     },
     "metadata": {},
     "output_type": "display_data"
    },
    {
     "data": {
      "application/vnd.jupyter.widget-view+json": {
       "model_id": "eacd14334a8a4cfd9d7c6325317b5799",
       "version_major": 2,
       "version_minor": 0
      },
      "text/plain": [
       "Validation: |          | 0/? [00:00<?, ?it/s]"
      ]
     },
     "metadata": {},
     "output_type": "display_data"
    },
    {
     "data": {
      "application/vnd.jupyter.widget-view+json": {
       "model_id": "d8f4919cdf224864b1fbe7b4ee240e8f",
       "version_major": 2,
       "version_minor": 0
      },
      "text/plain": [
       "Validation: |          | 0/? [00:00<?, ?it/s]"
      ]
     },
     "metadata": {},
     "output_type": "display_data"
    },
    {
     "data": {
      "application/vnd.jupyter.widget-view+json": {
       "model_id": "b15c4460ae504f4cbb414e88f6097cab",
       "version_major": 2,
       "version_minor": 0
      },
      "text/plain": [
       "Validation: |          | 0/? [00:00<?, ?it/s]"
      ]
     },
     "metadata": {},
     "output_type": "display_data"
    },
    {
     "data": {
      "application/vnd.jupyter.widget-view+json": {
       "model_id": "cfb22711828544e5b974ffd99c7f832f",
       "version_major": 2,
       "version_minor": 0
      },
      "text/plain": [
       "Validation: |          | 0/? [00:00<?, ?it/s]"
      ]
     },
     "metadata": {},
     "output_type": "display_data"
    },
    {
     "data": {
      "application/vnd.jupyter.widget-view+json": {
       "model_id": "5871f8f9183c43cd8d29b68ec6f97db7",
       "version_major": 2,
       "version_minor": 0
      },
      "text/plain": [
       "Validation: |          | 0/? [00:00<?, ?it/s]"
      ]
     },
     "metadata": {},
     "output_type": "display_data"
    },
    {
     "data": {
      "application/vnd.jupyter.widget-view+json": {
       "model_id": "2c92f053b06f4fd898d5ad11d0e5bf9e",
       "version_major": 2,
       "version_minor": 0
      },
      "text/plain": [
       "Validation: |          | 0/? [00:00<?, ?it/s]"
      ]
     },
     "metadata": {},
     "output_type": "display_data"
    },
    {
     "data": {
      "application/vnd.jupyter.widget-view+json": {
       "model_id": "5e4edb2ab6bf4da893c66f16f9ed6496",
       "version_major": 2,
       "version_minor": 0
      },
      "text/plain": [
       "Validation: |          | 0/? [00:00<?, ?it/s]"
      ]
     },
     "metadata": {},
     "output_type": "display_data"
    },
    {
     "data": {
      "application/vnd.jupyter.widget-view+json": {
       "model_id": "4027822e5a8f404fb7992f012aaa9130",
       "version_major": 2,
       "version_minor": 0
      },
      "text/plain": [
       "Validation: |          | 0/? [00:00<?, ?it/s]"
      ]
     },
     "metadata": {},
     "output_type": "display_data"
    },
    {
     "data": {
      "application/vnd.jupyter.widget-view+json": {
       "model_id": "b631a84bba7d4991a4f753ba568d2ce3",
       "version_major": 2,
       "version_minor": 0
      },
      "text/plain": [
       "Validation: |          | 0/? [00:00<?, ?it/s]"
      ]
     },
     "metadata": {},
     "output_type": "display_data"
    },
    {
     "data": {
      "application/vnd.jupyter.widget-view+json": {
       "model_id": "e8e345c195f34fc2b303ae218d7fb1f1",
       "version_major": 2,
       "version_minor": 0
      },
      "text/plain": [
       "Validation: |          | 0/? [00:00<?, ?it/s]"
      ]
     },
     "metadata": {},
     "output_type": "display_data"
    },
    {
     "data": {
      "application/vnd.jupyter.widget-view+json": {
       "model_id": "0320e28725fe456eba5284dd2477d167",
       "version_major": 2,
       "version_minor": 0
      },
      "text/plain": [
       "Validation: |          | 0/? [00:00<?, ?it/s]"
      ]
     },
     "metadata": {},
     "output_type": "display_data"
    },
    {
     "data": {
      "application/vnd.jupyter.widget-view+json": {
       "model_id": "9115f003aa4445c08e2c5780892f82e5",
       "version_major": 2,
       "version_minor": 0
      },
      "text/plain": [
       "Validation: |          | 0/? [00:00<?, ?it/s]"
      ]
     },
     "metadata": {},
     "output_type": "display_data"
    },
    {
     "data": {
      "application/vnd.jupyter.widget-view+json": {
       "model_id": "e59420af09f44be1bc88309b317ed6a4",
       "version_major": 2,
       "version_minor": 0
      },
      "text/plain": [
       "Validation: |          | 0/? [00:00<?, ?it/s]"
      ]
     },
     "metadata": {},
     "output_type": "display_data"
    },
    {
     "data": {
      "application/vnd.jupyter.widget-view+json": {
       "model_id": "150bbd5aa4cd4e1283c0423d75793b32",
       "version_major": 2,
       "version_minor": 0
      },
      "text/plain": [
       "Validation: |          | 0/? [00:00<?, ?it/s]"
      ]
     },
     "metadata": {},
     "output_type": "display_data"
    },
    {
     "data": {
      "application/vnd.jupyter.widget-view+json": {
       "model_id": "4f630e9c379b43f4befa1abb8ac2ddbd",
       "version_major": 2,
       "version_minor": 0
      },
      "text/plain": [
       "Validation: |          | 0/? [00:00<?, ?it/s]"
      ]
     },
     "metadata": {},
     "output_type": "display_data"
    },
    {
     "data": {
      "application/vnd.jupyter.widget-view+json": {
       "model_id": "465ba67f97174df1beeea84d562ea000",
       "version_major": 2,
       "version_minor": 0
      },
      "text/plain": [
       "Validation: |          | 0/? [00:00<?, ?it/s]"
      ]
     },
     "metadata": {},
     "output_type": "display_data"
    },
    {
     "data": {
      "application/vnd.jupyter.widget-view+json": {
       "model_id": "cde238e00fb34760851da467723d309a",
       "version_major": 2,
       "version_minor": 0
      },
      "text/plain": [
       "Validation: |          | 0/? [00:00<?, ?it/s]"
      ]
     },
     "metadata": {},
     "output_type": "display_data"
    },
    {
     "data": {
      "application/vnd.jupyter.widget-view+json": {
       "model_id": "5781fdef88dc4abbade6fd8aab813b87",
       "version_major": 2,
       "version_minor": 0
      },
      "text/plain": [
       "Validation: |          | 0/? [00:00<?, ?it/s]"
      ]
     },
     "metadata": {},
     "output_type": "display_data"
    },
    {
     "data": {
      "application/vnd.jupyter.widget-view+json": {
       "model_id": "2a91ee78fa79402a8361b36f00ee07a9",
       "version_major": 2,
       "version_minor": 0
      },
      "text/plain": [
       "Validation: |          | 0/? [00:00<?, ?it/s]"
      ]
     },
     "metadata": {},
     "output_type": "display_data"
    },
    {
     "data": {
      "application/vnd.jupyter.widget-view+json": {
       "model_id": "e4ba35be20924d82a7509e6427f231d6",
       "version_major": 2,
       "version_minor": 0
      },
      "text/plain": [
       "Validation: |          | 0/? [00:00<?, ?it/s]"
      ]
     },
     "metadata": {},
     "output_type": "display_data"
    },
    {
     "data": {
      "application/vnd.jupyter.widget-view+json": {
       "model_id": "6e101c0b98e845f08ffff394df0bef3c",
       "version_major": 2,
       "version_minor": 0
      },
      "text/plain": [
       "Validation: |          | 0/? [00:00<?, ?it/s]"
      ]
     },
     "metadata": {},
     "output_type": "display_data"
    },
    {
     "data": {
      "application/vnd.jupyter.widget-view+json": {
       "model_id": "bb4d8fe0a6be4b05af6e742eb569ae3a",
       "version_major": 2,
       "version_minor": 0
      },
      "text/plain": [
       "Validation: |          | 0/? [00:00<?, ?it/s]"
      ]
     },
     "metadata": {},
     "output_type": "display_data"
    },
    {
     "data": {
      "application/vnd.jupyter.widget-view+json": {
       "model_id": "81356885fa394e1a89e5dabaf52b4815",
       "version_major": 2,
       "version_minor": 0
      },
      "text/plain": [
       "Validation: |          | 0/? [00:00<?, ?it/s]"
      ]
     },
     "metadata": {},
     "output_type": "display_data"
    },
    {
     "data": {
      "application/vnd.jupyter.widget-view+json": {
       "model_id": "35be261d3fa64b2e9459a5ba7730d9a5",
       "version_major": 2,
       "version_minor": 0
      },
      "text/plain": [
       "Validation: |          | 0/? [00:00<?, ?it/s]"
      ]
     },
     "metadata": {},
     "output_type": "display_data"
    },
    {
     "data": {
      "application/vnd.jupyter.widget-view+json": {
       "model_id": "a0b687ef87c8410c9f3723f7a9e96d41",
       "version_major": 2,
       "version_minor": 0
      },
      "text/plain": [
       "Validation: |          | 0/? [00:00<?, ?it/s]"
      ]
     },
     "metadata": {},
     "output_type": "display_data"
    },
    {
     "data": {
      "application/vnd.jupyter.widget-view+json": {
       "model_id": "4e3bbbd725ad41fe842dd9bfb7cd8639",
       "version_major": 2,
       "version_minor": 0
      },
      "text/plain": [
       "Validation: |          | 0/? [00:00<?, ?it/s]"
      ]
     },
     "metadata": {},
     "output_type": "display_data"
    },
    {
     "data": {
      "application/vnd.jupyter.widget-view+json": {
       "model_id": "8601a0f72cf74fde8f5edcc040fc3b13",
       "version_major": 2,
       "version_minor": 0
      },
      "text/plain": [
       "Validation: |          | 0/? [00:00<?, ?it/s]"
      ]
     },
     "metadata": {},
     "output_type": "display_data"
    },
    {
     "data": {
      "application/vnd.jupyter.widget-view+json": {
       "model_id": "14ce7182327446e0aa639a2dd62b6a26",
       "version_major": 2,
       "version_minor": 0
      },
      "text/plain": [
       "Validation: |          | 0/? [00:00<?, ?it/s]"
      ]
     },
     "metadata": {},
     "output_type": "display_data"
    },
    {
     "data": {
      "application/vnd.jupyter.widget-view+json": {
       "model_id": "ed71477b261f4f81b29c2bf0fe24c7c7",
       "version_major": 2,
       "version_minor": 0
      },
      "text/plain": [
       "Validation: |          | 0/? [00:00<?, ?it/s]"
      ]
     },
     "metadata": {},
     "output_type": "display_data"
    },
    {
     "data": {
      "application/vnd.jupyter.widget-view+json": {
       "model_id": "8b10196705384ef897d33ce42a393ea1",
       "version_major": 2,
       "version_minor": 0
      },
      "text/plain": [
       "Validation: |          | 0/? [00:00<?, ?it/s]"
      ]
     },
     "metadata": {},
     "output_type": "display_data"
    },
    {
     "data": {
      "application/vnd.jupyter.widget-view+json": {
       "model_id": "e75ecc1710404fe1b8dce86b6708d799",
       "version_major": 2,
       "version_minor": 0
      },
      "text/plain": [
       "Validation: |          | 0/? [00:00<?, ?it/s]"
      ]
     },
     "metadata": {},
     "output_type": "display_data"
    },
    {
     "data": {
      "application/vnd.jupyter.widget-view+json": {
       "model_id": "711852f30e294f818e87c7cdf370cb4b",
       "version_major": 2,
       "version_minor": 0
      },
      "text/plain": [
       "Validation: |          | 0/? [00:00<?, ?it/s]"
      ]
     },
     "metadata": {},
     "output_type": "display_data"
    },
    {
     "data": {
      "application/vnd.jupyter.widget-view+json": {
       "model_id": "7728f14521394362bd2784402e03299e",
       "version_major": 2,
       "version_minor": 0
      },
      "text/plain": [
       "Validation: |          | 0/? [00:00<?, ?it/s]"
      ]
     },
     "metadata": {},
     "output_type": "display_data"
    },
    {
     "data": {
      "application/vnd.jupyter.widget-view+json": {
       "model_id": "4a54170fffdc41b2808167a62d58a218",
       "version_major": 2,
       "version_minor": 0
      },
      "text/plain": [
       "Validation: |          | 0/? [00:00<?, ?it/s]"
      ]
     },
     "metadata": {},
     "output_type": "display_data"
    },
    {
     "data": {
      "application/vnd.jupyter.widget-view+json": {
       "model_id": "d67c248b705e4f02bce851e0f1495fd5",
       "version_major": 2,
       "version_minor": 0
      },
      "text/plain": [
       "Validation: |          | 0/? [00:00<?, ?it/s]"
      ]
     },
     "metadata": {},
     "output_type": "display_data"
    },
    {
     "data": {
      "application/vnd.jupyter.widget-view+json": {
       "model_id": "539ab7455c934444b7bf84d24800f458",
       "version_major": 2,
       "version_minor": 0
      },
      "text/plain": [
       "Validation: |          | 0/? [00:00<?, ?it/s]"
      ]
     },
     "metadata": {},
     "output_type": "display_data"
    },
    {
     "data": {
      "application/vnd.jupyter.widget-view+json": {
       "model_id": "249017fe6f884e0abe97877394f7e2e5",
       "version_major": 2,
       "version_minor": 0
      },
      "text/plain": [
       "Validation: |          | 0/? [00:00<?, ?it/s]"
      ]
     },
     "metadata": {},
     "output_type": "display_data"
    },
    {
     "data": {
      "application/vnd.jupyter.widget-view+json": {
       "model_id": "2334b94b4906467e954f5799784f6400",
       "version_major": 2,
       "version_minor": 0
      },
      "text/plain": [
       "Validation: |          | 0/? [00:00<?, ?it/s]"
      ]
     },
     "metadata": {},
     "output_type": "display_data"
    },
    {
     "data": {
      "application/vnd.jupyter.widget-view+json": {
       "model_id": "0905558d7d1d4e02bb1b729493b4790b",
       "version_major": 2,
       "version_minor": 0
      },
      "text/plain": [
       "Validation: |          | 0/? [00:00<?, ?it/s]"
      ]
     },
     "metadata": {},
     "output_type": "display_data"
    },
    {
     "data": {
      "application/vnd.jupyter.widget-view+json": {
       "model_id": "0cac9020115140d1ba9ef88c7f90780d",
       "version_major": 2,
       "version_minor": 0
      },
      "text/plain": [
       "Validation: |          | 0/? [00:00<?, ?it/s]"
      ]
     },
     "metadata": {},
     "output_type": "display_data"
    },
    {
     "data": {
      "application/vnd.jupyter.widget-view+json": {
       "model_id": "d0364b546bd04fb897067f6c95712a14",
       "version_major": 2,
       "version_minor": 0
      },
      "text/plain": [
       "Validation: |          | 0/? [00:00<?, ?it/s]"
      ]
     },
     "metadata": {},
     "output_type": "display_data"
    },
    {
     "data": {
      "application/vnd.jupyter.widget-view+json": {
       "model_id": "2ad90691b87d4a7c85b8a005b51a3d41",
       "version_major": 2,
       "version_minor": 0
      },
      "text/plain": [
       "Validation: |          | 0/? [00:00<?, ?it/s]"
      ]
     },
     "metadata": {},
     "output_type": "display_data"
    },
    {
     "data": {
      "application/vnd.jupyter.widget-view+json": {
       "model_id": "d5987e121cd34fe88f5f42853255728d",
       "version_major": 2,
       "version_minor": 0
      },
      "text/plain": [
       "Validation: |          | 0/? [00:00<?, ?it/s]"
      ]
     },
     "metadata": {},
     "output_type": "display_data"
    },
    {
     "data": {
      "application/vnd.jupyter.widget-view+json": {
       "model_id": "d02db8c33653476ea5b4a4962a4c0567",
       "version_major": 2,
       "version_minor": 0
      },
      "text/plain": [
       "Validation: |          | 0/? [00:00<?, ?it/s]"
      ]
     },
     "metadata": {},
     "output_type": "display_data"
    },
    {
     "data": {
      "application/vnd.jupyter.widget-view+json": {
       "model_id": "5cd12b0fec8c42af84da441098773625",
       "version_major": 2,
       "version_minor": 0
      },
      "text/plain": [
       "Validation: |          | 0/? [00:00<?, ?it/s]"
      ]
     },
     "metadata": {},
     "output_type": "display_data"
    },
    {
     "data": {
      "application/vnd.jupyter.widget-view+json": {
       "model_id": "5c8f48a9dd314913a2997d34d193cbba",
       "version_major": 2,
       "version_minor": 0
      },
      "text/plain": [
       "Validation: |          | 0/? [00:00<?, ?it/s]"
      ]
     },
     "metadata": {},
     "output_type": "display_data"
    },
    {
     "data": {
      "application/vnd.jupyter.widget-view+json": {
       "model_id": "5b5dad0753c644ea818d58d371b76ad1",
       "version_major": 2,
       "version_minor": 0
      },
      "text/plain": [
       "Validation: |          | 0/? [00:00<?, ?it/s]"
      ]
     },
     "metadata": {},
     "output_type": "display_data"
    },
    {
     "data": {
      "application/vnd.jupyter.widget-view+json": {
       "model_id": "b19252bb7d5e44c0a088d6ffa5ea2149",
       "version_major": 2,
       "version_minor": 0
      },
      "text/plain": [
       "Validation: |          | 0/? [00:00<?, ?it/s]"
      ]
     },
     "metadata": {},
     "output_type": "display_data"
    },
    {
     "data": {
      "application/vnd.jupyter.widget-view+json": {
       "model_id": "c1d3111491aa4bbc92d638e4613f8e10",
       "version_major": 2,
       "version_minor": 0
      },
      "text/plain": [
       "Validation: |          | 0/? [00:00<?, ?it/s]"
      ]
     },
     "metadata": {},
     "output_type": "display_data"
    },
    {
     "data": {
      "application/vnd.jupyter.widget-view+json": {
       "model_id": "beb5364e9d294429bd16e51d208ff701",
       "version_major": 2,
       "version_minor": 0
      },
      "text/plain": [
       "Validation: |          | 0/? [00:00<?, ?it/s]"
      ]
     },
     "metadata": {},
     "output_type": "display_data"
    },
    {
     "data": {
      "application/vnd.jupyter.widget-view+json": {
       "model_id": "f1cad21fb73142c296ed0396e1bd549f",
       "version_major": 2,
       "version_minor": 0
      },
      "text/plain": [
       "Validation: |          | 0/? [00:00<?, ?it/s]"
      ]
     },
     "metadata": {},
     "output_type": "display_data"
    },
    {
     "data": {
      "application/vnd.jupyter.widget-view+json": {
       "model_id": "b7bb4518482148cb985bc8c6f62f0800",
       "version_major": 2,
       "version_minor": 0
      },
      "text/plain": [
       "Validation: |          | 0/? [00:00<?, ?it/s]"
      ]
     },
     "metadata": {},
     "output_type": "display_data"
    },
    {
     "data": {
      "application/vnd.jupyter.widget-view+json": {
       "model_id": "4efb4f806e194ac695b0d59ecdf4e80a",
       "version_major": 2,
       "version_minor": 0
      },
      "text/plain": [
       "Validation: |          | 0/? [00:00<?, ?it/s]"
      ]
     },
     "metadata": {},
     "output_type": "display_data"
    },
    {
     "data": {
      "application/vnd.jupyter.widget-view+json": {
       "model_id": "bfdd8c221e4c41d993e8943fd1e6cea0",
       "version_major": 2,
       "version_minor": 0
      },
      "text/plain": [
       "Validation: |          | 0/? [00:00<?, ?it/s]"
      ]
     },
     "metadata": {},
     "output_type": "display_data"
    },
    {
     "data": {
      "application/vnd.jupyter.widget-view+json": {
       "model_id": "a3dd3c2ca5b84698913bfeef46a1202b",
       "version_major": 2,
       "version_minor": 0
      },
      "text/plain": [
       "Validation: |          | 0/? [00:00<?, ?it/s]"
      ]
     },
     "metadata": {},
     "output_type": "display_data"
    },
    {
     "data": {
      "application/vnd.jupyter.widget-view+json": {
       "model_id": "e6b7de756e01403eb5f21c431a574d14",
       "version_major": 2,
       "version_minor": 0
      },
      "text/plain": [
       "Validation: |          | 0/? [00:00<?, ?it/s]"
      ]
     },
     "metadata": {},
     "output_type": "display_data"
    },
    {
     "data": {
      "application/vnd.jupyter.widget-view+json": {
       "model_id": "060f39576dcd4b82b13aada037cd6e7f",
       "version_major": 2,
       "version_minor": 0
      },
      "text/plain": [
       "Validation: |          | 0/? [00:00<?, ?it/s]"
      ]
     },
     "metadata": {},
     "output_type": "display_data"
    },
    {
     "data": {
      "application/vnd.jupyter.widget-view+json": {
       "model_id": "1989b82ee39c4cd698f8be77d22bf70c",
       "version_major": 2,
       "version_minor": 0
      },
      "text/plain": [
       "Validation: |          | 0/? [00:00<?, ?it/s]"
      ]
     },
     "metadata": {},
     "output_type": "display_data"
    },
    {
     "data": {
      "application/vnd.jupyter.widget-view+json": {
       "model_id": "8b932ffd72c84d09896351d88800702f",
       "version_major": 2,
       "version_minor": 0
      },
      "text/plain": [
       "Validation: |          | 0/? [00:00<?, ?it/s]"
      ]
     },
     "metadata": {},
     "output_type": "display_data"
    },
    {
     "data": {
      "application/vnd.jupyter.widget-view+json": {
       "model_id": "1bf4de90154d413182e4b74bbcce5663",
       "version_major": 2,
       "version_minor": 0
      },
      "text/plain": [
       "Validation: |          | 0/? [00:00<?, ?it/s]"
      ]
     },
     "metadata": {},
     "output_type": "display_data"
    },
    {
     "data": {
      "application/vnd.jupyter.widget-view+json": {
       "model_id": "51141a4364a74bd6868922578975b751",
       "version_major": 2,
       "version_minor": 0
      },
      "text/plain": [
       "Validation: |          | 0/? [00:00<?, ?it/s]"
      ]
     },
     "metadata": {},
     "output_type": "display_data"
    },
    {
     "data": {
      "application/vnd.jupyter.widget-view+json": {
       "model_id": "72d0ba367fa241d2977fec55c75d44b2",
       "version_major": 2,
       "version_minor": 0
      },
      "text/plain": [
       "Validation: |          | 0/? [00:00<?, ?it/s]"
      ]
     },
     "metadata": {},
     "output_type": "display_data"
    },
    {
     "data": {
      "application/vnd.jupyter.widget-view+json": {
       "model_id": "df911602b69940988ea663b644da2f0d",
       "version_major": 2,
       "version_minor": 0
      },
      "text/plain": [
       "Validation: |          | 0/? [00:00<?, ?it/s]"
      ]
     },
     "metadata": {},
     "output_type": "display_data"
    },
    {
     "data": {
      "application/vnd.jupyter.widget-view+json": {
       "model_id": "ed03752fb92041c4847e18de5c315b50",
       "version_major": 2,
       "version_minor": 0
      },
      "text/plain": [
       "Validation: |          | 0/? [00:00<?, ?it/s]"
      ]
     },
     "metadata": {},
     "output_type": "display_data"
    },
    {
     "data": {
      "application/vnd.jupyter.widget-view+json": {
       "model_id": "c79c531dece04488ba0f4544196ccdcd",
       "version_major": 2,
       "version_minor": 0
      },
      "text/plain": [
       "Validation: |          | 0/? [00:00<?, ?it/s]"
      ]
     },
     "metadata": {},
     "output_type": "display_data"
    },
    {
     "data": {
      "application/vnd.jupyter.widget-view+json": {
       "model_id": "01d58c9d471d439d964e667d12c8e508",
       "version_major": 2,
       "version_minor": 0
      },
      "text/plain": [
       "Validation: |          | 0/? [00:00<?, ?it/s]"
      ]
     },
     "metadata": {},
     "output_type": "display_data"
    },
    {
     "data": {
      "application/vnd.jupyter.widget-view+json": {
       "model_id": "988efddf5130489dba7032dd2c38b866",
       "version_major": 2,
       "version_minor": 0
      },
      "text/plain": [
       "Validation: |          | 0/? [00:00<?, ?it/s]"
      ]
     },
     "metadata": {},
     "output_type": "display_data"
    },
    {
     "data": {
      "application/vnd.jupyter.widget-view+json": {
       "model_id": "d3525b50f849451085db1997a4d965f8",
       "version_major": 2,
       "version_minor": 0
      },
      "text/plain": [
       "Validation: |          | 0/? [00:00<?, ?it/s]"
      ]
     },
     "metadata": {},
     "output_type": "display_data"
    },
    {
     "data": {
      "application/vnd.jupyter.widget-view+json": {
       "model_id": "5a0f0d618d1c4f398ed3e00359c549ac",
       "version_major": 2,
       "version_minor": 0
      },
      "text/plain": [
       "Validation: |          | 0/? [00:00<?, ?it/s]"
      ]
     },
     "metadata": {},
     "output_type": "display_data"
    },
    {
     "data": {
      "application/vnd.jupyter.widget-view+json": {
       "model_id": "64683f2a8d164580898a47e5e9a29778",
       "version_major": 2,
       "version_minor": 0
      },
      "text/plain": [
       "Validation: |          | 0/? [00:00<?, ?it/s]"
      ]
     },
     "metadata": {},
     "output_type": "display_data"
    },
    {
     "data": {
      "application/vnd.jupyter.widget-view+json": {
       "model_id": "fdaf88cc0cdf45858cb6fd52bd1b8fa9",
       "version_major": 2,
       "version_minor": 0
      },
      "text/plain": [
       "Validation: |          | 0/? [00:00<?, ?it/s]"
      ]
     },
     "metadata": {},
     "output_type": "display_data"
    },
    {
     "data": {
      "application/vnd.jupyter.widget-view+json": {
       "model_id": "019d149970974ef2a89129f874492669",
       "version_major": 2,
       "version_minor": 0
      },
      "text/plain": [
       "Validation: |          | 0/? [00:00<?, ?it/s]"
      ]
     },
     "metadata": {},
     "output_type": "display_data"
    },
    {
     "data": {
      "application/vnd.jupyter.widget-view+json": {
       "model_id": "c7870bd7189840378e1ef93c03450d28",
       "version_major": 2,
       "version_minor": 0
      },
      "text/plain": [
       "Validation: |          | 0/? [00:00<?, ?it/s]"
      ]
     },
     "metadata": {},
     "output_type": "display_data"
    },
    {
     "data": {
      "application/vnd.jupyter.widget-view+json": {
       "model_id": "73f89ce93398420c87497bcd7394e52a",
       "version_major": 2,
       "version_minor": 0
      },
      "text/plain": [
       "Validation: |          | 0/? [00:00<?, ?it/s]"
      ]
     },
     "metadata": {},
     "output_type": "display_data"
    },
    {
     "data": {
      "application/vnd.jupyter.widget-view+json": {
       "model_id": "9cfc172466c543bcbfb8e739ecb8b3f0",
       "version_major": 2,
       "version_minor": 0
      },
      "text/plain": [
       "Validation: |          | 0/? [00:00<?, ?it/s]"
      ]
     },
     "metadata": {},
     "output_type": "display_data"
    },
    {
     "data": {
      "application/vnd.jupyter.widget-view+json": {
       "model_id": "adf825c19abd4e4bbe431823274ff030",
       "version_major": 2,
       "version_minor": 0
      },
      "text/plain": [
       "Validation: |          | 0/? [00:00<?, ?it/s]"
      ]
     },
     "metadata": {},
     "output_type": "display_data"
    },
    {
     "data": {
      "application/vnd.jupyter.widget-view+json": {
       "model_id": "77d83e71491b458884bbfd48b83600c0",
       "version_major": 2,
       "version_minor": 0
      },
      "text/plain": [
       "Validation: |          | 0/? [00:00<?, ?it/s]"
      ]
     },
     "metadata": {},
     "output_type": "display_data"
    },
    {
     "data": {
      "application/vnd.jupyter.widget-view+json": {
       "model_id": "46691319a0fd42439d7c54dc44e9100d",
       "version_major": 2,
       "version_minor": 0
      },
      "text/plain": [
       "Validation: |          | 0/? [00:00<?, ?it/s]"
      ]
     },
     "metadata": {},
     "output_type": "display_data"
    },
    {
     "data": {
      "application/vnd.jupyter.widget-view+json": {
       "model_id": "64e24c40be284c888fd8373725fe9e49",
       "version_major": 2,
       "version_minor": 0
      },
      "text/plain": [
       "Validation: |          | 0/? [00:00<?, ?it/s]"
      ]
     },
     "metadata": {},
     "output_type": "display_data"
    },
    {
     "data": {
      "application/vnd.jupyter.widget-view+json": {
       "model_id": "6d51e19199814073869eab13d8dbe5f7",
       "version_major": 2,
       "version_minor": 0
      },
      "text/plain": [
       "Validation: |          | 0/? [00:00<?, ?it/s]"
      ]
     },
     "metadata": {},
     "output_type": "display_data"
    },
    {
     "data": {
      "application/vnd.jupyter.widget-view+json": {
       "model_id": "b184988cc9484dff9564f6a8203a0936",
       "version_major": 2,
       "version_minor": 0
      },
      "text/plain": [
       "Validation: |          | 0/? [00:00<?, ?it/s]"
      ]
     },
     "metadata": {},
     "output_type": "display_data"
    },
    {
     "data": {
      "application/vnd.jupyter.widget-view+json": {
       "model_id": "7601522d4c384f31bf137e11993f540e",
       "version_major": 2,
       "version_minor": 0
      },
      "text/plain": [
       "Validation: |          | 0/? [00:00<?, ?it/s]"
      ]
     },
     "metadata": {},
     "output_type": "display_data"
    },
    {
     "data": {
      "application/vnd.jupyter.widget-view+json": {
       "model_id": "6d041c74b121403f8d5185af80f01673",
       "version_major": 2,
       "version_minor": 0
      },
      "text/plain": [
       "Validation: |          | 0/? [00:00<?, ?it/s]"
      ]
     },
     "metadata": {},
     "output_type": "display_data"
    },
    {
     "data": {
      "application/vnd.jupyter.widget-view+json": {
       "model_id": "7faf41c4f9a44bb6aad2829990a7eb36",
       "version_major": 2,
       "version_minor": 0
      },
      "text/plain": [
       "Validation: |          | 0/? [00:00<?, ?it/s]"
      ]
     },
     "metadata": {},
     "output_type": "display_data"
    },
    {
     "data": {
      "application/vnd.jupyter.widget-view+json": {
       "model_id": "1b71e1acd1ea4e39b0049194b3393dd2",
       "version_major": 2,
       "version_minor": 0
      },
      "text/plain": [
       "Validation: |          | 0/? [00:00<?, ?it/s]"
      ]
     },
     "metadata": {},
     "output_type": "display_data"
    },
    {
     "data": {
      "application/vnd.jupyter.widget-view+json": {
       "model_id": "f133c298c3d245d8a5d3f7d45124b6ae",
       "version_major": 2,
       "version_minor": 0
      },
      "text/plain": [
       "Validation: |          | 0/? [00:00<?, ?it/s]"
      ]
     },
     "metadata": {},
     "output_type": "display_data"
    },
    {
     "data": {
      "application/vnd.jupyter.widget-view+json": {
       "model_id": "26dde4ce5d4845aa8415469204eea689",
       "version_major": 2,
       "version_minor": 0
      },
      "text/plain": [
       "Validation: |          | 0/? [00:00<?, ?it/s]"
      ]
     },
     "metadata": {},
     "output_type": "display_data"
    },
    {
     "data": {
      "application/vnd.jupyter.widget-view+json": {
       "model_id": "949a78a9772e4c1fb4678a0f91733238",
       "version_major": 2,
       "version_minor": 0
      },
      "text/plain": [
       "Validation: |          | 0/? [00:00<?, ?it/s]"
      ]
     },
     "metadata": {},
     "output_type": "display_data"
    },
    {
     "data": {
      "application/vnd.jupyter.widget-view+json": {
       "model_id": "3c096e0ed5a4458281cc5867607eb631",
       "version_major": 2,
       "version_minor": 0
      },
      "text/plain": [
       "Validation: |          | 0/? [00:00<?, ?it/s]"
      ]
     },
     "metadata": {},
     "output_type": "display_data"
    },
    {
     "data": {
      "application/vnd.jupyter.widget-view+json": {
       "model_id": "5808c23512da458eaca71aebc7771a04",
       "version_major": 2,
       "version_minor": 0
      },
      "text/plain": [
       "Validation: |          | 0/? [00:00<?, ?it/s]"
      ]
     },
     "metadata": {},
     "output_type": "display_data"
    },
    {
     "data": {
      "application/vnd.jupyter.widget-view+json": {
       "model_id": "262835c88b3c4f0c98cd8e7bade1014a",
       "version_major": 2,
       "version_minor": 0
      },
      "text/plain": [
       "Validation: |          | 0/? [00:00<?, ?it/s]"
      ]
     },
     "metadata": {},
     "output_type": "display_data"
    },
    {
     "data": {
      "application/vnd.jupyter.widget-view+json": {
       "model_id": "52f11463742447e2ac8a218e2edd6f01",
       "version_major": 2,
       "version_minor": 0
      },
      "text/plain": [
       "Validation: |          | 0/? [00:00<?, ?it/s]"
      ]
     },
     "metadata": {},
     "output_type": "display_data"
    },
    {
     "data": {
      "application/vnd.jupyter.widget-view+json": {
       "model_id": "87cd915c39044d188178e436e5141361",
       "version_major": 2,
       "version_minor": 0
      },
      "text/plain": [
       "Validation: |          | 0/? [00:00<?, ?it/s]"
      ]
     },
     "metadata": {},
     "output_type": "display_data"
    },
    {
     "data": {
      "application/vnd.jupyter.widget-view+json": {
       "model_id": "b10ad8a881e040c3871c5b03cad16751",
       "version_major": 2,
       "version_minor": 0
      },
      "text/plain": [
       "Validation: |          | 0/? [00:00<?, ?it/s]"
      ]
     },
     "metadata": {},
     "output_type": "display_data"
    },
    {
     "data": {
      "application/vnd.jupyter.widget-view+json": {
       "model_id": "9d8ae99010a64f18b28917efbae75e82",
       "version_major": 2,
       "version_minor": 0
      },
      "text/plain": [
       "Validation: |          | 0/? [00:00<?, ?it/s]"
      ]
     },
     "metadata": {},
     "output_type": "display_data"
    },
    {
     "data": {
      "application/vnd.jupyter.widget-view+json": {
       "model_id": "0de2bd78d9a84316b7b9d079245e2169",
       "version_major": 2,
       "version_minor": 0
      },
      "text/plain": [
       "Validation: |          | 0/? [00:00<?, ?it/s]"
      ]
     },
     "metadata": {},
     "output_type": "display_data"
    },
    {
     "data": {
      "application/vnd.jupyter.widget-view+json": {
       "model_id": "58aeec780054439e85e66f6c8b1a0f6a",
       "version_major": 2,
       "version_minor": 0
      },
      "text/plain": [
       "Validation: |          | 0/? [00:00<?, ?it/s]"
      ]
     },
     "metadata": {},
     "output_type": "display_data"
    },
    {
     "data": {
      "application/vnd.jupyter.widget-view+json": {
       "model_id": "32b2c3ff10bc4de1875ecea253024b10",
       "version_major": 2,
       "version_minor": 0
      },
      "text/plain": [
       "Validation: |          | 0/? [00:00<?, ?it/s]"
      ]
     },
     "metadata": {},
     "output_type": "display_data"
    },
    {
     "data": {
      "application/vnd.jupyter.widget-view+json": {
       "model_id": "ab9902f6aaf34cf899458a6d7815db89",
       "version_major": 2,
       "version_minor": 0
      },
      "text/plain": [
       "Validation: |          | 0/? [00:00<?, ?it/s]"
      ]
     },
     "metadata": {},
     "output_type": "display_data"
    },
    {
     "data": {
      "application/vnd.jupyter.widget-view+json": {
       "model_id": "d73a27e490ca47b3a99d6464e12aa55c",
       "version_major": 2,
       "version_minor": 0
      },
      "text/plain": [
       "Validation: |          | 0/? [00:00<?, ?it/s]"
      ]
     },
     "metadata": {},
     "output_type": "display_data"
    },
    {
     "data": {
      "application/vnd.jupyter.widget-view+json": {
       "model_id": "e35953d84d6b4f62b62eb7e8cd87c3d9",
       "version_major": 2,
       "version_minor": 0
      },
      "text/plain": [
       "Validation: |          | 0/? [00:00<?, ?it/s]"
      ]
     },
     "metadata": {},
     "output_type": "display_data"
    },
    {
     "data": {
      "application/vnd.jupyter.widget-view+json": {
       "model_id": "b74fff8133544c0aa9b87cdda43116c4",
       "version_major": 2,
       "version_minor": 0
      },
      "text/plain": [
       "Validation: |          | 0/? [00:00<?, ?it/s]"
      ]
     },
     "metadata": {},
     "output_type": "display_data"
    },
    {
     "data": {
      "application/vnd.jupyter.widget-view+json": {
       "model_id": "271e65dec1244ea980c66cc7ac9a2298",
       "version_major": 2,
       "version_minor": 0
      },
      "text/plain": [
       "Validation: |          | 0/? [00:00<?, ?it/s]"
      ]
     },
     "metadata": {},
     "output_type": "display_data"
    },
    {
     "data": {
      "application/vnd.jupyter.widget-view+json": {
       "model_id": "07186a03a0c54589b0590091a20324a5",
       "version_major": 2,
       "version_minor": 0
      },
      "text/plain": [
       "Validation: |          | 0/? [00:00<?, ?it/s]"
      ]
     },
     "metadata": {},
     "output_type": "display_data"
    },
    {
     "data": {
      "application/vnd.jupyter.widget-view+json": {
       "model_id": "981add54208644cab41b5b06a6ccea1b",
       "version_major": 2,
       "version_minor": 0
      },
      "text/plain": [
       "Validation: |          | 0/? [00:00<?, ?it/s]"
      ]
     },
     "metadata": {},
     "output_type": "display_data"
    },
    {
     "data": {
      "application/vnd.jupyter.widget-view+json": {
       "model_id": "afc531ac0f1a4468ae64e943222fb963",
       "version_major": 2,
       "version_minor": 0
      },
      "text/plain": [
       "Validation: |          | 0/? [00:00<?, ?it/s]"
      ]
     },
     "metadata": {},
     "output_type": "display_data"
    },
    {
     "data": {
      "application/vnd.jupyter.widget-view+json": {
       "model_id": "2f37952eccf24696b295418089d521cb",
       "version_major": 2,
       "version_minor": 0
      },
      "text/plain": [
       "Validation: |          | 0/? [00:00<?, ?it/s]"
      ]
     },
     "metadata": {},
     "output_type": "display_data"
    },
    {
     "data": {
      "application/vnd.jupyter.widget-view+json": {
       "model_id": "903094dbd39b4a9ca715934ab68bd6da",
       "version_major": 2,
       "version_minor": 0
      },
      "text/plain": [
       "Validation: |          | 0/? [00:00<?, ?it/s]"
      ]
     },
     "metadata": {},
     "output_type": "display_data"
    },
    {
     "data": {
      "application/vnd.jupyter.widget-view+json": {
       "model_id": "503f2d404bec4204b756ef19dbd3f176",
       "version_major": 2,
       "version_minor": 0
      },
      "text/plain": [
       "Validation: |          | 0/? [00:00<?, ?it/s]"
      ]
     },
     "metadata": {},
     "output_type": "display_data"
    },
    {
     "data": {
      "application/vnd.jupyter.widget-view+json": {
       "model_id": "1e14a54c232c4710b1fa7b4f68f775d8",
       "version_major": 2,
       "version_minor": 0
      },
      "text/plain": [
       "Validation: |          | 0/? [00:00<?, ?it/s]"
      ]
     },
     "metadata": {},
     "output_type": "display_data"
    },
    {
     "data": {
      "application/vnd.jupyter.widget-view+json": {
       "model_id": "3edb619d4a9141029f6db0ee2f0d4c78",
       "version_major": 2,
       "version_minor": 0
      },
      "text/plain": [
       "Validation: |          | 0/? [00:00<?, ?it/s]"
      ]
     },
     "metadata": {},
     "output_type": "display_data"
    },
    {
     "data": {
      "application/vnd.jupyter.widget-view+json": {
       "model_id": "d965d99be5ea416fb337f6902ca95090",
       "version_major": 2,
       "version_minor": 0
      },
      "text/plain": [
       "Validation: |          | 0/? [00:00<?, ?it/s]"
      ]
     },
     "metadata": {},
     "output_type": "display_data"
    },
    {
     "data": {
      "application/vnd.jupyter.widget-view+json": {
       "model_id": "ea0af2fffd004401b2b7535fad21da1d",
       "version_major": 2,
       "version_minor": 0
      },
      "text/plain": [
       "Validation: |          | 0/? [00:00<?, ?it/s]"
      ]
     },
     "metadata": {},
     "output_type": "display_data"
    },
    {
     "data": {
      "application/vnd.jupyter.widget-view+json": {
       "model_id": "9453aeb8f696403395ea416053886d85",
       "version_major": 2,
       "version_minor": 0
      },
      "text/plain": [
       "Validation: |          | 0/? [00:00<?, ?it/s]"
      ]
     },
     "metadata": {},
     "output_type": "display_data"
    },
    {
     "data": {
      "application/vnd.jupyter.widget-view+json": {
       "model_id": "50f3854736e547f29f05fcb761809164",
       "version_major": 2,
       "version_minor": 0
      },
      "text/plain": [
       "Validation: |          | 0/? [00:00<?, ?it/s]"
      ]
     },
     "metadata": {},
     "output_type": "display_data"
    },
    {
     "data": {
      "application/vnd.jupyter.widget-view+json": {
       "model_id": "ffc9d39353c54d159cdfecda489fe348",
       "version_major": 2,
       "version_minor": 0
      },
      "text/plain": [
       "Validation: |          | 0/? [00:00<?, ?it/s]"
      ]
     },
     "metadata": {},
     "output_type": "display_data"
    },
    {
     "data": {
      "application/vnd.jupyter.widget-view+json": {
       "model_id": "c4404a34e45a449188adc226f2cd2c4a",
       "version_major": 2,
       "version_minor": 0
      },
      "text/plain": [
       "Validation: |          | 0/? [00:00<?, ?it/s]"
      ]
     },
     "metadata": {},
     "output_type": "display_data"
    },
    {
     "data": {
      "application/vnd.jupyter.widget-view+json": {
       "model_id": "89b399e65c3e40068f89f4cb2a1eb6d2",
       "version_major": 2,
       "version_minor": 0
      },
      "text/plain": [
       "Validation: |          | 0/? [00:00<?, ?it/s]"
      ]
     },
     "metadata": {},
     "output_type": "display_data"
    },
    {
     "data": {
      "application/vnd.jupyter.widget-view+json": {
       "model_id": "6769859c5f6546f79c1bc9262a55ced1",
       "version_major": 2,
       "version_minor": 0
      },
      "text/plain": [
       "Validation: |          | 0/? [00:00<?, ?it/s]"
      ]
     },
     "metadata": {},
     "output_type": "display_data"
    },
    {
     "data": {
      "application/vnd.jupyter.widget-view+json": {
       "model_id": "e57b80dfe5114d04ae0755813c88477c",
       "version_major": 2,
       "version_minor": 0
      },
      "text/plain": [
       "Validation: |          | 0/? [00:00<?, ?it/s]"
      ]
     },
     "metadata": {},
     "output_type": "display_data"
    },
    {
     "data": {
      "application/vnd.jupyter.widget-view+json": {
       "model_id": "46ab80844dc24019af6f4060194d53f3",
       "version_major": 2,
       "version_minor": 0
      },
      "text/plain": [
       "Validation: |          | 0/? [00:00<?, ?it/s]"
      ]
     },
     "metadata": {},
     "output_type": "display_data"
    },
    {
     "data": {
      "application/vnd.jupyter.widget-view+json": {
       "model_id": "85d3260e164c4266bf892f6b647160eb",
       "version_major": 2,
       "version_minor": 0
      },
      "text/plain": [
       "Validation: |          | 0/? [00:00<?, ?it/s]"
      ]
     },
     "metadata": {},
     "output_type": "display_data"
    },
    {
     "data": {
      "application/vnd.jupyter.widget-view+json": {
       "model_id": "c9baa6ba1e8c4579bb16549c46d44653",
       "version_major": 2,
       "version_minor": 0
      },
      "text/plain": [
       "Validation: |          | 0/? [00:00<?, ?it/s]"
      ]
     },
     "metadata": {},
     "output_type": "display_data"
    },
    {
     "data": {
      "application/vnd.jupyter.widget-view+json": {
       "model_id": "91d60215e3584c4585abca2300dce26e",
       "version_major": 2,
       "version_minor": 0
      },
      "text/plain": [
       "Validation: |          | 0/? [00:00<?, ?it/s]"
      ]
     },
     "metadata": {},
     "output_type": "display_data"
    },
    {
     "data": {
      "application/vnd.jupyter.widget-view+json": {
       "model_id": "64c22ebee7c3469c8090926af4f8b0df",
       "version_major": 2,
       "version_minor": 0
      },
      "text/plain": [
       "Validation: |          | 0/? [00:00<?, ?it/s]"
      ]
     },
     "metadata": {},
     "output_type": "display_data"
    },
    {
     "data": {
      "application/vnd.jupyter.widget-view+json": {
       "model_id": "d32050fbc6924a73a3d458213960ef81",
       "version_major": 2,
       "version_minor": 0
      },
      "text/plain": [
       "Validation: |          | 0/? [00:00<?, ?it/s]"
      ]
     },
     "metadata": {},
     "output_type": "display_data"
    },
    {
     "data": {
      "application/vnd.jupyter.widget-view+json": {
       "model_id": "ae86207666154f23b3e9293d702a3c2b",
       "version_major": 2,
       "version_minor": 0
      },
      "text/plain": [
       "Validation: |          | 0/? [00:00<?, ?it/s]"
      ]
     },
     "metadata": {},
     "output_type": "display_data"
    },
    {
     "data": {
      "application/vnd.jupyter.widget-view+json": {
       "model_id": "9bf8b17a4b51446b8eaf343f6cf60e88",
       "version_major": 2,
       "version_minor": 0
      },
      "text/plain": [
       "Validation: |          | 0/? [00:00<?, ?it/s]"
      ]
     },
     "metadata": {},
     "output_type": "display_data"
    },
    {
     "data": {
      "application/vnd.jupyter.widget-view+json": {
       "model_id": "eba1e0bca86d41db81c3cc97667828da",
       "version_major": 2,
       "version_minor": 0
      },
      "text/plain": [
       "Validation: |          | 0/? [00:00<?, ?it/s]"
      ]
     },
     "metadata": {},
     "output_type": "display_data"
    },
    {
     "data": {
      "application/vnd.jupyter.widget-view+json": {
       "model_id": "742a8b48526e4f9694098a95e11611c7",
       "version_major": 2,
       "version_minor": 0
      },
      "text/plain": [
       "Validation: |          | 0/? [00:00<?, ?it/s]"
      ]
     },
     "metadata": {},
     "output_type": "display_data"
    },
    {
     "data": {
      "application/vnd.jupyter.widget-view+json": {
       "model_id": "5eca6f1f66c14af0bcea42612b6ee816",
       "version_major": 2,
       "version_minor": 0
      },
      "text/plain": [
       "Validation: |          | 0/? [00:00<?, ?it/s]"
      ]
     },
     "metadata": {},
     "output_type": "display_data"
    }
   ],
   "source": [
    "# Instantiate the model and trainer or load from checkpoint:\n",
    "ad_net = AD_Net(c_layers=[4] + [neuron_num for _ in range(hid_layer_num)] + [1],\n",
    "    u_layers=[3] + [neuron_num for _ in range(hid_layer_num)] + [3],\n",
    "    incompressible=False,\n",
    "    char_domain=char_domain,\n",
    "    freq_nums=positional_encode_nums,\n",
    "    gamma_space=position_encode_freq_scale,\n",
    "    DTI=DTI_tensor)\n",
    "\n",
    "if do_training:\n",
    "    if continue_training:\n",
    "        checkpoint = torch.load(ckpt_path)\n",
    "        ad_net.load_state_dict(checkpoint['state_dict'], strict=False)\n",
    "    logger = TensorBoardLogger(\"tb_logs\", name=\"seqtrain_ADPINN\")\n",
    "\n",
    "    trainer = Trainer(log_every_n_steps=3, gradient_clip_val=1.0, logger=logger)\n",
    "\n",
    "    last_model = None\n",
    "    total_epochs = 0\n",
    "    \n",
    "    for phase in phase_order:\n",
    "        cfg = train_setting.get(phase)\n",
    "        if not cfg:\n",
    "            continue\n",
    "        lr = cfg.get(\"learning_rate\", 1e-3)\n",
    "        max_epochs = cfg.get(\"max_epochs\", 1000)\n",
    "        batch_size = cfg.get(\"batch_size\", 4096)\n",
    "        if phase == \"init_c\":\n",
    "            pinn_model = ADPINN_InitC(ad_net, learning_rate=lr)\n",
    "            datamodule = c_dataset\n",
    "        elif phase == \"init_v\":\n",
    "            pinn_model = ADPINN_InitV(ad_net, learning_rate=lr)\n",
    "            datamodule = v_dataset\n",
    "        elif phase == \"pde_v\":\n",
    "            pinn_model = ADPINN_PDE_V(ad_net, learning_rate=lr)\n",
    "            datamodule = DCEMRIDataModule(data, char_domain, mask,\n",
    "                                      batch_size=batch_size, device=device)\n",
    "        elif phase == \"joint\":\n",
    "            pinn_model = ADPINN_Joint(ad_net, learning_rate=lr)\n",
    "            datamodule = DCEMRIDataModule(data, char_domain, mask,\n",
    "                                      batch_size=batch_size, device=device)\n",
    "        else:\n",
    "            continue\n",
    "\n",
    "        # update epochs per phase on the same Trainer\n",
    "        total_epochs += max_epochs\n",
    "        trainer.fit_loop.max_epochs = total_epochs\n",
    "\n",
    "        # optional: tag phase in TensorBoard\n",
    "        trainer.logger.experiment.add_text(\"phase/start\", phase, global_step=trainer.global_step)\n",
    "        # pinn_model.log = lambda name, value, **kw: super(type(pinn_model), pinn_model).log(f\"{phase}/{name}\", value, **kw)\n",
    "        trainer.fit(pinn_model, datamodule=datamodule)\n",
    "        \n",
    "        trainer.save_checkpoint(f\"data/adpinn_{phase}_{data.shape[0]}_{int(t[0])}-{int(t[-1])}_pos{position_encode_freq_scale}{positional_encode_nums[0]}_l{hid_layer_num}_n{neuron_num}_{datetime.now().strftime('%Y%m%d')}.pth\")\n",
    "        last_model = pinn_model\n",
    "    \n",
    "    pinn_model = last_model\n",
    "else:\n",
    "    if continue_training:\n",
    "        checkpoint = torch.load(ckpt_path)\n",
    "        ad_net.load_state_dict(checkpoint, strict=False)\n",
    "    pinn_model = ADPINN_Joint(ad_net)\n",
    "\n",
    "\n",
    "# After training, visualize the learned velocity field and diffusivity\n",
    "# Extract learned parameters\n",
    "D_learned = pinn_model.ad_net.D.item()\n",
    "\n",
    "print(f\"Learned diffusivity D: {D_learned}\")"
   ]
  },
  {
   "cell_type": "code",
   "execution_count": null,
   "id": "9d1104b0",
   "metadata": {},
   "outputs": [
    {
     "name": "stdout",
     "output_type": "stream",
     "text": [
      "torch.Size([40960, 3])\n"
     ]
    }
   ],
   "source": [
    "\n",
    "# 1. Extract learned velocity field on a grid for visualization\n",
    "pinn_model.to(device)\n",
    "\n",
    "# use a grid (from real to characteristic) to extract velocity field\n",
    "# Create a grid in normalized coordinates\n",
    "nx, ny, nz = data.shape[0], data.shape[1], data.shape[2]\n",
    "# to characteristic units first.\n",
    "grid_tensor = char_domain.get_characteristic_geodomain()  # only need spatial part\n",
    "print(grid_tensor.shape)\n",
    "# directly using 3D matplotlib to visualize the quiver\n",
    "with torch.no_grad():\n",
    "    vx, vy, vz = pinn_model.v_net(grid_tensor)\n",
    "    \n",
    "    vx = vx.cpu().numpy().reshape((nx, ny, nz))\n",
    "    vy = vy.cpu().numpy().reshape((nx, ny, nz))\n",
    "    vz = vz.cpu().numpy().reshape((nx, ny, nz))\n",
    "# Scale velocity back to physical units (mm/min)\n",
    "vx *= char_domain.V_star[0]\n",
    "vy *= char_domain.V_star[1]\n",
    "vz *= char_domain.V_star[2]"
   ]
  },
  {
   "cell_type": "code",
   "execution_count": null,
   "id": "7fe5a3ba",
   "metadata": {},
   "outputs": [
    {
     "name": "stdout",
     "output_type": "stream",
     "text": [
      "[0.5 0.5 0.5] (32, 40, 32) 0.09781192 -0.16454457\n"
     ]
    },
    {
     "data": {
      "application/vnd.jupyter.widget-view+json": {
       "model_id": "93dcd407824641f3940ec5bbc2a4e0c2",
       "version_major": 2,
       "version_minor": 0
      },
      "text/plain": [
       "interactive(children=(IntSlider(value=3, description='Stride', max=10, min=1), IntSlider(value=25, description…"
      ]
     },
     "metadata": {},
     "output_type": "display_data"
    },
    {
     "data": {
      "application/vnd.jupyter.widget-view+json": {
       "model_id": "4fb747e19aca4a01873fb227c276d21f",
       "version_major": 2,
       "version_minor": 0
      },
      "image/png": "[encoded data removed]",
      "text/html": [
       "\n",
       "            <div style=\"display: inline-block;\">\n",
       "                <div class=\"jupyter-widgets widget-label\" style=\"text-align: center;\">\n",
       "                    Figure\n",
       "                </div>\n",
       "                <img src='data:image/png;base64,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' width=900.0/>\n",
       "            </div>\n",
       "        "
      ],
      "text/plain": [
       "Canvas(toolbar=Toolbar(toolitems=[('Home', 'Reset original view', 'home', 'home'), ('Back', 'Back to previous …"
      ]
     },
     "metadata": {},
     "output_type": "display_data"
    }
   ],
   "source": [
    "%matplotlib widget\n",
    "\n",
    "from utils.visualize import interactive_quiver\n",
    "# draw_3d_quiver(X, Y, Z, vx, vy, vz, stride=4)\n",
    "# using mask to filter out the background vectors\n",
    "\n",
    "# get rid of background vectors by mask\n",
    "vx = vx * mask\n",
    "vy = vy * mask\n",
    "vz = vz * mask\n",
    "print(pixdim, vx.shape, vx.max(), vx.min())\n",
    "_ = interactive_quiver(vx, vy, vz, pixdim, default_elev=-62.76, default_azim=-10.87)\n"
   ]
  },
  {
   "cell_type": "code",
   "execution_count": null,
   "id": "5835d99f",
   "metadata": {},
   "outputs": [
    {
     "data": {
      "application/vnd.jupyter.widget-view+json": {
       "model_id": "075eb39e2b9e44b2b11703856de6fd1e",
       "version_major": 2,
       "version_minor": 0
      },
      "image/png": "[encoded data removed]",
      "text/html": [
       "\n",
       "            <div style=\"display: inline-block;\">\n",
       "                <div class=\"jupyter-widgets widget-label\" style=\"text-align: center;\">\n",
       "                    Figure\n",
       "                </div>\n",
       "                <img src='data:image/png;base64,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' width=600.0/>\n",
       "            </div>\n",
       "        "
      ],
      "text/plain": [
       "Canvas(toolbar=Toolbar(toolitems=[('Home', 'Reset original view', 'home', 'home'), ('Back', 'Back to previous …"
      ]
     },
     "metadata": {},
     "output_type": "display_data"
    }
   ],
   "source": [
    "# use pinn_model.val_slice_4d to draw concentration slices\n",
    "c_vis_list = pinn_model.draw_concentration_slices()\n",
    "plt.figure(figsize=(6,3))\n",
    "plt.imshow(c_vis_list, cmap='jet', vmin=0, vmax=1)\n",
    "plt.axis('off')\n",
    "plt.show()"
   ]
  },
  {
   "cell_type": "code",
   "execution_count": null,
   "id": "f4cb6f15",
   "metadata": {},
   "outputs": [
    {
     "name": "stdout",
     "output_type": "stream",
     "text": [
      "torch.Size([737280, 4])\n",
      "Pred shape: (32, 40, 32, 18) True shape: (32, 40, 32, 18)\n"
     ]
    },
    {
     "data": {
      "application/vnd.jupyter.widget-view+json": {
       "model_id": "01e761a752c142f9b172329587a0755d",
       "version_major": 2,
       "version_minor": 0
      },
      "text/plain": [
       "VBox(children=(HBox(children=(IntSlider(value=0, description='Time', max=17), IntSlider(value=16, description=…"
      ]
     },
     "metadata": {},
     "output_type": "display_data"
    },
    {
     "name": "stdout",
     "output_type": "stream",
     "text": [
      "Overall MSE: 41.505470275878906\n"
     ]
    },
    {
     "data": {
      "application/vnd.jupyter.widget-view+json": {
       "model_id": "adb13f2ac7854751933b68122115df1f",
       "version_major": 2,
       "version_minor": 0
      },
      "image/png": "[encoded data removed]",
      "text/html": [
       "\n",
       "            <div style=\"display: inline-block;\">\n",
       "                <div class=\"jupyter-widgets widget-label\" style=\"text-align: center;\">\n",
       "                    Figure\n",
       "                </div>\n",
       "                <img src='data:image/png;base64,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' width=500.0/>\n",
       "            </div>\n",
       "        "
      ],
      "text/plain": [
       "Canvas(toolbar=Toolbar(toolitems=[('Home', 'Reset original view', 'home', 'home'), ('Back', 'Back to previous …"
      ]
     },
     "metadata": {},
     "output_type": "display_data"
    }
   ],
   "source": [
    "# 2. Extract all density field with x,y,z,t 4D grid for visualization\n",
    "\n",
    "grid_tensor_4d = char_domain.get_characteristic_geotimedomain()  # include time part\n",
    "print(grid_tensor_4d.shape)\n",
    "def predict_concentration_4d(model, pts4, nx, ny, nz, nt, batch_size=200_000):\n",
    "    out_list = []\n",
    "    with torch.no_grad():\n",
    "        for i in range(0, pts4.shape[0], batch_size):\n",
    "            chunk = pts4[i:i+batch_size]\n",
    "            pred = model.c_net(chunk)\n",
    "            out_list.append(pred.cpu())\n",
    "    C_flat = torch.cat(out_list, dim=0).numpy().reshape(nx, ny, nz, nt)\n",
    "    # C_flat = torch.cat(out_list, dim=0).numpy().reshape(nx, ny, nz, nt)\n",
    "    return C_flat\n",
    "\n",
    "C_pred_4d = predict_concentration_4d(pinn_model, grid_tensor_4d, nx, ny, nz, len(t), batch_size=200_000)\n",
    "\n",
    "# Back to physical units\n",
    "C_pred_4d *= c_dataset.C_star\n",
    "print(\"Pred shape:\", C_pred_4d.shape, \"True shape:\", data.shape)  # (nx, ny, nz, nt)\n",
    "\n",
    "_ = draw_nifti_slices_with_time(C_pred_4d, data, mask)\n",
    "# try calculate loss with true data\n",
    "from sklearn.metrics import mean_squared_error\n",
    "mse_overall = mean_squared_error(data.flatten(), C_pred_4d.flatten())\n"
   ]
  },
  {
   "cell_type": "code",
   "execution_count": null,
   "id": "b173fbb2",
   "metadata": {},
   "outputs": [
    {
     "name": "stdout",
     "output_type": "stream",
     "text": [
      "(491520, 1)\n"
     ]
    }
   ],
   "source": [
    "# Export velocity to .mat format so that we could run GLAD using matlab\n",
    "# the rOMT code require velocity reshaped to N*3 x 1\n",
    "save_velocity_mat(vx,vy,vz)"
   ]
  }
 ],
 "metadata": {
  "kernelspec": {
   "display_name": "AI",
   "language": "python",
   "name": "python3"
  },
  "language_info": {
   "codemirror_mode": {
    "name": "ipython",
    "version": 3
   },
   "file_extension": ".py",
   "mimetype": "text/x-python",
   "name": "python",
   "nbconvert_exporter": "python",
   "pygments_lexer": "ipython3",
   "version": "3.10.14"
  }
 },
 "nbformat": 4,
 "nbformat_minor": 5
}
