{
 "cells": [
  {
   "cell_type": "markdown",
   "id": "1f3278e3",
   "metadata": {},
   "source": [
    "### advect_diffuse_3d\n",
    "\n",
    "Use the down sample version of .nii MRI data, hope for a good interpolation. We mostly use DeepXDE to build research-grade PINN, with several optimization module, which is enough for DCE-MRI task."
   ]
  },
  {
   "cell_type": "markdown",
   "id": "fa6b28a8",
   "metadata": {},
   "source": [
    "#### 0. parameter adjust"
   ]
  },
  {
   "cell_type": "code",
   "execution_count": 78,
   "id": "be6b9f8f",
   "metadata": {},
   "outputs": [],
   "source": [
    "do_training = True\n",
    "# if do not training, please provide pth path to load.\n",
    "# ckpt_path = \"data/adpinn_pde_v_32_20-52_l8_n128_20250930.pth\"\n",
    "\n",
    "continue_training = False\n",
    "# if continue training, please provide ckpt path to load.\n",
    "ckpt_path = \"tb_logs/seqtrain_ADPINN/version_7/checkpoints/epoch=1280-step=1281.ckpt\"\n",
    "\n",
    "neuron_num = 128 # 150\n",
    "hid_layer_num = 8 # 5\n",
    "\n",
    "positional_encode_nums = (20, 20, 20, 0)  # (x,y,z,t)\n",
    "position_encode_freq_scale = 1.0\n",
    "\n",
    "use_DTI = False\n",
    "\n",
    "# define ordered phases explicitly\n",
    "phase_order = [\"init_c\", \"init_c_denoise\", \"init_v\", \"pde_v\" ,\"joint\"]\n",
    "\n",
    "train_setting = {\n",
    "    # \"init_c\":{\n",
    "    #     \"learning_rate\": 1e-3,\n",
    "    #     \"max_epochs\": 10,\n",
    "    # },\n",
    "    \"init_c_denoise\":{\n",
    "        \"learning_rate\": 1e-3,\n",
    "        \"max_epochs\": 800,\n",
    "    },\n",
    "    \"init_v\":{\n",
    "        \"learning_rate\": 1e-3,\n",
    "        \"max_epochs\": 800,\n",
    "    },\n",
    "    \"pde_v\":{\n",
    "        \"learning_rate\": 1e-4,\n",
    "        \"max_epochs\": 20,\n",
    "        \"batch_size\": 5_000,\n",
    "    },\n",
    "    \"joint\":{\n",
    "        \"learning_rate\": 1e-5,\n",
    "        \"max_epochs\": 1000,\n",
    "    }\n",
    "}\n"
   ]
  },
  {
   "cell_type": "markdown",
   "id": "707e4cbe",
   "metadata": {},
   "source": [
    "#### 1. Data preparation"
   ]
  },
  {
   "cell_type": "code",
   "execution_count": 79,
   "id": "b92874a8",
   "metadata": {},
   "outputs": [
    {
     "name": "stdout",
     "output_type": "stream",
     "text": [
      "The autoreload extension is already loaded. To reload it, use:\n",
      "  %reload_ext autoreload\n"
     ]
    }
   ],
   "source": [
    "import os\n",
    "os.environ[\"CUDA_VISIBLE_DEVICES\"] = \"0\"\n",
    "\n",
    "import numpy as np\n",
    "import matplotlib.pyplot as plt\n",
    "import torch\n",
    "\n",
    "torch.set_float32_matmul_precision('medium')\n",
    "\n",
    "import torch.nn as nn\n",
    "import lightning as L\n",
    "from lightning.pytorch import Trainer\n",
    "from lightning.pytorch.loggers import TensorBoardLogger\n",
    "from lightning.pytorch.callbacks import ModelCheckpoint\n",
    "\n",
    "from modules.ad_net import AD_Net\n",
    "from modules.c_net import Denoising_C_Pretrainer\n",
    "from datetime import datetime\n",
    "from modules.data_module import CharacteristicDomain, DCEMRIDataModule, VelocityDataModule\n",
    "from utils.visualize import interactive_quiver, fixed_quiver_image, draw_nifti_slices_with_time, draw_nifti_slices_with_threshold\n",
    "from utils.io import load_dcemri_data, save_velocity_mat, load_DTI\n",
    "%matplotlib widget\n",
    "%load_ext autoreload\n",
    "%autoreload 2\n"
   ]
  },
  {
   "cell_type": "code",
   "execution_count": 80,
   "id": "891b0a39",
   "metadata": {},
   "outputs": [
    {
     "name": "stdout",
     "output_type": "stream",
     "text": [
      "data_shape:  (32, 40, 32, 18) pixdim:  [0.5 0.5 0.5]\n",
      "domain_shape:  (32,) (40,) (32,) (18,)\n",
      "min_c:  0.0 max_c:  299.53845\n",
      "L_star:  [7.75 9.75 7.75] T_star:  34.0 Pe_g:  20835.375816993463\n"
     ]
    }
   ],
   "source": [
    "\n",
    "data,mask,pixdim,x,y,z,t = load_dcemri_data(\"data/dataset_downsampled.npz\")\n",
    "\n",
    "# Also need to transform anisotropic diffusivity if needed here.\n",
    "device = torch.device(\"cuda\" if torch.cuda.is_available() else \"cpu\")\n",
    "\n",
    "char_domain = CharacteristicDomain(data.shape, t, pixdim, device)\n",
    "\n",
    "print(\"L_star: \",char_domain.L_star, \"T_star: \", char_domain.T_star ,\n",
    "      \"Pe_g: \", char_domain.Pe_g)\n",
    "# batch_size is sum over data's point\n",
    "c_dataset = DCEMRIDataModule(data, char_domain, mask, \n",
    "                           batch_size=int(mask.sum()*len(t)), device=device)\n"
   ]
  },
  {
   "cell_type": "code",
   "execution_count": 81,
   "id": "d0fb5765",
   "metadata": {},
   "outputs": [],
   "source": [
    "if use_DTI:\n",
    "    DTI_tensor,DTI_MD = load_DTI(char_domain, \"data/DCE_nii_data/dti_tensor_3_3.mat\", data.shape[:3])\n",
    "else:\n",
    "    DTI_tensor = None"
   ]
  },
  {
   "cell_type": "code",
   "execution_count": 82,
   "id": "622bf29b",
   "metadata": {},
   "outputs": [],
   "source": [
    "if use_DTI:\n",
    "    draw_nifti_slices_with_threshold(DTI_MD, brain_mask=mask)\n",
    "\n",
    "\n",
    "output_tag = (f\"{data.shape[0]}_{int(t[0])}-{int(t[-1])}\"\n",
    "            f\"_pos{position_encode_freq_scale}{positional_encode_nums[0]}\"\n",
    "            f\"_l{hid_layer_num}_n{neuron_num}{'' if DTI_tensor is None else '_DTI'}\"\n",
    "            f\"_{datetime.now().strftime('%m%d')}\")"
   ]
  },
  {
   "cell_type": "code",
   "execution_count": 83,
   "id": "3a81e2fb",
   "metadata": {},
   "outputs": [
    {
     "name": "stdout",
     "output_type": "stream",
     "text": [
      "velocity max and min:  1.627875979102795 0.0\n",
      "Volume shape: (32, 40, 32) dtype: float64\n"
     ]
    },
    {
     "data": {
      "application/vnd.jupyter.widget-view+json": {
       "model_id": "a5025f099fa949f69b301f031ab5a215",
       "version_major": 2,
       "version_minor": 0
      },
      "text/plain": [
       "interactive(children=(IntSlider(value=16, description='z', max=31), FloatSlider(value=0.5, description='thr', …"
      ]
     },
     "metadata": {},
     "output_type": "display_data"
    }
   ],
   "source": [
    "# use front-tracking to get initial velocity field.\n",
    "from utils.front_tracking import front_tracking_velocity\n",
    "# shape (nx, ny, nz, 3), only use half of the timestep to training, consistant with c_dataset\n",
    "\n",
    "initial_velocity_field = front_tracking_velocity(data[:,:,:,::2], \n",
    "                                                 dt=t[2] - t[0])\n",
    "# scaling using V_star\n",
    "initial_velocity_field /= char_domain.V_star\n",
    "# draw initial velocity magnitude\n",
    "vel_mag = np.linalg.norm(initial_velocity_field, axis=-1)\n",
    "\n",
    "# print(pixdim, char_domain.domain_shape, char_domain.L_star, char_domain.T_star, char_domain.V_star)\n",
    "print(\"velocity max and min: \", vel_mag.max(), vel_mag.min())\n",
    "\n",
    "draw_nifti_slices_with_threshold(vel_mag)\n",
    "\n",
    "v_dataset = VelocityDataModule(initial_velocity_field, char_domain, mask, \n",
    "                              batch_size=int(mask.sum()), device=device)"
   ]
  },
  {
   "cell_type": "markdown",
   "id": "9d0d580f",
   "metadata": {},
   "source": [
    "#### 2. Network definition\n",
    "\n",
    "Here only define a base advect-diffuse PINN that learn the whole, it is reported in [J. D. Toscano et al. 2025](https://doi.org/10.1101/2025.07.30.667741) , that pure AD instead of Darcy's law cannot capture bimodal velocity distribution. \n",
    "\n",
    "This version has two variants:\n",
    "1. simply using FNN to produce velocity field, without any pruning on solution space.\n",
    "2. physics constrained divergence-free to the \n"
   ]
  },
  {
   "cell_type": "code",
   "execution_count": 84,
   "id": "cc858289",
   "metadata": {},
   "outputs": [],
   "source": [
    "class ADPINN_Base(L.LightningModule):\n",
    "    # data is only for validation visualization\n",
    "    def __init__(self, ad_net: AD_Net, learning_rate=1e-3):\n",
    "        super().__init__()\n",
    "        self.save_hyperparameters({\"learning_rate\": learning_rate})\n",
    "\n",
    "        self.L2_loss = nn.MSELoss()\n",
    "\n",
    "        self.ad_net = ad_net\n",
    "        self.c_net = ad_net.c_net\n",
    "        self.v_net = ad_net.v_net\n",
    "        \n",
    "        self.learning_rate = learning_rate\n",
    "        \n",
    "        # slice domain for visualization\n",
    "        self.val_slice_z = self.c_net.val_slice_z\n",
    "        self.val_slice_t = self.c_net.val_slice_t\n",
    "        self.val_slice_4d = self.c_net.val_slice_4d\n",
    "        self.grid_tensor = char_domain.get_characteristic_geodomain()  # only need spatial part\n",
    "    \n",
    "    \n",
    "    def configure_optimizers(self):\n",
    "        params = [p for p in self.parameters() if p.requires_grad]\n",
    "        optimizer = torch.optim.AdamW(params, lr=self.learning_rate, weight_decay=1e-6)\n",
    "        return optimizer\n",
    "    \n",
    "    def validation_step(self, batch, batch_idx):\n",
    "        x, C_true = batch\n",
    "        C_pred = self.c_net(x)\n",
    "        mse_data = self.L2_loss(C_pred, C_true)\n",
    "        \n",
    "        # also slice c map of mid time + mid z when validation\n",
    "        if batch_idx == 0:\n",
    "            self.log('val_data_loss', mse_data)\n",
    "            if self.current_epoch % 2 == 0:\n",
    "                c_vis_list = self.c_net.draw_concentration_slices()\n",
    "                self.logger.experiment.add_image('val_C_compare', c_vis_list, self.current_epoch, dataformats='WH')\n",
    "                v_vis_list, _,_,_ = self.draw_velocity_volume()\n",
    "                self.logger.experiment.add_image('val_v_quiver', v_vis_list, self.current_epoch, dataformats='HWC')\n",
    "                # v_vis_list = self.draw_velocity_slices()\n",
    "                # self.logger.experiment.add_image('train_v_mag_slice', v_vis_list, self.current_epoch, dataformats='WH')\n",
    "        return mse_data\n",
    "    \n",
    "    def draw_velocity_volume(self):\n",
    "        nx, ny, nz = data.shape[0], data.shape[1], data.shape[2]\n",
    "        # to characteristic units first.\n",
    "        # directly using 3D matplotlib to visualize the quiver\n",
    "        with torch.no_grad():\n",
    "            # Scale velocity back to physical units (mm/min)\n",
    "            vx, vy, vz = self.v_net(self.grid_tensor)\n",
    "            vx = vx.cpu().numpy().reshape((nx, ny, nz)) * char_domain.V_star[0] * mask\n",
    "            vy = vy.cpu().numpy().reshape((nx, ny, nz)) * char_domain.V_star[1] * mask\n",
    "            vz = vz.cpu().numpy().reshape((nx, ny, nz)) * char_domain.V_star[2] * mask\n",
    "            rgb_img = fixed_quiver_image(vx, vy, vz, pixdim)\n",
    "            return rgb_img, vx,vy,vz\n",
    "\n",
    "    def draw_velocity_slices(self):\n",
    "        with torch.no_grad():\n",
    "            vx_img, vy_img, vz_img = self.v_net(self.val_slice_4d)\n",
    "            vx_img = vx_img.cpu().numpy().reshape(data.shape[0], data.shape[1], len(self.val_slice_z), len(self.val_slice_t))\n",
    "            vy_img = vy_img.cpu().numpy().reshape(data.shape[0], data.shape[1], len(self.val_slice_z), len(self.val_slice_t))\n",
    "            vz_img = vz_img.cpu().numpy().reshape(data.shape[0], data.shape[1], len(self.val_slice_z), len(self.val_slice_t))\n",
    "            v_vis_list = []\n",
    "            for i in range(len(self.val_slice_z)):\n",
    "                vx = vx_img[:, :, i, 0]\n",
    "                vy = vy_img[:, :, i, 0]\n",
    "                vz = vz_img[:, :, i, 0]\n",
    "                v_mag = np.sqrt(vx**2 + vy**2 + vz**2) * mask[:,:,self.val_slice_z[i]]  # mask out of brain region\n",
    "                v_vis_list.append(v_mag)\n",
    "            v_vis_list = np.hstack(v_vis_list)\n",
    "            # scale to [0,1] for visualization\n",
    "            v_vis_list = (v_vis_list - v_vis_list.min()) / (v_vis_list.max() - v_vis_list.min() + 1e-8)\n",
    "            return v_vis_list\n"
   ]
  },
  {
   "cell_type": "markdown",
   "id": "79a2035e",
   "metadata": {},
   "source": [
    "Also define training sequence, different variant network has different training loss."
   ]
  },
  {
   "cell_type": "code",
   "execution_count": 85,
   "id": "1b4303f8",
   "metadata": {},
   "outputs": [],
   "source": [
    "# Training variant 1: init C_Net\n",
    "class ADPINN_InitC(ADPINN_Base):\n",
    "    def on_save_checkpoint(self, checkpoint):\n",
    "        checkpoint['train_phase'] = 'init_c'\n",
    "\n",
    "    def training_step(self, batch, batch_idx):\n",
    "        x, C_true = batch\n",
    "        C_pred = self.c_net(x)\n",
    "        # add weight curriculumly, according to C_true (0-100) value\n",
    "\n",
    "        weight = 1.0 + 0.09 * C_true.float() # give more weight to high concentration region\n",
    "        mse_data = (weight * (C_pred - C_true) ** 2).mean()\n",
    "        loss = mse_data\n",
    "        if batch_idx == 0:\n",
    "            self.log('train_c_init_data_loss', mse_data)\n",
    "        return loss\n",
    "\n",
    "# Training varient 2: init V_Net (need heuristic estimate)\n",
    "class ADPINN_InitV(ADPINN_Base):\n",
    "    \n",
    "    def on_save_checkpoint(self, checkpoint):\n",
    "        checkpoint['train_phase'] = 'init_v'\n",
    "\n",
    "    def training_step(self, batch_v, batch_idx):\n",
    "        x, v_true = batch_v # still x shaped (N, 4), v_true shaped (N, 3)\n",
    "        vx,vy,vz = self.v_net(x)\n",
    "        vx = vx.view(vx.shape[0], -1) # (N, 1) -> (N, )\n",
    "        vy = vy.view(vy.shape[0], -1)\n",
    "        vz = vz.view(vz.shape[0], -1)\n",
    "        v_pred = torch.cat([vx, vy, vz], dim=1) # (N, 3)\n",
    "\n",
    "        mse_data = self.L2_loss(v_pred, v_true)\n",
    "\n",
    "        if batch_idx == 0:\n",
    "            self.log('train_v_init_loss', mse_data)\n",
    "            if self.current_epoch % 50 == 0:\n",
    "                self.draw_velocity_slices()\n",
    "        return mse_data\n",
    "\n",
    "# only optimize v + D, using advect-diffuse.\n",
    "class ADPINN_PDE_V(ADPINN_Base):\n",
    "\n",
    "    def on_save_checkpoint(self, checkpoint):\n",
    "        checkpoint['train_phase'] = 'pde_v'\n",
    "\n",
    "    def __init__(self, ad_net, learning_rate=1e-3):\n",
    "        super().__init__(ad_net, learning_rate)\n",
    "        # freeze c_net\n",
    "        for param in self.c_net.parameters():\n",
    "            param.requires_grad = False\n",
    "        self.c_net.eval()\n",
    "        \n",
    "    # TODO: here to batch could use smart sampling.\n",
    "    def training_step(self, batch, batch_idx):\n",
    "        x, _ = batch\n",
    "        # PDE loss\n",
    "        pde_residual = self.ad_net.pde_residual(x)\n",
    "        mse_pde = self.L2_loss(pde_residual, torch.zeros_like(pde_residual))\n",
    "        \n",
    "        loss = mse_pde\n",
    "        \n",
    "        if batch_idx == 0:\n",
    "            self.log('pde_v_residual', mse_pde)\n",
    "            self.log('pde_v_D', self.ad_net.D.item())\n",
    "        return loss\n",
    "\n",
    "# joint optimize c + v + D, using advect-diffuse\n",
    "class ADPINN_Joint(ADPINN_Base):\n",
    "    def on_save_checkpoint(self, checkpoint):\n",
    "        checkpoint['train_phase'] = 'joint'\n",
    "\n",
    "    def __init__(self, ad_net, learning_rate=1e-3):\n",
    "        super().__init__(ad_net, learning_rate)\n",
    "        # unfreeze c_net\n",
    "        for param in self.c_net.parameters():\n",
    "            param.requires_grad = True\n",
    "        self.c_net.train()\n",
    "    def training_step(self, batch, batch_idx):\n",
    "        x, C_true = batch\n",
    "        C_pred = self.c_net(x)\n",
    "        mse_data = self.L2_loss(C_pred, C_true)\n",
    "        \n",
    "        # PDE loss\n",
    "        pde_residual = self.ad_net.pde_residual(x)\n",
    "        mse_pde = self.L2_loss(pde_residual, torch.zeros_like(pde_residual))\n",
    "        loss = mse_data + 10.0 * mse_pde\n",
    "\n",
    "        if batch_idx == 0:\n",
    "            self.log('joint_data_loss', mse_data)\n",
    "            self.log('joint_pde_loss', mse_pde)\n",
    "            self.log('joint_D', self.ad_net.D.item())\n",
    "        \n",
    "        return loss"
   ]
  },
  {
   "cell_type": "markdown",
   "id": "82b303ed",
   "metadata": {},
   "source": [
    "#### 3. Training step\n",
    "\n",
    "- first we has initializaiton for c and v net\n",
    "- then pde loss for only v net\n",
    "- finally joint optimization."
   ]
  },
  {
   "cell_type": "code",
   "execution_count": 86,
   "id": "fa8ad726",
   "metadata": {},
   "outputs": [],
   "source": [
    "# Instantiate the model and trainer or load from checkpoint:\n",
    "ad_net = AD_Net(c_layers=[4] + [neuron_num for _ in range(hid_layer_num)] + [1],\n",
    "    u_layers=[3] + [neuron_num for _ in range(hid_layer_num)] + [3],\n",
    "    data=data,mask=mask,C_star=c_dataset.C_star,\n",
    "    incompressible=False,\n",
    "    char_domain=char_domain,\n",
    "    freq_nums=positional_encode_nums,\n",
    "    gamma_space=position_encode_freq_scale,\n",
    "    DTI=DTI_tensor)"
   ]
  },
  {
   "cell_type": "code",
   "execution_count": 87,
   "id": "16edc20d",
   "metadata": {},
   "outputs": [
    {
     "name": "stderr",
     "output_type": "stream",
     "text": [
      "GPU available: True (cuda), used: True\n",
      "TPU available: False, using: 0 TPU cores\n",
      "HPU available: False, using: 0 HPUs\n",
      "LOCAL_RANK: 0 - CUDA_VISIBLE_DEVICES: [0]\n",
      "\n",
      "  | Name        | Type                       | Params | Mode \n",
      "-------------------------------------------------------------------\n",
      "0 | pos_encoder | PositionalEncoding_GeoTime | 0      | train\n",
      "1 | c_net       | C_Net                      | 131 K  | train\n",
      "2 | nn_noise    | MLP                        | 21.3 K | train\n",
      "-------------------------------------------------------------------\n",
      "152 K     Trainable params\n",
      "0         Non-trainable params\n",
      "152 K     Total params\n",
      "0.612     Total estimated model params size (MB)\n",
      "36        Modules in train mode\n",
      "0         Modules in eval mode\n"
     ]
    },
    {
     "data": {
      "application/vnd.jupyter.widget-view+json": {
       "model_id": "09e0af50a9014754ae11a520c3a8a46e",
       "version_major": 2,
       "version_minor": 0
      },
      "text/plain": [
       "Sanity Checking: |          | 0/? [00:00<?, ?it/s]"
      ]
     },
     "metadata": {},
     "output_type": "display_data"
    },
    {
     "data": {
      "application/vnd.jupyter.widget-view+json": {
       "model_id": "44d7c05c49004d9ab51f20916f6c1bd2",
       "version_major": 2,
       "version_minor": 0
      },
      "text/plain": [
       "Training: |          | 0/? [00:00<?, ?it/s]"
      ]
     },
     "metadata": {},
     "output_type": "display_data"
    },
    {
     "data": {
      "application/vnd.jupyter.widget-view+json": {
       "model_id": "4eed3922e11d42aeb0a0909bcf8328ac",
       "version_major": 2,
       "version_minor": 0
      },
      "text/plain": [
       "Validation: |          | 0/? [00:00<?, ?it/s]"
      ]
     },
     "metadata": {},
     "output_type": "display_data"
    },
    {
     "data": {
      "application/vnd.jupyter.widget-view+json": {
       "model_id": "904e6f2ce6574509b87e31d9d981acf9",
       "version_major": 2,
       "version_minor": 0
      },
      "text/plain": [
       "Validation: |          | 0/? [00:00<?, ?it/s]"
      ]
     },
     "metadata": {},
     "output_type": "display_data"
    },
    {
     "data": {
      "application/vnd.jupyter.widget-view+json": {
       "model_id": "2ebabd502c284e5387efa2f59a50c501",
       "version_major": 2,
       "version_minor": 0
      },
      "text/plain": [
       "Validation: |          | 0/? [00:00<?, ?it/s]"
      ]
     },
     "metadata": {},
     "output_type": "display_data"
    },
    {
     "data": {
      "application/vnd.jupyter.widget-view+json": {
       "model_id": "d00fd1ad0af04b8da9f3b46b6c4aa309",
       "version_major": 2,
       "version_minor": 0
      },
      "text/plain": [
       "Validation: |          | 0/? [00:00<?, ?it/s]"
      ]
     },
     "metadata": {},
     "output_type": "display_data"
    },
    {
     "data": {
      "application/vnd.jupyter.widget-view+json": {
       "model_id": "d086c913ee9142be967fc7880bad0c57",
       "version_major": 2,
       "version_minor": 0
      },
      "text/plain": [
       "Validation: |          | 0/? [00:00<?, ?it/s]"
      ]
     },
     "metadata": {},
     "output_type": "display_data"
    },
    {
     "data": {
      "application/vnd.jupyter.widget-view+json": {
       "model_id": "5b08965422c443d8b868b1d2b90ee017",
       "version_major": 2,
       "version_minor": 0
      },
      "text/plain": [
       "Validation: |          | 0/? [00:00<?, ?it/s]"
      ]
     },
     "metadata": {},
     "output_type": "display_data"
    },
    {
     "data": {
      "application/vnd.jupyter.widget-view+json": {
       "model_id": "d35125aa74bf4b1cbfc9d945e700b4c6",
       "version_major": 2,
       "version_minor": 0
      },
      "text/plain": [
       "Validation: |          | 0/? [00:00<?, ?it/s]"
      ]
     },
     "metadata": {},
     "output_type": "display_data"
    },
    {
     "data": {
      "application/vnd.jupyter.widget-view+json": {
       "model_id": "cd43ca19c5374d55a99c1bda19f974a5",
       "version_major": 2,
       "version_minor": 0
      },
      "text/plain": [
       "Validation: |          | 0/? [00:00<?, ?it/s]"
      ]
     },
     "metadata": {},
     "output_type": "display_data"
    },
    {
     "data": {
      "application/vnd.jupyter.widget-view+json": {
       "model_id": "944f1ddebba54a01b8f1adce06a3fc2d",
       "version_major": 2,
       "version_minor": 0
      },
      "text/plain": [
       "Validation: |          | 0/? [00:00<?, ?it/s]"
      ]
     },
     "metadata": {},
     "output_type": "display_data"
    },
    {
     "data": {
      "application/vnd.jupyter.widget-view+json": {
       "model_id": "812099a60ad344e387d555537468a38f",
       "version_major": 2,
       "version_minor": 0
      },
      "text/plain": [
       "Validation: |          | 0/? [00:00<?, ?it/s]"
      ]
     },
     "metadata": {},
     "output_type": "display_data"
    },
    {
     "data": {
      "application/vnd.jupyter.widget-view+json": {
       "model_id": "e1311339fdea43248b64f188e3eca3f9",
       "version_major": 2,
       "version_minor": 0
      },
      "text/plain": [
       "Validation: |          | 0/? [00:00<?, ?it/s]"
      ]
     },
     "metadata": {},
     "output_type": "display_data"
    },
    {
     "data": {
      "application/vnd.jupyter.widget-view+json": {
       "model_id": "37eb9fda9beb4904bf20b91d3526b2f8",
       "version_major": 2,
       "version_minor": 0
      },
      "text/plain": [
       "Validation: |          | 0/? [00:00<?, ?it/s]"
      ]
     },
     "metadata": {},
     "output_type": "display_data"
    },
    {
     "data": {
      "application/vnd.jupyter.widget-view+json": {
       "model_id": "cfe57e2da9ee4173ac2f09ee6f037919",
       "version_major": 2,
       "version_minor": 0
      },
      "text/plain": [
       "Validation: |          | 0/? [00:00<?, ?it/s]"
      ]
     },
     "metadata": {},
     "output_type": "display_data"
    },
    {
     "data": {
      "application/vnd.jupyter.widget-view+json": {
       "model_id": "667f2b7c1f5a4b04a1807762a15ca87c",
       "version_major": 2,
       "version_minor": 0
      },
      "text/plain": [
       "Validation: |          | 0/? [00:00<?, ?it/s]"
      ]
     },
     "metadata": {},
     "output_type": "display_data"
    },
    {
     "data": {
      "application/vnd.jupyter.widget-view+json": {
       "model_id": "44666d402fea4630b2cd28c4095f9d62",
       "version_major": 2,
       "version_minor": 0
      },
      "text/plain": [
       "Validation: |          | 0/? [00:00<?, ?it/s]"
      ]
     },
     "metadata": {},
     "output_type": "display_data"
    },
    {
     "data": {
      "application/vnd.jupyter.widget-view+json": {
       "model_id": "1ac2d69030514bb6b6e921b11855e756",
       "version_major": 2,
       "version_minor": 0
      },
      "text/plain": [
       "Validation: |          | 0/? [00:00<?, ?it/s]"
      ]
     },
     "metadata": {},
     "output_type": "display_data"
    },
    {
     "data": {
      "application/vnd.jupyter.widget-view+json": {
       "model_id": "857c6ec2f12b4e648dd9d1122ed2d734",
       "version_major": 2,
       "version_minor": 0
      },
      "text/plain": [
       "Validation: |          | 0/? [00:00<?, ?it/s]"
      ]
     },
     "metadata": {},
     "output_type": "display_data"
    },
    {
     "data": {
      "application/vnd.jupyter.widget-view+json": {
       "model_id": "e08b10a2bb9d4cfc8fb2d7347a1eff75",
       "version_major": 2,
       "version_minor": 0
      },
      "text/plain": [
       "Validation: |          | 0/? [00:00<?, ?it/s]"
      ]
     },
     "metadata": {},
     "output_type": "display_data"
    },
    {
     "data": {
      "application/vnd.jupyter.widget-view+json": {
       "model_id": "010aa79ca3fb40ea93ce56b1dbffb5a7",
       "version_major": 2,
       "version_minor": 0
      },
      "text/plain": [
       "Validation: |          | 0/? [00:00<?, ?it/s]"
      ]
     },
     "metadata": {},
     "output_type": "display_data"
    },
    {
     "data": {
      "application/vnd.jupyter.widget-view+json": {
       "model_id": "9e3045025bf84b7c83c6de2aa6576b54",
       "version_major": 2,
       "version_minor": 0
      },
      "text/plain": [
       "Validation: |          | 0/? [00:00<?, ?it/s]"
      ]
     },
     "metadata": {},
     "output_type": "display_data"
    },
    {
     "data": {
      "application/vnd.jupyter.widget-view+json": {
       "model_id": "5ac8a734e1f14603a95f97e72c603202",
       "version_major": 2,
       "version_minor": 0
      },
      "text/plain": [
       "Validation: |          | 0/? [00:00<?, ?it/s]"
      ]
     },
     "metadata": {},
     "output_type": "display_data"
    },
    {
     "data": {
      "application/vnd.jupyter.widget-view+json": {
       "model_id": "87614f6f419f4fa9b00529094426521a",
       "version_major": 2,
       "version_minor": 0
      },
      "text/plain": [
       "Validation: |          | 0/? [00:00<?, ?it/s]"
      ]
     },
     "metadata": {},
     "output_type": "display_data"
    },
    {
     "data": {
      "application/vnd.jupyter.widget-view+json": {
       "model_id": "2be2a171853549878c138cc5a92e21e5",
       "version_major": 2,
       "version_minor": 0
      },
      "text/plain": [
       "Validation: |          | 0/? [00:00<?, ?it/s]"
      ]
     },
     "metadata": {},
     "output_type": "display_data"
    },
    {
     "data": {
      "application/vnd.jupyter.widget-view+json": {
       "model_id": "42d9d4cf3c6d431f9518941f4076e34c",
       "version_major": 2,
       "version_minor": 0
      },
      "text/plain": [
       "Validation: |          | 0/? [00:00<?, ?it/s]"
      ]
     },
     "metadata": {},
     "output_type": "display_data"
    },
    {
     "data": {
      "application/vnd.jupyter.widget-view+json": {
       "model_id": "c909fcead72d47e59f108995eecd4682",
       "version_major": 2,
       "version_minor": 0
      },
      "text/plain": [
       "Validation: |          | 0/? [00:00<?, ?it/s]"
      ]
     },
     "metadata": {},
     "output_type": "display_data"
    },
    {
     "data": {
      "application/vnd.jupyter.widget-view+json": {
       "model_id": "b69f131d535f451b9a92e780c87496cc",
       "version_major": 2,
       "version_minor": 0
      },
      "text/plain": [
       "Validation: |          | 0/? [00:00<?, ?it/s]"
      ]
     },
     "metadata": {},
     "output_type": "display_data"
    },
    {
     "data": {
      "application/vnd.jupyter.widget-view+json": {
       "model_id": "fd93db76d2d24cf9b6821af57dacafe9",
       "version_major": 2,
       "version_minor": 0
      },
      "text/plain": [
       "Validation: |          | 0/? [00:00<?, ?it/s]"
      ]
     },
     "metadata": {},
     "output_type": "display_data"
    },
    {
     "data": {
      "application/vnd.jupyter.widget-view+json": {
       "model_id": "c7da334cc9e0427794184abf942f6f79",
       "version_major": 2,
       "version_minor": 0
      },
      "text/plain": [
       "Validation: |          | 0/? [00:00<?, ?it/s]"
      ]
     },
     "metadata": {},
     "output_type": "display_data"
    },
    {
     "data": {
      "application/vnd.jupyter.widget-view+json": {
       "model_id": "abb1b5d7535d437395cd16c2bb09c479",
       "version_major": 2,
       "version_minor": 0
      },
      "text/plain": [
       "Validation: |          | 0/? [00:00<?, ?it/s]"
      ]
     },
     "metadata": {},
     "output_type": "display_data"
    },
    {
     "data": {
      "application/vnd.jupyter.widget-view+json": {
       "model_id": "821927ad610e425ca98eff7a7c7ccf68",
       "version_major": 2,
       "version_minor": 0
      },
      "text/plain": [
       "Validation: |          | 0/? [00:00<?, ?it/s]"
      ]
     },
     "metadata": {},
     "output_type": "display_data"
    },
    {
     "data": {
      "application/vnd.jupyter.widget-view+json": {
       "model_id": "4ba6687dd92f4f8aa0c701ec5c28d826",
       "version_major": 2,
       "version_minor": 0
      },
      "text/plain": [
       "Validation: |          | 0/? [00:00<?, ?it/s]"
      ]
     },
     "metadata": {},
     "output_type": "display_data"
    },
    {
     "data": {
      "application/vnd.jupyter.widget-view+json": {
       "model_id": "27e13f0a9f8444078a35edf68e855741",
       "version_major": 2,
       "version_minor": 0
      },
      "text/plain": [
       "Validation: |          | 0/? [00:00<?, ?it/s]"
      ]
     },
     "metadata": {},
     "output_type": "display_data"
    },
    {
     "data": {
      "application/vnd.jupyter.widget-view+json": {
       "model_id": "87bbd7da5266416892924fe428ed289e",
       "version_major": 2,
       "version_minor": 0
      },
      "text/plain": [
       "Validation: |          | 0/? [00:00<?, ?it/s]"
      ]
     },
     "metadata": {},
     "output_type": "display_data"
    },
    {
     "data": {
      "application/vnd.jupyter.widget-view+json": {
       "model_id": "bef756d839c6442182ca59e31403ee60",
       "version_major": 2,
       "version_minor": 0
      },
      "text/plain": [
       "Validation: |          | 0/? [00:00<?, ?it/s]"
      ]
     },
     "metadata": {},
     "output_type": "display_data"
    },
    {
     "data": {
      "application/vnd.jupyter.widget-view+json": {
       "model_id": "885e8d10d9074109a4f91f5565e2acec",
       "version_major": 2,
       "version_minor": 0
      },
      "text/plain": [
       "Validation: |          | 0/? [00:00<?, ?it/s]"
      ]
     },
     "metadata": {},
     "output_type": "display_data"
    },
    {
     "data": {
      "application/vnd.jupyter.widget-view+json": {
       "model_id": "2e9f0dd5df4d4c07bf1653f09737981a",
       "version_major": 2,
       "version_minor": 0
      },
      "text/plain": [
       "Validation: |          | 0/? [00:00<?, ?it/s]"
      ]
     },
     "metadata": {},
     "output_type": "display_data"
    },
    {
     "data": {
      "application/vnd.jupyter.widget-view+json": {
       "model_id": "3bacb76883fd496a9d7124a33da2b8fb",
       "version_major": 2,
       "version_minor": 0
      },
      "text/plain": [
       "Validation: |          | 0/? [00:00<?, ?it/s]"
      ]
     },
     "metadata": {},
     "output_type": "display_data"
    },
    {
     "data": {
      "application/vnd.jupyter.widget-view+json": {
       "model_id": "fb4efd79e1c844cb87a8c7c7317fc79c",
       "version_major": 2,
       "version_minor": 0
      },
      "text/plain": [
       "Validation: |          | 0/? [00:00<?, ?it/s]"
      ]
     },
     "metadata": {},
     "output_type": "display_data"
    },
    {
     "data": {
      "application/vnd.jupyter.widget-view+json": {
       "model_id": "f56d608059e542978648efeab0ef6d81",
       "version_major": 2,
       "version_minor": 0
      },
      "text/plain": [
       "Validation: |          | 0/? [00:00<?, ?it/s]"
      ]
     },
     "metadata": {},
     "output_type": "display_data"
    },
    {
     "data": {
      "application/vnd.jupyter.widget-view+json": {
       "model_id": "e7f8ef4f5bbc49b084c1f807d224939f",
       "version_major": 2,
       "version_minor": 0
      },
      "text/plain": [
       "Validation: |          | 0/? [00:00<?, ?it/s]"
      ]
     },
     "metadata": {},
     "output_type": "display_data"
    },
    {
     "data": {
      "application/vnd.jupyter.widget-view+json": {
       "model_id": "08209d4479e14e65a6e4ba841d0714d7",
       "version_major": 2,
       "version_minor": 0
      },
      "text/plain": [
       "Validation: |          | 0/? [00:00<?, ?it/s]"
      ]
     },
     "metadata": {},
     "output_type": "display_data"
    },
    {
     "data": {
      "application/vnd.jupyter.widget-view+json": {
       "model_id": "879ea22a0b4e42549774ad8861006ee8",
       "version_major": 2,
       "version_minor": 0
      },
      "text/plain": [
       "Validation: |          | 0/? [00:00<?, ?it/s]"
      ]
     },
     "metadata": {},
     "output_type": "display_data"
    },
    {
     "data": {
      "application/vnd.jupyter.widget-view+json": {
       "model_id": "2fdec5e012c84d9397f07e31968c11bf",
       "version_major": 2,
       "version_minor": 0
      },
      "text/plain": [
       "Validation: |          | 0/? [00:00<?, ?it/s]"
      ]
     },
     "metadata": {},
     "output_type": "display_data"
    },
    {
     "data": {
      "application/vnd.jupyter.widget-view+json": {
       "model_id": "85a3abfbe3ce41da96f98be87b31a0a3",
       "version_major": 2,
       "version_minor": 0
      },
      "text/plain": [
       "Validation: |          | 0/? [00:00<?, ?it/s]"
      ]
     },
     "metadata": {},
     "output_type": "display_data"
    },
    {
     "data": {
      "application/vnd.jupyter.widget-view+json": {
       "model_id": "fab9ac3931474cc7a839c8b0ea805c15",
       "version_major": 2,
       "version_minor": 0
      },
      "text/plain": [
       "Validation: |          | 0/? [00:00<?, ?it/s]"
      ]
     },
     "metadata": {},
     "output_type": "display_data"
    },
    {
     "data": {
      "application/vnd.jupyter.widget-view+json": {
       "model_id": "d44ea91ef9ba4cc486bab11ce5271a51",
       "version_major": 2,
       "version_minor": 0
      },
      "text/plain": [
       "Validation: |          | 0/? [00:00<?, ?it/s]"
      ]
     },
     "metadata": {},
     "output_type": "display_data"
    },
    {
     "data": {
      "application/vnd.jupyter.widget-view+json": {
       "model_id": "b3192c3579d84429a0c6e4b1e9f6fbc1",
       "version_major": 2,
       "version_minor": 0
      },
      "text/plain": [
       "Validation: |          | 0/? [00:00<?, ?it/s]"
      ]
     },
     "metadata": {},
     "output_type": "display_data"
    },
    {
     "data": {
      "application/vnd.jupyter.widget-view+json": {
       "model_id": "af7c571a6e9045378565fecdd7f513eb",
       "version_major": 2,
       "version_minor": 0
      },
      "text/plain": [
       "Validation: |          | 0/? [00:00<?, ?it/s]"
      ]
     },
     "metadata": {},
     "output_type": "display_data"
    },
    {
     "data": {
      "application/vnd.jupyter.widget-view+json": {
       "model_id": "fd5c7fc60802435fb4e2effd103ade83",
       "version_major": 2,
       "version_minor": 0
      },
      "text/plain": [
       "Validation: |          | 0/? [00:00<?, ?it/s]"
      ]
     },
     "metadata": {},
     "output_type": "display_data"
    },
    {
     "data": {
      "application/vnd.jupyter.widget-view+json": {
       "model_id": "d1ce49af3272415ba54ec45b5ad2bef5",
       "version_major": 2,
       "version_minor": 0
      },
      "text/plain": [
       "Validation: |          | 0/? [00:00<?, ?it/s]"
      ]
     },
     "metadata": {},
     "output_type": "display_data"
    },
    {
     "data": {
      "application/vnd.jupyter.widget-view+json": {
       "model_id": "064b0dc1721d40619818faee6338bfa7",
       "version_major": 2,
       "version_minor": 0
      },
      "text/plain": [
       "Validation: |          | 0/? [00:00<?, ?it/s]"
      ]
     },
     "metadata": {},
     "output_type": "display_data"
    },
    {
     "data": {
      "application/vnd.jupyter.widget-view+json": {
       "model_id": "7c4a42fa1e654b76bdce6958d5faf135",
       "version_major": 2,
       "version_minor": 0
      },
      "text/plain": [
       "Validation: |          | 0/? [00:00<?, ?it/s]"
      ]
     },
     "metadata": {},
     "output_type": "display_data"
    },
    {
     "data": {
      "application/vnd.jupyter.widget-view+json": {
       "model_id": "8a5f7237617a453192444906fe6bf35b",
       "version_major": 2,
       "version_minor": 0
      },
      "text/plain": [
       "Validation: |          | 0/? [00:00<?, ?it/s]"
      ]
     },
     "metadata": {},
     "output_type": "display_data"
    },
    {
     "data": {
      "application/vnd.jupyter.widget-view+json": {
       "model_id": "0c046ef7014044a397f7b091d924a601",
       "version_major": 2,
       "version_minor": 0
      },
      "text/plain": [
       "Validation: |          | 0/? [00:00<?, ?it/s]"
      ]
     },
     "metadata": {},
     "output_type": "display_data"
    },
    {
     "data": {
      "application/vnd.jupyter.widget-view+json": {
       "model_id": "198ad1408c7d449d8086a082205409ec",
       "version_major": 2,
       "version_minor": 0
      },
      "text/plain": [
       "Validation: |          | 0/? [00:00<?, ?it/s]"
      ]
     },
     "metadata": {},
     "output_type": "display_data"
    },
    {
     "data": {
      "application/vnd.jupyter.widget-view+json": {
       "model_id": "f0cf117df3be457c8e6c78e0478a0b29",
       "version_major": 2,
       "version_minor": 0
      },
      "text/plain": [
       "Validation: |          | 0/? [00:00<?, ?it/s]"
      ]
     },
     "metadata": {},
     "output_type": "display_data"
    },
    {
     "data": {
      "application/vnd.jupyter.widget-view+json": {
       "model_id": "fc59e171252543c98fe1a8faef6320d7",
       "version_major": 2,
       "version_minor": 0
      },
      "text/plain": [
       "Validation: |          | 0/? [00:00<?, ?it/s]"
      ]
     },
     "metadata": {},
     "output_type": "display_data"
    },
    {
     "data": {
      "application/vnd.jupyter.widget-view+json": {
       "model_id": "b9278d7835974cdf9e3bbf4ebb01cdb6",
       "version_major": 2,
       "version_minor": 0
      },
      "text/plain": [
       "Validation: |          | 0/? [00:00<?, ?it/s]"
      ]
     },
     "metadata": {},
     "output_type": "display_data"
    },
    {
     "data": {
      "application/vnd.jupyter.widget-view+json": {
       "model_id": "bfa2f6c533c94e68a9bca002d8482ad7",
       "version_major": 2,
       "version_minor": 0
      },
      "text/plain": [
       "Validation: |          | 0/? [00:00<?, ?it/s]"
      ]
     },
     "metadata": {},
     "output_type": "display_data"
    },
    {
     "data": {
      "application/vnd.jupyter.widget-view+json": {
       "model_id": "16790d00297e48aaa5d190c71814f53e",
       "version_major": 2,
       "version_minor": 0
      },
      "text/plain": [
       "Validation: |          | 0/? [00:00<?, ?it/s]"
      ]
     },
     "metadata": {},
     "output_type": "display_data"
    },
    {
     "data": {
      "application/vnd.jupyter.widget-view+json": {
       "model_id": "6b30bc0abaa14670a31e1205bf2b667e",
       "version_major": 2,
       "version_minor": 0
      },
      "text/plain": [
       "Validation: |          | 0/? [00:00<?, ?it/s]"
      ]
     },
     "metadata": {},
     "output_type": "display_data"
    },
    {
     "data": {
      "application/vnd.jupyter.widget-view+json": {
       "model_id": "7bc9704ddac5461e81e25c52d18be4d2",
       "version_major": 2,
       "version_minor": 0
      },
      "text/plain": [
       "Validation: |          | 0/? [00:00<?, ?it/s]"
      ]
     },
     "metadata": {},
     "output_type": "display_data"
    },
    {
     "data": {
      "application/vnd.jupyter.widget-view+json": {
       "model_id": "2126857f886f4591a70f106646c9ec54",
       "version_major": 2,
       "version_minor": 0
      },
      "text/plain": [
       "Validation: |          | 0/? [00:00<?, ?it/s]"
      ]
     },
     "metadata": {},
     "output_type": "display_data"
    },
    {
     "data": {
      "application/vnd.jupyter.widget-view+json": {
       "model_id": "f09c5c5a505244899c229eedb531895d",
       "version_major": 2,
       "version_minor": 0
      },
      "text/plain": [
       "Validation: |          | 0/? [00:00<?, ?it/s]"
      ]
     },
     "metadata": {},
     "output_type": "display_data"
    },
    {
     "data": {
      "application/vnd.jupyter.widget-view+json": {
       "model_id": "0373d9f042b34693b411cec8a8057554",
       "version_major": 2,
       "version_minor": 0
      },
      "text/plain": [
       "Validation: |          | 0/? [00:00<?, ?it/s]"
      ]
     },
     "metadata": {},
     "output_type": "display_data"
    },
    {
     "data": {
      "application/vnd.jupyter.widget-view+json": {
       "model_id": "036c38ffe27940f2b87bb3bc2d4ca677",
       "version_major": 2,
       "version_minor": 0
      },
      "text/plain": [
       "Validation: |          | 0/? [00:00<?, ?it/s]"
      ]
     },
     "metadata": {},
     "output_type": "display_data"
    },
    {
     "data": {
      "application/vnd.jupyter.widget-view+json": {
       "model_id": "3ec69876f73848dfa826e6a4a11afb0f",
       "version_major": 2,
       "version_minor": 0
      },
      "text/plain": [
       "Validation: |          | 0/? [00:00<?, ?it/s]"
      ]
     },
     "metadata": {},
     "output_type": "display_data"
    },
    {
     "data": {
      "application/vnd.jupyter.widget-view+json": {
       "model_id": "4fdaa9f72b6a45958aad0d4da76acb00",
       "version_major": 2,
       "version_minor": 0
      },
      "text/plain": [
       "Validation: |          | 0/? [00:00<?, ?it/s]"
      ]
     },
     "metadata": {},
     "output_type": "display_data"
    },
    {
     "data": {
      "application/vnd.jupyter.widget-view+json": {
       "model_id": "111991ba167f440f8b237bd14da10d2f",
       "version_major": 2,
       "version_minor": 0
      },
      "text/plain": [
       "Validation: |          | 0/? [00:00<?, ?it/s]"
      ]
     },
     "metadata": {},
     "output_type": "display_data"
    },
    {
     "data": {
      "application/vnd.jupyter.widget-view+json": {
       "model_id": "fe64dfdb418e44729d4663a49047e1bf",
       "version_major": 2,
       "version_minor": 0
      },
      "text/plain": [
       "Validation: |          | 0/? [00:00<?, ?it/s]"
      ]
     },
     "metadata": {},
     "output_type": "display_data"
    },
    {
     "data": {
      "application/vnd.jupyter.widget-view+json": {
       "model_id": "a749bf87e18242e9a9e35e5fa52fe97e",
       "version_major": 2,
       "version_minor": 0
      },
      "text/plain": [
       "Validation: |          | 0/? [00:00<?, ?it/s]"
      ]
     },
     "metadata": {},
     "output_type": "display_data"
    },
    {
     "data": {
      "application/vnd.jupyter.widget-view+json": {
       "model_id": "a2987fe02f6d48a4be3fd138bd353d25",
       "version_major": 2,
       "version_minor": 0
      },
      "text/plain": [
       "Validation: |          | 0/? [00:00<?, ?it/s]"
      ]
     },
     "metadata": {},
     "output_type": "display_data"
    },
    {
     "data": {
      "application/vnd.jupyter.widget-view+json": {
       "model_id": "9301190ca99c4a7d8a15ed61c9a1821a",
       "version_major": 2,
       "version_minor": 0
      },
      "text/plain": [
       "Validation: |          | 0/? [00:00<?, ?it/s]"
      ]
     },
     "metadata": {},
     "output_type": "display_data"
    },
    {
     "data": {
      "application/vnd.jupyter.widget-view+json": {
       "model_id": "80d07501991340a1ad5223e8adbc75f3",
       "version_major": 2,
       "version_minor": 0
      },
      "text/plain": [
       "Validation: |          | 0/? [00:00<?, ?it/s]"
      ]
     },
     "metadata": {},
     "output_type": "display_data"
    },
    {
     "data": {
      "application/vnd.jupyter.widget-view+json": {
       "model_id": "8b9253cf908e41349bbced8842480be3",
       "version_major": 2,
       "version_minor": 0
      },
      "text/plain": [
       "Validation: |          | 0/? [00:00<?, ?it/s]"
      ]
     },
     "metadata": {},
     "output_type": "display_data"
    },
    {
     "data": {
      "application/vnd.jupyter.widget-view+json": {
       "model_id": "fe2e5e7dc60d4411b2a3224b4ca4ca85",
       "version_major": 2,
       "version_minor": 0
      },
      "text/plain": [
       "Validation: |          | 0/? [00:00<?, ?it/s]"
      ]
     },
     "metadata": {},
     "output_type": "display_data"
    },
    {
     "data": {
      "application/vnd.jupyter.widget-view+json": {
       "model_id": "ecdbaaf5aefd4f369a258f7804fb7bbc",
       "version_major": 2,
       "version_minor": 0
      },
      "text/plain": [
       "Validation: |          | 0/? [00:00<?, ?it/s]"
      ]
     },
     "metadata": {},
     "output_type": "display_data"
    },
    {
     "data": {
      "application/vnd.jupyter.widget-view+json": {
       "model_id": "1a887f4d82df4551af4d83b6fd83af8e",
       "version_major": 2,
       "version_minor": 0
      },
      "text/plain": [
       "Validation: |          | 0/? [00:00<?, ?it/s]"
      ]
     },
     "metadata": {},
     "output_type": "display_data"
    },
    {
     "data": {
      "application/vnd.jupyter.widget-view+json": {
       "model_id": "9f104383fe964533ba39f5028d678d42",
       "version_major": 2,
       "version_minor": 0
      },
      "text/plain": [
       "Validation: |          | 0/? [00:00<?, ?it/s]"
      ]
     },
     "metadata": {},
     "output_type": "display_data"
    },
    {
     "data": {
      "application/vnd.jupyter.widget-view+json": {
       "model_id": "4ffdfb04624b4d31b0abba6edfb61460",
       "version_major": 2,
       "version_minor": 0
      },
      "text/plain": [
       "Validation: |          | 0/? [00:00<?, ?it/s]"
      ]
     },
     "metadata": {},
     "output_type": "display_data"
    },
    {
     "data": {
      "application/vnd.jupyter.widget-view+json": {
       "model_id": "bc2079a4283f4de39c04ea718b57bce4",
       "version_major": 2,
       "version_minor": 0
      },
      "text/plain": [
       "Validation: |          | 0/? [00:00<?, ?it/s]"
      ]
     },
     "metadata": {},
     "output_type": "display_data"
    },
    {
     "data": {
      "application/vnd.jupyter.widget-view+json": {
       "model_id": "11cb4bab30c8435f8715483c6e61294e",
       "version_major": 2,
       "version_minor": 0
      },
      "text/plain": [
       "Validation: |          | 0/? [00:00<?, ?it/s]"
      ]
     },
     "metadata": {},
     "output_type": "display_data"
    },
    {
     "data": {
      "application/vnd.jupyter.widget-view+json": {
       "model_id": "2534898ce53544a4818d8621aeec4194",
       "version_major": 2,
       "version_minor": 0
      },
      "text/plain": [
       "Validation: |          | 0/? [00:00<?, ?it/s]"
      ]
     },
     "metadata": {},
     "output_type": "display_data"
    },
    {
     "data": {
      "application/vnd.jupyter.widget-view+json": {
       "model_id": "95e80c9e763e430883d130f245e2ec08",
       "version_major": 2,
       "version_minor": 0
      },
      "text/plain": [
       "Validation: |          | 0/? [00:00<?, ?it/s]"
      ]
     },
     "metadata": {},
     "output_type": "display_data"
    },
    {
     "data": {
      "application/vnd.jupyter.widget-view+json": {
       "model_id": "44d436fc867c494fa3c50eef21e38569",
       "version_major": 2,
       "version_minor": 0
      },
      "text/plain": [
       "Validation: |          | 0/? [00:00<?, ?it/s]"
      ]
     },
     "metadata": {},
     "output_type": "display_data"
    },
    {
     "data": {
      "application/vnd.jupyter.widget-view+json": {
       "model_id": "55eed8004ad34ab4b7d410c73a8155d8",
       "version_major": 2,
       "version_minor": 0
      },
      "text/plain": [
       "Validation: |          | 0/? [00:00<?, ?it/s]"
      ]
     },
     "metadata": {},
     "output_type": "display_data"
    },
    {
     "data": {
      "application/vnd.jupyter.widget-view+json": {
       "model_id": "5f16242d0eff478eaed7b8e2ba68357b",
       "version_major": 2,
       "version_minor": 0
      },
      "text/plain": [
       "Validation: |          | 0/? [00:00<?, ?it/s]"
      ]
     },
     "metadata": {},
     "output_type": "display_data"
    },
    {
     "data": {
      "application/vnd.jupyter.widget-view+json": {
       "model_id": "00346e33f0384ba0817d32199dfdbbcc",
       "version_major": 2,
       "version_minor": 0
      },
      "text/plain": [
       "Validation: |          | 0/? [00:00<?, ?it/s]"
      ]
     },
     "metadata": {},
     "output_type": "display_data"
    },
    {
     "data": {
      "application/vnd.jupyter.widget-view+json": {
       "model_id": "eacadc91e3ff41ecb04831bd2a2412db",
       "version_major": 2,
       "version_minor": 0
      },
      "text/plain": [
       "Validation: |          | 0/? [00:00<?, ?it/s]"
      ]
     },
     "metadata": {},
     "output_type": "display_data"
    },
    {
     "data": {
      "application/vnd.jupyter.widget-view+json": {
       "model_id": "489cbdff02c94722a4a3704dd44531a0",
       "version_major": 2,
       "version_minor": 0
      },
      "text/plain": [
       "Validation: |          | 0/? [00:00<?, ?it/s]"
      ]
     },
     "metadata": {},
     "output_type": "display_data"
    },
    {
     "data": {
      "application/vnd.jupyter.widget-view+json": {
       "model_id": "edec29d66c7f438cb02dda5aab40896b",
       "version_major": 2,
       "version_minor": 0
      },
      "text/plain": [
       "Validation: |          | 0/? [00:00<?, ?it/s]"
      ]
     },
     "metadata": {},
     "output_type": "display_data"
    },
    {
     "data": {
      "application/vnd.jupyter.widget-view+json": {
       "model_id": "68b0026462094fc294f11c332becd222",
       "version_major": 2,
       "version_minor": 0
      },
      "text/plain": [
       "Validation: |          | 0/? [00:00<?, ?it/s]"
      ]
     },
     "metadata": {},
     "output_type": "display_data"
    },
    {
     "data": {
      "application/vnd.jupyter.widget-view+json": {
       "model_id": "3a392a67f8454303bb760d17b747d7e8",
       "version_major": 2,
       "version_minor": 0
      },
      "text/plain": [
       "Validation: |          | 0/? [00:00<?, ?it/s]"
      ]
     },
     "metadata": {},
     "output_type": "display_data"
    },
    {
     "data": {
      "application/vnd.jupyter.widget-view+json": {
       "model_id": "ff3234e485e34d818a246a0a394306ec",
       "version_major": 2,
       "version_minor": 0
      },
      "text/plain": [
       "Validation: |          | 0/? [00:00<?, ?it/s]"
      ]
     },
     "metadata": {},
     "output_type": "display_data"
    },
    {
     "data": {
      "application/vnd.jupyter.widget-view+json": {
       "model_id": "7d398f40da90467b9139f32896dad96a",
       "version_major": 2,
       "version_minor": 0
      },
      "text/plain": [
       "Validation: |          | 0/? [00:00<?, ?it/s]"
      ]
     },
     "metadata": {},
     "output_type": "display_data"
    },
    {
     "data": {
      "application/vnd.jupyter.widget-view+json": {
       "model_id": "d28726e9a8cd42bfb88ad288c05a8e34",
       "version_major": 2,
       "version_minor": 0
      },
      "text/plain": [
       "Validation: |          | 0/? [00:00<?, ?it/s]"
      ]
     },
     "metadata": {},
     "output_type": "display_data"
    },
    {
     "data": {
      "application/vnd.jupyter.widget-view+json": {
       "model_id": "4371a440a58f479cbee308b6a890475e",
       "version_major": 2,
       "version_minor": 0
      },
      "text/plain": [
       "Validation: |          | 0/? [00:00<?, ?it/s]"
      ]
     },
     "metadata": {},
     "output_type": "display_data"
    },
    {
     "data": {
      "application/vnd.jupyter.widget-view+json": {
       "model_id": "d0707286856a445b9114a18012314276",
       "version_major": 2,
       "version_minor": 0
      },
      "text/plain": [
       "Validation: |          | 0/? [00:00<?, ?it/s]"
      ]
     },
     "metadata": {},
     "output_type": "display_data"
    },
    {
     "data": {
      "application/vnd.jupyter.widget-view+json": {
       "model_id": "262d59ebaf144dfd9deb6850b3e62ae0",
       "version_major": 2,
       "version_minor": 0
      },
      "text/plain": [
       "Validation: |          | 0/? [00:00<?, ?it/s]"
      ]
     },
     "metadata": {},
     "output_type": "display_data"
    },
    {
     "data": {
      "application/vnd.jupyter.widget-view+json": {
       "model_id": "2ce508811bf94ac588eea405a1a55d38",
       "version_major": 2,
       "version_minor": 0
      },
      "text/plain": [
       "Validation: |          | 0/? [00:00<?, ?it/s]"
      ]
     },
     "metadata": {},
     "output_type": "display_data"
    },
    {
     "data": {
      "application/vnd.jupyter.widget-view+json": {
       "model_id": "551ee7632a5a4575a30271b3a637a9c2",
       "version_major": 2,
       "version_minor": 0
      },
      "text/plain": [
       "Validation: |          | 0/? [00:00<?, ?it/s]"
      ]
     },
     "metadata": {},
     "output_type": "display_data"
    },
    {
     "data": {
      "application/vnd.jupyter.widget-view+json": {
       "model_id": "7527b5de3ecb440182dbba2f943f602e",
       "version_major": 2,
       "version_minor": 0
      },
      "text/plain": [
       "Validation: |          | 0/? [00:00<?, ?it/s]"
      ]
     },
     "metadata": {},
     "output_type": "display_data"
    },
    {
     "data": {
      "application/vnd.jupyter.widget-view+json": {
       "model_id": "45fc58c50ab4437f8770e33aa5aed996",
       "version_major": 2,
       "version_minor": 0
      },
      "text/plain": [
       "Validation: |          | 0/? [00:00<?, ?it/s]"
      ]
     },
     "metadata": {},
     "output_type": "display_data"
    },
    {
     "data": {
      "application/vnd.jupyter.widget-view+json": {
       "model_id": "923723ca632c45b7a71c17d204cffdfb",
       "version_major": 2,
       "version_minor": 0
      },
      "text/plain": [
       "Validation: |          | 0/? [00:00<?, ?it/s]"
      ]
     },
     "metadata": {},
     "output_type": "display_data"
    },
    {
     "data": {
      "application/vnd.jupyter.widget-view+json": {
       "model_id": "c5d9991c45de4d46a52f19f3ca59ff7f",
       "version_major": 2,
       "version_minor": 0
      },
      "text/plain": [
       "Validation: |          | 0/? [00:00<?, ?it/s]"
      ]
     },
     "metadata": {},
     "output_type": "display_data"
    },
    {
     "data": {
      "application/vnd.jupyter.widget-view+json": {
       "model_id": "3f5835142b51438897012e3319d5fdde",
       "version_major": 2,
       "version_minor": 0
      },
      "text/plain": [
       "Validation: |          | 0/? [00:00<?, ?it/s]"
      ]
     },
     "metadata": {},
     "output_type": "display_data"
    },
    {
     "data": {
      "application/vnd.jupyter.widget-view+json": {
       "model_id": "d444797191c44e918a4613c6de13f74f",
       "version_major": 2,
       "version_minor": 0
      },
      "text/plain": [
       "Validation: |          | 0/? [00:00<?, ?it/s]"
      ]
     },
     "metadata": {},
     "output_type": "display_data"
    },
    {
     "data": {
      "application/vnd.jupyter.widget-view+json": {
       "model_id": "1d76cee724824c769721fa1ceb2b0794",
       "version_major": 2,
       "version_minor": 0
      },
      "text/plain": [
       "Validation: |          | 0/? [00:00<?, ?it/s]"
      ]
     },
     "metadata": {},
     "output_type": "display_data"
    },
    {
     "data": {
      "application/vnd.jupyter.widget-view+json": {
       "model_id": "aff5566d253d4d298e60b62814d83ffb",
       "version_major": 2,
       "version_minor": 0
      },
      "text/plain": [
       "Validation: |          | 0/? [00:00<?, ?it/s]"
      ]
     },
     "metadata": {},
     "output_type": "display_data"
    },
    {
     "data": {
      "application/vnd.jupyter.widget-view+json": {
       "model_id": "e44d7ea4437640f892cd334b27162e4f",
       "version_major": 2,
       "version_minor": 0
      },
      "text/plain": [
       "Validation: |          | 0/? [00:00<?, ?it/s]"
      ]
     },
     "metadata": {},
     "output_type": "display_data"
    },
    {
     "data": {
      "application/vnd.jupyter.widget-view+json": {
       "model_id": "12d3c7bb88ba49bd9f7c8ba2f3dc22d2",
       "version_major": 2,
       "version_minor": 0
      },
      "text/plain": [
       "Validation: |          | 0/? [00:00<?, ?it/s]"
      ]
     },
     "metadata": {},
     "output_type": "display_data"
    },
    {
     "data": {
      "application/vnd.jupyter.widget-view+json": {
       "model_id": "6935b92a573644ba8d1f3283fddcab48",
       "version_major": 2,
       "version_minor": 0
      },
      "text/plain": [
       "Validation: |          | 0/? [00:00<?, ?it/s]"
      ]
     },
     "metadata": {},
     "output_type": "display_data"
    },
    {
     "data": {
      "application/vnd.jupyter.widget-view+json": {
       "model_id": "85101a9f30f44aaeb86922e10cb7ec96",
       "version_major": 2,
       "version_minor": 0
      },
      "text/plain": [
       "Validation: |          | 0/? [00:00<?, ?it/s]"
      ]
     },
     "metadata": {},
     "output_type": "display_data"
    },
    {
     "data": {
      "application/vnd.jupyter.widget-view+json": {
       "model_id": "64a5f16f85c4405aaef3dba9a153c664",
       "version_major": 2,
       "version_minor": 0
      },
      "text/plain": [
       "Validation: |          | 0/? [00:00<?, ?it/s]"
      ]
     },
     "metadata": {},
     "output_type": "display_data"
    },
    {
     "data": {
      "application/vnd.jupyter.widget-view+json": {
       "model_id": "3ec8e07620d24214b2c2f416f1486623",
       "version_major": 2,
       "version_minor": 0
      },
      "text/plain": [
       "Validation: |          | 0/? [00:00<?, ?it/s]"
      ]
     },
     "metadata": {},
     "output_type": "display_data"
    },
    {
     "data": {
      "application/vnd.jupyter.widget-view+json": {
       "model_id": "345bad3a24cc432195ef3e68f216dc65",
       "version_major": 2,
       "version_minor": 0
      },
      "text/plain": [
       "Validation: |          | 0/? [00:00<?, ?it/s]"
      ]
     },
     "metadata": {},
     "output_type": "display_data"
    },
    {
     "data": {
      "application/vnd.jupyter.widget-view+json": {
       "model_id": "a18b8ea9e47448768a219d0f1684d636",
       "version_major": 2,
       "version_minor": 0
      },
      "text/plain": [
       "Validation: |          | 0/? [00:00<?, ?it/s]"
      ]
     },
     "metadata": {},
     "output_type": "display_data"
    },
    {
     "data": {
      "application/vnd.jupyter.widget-view+json": {
       "model_id": "021c364cfc4a42798f98b1b1d00939d0",
       "version_major": 2,
       "version_minor": 0
      },
      "text/plain": [
       "Validation: |          | 0/? [00:00<?, ?it/s]"
      ]
     },
     "metadata": {},
     "output_type": "display_data"
    },
    {
     "data": {
      "application/vnd.jupyter.widget-view+json": {
       "model_id": "e7ea58a5e2304256b8f0baf5619793a4",
       "version_major": 2,
       "version_minor": 0
      },
      "text/plain": [
       "Validation: |          | 0/? [00:00<?, ?it/s]"
      ]
     },
     "metadata": {},
     "output_type": "display_data"
    },
    {
     "data": {
      "application/vnd.jupyter.widget-view+json": {
       "model_id": "dcf078e98ab844a8a954d56c115d0378",
       "version_major": 2,
       "version_minor": 0
      },
      "text/plain": [
       "Validation: |          | 0/? [00:00<?, ?it/s]"
      ]
     },
     "metadata": {},
     "output_type": "display_data"
    },
    {
     "data": {
      "application/vnd.jupyter.widget-view+json": {
       "model_id": "6c7b9b2b19234397a5622f785c13fef5",
       "version_major": 2,
       "version_minor": 0
      },
      "text/plain": [
       "Validation: |          | 0/? [00:00<?, ?it/s]"
      ]
     },
     "metadata": {},
     "output_type": "display_data"
    },
    {
     "data": {
      "application/vnd.jupyter.widget-view+json": {
       "model_id": "92c4f02aa45948d980bde5a9469ecf9e",
       "version_major": 2,
       "version_minor": 0
      },
      "text/plain": [
       "Validation: |          | 0/? [00:00<?, ?it/s]"
      ]
     },
     "metadata": {},
     "output_type": "display_data"
    },
    {
     "data": {
      "application/vnd.jupyter.widget-view+json": {
       "model_id": "0378ba222e074d2ebfee73251fedc4a7",
       "version_major": 2,
       "version_minor": 0
      },
      "text/plain": [
       "Validation: |          | 0/? [00:00<?, ?it/s]"
      ]
     },
     "metadata": {},
     "output_type": "display_data"
    },
    {
     "data": {
      "application/vnd.jupyter.widget-view+json": {
       "model_id": "fcd737fe14a1441aa70f72fd54fc79e1",
       "version_major": 2,
       "version_minor": 0
      },
      "text/plain": [
       "Validation: |          | 0/? [00:00<?, ?it/s]"
      ]
     },
     "metadata": {},
     "output_type": "display_data"
    },
    {
     "data": {
      "application/vnd.jupyter.widget-view+json": {
       "model_id": "eed64198f8774fce968771fbcba0393d",
       "version_major": 2,
       "version_minor": 0
      },
      "text/plain": [
       "Validation: |          | 0/? [00:00<?, ?it/s]"
      ]
     },
     "metadata": {},
     "output_type": "display_data"
    },
    {
     "data": {
      "application/vnd.jupyter.widget-view+json": {
       "model_id": "553d29c5e3a94cd0b7f04fd3e33b897d",
       "version_major": 2,
       "version_minor": 0
      },
      "text/plain": [
       "Validation: |          | 0/? [00:00<?, ?it/s]"
      ]
     },
     "metadata": {},
     "output_type": "display_data"
    },
    {
     "data": {
      "application/vnd.jupyter.widget-view+json": {
       "model_id": "b5d5c00a9ecd496096d35fc6e34c8996",
       "version_major": 2,
       "version_minor": 0
      },
      "text/plain": [
       "Validation: |          | 0/? [00:00<?, ?it/s]"
      ]
     },
     "metadata": {},
     "output_type": "display_data"
    },
    {
     "data": {
      "application/vnd.jupyter.widget-view+json": {
       "model_id": "916cd540960842c2806c5e2727d765c9",
       "version_major": 2,
       "version_minor": 0
      },
      "text/plain": [
       "Validation: |          | 0/? [00:00<?, ?it/s]"
      ]
     },
     "metadata": {},
     "output_type": "display_data"
    },
    {
     "data": {
      "application/vnd.jupyter.widget-view+json": {
       "model_id": "abd20f8d8abd402f82a2488af87bd226",
       "version_major": 2,
       "version_minor": 0
      },
      "text/plain": [
       "Validation: |          | 0/? [00:00<?, ?it/s]"
      ]
     },
     "metadata": {},
     "output_type": "display_data"
    },
    {
     "data": {
      "application/vnd.jupyter.widget-view+json": {
       "model_id": "bd85d920a383468ca8f1e6b9766cc7b6",
       "version_major": 2,
       "version_minor": 0
      },
      "text/plain": [
       "Validation: |          | 0/? [00:00<?, ?it/s]"
      ]
     },
     "metadata": {},
     "output_type": "display_data"
    },
    {
     "data": {
      "application/vnd.jupyter.widget-view+json": {
       "model_id": "1cd792b2e8b34d7aaa6d7e375cd13d84",
       "version_major": 2,
       "version_minor": 0
      },
      "text/plain": [
       "Validation: |          | 0/? [00:00<?, ?it/s]"
      ]
     },
     "metadata": {},
     "output_type": "display_data"
    },
    {
     "data": {
      "application/vnd.jupyter.widget-view+json": {
       "model_id": "ec10b43c66ff4a278bdb7b015be1d3e4",
       "version_major": 2,
       "version_minor": 0
      },
      "text/plain": [
       "Validation: |          | 0/? [00:00<?, ?it/s]"
      ]
     },
     "metadata": {},
     "output_type": "display_data"
    },
    {
     "data": {
      "application/vnd.jupyter.widget-view+json": {
       "model_id": "952527153fa149009e324897b93b99bb",
       "version_major": 2,
       "version_minor": 0
      },
      "text/plain": [
       "Validation: |          | 0/? [00:00<?, ?it/s]"
      ]
     },
     "metadata": {},
     "output_type": "display_data"
    },
    {
     "data": {
      "application/vnd.jupyter.widget-view+json": {
       "model_id": "0984aeb00cc04d248197c8c3ecde2a26",
       "version_major": 2,
       "version_minor": 0
      },
      "text/plain": [
       "Validation: |          | 0/? [00:00<?, ?it/s]"
      ]
     },
     "metadata": {},
     "output_type": "display_data"
    },
    {
     "data": {
      "application/vnd.jupyter.widget-view+json": {
       "model_id": "1ca812823d224aa4af9670d2c35c0305",
       "version_major": 2,
       "version_minor": 0
      },
      "text/plain": [
       "Validation: |          | 0/? [00:00<?, ?it/s]"
      ]
     },
     "metadata": {},
     "output_type": "display_data"
    },
    {
     "data": {
      "application/vnd.jupyter.widget-view+json": {
       "model_id": "b545ef0f11df4055ba4580b70c4531e3",
       "version_major": 2,
       "version_minor": 0
      },
      "text/plain": [
       "Validation: |          | 0/? [00:00<?, ?it/s]"
      ]
     },
     "metadata": {},
     "output_type": "display_data"
    },
    {
     "data": {
      "application/vnd.jupyter.widget-view+json": {
       "model_id": "10f3459987d44bab845313efb75d512c",
       "version_major": 2,
       "version_minor": 0
      },
      "text/plain": [
       "Validation: |          | 0/? [00:00<?, ?it/s]"
      ]
     },
     "metadata": {},
     "output_type": "display_data"
    },
    {
     "data": {
      "application/vnd.jupyter.widget-view+json": {
       "model_id": "4c62d7e70a104696ad24c8c0ffb7388f",
       "version_major": 2,
       "version_minor": 0
      },
      "text/plain": [
       "Validation: |          | 0/? [00:00<?, ?it/s]"
      ]
     },
     "metadata": {},
     "output_type": "display_data"
    },
    {
     "data": {
      "application/vnd.jupyter.widget-view+json": {
       "model_id": "943a55615b6a4839877029916a967e86",
       "version_major": 2,
       "version_minor": 0
      },
      "text/plain": [
       "Validation: |          | 0/? [00:00<?, ?it/s]"
      ]
     },
     "metadata": {},
     "output_type": "display_data"
    },
    {
     "data": {
      "application/vnd.jupyter.widget-view+json": {
       "model_id": "01e5b9adf5b8450a87342806e7e587ff",
       "version_major": 2,
       "version_minor": 0
      },
      "text/plain": [
       "Validation: |          | 0/? [00:00<?, ?it/s]"
      ]
     },
     "metadata": {},
     "output_type": "display_data"
    },
    {
     "data": {
      "application/vnd.jupyter.widget-view+json": {
       "model_id": "c42308f42900443694d0f1017a348d40",
       "version_major": 2,
       "version_minor": 0
      },
      "text/plain": [
       "Validation: |          | 0/? [00:00<?, ?it/s]"
      ]
     },
     "metadata": {},
     "output_type": "display_data"
    },
    {
     "data": {
      "application/vnd.jupyter.widget-view+json": {
       "model_id": "59c7253b2e9e43b8b9c02d4b82bf708d",
       "version_major": 2,
       "version_minor": 0
      },
      "text/plain": [
       "Validation: |          | 0/? [00:00<?, ?it/s]"
      ]
     },
     "metadata": {},
     "output_type": "display_data"
    },
    {
     "data": {
      "application/vnd.jupyter.widget-view+json": {
       "model_id": "f038401713464580bc6f77e36ec40b6e",
       "version_major": 2,
       "version_minor": 0
      },
      "text/plain": [
       "Validation: |          | 0/? [00:00<?, ?it/s]"
      ]
     },
     "metadata": {},
     "output_type": "display_data"
    },
    {
     "data": {
      "application/vnd.jupyter.widget-view+json": {
       "model_id": "d56256c57c9a4c4689c940016b0b2e31",
       "version_major": 2,
       "version_minor": 0
      },
      "text/plain": [
       "Validation: |          | 0/? [00:00<?, ?it/s]"
      ]
     },
     "metadata": {},
     "output_type": "display_data"
    },
    {
     "data": {
      "application/vnd.jupyter.widget-view+json": {
       "model_id": "d5023bb425fc469a898c89aeb72778b1",
       "version_major": 2,
       "version_minor": 0
      },
      "text/plain": [
       "Validation: |          | 0/? [00:00<?, ?it/s]"
      ]
     },
     "metadata": {},
     "output_type": "display_data"
    },
    {
     "data": {
      "application/vnd.jupyter.widget-view+json": {
       "model_id": "5c57dfbc13b9491ba2390f0a17ad1f7c",
       "version_major": 2,
       "version_minor": 0
      },
      "text/plain": [
       "Validation: |          | 0/? [00:00<?, ?it/s]"
      ]
     },
     "metadata": {},
     "output_type": "display_data"
    },
    {
     "data": {
      "application/vnd.jupyter.widget-view+json": {
       "model_id": "3c85eb62c3fb47159510c26bdc9fd4fe",
       "version_major": 2,
       "version_minor": 0
      },
      "text/plain": [
       "Validation: |          | 0/? [00:00<?, ?it/s]"
      ]
     },
     "metadata": {},
     "output_type": "display_data"
    },
    {
     "data": {
      "application/vnd.jupyter.widget-view+json": {
       "model_id": "70583faaabb24331b0b075196f081e22",
       "version_major": 2,
       "version_minor": 0
      },
      "text/plain": [
       "Validation: |          | 0/? [00:00<?, ?it/s]"
      ]
     },
     "metadata": {},
     "output_type": "display_data"
    },
    {
     "data": {
      "application/vnd.jupyter.widget-view+json": {
       "model_id": "b68f48b61d234cb9b984a56e2ae628ec",
       "version_major": 2,
       "version_minor": 0
      },
      "text/plain": [
       "Validation: |          | 0/? [00:00<?, ?it/s]"
      ]
     },
     "metadata": {},
     "output_type": "display_data"
    },
    {
     "data": {
      "application/vnd.jupyter.widget-view+json": {
       "model_id": "7c4519e7464b43218e7d75c097bdae6c",
       "version_major": 2,
       "version_minor": 0
      },
      "text/plain": [
       "Validation: |          | 0/? [00:00<?, ?it/s]"
      ]
     },
     "metadata": {},
     "output_type": "display_data"
    },
    {
     "data": {
      "application/vnd.jupyter.widget-view+json": {
       "model_id": "1c1b71b9f549478eb67b9c32fcd619fb",
       "version_major": 2,
       "version_minor": 0
      },
      "text/plain": [
       "Validation: |          | 0/? [00:00<?, ?it/s]"
      ]
     },
     "metadata": {},
     "output_type": "display_data"
    },
    {
     "data": {
      "application/vnd.jupyter.widget-view+json": {
       "model_id": "42671846977143c48774190276247b9c",
       "version_major": 2,
       "version_minor": 0
      },
      "text/plain": [
       "Validation: |          | 0/? [00:00<?, ?it/s]"
      ]
     },
     "metadata": {},
     "output_type": "display_data"
    },
    {
     "data": {
      "application/vnd.jupyter.widget-view+json": {
       "model_id": "71e846b9f39647d69131318703eb6ee4",
       "version_major": 2,
       "version_minor": 0
      },
      "text/plain": [
       "Validation: |          | 0/? [00:00<?, ?it/s]"
      ]
     },
     "metadata": {},
     "output_type": "display_data"
    },
    {
     "data": {
      "application/vnd.jupyter.widget-view+json": {
       "model_id": "4e64827a56f645bca775c897e8726346",
       "version_major": 2,
       "version_minor": 0
      },
      "text/plain": [
       "Validation: |          | 0/? [00:00<?, ?it/s]"
      ]
     },
     "metadata": {},
     "output_type": "display_data"
    },
    {
     "data": {
      "application/vnd.jupyter.widget-view+json": {
       "model_id": "a4b908a14fdf4d7e8e6d39d63fda7e36",
       "version_major": 2,
       "version_minor": 0
      },
      "text/plain": [
       "Validation: |          | 0/? [00:00<?, ?it/s]"
      ]
     },
     "metadata": {},
     "output_type": "display_data"
    },
    {
     "data": {
      "application/vnd.jupyter.widget-view+json": {
       "model_id": "41905fa5845e495280c9ff7e4ba554eb",
       "version_major": 2,
       "version_minor": 0
      },
      "text/plain": [
       "Validation: |          | 0/? [00:00<?, ?it/s]"
      ]
     },
     "metadata": {},
     "output_type": "display_data"
    },
    {
     "data": {
      "application/vnd.jupyter.widget-view+json": {
       "model_id": "dde925c3190748ae8d5beb99bf3df400",
       "version_major": 2,
       "version_minor": 0
      },
      "text/plain": [
       "Validation: |          | 0/? [00:00<?, ?it/s]"
      ]
     },
     "metadata": {},
     "output_type": "display_data"
    },
    {
     "data": {
      "application/vnd.jupyter.widget-view+json": {
       "model_id": "abce1154511a4adc9c3e4d8d8c345140",
       "version_major": 2,
       "version_minor": 0
      },
      "text/plain": [
       "Validation: |          | 0/? [00:00<?, ?it/s]"
      ]
     },
     "metadata": {},
     "output_type": "display_data"
    },
    {
     "data": {
      "application/vnd.jupyter.widget-view+json": {
       "model_id": "6884f138afef419fb632fdb6601024dc",
       "version_major": 2,
       "version_minor": 0
      },
      "text/plain": [
       "Validation: |          | 0/? [00:00<?, ?it/s]"
      ]
     },
     "metadata": {},
     "output_type": "display_data"
    },
    {
     "data": {
      "application/vnd.jupyter.widget-view+json": {
       "model_id": "32e944a0fe7a4898a05bd214fc740a28",
       "version_major": 2,
       "version_minor": 0
      },
      "text/plain": [
       "Validation: |          | 0/? [00:00<?, ?it/s]"
      ]
     },
     "metadata": {},
     "output_type": "display_data"
    },
    {
     "data": {
      "application/vnd.jupyter.widget-view+json": {
       "model_id": "8a0e2589ad394a9daf4a6a0d99082aea",
       "version_major": 2,
       "version_minor": 0
      },
      "text/plain": [
       "Validation: |          | 0/? [00:00<?, ?it/s]"
      ]
     },
     "metadata": {},
     "output_type": "display_data"
    },
    {
     "data": {
      "application/vnd.jupyter.widget-view+json": {
       "model_id": "cfb4285a1e5543ee864620dfcfdf6a66",
       "version_major": 2,
       "version_minor": 0
      },
      "text/plain": [
       "Validation: |          | 0/? [00:00<?, ?it/s]"
      ]
     },
     "metadata": {},
     "output_type": "display_data"
    },
    {
     "data": {
      "application/vnd.jupyter.widget-view+json": {
       "model_id": "2a67c56ffc5245f6822c3caf1ac5235c",
       "version_major": 2,
       "version_minor": 0
      },
      "text/plain": [
       "Validation: |          | 0/? [00:00<?, ?it/s]"
      ]
     },
     "metadata": {},
     "output_type": "display_data"
    },
    {
     "data": {
      "application/vnd.jupyter.widget-view+json": {
       "model_id": "dc3512e172af46ae97d75f532d666c48",
       "version_major": 2,
       "version_minor": 0
      },
      "text/plain": [
       "Validation: |          | 0/? [00:00<?, ?it/s]"
      ]
     },
     "metadata": {},
     "output_type": "display_data"
    },
    {
     "data": {
      "application/vnd.jupyter.widget-view+json": {
       "model_id": "a78ea240c38247dabe9d5e1c17176399",
       "version_major": 2,
       "version_minor": 0
      },
      "text/plain": [
       "Validation: |          | 0/? [00:00<?, ?it/s]"
      ]
     },
     "metadata": {},
     "output_type": "display_data"
    },
    {
     "data": {
      "application/vnd.jupyter.widget-view+json": {
       "model_id": "8d613828a6b044d3bf2a7b484107dba0",
       "version_major": 2,
       "version_minor": 0
      },
      "text/plain": [
       "Validation: |          | 0/? [00:00<?, ?it/s]"
      ]
     },
     "metadata": {},
     "output_type": "display_data"
    },
    {
     "data": {
      "application/vnd.jupyter.widget-view+json": {
       "model_id": "ac9b1f19570749b795886d8756723340",
       "version_major": 2,
       "version_minor": 0
      },
      "text/plain": [
       "Validation: |          | 0/? [00:00<?, ?it/s]"
      ]
     },
     "metadata": {},
     "output_type": "display_data"
    },
    {
     "data": {
      "application/vnd.jupyter.widget-view+json": {
       "model_id": "6c034df67214408185cd36d558c29156",
       "version_major": 2,
       "version_minor": 0
      },
      "text/plain": [
       "Validation: |          | 0/? [00:00<?, ?it/s]"
      ]
     },
     "metadata": {},
     "output_type": "display_data"
    },
    {
     "data": {
      "application/vnd.jupyter.widget-view+json": {
       "model_id": "8239544e87e34db3b0a7f58e532ac350",
       "version_major": 2,
       "version_minor": 0
      },
      "text/plain": [
       "Validation: |          | 0/? [00:00<?, ?it/s]"
      ]
     },
     "metadata": {},
     "output_type": "display_data"
    },
    {
     "data": {
      "application/vnd.jupyter.widget-view+json": {
       "model_id": "bbb34376e7404d18a92aa2ca1e2dbac8",
       "version_major": 2,
       "version_minor": 0
      },
      "text/plain": [
       "Validation: |          | 0/? [00:00<?, ?it/s]"
      ]
     },
     "metadata": {},
     "output_type": "display_data"
    },
    {
     "data": {
      "application/vnd.jupyter.widget-view+json": {
       "model_id": "a6c7b4a9aaf94e0ebef352d85c3d6911",
       "version_major": 2,
       "version_minor": 0
      },
      "text/plain": [
       "Validation: |          | 0/? [00:00<?, ?it/s]"
      ]
     },
     "metadata": {},
     "output_type": "display_data"
    },
    {
     "data": {
      "application/vnd.jupyter.widget-view+json": {
       "model_id": "e6b3971d23a34ad7a9f2f904fb8a20c1",
       "version_major": 2,
       "version_minor": 0
      },
      "text/plain": [
       "Validation: |          | 0/? [00:00<?, ?it/s]"
      ]
     },
     "metadata": {},
     "output_type": "display_data"
    },
    {
     "data": {
      "application/vnd.jupyter.widget-view+json": {
       "model_id": "a7e52ee28282433491ba66944399c025",
       "version_major": 2,
       "version_minor": 0
      },
      "text/plain": [
       "Validation: |          | 0/? [00:00<?, ?it/s]"
      ]
     },
     "metadata": {},
     "output_type": "display_data"
    },
    {
     "data": {
      "application/vnd.jupyter.widget-view+json": {
       "model_id": "35148b35b72749d4847e719da4f70024",
       "version_major": 2,
       "version_minor": 0
      },
      "text/plain": [
       "Validation: |          | 0/? [00:00<?, ?it/s]"
      ]
     },
     "metadata": {},
     "output_type": "display_data"
    },
    {
     "data": {
      "application/vnd.jupyter.widget-view+json": {
       "model_id": "92608626e19f492e9f344db55fa44555",
       "version_major": 2,
       "version_minor": 0
      },
      "text/plain": [
       "Validation: |          | 0/? [00:00<?, ?it/s]"
      ]
     },
     "metadata": {},
     "output_type": "display_data"
    },
    {
     "data": {
      "application/vnd.jupyter.widget-view+json": {
       "model_id": "6da35735ec3b4099ac3294593aacbe08",
       "version_major": 2,
       "version_minor": 0
      },
      "text/plain": [
       "Validation: |          | 0/? [00:00<?, ?it/s]"
      ]
     },
     "metadata": {},
     "output_type": "display_data"
    },
    {
     "data": {
      "application/vnd.jupyter.widget-view+json": {
       "model_id": "fb34551ba15f4b8ebcca188ddebb6d34",
       "version_major": 2,
       "version_minor": 0
      },
      "text/plain": [
       "Validation: |          | 0/? [00:00<?, ?it/s]"
      ]
     },
     "metadata": {},
     "output_type": "display_data"
    },
    {
     "data": {
      "application/vnd.jupyter.widget-view+json": {
       "model_id": "25c126e2e6dc454ab1fadfe65f965beb",
       "version_major": 2,
       "version_minor": 0
      },
      "text/plain": [
       "Validation: |          | 0/? [00:00<?, ?it/s]"
      ]
     },
     "metadata": {},
     "output_type": "display_data"
    },
    {
     "data": {
      "application/vnd.jupyter.widget-view+json": {
       "model_id": "c084d03175634f1c83557b29691e3d0d",
       "version_major": 2,
       "version_minor": 0
      },
      "text/plain": [
       "Validation: |          | 0/? [00:00<?, ?it/s]"
      ]
     },
     "metadata": {},
     "output_type": "display_data"
    },
    {
     "data": {
      "application/vnd.jupyter.widget-view+json": {
       "model_id": "42cd8d4054a64ca4b97c4c26d756297d",
       "version_major": 2,
       "version_minor": 0
      },
      "text/plain": [
       "Validation: |          | 0/? [00:00<?, ?it/s]"
      ]
     },
     "metadata": {},
     "output_type": "display_data"
    },
    {
     "data": {
      "application/vnd.jupyter.widget-view+json": {
       "model_id": "3d9a4e8d2f8449eda74848a4e448837f",
       "version_major": 2,
       "version_minor": 0
      },
      "text/plain": [
       "Validation: |          | 0/? [00:00<?, ?it/s]"
      ]
     },
     "metadata": {},
     "output_type": "display_data"
    },
    {
     "data": {
      "application/vnd.jupyter.widget-view+json": {
       "model_id": "e4478ef65b284cf684c36fd6e6b90837",
       "version_major": 2,
       "version_minor": 0
      },
      "text/plain": [
       "Validation: |          | 0/? [00:00<?, ?it/s]"
      ]
     },
     "metadata": {},
     "output_type": "display_data"
    },
    {
     "data": {
      "application/vnd.jupyter.widget-view+json": {
       "model_id": "9a779732486f43348eee18735fe74338",
       "version_major": 2,
       "version_minor": 0
      },
      "text/plain": [
       "Validation: |          | 0/? [00:00<?, ?it/s]"
      ]
     },
     "metadata": {},
     "output_type": "display_data"
    },
    {
     "data": {
      "application/vnd.jupyter.widget-view+json": {
       "model_id": "b297e8ad81fd4928a7e7c4490c044d0c",
       "version_major": 2,
       "version_minor": 0
      },
      "text/plain": [
       "Validation: |          | 0/? [00:00<?, ?it/s]"
      ]
     },
     "metadata": {},
     "output_type": "display_data"
    },
    {
     "data": {
      "application/vnd.jupyter.widget-view+json": {
       "model_id": "90c83ffc2aed4f3da31b10ed79abcc1a",
       "version_major": 2,
       "version_minor": 0
      },
      "text/plain": [
       "Validation: |          | 0/? [00:00<?, ?it/s]"
      ]
     },
     "metadata": {},
     "output_type": "display_data"
    },
    {
     "data": {
      "application/vnd.jupyter.widget-view+json": {
       "model_id": "0e29b9200444405899c601593f208433",
       "version_major": 2,
       "version_minor": 0
      },
      "text/plain": [
       "Validation: |          | 0/? [00:00<?, ?it/s]"
      ]
     },
     "metadata": {},
     "output_type": "display_data"
    },
    {
     "data": {
      "application/vnd.jupyter.widget-view+json": {
       "model_id": "c116ec47c38c4b50b66b45bd88a14ec7",
       "version_major": 2,
       "version_minor": 0
      },
      "text/plain": [
       "Validation: |          | 0/? [00:00<?, ?it/s]"
      ]
     },
     "metadata": {},
     "output_type": "display_data"
    },
    {
     "data": {
      "application/vnd.jupyter.widget-view+json": {
       "model_id": "be7d2dae96e2435caabd75b6f9946a36",
       "version_major": 2,
       "version_minor": 0
      },
      "text/plain": [
       "Validation: |          | 0/? [00:00<?, ?it/s]"
      ]
     },
     "metadata": {},
     "output_type": "display_data"
    },
    {
     "data": {
      "application/vnd.jupyter.widget-view+json": {
       "model_id": "928ba27f6f5e49789d597f96486dcdc2",
       "version_major": 2,
       "version_minor": 0
      },
      "text/plain": [
       "Validation: |          | 0/? [00:00<?, ?it/s]"
      ]
     },
     "metadata": {},
     "output_type": "display_data"
    },
    {
     "data": {
      "application/vnd.jupyter.widget-view+json": {
       "model_id": "fa2cee4f8608463ea1ce0186c054e7c2",
       "version_major": 2,
       "version_minor": 0
      },
      "text/plain": [
       "Validation: |          | 0/? [00:00<?, ?it/s]"
      ]
     },
     "metadata": {},
     "output_type": "display_data"
    },
    {
     "data": {
      "application/vnd.jupyter.widget-view+json": {
       "model_id": "76876bb0becb431e957bc2a7be773c13",
       "version_major": 2,
       "version_minor": 0
      },
      "text/plain": [
       "Validation: |          | 0/? [00:00<?, ?it/s]"
      ]
     },
     "metadata": {},
     "output_type": "display_data"
    },
    {
     "data": {
      "application/vnd.jupyter.widget-view+json": {
       "model_id": "a6a399adc8474a25b5fda0481911dbf2",
       "version_major": 2,
       "version_minor": 0
      },
      "text/plain": [
       "Validation: |          | 0/? [00:00<?, ?it/s]"
      ]
     },
     "metadata": {},
     "output_type": "display_data"
    },
    {
     "data": {
      "application/vnd.jupyter.widget-view+json": {
       "model_id": "dd2976550a0f46249d5736d48826f0b7",
       "version_major": 2,
       "version_minor": 0
      },
      "text/plain": [
       "Validation: |          | 0/? [00:00<?, ?it/s]"
      ]
     },
     "metadata": {},
     "output_type": "display_data"
    },
    {
     "data": {
      "application/vnd.jupyter.widget-view+json": {
       "model_id": "50475ae04f754708a33d5890e226533d",
       "version_major": 2,
       "version_minor": 0
      },
      "text/plain": [
       "Validation: |          | 0/? [00:00<?, ?it/s]"
      ]
     },
     "metadata": {},
     "output_type": "display_data"
    },
    {
     "data": {
      "application/vnd.jupyter.widget-view+json": {
       "model_id": "61fce02c2bfd40c08193674a2513adc4",
       "version_major": 2,
       "version_minor": 0
      },
      "text/plain": [
       "Validation: |          | 0/? [00:00<?, ?it/s]"
      ]
     },
     "metadata": {},
     "output_type": "display_data"
    },
    {
     "data": {
      "application/vnd.jupyter.widget-view+json": {
       "model_id": "5dcf3d1798364625863a0bde83b1d796",
       "version_major": 2,
       "version_minor": 0
      },
      "text/plain": [
       "Validation: |          | 0/? [00:00<?, ?it/s]"
      ]
     },
     "metadata": {},
     "output_type": "display_data"
    },
    {
     "data": {
      "application/vnd.jupyter.widget-view+json": {
       "model_id": "a8166d0009384fe3adb25f9bd4d4f802",
       "version_major": 2,
       "version_minor": 0
      },
      "text/plain": [
       "Validation: |          | 0/? [00:00<?, ?it/s]"
      ]
     },
     "metadata": {},
     "output_type": "display_data"
    },
    {
     "data": {
      "application/vnd.jupyter.widget-view+json": {
       "model_id": "10798e7e4a694d278ee01a52e7f442b0",
       "version_major": 2,
       "version_minor": 0
      },
      "text/plain": [
       "Validation: |          | 0/? [00:00<?, ?it/s]"
      ]
     },
     "metadata": {},
     "output_type": "display_data"
    },
    {
     "data": {
      "application/vnd.jupyter.widget-view+json": {
       "model_id": "2be2b31e01b34d549b919d77d95e93f2",
       "version_major": 2,
       "version_minor": 0
      },
      "text/plain": [
       "Validation: |          | 0/? [00:00<?, ?it/s]"
      ]
     },
     "metadata": {},
     "output_type": "display_data"
    },
    {
     "data": {
      "application/vnd.jupyter.widget-view+json": {
       "model_id": "38acc951f6d54eac87ddfd444f519ed4",
       "version_major": 2,
       "version_minor": 0
      },
      "text/plain": [
       "Validation: |          | 0/? [00:00<?, ?it/s]"
      ]
     },
     "metadata": {},
     "output_type": "display_data"
    },
    {
     "data": {
      "application/vnd.jupyter.widget-view+json": {
       "model_id": "f432dafb2fb54d0192bd8bdd2255752c",
       "version_major": 2,
       "version_minor": 0
      },
      "text/plain": [
       "Validation: |          | 0/? [00:00<?, ?it/s]"
      ]
     },
     "metadata": {},
     "output_type": "display_data"
    },
    {
     "data": {
      "application/vnd.jupyter.widget-view+json": {
       "model_id": "a63354f829fd45148083449bf1724e52",
       "version_major": 2,
       "version_minor": 0
      },
      "text/plain": [
       "Validation: |          | 0/? [00:00<?, ?it/s]"
      ]
     },
     "metadata": {},
     "output_type": "display_data"
    },
    {
     "data": {
      "application/vnd.jupyter.widget-view+json": {
       "model_id": "5c0a32ab013f496eb2aa068f81a3f0e5",
       "version_major": 2,
       "version_minor": 0
      },
      "text/plain": [
       "Validation: |          | 0/? [00:00<?, ?it/s]"
      ]
     },
     "metadata": {},
     "output_type": "display_data"
    },
    {
     "data": {
      "application/vnd.jupyter.widget-view+json": {
       "model_id": "a8022819b162432ea1c70e52b3229f99",
       "version_major": 2,
       "version_minor": 0
      },
      "text/plain": [
       "Validation: |          | 0/? [00:00<?, ?it/s]"
      ]
     },
     "metadata": {},
     "output_type": "display_data"
    },
    {
     "data": {
      "application/vnd.jupyter.widget-view+json": {
       "model_id": "a74909f1b778436281b514a26c9d5e50",
       "version_major": 2,
       "version_minor": 0
      },
      "text/plain": [
       "Validation: |          | 0/? [00:00<?, ?it/s]"
      ]
     },
     "metadata": {},
     "output_type": "display_data"
    },
    {
     "data": {
      "application/vnd.jupyter.widget-view+json": {
       "model_id": "0ba5dd5a9cde4c5c9cadc51e36570697",
       "version_major": 2,
       "version_minor": 0
      },
      "text/plain": [
       "Validation: |          | 0/? [00:00<?, ?it/s]"
      ]
     },
     "metadata": {},
     "output_type": "display_data"
    },
    {
     "data": {
      "application/vnd.jupyter.widget-view+json": {
       "model_id": "62086eca96264c1abf7ba9415b35a6d3",
       "version_major": 2,
       "version_minor": 0
      },
      "text/plain": [
       "Validation: |          | 0/? [00:00<?, ?it/s]"
      ]
     },
     "metadata": {},
     "output_type": "display_data"
    },
    {
     "data": {
      "application/vnd.jupyter.widget-view+json": {
       "model_id": "4052b301fd4a4532ac866c5430c74b78",
       "version_major": 2,
       "version_minor": 0
      },
      "text/plain": [
       "Validation: |          | 0/? [00:00<?, ?it/s]"
      ]
     },
     "metadata": {},
     "output_type": "display_data"
    },
    {
     "data": {
      "application/vnd.jupyter.widget-view+json": {
       "model_id": "dcc054a87dbd4231bee46825f72af7b1",
       "version_major": 2,
       "version_minor": 0
      },
      "text/plain": [
       "Validation: |          | 0/? [00:00<?, ?it/s]"
      ]
     },
     "metadata": {},
     "output_type": "display_data"
    },
    {
     "data": {
      "application/vnd.jupyter.widget-view+json": {
       "model_id": "8feb4e58f68742b4819ef4a0e50e190e",
       "version_major": 2,
       "version_minor": 0
      },
      "text/plain": [
       "Validation: |          | 0/? [00:00<?, ?it/s]"
      ]
     },
     "metadata": {},
     "output_type": "display_data"
    },
    {
     "data": {
      "application/vnd.jupyter.widget-view+json": {
       "model_id": "572035df9511462089a41851573fac71",
       "version_major": 2,
       "version_minor": 0
      },
      "text/plain": [
       "Validation: |          | 0/? [00:00<?, ?it/s]"
      ]
     },
     "metadata": {},
     "output_type": "display_data"
    },
    {
     "data": {
      "application/vnd.jupyter.widget-view+json": {
       "model_id": "b190eb3187214749af3d1b4f6291b7a8",
       "version_major": 2,
       "version_minor": 0
      },
      "text/plain": [
       "Validation: |          | 0/? [00:00<?, ?it/s]"
      ]
     },
     "metadata": {},
     "output_type": "display_data"
    },
    {
     "data": {
      "application/vnd.jupyter.widget-view+json": {
       "model_id": "d644605c338c45b09a19cbc8eec71475",
       "version_major": 2,
       "version_minor": 0
      },
      "text/plain": [
       "Validation: |          | 0/? [00:00<?, ?it/s]"
      ]
     },
     "metadata": {},
     "output_type": "display_data"
    },
    {
     "data": {
      "application/vnd.jupyter.widget-view+json": {
       "model_id": "7bb93ceec57944d8b1222f15c0e77c4a",
       "version_major": 2,
       "version_minor": 0
      },
      "text/plain": [
       "Validation: |          | 0/? [00:00<?, ?it/s]"
      ]
     },
     "metadata": {},
     "output_type": "display_data"
    },
    {
     "data": {
      "application/vnd.jupyter.widget-view+json": {
       "model_id": "3b7cd4ad0f7c4b0a8c2fc02bd3277176",
       "version_major": 2,
       "version_minor": 0
      },
      "text/plain": [
       "Validation: |          | 0/? [00:00<?, ?it/s]"
      ]
     },
     "metadata": {},
     "output_type": "display_data"
    },
    {
     "data": {
      "application/vnd.jupyter.widget-view+json": {
       "model_id": "6a2d4a26880e49258821b5c007981e1e",
       "version_major": 2,
       "version_minor": 0
      },
      "text/plain": [
       "Validation: |          | 0/? [00:00<?, ?it/s]"
      ]
     },
     "metadata": {},
     "output_type": "display_data"
    },
    {
     "data": {
      "application/vnd.jupyter.widget-view+json": {
       "model_id": "09af0083baae4df8b510e47d3f2cf5d7",
       "version_major": 2,
       "version_minor": 0
      },
      "text/plain": [
       "Validation: |          | 0/? [00:00<?, ?it/s]"
      ]
     },
     "metadata": {},
     "output_type": "display_data"
    },
    {
     "data": {
      "application/vnd.jupyter.widget-view+json": {
       "model_id": "cb02b61511d24bbbbd2e94457a82bd2b",
       "version_major": 2,
       "version_minor": 0
      },
      "text/plain": [
       "Validation: |          | 0/? [00:00<?, ?it/s]"
      ]
     },
     "metadata": {},
     "output_type": "display_data"
    },
    {
     "data": {
      "application/vnd.jupyter.widget-view+json": {
       "model_id": "868ff10488e84379840618d161e7485f",
       "version_major": 2,
       "version_minor": 0
      },
      "text/plain": [
       "Validation: |          | 0/? [00:00<?, ?it/s]"
      ]
     },
     "metadata": {},
     "output_type": "display_data"
    },
    {
     "data": {
      "application/vnd.jupyter.widget-view+json": {
       "model_id": "717be680e0e14746b77509e3daa84536",
       "version_major": 2,
       "version_minor": 0
      },
      "text/plain": [
       "Validation: |          | 0/? [00:00<?, ?it/s]"
      ]
     },
     "metadata": {},
     "output_type": "display_data"
    },
    {
     "data": {
      "application/vnd.jupyter.widget-view+json": {
       "model_id": "93119a5ce9844dffaff5f6895b01a2bd",
       "version_major": 2,
       "version_minor": 0
      },
      "text/plain": [
       "Validation: |          | 0/? [00:00<?, ?it/s]"
      ]
     },
     "metadata": {},
     "output_type": "display_data"
    },
    {
     "data": {
      "application/vnd.jupyter.widget-view+json": {
       "model_id": "d26ac7d676ea414f97b7903bb63d953b",
       "version_major": 2,
       "version_minor": 0
      },
      "text/plain": [
       "Validation: |          | 0/? [00:00<?, ?it/s]"
      ]
     },
     "metadata": {},
     "output_type": "display_data"
    },
    {
     "data": {
      "application/vnd.jupyter.widget-view+json": {
       "model_id": "1b13907afb4544ebbc5135801a49c4d7",
       "version_major": 2,
       "version_minor": 0
      },
      "text/plain": [
       "Validation: |          | 0/? [00:00<?, ?it/s]"
      ]
     },
     "metadata": {},
     "output_type": "display_data"
    },
    {
     "data": {
      "application/vnd.jupyter.widget-view+json": {
       "model_id": "dc6c12d17b3643e591432e6509ef4e8e",
       "version_major": 2,
       "version_minor": 0
      },
      "text/plain": [
       "Validation: |          | 0/? [00:00<?, ?it/s]"
      ]
     },
     "metadata": {},
     "output_type": "display_data"
    },
    {
     "data": {
      "application/vnd.jupyter.widget-view+json": {
       "model_id": "e9bb2c3a5aa449a7a9ce543c0a696f02",
       "version_major": 2,
       "version_minor": 0
      },
      "text/plain": [
       "Validation: |          | 0/? [00:00<?, ?it/s]"
      ]
     },
     "metadata": {},
     "output_type": "display_data"
    },
    {
     "data": {
      "application/vnd.jupyter.widget-view+json": {
       "model_id": "fdbf6d9da15649fd9b0396fec226054e",
       "version_major": 2,
       "version_minor": 0
      },
      "text/plain": [
       "Validation: |          | 0/? [00:00<?, ?it/s]"
      ]
     },
     "metadata": {},
     "output_type": "display_data"
    },
    {
     "data": {
      "application/vnd.jupyter.widget-view+json": {
       "model_id": "4a9ab3776f78407783fe69db95f356f7",
       "version_major": 2,
       "version_minor": 0
      },
      "text/plain": [
       "Validation: |          | 0/? [00:00<?, ?it/s]"
      ]
     },
     "metadata": {},
     "output_type": "display_data"
    },
    {
     "data": {
      "application/vnd.jupyter.widget-view+json": {
       "model_id": "24e1b82925b348dd8a17c5f840116c15",
       "version_major": 2,
       "version_minor": 0
      },
      "text/plain": [
       "Validation: |          | 0/? [00:00<?, ?it/s]"
      ]
     },
     "metadata": {},
     "output_type": "display_data"
    },
    {
     "data": {
      "application/vnd.jupyter.widget-view+json": {
       "model_id": "893dce5a2e0f4d84a9547cdb8ad4d67d",
       "version_major": 2,
       "version_minor": 0
      },
      "text/plain": [
       "Validation: |          | 0/? [00:00<?, ?it/s]"
      ]
     },
     "metadata": {},
     "output_type": "display_data"
    },
    {
     "data": {
      "application/vnd.jupyter.widget-view+json": {
       "model_id": "959a2ca6e89f48e0960c9f4da66bdba6",
       "version_major": 2,
       "version_minor": 0
      },
      "text/plain": [
       "Validation: |          | 0/? [00:00<?, ?it/s]"
      ]
     },
     "metadata": {},
     "output_type": "display_data"
    },
    {
     "data": {
      "application/vnd.jupyter.widget-view+json": {
       "model_id": "81dfcb361f804870b5057ef6c2e8ce77",
       "version_major": 2,
       "version_minor": 0
      },
      "text/plain": [
       "Validation: |          | 0/? [00:00<?, ?it/s]"
      ]
     },
     "metadata": {},
     "output_type": "display_data"
    },
    {
     "data": {
      "application/vnd.jupyter.widget-view+json": {
       "model_id": "7e1ffb9b389742dd95138b8ef453b695",
       "version_major": 2,
       "version_minor": 0
      },
      "text/plain": [
       "Validation: |          | 0/? [00:00<?, ?it/s]"
      ]
     },
     "metadata": {},
     "output_type": "display_data"
    },
    {
     "data": {
      "application/vnd.jupyter.widget-view+json": {
       "model_id": "6215515f753c4237b831334a49ccc8a7",
       "version_major": 2,
       "version_minor": 0
      },
      "text/plain": [
       "Validation: |          | 0/? [00:00<?, ?it/s]"
      ]
     },
     "metadata": {},
     "output_type": "display_data"
    },
    {
     "data": {
      "application/vnd.jupyter.widget-view+json": {
       "model_id": "bb9d94451df94dd49279ff14cc4e2bf4",
       "version_major": 2,
       "version_minor": 0
      },
      "text/plain": [
       "Validation: |          | 0/? [00:00<?, ?it/s]"
      ]
     },
     "metadata": {},
     "output_type": "display_data"
    },
    {
     "data": {
      "application/vnd.jupyter.widget-view+json": {
       "model_id": "efc1325fb1004e4bac8b189c79787d22",
       "version_major": 2,
       "version_minor": 0
      },
      "text/plain": [
       "Validation: |          | 0/? [00:00<?, ?it/s]"
      ]
     },
     "metadata": {},
     "output_type": "display_data"
    },
    {
     "data": {
      "application/vnd.jupyter.widget-view+json": {
       "model_id": "cda33d58626b434396215a58a8fa7384",
       "version_major": 2,
       "version_minor": 0
      },
      "text/plain": [
       "Validation: |          | 0/? [00:00<?, ?it/s]"
      ]
     },
     "metadata": {},
     "output_type": "display_data"
    },
    {
     "data": {
      "application/vnd.jupyter.widget-view+json": {
       "model_id": "e76f1a46286b40d4aef4e1c547576458",
       "version_major": 2,
       "version_minor": 0
      },
      "text/plain": [
       "Validation: |          | 0/? [00:00<?, ?it/s]"
      ]
     },
     "metadata": {},
     "output_type": "display_data"
    },
    {
     "data": {
      "application/vnd.jupyter.widget-view+json": {
       "model_id": "d85dcef4b4804b9db30c9206cfea337b",
       "version_major": 2,
       "version_minor": 0
      },
      "text/plain": [
       "Validation: |          | 0/? [00:00<?, ?it/s]"
      ]
     },
     "metadata": {},
     "output_type": "display_data"
    },
    {
     "data": {
      "application/vnd.jupyter.widget-view+json": {
       "model_id": "c54fb79c1aae4a5e8259a5402ff121ee",
       "version_major": 2,
       "version_minor": 0
      },
      "text/plain": [
       "Validation: |          | 0/? [00:00<?, ?it/s]"
      ]
     },
     "metadata": {},
     "output_type": "display_data"
    },
    {
     "data": {
      "application/vnd.jupyter.widget-view+json": {
       "model_id": "3d455146adf44de79f1ba78f0720abd4",
       "version_major": 2,
       "version_minor": 0
      },
      "text/plain": [
       "Validation: |          | 0/? [00:00<?, ?it/s]"
      ]
     },
     "metadata": {},
     "output_type": "display_data"
    },
    {
     "data": {
      "application/vnd.jupyter.widget-view+json": {
       "model_id": "2d7f56b3234844569b7e09303479e5a6",
       "version_major": 2,
       "version_minor": 0
      },
      "text/plain": [
       "Validation: |          | 0/? [00:00<?, ?it/s]"
      ]
     },
     "metadata": {},
     "output_type": "display_data"
    },
    {
     "data": {
      "application/vnd.jupyter.widget-view+json": {
       "model_id": "f1cb7edee69b4e4dafe6bd1937bbd6e0",
       "version_major": 2,
       "version_minor": 0
      },
      "text/plain": [
       "Validation: |          | 0/? [00:00<?, ?it/s]"
      ]
     },
     "metadata": {},
     "output_type": "display_data"
    },
    {
     "data": {
      "application/vnd.jupyter.widget-view+json": {
       "model_id": "7d90284c8afd42748ebe085b9331e1bc",
       "version_major": 2,
       "version_minor": 0
      },
      "text/plain": [
       "Validation: |          | 0/? [00:00<?, ?it/s]"
      ]
     },
     "metadata": {},
     "output_type": "display_data"
    },
    {
     "data": {
      "application/vnd.jupyter.widget-view+json": {
       "model_id": "450fafd7250c4d919e0d5742c7f2a824",
       "version_major": 2,
       "version_minor": 0
      },
      "text/plain": [
       "Validation: |          | 0/? [00:00<?, ?it/s]"
      ]
     },
     "metadata": {},
     "output_type": "display_data"
    },
    {
     "data": {
      "application/vnd.jupyter.widget-view+json": {
       "model_id": "f03533c365da48c38a1bd19faf05a3f2",
       "version_major": 2,
       "version_minor": 0
      },
      "text/plain": [
       "Validation: |          | 0/? [00:00<?, ?it/s]"
      ]
     },
     "metadata": {},
     "output_type": "display_data"
    },
    {
     "data": {
      "application/vnd.jupyter.widget-view+json": {
       "model_id": "b4ca3620b5fb41ac9af19a2869dd51e2",
       "version_major": 2,
       "version_minor": 0
      },
      "text/plain": [
       "Validation: |          | 0/? [00:00<?, ?it/s]"
      ]
     },
     "metadata": {},
     "output_type": "display_data"
    },
    {
     "data": {
      "application/vnd.jupyter.widget-view+json": {
       "model_id": "60b3e2e706704c7099ad7802612125eb",
       "version_major": 2,
       "version_minor": 0
      },
      "text/plain": [
       "Validation: |          | 0/? [00:00<?, ?it/s]"
      ]
     },
     "metadata": {},
     "output_type": "display_data"
    },
    {
     "data": {
      "application/vnd.jupyter.widget-view+json": {
       "model_id": "951f05e388b342af9b735f2c3aaa1924",
       "version_major": 2,
       "version_minor": 0
      },
      "text/plain": [
       "Validation: |          | 0/? [00:00<?, ?it/s]"
      ]
     },
     "metadata": {},
     "output_type": "display_data"
    },
    {
     "data": {
      "application/vnd.jupyter.widget-view+json": {
       "model_id": "4e66e592255d44458885093b8d1fd0d4",
       "version_major": 2,
       "version_minor": 0
      },
      "text/plain": [
       "Validation: |          | 0/? [00:00<?, ?it/s]"
      ]
     },
     "metadata": {},
     "output_type": "display_data"
    },
    {
     "data": {
      "application/vnd.jupyter.widget-view+json": {
       "model_id": "6db1d06f41014cb28e5669ae11802013",
       "version_major": 2,
       "version_minor": 0
      },
      "text/plain": [
       "Validation: |          | 0/? [00:00<?, ?it/s]"
      ]
     },
     "metadata": {},
     "output_type": "display_data"
    },
    {
     "data": {
      "application/vnd.jupyter.widget-view+json": {
       "model_id": "7ff038d395fa4d78ad034461b3de8a87",
       "version_major": 2,
       "version_minor": 0
      },
      "text/plain": [
       "Validation: |          | 0/? [00:00<?, ?it/s]"
      ]
     },
     "metadata": {},
     "output_type": "display_data"
    },
    {
     "data": {
      "application/vnd.jupyter.widget-view+json": {
       "model_id": "30bef4292ad44cdeb4a13ee204c6d21c",
       "version_major": 2,
       "version_minor": 0
      },
      "text/plain": [
       "Validation: |          | 0/? [00:00<?, ?it/s]"
      ]
     },
     "metadata": {},
     "output_type": "display_data"
    },
    {
     "data": {
      "application/vnd.jupyter.widget-view+json": {
       "model_id": "94458502b0c94a628b6759eac6d7ba06",
       "version_major": 2,
       "version_minor": 0
      },
      "text/plain": [
       "Validation: |          | 0/? [00:00<?, ?it/s]"
      ]
     },
     "metadata": {},
     "output_type": "display_data"
    },
    {
     "data": {
      "application/vnd.jupyter.widget-view+json": {
       "model_id": "db477971224a4d2e8d386d30a7d335ab",
       "version_major": 2,
       "version_minor": 0
      },
      "text/plain": [
       "Validation: |          | 0/? [00:00<?, ?it/s]"
      ]
     },
     "metadata": {},
     "output_type": "display_data"
    },
    {
     "data": {
      "application/vnd.jupyter.widget-view+json": {
       "model_id": "db2276b5585444d3a3eb7d376d358fb0",
       "version_major": 2,
       "version_minor": 0
      },
      "text/plain": [
       "Validation: |          | 0/? [00:00<?, ?it/s]"
      ]
     },
     "metadata": {},
     "output_type": "display_data"
    },
    {
     "data": {
      "application/vnd.jupyter.widget-view+json": {
       "model_id": "faa90601b8fd4960b6c2800ef0c91ea7",
       "version_major": 2,
       "version_minor": 0
      },
      "text/plain": [
       "Validation: |          | 0/? [00:00<?, ?it/s]"
      ]
     },
     "metadata": {},
     "output_type": "display_data"
    },
    {
     "data": {
      "application/vnd.jupyter.widget-view+json": {
       "model_id": "dce70f6cac8444509f4422a2a3cc9e97",
       "version_major": 2,
       "version_minor": 0
      },
      "text/plain": [
       "Validation: |          | 0/? [00:00<?, ?it/s]"
      ]
     },
     "metadata": {},
     "output_type": "display_data"
    },
    {
     "data": {
      "application/vnd.jupyter.widget-view+json": {
       "model_id": "81dc8e128e2641f99937332f0e7d84a3",
       "version_major": 2,
       "version_minor": 0
      },
      "text/plain": [
       "Validation: |          | 0/? [00:00<?, ?it/s]"
      ]
     },
     "metadata": {},
     "output_type": "display_data"
    },
    {
     "data": {
      "application/vnd.jupyter.widget-view+json": {
       "model_id": "abdec2167875423fa83e674f2fabae93",
       "version_major": 2,
       "version_minor": 0
      },
      "text/plain": [
       "Validation: |          | 0/? [00:00<?, ?it/s]"
      ]
     },
     "metadata": {},
     "output_type": "display_data"
    },
    {
     "data": {
      "application/vnd.jupyter.widget-view+json": {
       "model_id": "349d2c1948b247eeab9e96b073add4a4",
       "version_major": 2,
       "version_minor": 0
      },
      "text/plain": [
       "Validation: |          | 0/? [00:00<?, ?it/s]"
      ]
     },
     "metadata": {},
     "output_type": "display_data"
    },
    {
     "data": {
      "application/vnd.jupyter.widget-view+json": {
       "model_id": "86a40e9bcdd64153af6f1f4e29a139a7",
       "version_major": 2,
       "version_minor": 0
      },
      "text/plain": [
       "Validation: |          | 0/? [00:00<?, ?it/s]"
      ]
     },
     "metadata": {},
     "output_type": "display_data"
    },
    {
     "data": {
      "application/vnd.jupyter.widget-view+json": {
       "model_id": "22a4f10860d043099a9e6810e3030681",
       "version_major": 2,
       "version_minor": 0
      },
      "text/plain": [
       "Validation: |          | 0/? [00:00<?, ?it/s]"
      ]
     },
     "metadata": {},
     "output_type": "display_data"
    },
    {
     "data": {
      "application/vnd.jupyter.widget-view+json": {
       "model_id": "6340bbbc3c5d49e885670fc005f6dd28",
       "version_major": 2,
       "version_minor": 0
      },
      "text/plain": [
       "Validation: |          | 0/? [00:00<?, ?it/s]"
      ]
     },
     "metadata": {},
     "output_type": "display_data"
    },
    {
     "data": {
      "application/vnd.jupyter.widget-view+json": {
       "model_id": "472903b2e15b4eb68516ba35b2759dbf",
       "version_major": 2,
       "version_minor": 0
      },
      "text/plain": [
       "Validation: |          | 0/? [00:00<?, ?it/s]"
      ]
     },
     "metadata": {},
     "output_type": "display_data"
    },
    {
     "data": {
      "application/vnd.jupyter.widget-view+json": {
       "model_id": "76e29f0e2e1c4490a619fa7fea220dc6",
       "version_major": 2,
       "version_minor": 0
      },
      "text/plain": [
       "Validation: |          | 0/? [00:00<?, ?it/s]"
      ]
     },
     "metadata": {},
     "output_type": "display_data"
    },
    {
     "data": {
      "application/vnd.jupyter.widget-view+json": {
       "model_id": "31f25a9535364bcb98aef550d768b10c",
       "version_major": 2,
       "version_minor": 0
      },
      "text/plain": [
       "Validation: |          | 0/? [00:00<?, ?it/s]"
      ]
     },
     "metadata": {},
     "output_type": "display_data"
    },
    {
     "data": {
      "application/vnd.jupyter.widget-view+json": {
       "model_id": "a19da3c6a302475dae76faefe51e067e",
       "version_major": 2,
       "version_minor": 0
      },
      "text/plain": [
       "Validation: |          | 0/? [00:00<?, ?it/s]"
      ]
     },
     "metadata": {},
     "output_type": "display_data"
    },
    {
     "data": {
      "application/vnd.jupyter.widget-view+json": {
       "model_id": "cbdfecb0a3cb4fd3a268703c46fa2ced",
       "version_major": 2,
       "version_minor": 0
      },
      "text/plain": [
       "Validation: |          | 0/? [00:00<?, ?it/s]"
      ]
     },
     "metadata": {},
     "output_type": "display_data"
    },
    {
     "data": {
      "application/vnd.jupyter.widget-view+json": {
       "model_id": "41c9379b843e46d5a838f94432b6bdea",
       "version_major": 2,
       "version_minor": 0
      },
      "text/plain": [
       "Validation: |          | 0/? [00:00<?, ?it/s]"
      ]
     },
     "metadata": {},
     "output_type": "display_data"
    },
    {
     "data": {
      "application/vnd.jupyter.widget-view+json": {
       "model_id": "46997c30cfe14177b32a27b2e2760090",
       "version_major": 2,
       "version_minor": 0
      },
      "text/plain": [
       "Validation: |          | 0/? [00:00<?, ?it/s]"
      ]
     },
     "metadata": {},
     "output_type": "display_data"
    },
    {
     "data": {
      "application/vnd.jupyter.widget-view+json": {
       "model_id": "98b9e990a37742cbbb691081d8bd538e",
       "version_major": 2,
       "version_minor": 0
      },
      "text/plain": [
       "Validation: |          | 0/? [00:00<?, ?it/s]"
      ]
     },
     "metadata": {},
     "output_type": "display_data"
    },
    {
     "data": {
      "application/vnd.jupyter.widget-view+json": {
       "model_id": "619ad54ac0c44011ae9c2c00beafa04b",
       "version_major": 2,
       "version_minor": 0
      },
      "text/plain": [
       "Validation: |          | 0/? [00:00<?, ?it/s]"
      ]
     },
     "metadata": {},
     "output_type": "display_data"
    },
    {
     "data": {
      "application/vnd.jupyter.widget-view+json": {
       "model_id": "341e4a1c6dd64674b03efdd755120774",
       "version_major": 2,
       "version_minor": 0
      },
      "text/plain": [
       "Validation: |          | 0/? [00:00<?, ?it/s]"
      ]
     },
     "metadata": {},
     "output_type": "display_data"
    },
    {
     "data": {
      "application/vnd.jupyter.widget-view+json": {
       "model_id": "617388dc86b940578a2ca4679bf7d73a",
       "version_major": 2,
       "version_minor": 0
      },
      "text/plain": [
       "Validation: |          | 0/? [00:00<?, ?it/s]"
      ]
     },
     "metadata": {},
     "output_type": "display_data"
    },
    {
     "data": {
      "application/vnd.jupyter.widget-view+json": {
       "model_id": "be63066573ee48cb949a6b3e543534a9",
       "version_major": 2,
       "version_minor": 0
      },
      "text/plain": [
       "Validation: |          | 0/? [00:00<?, ?it/s]"
      ]
     },
     "metadata": {},
     "output_type": "display_data"
    },
    {
     "data": {
      "application/vnd.jupyter.widget-view+json": {
       "model_id": "bc3a16c6b1b54c2c896212d5131da3fa",
       "version_major": 2,
       "version_minor": 0
      },
      "text/plain": [
       "Validation: |          | 0/? [00:00<?, ?it/s]"
      ]
     },
     "metadata": {},
     "output_type": "display_data"
    },
    {
     "data": {
      "application/vnd.jupyter.widget-view+json": {
       "model_id": "ec464b812a4a4a6f9b9835f9ec6b3b43",
       "version_major": 2,
       "version_minor": 0
      },
      "text/plain": [
       "Validation: |          | 0/? [00:00<?, ?it/s]"
      ]
     },
     "metadata": {},
     "output_type": "display_data"
    },
    {
     "data": {
      "application/vnd.jupyter.widget-view+json": {
       "model_id": "ac68ab6a1e074d838c328284f7717f52",
       "version_major": 2,
       "version_minor": 0
      },
      "text/plain": [
       "Validation: |          | 0/? [00:00<?, ?it/s]"
      ]
     },
     "metadata": {},
     "output_type": "display_data"
    },
    {
     "data": {
      "application/vnd.jupyter.widget-view+json": {
       "model_id": "b8d4011c3e6d43bc901dd7057f30f5c0",
       "version_major": 2,
       "version_minor": 0
      },
      "text/plain": [
       "Validation: |          | 0/? [00:00<?, ?it/s]"
      ]
     },
     "metadata": {},
     "output_type": "display_data"
    },
    {
     "data": {
      "application/vnd.jupyter.widget-view+json": {
       "model_id": "4f80f7bd52f143a1870f515bb117cdc5",
       "version_major": 2,
       "version_minor": 0
      },
      "text/plain": [
       "Validation: |          | 0/? [00:00<?, ?it/s]"
      ]
     },
     "metadata": {},
     "output_type": "display_data"
    },
    {
     "data": {
      "application/vnd.jupyter.widget-view+json": {
       "model_id": "31b23a7cd0314781b596020f4344d8ee",
       "version_major": 2,
       "version_minor": 0
      },
      "text/plain": [
       "Validation: |          | 0/? [00:00<?, ?it/s]"
      ]
     },
     "metadata": {},
     "output_type": "display_data"
    },
    {
     "data": {
      "application/vnd.jupyter.widget-view+json": {
       "model_id": "3adc09fed09343a390d1bd7fc4a2cd64",
       "version_major": 2,
       "version_minor": 0
      },
      "text/plain": [
       "Validation: |          | 0/? [00:00<?, ?it/s]"
      ]
     },
     "metadata": {},
     "output_type": "display_data"
    },
    {
     "data": {
      "application/vnd.jupyter.widget-view+json": {
       "model_id": "fd79a27b7eb14011abcec778663caf07",
       "version_major": 2,
       "version_minor": 0
      },
      "text/plain": [
       "Validation: |          | 0/? [00:00<?, ?it/s]"
      ]
     },
     "metadata": {},
     "output_type": "display_data"
    },
    {
     "data": {
      "application/vnd.jupyter.widget-view+json": {
       "model_id": "de62fb6479524fb0aade10232c188b13",
       "version_major": 2,
       "version_minor": 0
      },
      "text/plain": [
       "Validation: |          | 0/? [00:00<?, ?it/s]"
      ]
     },
     "metadata": {},
     "output_type": "display_data"
    },
    {
     "data": {
      "application/vnd.jupyter.widget-view+json": {
       "model_id": "99f94dca629b432096e8a6eeaa1fffa5",
       "version_major": 2,
       "version_minor": 0
      },
      "text/plain": [
       "Validation: |          | 0/? [00:00<?, ?it/s]"
      ]
     },
     "metadata": {},
     "output_type": "display_data"
    },
    {
     "data": {
      "application/vnd.jupyter.widget-view+json": {
       "model_id": "2eb2cf6142874855b1b93545f1c4ea70",
       "version_major": 2,
       "version_minor": 0
      },
      "text/plain": [
       "Validation: |          | 0/? [00:00<?, ?it/s]"
      ]
     },
     "metadata": {},
     "output_type": "display_data"
    },
    {
     "data": {
      "application/vnd.jupyter.widget-view+json": {
       "model_id": "f188d3bd06ee4926873017c5338d3197",
       "version_major": 2,
       "version_minor": 0
      },
      "text/plain": [
       "Validation: |          | 0/? [00:00<?, ?it/s]"
      ]
     },
     "metadata": {},
     "output_type": "display_data"
    },
    {
     "data": {
      "application/vnd.jupyter.widget-view+json": {
       "model_id": "b5669d308d17434f8900f8c09006e0cb",
       "version_major": 2,
       "version_minor": 0
      },
      "text/plain": [
       "Validation: |          | 0/? [00:00<?, ?it/s]"
      ]
     },
     "metadata": {},
     "output_type": "display_data"
    },
    {
     "data": {
      "application/vnd.jupyter.widget-view+json": {
       "model_id": "1da5ca331fdb45cc83740a9c4551de67",
       "version_major": 2,
       "version_minor": 0
      },
      "text/plain": [
       "Validation: |          | 0/? [00:00<?, ?it/s]"
      ]
     },
     "metadata": {},
     "output_type": "display_data"
    },
    {
     "data": {
      "application/vnd.jupyter.widget-view+json": {
       "model_id": "a8df4396e22b434a8a2bac86e5f14250",
       "version_major": 2,
       "version_minor": 0
      },
      "text/plain": [
       "Validation: |          | 0/? [00:00<?, ?it/s]"
      ]
     },
     "metadata": {},
     "output_type": "display_data"
    },
    {
     "data": {
      "application/vnd.jupyter.widget-view+json": {
       "model_id": "a65f5556e8c040be963162b6daf888d0",
       "version_major": 2,
       "version_minor": 0
      },
      "text/plain": [
       "Validation: |          | 0/? [00:00<?, ?it/s]"
      ]
     },
     "metadata": {},
     "output_type": "display_data"
    },
    {
     "data": {
      "application/vnd.jupyter.widget-view+json": {
       "model_id": "fea057adc6f641bf8bf5bedb778a6a96",
       "version_major": 2,
       "version_minor": 0
      },
      "text/plain": [
       "Validation: |          | 0/? [00:00<?, ?it/s]"
      ]
     },
     "metadata": {},
     "output_type": "display_data"
    },
    {
     "data": {
      "application/vnd.jupyter.widget-view+json": {
       "model_id": "df31017d8ab14c21b9714b71c94f7f64",
       "version_major": 2,
       "version_minor": 0
      },
      "text/plain": [
       "Validation: |          | 0/? [00:00<?, ?it/s]"
      ]
     },
     "metadata": {},
     "output_type": "display_data"
    },
    {
     "data": {
      "application/vnd.jupyter.widget-view+json": {
       "model_id": "427884e69ebc452f9fb256a49994859a",
       "version_major": 2,
       "version_minor": 0
      },
      "text/plain": [
       "Validation: |          | 0/? [00:00<?, ?it/s]"
      ]
     },
     "metadata": {},
     "output_type": "display_data"
    },
    {
     "data": {
      "application/vnd.jupyter.widget-view+json": {
       "model_id": "89fe57e384104301b776ea547b65189e",
       "version_major": 2,
       "version_minor": 0
      },
      "text/plain": [
       "Validation: |          | 0/? [00:00<?, ?it/s]"
      ]
     },
     "metadata": {},
     "output_type": "display_data"
    },
    {
     "data": {
      "application/vnd.jupyter.widget-view+json": {
       "model_id": "1dae01180450404eb46d55a8b15c54f9",
       "version_major": 2,
       "version_minor": 0
      },
      "text/plain": [
       "Validation: |          | 0/? [00:00<?, ?it/s]"
      ]
     },
     "metadata": {},
     "output_type": "display_data"
    },
    {
     "data": {
      "application/vnd.jupyter.widget-view+json": {
       "model_id": "efa6ca8b24e94fb08e12aa56135e8ab0",
       "version_major": 2,
       "version_minor": 0
      },
      "text/plain": [
       "Validation: |          | 0/? [00:00<?, ?it/s]"
      ]
     },
     "metadata": {},
     "output_type": "display_data"
    },
    {
     "data": {
      "application/vnd.jupyter.widget-view+json": {
       "model_id": "8f11b61b83664c7d9386a81f6d43960d",
       "version_major": 2,
       "version_minor": 0
      },
      "text/plain": [
       "Validation: |          | 0/? [00:00<?, ?it/s]"
      ]
     },
     "metadata": {},
     "output_type": "display_data"
    },
    {
     "data": {
      "application/vnd.jupyter.widget-view+json": {
       "model_id": "cb9a5d2380d44c72b6a4f9be9f28daf6",
       "version_major": 2,
       "version_minor": 0
      },
      "text/plain": [
       "Validation: |          | 0/? [00:00<?, ?it/s]"
      ]
     },
     "metadata": {},
     "output_type": "display_data"
    },
    {
     "data": {
      "application/vnd.jupyter.widget-view+json": {
       "model_id": "316474cccc23432387370af2e901f5a6",
       "version_major": 2,
       "version_minor": 0
      },
      "text/plain": [
       "Validation: |          | 0/? [00:00<?, ?it/s]"
      ]
     },
     "metadata": {},
     "output_type": "display_data"
    },
    {
     "data": {
      "application/vnd.jupyter.widget-view+json": {
       "model_id": "22d89f4b73e844198e05deb8b0bab34c",
       "version_major": 2,
       "version_minor": 0
      },
      "text/plain": [
       "Validation: |          | 0/? [00:00<?, ?it/s]"
      ]
     },
     "metadata": {},
     "output_type": "display_data"
    },
    {
     "data": {
      "application/vnd.jupyter.widget-view+json": {
       "model_id": "61fb019dfc5a443e952148d316d6923d",
       "version_major": 2,
       "version_minor": 0
      },
      "text/plain": [
       "Validation: |          | 0/? [00:00<?, ?it/s]"
      ]
     },
     "metadata": {},
     "output_type": "display_data"
    },
    {
     "data": {
      "application/vnd.jupyter.widget-view+json": {
       "model_id": "73a7719099fc4efab90bca21dfe48fb4",
       "version_major": 2,
       "version_minor": 0
      },
      "text/plain": [
       "Validation: |          | 0/? [00:00<?, ?it/s]"
      ]
     },
     "metadata": {},
     "output_type": "display_data"
    },
    {
     "data": {
      "application/vnd.jupyter.widget-view+json": {
       "model_id": "df8b0181aae040218f77570b3a634088",
       "version_major": 2,
       "version_minor": 0
      },
      "text/plain": [
       "Validation: |          | 0/? [00:00<?, ?it/s]"
      ]
     },
     "metadata": {},
     "output_type": "display_data"
    },
    {
     "data": {
      "application/vnd.jupyter.widget-view+json": {
       "model_id": "ecfd3f604d5842b4aac864bd30348202",
       "version_major": 2,
       "version_minor": 0
      },
      "text/plain": [
       "Validation: |          | 0/? [00:00<?, ?it/s]"
      ]
     },
     "metadata": {},
     "output_type": "display_data"
    },
    {
     "data": {
      "application/vnd.jupyter.widget-view+json": {
       "model_id": "795d40e6454040a7a7c3392142097912",
       "version_major": 2,
       "version_minor": 0
      },
      "text/plain": [
       "Validation: |          | 0/? [00:00<?, ?it/s]"
      ]
     },
     "metadata": {},
     "output_type": "display_data"
    },
    {
     "data": {
      "application/vnd.jupyter.widget-view+json": {
       "model_id": "7eddcbd397004b40bc803fd53a858c57",
       "version_major": 2,
       "version_minor": 0
      },
      "text/plain": [
       "Validation: |          | 0/? [00:00<?, ?it/s]"
      ]
     },
     "metadata": {},
     "output_type": "display_data"
    },
    {
     "data": {
      "application/vnd.jupyter.widget-view+json": {
       "model_id": "3dc73b4880b74dfab31fd377dd4f6202",
       "version_major": 2,
       "version_minor": 0
      },
      "text/plain": [
       "Validation: |          | 0/? [00:00<?, ?it/s]"
      ]
     },
     "metadata": {},
     "output_type": "display_data"
    },
    {
     "data": {
      "application/vnd.jupyter.widget-view+json": {
       "model_id": "603a577f630c4fcd8676ab5544e77958",
       "version_major": 2,
       "version_minor": 0
      },
      "text/plain": [
       "Validation: |          | 0/? [00:00<?, ?it/s]"
      ]
     },
     "metadata": {},
     "output_type": "display_data"
    },
    {
     "data": {
      "application/vnd.jupyter.widget-view+json": {
       "model_id": "b019e9ca092a40f98ded05f357ee1da5",
       "version_major": 2,
       "version_minor": 0
      },
      "text/plain": [
       "Validation: |          | 0/? [00:00<?, ?it/s]"
      ]
     },
     "metadata": {},
     "output_type": "display_data"
    },
    {
     "data": {
      "application/vnd.jupyter.widget-view+json": {
       "model_id": "31c6dc649e9849c1abc33656508c4a7b",
       "version_major": 2,
       "version_minor": 0
      },
      "text/plain": [
       "Validation: |          | 0/? [00:00<?, ?it/s]"
      ]
     },
     "metadata": {},
     "output_type": "display_data"
    },
    {
     "data": {
      "application/vnd.jupyter.widget-view+json": {
       "model_id": "e63fb0a9fe3b4fdeb7a09ccf7f916905",
       "version_major": 2,
       "version_minor": 0
      },
      "text/plain": [
       "Validation: |          | 0/? [00:00<?, ?it/s]"
      ]
     },
     "metadata": {},
     "output_type": "display_data"
    },
    {
     "data": {
      "application/vnd.jupyter.widget-view+json": {
       "model_id": "30de651f0f9f4fdab60e5242791dad9f",
       "version_major": 2,
       "version_minor": 0
      },
      "text/plain": [
       "Validation: |          | 0/? [00:00<?, ?it/s]"
      ]
     },
     "metadata": {},
     "output_type": "display_data"
    },
    {
     "data": {
      "application/vnd.jupyter.widget-view+json": {
       "model_id": "e5b3d9b4aefe46d6accd4196628ba5cb",
       "version_major": 2,
       "version_minor": 0
      },
      "text/plain": [
       "Validation: |          | 0/? [00:00<?, ?it/s]"
      ]
     },
     "metadata": {},
     "output_type": "display_data"
    },
    {
     "data": {
      "application/vnd.jupyter.widget-view+json": {
       "model_id": "1a346a3dadd64e61b470399e81b2b931",
       "version_major": 2,
       "version_minor": 0
      },
      "text/plain": [
       "Validation: |          | 0/? [00:00<?, ?it/s]"
      ]
     },
     "metadata": {},
     "output_type": "display_data"
    },
    {
     "data": {
      "application/vnd.jupyter.widget-view+json": {
       "model_id": "19ef4c1b253e4ab2914a24dab17d1e49",
       "version_major": 2,
       "version_minor": 0
      },
      "text/plain": [
       "Validation: |          | 0/? [00:00<?, ?it/s]"
      ]
     },
     "metadata": {},
     "output_type": "display_data"
    },
    {
     "data": {
      "application/vnd.jupyter.widget-view+json": {
       "model_id": "91550d8f6ef14dc29c065a860850f8a0",
       "version_major": 2,
       "version_minor": 0
      },
      "text/plain": [
       "Validation: |          | 0/? [00:00<?, ?it/s]"
      ]
     },
     "metadata": {},
     "output_type": "display_data"
    },
    {
     "data": {
      "application/vnd.jupyter.widget-view+json": {
       "model_id": "5db73bbd356840d894b02505374ad22b",
       "version_major": 2,
       "version_minor": 0
      },
      "text/plain": [
       "Validation: |          | 0/? [00:00<?, ?it/s]"
      ]
     },
     "metadata": {},
     "output_type": "display_data"
    },
    {
     "data": {
      "application/vnd.jupyter.widget-view+json": {
       "model_id": "712d16dd97a04a16b9a34ba9cda4a60f",
       "version_major": 2,
       "version_minor": 0
      },
      "text/plain": [
       "Validation: |          | 0/? [00:00<?, ?it/s]"
      ]
     },
     "metadata": {},
     "output_type": "display_data"
    },
    {
     "data": {
      "application/vnd.jupyter.widget-view+json": {
       "model_id": "5d1808c92afd485c8048d94182ab7b83",
       "version_major": 2,
       "version_minor": 0
      },
      "text/plain": [
       "Validation: |          | 0/? [00:00<?, ?it/s]"
      ]
     },
     "metadata": {},
     "output_type": "display_data"
    },
    {
     "data": {
      "application/vnd.jupyter.widget-view+json": {
       "model_id": "b93f3ac9fa17449785661490ed1585fd",
       "version_major": 2,
       "version_minor": 0
      },
      "text/plain": [
       "Validation: |          | 0/? [00:00<?, ?it/s]"
      ]
     },
     "metadata": {},
     "output_type": "display_data"
    },
    {
     "data": {
      "application/vnd.jupyter.widget-view+json": {
       "model_id": "fcd07785cb124b7185b93b6c6da13714",
       "version_major": 2,
       "version_minor": 0
      },
      "text/plain": [
       "Validation: |          | 0/? [00:00<?, ?it/s]"
      ]
     },
     "metadata": {},
     "output_type": "display_data"
    },
    {
     "data": {
      "application/vnd.jupyter.widget-view+json": {
       "model_id": "b77cbf91760e4b22a513064a2559a3d3",
       "version_major": 2,
       "version_minor": 0
      },
      "text/plain": [
       "Validation: |          | 0/? [00:00<?, ?it/s]"
      ]
     },
     "metadata": {},
     "output_type": "display_data"
    },
    {
     "data": {
      "application/vnd.jupyter.widget-view+json": {
       "model_id": "9bf2893da5e4496d8c5a9bc1fd732096",
       "version_major": 2,
       "version_minor": 0
      },
      "text/plain": [
       "Validation: |          | 0/? [00:00<?, ?it/s]"
      ]
     },
     "metadata": {},
     "output_type": "display_data"
    },
    {
     "data": {
      "application/vnd.jupyter.widget-view+json": {
       "model_id": "76f88e5827e347ab9e6b2b57c0b29bbb",
       "version_major": 2,
       "version_minor": 0
      },
      "text/plain": [
       "Validation: |          | 0/? [00:00<?, ?it/s]"
      ]
     },
     "metadata": {},
     "output_type": "display_data"
    },
    {
     "data": {
      "application/vnd.jupyter.widget-view+json": {
       "model_id": "579d811aad604cd286faa6d37c8c05a1",
       "version_major": 2,
       "version_minor": 0
      },
      "text/plain": [
       "Validation: |          | 0/? [00:00<?, ?it/s]"
      ]
     },
     "metadata": {},
     "output_type": "display_data"
    },
    {
     "data": {
      "application/vnd.jupyter.widget-view+json": {
       "model_id": "4e1c85d32a1d4d1ca45dd8346a6f76a2",
       "version_major": 2,
       "version_minor": 0
      },
      "text/plain": [
       "Validation: |          | 0/? [00:00<?, ?it/s]"
      ]
     },
     "metadata": {},
     "output_type": "display_data"
    },
    {
     "data": {
      "application/vnd.jupyter.widget-view+json": {
       "model_id": "307d3961f3214846bac3a067e34d3b8a",
       "version_major": 2,
       "version_minor": 0
      },
      "text/plain": [
       "Validation: |          | 0/? [00:00<?, ?it/s]"
      ]
     },
     "metadata": {},
     "output_type": "display_data"
    },
    {
     "data": {
      "application/vnd.jupyter.widget-view+json": {
       "model_id": "c2681dcb381b4c21ba06d09f8c070b6c",
       "version_major": 2,
       "version_minor": 0
      },
      "text/plain": [
       "Validation: |          | 0/? [00:00<?, ?it/s]"
      ]
     },
     "metadata": {},
     "output_type": "display_data"
    },
    {
     "data": {
      "application/vnd.jupyter.widget-view+json": {
       "model_id": "f839644c6c8e4064bc74c68da24c5fe2",
       "version_major": 2,
       "version_minor": 0
      },
      "text/plain": [
       "Validation: |          | 0/? [00:00<?, ?it/s]"
      ]
     },
     "metadata": {},
     "output_type": "display_data"
    },
    {
     "data": {
      "application/vnd.jupyter.widget-view+json": {
       "model_id": "549b03ca5e594b09be540b100c0d8cea",
       "version_major": 2,
       "version_minor": 0
      },
      "text/plain": [
       "Validation: |          | 0/? [00:00<?, ?it/s]"
      ]
     },
     "metadata": {},
     "output_type": "display_data"
    },
    {
     "data": {
      "application/vnd.jupyter.widget-view+json": {
       "model_id": "a7046c280d2f4b4290d3137a69e89b02",
       "version_major": 2,
       "version_minor": 0
      },
      "text/plain": [
       "Validation: |          | 0/? [00:00<?, ?it/s]"
      ]
     },
     "metadata": {},
     "output_type": "display_data"
    },
    {
     "data": {
      "application/vnd.jupyter.widget-view+json": {
       "model_id": "9f6f380ef5c2407d8cc95ca9dbd8cd27",
       "version_major": 2,
       "version_minor": 0
      },
      "text/plain": [
       "Validation: |          | 0/? [00:00<?, ?it/s]"
      ]
     },
     "metadata": {},
     "output_type": "display_data"
    },
    {
     "data": {
      "application/vnd.jupyter.widget-view+json": {
       "model_id": "aac433c653dd4c4b8e885dd54bc894e7",
       "version_major": 2,
       "version_minor": 0
      },
      "text/plain": [
       "Validation: |          | 0/? [00:00<?, ?it/s]"
      ]
     },
     "metadata": {},
     "output_type": "display_data"
    },
    {
     "data": {
      "application/vnd.jupyter.widget-view+json": {
       "model_id": "4392e72729994913a9aa674e0b0af33b",
       "version_major": 2,
       "version_minor": 0
      },
      "text/plain": [
       "Validation: |          | 0/? [00:00<?, ?it/s]"
      ]
     },
     "metadata": {},
     "output_type": "display_data"
    },
    {
     "data": {
      "application/vnd.jupyter.widget-view+json": {
       "model_id": "e2007fcb8bb14e8ea8da285f4e9e5849",
       "version_major": 2,
       "version_minor": 0
      },
      "text/plain": [
       "Validation: |          | 0/? [00:00<?, ?it/s]"
      ]
     },
     "metadata": {},
     "output_type": "display_data"
    },
    {
     "data": {
      "application/vnd.jupyter.widget-view+json": {
       "model_id": "e9434c96ed584fe69d4d48c73cbe766b",
       "version_major": 2,
       "version_minor": 0
      },
      "text/plain": [
       "Validation: |          | 0/? [00:00<?, ?it/s]"
      ]
     },
     "metadata": {},
     "output_type": "display_data"
    },
    {
     "data": {
      "application/vnd.jupyter.widget-view+json": {
       "model_id": "a28ba59c525744d5a2c2071261ceb8ce",
       "version_major": 2,
       "version_minor": 0
      },
      "text/plain": [
       "Validation: |          | 0/? [00:00<?, ?it/s]"
      ]
     },
     "metadata": {},
     "output_type": "display_data"
    },
    {
     "data": {
      "application/vnd.jupyter.widget-view+json": {
       "model_id": "43943ddb64114b41b386800536f9ebde",
       "version_major": 2,
       "version_minor": 0
      },
      "text/plain": [
       "Validation: |          | 0/? [00:00<?, ?it/s]"
      ]
     },
     "metadata": {},
     "output_type": "display_data"
    },
    {
     "data": {
      "application/vnd.jupyter.widget-view+json": {
       "model_id": "e2c21a312b9e4cc483feed72d405eec3",
       "version_major": 2,
       "version_minor": 0
      },
      "text/plain": [
       "Validation: |          | 0/? [00:00<?, ?it/s]"
      ]
     },
     "metadata": {},
     "output_type": "display_data"
    },
    {
     "data": {
      "application/vnd.jupyter.widget-view+json": {
       "model_id": "9195842f4403440f853e65f706234c51",
       "version_major": 2,
       "version_minor": 0
      },
      "text/plain": [
       "Validation: |          | 0/? [00:00<?, ?it/s]"
      ]
     },
     "metadata": {},
     "output_type": "display_data"
    },
    {
     "data": {
      "application/vnd.jupyter.widget-view+json": {
       "model_id": "d587c9e540d649e09103328d58d3412d",
       "version_major": 2,
       "version_minor": 0
      },
      "text/plain": [
       "Validation: |          | 0/? [00:00<?, ?it/s]"
      ]
     },
     "metadata": {},
     "output_type": "display_data"
    },
    {
     "data": {
      "application/vnd.jupyter.widget-view+json": {
       "model_id": "afc1d76c18b54a268017a2be37f4e82e",
       "version_major": 2,
       "version_minor": 0
      },
      "text/plain": [
       "Validation: |          | 0/? [00:00<?, ?it/s]"
      ]
     },
     "metadata": {},
     "output_type": "display_data"
    },
    {
     "data": {
      "application/vnd.jupyter.widget-view+json": {
       "model_id": "200b20d415934e4ab14e7445f362254b",
       "version_major": 2,
       "version_minor": 0
      },
      "text/plain": [
       "Validation: |          | 0/? [00:00<?, ?it/s]"
      ]
     },
     "metadata": {},
     "output_type": "display_data"
    },
    {
     "data": {
      "application/vnd.jupyter.widget-view+json": {
       "model_id": "ab8bf365c3744609abb5e0909db90a55",
       "version_major": 2,
       "version_minor": 0
      },
      "text/plain": [
       "Validation: |          | 0/? [00:00<?, ?it/s]"
      ]
     },
     "metadata": {},
     "output_type": "display_data"
    },
    {
     "data": {
      "application/vnd.jupyter.widget-view+json": {
       "model_id": "78d60cf50ebc46a5910ab5c41ac3723e",
       "version_major": 2,
       "version_minor": 0
      },
      "text/plain": [
       "Validation: |          | 0/? [00:00<?, ?it/s]"
      ]
     },
     "metadata": {},
     "output_type": "display_data"
    },
    {
     "data": {
      "application/vnd.jupyter.widget-view+json": {
       "model_id": "7ff67d95f1604175bfce2a440bc7ede8",
       "version_major": 2,
       "version_minor": 0
      },
      "text/plain": [
       "Validation: |          | 0/? [00:00<?, ?it/s]"
      ]
     },
     "metadata": {},
     "output_type": "display_data"
    },
    {
     "data": {
      "application/vnd.jupyter.widget-view+json": {
       "model_id": "7dee1a1fd5fd4af9af15d06305b2ef76",
       "version_major": 2,
       "version_minor": 0
      },
      "text/plain": [
       "Validation: |          | 0/? [00:00<?, ?it/s]"
      ]
     },
     "metadata": {},
     "output_type": "display_data"
    },
    {
     "data": {
      "application/vnd.jupyter.widget-view+json": {
       "model_id": "bde3bb3c1909473fb64221dcb29f5771",
       "version_major": 2,
       "version_minor": 0
      },
      "text/plain": [
       "Validation: |          | 0/? [00:00<?, ?it/s]"
      ]
     },
     "metadata": {},
     "output_type": "display_data"
    },
    {
     "data": {
      "application/vnd.jupyter.widget-view+json": {
       "model_id": "fb54180ebb3b412294cfd06b262e69eb",
       "version_major": 2,
       "version_minor": 0
      },
      "text/plain": [
       "Validation: |          | 0/? [00:00<?, ?it/s]"
      ]
     },
     "metadata": {},
     "output_type": "display_data"
    },
    {
     "data": {
      "application/vnd.jupyter.widget-view+json": {
       "model_id": "ab4442c6a6bb46a789c8722c20aeec66",
       "version_major": 2,
       "version_minor": 0
      },
      "text/plain": [
       "Validation: |          | 0/? [00:00<?, ?it/s]"
      ]
     },
     "metadata": {},
     "output_type": "display_data"
    },
    {
     "data": {
      "application/vnd.jupyter.widget-view+json": {
       "model_id": "def69e972fe14cb4821ff7f62081ae42",
       "version_major": 2,
       "version_minor": 0
      },
      "text/plain": [
       "Validation: |          | 0/? [00:00<?, ?it/s]"
      ]
     },
     "metadata": {},
     "output_type": "display_data"
    },
    {
     "data": {
      "application/vnd.jupyter.widget-view+json": {
       "model_id": "cb855a203d994f16bc0e3d04edf88218",
       "version_major": 2,
       "version_minor": 0
      },
      "text/plain": [
       "Validation: |          | 0/? [00:00<?, ?it/s]"
      ]
     },
     "metadata": {},
     "output_type": "display_data"
    },
    {
     "data": {
      "application/vnd.jupyter.widget-view+json": {
       "model_id": "137c72ae4bb44b5788b23079c2892ede",
       "version_major": 2,
       "version_minor": 0
      },
      "text/plain": [
       "Validation: |          | 0/? [00:00<?, ?it/s]"
      ]
     },
     "metadata": {},
     "output_type": "display_data"
    },
    {
     "data": {
      "application/vnd.jupyter.widget-view+json": {
       "model_id": "f7bb6107510b4bc09c662f5aeed07351",
       "version_major": 2,
       "version_minor": 0
      },
      "text/plain": [
       "Validation: |          | 0/? [00:00<?, ?it/s]"
      ]
     },
     "metadata": {},
     "output_type": "display_data"
    },
    {
     "data": {
      "application/vnd.jupyter.widget-view+json": {
       "model_id": "23b807d8c1e4491b91996173067f5743",
       "version_major": 2,
       "version_minor": 0
      },
      "text/plain": [
       "Validation: |          | 0/? [00:00<?, ?it/s]"
      ]
     },
     "metadata": {},
     "output_type": "display_data"
    },
    {
     "data": {
      "application/vnd.jupyter.widget-view+json": {
       "model_id": "f23060f9e79a407c98d13d420cf7816c",
       "version_major": 2,
       "version_minor": 0
      },
      "text/plain": [
       "Validation: |          | 0/? [00:00<?, ?it/s]"
      ]
     },
     "metadata": {},
     "output_type": "display_data"
    },
    {
     "data": {
      "application/vnd.jupyter.widget-view+json": {
       "model_id": "a8d38fbe019947cc8004cf7e79a37abf",
       "version_major": 2,
       "version_minor": 0
      },
      "text/plain": [
       "Validation: |          | 0/? [00:00<?, ?it/s]"
      ]
     },
     "metadata": {},
     "output_type": "display_data"
    },
    {
     "data": {
      "application/vnd.jupyter.widget-view+json": {
       "model_id": "5e2f512c4bb0472f86ed505b60cc5587",
       "version_major": 2,
       "version_minor": 0
      },
      "text/plain": [
       "Validation: |          | 0/? [00:00<?, ?it/s]"
      ]
     },
     "metadata": {},
     "output_type": "display_data"
    },
    {
     "data": {
      "application/vnd.jupyter.widget-view+json": {
       "model_id": "f351370e0cef4e9dab8ef565b08f4f67",
       "version_major": 2,
       "version_minor": 0
      },
      "text/plain": [
       "Validation: |          | 0/? [00:00<?, ?it/s]"
      ]
     },
     "metadata": {},
     "output_type": "display_data"
    },
    {
     "data": {
      "application/vnd.jupyter.widget-view+json": {
       "model_id": "e5b40d75396748e083dfb7bcc5d8f092",
       "version_major": 2,
       "version_minor": 0
      },
      "text/plain": [
       "Validation: |          | 0/? [00:00<?, ?it/s]"
      ]
     },
     "metadata": {},
     "output_type": "display_data"
    },
    {
     "data": {
      "application/vnd.jupyter.widget-view+json": {
       "model_id": "99b6aed4384347a99079677e8da6145a",
       "version_major": 2,
       "version_minor": 0
      },
      "text/plain": [
       "Validation: |          | 0/? [00:00<?, ?it/s]"
      ]
     },
     "metadata": {},
     "output_type": "display_data"
    },
    {
     "data": {
      "application/vnd.jupyter.widget-view+json": {
       "model_id": "9743d083f241486cbd749c7b8b94e98b",
       "version_major": 2,
       "version_minor": 0
      },
      "text/plain": [
       "Validation: |          | 0/? [00:00<?, ?it/s]"
      ]
     },
     "metadata": {},
     "output_type": "display_data"
    },
    {
     "data": {
      "application/vnd.jupyter.widget-view+json": {
       "model_id": "3d18092b688047af859da16225f4fb9f",
       "version_major": 2,
       "version_minor": 0
      },
      "text/plain": [
       "Validation: |          | 0/? [00:00<?, ?it/s]"
      ]
     },
     "metadata": {},
     "output_type": "display_data"
    },
    {
     "data": {
      "application/vnd.jupyter.widget-view+json": {
       "model_id": "8e202adadd194b9491152da56445dee7",
       "version_major": 2,
       "version_minor": 0
      },
      "text/plain": [
       "Validation: |          | 0/? [00:00<?, ?it/s]"
      ]
     },
     "metadata": {},
     "output_type": "display_data"
    },
    {
     "data": {
      "application/vnd.jupyter.widget-view+json": {
       "model_id": "cd9862809a124d48a71cc330b7c0d81b",
       "version_major": 2,
       "version_minor": 0
      },
      "text/plain": [
       "Validation: |          | 0/? [00:00<?, ?it/s]"
      ]
     },
     "metadata": {},
     "output_type": "display_data"
    },
    {
     "data": {
      "application/vnd.jupyter.widget-view+json": {
       "model_id": "58b54906d87b4b55b44700277604c9ff",
       "version_major": 2,
       "version_minor": 0
      },
      "text/plain": [
       "Validation: |          | 0/? [00:00<?, ?it/s]"
      ]
     },
     "metadata": {},
     "output_type": "display_data"
    },
    {
     "data": {
      "application/vnd.jupyter.widget-view+json": {
       "model_id": "bd6db1b5e70b457e81eaebaa875bb5cd",
       "version_major": 2,
       "version_minor": 0
      },
      "text/plain": [
       "Validation: |          | 0/? [00:00<?, ?it/s]"
      ]
     },
     "metadata": {},
     "output_type": "display_data"
    },
    {
     "data": {
      "application/vnd.jupyter.widget-view+json": {
       "model_id": "82366c9f03ba4f40b396d810834f2f9e",
       "version_major": 2,
       "version_minor": 0
      },
      "text/plain": [
       "Validation: |          | 0/? [00:00<?, ?it/s]"
      ]
     },
     "metadata": {},
     "output_type": "display_data"
    },
    {
     "data": {
      "application/vnd.jupyter.widget-view+json": {
       "model_id": "c5546953978c447b9f15762b32b5a285",
       "version_major": 2,
       "version_minor": 0
      },
      "text/plain": [
       "Validation: |          | 0/? [00:00<?, ?it/s]"
      ]
     },
     "metadata": {},
     "output_type": "display_data"
    },
    {
     "data": {
      "application/vnd.jupyter.widget-view+json": {
       "model_id": "232552849a2f42cda4499fa98cf3d939",
       "version_major": 2,
       "version_minor": 0
      },
      "text/plain": [
       "Validation: |          | 0/? [00:00<?, ?it/s]"
      ]
     },
     "metadata": {},
     "output_type": "display_data"
    },
    {
     "data": {
      "application/vnd.jupyter.widget-view+json": {
       "model_id": "d8bff4603efe474394faa9b207f46857",
       "version_major": 2,
       "version_minor": 0
      },
      "text/plain": [
       "Validation: |          | 0/? [00:00<?, ?it/s]"
      ]
     },
     "metadata": {},
     "output_type": "display_data"
    },
    {
     "data": {
      "application/vnd.jupyter.widget-view+json": {
       "model_id": "8ffa381bba624e15845cbdd03606319c",
       "version_major": 2,
       "version_minor": 0
      },
      "text/plain": [
       "Validation: |          | 0/? [00:00<?, ?it/s]"
      ]
     },
     "metadata": {},
     "output_type": "display_data"
    },
    {
     "data": {
      "application/vnd.jupyter.widget-view+json": {
       "model_id": "e4998690a4bb4b16b68cd1f0c478135f",
       "version_major": 2,
       "version_minor": 0
      },
      "text/plain": [
       "Validation: |          | 0/? [00:00<?, ?it/s]"
      ]
     },
     "metadata": {},
     "output_type": "display_data"
    },
    {
     "data": {
      "application/vnd.jupyter.widget-view+json": {
       "model_id": "69228a1498434844987d0072c95c5f27",
       "version_major": 2,
       "version_minor": 0
      },
      "text/plain": [
       "Validation: |          | 0/? [00:00<?, ?it/s]"
      ]
     },
     "metadata": {},
     "output_type": "display_data"
    },
    {
     "data": {
      "application/vnd.jupyter.widget-view+json": {
       "model_id": "021c2ab490b345c78e3a5782db22aaa4",
       "version_major": 2,
       "version_minor": 0
      },
      "text/plain": [
       "Validation: |          | 0/? [00:00<?, ?it/s]"
      ]
     },
     "metadata": {},
     "output_type": "display_data"
    },
    {
     "data": {
      "application/vnd.jupyter.widget-view+json": {
       "model_id": "442384fa183b49c5908db738f9aef4b0",
       "version_major": 2,
       "version_minor": 0
      },
      "text/plain": [
       "Validation: |          | 0/? [00:00<?, ?it/s]"
      ]
     },
     "metadata": {},
     "output_type": "display_data"
    },
    {
     "data": {
      "application/vnd.jupyter.widget-view+json": {
       "model_id": "452b9949b4be438ab4361cbe3990d988",
       "version_major": 2,
       "version_minor": 0
      },
      "text/plain": [
       "Validation: |          | 0/? [00:00<?, ?it/s]"
      ]
     },
     "metadata": {},
     "output_type": "display_data"
    },
    {
     "data": {
      "application/vnd.jupyter.widget-view+json": {
       "model_id": "502ef16dc0374d3e9e2ce0a2e40e46b5",
       "version_major": 2,
       "version_minor": 0
      },
      "text/plain": [
       "Validation: |          | 0/? [00:00<?, ?it/s]"
      ]
     },
     "metadata": {},
     "output_type": "display_data"
    },
    {
     "data": {
      "application/vnd.jupyter.widget-view+json": {
       "model_id": "12755cce52694c46a9da2fd9895ace43",
       "version_major": 2,
       "version_minor": 0
      },
      "text/plain": [
       "Validation: |          | 0/? [00:00<?, ?it/s]"
      ]
     },
     "metadata": {},
     "output_type": "display_data"
    },
    {
     "data": {
      "application/vnd.jupyter.widget-view+json": {
       "model_id": "cc448816b9f147d0b6ea93b0863ae98d",
       "version_major": 2,
       "version_minor": 0
      },
      "text/plain": [
       "Validation: |          | 0/? [00:00<?, ?it/s]"
      ]
     },
     "metadata": {},
     "output_type": "display_data"
    },
    {
     "data": {
      "application/vnd.jupyter.widget-view+json": {
       "model_id": "3f752c51c46a4761b54c66962d5cf120",
       "version_major": 2,
       "version_minor": 0
      },
      "text/plain": [
       "Validation: |          | 0/? [00:00<?, ?it/s]"
      ]
     },
     "metadata": {},
     "output_type": "display_data"
    },
    {
     "data": {
      "application/vnd.jupyter.widget-view+json": {
       "model_id": "8b86ae66991946a8b5bec62cf2a5c552",
       "version_major": 2,
       "version_minor": 0
      },
      "text/plain": [
       "Validation: |          | 0/? [00:00<?, ?it/s]"
      ]
     },
     "metadata": {},
     "output_type": "display_data"
    },
    {
     "data": {
      "application/vnd.jupyter.widget-view+json": {
       "model_id": "407c049b66234d7ba5dd3ed77de0184b",
       "version_major": 2,
       "version_minor": 0
      },
      "text/plain": [
       "Validation: |          | 0/? [00:00<?, ?it/s]"
      ]
     },
     "metadata": {},
     "output_type": "display_data"
    },
    {
     "data": {
      "application/vnd.jupyter.widget-view+json": {
       "model_id": "27567bab4bfa4668aa845ea6fbfd68fe",
       "version_major": 2,
       "version_minor": 0
      },
      "text/plain": [
       "Validation: |          | 0/? [00:00<?, ?it/s]"
      ]
     },
     "metadata": {},
     "output_type": "display_data"
    },
    {
     "data": {
      "application/vnd.jupyter.widget-view+json": {
       "model_id": "27af8269154a409a97e91fb395323a0c",
       "version_major": 2,
       "version_minor": 0
      },
      "text/plain": [
       "Validation: |          | 0/? [00:00<?, ?it/s]"
      ]
     },
     "metadata": {},
     "output_type": "display_data"
    },
    {
     "data": {
      "application/vnd.jupyter.widget-view+json": {
       "model_id": "f5a54951e15c41d397260ba46d680cdc",
       "version_major": 2,
       "version_minor": 0
      },
      "text/plain": [
       "Validation: |          | 0/? [00:00<?, ?it/s]"
      ]
     },
     "metadata": {},
     "output_type": "display_data"
    },
    {
     "data": {
      "application/vnd.jupyter.widget-view+json": {
       "model_id": "2a97235cfc794a73a83b4a09993fc28c",
       "version_major": 2,
       "version_minor": 0
      },
      "text/plain": [
       "Validation: |          | 0/? [00:00<?, ?it/s]"
      ]
     },
     "metadata": {},
     "output_type": "display_data"
    },
    {
     "data": {
      "application/vnd.jupyter.widget-view+json": {
       "model_id": "a55b7d9f912c4d02b07cf012002e7b19",
       "version_major": 2,
       "version_minor": 0
      },
      "text/plain": [
       "Validation: |          | 0/? [00:00<?, ?it/s]"
      ]
     },
     "metadata": {},
     "output_type": "display_data"
    },
    {
     "data": {
      "application/vnd.jupyter.widget-view+json": {
       "model_id": "c5735c6e0c214c928a3cf21082bd8522",
       "version_major": 2,
       "version_minor": 0
      },
      "text/plain": [
       "Validation: |          | 0/? [00:00<?, ?it/s]"
      ]
     },
     "metadata": {},
     "output_type": "display_data"
    },
    {
     "data": {
      "application/vnd.jupyter.widget-view+json": {
       "model_id": "524fef0cc03446e28d23cadc6341a824",
       "version_major": 2,
       "version_minor": 0
      },
      "text/plain": [
       "Validation: |          | 0/? [00:00<?, ?it/s]"
      ]
     },
     "metadata": {},
     "output_type": "display_data"
    },
    {
     "data": {
      "application/vnd.jupyter.widget-view+json": {
       "model_id": "fb411fd78dd644e081fce91ebdda30c9",
       "version_major": 2,
       "version_minor": 0
      },
      "text/plain": [
       "Validation: |          | 0/? [00:00<?, ?it/s]"
      ]
     },
     "metadata": {},
     "output_type": "display_data"
    },
    {
     "data": {
      "application/vnd.jupyter.widget-view+json": {
       "model_id": "e963328508844099929dc2dd7dd756af",
       "version_major": 2,
       "version_minor": 0
      },
      "text/plain": [
       "Validation: |          | 0/? [00:00<?, ?it/s]"
      ]
     },
     "metadata": {},
     "output_type": "display_data"
    },
    {
     "data": {
      "application/vnd.jupyter.widget-view+json": {
       "model_id": "6e979dc56a584feab51075ed0aa6a771",
       "version_major": 2,
       "version_minor": 0
      },
      "text/plain": [
       "Validation: |          | 0/? [00:00<?, ?it/s]"
      ]
     },
     "metadata": {},
     "output_type": "display_data"
    },
    {
     "data": {
      "application/vnd.jupyter.widget-view+json": {
       "model_id": "868cb0030d664eee993a17dd31c0dbb7",
       "version_major": 2,
       "version_minor": 0
      },
      "text/plain": [
       "Validation: |          | 0/? [00:00<?, ?it/s]"
      ]
     },
     "metadata": {},
     "output_type": "display_data"
    },
    {
     "data": {
      "application/vnd.jupyter.widget-view+json": {
       "model_id": "cd20e4cf01dc43e7895d15ca407fa37b",
       "version_major": 2,
       "version_minor": 0
      },
      "text/plain": [
       "Validation: |          | 0/? [00:00<?, ?it/s]"
      ]
     },
     "metadata": {},
     "output_type": "display_data"
    },
    {
     "data": {
      "application/vnd.jupyter.widget-view+json": {
       "model_id": "09432df23ea84e919e43c63deda22873",
       "version_major": 2,
       "version_minor": 0
      },
      "text/plain": [
       "Validation: |          | 0/? [00:00<?, ?it/s]"
      ]
     },
     "metadata": {},
     "output_type": "display_data"
    },
    {
     "data": {
      "application/vnd.jupyter.widget-view+json": {
       "model_id": "cff5702a03354af9abacb4aae4f58f71",
       "version_major": 2,
       "version_minor": 0
      },
      "text/plain": [
       "Validation: |          | 0/? [00:00<?, ?it/s]"
      ]
     },
     "metadata": {},
     "output_type": "display_data"
    },
    {
     "data": {
      "application/vnd.jupyter.widget-view+json": {
       "model_id": "282baa93715c457eab637a4601bc7a9d",
       "version_major": 2,
       "version_minor": 0
      },
      "text/plain": [
       "Validation: |          | 0/? [00:00<?, ?it/s]"
      ]
     },
     "metadata": {},
     "output_type": "display_data"
    },
    {
     "data": {
      "application/vnd.jupyter.widget-view+json": {
       "model_id": "7751434fc16545549b3dd07e4ca43145",
       "version_major": 2,
       "version_minor": 0
      },
      "text/plain": [
       "Validation: |          | 0/? [00:00<?, ?it/s]"
      ]
     },
     "metadata": {},
     "output_type": "display_data"
    },
    {
     "data": {
      "application/vnd.jupyter.widget-view+json": {
       "model_id": "a616514c98244c16934f4b0b782afbda",
       "version_major": 2,
       "version_minor": 0
      },
      "text/plain": [
       "Validation: |          | 0/? [00:00<?, ?it/s]"
      ]
     },
     "metadata": {},
     "output_type": "display_data"
    },
    {
     "data": {
      "application/vnd.jupyter.widget-view+json": {
       "model_id": "40b03c121f854aed90425eedfd929e8e",
       "version_major": 2,
       "version_minor": 0
      },
      "text/plain": [
       "Validation: |          | 0/? [00:00<?, ?it/s]"
      ]
     },
     "metadata": {},
     "output_type": "display_data"
    },
    {
     "data": {
      "application/vnd.jupyter.widget-view+json": {
       "model_id": "2f009b8d1d334205a2cb942401aead31",
       "version_major": 2,
       "version_minor": 0
      },
      "text/plain": [
       "Validation: |          | 0/? [00:00<?, ?it/s]"
      ]
     },
     "metadata": {},
     "output_type": "display_data"
    },
    {
     "data": {
      "application/vnd.jupyter.widget-view+json": {
       "model_id": "c57c966165b54547af24b16611c96ab7",
       "version_major": 2,
       "version_minor": 0
      },
      "text/plain": [
       "Validation: |          | 0/? [00:00<?, ?it/s]"
      ]
     },
     "metadata": {},
     "output_type": "display_data"
    },
    {
     "data": {
      "application/vnd.jupyter.widget-view+json": {
       "model_id": "2b8c9574b83b469c88fce43381c9bfce",
       "version_major": 2,
       "version_minor": 0
      },
      "text/plain": [
       "Validation: |          | 0/? [00:00<?, ?it/s]"
      ]
     },
     "metadata": {},
     "output_type": "display_data"
    },
    {
     "data": {
      "application/vnd.jupyter.widget-view+json": {
       "model_id": "6a5af7fc2fc94659bc8446e55875a282",
       "version_major": 2,
       "version_minor": 0
      },
      "text/plain": [
       "Validation: |          | 0/? [00:00<?, ?it/s]"
      ]
     },
     "metadata": {},
     "output_type": "display_data"
    },
    {
     "data": {
      "application/vnd.jupyter.widget-view+json": {
       "model_id": "708ff0b72d9c4f62a30662ce879271cd",
       "version_major": 2,
       "version_minor": 0
      },
      "text/plain": [
       "Validation: |          | 0/? [00:00<?, ?it/s]"
      ]
     },
     "metadata": {},
     "output_type": "display_data"
    },
    {
     "data": {
      "application/vnd.jupyter.widget-view+json": {
       "model_id": "5a0bdbd072854d3c8cf8e27d98205d68",
       "version_major": 2,
       "version_minor": 0
      },
      "text/plain": [
       "Validation: |          | 0/? [00:00<?, ?it/s]"
      ]
     },
     "metadata": {},
     "output_type": "display_data"
    },
    {
     "data": {
      "application/vnd.jupyter.widget-view+json": {
       "model_id": "f0a549661c7e4613a86e5a6ab88ec94b",
       "version_major": 2,
       "version_minor": 0
      },
      "text/plain": [
       "Validation: |          | 0/? [00:00<?, ?it/s]"
      ]
     },
     "metadata": {},
     "output_type": "display_data"
    },
    {
     "data": {
      "application/vnd.jupyter.widget-view+json": {
       "model_id": "1abea45425844861a7e8730e54f502c0",
       "version_major": 2,
       "version_minor": 0
      },
      "text/plain": [
       "Validation: |          | 0/? [00:00<?, ?it/s]"
      ]
     },
     "metadata": {},
     "output_type": "display_data"
    },
    {
     "data": {
      "application/vnd.jupyter.widget-view+json": {
       "model_id": "3a9dd0ef89ed4c2183d93fb910828600",
       "version_major": 2,
       "version_minor": 0
      },
      "text/plain": [
       "Validation: |          | 0/? [00:00<?, ?it/s]"
      ]
     },
     "metadata": {},
     "output_type": "display_data"
    },
    {
     "data": {
      "application/vnd.jupyter.widget-view+json": {
       "model_id": "470da405d98846f096afa39fe0a83a08",
       "version_major": 2,
       "version_minor": 0
      },
      "text/plain": [
       "Validation: |          | 0/? [00:00<?, ?it/s]"
      ]
     },
     "metadata": {},
     "output_type": "display_data"
    },
    {
     "data": {
      "application/vnd.jupyter.widget-view+json": {
       "model_id": "cdd3627ae2f54df7bad024e9434e6c1c",
       "version_major": 2,
       "version_minor": 0
      },
      "text/plain": [
       "Validation: |          | 0/? [00:00<?, ?it/s]"
      ]
     },
     "metadata": {},
     "output_type": "display_data"
    },
    {
     "data": {
      "application/vnd.jupyter.widget-view+json": {
       "model_id": "13307b131836472dab05d1f52f965450",
       "version_major": 2,
       "version_minor": 0
      },
      "text/plain": [
       "Validation: |          | 0/? [00:00<?, ?it/s]"
      ]
     },
     "metadata": {},
     "output_type": "display_data"
    },
    {
     "data": {
      "application/vnd.jupyter.widget-view+json": {
       "model_id": "ebde109411fc4f01b92e5e2dd891ef6f",
       "version_major": 2,
       "version_minor": 0
      },
      "text/plain": [
       "Validation: |          | 0/? [00:00<?, ?it/s]"
      ]
     },
     "metadata": {},
     "output_type": "display_data"
    },
    {
     "data": {
      "application/vnd.jupyter.widget-view+json": {
       "model_id": "2369eaec09534093bd1329682c91bdce",
       "version_major": 2,
       "version_minor": 0
      },
      "text/plain": [
       "Validation: |          | 0/? [00:00<?, ?it/s]"
      ]
     },
     "metadata": {},
     "output_type": "display_data"
    },
    {
     "data": {
      "application/vnd.jupyter.widget-view+json": {
       "model_id": "b271e7dfefe34ac388bb4afb20fb5a30",
       "version_major": 2,
       "version_minor": 0
      },
      "text/plain": [
       "Validation: |          | 0/? [00:00<?, ?it/s]"
      ]
     },
     "metadata": {},
     "output_type": "display_data"
    },
    {
     "data": {
      "application/vnd.jupyter.widget-view+json": {
       "model_id": "a370ef0e7593492fa7d90a8274ea05b9",
       "version_major": 2,
       "version_minor": 0
      },
      "text/plain": [
       "Validation: |          | 0/? [00:00<?, ?it/s]"
      ]
     },
     "metadata": {},
     "output_type": "display_data"
    },
    {
     "data": {
      "application/vnd.jupyter.widget-view+json": {
       "model_id": "f21f0fbfa5fd48d9bff85b1c53e43496",
       "version_major": 2,
       "version_minor": 0
      },
      "text/plain": [
       "Validation: |          | 0/? [00:00<?, ?it/s]"
      ]
     },
     "metadata": {},
     "output_type": "display_data"
    },
    {
     "data": {
      "application/vnd.jupyter.widget-view+json": {
       "model_id": "7cde14b53b2d4d28b344017af42e34e0",
       "version_major": 2,
       "version_minor": 0
      },
      "text/plain": [
       "Validation: |          | 0/? [00:00<?, ?it/s]"
      ]
     },
     "metadata": {},
     "output_type": "display_data"
    },
    {
     "data": {
      "application/vnd.jupyter.widget-view+json": {
       "model_id": "424da2df205e474a8a0a321d984dca6b",
       "version_major": 2,
       "version_minor": 0
      },
      "text/plain": [
       "Validation: |          | 0/? [00:00<?, ?it/s]"
      ]
     },
     "metadata": {},
     "output_type": "display_data"
    },
    {
     "data": {
      "application/vnd.jupyter.widget-view+json": {
       "model_id": "96af92a7920b4edeaeeb57fd23533a63",
       "version_major": 2,
       "version_minor": 0
      },
      "text/plain": [
       "Validation: |          | 0/? [00:00<?, ?it/s]"
      ]
     },
     "metadata": {},
     "output_type": "display_data"
    },
    {
     "data": {
      "application/vnd.jupyter.widget-view+json": {
       "model_id": "3f686ab7aa8c40c78c39a4a2102ecb07",
       "version_major": 2,
       "version_minor": 0
      },
      "text/plain": [
       "Validation: |          | 0/? [00:00<?, ?it/s]"
      ]
     },
     "metadata": {},
     "output_type": "display_data"
    },
    {
     "data": {
      "application/vnd.jupyter.widget-view+json": {
       "model_id": "5fadf3a25ddc478dbef8404db15dd5ee",
       "version_major": 2,
       "version_minor": 0
      },
      "text/plain": [
       "Validation: |          | 0/? [00:00<?, ?it/s]"
      ]
     },
     "metadata": {},
     "output_type": "display_data"
    },
    {
     "data": {
      "application/vnd.jupyter.widget-view+json": {
       "model_id": "09b68960af524ba6b60e2c61c01b78b2",
       "version_major": 2,
       "version_minor": 0
      },
      "text/plain": [
       "Validation: |          | 0/? [00:00<?, ?it/s]"
      ]
     },
     "metadata": {},
     "output_type": "display_data"
    },
    {
     "data": {
      "application/vnd.jupyter.widget-view+json": {
       "model_id": "75fe375e4b9c45a4ba6ce9de01a66954",
       "version_major": 2,
       "version_minor": 0
      },
      "text/plain": [
       "Validation: |          | 0/? [00:00<?, ?it/s]"
      ]
     },
     "metadata": {},
     "output_type": "display_data"
    },
    {
     "data": {
      "application/vnd.jupyter.widget-view+json": {
       "model_id": "d63511c900b2431a8214491947696a0b",
       "version_major": 2,
       "version_minor": 0
      },
      "text/plain": [
       "Validation: |          | 0/? [00:00<?, ?it/s]"
      ]
     },
     "metadata": {},
     "output_type": "display_data"
    },
    {
     "data": {
      "application/vnd.jupyter.widget-view+json": {
       "model_id": "7f5618edb0e54a65a84b80f76862ddf6",
       "version_major": 2,
       "version_minor": 0
      },
      "text/plain": [
       "Validation: |          | 0/? [00:00<?, ?it/s]"
      ]
     },
     "metadata": {},
     "output_type": "display_data"
    },
    {
     "data": {
      "application/vnd.jupyter.widget-view+json": {
       "model_id": "9d104ab76dd443c3b7124ff8a868ce43",
       "version_major": 2,
       "version_minor": 0
      },
      "text/plain": [
       "Validation: |          | 0/? [00:00<?, ?it/s]"
      ]
     },
     "metadata": {},
     "output_type": "display_data"
    },
    {
     "data": {
      "application/vnd.jupyter.widget-view+json": {
       "model_id": "a4b82ecdb4a34e6d975dc9062d802060",
       "version_major": 2,
       "version_minor": 0
      },
      "text/plain": [
       "Validation: |          | 0/? [00:00<?, ?it/s]"
      ]
     },
     "metadata": {},
     "output_type": "display_data"
    },
    {
     "data": {
      "application/vnd.jupyter.widget-view+json": {
       "model_id": "99de138aec13427f9744a8594baf4fd0",
       "version_major": 2,
       "version_minor": 0
      },
      "text/plain": [
       "Validation: |          | 0/? [00:00<?, ?it/s]"
      ]
     },
     "metadata": {},
     "output_type": "display_data"
    },
    {
     "data": {
      "application/vnd.jupyter.widget-view+json": {
       "model_id": "9d71dde2b57a46249090e1b3268fbe40",
       "version_major": 2,
       "version_minor": 0
      },
      "text/plain": [
       "Validation: |          | 0/? [00:00<?, ?it/s]"
      ]
     },
     "metadata": {},
     "output_type": "display_data"
    },
    {
     "data": {
      "application/vnd.jupyter.widget-view+json": {
       "model_id": "f9d22a276ce84e41b2aed43bd771bcde",
       "version_major": 2,
       "version_minor": 0
      },
      "text/plain": [
       "Validation: |          | 0/? [00:00<?, ?it/s]"
      ]
     },
     "metadata": {},
     "output_type": "display_data"
    },
    {
     "data": {
      "application/vnd.jupyter.widget-view+json": {
       "model_id": "20858cf5ec3b412eaa0eb56861c2361e",
       "version_major": 2,
       "version_minor": 0
      },
      "text/plain": [
       "Validation: |          | 0/? [00:00<?, ?it/s]"
      ]
     },
     "metadata": {},
     "output_type": "display_data"
    },
    {
     "data": {
      "application/vnd.jupyter.widget-view+json": {
       "model_id": "64e6bb6cce304ec69e3364a73150c2d9",
       "version_major": 2,
       "version_minor": 0
      },
      "text/plain": [
       "Validation: |          | 0/? [00:00<?, ?it/s]"
      ]
     },
     "metadata": {},
     "output_type": "display_data"
    },
    {
     "data": {
      "application/vnd.jupyter.widget-view+json": {
       "model_id": "07b166bc270947698ccc5b7865870a03",
       "version_major": 2,
       "version_minor": 0
      },
      "text/plain": [
       "Validation: |          | 0/? [00:00<?, ?it/s]"
      ]
     },
     "metadata": {},
     "output_type": "display_data"
    },
    {
     "data": {
      "application/vnd.jupyter.widget-view+json": {
       "model_id": "08fcc28473db46ba9b4ee65f2aae352f",
       "version_major": 2,
       "version_minor": 0
      },
      "text/plain": [
       "Validation: |          | 0/? [00:00<?, ?it/s]"
      ]
     },
     "metadata": {},
     "output_type": "display_data"
    },
    {
     "data": {
      "application/vnd.jupyter.widget-view+json": {
       "model_id": "471788364b0441dc8b09f2c3d76e9e5e",
       "version_major": 2,
       "version_minor": 0
      },
      "text/plain": [
       "Validation: |          | 0/? [00:00<?, ?it/s]"
      ]
     },
     "metadata": {},
     "output_type": "display_data"
    },
    {
     "data": {
      "application/vnd.jupyter.widget-view+json": {
       "model_id": "47d749723d6049efa31b21c308bd04c9",
       "version_major": 2,
       "version_minor": 0
      },
      "text/plain": [
       "Validation: |          | 0/? [00:00<?, ?it/s]"
      ]
     },
     "metadata": {},
     "output_type": "display_data"
    },
    {
     "data": {
      "application/vnd.jupyter.widget-view+json": {
       "model_id": "6742e5ac73904716a4f09b2e23237d47",
       "version_major": 2,
       "version_minor": 0
      },
      "text/plain": [
       "Validation: |          | 0/? [00:00<?, ?it/s]"
      ]
     },
     "metadata": {},
     "output_type": "display_data"
    },
    {
     "data": {
      "application/vnd.jupyter.widget-view+json": {
       "model_id": "48dfe171b09e4ee98e6df08928fb8abc",
       "version_major": 2,
       "version_minor": 0
      },
      "text/plain": [
       "Validation: |          | 0/? [00:00<?, ?it/s]"
      ]
     },
     "metadata": {},
     "output_type": "display_data"
    },
    {
     "data": {
      "application/vnd.jupyter.widget-view+json": {
       "model_id": "f413234d449c402f935429a65cbf8d9e",
       "version_major": 2,
       "version_minor": 0
      },
      "text/plain": [
       "Validation: |          | 0/? [00:00<?, ?it/s]"
      ]
     },
     "metadata": {},
     "output_type": "display_data"
    },
    {
     "data": {
      "application/vnd.jupyter.widget-view+json": {
       "model_id": "5777213fcef3483387dffb543eb1debb",
       "version_major": 2,
       "version_minor": 0
      },
      "text/plain": [
       "Validation: |          | 0/? [00:00<?, ?it/s]"
      ]
     },
     "metadata": {},
     "output_type": "display_data"
    },
    {
     "data": {
      "application/vnd.jupyter.widget-view+json": {
       "model_id": "8e5d560b693240d89e796b23d1df4771",
       "version_major": 2,
       "version_minor": 0
      },
      "text/plain": [
       "Validation: |          | 0/? [00:00<?, ?it/s]"
      ]
     },
     "metadata": {},
     "output_type": "display_data"
    },
    {
     "data": {
      "application/vnd.jupyter.widget-view+json": {
       "model_id": "a83f35cac4e047a38aad0a3d309d95c5",
       "version_major": 2,
       "version_minor": 0
      },
      "text/plain": [
       "Validation: |          | 0/? [00:00<?, ?it/s]"
      ]
     },
     "metadata": {},
     "output_type": "display_data"
    },
    {
     "data": {
      "application/vnd.jupyter.widget-view+json": {
       "model_id": "69b6b4b6207943dcafe49d405b94e0c3",
       "version_major": 2,
       "version_minor": 0
      },
      "text/plain": [
       "Validation: |          | 0/? [00:00<?, ?it/s]"
      ]
     },
     "metadata": {},
     "output_type": "display_data"
    },
    {
     "data": {
      "application/vnd.jupyter.widget-view+json": {
       "model_id": "5b3124fdc5914f6f8ca0ddce10d6a811",
       "version_major": 2,
       "version_minor": 0
      },
      "text/plain": [
       "Validation: |          | 0/? [00:00<?, ?it/s]"
      ]
     },
     "metadata": {},
     "output_type": "display_data"
    },
    {
     "data": {
      "application/vnd.jupyter.widget-view+json": {
       "model_id": "891de18f858d46bcb13679086e717320",
       "version_major": 2,
       "version_minor": 0
      },
      "text/plain": [
       "Validation: |          | 0/? [00:00<?, ?it/s]"
      ]
     },
     "metadata": {},
     "output_type": "display_data"
    },
    {
     "data": {
      "application/vnd.jupyter.widget-view+json": {
       "model_id": "bb16582a5c1144bc9ffb8d5adef90c33",
       "version_major": 2,
       "version_minor": 0
      },
      "text/plain": [
       "Validation: |          | 0/? [00:00<?, ?it/s]"
      ]
     },
     "metadata": {},
     "output_type": "display_data"
    },
    {
     "data": {
      "application/vnd.jupyter.widget-view+json": {
       "model_id": "8b2f8fdfbc51410b8e3997385894cf35",
       "version_major": 2,
       "version_minor": 0
      },
      "text/plain": [
       "Validation: |          | 0/? [00:00<?, ?it/s]"
      ]
     },
     "metadata": {},
     "output_type": "display_data"
    },
    {
     "data": {
      "application/vnd.jupyter.widget-view+json": {
       "model_id": "3f27954311954813a9acbdc46a793d0c",
       "version_major": 2,
       "version_minor": 0
      },
      "text/plain": [
       "Validation: |          | 0/? [00:00<?, ?it/s]"
      ]
     },
     "metadata": {},
     "output_type": "display_data"
    },
    {
     "data": {
      "application/vnd.jupyter.widget-view+json": {
       "model_id": "1600a2057b6d42a2893e8f025f6f9fc5",
       "version_major": 2,
       "version_minor": 0
      },
      "text/plain": [
       "Validation: |          | 0/? [00:00<?, ?it/s]"
      ]
     },
     "metadata": {},
     "output_type": "display_data"
    },
    {
     "data": {
      "application/vnd.jupyter.widget-view+json": {
       "model_id": "89ad51d3e58640e1b8f4919226bd3022",
       "version_major": 2,
       "version_minor": 0
      },
      "text/plain": [
       "Validation: |          | 0/? [00:00<?, ?it/s]"
      ]
     },
     "metadata": {},
     "output_type": "display_data"
    },
    {
     "data": {
      "application/vnd.jupyter.widget-view+json": {
       "model_id": "3403a2d76d994a85a25f1e4cb2c052f3",
       "version_major": 2,
       "version_minor": 0
      },
      "text/plain": [
       "Validation: |          | 0/? [00:00<?, ?it/s]"
      ]
     },
     "metadata": {},
     "output_type": "display_data"
    },
    {
     "data": {
      "application/vnd.jupyter.widget-view+json": {
       "model_id": "dcedf02da55a4a64904c0b829acb3bb1",
       "version_major": 2,
       "version_minor": 0
      },
      "text/plain": [
       "Validation: |          | 0/? [00:00<?, ?it/s]"
      ]
     },
     "metadata": {},
     "output_type": "display_data"
    },
    {
     "data": {
      "application/vnd.jupyter.widget-view+json": {
       "model_id": "c49a46e2486944c999f529472353a319",
       "version_major": 2,
       "version_minor": 0
      },
      "text/plain": [
       "Validation: |          | 0/? [00:00<?, ?it/s]"
      ]
     },
     "metadata": {},
     "output_type": "display_data"
    },
    {
     "data": {
      "application/vnd.jupyter.widget-view+json": {
       "model_id": "82b4e58482964057bb179e05e5cea685",
       "version_major": 2,
       "version_minor": 0
      },
      "text/plain": [
       "Validation: |          | 0/? [00:00<?, ?it/s]"
      ]
     },
     "metadata": {},
     "output_type": "display_data"
    },
    {
     "data": {
      "application/vnd.jupyter.widget-view+json": {
       "model_id": "0ef27ec8c173459e866bb50162244a77",
       "version_major": 2,
       "version_minor": 0
      },
      "text/plain": [
       "Validation: |          | 0/? [00:00<?, ?it/s]"
      ]
     },
     "metadata": {},
     "output_type": "display_data"
    },
    {
     "data": {
      "application/vnd.jupyter.widget-view+json": {
       "model_id": "6352da29d0674538839a57cc23a86627",
       "version_major": 2,
       "version_minor": 0
      },
      "text/plain": [
       "Validation: |          | 0/? [00:00<?, ?it/s]"
      ]
     },
     "metadata": {},
     "output_type": "display_data"
    },
    {
     "data": {
      "application/vnd.jupyter.widget-view+json": {
       "model_id": "81d366f2c35743c782c119ec3dafebab",
       "version_major": 2,
       "version_minor": 0
      },
      "text/plain": [
       "Validation: |          | 0/? [00:00<?, ?it/s]"
      ]
     },
     "metadata": {},
     "output_type": "display_data"
    },
    {
     "data": {
      "application/vnd.jupyter.widget-view+json": {
       "model_id": "ee59653dcba04d36842660601ccf4e9f",
       "version_major": 2,
       "version_minor": 0
      },
      "text/plain": [
       "Validation: |          | 0/? [00:00<?, ?it/s]"
      ]
     },
     "metadata": {},
     "output_type": "display_data"
    },
    {
     "data": {
      "application/vnd.jupyter.widget-view+json": {
       "model_id": "17fe562286a540e29d590d4034799f70",
       "version_major": 2,
       "version_minor": 0
      },
      "text/plain": [
       "Validation: |          | 0/? [00:00<?, ?it/s]"
      ]
     },
     "metadata": {},
     "output_type": "display_data"
    },
    {
     "data": {
      "application/vnd.jupyter.widget-view+json": {
       "model_id": "ad34c1d48f9144769ea92077fb444b40",
       "version_major": 2,
       "version_minor": 0
      },
      "text/plain": [
       "Validation: |          | 0/? [00:00<?, ?it/s]"
      ]
     },
     "metadata": {},
     "output_type": "display_data"
    },
    {
     "data": {
      "application/vnd.jupyter.widget-view+json": {
       "model_id": "73b1d01cd69f408abbc6e97e415c6a78",
       "version_major": 2,
       "version_minor": 0
      },
      "text/plain": [
       "Validation: |          | 0/? [00:00<?, ?it/s]"
      ]
     },
     "metadata": {},
     "output_type": "display_data"
    },
    {
     "data": {
      "application/vnd.jupyter.widget-view+json": {
       "model_id": "24f1c5add423441e8334d5bd89bb0092",
       "version_major": 2,
       "version_minor": 0
      },
      "text/plain": [
       "Validation: |          | 0/? [00:00<?, ?it/s]"
      ]
     },
     "metadata": {},
     "output_type": "display_data"
    },
    {
     "data": {
      "application/vnd.jupyter.widget-view+json": {
       "model_id": "bb4c5a3de34245589bf6c3e3817f905f",
       "version_major": 2,
       "version_minor": 0
      },
      "text/plain": [
       "Validation: |          | 0/? [00:00<?, ?it/s]"
      ]
     },
     "metadata": {},
     "output_type": "display_data"
    },
    {
     "data": {
      "application/vnd.jupyter.widget-view+json": {
       "model_id": "150badbd47bd426685600ea18d71097a",
       "version_major": 2,
       "version_minor": 0
      },
      "text/plain": [
       "Validation: |          | 0/? [00:00<?, ?it/s]"
      ]
     },
     "metadata": {},
     "output_type": "display_data"
    },
    {
     "data": {
      "application/vnd.jupyter.widget-view+json": {
       "model_id": "a5324fbe1bf74d288972de8f4c25bd6c",
       "version_major": 2,
       "version_minor": 0
      },
      "text/plain": [
       "Validation: |          | 0/? [00:00<?, ?it/s]"
      ]
     },
     "metadata": {},
     "output_type": "display_data"
    },
    {
     "data": {
      "application/vnd.jupyter.widget-view+json": {
       "model_id": "1604a74e201847bba83c6d737151d771",
       "version_major": 2,
       "version_minor": 0
      },
      "text/plain": [
       "Validation: |          | 0/? [00:00<?, ?it/s]"
      ]
     },
     "metadata": {},
     "output_type": "display_data"
    },
    {
     "data": {
      "application/vnd.jupyter.widget-view+json": {
       "model_id": "92115fc03ed2467398e54697deab9356",
       "version_major": 2,
       "version_minor": 0
      },
      "text/plain": [
       "Validation: |          | 0/? [00:00<?, ?it/s]"
      ]
     },
     "metadata": {},
     "output_type": "display_data"
    },
    {
     "data": {
      "application/vnd.jupyter.widget-view+json": {
       "model_id": "91c8704de92e40ce872e4e7135339bca",
       "version_major": 2,
       "version_minor": 0
      },
      "text/plain": [
       "Validation: |          | 0/? [00:00<?, ?it/s]"
      ]
     },
     "metadata": {},
     "output_type": "display_data"
    },
    {
     "data": {
      "application/vnd.jupyter.widget-view+json": {
       "model_id": "6dea94ef9961466c99c5676c52654c80",
       "version_major": 2,
       "version_minor": 0
      },
      "text/plain": [
       "Validation: |          | 0/? [00:00<?, ?it/s]"
      ]
     },
     "metadata": {},
     "output_type": "display_data"
    },
    {
     "data": {
      "application/vnd.jupyter.widget-view+json": {
       "model_id": "fa826b741b9a48d6acdbc9246896b85b",
       "version_major": 2,
       "version_minor": 0
      },
      "text/plain": [
       "Validation: |          | 0/? [00:00<?, ?it/s]"
      ]
     },
     "metadata": {},
     "output_type": "display_data"
    },
    {
     "data": {
      "application/vnd.jupyter.widget-view+json": {
       "model_id": "cc4db01a34964ac191b4b3f5694ef13b",
       "version_major": 2,
       "version_minor": 0
      },
      "text/plain": [
       "Validation: |          | 0/? [00:00<?, ?it/s]"
      ]
     },
     "metadata": {},
     "output_type": "display_data"
    },
    {
     "data": {
      "application/vnd.jupyter.widget-view+json": {
       "model_id": "619b72f313be44a08d1096011fa74498",
       "version_major": 2,
       "version_minor": 0
      },
      "text/plain": [
       "Validation: |          | 0/? [00:00<?, ?it/s]"
      ]
     },
     "metadata": {},
     "output_type": "display_data"
    },
    {
     "data": {
      "application/vnd.jupyter.widget-view+json": {
       "model_id": "7cb72c0b02294875a792f5a1a57dd848",
       "version_major": 2,
       "version_minor": 0
      },
      "text/plain": [
       "Validation: |          | 0/? [00:00<?, ?it/s]"
      ]
     },
     "metadata": {},
     "output_type": "display_data"
    },
    {
     "data": {
      "application/vnd.jupyter.widget-view+json": {
       "model_id": "dca706ede8834e42af59b98939480aa7",
       "version_major": 2,
       "version_minor": 0
      },
      "text/plain": [
       "Validation: |          | 0/? [00:00<?, ?it/s]"
      ]
     },
     "metadata": {},
     "output_type": "display_data"
    },
    {
     "data": {
      "application/vnd.jupyter.widget-view+json": {
       "model_id": "fe0e24ae51f640f1b394fdc1024ebced",
       "version_major": 2,
       "version_minor": 0
      },
      "text/plain": [
       "Validation: |          | 0/? [00:00<?, ?it/s]"
      ]
     },
     "metadata": {},
     "output_type": "display_data"
    },
    {
     "data": {
      "application/vnd.jupyter.widget-view+json": {
       "model_id": "83f9e52aaabe4bbfbb02aa5696a24118",
       "version_major": 2,
       "version_minor": 0
      },
      "text/plain": [
       "Validation: |          | 0/? [00:00<?, ?it/s]"
      ]
     },
     "metadata": {},
     "output_type": "display_data"
    },
    {
     "data": {
      "application/vnd.jupyter.widget-view+json": {
       "model_id": "504aff722e6c42ccb20988981db82055",
       "version_major": 2,
       "version_minor": 0
      },
      "text/plain": [
       "Validation: |          | 0/? [00:00<?, ?it/s]"
      ]
     },
     "metadata": {},
     "output_type": "display_data"
    },
    {
     "data": {
      "application/vnd.jupyter.widget-view+json": {
       "model_id": "2e41853e3329485d882482fd26de2b7c",
       "version_major": 2,
       "version_minor": 0
      },
      "text/plain": [
       "Validation: |          | 0/? [00:00<?, ?it/s]"
      ]
     },
     "metadata": {},
     "output_type": "display_data"
    },
    {
     "data": {
      "application/vnd.jupyter.widget-view+json": {
       "model_id": "6681c1ce096b46708a0b26321df8da90",
       "version_major": 2,
       "version_minor": 0
      },
      "text/plain": [
       "Validation: |          | 0/? [00:00<?, ?it/s]"
      ]
     },
     "metadata": {},
     "output_type": "display_data"
    },
    {
     "data": {
      "application/vnd.jupyter.widget-view+json": {
       "model_id": "8664ad09881541a7beaca85f9342580b",
       "version_major": 2,
       "version_minor": 0
      },
      "text/plain": [
       "Validation: |          | 0/? [00:00<?, ?it/s]"
      ]
     },
     "metadata": {},
     "output_type": "display_data"
    },
    {
     "data": {
      "application/vnd.jupyter.widget-view+json": {
       "model_id": "9bda3e2541374e408389815a19f43fe0",
       "version_major": 2,
       "version_minor": 0
      },
      "text/plain": [
       "Validation: |          | 0/? [00:00<?, ?it/s]"
      ]
     },
     "metadata": {},
     "output_type": "display_data"
    },
    {
     "data": {
      "application/vnd.jupyter.widget-view+json": {
       "model_id": "91d32f9a005d4a40ba0c470383093750",
       "version_major": 2,
       "version_minor": 0
      },
      "text/plain": [
       "Validation: |          | 0/? [00:00<?, ?it/s]"
      ]
     },
     "metadata": {},
     "output_type": "display_data"
    },
    {
     "data": {
      "application/vnd.jupyter.widget-view+json": {
       "model_id": "07d5944dbc6f4efe80e203e709228b62",
       "version_major": 2,
       "version_minor": 0
      },
      "text/plain": [
       "Validation: |          | 0/? [00:00<?, ?it/s]"
      ]
     },
     "metadata": {},
     "output_type": "display_data"
    },
    {
     "data": {
      "application/vnd.jupyter.widget-view+json": {
       "model_id": "a31a76bb941444a390f68491ce6201ec",
       "version_major": 2,
       "version_minor": 0
      },
      "text/plain": [
       "Validation: |          | 0/? [00:00<?, ?it/s]"
      ]
     },
     "metadata": {},
     "output_type": "display_data"
    },
    {
     "data": {
      "application/vnd.jupyter.widget-view+json": {
       "model_id": "f929f87f4d3f46cd9ccb01de4dee41cf",
       "version_major": 2,
       "version_minor": 0
      },
      "text/plain": [
       "Validation: |          | 0/? [00:00<?, ?it/s]"
      ]
     },
     "metadata": {},
     "output_type": "display_data"
    },
    {
     "data": {
      "application/vnd.jupyter.widget-view+json": {
       "model_id": "cbe86f44fa3143d087ea9465e8a7ee36",
       "version_major": 2,
       "version_minor": 0
      },
      "text/plain": [
       "Validation: |          | 0/? [00:00<?, ?it/s]"
      ]
     },
     "metadata": {},
     "output_type": "display_data"
    },
    {
     "data": {
      "application/vnd.jupyter.widget-view+json": {
       "model_id": "540ca463b86749a8833201f54ad6c723",
       "version_major": 2,
       "version_minor": 0
      },
      "text/plain": [
       "Validation: |          | 0/? [00:00<?, ?it/s]"
      ]
     },
     "metadata": {},
     "output_type": "display_data"
    },
    {
     "data": {
      "application/vnd.jupyter.widget-view+json": {
       "model_id": "598a60dc964649c18f1efbc656ef145b",
       "version_major": 2,
       "version_minor": 0
      },
      "text/plain": [
       "Validation: |          | 0/? [00:00<?, ?it/s]"
      ]
     },
     "metadata": {},
     "output_type": "display_data"
    },
    {
     "data": {
      "application/vnd.jupyter.widget-view+json": {
       "model_id": "4df0cb4c91a84f0bb1a98f996a7acf7e",
       "version_major": 2,
       "version_minor": 0
      },
      "text/plain": [
       "Validation: |          | 0/? [00:00<?, ?it/s]"
      ]
     },
     "metadata": {},
     "output_type": "display_data"
    },
    {
     "data": {
      "application/vnd.jupyter.widget-view+json": {
       "model_id": "20398c143fa848fd8f633f1a4ea29b8f",
       "version_major": 2,
       "version_minor": 0
      },
      "text/plain": [
       "Validation: |          | 0/? [00:00<?, ?it/s]"
      ]
     },
     "metadata": {},
     "output_type": "display_data"
    },
    {
     "data": {
      "application/vnd.jupyter.widget-view+json": {
       "model_id": "ba1312ce49904dc3b3f3d6a3fb951d4b",
       "version_major": 2,
       "version_minor": 0
      },
      "text/plain": [
       "Validation: |          | 0/? [00:00<?, ?it/s]"
      ]
     },
     "metadata": {},
     "output_type": "display_data"
    },
    {
     "data": {
      "application/vnd.jupyter.widget-view+json": {
       "model_id": "a25186b534a34e6cb104c9e322edf711",
       "version_major": 2,
       "version_minor": 0
      },
      "text/plain": [
       "Validation: |          | 0/? [00:00<?, ?it/s]"
      ]
     },
     "metadata": {},
     "output_type": "display_data"
    },
    {
     "data": {
      "application/vnd.jupyter.widget-view+json": {
       "model_id": "daddc28b47684895944306c4cea2ae6d",
       "version_major": 2,
       "version_minor": 0
      },
      "text/plain": [
       "Validation: |          | 0/? [00:00<?, ?it/s]"
      ]
     },
     "metadata": {},
     "output_type": "display_data"
    },
    {
     "data": {
      "application/vnd.jupyter.widget-view+json": {
       "model_id": "e7bd880c01f54f1aa2a392ba7b30eaf7",
       "version_major": 2,
       "version_minor": 0
      },
      "text/plain": [
       "Validation: |          | 0/? [00:00<?, ?it/s]"
      ]
     },
     "metadata": {},
     "output_type": "display_data"
    },
    {
     "data": {
      "application/vnd.jupyter.widget-view+json": {
       "model_id": "2a1cf921869b47fcb06eff4dc6250bc9",
       "version_major": 2,
       "version_minor": 0
      },
      "text/plain": [
       "Validation: |          | 0/? [00:00<?, ?it/s]"
      ]
     },
     "metadata": {},
     "output_type": "display_data"
    },
    {
     "data": {
      "application/vnd.jupyter.widget-view+json": {
       "model_id": "a2d26c364b7840319c657506f03245d2",
       "version_major": 2,
       "version_minor": 0
      },
      "text/plain": [
       "Validation: |          | 0/? [00:00<?, ?it/s]"
      ]
     },
     "metadata": {},
     "output_type": "display_data"
    },
    {
     "data": {
      "application/vnd.jupyter.widget-view+json": {
       "model_id": "c4861986cba2408690dc39a6629c5d20",
       "version_major": 2,
       "version_minor": 0
      },
      "text/plain": [
       "Validation: |          | 0/? [00:00<?, ?it/s]"
      ]
     },
     "metadata": {},
     "output_type": "display_data"
    },
    {
     "data": {
      "application/vnd.jupyter.widget-view+json": {
       "model_id": "cac710a201664cc381d1563dccd3def5",
       "version_major": 2,
       "version_minor": 0
      },
      "text/plain": [
       "Validation: |          | 0/? [00:00<?, ?it/s]"
      ]
     },
     "metadata": {},
     "output_type": "display_data"
    },
    {
     "data": {
      "application/vnd.jupyter.widget-view+json": {
       "model_id": "ad76eda83c5349918967c8a485b4fb70",
       "version_major": 2,
       "version_minor": 0
      },
      "text/plain": [
       "Validation: |          | 0/? [00:00<?, ?it/s]"
      ]
     },
     "metadata": {},
     "output_type": "display_data"
    },
    {
     "data": {
      "application/vnd.jupyter.widget-view+json": {
       "model_id": "3e5f66a369f84a0eb8ce3e49c96f610f",
       "version_major": 2,
       "version_minor": 0
      },
      "text/plain": [
       "Validation: |          | 0/? [00:00<?, ?it/s]"
      ]
     },
     "metadata": {},
     "output_type": "display_data"
    },
    {
     "data": {
      "application/vnd.jupyter.widget-view+json": {
       "model_id": "ad58602b19a84b838a42940126bc97a7",
       "version_major": 2,
       "version_minor": 0
      },
      "text/plain": [
       "Validation: |          | 0/? [00:00<?, ?it/s]"
      ]
     },
     "metadata": {},
     "output_type": "display_data"
    },
    {
     "data": {
      "application/vnd.jupyter.widget-view+json": {
       "model_id": "26aa9a4e4d8c464cb86423710c914bd1",
       "version_major": 2,
       "version_minor": 0
      },
      "text/plain": [
       "Validation: |          | 0/? [00:00<?, ?it/s]"
      ]
     },
     "metadata": {},
     "output_type": "display_data"
    },
    {
     "data": {
      "application/vnd.jupyter.widget-view+json": {
       "model_id": "0fb3cc622a0845649505ec8ae0ed2716",
       "version_major": 2,
       "version_minor": 0
      },
      "text/plain": [
       "Validation: |          | 0/? [00:00<?, ?it/s]"
      ]
     },
     "metadata": {},
     "output_type": "display_data"
    },
    {
     "data": {
      "application/vnd.jupyter.widget-view+json": {
       "model_id": "cceca11815a8410badab2ba0a60b3cba",
       "version_major": 2,
       "version_minor": 0
      },
      "text/plain": [
       "Validation: |          | 0/? [00:00<?, ?it/s]"
      ]
     },
     "metadata": {},
     "output_type": "display_data"
    },
    {
     "data": {
      "application/vnd.jupyter.widget-view+json": {
       "model_id": "8c72c2270020416d9f9c27d2473a2fd3",
       "version_major": 2,
       "version_minor": 0
      },
      "text/plain": [
       "Validation: |          | 0/? [00:00<?, ?it/s]"
      ]
     },
     "metadata": {},
     "output_type": "display_data"
    },
    {
     "data": {
      "application/vnd.jupyter.widget-view+json": {
       "model_id": "d914447947234bbfbac2c7b06c6de4e8",
       "version_major": 2,
       "version_minor": 0
      },
      "text/plain": [
       "Validation: |          | 0/? [00:00<?, ?it/s]"
      ]
     },
     "metadata": {},
     "output_type": "display_data"
    },
    {
     "data": {
      "application/vnd.jupyter.widget-view+json": {
       "model_id": "1aaecbba054f43cd937d5dee6eedf864",
       "version_major": 2,
       "version_minor": 0
      },
      "text/plain": [
       "Validation: |          | 0/? [00:00<?, ?it/s]"
      ]
     },
     "metadata": {},
     "output_type": "display_data"
    },
    {
     "data": {
      "application/vnd.jupyter.widget-view+json": {
       "model_id": "f230875e59a04de991ff442d7643bb7e",
       "version_major": 2,
       "version_minor": 0
      },
      "text/plain": [
       "Validation: |          | 0/? [00:00<?, ?it/s]"
      ]
     },
     "metadata": {},
     "output_type": "display_data"
    },
    {
     "data": {
      "application/vnd.jupyter.widget-view+json": {
       "model_id": "0985415885ce4a4d8ba6c772241e21e2",
       "version_major": 2,
       "version_minor": 0
      },
      "text/plain": [
       "Validation: |          | 0/? [00:00<?, ?it/s]"
      ]
     },
     "metadata": {},
     "output_type": "display_data"
    },
    {
     "data": {
      "application/vnd.jupyter.widget-view+json": {
       "model_id": "b3aeae95b0c14c989d7115c59ba8cf80",
       "version_major": 2,
       "version_minor": 0
      },
      "text/plain": [
       "Validation: |          | 0/? [00:00<?, ?it/s]"
      ]
     },
     "metadata": {},
     "output_type": "display_data"
    },
    {
     "data": {
      "application/vnd.jupyter.widget-view+json": {
       "model_id": "ad647d0a62944db4bfe000868de40124",
       "version_major": 2,
       "version_minor": 0
      },
      "text/plain": [
       "Validation: |          | 0/? [00:00<?, ?it/s]"
      ]
     },
     "metadata": {},
     "output_type": "display_data"
    },
    {
     "data": {
      "application/vnd.jupyter.widget-view+json": {
       "model_id": "5c147f838aac4f5790bed1d45e37b0cb",
       "version_major": 2,
       "version_minor": 0
      },
      "text/plain": [
       "Validation: |          | 0/? [00:00<?, ?it/s]"
      ]
     },
     "metadata": {},
     "output_type": "display_data"
    },
    {
     "data": {
      "application/vnd.jupyter.widget-view+json": {
       "model_id": "c8b6e80de0954f3d9052528b869d8b81",
       "version_major": 2,
       "version_minor": 0
      },
      "text/plain": [
       "Validation: |          | 0/? [00:00<?, ?it/s]"
      ]
     },
     "metadata": {},
     "output_type": "display_data"
    },
    {
     "data": {
      "application/vnd.jupyter.widget-view+json": {
       "model_id": "cd72d8e9c7f04121ad7633578e03d7a9",
       "version_major": 2,
       "version_minor": 0
      },
      "text/plain": [
       "Validation: |          | 0/? [00:00<?, ?it/s]"
      ]
     },
     "metadata": {},
     "output_type": "display_data"
    },
    {
     "data": {
      "application/vnd.jupyter.widget-view+json": {
       "model_id": "792bd5d52f1b47e59dbaeac91377cf7a",
       "version_major": 2,
       "version_minor": 0
      },
      "text/plain": [
       "Validation: |          | 0/? [00:00<?, ?it/s]"
      ]
     },
     "metadata": {},
     "output_type": "display_data"
    },
    {
     "data": {
      "application/vnd.jupyter.widget-view+json": {
       "model_id": "af348a34cd374ca2874caa04e195dd6e",
       "version_major": 2,
       "version_minor": 0
      },
      "text/plain": [
       "Validation: |          | 0/? [00:00<?, ?it/s]"
      ]
     },
     "metadata": {},
     "output_type": "display_data"
    },
    {
     "data": {
      "application/vnd.jupyter.widget-view+json": {
       "model_id": "53c61c71038141d6928f403412de9ee9",
       "version_major": 2,
       "version_minor": 0
      },
      "text/plain": [
       "Validation: |          | 0/? [00:00<?, ?it/s]"
      ]
     },
     "metadata": {},
     "output_type": "display_data"
    },
    {
     "data": {
      "application/vnd.jupyter.widget-view+json": {
       "model_id": "715bc3df2e514ad8991af2319b55333e",
       "version_major": 2,
       "version_minor": 0
      },
      "text/plain": [
       "Validation: |          | 0/? [00:00<?, ?it/s]"
      ]
     },
     "metadata": {},
     "output_type": "display_data"
    },
    {
     "data": {
      "application/vnd.jupyter.widget-view+json": {
       "model_id": "368f49cb07134b5d9675a5d7ceff2806",
       "version_major": 2,
       "version_minor": 0
      },
      "text/plain": [
       "Validation: |          | 0/? [00:00<?, ?it/s]"
      ]
     },
     "metadata": {},
     "output_type": "display_data"
    },
    {
     "data": {
      "application/vnd.jupyter.widget-view+json": {
       "model_id": "b5dbaafc1bf84683a9dd2466dc948fac",
       "version_major": 2,
       "version_minor": 0
      },
      "text/plain": [
       "Validation: |          | 0/? [00:00<?, ?it/s]"
      ]
     },
     "metadata": {},
     "output_type": "display_data"
    },
    {
     "data": {
      "application/vnd.jupyter.widget-view+json": {
       "model_id": "c1ecb5ad78cf4b2ca0e8d71b98700ca4",
       "version_major": 2,
       "version_minor": 0
      },
      "text/plain": [
       "Validation: |          | 0/? [00:00<?, ?it/s]"
      ]
     },
     "metadata": {},
     "output_type": "display_data"
    },
    {
     "data": {
      "application/vnd.jupyter.widget-view+json": {
       "model_id": "0a2e4db5e8d04dc7959cda0087745f30",
       "version_major": 2,
       "version_minor": 0
      },
      "text/plain": [
       "Validation: |          | 0/? [00:00<?, ?it/s]"
      ]
     },
     "metadata": {},
     "output_type": "display_data"
    },
    {
     "data": {
      "application/vnd.jupyter.widget-view+json": {
       "model_id": "fdeb0a9db05241a59c75be4dd30a6fd2",
       "version_major": 2,
       "version_minor": 0
      },
      "text/plain": [
       "Validation: |          | 0/? [00:00<?, ?it/s]"
      ]
     },
     "metadata": {},
     "output_type": "display_data"
    },
    {
     "data": {
      "application/vnd.jupyter.widget-view+json": {
       "model_id": "ffc6771ce87d45d59472125b86345802",
       "version_major": 2,
       "version_minor": 0
      },
      "text/plain": [
       "Validation: |          | 0/? [00:00<?, ?it/s]"
      ]
     },
     "metadata": {},
     "output_type": "display_data"
    },
    {
     "data": {
      "application/vnd.jupyter.widget-view+json": {
       "model_id": "bb332886d3364a949b29e5950e72beb3",
       "version_major": 2,
       "version_minor": 0
      },
      "text/plain": [
       "Validation: |          | 0/? [00:00<?, ?it/s]"
      ]
     },
     "metadata": {},
     "output_type": "display_data"
    },
    {
     "data": {
      "application/vnd.jupyter.widget-view+json": {
       "model_id": "c4e4b3f95ea546a4ad37a6de98194df3",
       "version_major": 2,
       "version_minor": 0
      },
      "text/plain": [
       "Validation: |          | 0/? [00:00<?, ?it/s]"
      ]
     },
     "metadata": {},
     "output_type": "display_data"
    },
    {
     "data": {
      "application/vnd.jupyter.widget-view+json": {
       "model_id": "d09e8bbffcb94cda937141ff93462806",
       "version_major": 2,
       "version_minor": 0
      },
      "text/plain": [
       "Validation: |          | 0/? [00:00<?, ?it/s]"
      ]
     },
     "metadata": {},
     "output_type": "display_data"
    },
    {
     "data": {
      "application/vnd.jupyter.widget-view+json": {
       "model_id": "46242758de7a49a8ab5af22a49635e7d",
       "version_major": 2,
       "version_minor": 0
      },
      "text/plain": [
       "Validation: |          | 0/? [00:00<?, ?it/s]"
      ]
     },
     "metadata": {},
     "output_type": "display_data"
    },
    {
     "data": {
      "application/vnd.jupyter.widget-view+json": {
       "model_id": "2634157bb14d4b73a14d0e775548d2d4",
       "version_major": 2,
       "version_minor": 0
      },
      "text/plain": [
       "Validation: |          | 0/? [00:00<?, ?it/s]"
      ]
     },
     "metadata": {},
     "output_type": "display_data"
    },
    {
     "data": {
      "application/vnd.jupyter.widget-view+json": {
       "model_id": "11c64052d0214d21bc920c76f1a5850c",
       "version_major": 2,
       "version_minor": 0
      },
      "text/plain": [
       "Validation: |          | 0/? [00:00<?, ?it/s]"
      ]
     },
     "metadata": {},
     "output_type": "display_data"
    },
    {
     "data": {
      "application/vnd.jupyter.widget-view+json": {
       "model_id": "c8487af58f2748499db63c01dba64dde",
       "version_major": 2,
       "version_minor": 0
      },
      "text/plain": [
       "Validation: |          | 0/? [00:00<?, ?it/s]"
      ]
     },
     "metadata": {},
     "output_type": "display_data"
    },
    {
     "data": {
      "application/vnd.jupyter.widget-view+json": {
       "model_id": "26dc7f5799124592a8996f8c1682efb7",
       "version_major": 2,
       "version_minor": 0
      },
      "text/plain": [
       "Validation: |          | 0/? [00:00<?, ?it/s]"
      ]
     },
     "metadata": {},
     "output_type": "display_data"
    },
    {
     "data": {
      "application/vnd.jupyter.widget-view+json": {
       "model_id": "b82e935c47424a7ba38ac233800644d1",
       "version_major": 2,
       "version_minor": 0
      },
      "text/plain": [
       "Validation: |          | 0/? [00:00<?, ?it/s]"
      ]
     },
     "metadata": {},
     "output_type": "display_data"
    },
    {
     "data": {
      "application/vnd.jupyter.widget-view+json": {
       "model_id": "246dff1cedd2402cb5dd262eef5057c3",
       "version_major": 2,
       "version_minor": 0
      },
      "text/plain": [
       "Validation: |          | 0/? [00:00<?, ?it/s]"
      ]
     },
     "metadata": {},
     "output_type": "display_data"
    },
    {
     "data": {
      "application/vnd.jupyter.widget-view+json": {
       "model_id": "e393735ebd48493c807f4e31c0558dee",
       "version_major": 2,
       "version_minor": 0
      },
      "text/plain": [
       "Validation: |          | 0/? [00:00<?, ?it/s]"
      ]
     },
     "metadata": {},
     "output_type": "display_data"
    },
    {
     "data": {
      "application/vnd.jupyter.widget-view+json": {
       "model_id": "56c2fb4f37dc43b48034cee195d8ee84",
       "version_major": 2,
       "version_minor": 0
      },
      "text/plain": [
       "Validation: |          | 0/? [00:00<?, ?it/s]"
      ]
     },
     "metadata": {},
     "output_type": "display_data"
    },
    {
     "data": {
      "application/vnd.jupyter.widget-view+json": {
       "model_id": "918655e63bef4cdfb41dc4a230dc07ee",
       "version_major": 2,
       "version_minor": 0
      },
      "text/plain": [
       "Validation: |          | 0/? [00:00<?, ?it/s]"
      ]
     },
     "metadata": {},
     "output_type": "display_data"
    },
    {
     "data": {
      "application/vnd.jupyter.widget-view+json": {
       "model_id": "4428df13ae4f441d9fd6b99c2184efed",
       "version_major": 2,
       "version_minor": 0
      },
      "text/plain": [
       "Validation: |          | 0/? [00:00<?, ?it/s]"
      ]
     },
     "metadata": {},
     "output_type": "display_data"
    },
    {
     "data": {
      "application/vnd.jupyter.widget-view+json": {
       "model_id": "95ff7e79707f4cd0aeb671b1acb8d213",
       "version_major": 2,
       "version_minor": 0
      },
      "text/plain": [
       "Validation: |          | 0/? [00:00<?, ?it/s]"
      ]
     },
     "metadata": {},
     "output_type": "display_data"
    },
    {
     "data": {
      "application/vnd.jupyter.widget-view+json": {
       "model_id": "5a3e731f1b9546369db591060024a2bf",
       "version_major": 2,
       "version_minor": 0
      },
      "text/plain": [
       "Validation: |          | 0/? [00:00<?, ?it/s]"
      ]
     },
     "metadata": {},
     "output_type": "display_data"
    },
    {
     "data": {
      "application/vnd.jupyter.widget-view+json": {
       "model_id": "e1a1dc618301457090ae531473aa7a24",
       "version_major": 2,
       "version_minor": 0
      },
      "text/plain": [
       "Validation: |          | 0/? [00:00<?, ?it/s]"
      ]
     },
     "metadata": {},
     "output_type": "display_data"
    },
    {
     "data": {
      "application/vnd.jupyter.widget-view+json": {
       "model_id": "8e9482a26f19487d9bd7ffe1879c1185",
       "version_major": 2,
       "version_minor": 0
      },
      "text/plain": [
       "Validation: |          | 0/? [00:00<?, ?it/s]"
      ]
     },
     "metadata": {},
     "output_type": "display_data"
    },
    {
     "data": {
      "application/vnd.jupyter.widget-view+json": {
       "model_id": "2463c843dc604f6da25260ec4aac48e8",
       "version_major": 2,
       "version_minor": 0
      },
      "text/plain": [
       "Validation: |          | 0/? [00:00<?, ?it/s]"
      ]
     },
     "metadata": {},
     "output_type": "display_data"
    },
    {
     "data": {
      "application/vnd.jupyter.widget-view+json": {
       "model_id": "80555e818ef4413bbf342cac6c2b2878",
       "version_major": 2,
       "version_minor": 0
      },
      "text/plain": [
       "Validation: |          | 0/? [00:00<?, ?it/s]"
      ]
     },
     "metadata": {},
     "output_type": "display_data"
    },
    {
     "data": {
      "application/vnd.jupyter.widget-view+json": {
       "model_id": "a27dc0402b1c488b820ff4b1b2f736f1",
       "version_major": 2,
       "version_minor": 0
      },
      "text/plain": [
       "Validation: |          | 0/? [00:00<?, ?it/s]"
      ]
     },
     "metadata": {},
     "output_type": "display_data"
    },
    {
     "data": {
      "application/vnd.jupyter.widget-view+json": {
       "model_id": "7fe2c0c5c4484ff8bb74956d68fe90d9",
       "version_major": 2,
       "version_minor": 0
      },
      "text/plain": [
       "Validation: |          | 0/? [00:00<?, ?it/s]"
      ]
     },
     "metadata": {},
     "output_type": "display_data"
    },
    {
     "data": {
      "application/vnd.jupyter.widget-view+json": {
       "model_id": "e9e87eadeb2e4af9af0697fdb443b01f",
       "version_major": 2,
       "version_minor": 0
      },
      "text/plain": [
       "Validation: |          | 0/? [00:00<?, ?it/s]"
      ]
     },
     "metadata": {},
     "output_type": "display_data"
    },
    {
     "data": {
      "application/vnd.jupyter.widget-view+json": {
       "model_id": "fa13d7fdff9544fcbfac067901facf0d",
       "version_major": 2,
       "version_minor": 0
      },
      "text/plain": [
       "Validation: |          | 0/? [00:00<?, ?it/s]"
      ]
     },
     "metadata": {},
     "output_type": "display_data"
    },
    {
     "data": {
      "application/vnd.jupyter.widget-view+json": {
       "model_id": "4cca29cbb2d3482fa871dcd4d80afdbc",
       "version_major": 2,
       "version_minor": 0
      },
      "text/plain": [
       "Validation: |          | 0/? [00:00<?, ?it/s]"
      ]
     },
     "metadata": {},
     "output_type": "display_data"
    },
    {
     "data": {
      "application/vnd.jupyter.widget-view+json": {
       "model_id": "3243a2d808c14247b5c255a8959fb05e",
       "version_major": 2,
       "version_minor": 0
      },
      "text/plain": [
       "Validation: |          | 0/? [00:00<?, ?it/s]"
      ]
     },
     "metadata": {},
     "output_type": "display_data"
    },
    {
     "data": {
      "application/vnd.jupyter.widget-view+json": {
       "model_id": "d68f99095ee74aecb37e1742943c58ef",
       "version_major": 2,
       "version_minor": 0
      },
      "text/plain": [
       "Validation: |          | 0/? [00:00<?, ?it/s]"
      ]
     },
     "metadata": {},
     "output_type": "display_data"
    },
    {
     "data": {
      "application/vnd.jupyter.widget-view+json": {
       "model_id": "05ad8fb451cf49a68953636a66ca9ecd",
       "version_major": 2,
       "version_minor": 0
      },
      "text/plain": [
       "Validation: |          | 0/? [00:00<?, ?it/s]"
      ]
     },
     "metadata": {},
     "output_type": "display_data"
    },
    {
     "data": {
      "application/vnd.jupyter.widget-view+json": {
       "model_id": "6ec6a020b3de41da8ed95191a8bd377b",
       "version_major": 2,
       "version_minor": 0
      },
      "text/plain": [
       "Validation: |          | 0/? [00:00<?, ?it/s]"
      ]
     },
     "metadata": {},
     "output_type": "display_data"
    },
    {
     "data": {
      "application/vnd.jupyter.widget-view+json": {
       "model_id": "ac5bada2d4be45dbb4886fc772f06d79",
       "version_major": 2,
       "version_minor": 0
      },
      "text/plain": [
       "Validation: |          | 0/? [00:00<?, ?it/s]"
      ]
     },
     "metadata": {},
     "output_type": "display_data"
    },
    {
     "data": {
      "application/vnd.jupyter.widget-view+json": {
       "model_id": "ae0ff11fa58c4cb89cbb0fd1682a08d3",
       "version_major": 2,
       "version_minor": 0
      },
      "text/plain": [
       "Validation: |          | 0/? [00:00<?, ?it/s]"
      ]
     },
     "metadata": {},
     "output_type": "display_data"
    },
    {
     "data": {
      "application/vnd.jupyter.widget-view+json": {
       "model_id": "7ca0074a2a4b42ccb72c755c06d84971",
       "version_major": 2,
       "version_minor": 0
      },
      "text/plain": [
       "Validation: |          | 0/? [00:00<?, ?it/s]"
      ]
     },
     "metadata": {},
     "output_type": "display_data"
    },
    {
     "data": {
      "application/vnd.jupyter.widget-view+json": {
       "model_id": "ced6a17e78464a6db23ee272523bb4b3",
       "version_major": 2,
       "version_minor": 0
      },
      "text/plain": [
       "Validation: |          | 0/? [00:00<?, ?it/s]"
      ]
     },
     "metadata": {},
     "output_type": "display_data"
    },
    {
     "data": {
      "application/vnd.jupyter.widget-view+json": {
       "model_id": "14ebf5ff82904ae58c3888d13916d26e",
       "version_major": 2,
       "version_minor": 0
      },
      "text/plain": [
       "Validation: |          | 0/? [00:00<?, ?it/s]"
      ]
     },
     "metadata": {},
     "output_type": "display_data"
    },
    {
     "data": {
      "application/vnd.jupyter.widget-view+json": {
       "model_id": "7dbe1153f49e4f64906ff6aeb060100b",
       "version_major": 2,
       "version_minor": 0
      },
      "text/plain": [
       "Validation: |          | 0/? [00:00<?, ?it/s]"
      ]
     },
     "metadata": {},
     "output_type": "display_data"
    },
    {
     "data": {
      "application/vnd.jupyter.widget-view+json": {
       "model_id": "1538f82dfc5f432d91aeb48290fd59be",
       "version_major": 2,
       "version_minor": 0
      },
      "text/plain": [
       "Validation: |          | 0/? [00:00<?, ?it/s]"
      ]
     },
     "metadata": {},
     "output_type": "display_data"
    },
    {
     "data": {
      "application/vnd.jupyter.widget-view+json": {
       "model_id": "28d907b1e31a432997983888df517f5e",
       "version_major": 2,
       "version_minor": 0
      },
      "text/plain": [
       "Validation: |          | 0/? [00:00<?, ?it/s]"
      ]
     },
     "metadata": {},
     "output_type": "display_data"
    },
    {
     "data": {
      "application/vnd.jupyter.widget-view+json": {
       "model_id": "1f1450afd5a3458485a01b72b169128c",
       "version_major": 2,
       "version_minor": 0
      },
      "text/plain": [
       "Validation: |          | 0/? [00:00<?, ?it/s]"
      ]
     },
     "metadata": {},
     "output_type": "display_data"
    },
    {
     "data": {
      "application/vnd.jupyter.widget-view+json": {
       "model_id": "fcb1f840988842ed9d0cd08b3d783f48",
       "version_major": 2,
       "version_minor": 0
      },
      "text/plain": [
       "Validation: |          | 0/? [00:00<?, ?it/s]"
      ]
     },
     "metadata": {},
     "output_type": "display_data"
    },
    {
     "data": {
      "application/vnd.jupyter.widget-view+json": {
       "model_id": "8f1efc29646a41029016fec2d0b65d2f",
       "version_major": 2,
       "version_minor": 0
      },
      "text/plain": [
       "Validation: |          | 0/? [00:00<?, ?it/s]"
      ]
     },
     "metadata": {},
     "output_type": "display_data"
    },
    {
     "data": {
      "application/vnd.jupyter.widget-view+json": {
       "model_id": "71d4d3c5c5dc46c08c5f8c2731350c39",
       "version_major": 2,
       "version_minor": 0
      },
      "text/plain": [
       "Validation: |          | 0/? [00:00<?, ?it/s]"
      ]
     },
     "metadata": {},
     "output_type": "display_data"
    },
    {
     "data": {
      "application/vnd.jupyter.widget-view+json": {
       "model_id": "97b8e98eb5924db7bf0a31d4b7dbe340",
       "version_major": 2,
       "version_minor": 0
      },
      "text/plain": [
       "Validation: |          | 0/? [00:00<?, ?it/s]"
      ]
     },
     "metadata": {},
     "output_type": "display_data"
    },
    {
     "data": {
      "application/vnd.jupyter.widget-view+json": {
       "model_id": "1655b30afb5b4d3192ea331d69f0e0f1",
       "version_major": 2,
       "version_minor": 0
      },
      "text/plain": [
       "Validation: |          | 0/? [00:00<?, ?it/s]"
      ]
     },
     "metadata": {},
     "output_type": "display_data"
    },
    {
     "data": {
      "application/vnd.jupyter.widget-view+json": {
       "model_id": "6eecbfa16ef548b49e0a40019be516e5",
       "version_major": 2,
       "version_minor": 0
      },
      "text/plain": [
       "Validation: |          | 0/? [00:00<?, ?it/s]"
      ]
     },
     "metadata": {},
     "output_type": "display_data"
    },
    {
     "data": {
      "application/vnd.jupyter.widget-view+json": {
       "model_id": "2b97e4bee75142649ddb860d38b1b6c8",
       "version_major": 2,
       "version_minor": 0
      },
      "text/plain": [
       "Validation: |          | 0/? [00:00<?, ?it/s]"
      ]
     },
     "metadata": {},
     "output_type": "display_data"
    },
    {
     "data": {
      "application/vnd.jupyter.widget-view+json": {
       "model_id": "c591f20dcbd04365ab584315d72fc522",
       "version_major": 2,
       "version_minor": 0
      },
      "text/plain": [
       "Validation: |          | 0/? [00:00<?, ?it/s]"
      ]
     },
     "metadata": {},
     "output_type": "display_data"
    },
    {
     "data": {
      "application/vnd.jupyter.widget-view+json": {
       "model_id": "aa6d2277ccba431f912432eedc1ad000",
       "version_major": 2,
       "version_minor": 0
      },
      "text/plain": [
       "Validation: |          | 0/? [00:00<?, ?it/s]"
      ]
     },
     "metadata": {},
     "output_type": "display_data"
    },
    {
     "data": {
      "application/vnd.jupyter.widget-view+json": {
       "model_id": "23183fbdf428430fa5caaf074a46e858",
       "version_major": 2,
       "version_minor": 0
      },
      "text/plain": [
       "Validation: |          | 0/? [00:00<?, ?it/s]"
      ]
     },
     "metadata": {},
     "output_type": "display_data"
    },
    {
     "data": {
      "application/vnd.jupyter.widget-view+json": {
       "model_id": "b1b7f98605424a77a23b03c65bf8a087",
       "version_major": 2,
       "version_minor": 0
      },
      "text/plain": [
       "Validation: |          | 0/? [00:00<?, ?it/s]"
      ]
     },
     "metadata": {},
     "output_type": "display_data"
    },
    {
     "data": {
      "application/vnd.jupyter.widget-view+json": {
       "model_id": "feb6177df80a4029b48e40354b61b8a7",
       "version_major": 2,
       "version_minor": 0
      },
      "text/plain": [
       "Validation: |          | 0/? [00:00<?, ?it/s]"
      ]
     },
     "metadata": {},
     "output_type": "display_data"
    },
    {
     "data": {
      "application/vnd.jupyter.widget-view+json": {
       "model_id": "e7eecdfcf2ba40e4aacd202b88947849",
       "version_major": 2,
       "version_minor": 0
      },
      "text/plain": [
       "Validation: |          | 0/? [00:00<?, ?it/s]"
      ]
     },
     "metadata": {},
     "output_type": "display_data"
    },
    {
     "data": {
      "application/vnd.jupyter.widget-view+json": {
       "model_id": "39521c7c35174d8e86a56ff7faa14b86",
       "version_major": 2,
       "version_minor": 0
      },
      "text/plain": [
       "Validation: |          | 0/? [00:00<?, ?it/s]"
      ]
     },
     "metadata": {},
     "output_type": "display_data"
    },
    {
     "data": {
      "application/vnd.jupyter.widget-view+json": {
       "model_id": "740a2804362d430581b27c8a7a35d803",
       "version_major": 2,
       "version_minor": 0
      },
      "text/plain": [
       "Validation: |          | 0/? [00:00<?, ?it/s]"
      ]
     },
     "metadata": {},
     "output_type": "display_data"
    },
    {
     "data": {
      "application/vnd.jupyter.widget-view+json": {
       "model_id": "22993038b2a94d35a6c2b1acac425cf2",
       "version_major": 2,
       "version_minor": 0
      },
      "text/plain": [
       "Validation: |          | 0/? [00:00<?, ?it/s]"
      ]
     },
     "metadata": {},
     "output_type": "display_data"
    },
    {
     "data": {
      "application/vnd.jupyter.widget-view+json": {
       "model_id": "54e4c35381fe48a087bc443371f1b673",
       "version_major": 2,
       "version_minor": 0
      },
      "text/plain": [
       "Validation: |          | 0/? [00:00<?, ?it/s]"
      ]
     },
     "metadata": {},
     "output_type": "display_data"
    },
    {
     "data": {
      "application/vnd.jupyter.widget-view+json": {
       "model_id": "ebcc4dea3cdd4c80a3af33a894ddda85",
       "version_major": 2,
       "version_minor": 0
      },
      "text/plain": [
       "Validation: |          | 0/? [00:00<?, ?it/s]"
      ]
     },
     "metadata": {},
     "output_type": "display_data"
    },
    {
     "data": {
      "application/vnd.jupyter.widget-view+json": {
       "model_id": "48dc6506b9884e259b83e335ab19d3a6",
       "version_major": 2,
       "version_minor": 0
      },
      "text/plain": [
       "Validation: |          | 0/? [00:00<?, ?it/s]"
      ]
     },
     "metadata": {},
     "output_type": "display_data"
    },
    {
     "data": {
      "application/vnd.jupyter.widget-view+json": {
       "model_id": "97cb81c941fb4dd1a287463b5d42410c",
       "version_major": 2,
       "version_minor": 0
      },
      "text/plain": [
       "Validation: |          | 0/? [00:00<?, ?it/s]"
      ]
     },
     "metadata": {},
     "output_type": "display_data"
    },
    {
     "data": {
      "application/vnd.jupyter.widget-view+json": {
       "model_id": "cf185695fdbc4f36aaebf88dc5e85c44",
       "version_major": 2,
       "version_minor": 0
      },
      "text/plain": [
       "Validation: |          | 0/? [00:00<?, ?it/s]"
      ]
     },
     "metadata": {},
     "output_type": "display_data"
    },
    {
     "data": {
      "application/vnd.jupyter.widget-view+json": {
       "model_id": "259fc21b862e423ca50368c1d25da5e0",
       "version_major": 2,
       "version_minor": 0
      },
      "text/plain": [
       "Validation: |          | 0/? [00:00<?, ?it/s]"
      ]
     },
     "metadata": {},
     "output_type": "display_data"
    },
    {
     "data": {
      "application/vnd.jupyter.widget-view+json": {
       "model_id": "55cd01918c3e4251ba83f6035afe7379",
       "version_major": 2,
       "version_minor": 0
      },
      "text/plain": [
       "Validation: |          | 0/? [00:00<?, ?it/s]"
      ]
     },
     "metadata": {},
     "output_type": "display_data"
    },
    {
     "data": {
      "application/vnd.jupyter.widget-view+json": {
       "model_id": "44c7d121a2eb4be7ad501d5b5118bec5",
       "version_major": 2,
       "version_minor": 0
      },
      "text/plain": [
       "Validation: |          | 0/? [00:00<?, ?it/s]"
      ]
     },
     "metadata": {},
     "output_type": "display_data"
    },
    {
     "data": {
      "application/vnd.jupyter.widget-view+json": {
       "model_id": "d256f17f5c754f0184cb88977e01f5eb",
       "version_major": 2,
       "version_minor": 0
      },
      "text/plain": [
       "Validation: |          | 0/? [00:00<?, ?it/s]"
      ]
     },
     "metadata": {},
     "output_type": "display_data"
    },
    {
     "data": {
      "application/vnd.jupyter.widget-view+json": {
       "model_id": "c237cb9cbbf44d709f8d87a34d86f23b",
       "version_major": 2,
       "version_minor": 0
      },
      "text/plain": [
       "Validation: |          | 0/? [00:00<?, ?it/s]"
      ]
     },
     "metadata": {},
     "output_type": "display_data"
    },
    {
     "data": {
      "application/vnd.jupyter.widget-view+json": {
       "model_id": "2049b6e43a834424aaa1538cf2745ae8",
       "version_major": 2,
       "version_minor": 0
      },
      "text/plain": [
       "Validation: |          | 0/? [00:00<?, ?it/s]"
      ]
     },
     "metadata": {},
     "output_type": "display_data"
    },
    {
     "data": {
      "application/vnd.jupyter.widget-view+json": {
       "model_id": "b6d13eb4815246479796e71eb7874398",
       "version_major": 2,
       "version_minor": 0
      },
      "text/plain": [
       "Validation: |          | 0/? [00:00<?, ?it/s]"
      ]
     },
     "metadata": {},
     "output_type": "display_data"
    },
    {
     "data": {
      "application/vnd.jupyter.widget-view+json": {
       "model_id": "51bf0c577f634ba9ac483bfd5f829670",
       "version_major": 2,
       "version_minor": 0
      },
      "text/plain": [
       "Validation: |          | 0/? [00:00<?, ?it/s]"
      ]
     },
     "metadata": {},
     "output_type": "display_data"
    },
    {
     "data": {
      "application/vnd.jupyter.widget-view+json": {
       "model_id": "888a4ffac5dd4bdaac6a62984ed6fccb",
       "version_major": 2,
       "version_minor": 0
      },
      "text/plain": [
       "Validation: |          | 0/? [00:00<?, ?it/s]"
      ]
     },
     "metadata": {},
     "output_type": "display_data"
    },
    {
     "data": {
      "application/vnd.jupyter.widget-view+json": {
       "model_id": "bbbaae9b0c664567b4544fd28144fe42",
       "version_major": 2,
       "version_minor": 0
      },
      "text/plain": [
       "Validation: |          | 0/? [00:00<?, ?it/s]"
      ]
     },
     "metadata": {},
     "output_type": "display_data"
    },
    {
     "data": {
      "application/vnd.jupyter.widget-view+json": {
       "model_id": "090cbb19827e44d68fe7947b4d34ab48",
       "version_major": 2,
       "version_minor": 0
      },
      "text/plain": [
       "Validation: |          | 0/? [00:00<?, ?it/s]"
      ]
     },
     "metadata": {},
     "output_type": "display_data"
    },
    {
     "data": {
      "application/vnd.jupyter.widget-view+json": {
       "model_id": "5767e91b30a14927b741bfd7a0d43c26",
       "version_major": 2,
       "version_minor": 0
      },
      "text/plain": [
       "Validation: |          | 0/? [00:00<?, ?it/s]"
      ]
     },
     "metadata": {},
     "output_type": "display_data"
    },
    {
     "data": {
      "application/vnd.jupyter.widget-view+json": {
       "model_id": "3ae735e5c6264dc1bb0a3565265052c5",
       "version_major": 2,
       "version_minor": 0
      },
      "text/plain": [
       "Validation: |          | 0/? [00:00<?, ?it/s]"
      ]
     },
     "metadata": {},
     "output_type": "display_data"
    },
    {
     "data": {
      "application/vnd.jupyter.widget-view+json": {
       "model_id": "8a2dbdc8531c48399f80db5763a40cf9",
       "version_major": 2,
       "version_minor": 0
      },
      "text/plain": [
       "Validation: |          | 0/? [00:00<?, ?it/s]"
      ]
     },
     "metadata": {},
     "output_type": "display_data"
    },
    {
     "data": {
      "application/vnd.jupyter.widget-view+json": {
       "model_id": "589f50923fd3424788b42a71977ef462",
       "version_major": 2,
       "version_minor": 0
      },
      "text/plain": [
       "Validation: |          | 0/? [00:00<?, ?it/s]"
      ]
     },
     "metadata": {},
     "output_type": "display_data"
    },
    {
     "data": {
      "application/vnd.jupyter.widget-view+json": {
       "model_id": "15d1d124129b4e588cfdcefc9114c2b1",
       "version_major": 2,
       "version_minor": 0
      },
      "text/plain": [
       "Validation: |          | 0/? [00:00<?, ?it/s]"
      ]
     },
     "metadata": {},
     "output_type": "display_data"
    },
    {
     "data": {
      "application/vnd.jupyter.widget-view+json": {
       "model_id": "c32a15cccb694084a5c4f4ca65cde064",
       "version_major": 2,
       "version_minor": 0
      },
      "text/plain": [
       "Validation: |          | 0/? [00:00<?, ?it/s]"
      ]
     },
     "metadata": {},
     "output_type": "display_data"
    },
    {
     "data": {
      "application/vnd.jupyter.widget-view+json": {
       "model_id": "c8621f3a0b194cc4a4ca1347fb736131",
       "version_major": 2,
       "version_minor": 0
      },
      "text/plain": [
       "Validation: |          | 0/? [00:00<?, ?it/s]"
      ]
     },
     "metadata": {},
     "output_type": "display_data"
    },
    {
     "data": {
      "application/vnd.jupyter.widget-view+json": {
       "model_id": "12274ce98c8440f8a4cd20ed13f479da",
       "version_major": 2,
       "version_minor": 0
      },
      "text/plain": [
       "Validation: |          | 0/? [00:00<?, ?it/s]"
      ]
     },
     "metadata": {},
     "output_type": "display_data"
    },
    {
     "data": {
      "application/vnd.jupyter.widget-view+json": {
       "model_id": "05c1384aef75481eb325d0917a32a3dd",
       "version_major": 2,
       "version_minor": 0
      },
      "text/plain": [
       "Validation: |          | 0/? [00:00<?, ?it/s]"
      ]
     },
     "metadata": {},
     "output_type": "display_data"
    },
    {
     "data": {
      "application/vnd.jupyter.widget-view+json": {
       "model_id": "596e0af999ff4609ba0491f14af6b521",
       "version_major": 2,
       "version_minor": 0
      },
      "text/plain": [
       "Validation: |          | 0/? [00:00<?, ?it/s]"
      ]
     },
     "metadata": {},
     "output_type": "display_data"
    },
    {
     "data": {
      "application/vnd.jupyter.widget-view+json": {
       "model_id": "f34c631c2d6649c2b8cfa4c3688b9128",
       "version_major": 2,
       "version_minor": 0
      },
      "text/plain": [
       "Validation: |          | 0/? [00:00<?, ?it/s]"
      ]
     },
     "metadata": {},
     "output_type": "display_data"
    },
    {
     "data": {
      "application/vnd.jupyter.widget-view+json": {
       "model_id": "aa6a797b05d742aaac61a3417677b331",
       "version_major": 2,
       "version_minor": 0
      },
      "text/plain": [
       "Validation: |          | 0/? [00:00<?, ?it/s]"
      ]
     },
     "metadata": {},
     "output_type": "display_data"
    },
    {
     "data": {
      "application/vnd.jupyter.widget-view+json": {
       "model_id": "d4283288c24c469294375e365fd6fd61",
       "version_major": 2,
       "version_minor": 0
      },
      "text/plain": [
       "Validation: |          | 0/? [00:00<?, ?it/s]"
      ]
     },
     "metadata": {},
     "output_type": "display_data"
    },
    {
     "data": {
      "application/vnd.jupyter.widget-view+json": {
       "model_id": "551bbbb2bea54bc49eb2a8c3fdaa0bb8",
       "version_major": 2,
       "version_minor": 0
      },
      "text/plain": [
       "Validation: |          | 0/? [00:00<?, ?it/s]"
      ]
     },
     "metadata": {},
     "output_type": "display_data"
    },
    {
     "data": {
      "application/vnd.jupyter.widget-view+json": {
       "model_id": "88353819ecf54a75a98f2b162ce7ef01",
       "version_major": 2,
       "version_minor": 0
      },
      "text/plain": [
       "Validation: |          | 0/? [00:00<?, ?it/s]"
      ]
     },
     "metadata": {},
     "output_type": "display_data"
    },
    {
     "data": {
      "application/vnd.jupyter.widget-view+json": {
       "model_id": "a251349242434cc7a39c530a79d4969e",
       "version_major": 2,
       "version_minor": 0
      },
      "text/plain": [
       "Validation: |          | 0/? [00:00<?, ?it/s]"
      ]
     },
     "metadata": {},
     "output_type": "display_data"
    },
    {
     "data": {
      "application/vnd.jupyter.widget-view+json": {
       "model_id": "fa10db2522c449d7aef5ed716a795ce9",
       "version_major": 2,
       "version_minor": 0
      },
      "text/plain": [
       "Validation: |          | 0/? [00:00<?, ?it/s]"
      ]
     },
     "metadata": {},
     "output_type": "display_data"
    },
    {
     "data": {
      "application/vnd.jupyter.widget-view+json": {
       "model_id": "7cad933949da4da6992f40510baec674",
       "version_major": 2,
       "version_minor": 0
      },
      "text/plain": [
       "Validation: |          | 0/? [00:00<?, ?it/s]"
      ]
     },
     "metadata": {},
     "output_type": "display_data"
    },
    {
     "data": {
      "application/vnd.jupyter.widget-view+json": {
       "model_id": "d27a68f015004e689de5218ab2b500c6",
       "version_major": 2,
       "version_minor": 0
      },
      "text/plain": [
       "Validation: |          | 0/? [00:00<?, ?it/s]"
      ]
     },
     "metadata": {},
     "output_type": "display_data"
    },
    {
     "data": {
      "application/vnd.jupyter.widget-view+json": {
       "model_id": "d5260630e79d4a34b84b948ad9e78065",
       "version_major": 2,
       "version_minor": 0
      },
      "text/plain": [
       "Validation: |          | 0/? [00:00<?, ?it/s]"
      ]
     },
     "metadata": {},
     "output_type": "display_data"
    },
    {
     "data": {
      "application/vnd.jupyter.widget-view+json": {
       "model_id": "42f5411c25234f4eb66630b5dd7e605e",
       "version_major": 2,
       "version_minor": 0
      },
      "text/plain": [
       "Validation: |          | 0/? [00:00<?, ?it/s]"
      ]
     },
     "metadata": {},
     "output_type": "display_data"
    },
    {
     "data": {
      "application/vnd.jupyter.widget-view+json": {
       "model_id": "04655de120ba4c4aa51d2c1e55c6d1fe",
       "version_major": 2,
       "version_minor": 0
      },
      "text/plain": [
       "Validation: |          | 0/? [00:00<?, ?it/s]"
      ]
     },
     "metadata": {},
     "output_type": "display_data"
    },
    {
     "data": {
      "application/vnd.jupyter.widget-view+json": {
       "model_id": "07ac706f1b314a2eba2eda0972a42f20",
       "version_major": 2,
       "version_minor": 0
      },
      "text/plain": [
       "Validation: |          | 0/? [00:00<?, ?it/s]"
      ]
     },
     "metadata": {},
     "output_type": "display_data"
    },
    {
     "data": {
      "application/vnd.jupyter.widget-view+json": {
       "model_id": "f5233aee29c74436b6a394fa7ea4580b",
       "version_major": 2,
       "version_minor": 0
      },
      "text/plain": [
       "Validation: |          | 0/? [00:00<?, ?it/s]"
      ]
     },
     "metadata": {},
     "output_type": "display_data"
    },
    {
     "data": {
      "application/vnd.jupyter.widget-view+json": {
       "model_id": "5c29095722344e50a18b4a481c4813d3",
       "version_major": 2,
       "version_minor": 0
      },
      "text/plain": [
       "Validation: |          | 0/? [00:00<?, ?it/s]"
      ]
     },
     "metadata": {},
     "output_type": "display_data"
    },
    {
     "data": {
      "application/vnd.jupyter.widget-view+json": {
       "model_id": "e7484b858aad40519c8e7495f26c5a94",
       "version_major": 2,
       "version_minor": 0
      },
      "text/plain": [
       "Validation: |          | 0/? [00:00<?, ?it/s]"
      ]
     },
     "metadata": {},
     "output_type": "display_data"
    },
    {
     "data": {
      "application/vnd.jupyter.widget-view+json": {
       "model_id": "bfdd8147c7e74bef8c3fcf66f36d281d",
       "version_major": 2,
       "version_minor": 0
      },
      "text/plain": [
       "Validation: |          | 0/? [00:00<?, ?it/s]"
      ]
     },
     "metadata": {},
     "output_type": "display_data"
    },
    {
     "data": {
      "application/vnd.jupyter.widget-view+json": {
       "model_id": "21fd6b8946924feda9e37c0024b96a9a",
       "version_major": 2,
       "version_minor": 0
      },
      "text/plain": [
       "Validation: |          | 0/? [00:00<?, ?it/s]"
      ]
     },
     "metadata": {},
     "output_type": "display_data"
    },
    {
     "data": {
      "application/vnd.jupyter.widget-view+json": {
       "model_id": "1cb1367ac81e49e2a6b9543e80dbf4fa",
       "version_major": 2,
       "version_minor": 0
      },
      "text/plain": [
       "Validation: |          | 0/? [00:00<?, ?it/s]"
      ]
     },
     "metadata": {},
     "output_type": "display_data"
    },
    {
     "data": {
      "application/vnd.jupyter.widget-view+json": {
       "model_id": "b5485d6b5f2e4a7da838a1f93c83e85c",
       "version_major": 2,
       "version_minor": 0
      },
      "text/plain": [
       "Validation: |          | 0/? [00:00<?, ?it/s]"
      ]
     },
     "metadata": {},
     "output_type": "display_data"
    },
    {
     "data": {
      "application/vnd.jupyter.widget-view+json": {
       "model_id": "8161164853e04e789b3086c9c6080a26",
       "version_major": 2,
       "version_minor": 0
      },
      "text/plain": [
       "Validation: |          | 0/? [00:00<?, ?it/s]"
      ]
     },
     "metadata": {},
     "output_type": "display_data"
    },
    {
     "data": {
      "application/vnd.jupyter.widget-view+json": {
       "model_id": "72cca6f83085456e9d37f681b6ad372f",
       "version_major": 2,
       "version_minor": 0
      },
      "text/plain": [
       "Validation: |          | 0/? [00:00<?, ?it/s]"
      ]
     },
     "metadata": {},
     "output_type": "display_data"
    },
    {
     "data": {
      "application/vnd.jupyter.widget-view+json": {
       "model_id": "ed350a48b6ef47229a7069f5b1b4f049",
       "version_major": 2,
       "version_minor": 0
      },
      "text/plain": [
       "Validation: |          | 0/? [00:00<?, ?it/s]"
      ]
     },
     "metadata": {},
     "output_type": "display_data"
    },
    {
     "data": {
      "application/vnd.jupyter.widget-view+json": {
       "model_id": "16e5e37c85604b23ba62cf282c78435c",
       "version_major": 2,
       "version_minor": 0
      },
      "text/plain": [
       "Validation: |          | 0/? [00:00<?, ?it/s]"
      ]
     },
     "metadata": {},
     "output_type": "display_data"
    },
    {
     "data": {
      "application/vnd.jupyter.widget-view+json": {
       "model_id": "2f625611043d422ca9bc9961c9cbc828",
       "version_major": 2,
       "version_minor": 0
      },
      "text/plain": [
       "Validation: |          | 0/? [00:00<?, ?it/s]"
      ]
     },
     "metadata": {},
     "output_type": "display_data"
    },
    {
     "data": {
      "application/vnd.jupyter.widget-view+json": {
       "model_id": "b465b2d3d99046138d0d7dd5dd503b93",
       "version_major": 2,
       "version_minor": 0
      },
      "text/plain": [
       "Validation: |          | 0/? [00:00<?, ?it/s]"
      ]
     },
     "metadata": {},
     "output_type": "display_data"
    },
    {
     "data": {
      "application/vnd.jupyter.widget-view+json": {
       "model_id": "ea93343c67c043f2b6251c7246e2e970",
       "version_major": 2,
       "version_minor": 0
      },
      "text/plain": [
       "Validation: |          | 0/? [00:00<?, ?it/s]"
      ]
     },
     "metadata": {},
     "output_type": "display_data"
    },
    {
     "data": {
      "application/vnd.jupyter.widget-view+json": {
       "model_id": "7b040d168c48499e88458f77e64748c0",
       "version_major": 2,
       "version_minor": 0
      },
      "text/plain": [
       "Validation: |          | 0/? [00:00<?, ?it/s]"
      ]
     },
     "metadata": {},
     "output_type": "display_data"
    },
    {
     "data": {
      "application/vnd.jupyter.widget-view+json": {
       "model_id": "de414c5c97e044a2afe250865e58af2a",
       "version_major": 2,
       "version_minor": 0
      },
      "text/plain": [
       "Validation: |          | 0/? [00:00<?, ?it/s]"
      ]
     },
     "metadata": {},
     "output_type": "display_data"
    },
    {
     "data": {
      "application/vnd.jupyter.widget-view+json": {
       "model_id": "259ab4da58bc4bed9665767e954b3c72",
       "version_major": 2,
       "version_minor": 0
      },
      "text/plain": [
       "Validation: |          | 0/? [00:00<?, ?it/s]"
      ]
     },
     "metadata": {},
     "output_type": "display_data"
    },
    {
     "data": {
      "application/vnd.jupyter.widget-view+json": {
       "model_id": "37c27591040944188a4ef601c45f9ccc",
       "version_major": 2,
       "version_minor": 0
      },
      "text/plain": [
       "Validation: |          | 0/? [00:00<?, ?it/s]"
      ]
     },
     "metadata": {},
     "output_type": "display_data"
    },
    {
     "data": {
      "application/vnd.jupyter.widget-view+json": {
       "model_id": "b963e07fcec84bdebcf3e8ec4a5bed2b",
       "version_major": 2,
       "version_minor": 0
      },
      "text/plain": [
       "Validation: |          | 0/? [00:00<?, ?it/s]"
      ]
     },
     "metadata": {},
     "output_type": "display_data"
    },
    {
     "data": {
      "application/vnd.jupyter.widget-view+json": {
       "model_id": "fccf6595eac6414d8f98052159e032a4",
       "version_major": 2,
       "version_minor": 0
      },
      "text/plain": [
       "Validation: |          | 0/? [00:00<?, ?it/s]"
      ]
     },
     "metadata": {},
     "output_type": "display_data"
    },
    {
     "data": {
      "application/vnd.jupyter.widget-view+json": {
       "model_id": "2ae8cfac871a4f02823f63af2b5634d4",
       "version_major": 2,
       "version_minor": 0
      },
      "text/plain": [
       "Validation: |          | 0/? [00:00<?, ?it/s]"
      ]
     },
     "metadata": {},
     "output_type": "display_data"
    },
    {
     "data": {
      "application/vnd.jupyter.widget-view+json": {
       "model_id": "1ab024582728448fbd64371aa5f576d3",
       "version_major": 2,
       "version_minor": 0
      },
      "text/plain": [
       "Validation: |          | 0/? [00:00<?, ?it/s]"
      ]
     },
     "metadata": {},
     "output_type": "display_data"
    },
    {
     "data": {
      "application/vnd.jupyter.widget-view+json": {
       "model_id": "26d03e17461f4aeebc649362e82fbcfa",
       "version_major": 2,
       "version_minor": 0
      },
      "text/plain": [
       "Validation: |          | 0/? [00:00<?, ?it/s]"
      ]
     },
     "metadata": {},
     "output_type": "display_data"
    },
    {
     "data": {
      "application/vnd.jupyter.widget-view+json": {
       "model_id": "d4d58f81b9f443b5819417c3e7c1e1b3",
       "version_major": 2,
       "version_minor": 0
      },
      "text/plain": [
       "Validation: |          | 0/? [00:00<?, ?it/s]"
      ]
     },
     "metadata": {},
     "output_type": "display_data"
    },
    {
     "data": {
      "application/vnd.jupyter.widget-view+json": {
       "model_id": "ac73ab2e3bce4caeb02976c36d16b39e",
       "version_major": 2,
       "version_minor": 0
      },
      "text/plain": [
       "Validation: |          | 0/? [00:00<?, ?it/s]"
      ]
     },
     "metadata": {},
     "output_type": "display_data"
    },
    {
     "data": {
      "application/vnd.jupyter.widget-view+json": {
       "model_id": "35d478e1cbfe4d1897f6871ddc329a41",
       "version_major": 2,
       "version_minor": 0
      },
      "text/plain": [
       "Validation: |          | 0/? [00:00<?, ?it/s]"
      ]
     },
     "metadata": {},
     "output_type": "display_data"
    },
    {
     "data": {
      "application/vnd.jupyter.widget-view+json": {
       "model_id": "30f8b95c394a4f6887ead8faea8cd29b",
       "version_major": 2,
       "version_minor": 0
      },
      "text/plain": [
       "Validation: |          | 0/? [00:00<?, ?it/s]"
      ]
     },
     "metadata": {},
     "output_type": "display_data"
    },
    {
     "data": {
      "application/vnd.jupyter.widget-view+json": {
       "model_id": "5886a9b7c01240fa9710a724b04a4eee",
       "version_major": 2,
       "version_minor": 0
      },
      "text/plain": [
       "Validation: |          | 0/? [00:00<?, ?it/s]"
      ]
     },
     "metadata": {},
     "output_type": "display_data"
    },
    {
     "data": {
      "application/vnd.jupyter.widget-view+json": {
       "model_id": "766e06c4a00a442d977c0b8a0c5b8246",
       "version_major": 2,
       "version_minor": 0
      },
      "text/plain": [
       "Validation: |          | 0/? [00:00<?, ?it/s]"
      ]
     },
     "metadata": {},
     "output_type": "display_data"
    },
    {
     "data": {
      "application/vnd.jupyter.widget-view+json": {
       "model_id": "668e2ca0b8134b4395c7793c63852c99",
       "version_major": 2,
       "version_minor": 0
      },
      "text/plain": [
       "Validation: |          | 0/? [00:00<?, ?it/s]"
      ]
     },
     "metadata": {},
     "output_type": "display_data"
    },
    {
     "data": {
      "application/vnd.jupyter.widget-view+json": {
       "model_id": "9f72f15b5d3a463683b84dd717d36e00",
       "version_major": 2,
       "version_minor": 0
      },
      "text/plain": [
       "Validation: |          | 0/? [00:00<?, ?it/s]"
      ]
     },
     "metadata": {},
     "output_type": "display_data"
    },
    {
     "data": {
      "application/vnd.jupyter.widget-view+json": {
       "model_id": "2442d1e128e947f9969835be637c6341",
       "version_major": 2,
       "version_minor": 0
      },
      "text/plain": [
       "Validation: |          | 0/? [00:00<?, ?it/s]"
      ]
     },
     "metadata": {},
     "output_type": "display_data"
    },
    {
     "data": {
      "application/vnd.jupyter.widget-view+json": {
       "model_id": "975533b73bfc4591b73900b34e6ebbe9",
       "version_major": 2,
       "version_minor": 0
      },
      "text/plain": [
       "Validation: |          | 0/? [00:00<?, ?it/s]"
      ]
     },
     "metadata": {},
     "output_type": "display_data"
    },
    {
     "data": {
      "application/vnd.jupyter.widget-view+json": {
       "model_id": "bcaa9d24bd9940ac96786f950f83bebf",
       "version_major": 2,
       "version_minor": 0
      },
      "text/plain": [
       "Validation: |          | 0/? [00:00<?, ?it/s]"
      ]
     },
     "metadata": {},
     "output_type": "display_data"
    },
    {
     "data": {
      "application/vnd.jupyter.widget-view+json": {
       "model_id": "35b4671ca04a4eac803f0f6cda4d03ad",
       "version_major": 2,
       "version_minor": 0
      },
      "text/plain": [
       "Validation: |          | 0/? [00:00<?, ?it/s]"
      ]
     },
     "metadata": {},
     "output_type": "display_data"
    },
    {
     "data": {
      "application/vnd.jupyter.widget-view+json": {
       "model_id": "ac9a5c2bee054021a32fad84de525e65",
       "version_major": 2,
       "version_minor": 0
      },
      "text/plain": [
       "Validation: |          | 0/? [00:00<?, ?it/s]"
      ]
     },
     "metadata": {},
     "output_type": "display_data"
    },
    {
     "data": {
      "application/vnd.jupyter.widget-view+json": {
       "model_id": "cd8c8248f9be4818a9b8b73f628683bf",
       "version_major": 2,
       "version_minor": 0
      },
      "text/plain": [
       "Validation: |          | 0/? [00:00<?, ?it/s]"
      ]
     },
     "metadata": {},
     "output_type": "display_data"
    },
    {
     "data": {
      "application/vnd.jupyter.widget-view+json": {
       "model_id": "0a00783056cc4f7684a92767bc4841e5",
       "version_major": 2,
       "version_minor": 0
      },
      "text/plain": [
       "Validation: |          | 0/? [00:00<?, ?it/s]"
      ]
     },
     "metadata": {},
     "output_type": "display_data"
    },
    {
     "data": {
      "application/vnd.jupyter.widget-view+json": {
       "model_id": "193c65df02ac462a8d616cb05c9c232f",
       "version_major": 2,
       "version_minor": 0
      },
      "text/plain": [
       "Validation: |          | 0/? [00:00<?, ?it/s]"
      ]
     },
     "metadata": {},
     "output_type": "display_data"
    },
    {
     "data": {
      "application/vnd.jupyter.widget-view+json": {
       "model_id": "e570d8b581ee41f785dff9aca9f41ef7",
       "version_major": 2,
       "version_minor": 0
      },
      "text/plain": [
       "Validation: |          | 0/? [00:00<?, ?it/s]"
      ]
     },
     "metadata": {},
     "output_type": "display_data"
    },
    {
     "data": {
      "application/vnd.jupyter.widget-view+json": {
       "model_id": "15570b277b0540b4be79cb0ff00fbc61",
       "version_major": 2,
       "version_minor": 0
      },
      "text/plain": [
       "Validation: |          | 0/? [00:00<?, ?it/s]"
      ]
     },
     "metadata": {},
     "output_type": "display_data"
    },
    {
     "data": {
      "application/vnd.jupyter.widget-view+json": {
       "model_id": "d5433ca5809f4ba181f23d1ac8c244b8",
       "version_major": 2,
       "version_minor": 0
      },
      "text/plain": [
       "Validation: |          | 0/? [00:00<?, ?it/s]"
      ]
     },
     "metadata": {},
     "output_type": "display_data"
    },
    {
     "data": {
      "application/vnd.jupyter.widget-view+json": {
       "model_id": "e97e07f0126f423080f67d8310c837f7",
       "version_major": 2,
       "version_minor": 0
      },
      "text/plain": [
       "Validation: |          | 0/? [00:00<?, ?it/s]"
      ]
     },
     "metadata": {},
     "output_type": "display_data"
    },
    {
     "data": {
      "application/vnd.jupyter.widget-view+json": {
       "model_id": "265b7201a8914e0b95816bc91eff7441",
       "version_major": 2,
       "version_minor": 0
      },
      "text/plain": [
       "Validation: |          | 0/? [00:00<?, ?it/s]"
      ]
     },
     "metadata": {},
     "output_type": "display_data"
    },
    {
     "data": {
      "application/vnd.jupyter.widget-view+json": {
       "model_id": "56cbfa888ec54df08667dea36fa620df",
       "version_major": 2,
       "version_minor": 0
      },
      "text/plain": [
       "Validation: |          | 0/? [00:00<?, ?it/s]"
      ]
     },
     "metadata": {},
     "output_type": "display_data"
    },
    {
     "data": {
      "application/vnd.jupyter.widget-view+json": {
       "model_id": "9a387551fb6245638c146d332aee7464",
       "version_major": 2,
       "version_minor": 0
      },
      "text/plain": [
       "Validation: |          | 0/? [00:00<?, ?it/s]"
      ]
     },
     "metadata": {},
     "output_type": "display_data"
    },
    {
     "data": {
      "application/vnd.jupyter.widget-view+json": {
       "model_id": "f3cc162ebaba4555b121a345735f0e2f",
       "version_major": 2,
       "version_minor": 0
      },
      "text/plain": [
       "Validation: |          | 0/? [00:00<?, ?it/s]"
      ]
     },
     "metadata": {},
     "output_type": "display_data"
    },
    {
     "data": {
      "application/vnd.jupyter.widget-view+json": {
       "model_id": "ec80f4d99f834ce6a742c81b635b3c46",
       "version_major": 2,
       "version_minor": 0
      },
      "text/plain": [
       "Validation: |          | 0/? [00:00<?, ?it/s]"
      ]
     },
     "metadata": {},
     "output_type": "display_data"
    },
    {
     "data": {
      "application/vnd.jupyter.widget-view+json": {
       "model_id": "aa63af3ef52a4bf19e4117f05b5a4910",
       "version_major": 2,
       "version_minor": 0
      },
      "text/plain": [
       "Validation: |          | 0/? [00:00<?, ?it/s]"
      ]
     },
     "metadata": {},
     "output_type": "display_data"
    },
    {
     "data": {
      "application/vnd.jupyter.widget-view+json": {
       "model_id": "3e9e506029ba4ac08df3a9bc8d6f1abd",
       "version_major": 2,
       "version_minor": 0
      },
      "text/plain": [
       "Validation: |          | 0/? [00:00<?, ?it/s]"
      ]
     },
     "metadata": {},
     "output_type": "display_data"
    },
    {
     "data": {
      "application/vnd.jupyter.widget-view+json": {
       "model_id": "a90d0772b8c643a2a2ac9a92a5235a95",
       "version_major": 2,
       "version_minor": 0
      },
      "text/plain": [
       "Validation: |          | 0/? [00:00<?, ?it/s]"
      ]
     },
     "metadata": {},
     "output_type": "display_data"
    },
    {
     "data": {
      "application/vnd.jupyter.widget-view+json": {
       "model_id": "a602cb58f8994994bc201fa72ee5051f",
       "version_major": 2,
       "version_minor": 0
      },
      "text/plain": [
       "Validation: |          | 0/? [00:00<?, ?it/s]"
      ]
     },
     "metadata": {},
     "output_type": "display_data"
    },
    {
     "data": {
      "application/vnd.jupyter.widget-view+json": {
       "model_id": "5d877986df37494cb7df829ee357913a",
       "version_major": 2,
       "version_minor": 0
      },
      "text/plain": [
       "Validation: |          | 0/? [00:00<?, ?it/s]"
      ]
     },
     "metadata": {},
     "output_type": "display_data"
    },
    {
     "data": {
      "application/vnd.jupyter.widget-view+json": {
       "model_id": "6aeb37a26bab46aab0ef9720c8234ddf",
       "version_major": 2,
       "version_minor": 0
      },
      "text/plain": [
       "Validation: |          | 0/? [00:00<?, ?it/s]"
      ]
     },
     "metadata": {},
     "output_type": "display_data"
    },
    {
     "data": {
      "application/vnd.jupyter.widget-view+json": {
       "model_id": "e0a44bebd5d54b7cb05d4c30be4fd68f",
       "version_major": 2,
       "version_minor": 0
      },
      "text/plain": [
       "Validation: |          | 0/? [00:00<?, ?it/s]"
      ]
     },
     "metadata": {},
     "output_type": "display_data"
    },
    {
     "data": {
      "application/vnd.jupyter.widget-view+json": {
       "model_id": "8b2cfb62969d4b3d99b8ed9751351ae4",
       "version_major": 2,
       "version_minor": 0
      },
      "text/plain": [
       "Validation: |          | 0/? [00:00<?, ?it/s]"
      ]
     },
     "metadata": {},
     "output_type": "display_data"
    },
    {
     "data": {
      "application/vnd.jupyter.widget-view+json": {
       "model_id": "88bc0f56740e43f4b43c1d58af9b2c03",
       "version_major": 2,
       "version_minor": 0
      },
      "text/plain": [
       "Validation: |          | 0/? [00:00<?, ?it/s]"
      ]
     },
     "metadata": {},
     "output_type": "display_data"
    },
    {
     "data": {
      "application/vnd.jupyter.widget-view+json": {
       "model_id": "ff83f6cd3164498386e2eed8403f5d7d",
       "version_major": 2,
       "version_minor": 0
      },
      "text/plain": [
       "Validation: |          | 0/? [00:00<?, ?it/s]"
      ]
     },
     "metadata": {},
     "output_type": "display_data"
    },
    {
     "data": {
      "application/vnd.jupyter.widget-view+json": {
       "model_id": "43dc4af9cb7945b69acfbe61d9422f4f",
       "version_major": 2,
       "version_minor": 0
      },
      "text/plain": [
       "Validation: |          | 0/? [00:00<?, ?it/s]"
      ]
     },
     "metadata": {},
     "output_type": "display_data"
    },
    {
     "data": {
      "application/vnd.jupyter.widget-view+json": {
       "model_id": "caea785d56d9495cbaed475cc19ef280",
       "version_major": 2,
       "version_minor": 0
      },
      "text/plain": [
       "Validation: |          | 0/? [00:00<?, ?it/s]"
      ]
     },
     "metadata": {},
     "output_type": "display_data"
    },
    {
     "data": {
      "application/vnd.jupyter.widget-view+json": {
       "model_id": "4edcdc282d4a4cf0abecb047df3ab6a6",
       "version_major": 2,
       "version_minor": 0
      },
      "text/plain": [
       "Validation: |          | 0/? [00:00<?, ?it/s]"
      ]
     },
     "metadata": {},
     "output_type": "display_data"
    },
    {
     "data": {
      "application/vnd.jupyter.widget-view+json": {
       "model_id": "7f5f4f5ec15747fa8f962869a55ae7d2",
       "version_major": 2,
       "version_minor": 0
      },
      "text/plain": [
       "Validation: |          | 0/? [00:00<?, ?it/s]"
      ]
     },
     "metadata": {},
     "output_type": "display_data"
    },
    {
     "data": {
      "application/vnd.jupyter.widget-view+json": {
       "model_id": "1b90c30fed664d1887ff5f01aad9a190",
       "version_major": 2,
       "version_minor": 0
      },
      "text/plain": [
       "Validation: |          | 0/? [00:00<?, ?it/s]"
      ]
     },
     "metadata": {},
     "output_type": "display_data"
    },
    {
     "data": {
      "application/vnd.jupyter.widget-view+json": {
       "model_id": "8b7f366e844b48f299677736f41ba6ac",
       "version_major": 2,
       "version_minor": 0
      },
      "text/plain": [
       "Validation: |          | 0/? [00:00<?, ?it/s]"
      ]
     },
     "metadata": {},
     "output_type": "display_data"
    },
    {
     "data": {
      "application/vnd.jupyter.widget-view+json": {
       "model_id": "d528d861e18c4b69bcf0589ccaf52820",
       "version_major": 2,
       "version_minor": 0
      },
      "text/plain": [
       "Validation: |          | 0/? [00:00<?, ?it/s]"
      ]
     },
     "metadata": {},
     "output_type": "display_data"
    },
    {
     "data": {
      "application/vnd.jupyter.widget-view+json": {
       "model_id": "b5b7ee2562e1458c80a7a5290327f2ac",
       "version_major": 2,
       "version_minor": 0
      },
      "text/plain": [
       "Validation: |          | 0/? [00:00<?, ?it/s]"
      ]
     },
     "metadata": {},
     "output_type": "display_data"
    },
    {
     "data": {
      "application/vnd.jupyter.widget-view+json": {
       "model_id": "811ea87cc99642d7ab36522de07b1cb6",
       "version_major": 2,
       "version_minor": 0
      },
      "text/plain": [
       "Validation: |          | 0/? [00:00<?, ?it/s]"
      ]
     },
     "metadata": {},
     "output_type": "display_data"
    },
    {
     "data": {
      "application/vnd.jupyter.widget-view+json": {
       "model_id": "c2214d4b100f436dbc8a47cbe36bd65a",
       "version_major": 2,
       "version_minor": 0
      },
      "text/plain": [
       "Validation: |          | 0/? [00:00<?, ?it/s]"
      ]
     },
     "metadata": {},
     "output_type": "display_data"
    },
    {
     "data": {
      "application/vnd.jupyter.widget-view+json": {
       "model_id": "44d6e729034248728e0e3bcd9aff557f",
       "version_major": 2,
       "version_minor": 0
      },
      "text/plain": [
       "Validation: |          | 0/? [00:00<?, ?it/s]"
      ]
     },
     "metadata": {},
     "output_type": "display_data"
    },
    {
     "data": {
      "application/vnd.jupyter.widget-view+json": {
       "model_id": "8be6a2946c1f4c7286847447a1e71299",
       "version_major": 2,
       "version_minor": 0
      },
      "text/plain": [
       "Validation: |          | 0/? [00:00<?, ?it/s]"
      ]
     },
     "metadata": {},
     "output_type": "display_data"
    },
    {
     "data": {
      "application/vnd.jupyter.widget-view+json": {
       "model_id": "fbcfa5aa6a934680959b3faf9b524ad7",
       "version_major": 2,
       "version_minor": 0
      },
      "text/plain": [
       "Validation: |          | 0/? [00:00<?, ?it/s]"
      ]
     },
     "metadata": {},
     "output_type": "display_data"
    },
    {
     "data": {
      "application/vnd.jupyter.widget-view+json": {
       "model_id": "f4733fc6321041bc999a5a5833e20d3d",
       "version_major": 2,
       "version_minor": 0
      },
      "text/plain": [
       "Validation: |          | 0/? [00:00<?, ?it/s]"
      ]
     },
     "metadata": {},
     "output_type": "display_data"
    },
    {
     "data": {
      "application/vnd.jupyter.widget-view+json": {
       "model_id": "83f22ad6981d4acfb458aa3abde7d439",
       "version_major": 2,
       "version_minor": 0
      },
      "text/plain": [
       "Validation: |          | 0/? [00:00<?, ?it/s]"
      ]
     },
     "metadata": {},
     "output_type": "display_data"
    },
    {
     "data": {
      "application/vnd.jupyter.widget-view+json": {
       "model_id": "3e0b2389c1ad46d1ab6b188f43e730e4",
       "version_major": 2,
       "version_minor": 0
      },
      "text/plain": [
       "Validation: |          | 0/? [00:00<?, ?it/s]"
      ]
     },
     "metadata": {},
     "output_type": "display_data"
    },
    {
     "data": {
      "application/vnd.jupyter.widget-view+json": {
       "model_id": "7dfe896a232346b8bb94d4957e66cbb0",
       "version_major": 2,
       "version_minor": 0
      },
      "text/plain": [
       "Validation: |          | 0/? [00:00<?, ?it/s]"
      ]
     },
     "metadata": {},
     "output_type": "display_data"
    },
    {
     "data": {
      "application/vnd.jupyter.widget-view+json": {
       "model_id": "f2ec0bc7dda048bc93bd89f02ec240a4",
       "version_major": 2,
       "version_minor": 0
      },
      "text/plain": [
       "Validation: |          | 0/? [00:00<?, ?it/s]"
      ]
     },
     "metadata": {},
     "output_type": "display_data"
    },
    {
     "data": {
      "application/vnd.jupyter.widget-view+json": {
       "model_id": "64eff8beabe84e2c98d394cd117b9031",
       "version_major": 2,
       "version_minor": 0
      },
      "text/plain": [
       "Validation: |          | 0/? [00:00<?, ?it/s]"
      ]
     },
     "metadata": {},
     "output_type": "display_data"
    },
    {
     "data": {
      "application/vnd.jupyter.widget-view+json": {
       "model_id": "d6240d00a94e4dcba70f9259093164cf",
       "version_major": 2,
       "version_minor": 0
      },
      "text/plain": [
       "Validation: |          | 0/? [00:00<?, ?it/s]"
      ]
     },
     "metadata": {},
     "output_type": "display_data"
    },
    {
     "data": {
      "application/vnd.jupyter.widget-view+json": {
       "model_id": "6f6781d66d614eb9b85f8bbd12d36ed3",
       "version_major": 2,
       "version_minor": 0
      },
      "text/plain": [
       "Validation: |          | 0/? [00:00<?, ?it/s]"
      ]
     },
     "metadata": {},
     "output_type": "display_data"
    },
    {
     "data": {
      "application/vnd.jupyter.widget-view+json": {
       "model_id": "d7484ec480bf45d386e5460e74e60bca",
       "version_major": 2,
       "version_minor": 0
      },
      "text/plain": [
       "Validation: |          | 0/? [00:00<?, ?it/s]"
      ]
     },
     "metadata": {},
     "output_type": "display_data"
    },
    {
     "data": {
      "application/vnd.jupyter.widget-view+json": {
       "model_id": "7167c66dc026435b92f34cde9a125e3e",
       "version_major": 2,
       "version_minor": 0
      },
      "text/plain": [
       "Validation: |          | 0/? [00:00<?, ?it/s]"
      ]
     },
     "metadata": {},
     "output_type": "display_data"
    },
    {
     "data": {
      "application/vnd.jupyter.widget-view+json": {
       "model_id": "98e6b07d84d149a6bc6d3df66134f237",
       "version_major": 2,
       "version_minor": 0
      },
      "text/plain": [
       "Validation: |          | 0/? [00:00<?, ?it/s]"
      ]
     },
     "metadata": {},
     "output_type": "display_data"
    },
    {
     "data": {
      "application/vnd.jupyter.widget-view+json": {
       "model_id": "62caf4aa4ed5414abac23a9481f88733",
       "version_major": 2,
       "version_minor": 0
      },
      "text/plain": [
       "Validation: |          | 0/? [00:00<?, ?it/s]"
      ]
     },
     "metadata": {},
     "output_type": "display_data"
    },
    {
     "data": {
      "application/vnd.jupyter.widget-view+json": {
       "model_id": "f965cc3eb8f44cdb8d0dd03d1ac58c8a",
       "version_major": 2,
       "version_minor": 0
      },
      "text/plain": [
       "Validation: |          | 0/? [00:00<?, ?it/s]"
      ]
     },
     "metadata": {},
     "output_type": "display_data"
    },
    {
     "data": {
      "application/vnd.jupyter.widget-view+json": {
       "model_id": "aae9bee74d2e4d51a4116df0ff5d5527",
       "version_major": 2,
       "version_minor": 0
      },
      "text/plain": [
       "Validation: |          | 0/? [00:00<?, ?it/s]"
      ]
     },
     "metadata": {},
     "output_type": "display_data"
    },
    {
     "data": {
      "application/vnd.jupyter.widget-view+json": {
       "model_id": "5976f8fdb8514dc38eca26caa0f45b83",
       "version_major": 2,
       "version_minor": 0
      },
      "text/plain": [
       "Validation: |          | 0/? [00:00<?, ?it/s]"
      ]
     },
     "metadata": {},
     "output_type": "display_data"
    },
    {
     "data": {
      "application/vnd.jupyter.widget-view+json": {
       "model_id": "542e229e178b42e48701e6e707fffbd8",
       "version_major": 2,
       "version_minor": 0
      },
      "text/plain": [
       "Validation: |          | 0/? [00:00<?, ?it/s]"
      ]
     },
     "metadata": {},
     "output_type": "display_data"
    },
    {
     "data": {
      "application/vnd.jupyter.widget-view+json": {
       "model_id": "62a64d6f98804d7890e6b15bbb84d2f8",
       "version_major": 2,
       "version_minor": 0
      },
      "text/plain": [
       "Validation: |          | 0/? [00:00<?, ?it/s]"
      ]
     },
     "metadata": {},
     "output_type": "display_data"
    },
    {
     "data": {
      "application/vnd.jupyter.widget-view+json": {
       "model_id": "55e8e5cef8944d968d9c15f41ae96d87",
       "version_major": 2,
       "version_minor": 0
      },
      "text/plain": [
       "Validation: |          | 0/? [00:00<?, ?it/s]"
      ]
     },
     "metadata": {},
     "output_type": "display_data"
    },
    {
     "data": {
      "application/vnd.jupyter.widget-view+json": {
       "model_id": "5252398c5b044990962b875cb6a3c812",
       "version_major": 2,
       "version_minor": 0
      },
      "text/plain": [
       "Validation: |          | 0/? [00:00<?, ?it/s]"
      ]
     },
     "metadata": {},
     "output_type": "display_data"
    },
    {
     "data": {
      "application/vnd.jupyter.widget-view+json": {
       "model_id": "3f5bec92bcd14175b60e4475b908400d",
       "version_major": 2,
       "version_minor": 0
      },
      "text/plain": [
       "Validation: |          | 0/? [00:00<?, ?it/s]"
      ]
     },
     "metadata": {},
     "output_type": "display_data"
    },
    {
     "data": {
      "application/vnd.jupyter.widget-view+json": {
       "model_id": "75d55c0c42b44d8fb693576649d7c028",
       "version_major": 2,
       "version_minor": 0
      },
      "text/plain": [
       "Validation: |          | 0/? [00:00<?, ?it/s]"
      ]
     },
     "metadata": {},
     "output_type": "display_data"
    },
    {
     "data": {
      "application/vnd.jupyter.widget-view+json": {
       "model_id": "a0a3f49925124645959b5bc87feeb419",
       "version_major": 2,
       "version_minor": 0
      },
      "text/plain": [
       "Validation: |          | 0/? [00:00<?, ?it/s]"
      ]
     },
     "metadata": {},
     "output_type": "display_data"
    },
    {
     "data": {
      "application/vnd.jupyter.widget-view+json": {
       "model_id": "04b8e35da8dc4ff2ad24f1a155c63e78",
       "version_major": 2,
       "version_minor": 0
      },
      "text/plain": [
       "Validation: |          | 0/? [00:00<?, ?it/s]"
      ]
     },
     "metadata": {},
     "output_type": "display_data"
    },
    {
     "data": {
      "application/vnd.jupyter.widget-view+json": {
       "model_id": "ce78641b8b78423883834613374b6f72",
       "version_major": 2,
       "version_minor": 0
      },
      "text/plain": [
       "Validation: |          | 0/? [00:00<?, ?it/s]"
      ]
     },
     "metadata": {},
     "output_type": "display_data"
    },
    {
     "data": {
      "application/vnd.jupyter.widget-view+json": {
       "model_id": "b3b54b38705b4bb0901f70a72954787e",
       "version_major": 2,
       "version_minor": 0
      },
      "text/plain": [
       "Validation: |          | 0/? [00:00<?, ?it/s]"
      ]
     },
     "metadata": {},
     "output_type": "display_data"
    },
    {
     "data": {
      "application/vnd.jupyter.widget-view+json": {
       "model_id": "2f7971ac49e74904a3c110ff6af717f5",
       "version_major": 2,
       "version_minor": 0
      },
      "text/plain": [
       "Validation: |          | 0/? [00:00<?, ?it/s]"
      ]
     },
     "metadata": {},
     "output_type": "display_data"
    },
    {
     "data": {
      "application/vnd.jupyter.widget-view+json": {
       "model_id": "cebe9276c0ec41a6aa180078f27134d3",
       "version_major": 2,
       "version_minor": 0
      },
      "text/plain": [
       "Validation: |          | 0/? [00:00<?, ?it/s]"
      ]
     },
     "metadata": {},
     "output_type": "display_data"
    },
    {
     "data": {
      "application/vnd.jupyter.widget-view+json": {
       "model_id": "967736bfddd14e138a631c7340833ad0",
       "version_major": 2,
       "version_minor": 0
      },
      "text/plain": [
       "Validation: |          | 0/? [00:00<?, ?it/s]"
      ]
     },
     "metadata": {},
     "output_type": "display_data"
    },
    {
     "data": {
      "application/vnd.jupyter.widget-view+json": {
       "model_id": "83884e4069d44a228abaac08dabbf802",
       "version_major": 2,
       "version_minor": 0
      },
      "text/plain": [
       "Validation: |          | 0/? [00:00<?, ?it/s]"
      ]
     },
     "metadata": {},
     "output_type": "display_data"
    },
    {
     "data": {
      "application/vnd.jupyter.widget-view+json": {
       "model_id": "d00f3ba7881e4c128a4b07339858bfcd",
       "version_major": 2,
       "version_minor": 0
      },
      "text/plain": [
       "Validation: |          | 0/? [00:00<?, ?it/s]"
      ]
     },
     "metadata": {},
     "output_type": "display_data"
    },
    {
     "data": {
      "application/vnd.jupyter.widget-view+json": {
       "model_id": "39d308c6f8ab4449afbf06dc174797f3",
       "version_major": 2,
       "version_minor": 0
      },
      "text/plain": [
       "Validation: |          | 0/? [00:00<?, ?it/s]"
      ]
     },
     "metadata": {},
     "output_type": "display_data"
    },
    {
     "data": {
      "application/vnd.jupyter.widget-view+json": {
       "model_id": "87185e807e4a40478e713d672544b751",
       "version_major": 2,
       "version_minor": 0
      },
      "text/plain": [
       "Validation: |          | 0/? [00:00<?, ?it/s]"
      ]
     },
     "metadata": {},
     "output_type": "display_data"
    },
    {
     "data": {
      "application/vnd.jupyter.widget-view+json": {
       "model_id": "25abf574d0f54ec9bd0c323ec926aa60",
       "version_major": 2,
       "version_minor": 0
      },
      "text/plain": [
       "Validation: |          | 0/? [00:00<?, ?it/s]"
      ]
     },
     "metadata": {},
     "output_type": "display_data"
    },
    {
     "data": {
      "application/vnd.jupyter.widget-view+json": {
       "model_id": "8ca6d2259c8d47239071d19dae720b3a",
       "version_major": 2,
       "version_minor": 0
      },
      "text/plain": [
       "Validation: |          | 0/? [00:00<?, ?it/s]"
      ]
     },
     "metadata": {},
     "output_type": "display_data"
    },
    {
     "data": {
      "application/vnd.jupyter.widget-view+json": {
       "model_id": "599962e5de454a1a9d5b00be4825c567",
       "version_major": 2,
       "version_minor": 0
      },
      "text/plain": [
       "Validation: |          | 0/? [00:00<?, ?it/s]"
      ]
     },
     "metadata": {},
     "output_type": "display_data"
    },
    {
     "data": {
      "application/vnd.jupyter.widget-view+json": {
       "model_id": "d9940ec948d546eb8339bd72b76c8f02",
       "version_major": 2,
       "version_minor": 0
      },
      "text/plain": [
       "Validation: |          | 0/? [00:00<?, ?it/s]"
      ]
     },
     "metadata": {},
     "output_type": "display_data"
    },
    {
     "data": {
      "application/vnd.jupyter.widget-view+json": {
       "model_id": "7e70cbf6b42043dfbb3cfbf656b37ad7",
       "version_major": 2,
       "version_minor": 0
      },
      "text/plain": [
       "Validation: |          | 0/? [00:00<?, ?it/s]"
      ]
     },
     "metadata": {},
     "output_type": "display_data"
    },
    {
     "data": {
      "application/vnd.jupyter.widget-view+json": {
       "model_id": "78c24fec730e407691844e42be16f866",
       "version_major": 2,
       "version_minor": 0
      },
      "text/plain": [
       "Validation: |          | 0/? [00:00<?, ?it/s]"
      ]
     },
     "metadata": {},
     "output_type": "display_data"
    },
    {
     "data": {
      "application/vnd.jupyter.widget-view+json": {
       "model_id": "1ffafcff514b492c8d57ddd7a405ceac",
       "version_major": 2,
       "version_minor": 0
      },
      "text/plain": [
       "Validation: |          | 0/? [00:00<?, ?it/s]"
      ]
     },
     "metadata": {},
     "output_type": "display_data"
    },
    {
     "data": {
      "application/vnd.jupyter.widget-view+json": {
       "model_id": "034b474ed03e4fc6ae22458a8e8628fe",
       "version_major": 2,
       "version_minor": 0
      },
      "text/plain": [
       "Validation: |          | 0/? [00:00<?, ?it/s]"
      ]
     },
     "metadata": {},
     "output_type": "display_data"
    },
    {
     "data": {
      "application/vnd.jupyter.widget-view+json": {
       "model_id": "dd7521c3c8f0429f8b1d77e757724f70",
       "version_major": 2,
       "version_minor": 0
      },
      "text/plain": [
       "Validation: |          | 0/? [00:00<?, ?it/s]"
      ]
     },
     "metadata": {},
     "output_type": "display_data"
    },
    {
     "data": {
      "application/vnd.jupyter.widget-view+json": {
       "model_id": "97139202391a4e50aaca2ec4c3c6c8b0",
       "version_major": 2,
       "version_minor": 0
      },
      "text/plain": [
       "Validation: |          | 0/? [00:00<?, ?it/s]"
      ]
     },
     "metadata": {},
     "output_type": "display_data"
    },
    {
     "data": {
      "application/vnd.jupyter.widget-view+json": {
       "model_id": "bb916975c12047dda5688c5c091369ce",
       "version_major": 2,
       "version_minor": 0
      },
      "text/plain": [
       "Validation: |          | 0/? [00:00<?, ?it/s]"
      ]
     },
     "metadata": {},
     "output_type": "display_data"
    },
    {
     "data": {
      "application/vnd.jupyter.widget-view+json": {
       "model_id": "60985daf4c62465cb7dcfb3a2abe5fd9",
       "version_major": 2,
       "version_minor": 0
      },
      "text/plain": [
       "Validation: |          | 0/? [00:00<?, ?it/s]"
      ]
     },
     "metadata": {},
     "output_type": "display_data"
    },
    {
     "data": {
      "application/vnd.jupyter.widget-view+json": {
       "model_id": "b4a0ac47470a4e6cbbf360c725c368a3",
       "version_major": 2,
       "version_minor": 0
      },
      "text/plain": [
       "Validation: |          | 0/? [00:00<?, ?it/s]"
      ]
     },
     "metadata": {},
     "output_type": "display_data"
    },
    {
     "data": {
      "application/vnd.jupyter.widget-view+json": {
       "model_id": "11d45ca7bec24034a690551f77982c07",
       "version_major": 2,
       "version_minor": 0
      },
      "text/plain": [
       "Validation: |          | 0/? [00:00<?, ?it/s]"
      ]
     },
     "metadata": {},
     "output_type": "display_data"
    },
    {
     "data": {
      "application/vnd.jupyter.widget-view+json": {
       "model_id": "ded7fd247f104c10b276958ef5e85db1",
       "version_major": 2,
       "version_minor": 0
      },
      "text/plain": [
       "Validation: |          | 0/? [00:00<?, ?it/s]"
      ]
     },
     "metadata": {},
     "output_type": "display_data"
    },
    {
     "data": {
      "application/vnd.jupyter.widget-view+json": {
       "model_id": "c90d347025fa435caf357e61b32855c0",
       "version_major": 2,
       "version_minor": 0
      },
      "text/plain": [
       "Validation: |          | 0/? [00:00<?, ?it/s]"
      ]
     },
     "metadata": {},
     "output_type": "display_data"
    },
    {
     "data": {
      "application/vnd.jupyter.widget-view+json": {
       "model_id": "a088b0aeeca7415b8bac564646e97fce",
       "version_major": 2,
       "version_minor": 0
      },
      "text/plain": [
       "Validation: |          | 0/? [00:00<?, ?it/s]"
      ]
     },
     "metadata": {},
     "output_type": "display_data"
    },
    {
     "data": {
      "application/vnd.jupyter.widget-view+json": {
       "model_id": "1bdb98625e4e40008745126af1720334",
       "version_major": 2,
       "version_minor": 0
      },
      "text/plain": [
       "Validation: |          | 0/? [00:00<?, ?it/s]"
      ]
     },
     "metadata": {},
     "output_type": "display_data"
    },
    {
     "data": {
      "application/vnd.jupyter.widget-view+json": {
       "model_id": "2399f6890786408090c72ddfb96db460",
       "version_major": 2,
       "version_minor": 0
      },
      "text/plain": [
       "Validation: |          | 0/? [00:00<?, ?it/s]"
      ]
     },
     "metadata": {},
     "output_type": "display_data"
    },
    {
     "data": {
      "application/vnd.jupyter.widget-view+json": {
       "model_id": "fe8a66f9be6944bf904ebd26eacc213e",
       "version_major": 2,
       "version_minor": 0
      },
      "text/plain": [
       "Validation: |          | 0/? [00:00<?, ?it/s]"
      ]
     },
     "metadata": {},
     "output_type": "display_data"
    },
    {
     "data": {
      "application/vnd.jupyter.widget-view+json": {
       "model_id": "7a6cfbb5edd94bc6bd5bfe2d5d952f13",
       "version_major": 2,
       "version_minor": 0
      },
      "text/plain": [
       "Validation: |          | 0/? [00:00<?, ?it/s]"
      ]
     },
     "metadata": {},
     "output_type": "display_data"
    },
    {
     "data": {
      "application/vnd.jupyter.widget-view+json": {
       "model_id": "4dfd63a5007c47abb541427a48ebd88e",
       "version_major": 2,
       "version_minor": 0
      },
      "text/plain": [
       "Validation: |          | 0/? [00:00<?, ?it/s]"
      ]
     },
     "metadata": {},
     "output_type": "display_data"
    },
    {
     "data": {
      "application/vnd.jupyter.widget-view+json": {
       "model_id": "d5d7551cab054df79ff8a515aade41f7",
       "version_major": 2,
       "version_minor": 0
      },
      "text/plain": [
       "Validation: |          | 0/? [00:00<?, ?it/s]"
      ]
     },
     "metadata": {},
     "output_type": "display_data"
    },
    {
     "data": {
      "application/vnd.jupyter.widget-view+json": {
       "model_id": "864693b6f3134456a3d3fd1e8bd2fd74",
       "version_major": 2,
       "version_minor": 0
      },
      "text/plain": [
       "Validation: |          | 0/? [00:00<?, ?it/s]"
      ]
     },
     "metadata": {},
     "output_type": "display_data"
    },
    {
     "data": {
      "application/vnd.jupyter.widget-view+json": {
       "model_id": "f634c9352fc04923b62fea702336ad88",
       "version_major": 2,
       "version_minor": 0
      },
      "text/plain": [
       "Validation: |          | 0/? [00:00<?, ?it/s]"
      ]
     },
     "metadata": {},
     "output_type": "display_data"
    },
    {
     "data": {
      "application/vnd.jupyter.widget-view+json": {
       "model_id": "7dd02914670241cdac4993d8af844087",
       "version_major": 2,
       "version_minor": 0
      },
      "text/plain": [
       "Validation: |          | 0/? [00:00<?, ?it/s]"
      ]
     },
     "metadata": {},
     "output_type": "display_data"
    },
    {
     "data": {
      "application/vnd.jupyter.widget-view+json": {
       "model_id": "a788c7de4ca541cfba42ee11cb0671c8",
       "version_major": 2,
       "version_minor": 0
      },
      "text/plain": [
       "Validation: |          | 0/? [00:00<?, ?it/s]"
      ]
     },
     "metadata": {},
     "output_type": "display_data"
    },
    {
     "data": {
      "application/vnd.jupyter.widget-view+json": {
       "model_id": "9e75cd08b661417eb5dfb613a5c5012a",
       "version_major": 2,
       "version_minor": 0
      },
      "text/plain": [
       "Validation: |          | 0/? [00:00<?, ?it/s]"
      ]
     },
     "metadata": {},
     "output_type": "display_data"
    },
    {
     "data": {
      "application/vnd.jupyter.widget-view+json": {
       "model_id": "1e11d3f551584f8d863a6e664e841e7a",
       "version_major": 2,
       "version_minor": 0
      },
      "text/plain": [
       "Validation: |          | 0/? [00:00<?, ?it/s]"
      ]
     },
     "metadata": {},
     "output_type": "display_data"
    },
    {
     "data": {
      "application/vnd.jupyter.widget-view+json": {
       "model_id": "b3848e4dd6854db3a4754fadba0995fa",
       "version_major": 2,
       "version_minor": 0
      },
      "text/plain": [
       "Validation: |          | 0/? [00:00<?, ?it/s]"
      ]
     },
     "metadata": {},
     "output_type": "display_data"
    },
    {
     "data": {
      "application/vnd.jupyter.widget-view+json": {
       "model_id": "974ac8f710d8481f8af66fabf96d2a6d",
       "version_major": 2,
       "version_minor": 0
      },
      "text/plain": [
       "Validation: |          | 0/? [00:00<?, ?it/s]"
      ]
     },
     "metadata": {},
     "output_type": "display_data"
    },
    {
     "data": {
      "application/vnd.jupyter.widget-view+json": {
       "model_id": "2f67593e427d4ff0821eb22f0f1c9bf6",
       "version_major": 2,
       "version_minor": 0
      },
      "text/plain": [
       "Validation: |          | 0/? [00:00<?, ?it/s]"
      ]
     },
     "metadata": {},
     "output_type": "display_data"
    },
    {
     "data": {
      "application/vnd.jupyter.widget-view+json": {
       "model_id": "70d3ac98a946494899991f3547a50367",
       "version_major": 2,
       "version_minor": 0
      },
      "text/plain": [
       "Validation: |          | 0/? [00:00<?, ?it/s]"
      ]
     },
     "metadata": {},
     "output_type": "display_data"
    },
    {
     "data": {
      "application/vnd.jupyter.widget-view+json": {
       "model_id": "85f7ed29527f4f75a224f7339a273e06",
       "version_major": 2,
       "version_minor": 0
      },
      "text/plain": [
       "Validation: |          | 0/? [00:00<?, ?it/s]"
      ]
     },
     "metadata": {},
     "output_type": "display_data"
    },
    {
     "data": {
      "application/vnd.jupyter.widget-view+json": {
       "model_id": "572c3bab752f4a84b4410763e4513d9a",
       "version_major": 2,
       "version_minor": 0
      },
      "text/plain": [
       "Validation: |          | 0/? [00:00<?, ?it/s]"
      ]
     },
     "metadata": {},
     "output_type": "display_data"
    },
    {
     "data": {
      "application/vnd.jupyter.widget-view+json": {
       "model_id": "21bdd3cd6d2f41c8b0bb19c5f1fe1675",
       "version_major": 2,
       "version_minor": 0
      },
      "text/plain": [
       "Validation: |          | 0/? [00:00<?, ?it/s]"
      ]
     },
     "metadata": {},
     "output_type": "display_data"
    },
    {
     "data": {
      "application/vnd.jupyter.widget-view+json": {
       "model_id": "220602a720e94890b9cb059680192ff1",
       "version_major": 2,
       "version_minor": 0
      },
      "text/plain": [
       "Validation: |          | 0/? [00:00<?, ?it/s]"
      ]
     },
     "metadata": {},
     "output_type": "display_data"
    },
    {
     "data": {
      "application/vnd.jupyter.widget-view+json": {
       "model_id": "485a1a9bf62d4b2597539c346968514f",
       "version_major": 2,
       "version_minor": 0
      },
      "text/plain": [
       "Validation: |          | 0/? [00:00<?, ?it/s]"
      ]
     },
     "metadata": {},
     "output_type": "display_data"
    },
    {
     "data": {
      "application/vnd.jupyter.widget-view+json": {
       "model_id": "56e27825033741aa88a8222957833681",
       "version_major": 2,
       "version_minor": 0
      },
      "text/plain": [
       "Validation: |          | 0/? [00:00<?, ?it/s]"
      ]
     },
     "metadata": {},
     "output_type": "display_data"
    },
    {
     "data": {
      "application/vnd.jupyter.widget-view+json": {
       "model_id": "68f41c1402604916b56b82bba8faef30",
       "version_major": 2,
       "version_minor": 0
      },
      "text/plain": [
       "Validation: |          | 0/? [00:00<?, ?it/s]"
      ]
     },
     "metadata": {},
     "output_type": "display_data"
    },
    {
     "data": {
      "application/vnd.jupyter.widget-view+json": {
       "model_id": "05f33b4da8834088ac02acfc5afcb5ca",
       "version_major": 2,
       "version_minor": 0
      },
      "text/plain": [
       "Validation: |          | 0/? [00:00<?, ?it/s]"
      ]
     },
     "metadata": {},
     "output_type": "display_data"
    },
    {
     "data": {
      "application/vnd.jupyter.widget-view+json": {
       "model_id": "c2ff9b90c80242e996a43c1bdd6475ce",
       "version_major": 2,
       "version_minor": 0
      },
      "text/plain": [
       "Validation: |          | 0/? [00:00<?, ?it/s]"
      ]
     },
     "metadata": {},
     "output_type": "display_data"
    },
    {
     "data": {
      "application/vnd.jupyter.widget-view+json": {
       "model_id": "5a2579512ce048028f84424134444e93",
       "version_major": 2,
       "version_minor": 0
      },
      "text/plain": [
       "Validation: |          | 0/? [00:00<?, ?it/s]"
      ]
     },
     "metadata": {},
     "output_type": "display_data"
    },
    {
     "data": {
      "application/vnd.jupyter.widget-view+json": {
       "model_id": "6b078eddf35c426ca7fde2896dfae4b8",
       "version_major": 2,
       "version_minor": 0
      },
      "text/plain": [
       "Validation: |          | 0/? [00:00<?, ?it/s]"
      ]
     },
     "metadata": {},
     "output_type": "display_data"
    },
    {
     "data": {
      "application/vnd.jupyter.widget-view+json": {
       "model_id": "cc98707dd847402c9913fafe916d0487",
       "version_major": 2,
       "version_minor": 0
      },
      "text/plain": [
       "Validation: |          | 0/? [00:00<?, ?it/s]"
      ]
     },
     "metadata": {},
     "output_type": "display_data"
    },
    {
     "data": {
      "application/vnd.jupyter.widget-view+json": {
       "model_id": "38da37d138f1429e9393cf555ad2fd03",
       "version_major": 2,
       "version_minor": 0
      },
      "text/plain": [
       "Validation: |          | 0/? [00:00<?, ?it/s]"
      ]
     },
     "metadata": {},
     "output_type": "display_data"
    },
    {
     "data": {
      "application/vnd.jupyter.widget-view+json": {
       "model_id": "acbd2ed444854a72910a5c04ebe4eebd",
       "version_major": 2,
       "version_minor": 0
      },
      "text/plain": [
       "Validation: |          | 0/? [00:00<?, ?it/s]"
      ]
     },
     "metadata": {},
     "output_type": "display_data"
    },
    {
     "data": {
      "application/vnd.jupyter.widget-view+json": {
       "model_id": "c94457c4235344b7bd2ec55eefa6655b",
       "version_major": 2,
       "version_minor": 0
      },
      "text/plain": [
       "Validation: |          | 0/? [00:00<?, ?it/s]"
      ]
     },
     "metadata": {},
     "output_type": "display_data"
    },
    {
     "data": {
      "application/vnd.jupyter.widget-view+json": {
       "model_id": "c0531e9f469c426a893468959151ac1e",
       "version_major": 2,
       "version_minor": 0
      },
      "text/plain": [
       "Validation: |          | 0/? [00:00<?, ?it/s]"
      ]
     },
     "metadata": {},
     "output_type": "display_data"
    },
    {
     "data": {
      "application/vnd.jupyter.widget-view+json": {
       "model_id": "925df8e777cf43bf80cff124ac96cc5d",
       "version_major": 2,
       "version_minor": 0
      },
      "text/plain": [
       "Validation: |          | 0/? [00:00<?, ?it/s]"
      ]
     },
     "metadata": {},
     "output_type": "display_data"
    },
    {
     "data": {
      "application/vnd.jupyter.widget-view+json": {
       "model_id": "7c81fc52d7334abe9ef461af1b767d03",
       "version_major": 2,
       "version_minor": 0
      },
      "text/plain": [
       "Validation: |          | 0/? [00:00<?, ?it/s]"
      ]
     },
     "metadata": {},
     "output_type": "display_data"
    },
    {
     "data": {
      "application/vnd.jupyter.widget-view+json": {
       "model_id": "d8294107f28749f6b211ac112f21c087",
       "version_major": 2,
       "version_minor": 0
      },
      "text/plain": [
       "Validation: |          | 0/? [00:00<?, ?it/s]"
      ]
     },
     "metadata": {},
     "output_type": "display_data"
    },
    {
     "data": {
      "application/vnd.jupyter.widget-view+json": {
       "model_id": "96891fa4b35842bf84aa3cd1c284fdc4",
       "version_major": 2,
       "version_minor": 0
      },
      "text/plain": [
       "Validation: |          | 0/? [00:00<?, ?it/s]"
      ]
     },
     "metadata": {},
     "output_type": "display_data"
    },
    {
     "data": {
      "application/vnd.jupyter.widget-view+json": {
       "model_id": "a176cbc94a9b4dde8ee9eabbadb5df18",
       "version_major": 2,
       "version_minor": 0
      },
      "text/plain": [
       "Validation: |          | 0/? [00:00<?, ?it/s]"
      ]
     },
     "metadata": {},
     "output_type": "display_data"
    },
    {
     "data": {
      "application/vnd.jupyter.widget-view+json": {
       "model_id": "97cee08cbb074b3780a99baa3d3afd23",
       "version_major": 2,
       "version_minor": 0
      },
      "text/plain": [
       "Validation: |          | 0/? [00:00<?, ?it/s]"
      ]
     },
     "metadata": {},
     "output_type": "display_data"
    },
    {
     "data": {
      "application/vnd.jupyter.widget-view+json": {
       "model_id": "f4f8529031944d6389adc302009ae77a",
       "version_major": 2,
       "version_minor": 0
      },
      "text/plain": [
       "Validation: |          | 0/? [00:00<?, ?it/s]"
      ]
     },
     "metadata": {},
     "output_type": "display_data"
    },
    {
     "data": {
      "application/vnd.jupyter.widget-view+json": {
       "model_id": "18275a84611f484aa7b62bf6575c8b87",
       "version_major": 2,
       "version_minor": 0
      },
      "text/plain": [
       "Validation: |          | 0/? [00:00<?, ?it/s]"
      ]
     },
     "metadata": {},
     "output_type": "display_data"
    },
    {
     "data": {
      "application/vnd.jupyter.widget-view+json": {
       "model_id": "57505501d1da44cfa961a450f0f0fdd9",
       "version_major": 2,
       "version_minor": 0
      },
      "text/plain": [
       "Validation: |          | 0/? [00:00<?, ?it/s]"
      ]
     },
     "metadata": {},
     "output_type": "display_data"
    },
    {
     "data": {
      "application/vnd.jupyter.widget-view+json": {
       "model_id": "8ee196bbad2f4bca8d13cb5f72abab1b",
       "version_major": 2,
       "version_minor": 0
      },
      "text/plain": [
       "Validation: |          | 0/? [00:00<?, ?it/s]"
      ]
     },
     "metadata": {},
     "output_type": "display_data"
    },
    {
     "data": {
      "application/vnd.jupyter.widget-view+json": {
       "model_id": "c327e7795e0d4f3786896af74962d8ad",
       "version_major": 2,
       "version_minor": 0
      },
      "text/plain": [
       "Validation: |          | 0/? [00:00<?, ?it/s]"
      ]
     },
     "metadata": {},
     "output_type": "display_data"
    },
    {
     "data": {
      "application/vnd.jupyter.widget-view+json": {
       "model_id": "c2265045032d4d28a6cda523cc3f9fc2",
       "version_major": 2,
       "version_minor": 0
      },
      "text/plain": [
       "Validation: |          | 0/? [00:00<?, ?it/s]"
      ]
     },
     "metadata": {},
     "output_type": "display_data"
    },
    {
     "data": {
      "application/vnd.jupyter.widget-view+json": {
       "model_id": "526b480079ed45ccb080bfcd5f635d5e",
       "version_major": 2,
       "version_minor": 0
      },
      "text/plain": [
       "Validation: |          | 0/? [00:00<?, ?it/s]"
      ]
     },
     "metadata": {},
     "output_type": "display_data"
    },
    {
     "data": {
      "application/vnd.jupyter.widget-view+json": {
       "model_id": "33600c30b22945288eeb60b3e3fadac6",
       "version_major": 2,
       "version_minor": 0
      },
      "text/plain": [
       "Validation: |          | 0/? [00:00<?, ?it/s]"
      ]
     },
     "metadata": {},
     "output_type": "display_data"
    },
    {
     "data": {
      "application/vnd.jupyter.widget-view+json": {
       "model_id": "c5981acc1e364695be4bd83e5053847e",
       "version_major": 2,
       "version_minor": 0
      },
      "text/plain": [
       "Validation: |          | 0/? [00:00<?, ?it/s]"
      ]
     },
     "metadata": {},
     "output_type": "display_data"
    },
    {
     "data": {
      "application/vnd.jupyter.widget-view+json": {
       "model_id": "03ce42f790b945ffa538b6b3f7a7710d",
       "version_major": 2,
       "version_minor": 0
      },
      "text/plain": [
       "Validation: |          | 0/? [00:00<?, ?it/s]"
      ]
     },
     "metadata": {},
     "output_type": "display_data"
    },
    {
     "data": {
      "application/vnd.jupyter.widget-view+json": {
       "model_id": "e59d679ef8dd408ab31e85bff73777fc",
       "version_major": 2,
       "version_minor": 0
      },
      "text/plain": [
       "Validation: |          | 0/? [00:00<?, ?it/s]"
      ]
     },
     "metadata": {},
     "output_type": "display_data"
    },
    {
     "data": {
      "application/vnd.jupyter.widget-view+json": {
       "model_id": "4cd60eb44e004245b2df0b24ef2b423f",
       "version_major": 2,
       "version_minor": 0
      },
      "text/plain": [
       "Validation: |          | 0/? [00:00<?, ?it/s]"
      ]
     },
     "metadata": {},
     "output_type": "display_data"
    },
    {
     "data": {
      "application/vnd.jupyter.widget-view+json": {
       "model_id": "31f9d30acc514111bcc28528cfa04578",
       "version_major": 2,
       "version_minor": 0
      },
      "text/plain": [
       "Validation: |          | 0/? [00:00<?, ?it/s]"
      ]
     },
     "metadata": {},
     "output_type": "display_data"
    },
    {
     "data": {
      "application/vnd.jupyter.widget-view+json": {
       "model_id": "a983e9073e964322ac513906834f230e",
       "version_major": 2,
       "version_minor": 0
      },
      "text/plain": [
       "Validation: |          | 0/? [00:00<?, ?it/s]"
      ]
     },
     "metadata": {},
     "output_type": "display_data"
    },
    {
     "data": {
      "application/vnd.jupyter.widget-view+json": {
       "model_id": "b56345d1f29442be8283261d8af096ea",
       "version_major": 2,
       "version_minor": 0
      },
      "text/plain": [
       "Validation: |          | 0/? [00:00<?, ?it/s]"
      ]
     },
     "metadata": {},
     "output_type": "display_data"
    },
    {
     "data": {
      "application/vnd.jupyter.widget-view+json": {
       "model_id": "c17d27e90f61474882a3205b04a0b255",
       "version_major": 2,
       "version_minor": 0
      },
      "text/plain": [
       "Validation: |          | 0/? [00:00<?, ?it/s]"
      ]
     },
     "metadata": {},
     "output_type": "display_data"
    },
    {
     "data": {
      "application/vnd.jupyter.widget-view+json": {
       "model_id": "97c1062b9bd443158aa655068a14f35f",
       "version_major": 2,
       "version_minor": 0
      },
      "text/plain": [
       "Validation: |          | 0/? [00:00<?, ?it/s]"
      ]
     },
     "metadata": {},
     "output_type": "display_data"
    },
    {
     "data": {
      "application/vnd.jupyter.widget-view+json": {
       "model_id": "891593c101874f4fa6ef8d95ec9b676f",
       "version_major": 2,
       "version_minor": 0
      },
      "text/plain": [
       "Validation: |          | 0/? [00:00<?, ?it/s]"
      ]
     },
     "metadata": {},
     "output_type": "display_data"
    },
    {
     "data": {
      "application/vnd.jupyter.widget-view+json": {
       "model_id": "e4ec2e6fc66941dd8aa3ed9343ef4b3e",
       "version_major": 2,
       "version_minor": 0
      },
      "text/plain": [
       "Validation: |          | 0/? [00:00<?, ?it/s]"
      ]
     },
     "metadata": {},
     "output_type": "display_data"
    },
    {
     "data": {
      "application/vnd.jupyter.widget-view+json": {
       "model_id": "1369004c136047bb8ea0f56a784d557c",
       "version_major": 2,
       "version_minor": 0
      },
      "text/plain": [
       "Validation: |          | 0/? [00:00<?, ?it/s]"
      ]
     },
     "metadata": {},
     "output_type": "display_data"
    },
    {
     "data": {
      "application/vnd.jupyter.widget-view+json": {
       "model_id": "c5049fb158764f0db2af14e46bf7ee9b",
       "version_major": 2,
       "version_minor": 0
      },
      "text/plain": [
       "Validation: |          | 0/? [00:00<?, ?it/s]"
      ]
     },
     "metadata": {},
     "output_type": "display_data"
    },
    {
     "data": {
      "application/vnd.jupyter.widget-view+json": {
       "model_id": "cb7ae6435e844bceb503792cf1c2f3fe",
       "version_major": 2,
       "version_minor": 0
      },
      "text/plain": [
       "Validation: |          | 0/? [00:00<?, ?it/s]"
      ]
     },
     "metadata": {},
     "output_type": "display_data"
    },
    {
     "name": "stderr",
     "output_type": "stream",
     "text": [
      "`Trainer.fit` stopped: `max_epochs=800` reached.\n",
      "w:\\bigTool\\Anaconda\\envs\\AI\\lib\\site-packages\\lightning\\pytorch\\trainer\\configuration_validator.py:70: You defined a `validation_step` but have no `val_dataloader`. Skipping val loop.\n",
      "LOCAL_RANK: 0 - CUDA_VISIBLE_DEVICES: [0]\n",
      "\n",
      "  | Name    | Type    | Params | Mode \n",
      "--------------------------------------------\n",
      "0 | L2_loss | MSELoss | 0      | train\n",
      "1 | ad_net  | AD_Net  | 263 K  | train\n",
      "2 | c_net   | C_Net   | 131 K  | train\n",
      "3 | v_net   | V_Net   | 131 K  | train\n",
      "--------------------------------------------\n",
      "263 K     Trainable params\n",
      "0         Non-trainable params\n",
      "263 K     Total params\n",
      "1.054     Total estimated model params size (MB)\n",
      "44        Modules in train mode\n",
      "0         Modules in eval mode\n"
     ]
    },
    {
     "data": {
      "application/vnd.jupyter.widget-view+json": {
       "model_id": "f13452d187194f32bc79407a9c1441ba",
       "version_major": 2,
       "version_minor": 0
      },
      "text/plain": [
       "Training: |          | 0/? [00:00<?, ?it/s]"
      ]
     },
     "metadata": {},
     "output_type": "display_data"
    },
    {
     "name": "stderr",
     "output_type": "stream",
     "text": [
      "`Trainer.fit` stopped: `max_epochs=1600` reached.\n",
      "LOCAL_RANK: 0 - CUDA_VISIBLE_DEVICES: [0]\n",
      "\n",
      "  | Name    | Type    | Params | Mode \n",
      "--------------------------------------------\n",
      "0 | L2_loss | MSELoss | 0      | train\n",
      "1 | ad_net  | AD_Net  | 263 K  | train\n",
      "2 | c_net   | C_Net   | 131 K  | eval \n",
      "3 | v_net   | V_Net   | 131 K  | train\n",
      "--------------------------------------------\n",
      "131 K     Trainable params\n",
      "131 K     Non-trainable params\n",
      "263 K     Total params\n",
      "1.054     Total estimated model params size (MB)\n",
      "22        Modules in train mode\n",
      "22        Modules in eval mode\n"
     ]
    },
    {
     "data": {
      "application/vnd.jupyter.widget-view+json": {
       "model_id": "2e5c01e2e62d403e826fc4fb4bcb10ac",
       "version_major": 2,
       "version_minor": 0
      },
      "text/plain": [
       "Sanity Checking: |          | 0/? [00:00<?, ?it/s]"
      ]
     },
     "metadata": {},
     "output_type": "display_data"
    },
    {
     "name": "stderr",
     "output_type": "stream",
     "text": [
      "w:\\bigTool\\Anaconda\\envs\\AI\\lib\\site-packages\\lightning\\pytorch\\loops\\fit_loop.py:527: Found 22 module(s) in eval mode at the start of training. This may lead to unexpected behavior during training. If this is intentional, you can ignore this warning.\n"
     ]
    },
    {
     "data": {
      "application/vnd.jupyter.widget-view+json": {
       "model_id": "7773ed74826b4aacab2f08fd3ceee8ed",
       "version_major": 2,
       "version_minor": 0
      },
      "text/plain": [
       "Training: |          | 0/? [00:00<?, ?it/s]"
      ]
     },
     "metadata": {},
     "output_type": "display_data"
    },
    {
     "data": {
      "application/vnd.jupyter.widget-view+json": {
       "model_id": "83bd617d8b744df888a7fa398c171d96",
       "version_major": 2,
       "version_minor": 0
      },
      "text/plain": [
       "Validation: |          | 0/? [00:00<?, ?it/s]"
      ]
     },
     "metadata": {},
     "output_type": "display_data"
    },
    {
     "data": {
      "application/vnd.jupyter.widget-view+json": {
       "model_id": "505a50c01eb7412780ebd920f7ceacad",
       "version_major": 2,
       "version_minor": 0
      },
      "text/plain": [
       "Validation: |          | 0/? [00:00<?, ?it/s]"
      ]
     },
     "metadata": {},
     "output_type": "display_data"
    },
    {
     "data": {
      "application/vnd.jupyter.widget-view+json": {
       "model_id": "786d011f2cc54ebb8190950973ff839d",
       "version_major": 2,
       "version_minor": 0
      },
      "text/plain": [
       "Validation: |          | 0/? [00:00<?, ?it/s]"
      ]
     },
     "metadata": {},
     "output_type": "display_data"
    },
    {
     "data": {
      "application/vnd.jupyter.widget-view+json": {
       "model_id": "c470ff26c25d43d380857f93bdf9baa0",
       "version_major": 2,
       "version_minor": 0
      },
      "text/plain": [
       "Validation: |          | 0/? [00:00<?, ?it/s]"
      ]
     },
     "metadata": {},
     "output_type": "display_data"
    },
    {
     "data": {
      "application/vnd.jupyter.widget-view+json": {
       "model_id": "90e59facaae344d2b75283dc6d76caa2",
       "version_major": 2,
       "version_minor": 0
      },
      "text/plain": [
       "Validation: |          | 0/? [00:00<?, ?it/s]"
      ]
     },
     "metadata": {},
     "output_type": "display_data"
    },
    {
     "data": {
      "application/vnd.jupyter.widget-view+json": {
       "model_id": "7246cdd04407447aa3ea3e5b4b84e38f",
       "version_major": 2,
       "version_minor": 0
      },
      "text/plain": [
       "Validation: |          | 0/? [00:00<?, ?it/s]"
      ]
     },
     "metadata": {},
     "output_type": "display_data"
    },
    {
     "data": {
      "application/vnd.jupyter.widget-view+json": {
       "model_id": "2dd89c832a914738adc1eabe7c6f65bf",
       "version_major": 2,
       "version_minor": 0
      },
      "text/plain": [
       "Validation: |          | 0/? [00:00<?, ?it/s]"
      ]
     },
     "metadata": {},
     "output_type": "display_data"
    },
    {
     "data": {
      "application/vnd.jupyter.widget-view+json": {
       "model_id": "9745b03a389d4c5b82a3c454446c4a72",
       "version_major": 2,
       "version_minor": 0
      },
      "text/plain": [
       "Validation: |          | 0/? [00:00<?, ?it/s]"
      ]
     },
     "metadata": {},
     "output_type": "display_data"
    },
    {
     "data": {
      "application/vnd.jupyter.widget-view+json": {
       "model_id": "2ff2badd14c4434492c7466a73353eaa",
       "version_major": 2,
       "version_minor": 0
      },
      "text/plain": [
       "Validation: |          | 0/? [00:00<?, ?it/s]"
      ]
     },
     "metadata": {},
     "output_type": "display_data"
    },
    {
     "data": {
      "application/vnd.jupyter.widget-view+json": {
       "model_id": "e66d954b706847dfaec0ee4a80e74b22",
       "version_major": 2,
       "version_minor": 0
      },
      "text/plain": [
       "Validation: |          | 0/? [00:00<?, ?it/s]"
      ]
     },
     "metadata": {},
     "output_type": "display_data"
    },
    {
     "data": {
      "application/vnd.jupyter.widget-view+json": {
       "model_id": "37ee266b34c645319020683f92b47cc4",
       "version_major": 2,
       "version_minor": 0
      },
      "text/plain": [
       "Validation: |          | 0/? [00:00<?, ?it/s]"
      ]
     },
     "metadata": {},
     "output_type": "display_data"
    },
    {
     "data": {
      "application/vnd.jupyter.widget-view+json": {
       "model_id": "9fcf5d60380f409dab86cd16e7cfdcfb",
       "version_major": 2,
       "version_minor": 0
      },
      "text/plain": [
       "Validation: |          | 0/? [00:00<?, ?it/s]"
      ]
     },
     "metadata": {},
     "output_type": "display_data"
    },
    {
     "data": {
      "application/vnd.jupyter.widget-view+json": {
       "model_id": "17ff103f4e4942a2bd558b3f9a239611",
       "version_major": 2,
       "version_minor": 0
      },
      "text/plain": [
       "Validation: |          | 0/? [00:00<?, ?it/s]"
      ]
     },
     "metadata": {},
     "output_type": "display_data"
    },
    {
     "data": {
      "application/vnd.jupyter.widget-view+json": {
       "model_id": "ba0de56f716f4a6685d1831e2e99d510",
       "version_major": 2,
       "version_minor": 0
      },
      "text/plain": [
       "Validation: |          | 0/? [00:00<?, ?it/s]"
      ]
     },
     "metadata": {},
     "output_type": "display_data"
    },
    {
     "data": {
      "application/vnd.jupyter.widget-view+json": {
       "model_id": "6b370289ae5749898d954d818a6ccae6",
       "version_major": 2,
       "version_minor": 0
      },
      "text/plain": [
       "Validation: |          | 0/? [00:00<?, ?it/s]"
      ]
     },
     "metadata": {},
     "output_type": "display_data"
    },
    {
     "data": {
      "application/vnd.jupyter.widget-view+json": {
       "model_id": "068d671a5bcf4784a70b5bbde36e73c8",
       "version_major": 2,
       "version_minor": 0
      },
      "text/plain": [
       "Validation: |          | 0/? [00:00<?, ?it/s]"
      ]
     },
     "metadata": {},
     "output_type": "display_data"
    },
    {
     "data": {
      "application/vnd.jupyter.widget-view+json": {
       "model_id": "b3b5626ac0a54466b572133b1175149f",
       "version_major": 2,
       "version_minor": 0
      },
      "text/plain": [
       "Validation: |          | 0/? [00:00<?, ?it/s]"
      ]
     },
     "metadata": {},
     "output_type": "display_data"
    },
    {
     "data": {
      "application/vnd.jupyter.widget-view+json": {
       "model_id": "144439b5164a43b6bb5389165f8069d0",
       "version_major": 2,
       "version_minor": 0
      },
      "text/plain": [
       "Validation: |          | 0/? [00:00<?, ?it/s]"
      ]
     },
     "metadata": {},
     "output_type": "display_data"
    },
    {
     "data": {
      "application/vnd.jupyter.widget-view+json": {
       "model_id": "1c7034b5f46f469580f5d902c5dffd5b",
       "version_major": 2,
       "version_minor": 0
      },
      "text/plain": [
       "Validation: |          | 0/? [00:00<?, ?it/s]"
      ]
     },
     "metadata": {},
     "output_type": "display_data"
    },
    {
     "data": {
      "application/vnd.jupyter.widget-view+json": {
       "model_id": "6e3e4f785dde4cbf94194cea5de20b07",
       "version_major": 2,
       "version_minor": 0
      },
      "text/plain": [
       "Validation: |          | 0/? [00:00<?, ?it/s]"
      ]
     },
     "metadata": {},
     "output_type": "display_data"
    },
    {
     "name": "stderr",
     "output_type": "stream",
     "text": [
      "`Trainer.fit` stopped: `max_epochs=1620` reached.\n",
      "LOCAL_RANK: 0 - CUDA_VISIBLE_DEVICES: [0]\n",
      "\n",
      "  | Name    | Type    | Params | Mode \n",
      "--------------------------------------------\n",
      "0 | L2_loss | MSELoss | 0      | train\n",
      "1 | ad_net  | AD_Net  | 263 K  | train\n",
      "2 | c_net   | C_Net   | 131 K  | train\n",
      "3 | v_net   | V_Net   | 131 K  | train\n",
      "--------------------------------------------\n",
      "263 K     Trainable params\n",
      "0         Non-trainable params\n",
      "263 K     Total params\n",
      "1.054     Total estimated model params size (MB)\n",
      "44        Modules in train mode\n",
      "0         Modules in eval mode\n"
     ]
    },
    {
     "data": {
      "application/vnd.jupyter.widget-view+json": {
       "model_id": "a079754b392443aba2e94f09ef6f5206",
       "version_major": 2,
       "version_minor": 0
      },
      "text/plain": [
       "Sanity Checking: |          | 0/? [00:00<?, ?it/s]"
      ]
     },
     "metadata": {},
     "output_type": "display_data"
    },
    {
     "data": {
      "application/vnd.jupyter.widget-view+json": {
       "model_id": "a61473d085c441b0b84d1d7671e23b3d",
       "version_major": 2,
       "version_minor": 0
      },
      "text/plain": [
       "Training: |          | 0/? [00:00<?, ?it/s]"
      ]
     },
     "metadata": {},
     "output_type": "display_data"
    },
    {
     "data": {
      "application/vnd.jupyter.widget-view+json": {
       "model_id": "01bad599cc824ee18ceca7f16446ac40",
       "version_major": 2,
       "version_minor": 0
      },
      "text/plain": [
       "Validation: |          | 0/? [00:00<?, ?it/s]"
      ]
     },
     "metadata": {},
     "output_type": "display_data"
    },
    {
     "data": {
      "application/vnd.jupyter.widget-view+json": {
       "model_id": "6b7c34672f2549bc81dd156a9281d8a7",
       "version_major": 2,
       "version_minor": 0
      },
      "text/plain": [
       "Validation: |          | 0/? [00:00<?, ?it/s]"
      ]
     },
     "metadata": {},
     "output_type": "display_data"
    },
    {
     "data": {
      "application/vnd.jupyter.widget-view+json": {
       "model_id": "d5cba965d9cf4a48a8f7b6b29fccfdba",
       "version_major": 2,
       "version_minor": 0
      },
      "text/plain": [
       "Validation: |          | 0/? [00:00<?, ?it/s]"
      ]
     },
     "metadata": {},
     "output_type": "display_data"
    },
    {
     "data": {
      "application/vnd.jupyter.widget-view+json": {
       "model_id": "f69924160c5145d9907ae0609729fbdc",
       "version_major": 2,
       "version_minor": 0
      },
      "text/plain": [
       "Validation: |          | 0/? [00:00<?, ?it/s]"
      ]
     },
     "metadata": {},
     "output_type": "display_data"
    },
    {
     "data": {
      "application/vnd.jupyter.widget-view+json": {
       "model_id": "dc05267a067e4bf88481f659f194976f",
       "version_major": 2,
       "version_minor": 0
      },
      "text/plain": [
       "Validation: |          | 0/? [00:00<?, ?it/s]"
      ]
     },
     "metadata": {},
     "output_type": "display_data"
    },
    {
     "data": {
      "application/vnd.jupyter.widget-view+json": {
       "model_id": "52513671def24117a329257029a1013d",
       "version_major": 2,
       "version_minor": 0
      },
      "text/plain": [
       "Validation: |          | 0/? [00:00<?, ?it/s]"
      ]
     },
     "metadata": {},
     "output_type": "display_data"
    },
    {
     "data": {
      "application/vnd.jupyter.widget-view+json": {
       "model_id": "3a8371f4a794439e87d42d834754aa86",
       "version_major": 2,
       "version_minor": 0
      },
      "text/plain": [
       "Validation: |          | 0/? [00:00<?, ?it/s]"
      ]
     },
     "metadata": {},
     "output_type": "display_data"
    },
    {
     "data": {
      "application/vnd.jupyter.widget-view+json": {
       "model_id": "4a182589ec664135a06cdc8150f93773",
       "version_major": 2,
       "version_minor": 0
      },
      "text/plain": [
       "Validation: |          | 0/? [00:00<?, ?it/s]"
      ]
     },
     "metadata": {},
     "output_type": "display_data"
    },
    {
     "data": {
      "application/vnd.jupyter.widget-view+json": {
       "model_id": "e6c203a0c6774038acbdd1e052d8e733",
       "version_major": 2,
       "version_minor": 0
      },
      "text/plain": [
       "Validation: |          | 0/? [00:00<?, ?it/s]"
      ]
     },
     "metadata": {},
     "output_type": "display_data"
    },
    {
     "data": {
      "application/vnd.jupyter.widget-view+json": {
       "model_id": "80820ed8cd534a88b23712a1a21df247",
       "version_major": 2,
       "version_minor": 0
      },
      "text/plain": [
       "Validation: |          | 0/? [00:00<?, ?it/s]"
      ]
     },
     "metadata": {},
     "output_type": "display_data"
    },
    {
     "data": {
      "application/vnd.jupyter.widget-view+json": {
       "model_id": "b7e3dd568a2f4393bb60611e40b9ba57",
       "version_major": 2,
       "version_minor": 0
      },
      "text/plain": [
       "Validation: |          | 0/? [00:00<?, ?it/s]"
      ]
     },
     "metadata": {},
     "output_type": "display_data"
    },
    {
     "data": {
      "application/vnd.jupyter.widget-view+json": {
       "model_id": "ddbdda04f339405f864a18de22519628",
       "version_major": 2,
       "version_minor": 0
      },
      "text/plain": [
       "Validation: |          | 0/? [00:00<?, ?it/s]"
      ]
     },
     "metadata": {},
     "output_type": "display_data"
    },
    {
     "data": {
      "application/vnd.jupyter.widget-view+json": {
       "model_id": "23cdd13c3d72484ebbd82418d72e44ec",
       "version_major": 2,
       "version_minor": 0
      },
      "text/plain": [
       "Validation: |          | 0/? [00:00<?, ?it/s]"
      ]
     },
     "metadata": {},
     "output_type": "display_data"
    },
    {
     "data": {
      "application/vnd.jupyter.widget-view+json": {
       "model_id": "e11964aea9614e7a848146d9bb687be0",
       "version_major": 2,
       "version_minor": 0
      },
      "text/plain": [
       "Validation: |          | 0/? [00:00<?, ?it/s]"
      ]
     },
     "metadata": {},
     "output_type": "display_data"
    },
    {
     "data": {
      "application/vnd.jupyter.widget-view+json": {
       "model_id": "a869d5ebd143497c89d0d832695c3191",
       "version_major": 2,
       "version_minor": 0
      },
      "text/plain": [
       "Validation: |          | 0/? [00:00<?, ?it/s]"
      ]
     },
     "metadata": {},
     "output_type": "display_data"
    },
    {
     "data": {
      "application/vnd.jupyter.widget-view+json": {
       "model_id": "ca72776710af4677901d688dafe96133",
       "version_major": 2,
       "version_minor": 0
      },
      "text/plain": [
       "Validation: |          | 0/? [00:00<?, ?it/s]"
      ]
     },
     "metadata": {},
     "output_type": "display_data"
    },
    {
     "data": {
      "application/vnd.jupyter.widget-view+json": {
       "model_id": "7106ae9a27024b3bb2e1d39a1f43e9d0",
       "version_major": 2,
       "version_minor": 0
      },
      "text/plain": [
       "Validation: |          | 0/? [00:00<?, ?it/s]"
      ]
     },
     "metadata": {},
     "output_type": "display_data"
    },
    {
     "data": {
      "application/vnd.jupyter.widget-view+json": {
       "model_id": "08b56c79fdfa4364a17d31b49f0b6ce9",
       "version_major": 2,
       "version_minor": 0
      },
      "text/plain": [
       "Validation: |          | 0/? [00:00<?, ?it/s]"
      ]
     },
     "metadata": {},
     "output_type": "display_data"
    },
    {
     "data": {
      "application/vnd.jupyter.widget-view+json": {
       "model_id": "43f1b132f6034069bf56877f4a1f6983",
       "version_major": 2,
       "version_minor": 0
      },
      "text/plain": [
       "Validation: |          | 0/? [00:00<?, ?it/s]"
      ]
     },
     "metadata": {},
     "output_type": "display_data"
    },
    {
     "data": {
      "application/vnd.jupyter.widget-view+json": {
       "model_id": "c33fd94abbdb49fbbced8c19fa470da1",
       "version_major": 2,
       "version_minor": 0
      },
      "text/plain": [
       "Validation: |          | 0/? [00:00<?, ?it/s]"
      ]
     },
     "metadata": {},
     "output_type": "display_data"
    },
    {
     "data": {
      "application/vnd.jupyter.widget-view+json": {
       "model_id": "fe9473653f174d3f87be79f60e0d574f",
       "version_major": 2,
       "version_minor": 0
      },
      "text/plain": [
       "Validation: |          | 0/? [00:00<?, ?it/s]"
      ]
     },
     "metadata": {},
     "output_type": "display_data"
    },
    {
     "data": {
      "application/vnd.jupyter.widget-view+json": {
       "model_id": "ddd9d347c04049cd9984b9987c67591d",
       "version_major": 2,
       "version_minor": 0
      },
      "text/plain": [
       "Validation: |          | 0/? [00:00<?, ?it/s]"
      ]
     },
     "metadata": {},
     "output_type": "display_data"
    },
    {
     "data": {
      "application/vnd.jupyter.widget-view+json": {
       "model_id": "5680c0fbb9ed421eaa11b283ba9da4b6",
       "version_major": 2,
       "version_minor": 0
      },
      "text/plain": [
       "Validation: |          | 0/? [00:00<?, ?it/s]"
      ]
     },
     "metadata": {},
     "output_type": "display_data"
    },
    {
     "data": {
      "application/vnd.jupyter.widget-view+json": {
       "model_id": "5b3150078f264589b8eec3a638bdebd3",
       "version_major": 2,
       "version_minor": 0
      },
      "text/plain": [
       "Validation: |          | 0/? [00:00<?, ?it/s]"
      ]
     },
     "metadata": {},
     "output_type": "display_data"
    },
    {
     "data": {
      "application/vnd.jupyter.widget-view+json": {
       "model_id": "61ba1f5c2c73475494c8bfd01df5935e",
       "version_major": 2,
       "version_minor": 0
      },
      "text/plain": [
       "Validation: |          | 0/? [00:00<?, ?it/s]"
      ]
     },
     "metadata": {},
     "output_type": "display_data"
    },
    {
     "data": {
      "application/vnd.jupyter.widget-view+json": {
       "model_id": "9320a890a90244c38ac88c9e8114a248",
       "version_major": 2,
       "version_minor": 0
      },
      "text/plain": [
       "Validation: |          | 0/? [00:00<?, ?it/s]"
      ]
     },
     "metadata": {},
     "output_type": "display_data"
    },
    {
     "data": {
      "application/vnd.jupyter.widget-view+json": {
       "model_id": "d06bbdbafce643bca879f78bea56152c",
       "version_major": 2,
       "version_minor": 0
      },
      "text/plain": [
       "Validation: |          | 0/? [00:00<?, ?it/s]"
      ]
     },
     "metadata": {},
     "output_type": "display_data"
    },
    {
     "data": {
      "application/vnd.jupyter.widget-view+json": {
       "model_id": "bd925b6cbf2149a0a8df187baa5505d3",
       "version_major": 2,
       "version_minor": 0
      },
      "text/plain": [
       "Validation: |          | 0/? [00:00<?, ?it/s]"
      ]
     },
     "metadata": {},
     "output_type": "display_data"
    },
    {
     "data": {
      "application/vnd.jupyter.widget-view+json": {
       "model_id": "ad1cc98ab3a84282aecc79f21b63c13e",
       "version_major": 2,
       "version_minor": 0
      },
      "text/plain": [
       "Validation: |          | 0/? [00:00<?, ?it/s]"
      ]
     },
     "metadata": {},
     "output_type": "display_data"
    },
    {
     "data": {
      "application/vnd.jupyter.widget-view+json": {
       "model_id": "ce4db3759c3a4113a675e2ff0c89b2ea",
       "version_major": 2,
       "version_minor": 0
      },
      "text/plain": [
       "Validation: |          | 0/? [00:00<?, ?it/s]"
      ]
     },
     "metadata": {},
     "output_type": "display_data"
    },
    {
     "data": {
      "application/vnd.jupyter.widget-view+json": {
       "model_id": "ba13f826c4f04dd6a8ebcf51c93dee74",
       "version_major": 2,
       "version_minor": 0
      },
      "text/plain": [
       "Validation: |          | 0/? [00:00<?, ?it/s]"
      ]
     },
     "metadata": {},
     "output_type": "display_data"
    },
    {
     "data": {
      "application/vnd.jupyter.widget-view+json": {
       "model_id": "a7e854a8a59c49598739a002a7f02fdb",
       "version_major": 2,
       "version_minor": 0
      },
      "text/plain": [
       "Validation: |          | 0/? [00:00<?, ?it/s]"
      ]
     },
     "metadata": {},
     "output_type": "display_data"
    },
    {
     "data": {
      "application/vnd.jupyter.widget-view+json": {
       "model_id": "3e47afd73f09423996ddf7cb6948a36b",
       "version_major": 2,
       "version_minor": 0
      },
      "text/plain": [
       "Validation: |          | 0/? [00:00<?, ?it/s]"
      ]
     },
     "metadata": {},
     "output_type": "display_data"
    },
    {
     "data": {
      "application/vnd.jupyter.widget-view+json": {
       "model_id": "e2fd588e0280447dbfaf887d82572361",
       "version_major": 2,
       "version_minor": 0
      },
      "text/plain": [
       "Validation: |          | 0/? [00:00<?, ?it/s]"
      ]
     },
     "metadata": {},
     "output_type": "display_data"
    },
    {
     "data": {
      "application/vnd.jupyter.widget-view+json": {
       "model_id": "20069fb1bc4d4bd2aa06eaf2415bba13",
       "version_major": 2,
       "version_minor": 0
      },
      "text/plain": [
       "Validation: |          | 0/? [00:00<?, ?it/s]"
      ]
     },
     "metadata": {},
     "output_type": "display_data"
    },
    {
     "data": {
      "application/vnd.jupyter.widget-view+json": {
       "model_id": "dd6e09d1fe314daca21c642e45d0558a",
       "version_major": 2,
       "version_minor": 0
      },
      "text/plain": [
       "Validation: |          | 0/? [00:00<?, ?it/s]"
      ]
     },
     "metadata": {},
     "output_type": "display_data"
    },
    {
     "data": {
      "application/vnd.jupyter.widget-view+json": {
       "model_id": "f55954eca2304c9081bff0489cbb3e4f",
       "version_major": 2,
       "version_minor": 0
      },
      "text/plain": [
       "Validation: |          | 0/? [00:00<?, ?it/s]"
      ]
     },
     "metadata": {},
     "output_type": "display_data"
    },
    {
     "data": {
      "application/vnd.jupyter.widget-view+json": {
       "model_id": "0d8d0964f01d46e8a7723dd2d63484ea",
       "version_major": 2,
       "version_minor": 0
      },
      "text/plain": [
       "Validation: |          | 0/? [00:00<?, ?it/s]"
      ]
     },
     "metadata": {},
     "output_type": "display_data"
    },
    {
     "data": {
      "application/vnd.jupyter.widget-view+json": {
       "model_id": "3722d40dba64470788235aefaf6f7349",
       "version_major": 2,
       "version_minor": 0
      },
      "text/plain": [
       "Validation: |          | 0/? [00:00<?, ?it/s]"
      ]
     },
     "metadata": {},
     "output_type": "display_data"
    },
    {
     "data": {
      "application/vnd.jupyter.widget-view+json": {
       "model_id": "26ff798221c84f08a78975e6621abdd5",
       "version_major": 2,
       "version_minor": 0
      },
      "text/plain": [
       "Validation: |          | 0/? [00:00<?, ?it/s]"
      ]
     },
     "metadata": {},
     "output_type": "display_data"
    },
    {
     "data": {
      "application/vnd.jupyter.widget-view+json": {
       "model_id": "d6961803ecb541fb8aa9131e29d2e9c4",
       "version_major": 2,
       "version_minor": 0
      },
      "text/plain": [
       "Validation: |          | 0/? [00:00<?, ?it/s]"
      ]
     },
     "metadata": {},
     "output_type": "display_data"
    },
    {
     "data": {
      "application/vnd.jupyter.widget-view+json": {
       "model_id": "e6ecd9a4a1d64e2386a2270680ed7fa5",
       "version_major": 2,
       "version_minor": 0
      },
      "text/plain": [
       "Validation: |          | 0/? [00:00<?, ?it/s]"
      ]
     },
     "metadata": {},
     "output_type": "display_data"
    },
    {
     "data": {
      "application/vnd.jupyter.widget-view+json": {
       "model_id": "7ea8dbd812a84d58b21cd5a8f0e96704",
       "version_major": 2,
       "version_minor": 0
      },
      "text/plain": [
       "Validation: |          | 0/? [00:00<?, ?it/s]"
      ]
     },
     "metadata": {},
     "output_type": "display_data"
    },
    {
     "data": {
      "application/vnd.jupyter.widget-view+json": {
       "model_id": "b149b092311c4574890037329b327eb6",
       "version_major": 2,
       "version_minor": 0
      },
      "text/plain": [
       "Validation: |          | 0/? [00:00<?, ?it/s]"
      ]
     },
     "metadata": {},
     "output_type": "display_data"
    },
    {
     "data": {
      "application/vnd.jupyter.widget-view+json": {
       "model_id": "5f3e26d0384244d9bf5e837091d737ae",
       "version_major": 2,
       "version_minor": 0
      },
      "text/plain": [
       "Validation: |          | 0/? [00:00<?, ?it/s]"
      ]
     },
     "metadata": {},
     "output_type": "display_data"
    },
    {
     "data": {
      "application/vnd.jupyter.widget-view+json": {
       "model_id": "a0e6b531955740cb92d73c3b6fa6b2df",
       "version_major": 2,
       "version_minor": 0
      },
      "text/plain": [
       "Validation: |          | 0/? [00:00<?, ?it/s]"
      ]
     },
     "metadata": {},
     "output_type": "display_data"
    },
    {
     "data": {
      "application/vnd.jupyter.widget-view+json": {
       "model_id": "30b5792666db4c7baf1d150e228fe1be",
       "version_major": 2,
       "version_minor": 0
      },
      "text/plain": [
       "Validation: |          | 0/? [00:00<?, ?it/s]"
      ]
     },
     "metadata": {},
     "output_type": "display_data"
    },
    {
     "data": {
      "application/vnd.jupyter.widget-view+json": {
       "model_id": "95770433947349b686427535362f4ad7",
       "version_major": 2,
       "version_minor": 0
      },
      "text/plain": [
       "Validation: |          | 0/? [00:00<?, ?it/s]"
      ]
     },
     "metadata": {},
     "output_type": "display_data"
    },
    {
     "data": {
      "application/vnd.jupyter.widget-view+json": {
       "model_id": "202984dbf0554d6f9a96fe9104ae6a21",
       "version_major": 2,
       "version_minor": 0
      },
      "text/plain": [
       "Validation: |          | 0/? [00:00<?, ?it/s]"
      ]
     },
     "metadata": {},
     "output_type": "display_data"
    },
    {
     "data": {
      "application/vnd.jupyter.widget-view+json": {
       "model_id": "02a16c669d6d475c9f12906ea0313d93",
       "version_major": 2,
       "version_minor": 0
      },
      "text/plain": [
       "Validation: |          | 0/? [00:00<?, ?it/s]"
      ]
     },
     "metadata": {},
     "output_type": "display_data"
    },
    {
     "data": {
      "application/vnd.jupyter.widget-view+json": {
       "model_id": "072f3554fa31494eb60c8276db77c9ad",
       "version_major": 2,
       "version_minor": 0
      },
      "text/plain": [
       "Validation: |          | 0/? [00:00<?, ?it/s]"
      ]
     },
     "metadata": {},
     "output_type": "display_data"
    },
    {
     "data": {
      "application/vnd.jupyter.widget-view+json": {
       "model_id": "1823eafaf2d44d21a0dc2113b38e6c68",
       "version_major": 2,
       "version_minor": 0
      },
      "text/plain": [
       "Validation: |          | 0/? [00:00<?, ?it/s]"
      ]
     },
     "metadata": {},
     "output_type": "display_data"
    },
    {
     "data": {
      "application/vnd.jupyter.widget-view+json": {
       "model_id": "6a9200d1f625409e8bc3221ad5b09f0e",
       "version_major": 2,
       "version_minor": 0
      },
      "text/plain": [
       "Validation: |          | 0/? [00:00<?, ?it/s]"
      ]
     },
     "metadata": {},
     "output_type": "display_data"
    },
    {
     "data": {
      "application/vnd.jupyter.widget-view+json": {
       "model_id": "9b6f107c23204bd2aaea2dbebb76d44e",
       "version_major": 2,
       "version_minor": 0
      },
      "text/plain": [
       "Validation: |          | 0/? [00:00<?, ?it/s]"
      ]
     },
     "metadata": {},
     "output_type": "display_data"
    },
    {
     "data": {
      "application/vnd.jupyter.widget-view+json": {
       "model_id": "cd0a637bd26646908ee74194526dce39",
       "version_major": 2,
       "version_minor": 0
      },
      "text/plain": [
       "Validation: |          | 0/? [00:00<?, ?it/s]"
      ]
     },
     "metadata": {},
     "output_type": "display_data"
    },
    {
     "data": {
      "application/vnd.jupyter.widget-view+json": {
       "model_id": "3be6a6fa22694312b048820d264b61b2",
       "version_major": 2,
       "version_minor": 0
      },
      "text/plain": [
       "Validation: |          | 0/? [00:00<?, ?it/s]"
      ]
     },
     "metadata": {},
     "output_type": "display_data"
    },
    {
     "data": {
      "application/vnd.jupyter.widget-view+json": {
       "model_id": "e9e7cf2a036948d2b4fe31a486a288a2",
       "version_major": 2,
       "version_minor": 0
      },
      "text/plain": [
       "Validation: |          | 0/? [00:00<?, ?it/s]"
      ]
     },
     "metadata": {},
     "output_type": "display_data"
    },
    {
     "data": {
      "application/vnd.jupyter.widget-view+json": {
       "model_id": "a7a56755694746339e383afe01882dc7",
       "version_major": 2,
       "version_minor": 0
      },
      "text/plain": [
       "Validation: |          | 0/? [00:00<?, ?it/s]"
      ]
     },
     "metadata": {},
     "output_type": "display_data"
    },
    {
     "data": {
      "application/vnd.jupyter.widget-view+json": {
       "model_id": "aeb01581d3f44b2c8493dba04f25dbd7",
       "version_major": 2,
       "version_minor": 0
      },
      "text/plain": [
       "Validation: |          | 0/? [00:00<?, ?it/s]"
      ]
     },
     "metadata": {},
     "output_type": "display_data"
    },
    {
     "data": {
      "application/vnd.jupyter.widget-view+json": {
       "model_id": "04b1b62c753540b7bce24d12245d57cb",
       "version_major": 2,
       "version_minor": 0
      },
      "text/plain": [
       "Validation: |          | 0/? [00:00<?, ?it/s]"
      ]
     },
     "metadata": {},
     "output_type": "display_data"
    },
    {
     "data": {
      "application/vnd.jupyter.widget-view+json": {
       "model_id": "09c5107b723749d29b322d6258474e27",
       "version_major": 2,
       "version_minor": 0
      },
      "text/plain": [
       "Validation: |          | 0/? [00:00<?, ?it/s]"
      ]
     },
     "metadata": {},
     "output_type": "display_data"
    },
    {
     "data": {
      "application/vnd.jupyter.widget-view+json": {
       "model_id": "af612aa1284048c797808b08516e1a27",
       "version_major": 2,
       "version_minor": 0
      },
      "text/plain": [
       "Validation: |          | 0/? [00:00<?, ?it/s]"
      ]
     },
     "metadata": {},
     "output_type": "display_data"
    },
    {
     "data": {
      "application/vnd.jupyter.widget-view+json": {
       "model_id": "b5c66740749f442c8f5e967ae10a6a03",
       "version_major": 2,
       "version_minor": 0
      },
      "text/plain": [
       "Validation: |          | 0/? [00:00<?, ?it/s]"
      ]
     },
     "metadata": {},
     "output_type": "display_data"
    },
    {
     "data": {
      "application/vnd.jupyter.widget-view+json": {
       "model_id": "2c32cf4482014e0b92502a1d6ab54eff",
       "version_major": 2,
       "version_minor": 0
      },
      "text/plain": [
       "Validation: |          | 0/? [00:00<?, ?it/s]"
      ]
     },
     "metadata": {},
     "output_type": "display_data"
    },
    {
     "data": {
      "application/vnd.jupyter.widget-view+json": {
       "model_id": "b3e65dfddeb74f39a8a016f6b4480548",
       "version_major": 2,
       "version_minor": 0
      },
      "text/plain": [
       "Validation: |          | 0/? [00:00<?, ?it/s]"
      ]
     },
     "metadata": {},
     "output_type": "display_data"
    },
    {
     "data": {
      "application/vnd.jupyter.widget-view+json": {
       "model_id": "922bd93f56bb4a7da1f53df0e6ee3fee",
       "version_major": 2,
       "version_minor": 0
      },
      "text/plain": [
       "Validation: |          | 0/? [00:00<?, ?it/s]"
      ]
     },
     "metadata": {},
     "output_type": "display_data"
    },
    {
     "data": {
      "application/vnd.jupyter.widget-view+json": {
       "model_id": "8d295e5c7c024c8bad813c68580b2874",
       "version_major": 2,
       "version_minor": 0
      },
      "text/plain": [
       "Validation: |          | 0/? [00:00<?, ?it/s]"
      ]
     },
     "metadata": {},
     "output_type": "display_data"
    },
    {
     "data": {
      "application/vnd.jupyter.widget-view+json": {
       "model_id": "403ba3942792465ea8f3b2692ce3891d",
       "version_major": 2,
       "version_minor": 0
      },
      "text/plain": [
       "Validation: |          | 0/? [00:00<?, ?it/s]"
      ]
     },
     "metadata": {},
     "output_type": "display_data"
    },
    {
     "data": {
      "application/vnd.jupyter.widget-view+json": {
       "model_id": "73bdc538bc71437291c6067d0128cbda",
       "version_major": 2,
       "version_minor": 0
      },
      "text/plain": [
       "Validation: |          | 0/? [00:00<?, ?it/s]"
      ]
     },
     "metadata": {},
     "output_type": "display_data"
    },
    {
     "data": {
      "application/vnd.jupyter.widget-view+json": {
       "model_id": "1fb16f99677f4e5299069cdefea469cd",
       "version_major": 2,
       "version_minor": 0
      },
      "text/plain": [
       "Validation: |          | 0/? [00:00<?, ?it/s]"
      ]
     },
     "metadata": {},
     "output_type": "display_data"
    },
    {
     "data": {
      "application/vnd.jupyter.widget-view+json": {
       "model_id": "703084f4e5be460990a4daab4e1c6609",
       "version_major": 2,
       "version_minor": 0
      },
      "text/plain": [
       "Validation: |          | 0/? [00:00<?, ?it/s]"
      ]
     },
     "metadata": {},
     "output_type": "display_data"
    },
    {
     "data": {
      "application/vnd.jupyter.widget-view+json": {
       "model_id": "100041709ee5452c8701f186feb4f519",
       "version_major": 2,
       "version_minor": 0
      },
      "text/plain": [
       "Validation: |          | 0/? [00:00<?, ?it/s]"
      ]
     },
     "metadata": {},
     "output_type": "display_data"
    },
    {
     "data": {
      "application/vnd.jupyter.widget-view+json": {
       "model_id": "319267e1e1b0401e935037ec719dea47",
       "version_major": 2,
       "version_minor": 0
      },
      "text/plain": [
       "Validation: |          | 0/? [00:00<?, ?it/s]"
      ]
     },
     "metadata": {},
     "output_type": "display_data"
    },
    {
     "data": {
      "application/vnd.jupyter.widget-view+json": {
       "model_id": "da49c405aba04cfb90b7eb810072f450",
       "version_major": 2,
       "version_minor": 0
      },
      "text/plain": [
       "Validation: |          | 0/? [00:00<?, ?it/s]"
      ]
     },
     "metadata": {},
     "output_type": "display_data"
    },
    {
     "data": {
      "application/vnd.jupyter.widget-view+json": {
       "model_id": "7533b78ec76d4eb0bb83f024b126c88c",
       "version_major": 2,
       "version_minor": 0
      },
      "text/plain": [
       "Validation: |          | 0/? [00:00<?, ?it/s]"
      ]
     },
     "metadata": {},
     "output_type": "display_data"
    },
    {
     "data": {
      "application/vnd.jupyter.widget-view+json": {
       "model_id": "30b98bb886e54e2cbeec4050e376d664",
       "version_major": 2,
       "version_minor": 0
      },
      "text/plain": [
       "Validation: |          | 0/? [00:00<?, ?it/s]"
      ]
     },
     "metadata": {},
     "output_type": "display_data"
    },
    {
     "data": {
      "application/vnd.jupyter.widget-view+json": {
       "model_id": "fa2cde786e904840af559c40254d774d",
       "version_major": 2,
       "version_minor": 0
      },
      "text/plain": [
       "Validation: |          | 0/? [00:00<?, ?it/s]"
      ]
     },
     "metadata": {},
     "output_type": "display_data"
    },
    {
     "data": {
      "application/vnd.jupyter.widget-view+json": {
       "model_id": "f10dce565ca94f2ca874d94e1a2ceb16",
       "version_major": 2,
       "version_minor": 0
      },
      "text/plain": [
       "Validation: |          | 0/? [00:00<?, ?it/s]"
      ]
     },
     "metadata": {},
     "output_type": "display_data"
    },
    {
     "data": {
      "application/vnd.jupyter.widget-view+json": {
       "model_id": "c0c262cef52749acac9c52c12ae983cf",
       "version_major": 2,
       "version_minor": 0
      },
      "text/plain": [
       "Validation: |          | 0/? [00:00<?, ?it/s]"
      ]
     },
     "metadata": {},
     "output_type": "display_data"
    },
    {
     "data": {
      "application/vnd.jupyter.widget-view+json": {
       "model_id": "5a7487c778ad4e9e9b7fc9565286bc6c",
       "version_major": 2,
       "version_minor": 0
      },
      "text/plain": [
       "Validation: |          | 0/? [00:00<?, ?it/s]"
      ]
     },
     "metadata": {},
     "output_type": "display_data"
    },
    {
     "data": {
      "application/vnd.jupyter.widget-view+json": {
       "model_id": "61218a9a4d1d4374a6b389ba18c702b5",
       "version_major": 2,
       "version_minor": 0
      },
      "text/plain": [
       "Validation: |          | 0/? [00:00<?, ?it/s]"
      ]
     },
     "metadata": {},
     "output_type": "display_data"
    },
    {
     "data": {
      "application/vnd.jupyter.widget-view+json": {
       "model_id": "1741c3ee50604d9d8a6d359fbbb937af",
       "version_major": 2,
       "version_minor": 0
      },
      "text/plain": [
       "Validation: |          | 0/? [00:00<?, ?it/s]"
      ]
     },
     "metadata": {},
     "output_type": "display_data"
    },
    {
     "data": {
      "application/vnd.jupyter.widget-view+json": {
       "model_id": "d242dad3a41344a286ca428cdab77035",
       "version_major": 2,
       "version_minor": 0
      },
      "text/plain": [
       "Validation: |          | 0/? [00:00<?, ?it/s]"
      ]
     },
     "metadata": {},
     "output_type": "display_data"
    },
    {
     "data": {
      "application/vnd.jupyter.widget-view+json": {
       "model_id": "f34d418ebcc5405bb4b7a7a4edf7a958",
       "version_major": 2,
       "version_minor": 0
      },
      "text/plain": [
       "Validation: |          | 0/? [00:00<?, ?it/s]"
      ]
     },
     "metadata": {},
     "output_type": "display_data"
    },
    {
     "data": {
      "application/vnd.jupyter.widget-view+json": {
       "model_id": "59e754d2d85342c58b2e123870c75716",
       "version_major": 2,
       "version_minor": 0
      },
      "text/plain": [
       "Validation: |          | 0/? [00:00<?, ?it/s]"
      ]
     },
     "metadata": {},
     "output_type": "display_data"
    },
    {
     "data": {
      "application/vnd.jupyter.widget-view+json": {
       "model_id": "fde6182ac1ca4bdea96543e695fe99e4",
       "version_major": 2,
       "version_minor": 0
      },
      "text/plain": [
       "Validation: |          | 0/? [00:00<?, ?it/s]"
      ]
     },
     "metadata": {},
     "output_type": "display_data"
    },
    {
     "data": {
      "application/vnd.jupyter.widget-view+json": {
       "model_id": "0bc977f94ab64d59b6e2c11c917c91f4",
       "version_major": 2,
       "version_minor": 0
      },
      "text/plain": [
       "Validation: |          | 0/? [00:00<?, ?it/s]"
      ]
     },
     "metadata": {},
     "output_type": "display_data"
    },
    {
     "data": {
      "application/vnd.jupyter.widget-view+json": {
       "model_id": "d1983c4535034f5e848da2f58112a513",
       "version_major": 2,
       "version_minor": 0
      },
      "text/plain": [
       "Validation: |          | 0/? [00:00<?, ?it/s]"
      ]
     },
     "metadata": {},
     "output_type": "display_data"
    },
    {
     "data": {
      "application/vnd.jupyter.widget-view+json": {
       "model_id": "0246ba605e1843e48cdd30398b867add",
       "version_major": 2,
       "version_minor": 0
      },
      "text/plain": [
       "Validation: |          | 0/? [00:00<?, ?it/s]"
      ]
     },
     "metadata": {},
     "output_type": "display_data"
    },
    {
     "data": {
      "application/vnd.jupyter.widget-view+json": {
       "model_id": "6c68136522654aef80f27752a3f31a84",
       "version_major": 2,
       "version_minor": 0
      },
      "text/plain": [
       "Validation: |          | 0/? [00:00<?, ?it/s]"
      ]
     },
     "metadata": {},
     "output_type": "display_data"
    },
    {
     "data": {
      "application/vnd.jupyter.widget-view+json": {
       "model_id": "fcd868c372c14306bdbea4095897cd26",
       "version_major": 2,
       "version_minor": 0
      },
      "text/plain": [
       "Validation: |          | 0/? [00:00<?, ?it/s]"
      ]
     },
     "metadata": {},
     "output_type": "display_data"
    },
    {
     "data": {
      "application/vnd.jupyter.widget-view+json": {
       "model_id": "10e8134096964257901e28e3a137bdf7",
       "version_major": 2,
       "version_minor": 0
      },
      "text/plain": [
       "Validation: |          | 0/? [00:00<?, ?it/s]"
      ]
     },
     "metadata": {},
     "output_type": "display_data"
    },
    {
     "data": {
      "application/vnd.jupyter.widget-view+json": {
       "model_id": "c2a3bd45c31a459395818199124f9e70",
       "version_major": 2,
       "version_minor": 0
      },
      "text/plain": [
       "Validation: |          | 0/? [00:00<?, ?it/s]"
      ]
     },
     "metadata": {},
     "output_type": "display_data"
    },
    {
     "data": {
      "application/vnd.jupyter.widget-view+json": {
       "model_id": "f9d5b82b88ef49bc9dbdcceda8f8db84",
       "version_major": 2,
       "version_minor": 0
      },
      "text/plain": [
       "Validation: |          | 0/? [00:00<?, ?it/s]"
      ]
     },
     "metadata": {},
     "output_type": "display_data"
    },
    {
     "data": {
      "application/vnd.jupyter.widget-view+json": {
       "model_id": "a9f4081194974499a62c82fa1f465d32",
       "version_major": 2,
       "version_minor": 0
      },
      "text/plain": [
       "Validation: |          | 0/? [00:00<?, ?it/s]"
      ]
     },
     "metadata": {},
     "output_type": "display_data"
    },
    {
     "data": {
      "application/vnd.jupyter.widget-view+json": {
       "model_id": "2037304f7ee745d281495d1e5850c6d4",
       "version_major": 2,
       "version_minor": 0
      },
      "text/plain": [
       "Validation: |          | 0/? [00:00<?, ?it/s]"
      ]
     },
     "metadata": {},
     "output_type": "display_data"
    },
    {
     "data": {
      "application/vnd.jupyter.widget-view+json": {
       "model_id": "3e39c2f1b88c4305936f1647e588c7ff",
       "version_major": 2,
       "version_minor": 0
      },
      "text/plain": [
       "Validation: |          | 0/? [00:00<?, ?it/s]"
      ]
     },
     "metadata": {},
     "output_type": "display_data"
    },
    {
     "data": {
      "application/vnd.jupyter.widget-view+json": {
       "model_id": "ab72fb78ed0c464089acbca12ef29340",
       "version_major": 2,
       "version_minor": 0
      },
      "text/plain": [
       "Validation: |          | 0/? [00:00<?, ?it/s]"
      ]
     },
     "metadata": {},
     "output_type": "display_data"
    },
    {
     "data": {
      "application/vnd.jupyter.widget-view+json": {
       "model_id": "dc1a762afd444209a35bef8d8e159cb9",
       "version_major": 2,
       "version_minor": 0
      },
      "text/plain": [
       "Validation: |          | 0/? [00:00<?, ?it/s]"
      ]
     },
     "metadata": {},
     "output_type": "display_data"
    },
    {
     "data": {
      "application/vnd.jupyter.widget-view+json": {
       "model_id": "71d4b2bbdb8541fea23beafa0680f071",
       "version_major": 2,
       "version_minor": 0
      },
      "text/plain": [
       "Validation: |          | 0/? [00:00<?, ?it/s]"
      ]
     },
     "metadata": {},
     "output_type": "display_data"
    },
    {
     "data": {
      "application/vnd.jupyter.widget-view+json": {
       "model_id": "1b2522ff53a445eebb6850cd43fcd800",
       "version_major": 2,
       "version_minor": 0
      },
      "text/plain": [
       "Validation: |          | 0/? [00:00<?, ?it/s]"
      ]
     },
     "metadata": {},
     "output_type": "display_data"
    },
    {
     "data": {
      "application/vnd.jupyter.widget-view+json": {
       "model_id": "1773175badc34d7a823847fb9cdeef74",
       "version_major": 2,
       "version_minor": 0
      },
      "text/plain": [
       "Validation: |          | 0/? [00:00<?, ?it/s]"
      ]
     },
     "metadata": {},
     "output_type": "display_data"
    },
    {
     "data": {
      "application/vnd.jupyter.widget-view+json": {
       "model_id": "44595507247649609b31489114506b2e",
       "version_major": 2,
       "version_minor": 0
      },
      "text/plain": [
       "Validation: |          | 0/? [00:00<?, ?it/s]"
      ]
     },
     "metadata": {},
     "output_type": "display_data"
    },
    {
     "data": {
      "application/vnd.jupyter.widget-view+json": {
       "model_id": "bc672b9820a94caa806fcc863d927290",
       "version_major": 2,
       "version_minor": 0
      },
      "text/plain": [
       "Validation: |          | 0/? [00:00<?, ?it/s]"
      ]
     },
     "metadata": {},
     "output_type": "display_data"
    },
    {
     "data": {
      "application/vnd.jupyter.widget-view+json": {
       "model_id": "5cb739036ddb4c71be5424f32113192f",
       "version_major": 2,
       "version_minor": 0
      },
      "text/plain": [
       "Validation: |          | 0/? [00:00<?, ?it/s]"
      ]
     },
     "metadata": {},
     "output_type": "display_data"
    },
    {
     "data": {
      "application/vnd.jupyter.widget-view+json": {
       "model_id": "e6e819583ea748ec8d568c2d4ce7a1f0",
       "version_major": 2,
       "version_minor": 0
      },
      "text/plain": [
       "Validation: |          | 0/? [00:00<?, ?it/s]"
      ]
     },
     "metadata": {},
     "output_type": "display_data"
    },
    {
     "data": {
      "application/vnd.jupyter.widget-view+json": {
       "model_id": "e0ece7af9cab48d79e319a4f3472aa49",
       "version_major": 2,
       "version_minor": 0
      },
      "text/plain": [
       "Validation: |          | 0/? [00:00<?, ?it/s]"
      ]
     },
     "metadata": {},
     "output_type": "display_data"
    },
    {
     "data": {
      "application/vnd.jupyter.widget-view+json": {
       "model_id": "11befaa469f34e2db23c55fd1a1d8a1c",
       "version_major": 2,
       "version_minor": 0
      },
      "text/plain": [
       "Validation: |          | 0/? [00:00<?, ?it/s]"
      ]
     },
     "metadata": {},
     "output_type": "display_data"
    },
    {
     "data": {
      "application/vnd.jupyter.widget-view+json": {
       "model_id": "c98adb7bc1954e3d9af8dc5d8d442b5a",
       "version_major": 2,
       "version_minor": 0
      },
      "text/plain": [
       "Validation: |          | 0/? [00:00<?, ?it/s]"
      ]
     },
     "metadata": {},
     "output_type": "display_data"
    },
    {
     "data": {
      "application/vnd.jupyter.widget-view+json": {
       "model_id": "81933f0d90644aa88fff23d6b8e68f9f",
       "version_major": 2,
       "version_minor": 0
      },
      "text/plain": [
       "Validation: |          | 0/? [00:00<?, ?it/s]"
      ]
     },
     "metadata": {},
     "output_type": "display_data"
    },
    {
     "data": {
      "application/vnd.jupyter.widget-view+json": {
       "model_id": "8d65595bd161483b9f9b274a2a47dd00",
       "version_major": 2,
       "version_minor": 0
      },
      "text/plain": [
       "Validation: |          | 0/? [00:00<?, ?it/s]"
      ]
     },
     "metadata": {},
     "output_type": "display_data"
    },
    {
     "data": {
      "application/vnd.jupyter.widget-view+json": {
       "model_id": "c13fb0a2c43146809bc50f2091879c0f",
       "version_major": 2,
       "version_minor": 0
      },
      "text/plain": [
       "Validation: |          | 0/? [00:00<?, ?it/s]"
      ]
     },
     "metadata": {},
     "output_type": "display_data"
    },
    {
     "data": {
      "application/vnd.jupyter.widget-view+json": {
       "model_id": "21ee225e69c44543b0bbdb2fcebcd82a",
       "version_major": 2,
       "version_minor": 0
      },
      "text/plain": [
       "Validation: |          | 0/? [00:00<?, ?it/s]"
      ]
     },
     "metadata": {},
     "output_type": "display_data"
    },
    {
     "data": {
      "application/vnd.jupyter.widget-view+json": {
       "model_id": "9f9b912413d84a008c8eca937382e621",
       "version_major": 2,
       "version_minor": 0
      },
      "text/plain": [
       "Validation: |          | 0/? [00:00<?, ?it/s]"
      ]
     },
     "metadata": {},
     "output_type": "display_data"
    },
    {
     "data": {
      "application/vnd.jupyter.widget-view+json": {
       "model_id": "808277db0bb7450aa27020b0ddfa3017",
       "version_major": 2,
       "version_minor": 0
      },
      "text/plain": [
       "Validation: |          | 0/? [00:00<?, ?it/s]"
      ]
     },
     "metadata": {},
     "output_type": "display_data"
    },
    {
     "data": {
      "application/vnd.jupyter.widget-view+json": {
       "model_id": "1dd2d985a83f4d2eb14287aa801557cf",
       "version_major": 2,
       "version_minor": 0
      },
      "text/plain": [
       "Validation: |          | 0/? [00:00<?, ?it/s]"
      ]
     },
     "metadata": {},
     "output_type": "display_data"
    },
    {
     "data": {
      "application/vnd.jupyter.widget-view+json": {
       "model_id": "ae46cf332bf848eb91530beddbc95b46",
       "version_major": 2,
       "version_minor": 0
      },
      "text/plain": [
       "Validation: |          | 0/? [00:00<?, ?it/s]"
      ]
     },
     "metadata": {},
     "output_type": "display_data"
    },
    {
     "data": {
      "application/vnd.jupyter.widget-view+json": {
       "model_id": "661ee4b7b03549bc989ab971d581a948",
       "version_major": 2,
       "version_minor": 0
      },
      "text/plain": [
       "Validation: |          | 0/? [00:00<?, ?it/s]"
      ]
     },
     "metadata": {},
     "output_type": "display_data"
    },
    {
     "data": {
      "application/vnd.jupyter.widget-view+json": {
       "model_id": "e0d6c26d388247358f7988d850c8713a",
       "version_major": 2,
       "version_minor": 0
      },
      "text/plain": [
       "Validation: |          | 0/? [00:00<?, ?it/s]"
      ]
     },
     "metadata": {},
     "output_type": "display_data"
    },
    {
     "data": {
      "application/vnd.jupyter.widget-view+json": {
       "model_id": "91c8495f22e54992b0b50e5cefbf9753",
       "version_major": 2,
       "version_minor": 0
      },
      "text/plain": [
       "Validation: |          | 0/? [00:00<?, ?it/s]"
      ]
     },
     "metadata": {},
     "output_type": "display_data"
    },
    {
     "data": {
      "application/vnd.jupyter.widget-view+json": {
       "model_id": "e6346bd496f34ae6ba934096e9803b2e",
       "version_major": 2,
       "version_minor": 0
      },
      "text/plain": [
       "Validation: |          | 0/? [00:00<?, ?it/s]"
      ]
     },
     "metadata": {},
     "output_type": "display_data"
    },
    {
     "data": {
      "application/vnd.jupyter.widget-view+json": {
       "model_id": "6de8a742e41c49f6bfdd1fd7d64aa2f6",
       "version_major": 2,
       "version_minor": 0
      },
      "text/plain": [
       "Validation: |          | 0/? [00:00<?, ?it/s]"
      ]
     },
     "metadata": {},
     "output_type": "display_data"
    },
    {
     "data": {
      "application/vnd.jupyter.widget-view+json": {
       "model_id": "7162984edee644ee96fe0c4d3dc3aec4",
       "version_major": 2,
       "version_minor": 0
      },
      "text/plain": [
       "Validation: |          | 0/? [00:00<?, ?it/s]"
      ]
     },
     "metadata": {},
     "output_type": "display_data"
    },
    {
     "data": {
      "application/vnd.jupyter.widget-view+json": {
       "model_id": "60ceeaefd42a48f5877f907505e46a63",
       "version_major": 2,
       "version_minor": 0
      },
      "text/plain": [
       "Validation: |          | 0/? [00:00<?, ?it/s]"
      ]
     },
     "metadata": {},
     "output_type": "display_data"
    },
    {
     "data": {
      "application/vnd.jupyter.widget-view+json": {
       "model_id": "3cc90e8043dd4915a05a0f424c16ad47",
       "version_major": 2,
       "version_minor": 0
      },
      "text/plain": [
       "Validation: |          | 0/? [00:00<?, ?it/s]"
      ]
     },
     "metadata": {},
     "output_type": "display_data"
    },
    {
     "data": {
      "application/vnd.jupyter.widget-view+json": {
       "model_id": "2d4596736cc64feabe882ae83e4db43d",
       "version_major": 2,
       "version_minor": 0
      },
      "text/plain": [
       "Validation: |          | 0/? [00:00<?, ?it/s]"
      ]
     },
     "metadata": {},
     "output_type": "display_data"
    },
    {
     "data": {
      "application/vnd.jupyter.widget-view+json": {
       "model_id": "ba001d57ba2249b5b00e966f0a53e658",
       "version_major": 2,
       "version_minor": 0
      },
      "text/plain": [
       "Validation: |          | 0/? [00:00<?, ?it/s]"
      ]
     },
     "metadata": {},
     "output_type": "display_data"
    },
    {
     "data": {
      "application/vnd.jupyter.widget-view+json": {
       "model_id": "3c51c8e398d644c19d7da4dabe3c075d",
       "version_major": 2,
       "version_minor": 0
      },
      "text/plain": [
       "Validation: |          | 0/? [00:00<?, ?it/s]"
      ]
     },
     "metadata": {},
     "output_type": "display_data"
    },
    {
     "data": {
      "application/vnd.jupyter.widget-view+json": {
       "model_id": "3e76b93ea35645368d584ea10a56f393",
       "version_major": 2,
       "version_minor": 0
      },
      "text/plain": [
       "Validation: |          | 0/? [00:00<?, ?it/s]"
      ]
     },
     "metadata": {},
     "output_type": "display_data"
    },
    {
     "data": {
      "application/vnd.jupyter.widget-view+json": {
       "model_id": "a9da524fd08c46539226f0477af680a1",
       "version_major": 2,
       "version_minor": 0
      },
      "text/plain": [
       "Validation: |          | 0/? [00:00<?, ?it/s]"
      ]
     },
     "metadata": {},
     "output_type": "display_data"
    },
    {
     "data": {
      "application/vnd.jupyter.widget-view+json": {
       "model_id": "881548b12c184a6ba57654687365f6d6",
       "version_major": 2,
       "version_minor": 0
      },
      "text/plain": [
       "Validation: |          | 0/? [00:00<?, ?it/s]"
      ]
     },
     "metadata": {},
     "output_type": "display_data"
    },
    {
     "data": {
      "application/vnd.jupyter.widget-view+json": {
       "model_id": "5bc13a92afbe4d65ab6a0e4c4d8a9d0a",
       "version_major": 2,
       "version_minor": 0
      },
      "text/plain": [
       "Validation: |          | 0/? [00:00<?, ?it/s]"
      ]
     },
     "metadata": {},
     "output_type": "display_data"
    },
    {
     "data": {
      "application/vnd.jupyter.widget-view+json": {
       "model_id": "8612485a58f545028d1ebd38aa0c19b0",
       "version_major": 2,
       "version_minor": 0
      },
      "text/plain": [
       "Validation: |          | 0/? [00:00<?, ?it/s]"
      ]
     },
     "metadata": {},
     "output_type": "display_data"
    },
    {
     "data": {
      "application/vnd.jupyter.widget-view+json": {
       "model_id": "a27f78d74b5e41eaae8bf11cec60d71e",
       "version_major": 2,
       "version_minor": 0
      },
      "text/plain": [
       "Validation: |          | 0/? [00:00<?, ?it/s]"
      ]
     },
     "metadata": {},
     "output_type": "display_data"
    },
    {
     "data": {
      "application/vnd.jupyter.widget-view+json": {
       "model_id": "d083804a3d384ef681470bcc13954b1f",
       "version_major": 2,
       "version_minor": 0
      },
      "text/plain": [
       "Validation: |          | 0/? [00:00<?, ?it/s]"
      ]
     },
     "metadata": {},
     "output_type": "display_data"
    },
    {
     "data": {
      "application/vnd.jupyter.widget-view+json": {
       "model_id": "0b873d7df56a4b4aaf8678b01d7240ce",
       "version_major": 2,
       "version_minor": 0
      },
      "text/plain": [
       "Validation: |          | 0/? [00:00<?, ?it/s]"
      ]
     },
     "metadata": {},
     "output_type": "display_data"
    },
    {
     "data": {
      "application/vnd.jupyter.widget-view+json": {
       "model_id": "28dc2970387f4393bf1f08f08ac10e5b",
       "version_major": 2,
       "version_minor": 0
      },
      "text/plain": [
       "Validation: |          | 0/? [00:00<?, ?it/s]"
      ]
     },
     "metadata": {},
     "output_type": "display_data"
    },
    {
     "data": {
      "application/vnd.jupyter.widget-view+json": {
       "model_id": "041df44f3a4446539c5c31576673f55a",
       "version_major": 2,
       "version_minor": 0
      },
      "text/plain": [
       "Validation: |          | 0/? [00:00<?, ?it/s]"
      ]
     },
     "metadata": {},
     "output_type": "display_data"
    },
    {
     "data": {
      "application/vnd.jupyter.widget-view+json": {
       "model_id": "5e96361579d042968e7f2a3a2ae40c68",
       "version_major": 2,
       "version_minor": 0
      },
      "text/plain": [
       "Validation: |          | 0/? [00:00<?, ?it/s]"
      ]
     },
     "metadata": {},
     "output_type": "display_data"
    },
    {
     "data": {
      "application/vnd.jupyter.widget-view+json": {
       "model_id": "9ddcae683ec644ac948b636f12ce9d33",
       "version_major": 2,
       "version_minor": 0
      },
      "text/plain": [
       "Validation: |          | 0/? [00:00<?, ?it/s]"
      ]
     },
     "metadata": {},
     "output_type": "display_data"
    },
    {
     "data": {
      "application/vnd.jupyter.widget-view+json": {
       "model_id": "ca8b6a3f98a84ae2b9bb377d7da34a7d",
       "version_major": 2,
       "version_minor": 0
      },
      "text/plain": [
       "Validation: |          | 0/? [00:00<?, ?it/s]"
      ]
     },
     "metadata": {},
     "output_type": "display_data"
    },
    {
     "data": {
      "application/vnd.jupyter.widget-view+json": {
       "model_id": "d6b6c3655df0485cb4639a36b2a28a07",
       "version_major": 2,
       "version_minor": 0
      },
      "text/plain": [
       "Validation: |          | 0/? [00:00<?, ?it/s]"
      ]
     },
     "metadata": {},
     "output_type": "display_data"
    },
    {
     "data": {
      "application/vnd.jupyter.widget-view+json": {
       "model_id": "3723c3505eff4f93b0c9535d2544d03a",
       "version_major": 2,
       "version_minor": 0
      },
      "text/plain": [
       "Validation: |          | 0/? [00:00<?, ?it/s]"
      ]
     },
     "metadata": {},
     "output_type": "display_data"
    },
    {
     "data": {
      "application/vnd.jupyter.widget-view+json": {
       "model_id": "7168c43271fb47a580cb34942cb84e63",
       "version_major": 2,
       "version_minor": 0
      },
      "text/plain": [
       "Validation: |          | 0/? [00:00<?, ?it/s]"
      ]
     },
     "metadata": {},
     "output_type": "display_data"
    },
    {
     "data": {
      "application/vnd.jupyter.widget-view+json": {
       "model_id": "75d3494ddd6940d69f54fffd4bde9cd5",
       "version_major": 2,
       "version_minor": 0
      },
      "text/plain": [
       "Validation: |          | 0/? [00:00<?, ?it/s]"
      ]
     },
     "metadata": {},
     "output_type": "display_data"
    },
    {
     "data": {
      "application/vnd.jupyter.widget-view+json": {
       "model_id": "917479cd34cd47f1a1200492b50f910f",
       "version_major": 2,
       "version_minor": 0
      },
      "text/plain": [
       "Validation: |          | 0/? [00:00<?, ?it/s]"
      ]
     },
     "metadata": {},
     "output_type": "display_data"
    },
    {
     "data": {
      "application/vnd.jupyter.widget-view+json": {
       "model_id": "884287848af949c6bf63a1cac32430d4",
       "version_major": 2,
       "version_minor": 0
      },
      "text/plain": [
       "Validation: |          | 0/? [00:00<?, ?it/s]"
      ]
     },
     "metadata": {},
     "output_type": "display_data"
    },
    {
     "data": {
      "application/vnd.jupyter.widget-view+json": {
       "model_id": "4ab1b92b139a4e95a57fa3c344d1f455",
       "version_major": 2,
       "version_minor": 0
      },
      "text/plain": [
       "Validation: |          | 0/? [00:00<?, ?it/s]"
      ]
     },
     "metadata": {},
     "output_type": "display_data"
    },
    {
     "data": {
      "application/vnd.jupyter.widget-view+json": {
       "model_id": "311213b6505f4a198e9e157cae28dfa4",
       "version_major": 2,
       "version_minor": 0
      },
      "text/plain": [
       "Validation: |          | 0/? [00:00<?, ?it/s]"
      ]
     },
     "metadata": {},
     "output_type": "display_data"
    },
    {
     "data": {
      "application/vnd.jupyter.widget-view+json": {
       "model_id": "8ec8ef857e3e435dbbfc3bf9b4245b9b",
       "version_major": 2,
       "version_minor": 0
      },
      "text/plain": [
       "Validation: |          | 0/? [00:00<?, ?it/s]"
      ]
     },
     "metadata": {},
     "output_type": "display_data"
    },
    {
     "data": {
      "application/vnd.jupyter.widget-view+json": {
       "model_id": "522238a3e61047ef959e0e8b63bcd5ed",
       "version_major": 2,
       "version_minor": 0
      },
      "text/plain": [
       "Validation: |          | 0/? [00:00<?, ?it/s]"
      ]
     },
     "metadata": {},
     "output_type": "display_data"
    },
    {
     "data": {
      "application/vnd.jupyter.widget-view+json": {
       "model_id": "f31657cae7db4131b64cbbf29fc595f6",
       "version_major": 2,
       "version_minor": 0
      },
      "text/plain": [
       "Validation: |          | 0/? [00:00<?, ?it/s]"
      ]
     },
     "metadata": {},
     "output_type": "display_data"
    },
    {
     "data": {
      "application/vnd.jupyter.widget-view+json": {
       "model_id": "cbdf09c78cdb4b9e98d6f469732647d3",
       "version_major": 2,
       "version_minor": 0
      },
      "text/plain": [
       "Validation: |          | 0/? [00:00<?, ?it/s]"
      ]
     },
     "metadata": {},
     "output_type": "display_data"
    },
    {
     "data": {
      "application/vnd.jupyter.widget-view+json": {
       "model_id": "948ee6b9adf24456afd08fc572fb1a47",
       "version_major": 2,
       "version_minor": 0
      },
      "text/plain": [
       "Validation: |          | 0/? [00:00<?, ?it/s]"
      ]
     },
     "metadata": {},
     "output_type": "display_data"
    },
    {
     "data": {
      "application/vnd.jupyter.widget-view+json": {
       "model_id": "d0394dcf9ed546b0b782f0ebc06afeca",
       "version_major": 2,
       "version_minor": 0
      },
      "text/plain": [
       "Validation: |          | 0/? [00:00<?, ?it/s]"
      ]
     },
     "metadata": {},
     "output_type": "display_data"
    },
    {
     "data": {
      "application/vnd.jupyter.widget-view+json": {
       "model_id": "4af922128de440d78bfb3d35cdecfcaa",
       "version_major": 2,
       "version_minor": 0
      },
      "text/plain": [
       "Validation: |          | 0/? [00:00<?, ?it/s]"
      ]
     },
     "metadata": {},
     "output_type": "display_data"
    },
    {
     "data": {
      "application/vnd.jupyter.widget-view+json": {
       "model_id": "66bbaba9c456432495c988bd1135fb17",
       "version_major": 2,
       "version_minor": 0
      },
      "text/plain": [
       "Validation: |          | 0/? [00:00<?, ?it/s]"
      ]
     },
     "metadata": {},
     "output_type": "display_data"
    },
    {
     "data": {
      "application/vnd.jupyter.widget-view+json": {
       "model_id": "eca1a6cd4bc3467d8cb09abf8cd6b0f7",
       "version_major": 2,
       "version_minor": 0
      },
      "text/plain": [
       "Validation: |          | 0/? [00:00<?, ?it/s]"
      ]
     },
     "metadata": {},
     "output_type": "display_data"
    },
    {
     "data": {
      "application/vnd.jupyter.widget-view+json": {
       "model_id": "e4b04d7be8344d25b06d2f6870daa83a",
       "version_major": 2,
       "version_minor": 0
      },
      "text/plain": [
       "Validation: |          | 0/? [00:00<?, ?it/s]"
      ]
     },
     "metadata": {},
     "output_type": "display_data"
    },
    {
     "data": {
      "application/vnd.jupyter.widget-view+json": {
       "model_id": "0a7cdec9fed042ac84fcfd9dc6ede4f0",
       "version_major": 2,
       "version_minor": 0
      },
      "text/plain": [
       "Validation: |          | 0/? [00:00<?, ?it/s]"
      ]
     },
     "metadata": {},
     "output_type": "display_data"
    },
    {
     "data": {
      "application/vnd.jupyter.widget-view+json": {
       "model_id": "efb69db48de84263872d75c302215e99",
       "version_major": 2,
       "version_minor": 0
      },
      "text/plain": [
       "Validation: |          | 0/? [00:00<?, ?it/s]"
      ]
     },
     "metadata": {},
     "output_type": "display_data"
    },
    {
     "data": {
      "application/vnd.jupyter.widget-view+json": {
       "model_id": "e69239a5f61b4915a8e01b4568e40948",
       "version_major": 2,
       "version_minor": 0
      },
      "text/plain": [
       "Validation: |          | 0/? [00:00<?, ?it/s]"
      ]
     },
     "metadata": {},
     "output_type": "display_data"
    },
    {
     "data": {
      "application/vnd.jupyter.widget-view+json": {
       "model_id": "123bddad28ac4c4b885bd6cfb9745e5f",
       "version_major": 2,
       "version_minor": 0
      },
      "text/plain": [
       "Validation: |          | 0/? [00:00<?, ?it/s]"
      ]
     },
     "metadata": {},
     "output_type": "display_data"
    },
    {
     "data": {
      "application/vnd.jupyter.widget-view+json": {
       "model_id": "1fea8f81169448e5aff4854c3324acdb",
       "version_major": 2,
       "version_minor": 0
      },
      "text/plain": [
       "Validation: |          | 0/? [00:00<?, ?it/s]"
      ]
     },
     "metadata": {},
     "output_type": "display_data"
    },
    {
     "data": {
      "application/vnd.jupyter.widget-view+json": {
       "model_id": "033e1992be8d491a8b5cb01445fd698f",
       "version_major": 2,
       "version_minor": 0
      },
      "text/plain": [
       "Validation: |          | 0/? [00:00<?, ?it/s]"
      ]
     },
     "metadata": {},
     "output_type": "display_data"
    },
    {
     "data": {
      "application/vnd.jupyter.widget-view+json": {
       "model_id": "e5913487154e4edbbd6d8c1a6c6a9160",
       "version_major": 2,
       "version_minor": 0
      },
      "text/plain": [
       "Validation: |          | 0/? [00:00<?, ?it/s]"
      ]
     },
     "metadata": {},
     "output_type": "display_data"
    },
    {
     "data": {
      "application/vnd.jupyter.widget-view+json": {
       "model_id": "db341e34e92b42ed9417bcf8e93caa7e",
       "version_major": 2,
       "version_minor": 0
      },
      "text/plain": [
       "Validation: |          | 0/? [00:00<?, ?it/s]"
      ]
     },
     "metadata": {},
     "output_type": "display_data"
    },
    {
     "data": {
      "application/vnd.jupyter.widget-view+json": {
       "model_id": "e3eac7830d6f41dbb1223afc03c8ce76",
       "version_major": 2,
       "version_minor": 0
      },
      "text/plain": [
       "Validation: |          | 0/? [00:00<?, ?it/s]"
      ]
     },
     "metadata": {},
     "output_type": "display_data"
    },
    {
     "data": {
      "application/vnd.jupyter.widget-view+json": {
       "model_id": "1621f6f7066e4278bf0726334c55b03c",
       "version_major": 2,
       "version_minor": 0
      },
      "text/plain": [
       "Validation: |          | 0/? [00:00<?, ?it/s]"
      ]
     },
     "metadata": {},
     "output_type": "display_data"
    },
    {
     "data": {
      "application/vnd.jupyter.widget-view+json": {
       "model_id": "db9435e310f94a369d9f9667fc9b152a",
       "version_major": 2,
       "version_minor": 0
      },
      "text/plain": [
       "Validation: |          | 0/? [00:00<?, ?it/s]"
      ]
     },
     "metadata": {},
     "output_type": "display_data"
    },
    {
     "data": {
      "application/vnd.jupyter.widget-view+json": {
       "model_id": "e1dd3d70d635473b821728a939b7e3e8",
       "version_major": 2,
       "version_minor": 0
      },
      "text/plain": [
       "Validation: |          | 0/? [00:00<?, ?it/s]"
      ]
     },
     "metadata": {},
     "output_type": "display_data"
    },
    {
     "data": {
      "application/vnd.jupyter.widget-view+json": {
       "model_id": "3305eed9e5044104b58ca73281755c41",
       "version_major": 2,
       "version_minor": 0
      },
      "text/plain": [
       "Validation: |          | 0/? [00:00<?, ?it/s]"
      ]
     },
     "metadata": {},
     "output_type": "display_data"
    },
    {
     "data": {
      "application/vnd.jupyter.widget-view+json": {
       "model_id": "70c01a0affc048a4ac2c7ff2d8d0da3b",
       "version_major": 2,
       "version_minor": 0
      },
      "text/plain": [
       "Validation: |          | 0/? [00:00<?, ?it/s]"
      ]
     },
     "metadata": {},
     "output_type": "display_data"
    },
    {
     "data": {
      "application/vnd.jupyter.widget-view+json": {
       "model_id": "1296ab4ccf8049f7b0ade9a5bd711e7d",
       "version_major": 2,
       "version_minor": 0
      },
      "text/plain": [
       "Validation: |          | 0/? [00:00<?, ?it/s]"
      ]
     },
     "metadata": {},
     "output_type": "display_data"
    },
    {
     "data": {
      "application/vnd.jupyter.widget-view+json": {
       "model_id": "9e6c8c58e42747aca0308fccfe413919",
       "version_major": 2,
       "version_minor": 0
      },
      "text/plain": [
       "Validation: |          | 0/? [00:00<?, ?it/s]"
      ]
     },
     "metadata": {},
     "output_type": "display_data"
    },
    {
     "data": {
      "application/vnd.jupyter.widget-view+json": {
       "model_id": "6ce49f88f8754344955ceb7d2b6cb387",
       "version_major": 2,
       "version_minor": 0
      },
      "text/plain": [
       "Validation: |          | 0/? [00:00<?, ?it/s]"
      ]
     },
     "metadata": {},
     "output_type": "display_data"
    },
    {
     "data": {
      "application/vnd.jupyter.widget-view+json": {
       "model_id": "4a7319fcd3304a9082e0538364f75dc8",
       "version_major": 2,
       "version_minor": 0
      },
      "text/plain": [
       "Validation: |          | 0/? [00:00<?, ?it/s]"
      ]
     },
     "metadata": {},
     "output_type": "display_data"
    },
    {
     "data": {
      "application/vnd.jupyter.widget-view+json": {
       "model_id": "2c0f171c3d844e4c9d673683dae93b7b",
       "version_major": 2,
       "version_minor": 0
      },
      "text/plain": [
       "Validation: |          | 0/? [00:00<?, ?it/s]"
      ]
     },
     "metadata": {},
     "output_type": "display_data"
    },
    {
     "data": {
      "application/vnd.jupyter.widget-view+json": {
       "model_id": "8f56c6268d4044839f438efd93355877",
       "version_major": 2,
       "version_minor": 0
      },
      "text/plain": [
       "Validation: |          | 0/? [00:00<?, ?it/s]"
      ]
     },
     "metadata": {},
     "output_type": "display_data"
    },
    {
     "data": {
      "application/vnd.jupyter.widget-view+json": {
       "model_id": "51e09df8a37245dda8706242c2ee73ce",
       "version_major": 2,
       "version_minor": 0
      },
      "text/plain": [
       "Validation: |          | 0/? [00:00<?, ?it/s]"
      ]
     },
     "metadata": {},
     "output_type": "display_data"
    },
    {
     "data": {
      "application/vnd.jupyter.widget-view+json": {
       "model_id": "41c4a9100d2046f29a5fbfebe2d5f3e8",
       "version_major": 2,
       "version_minor": 0
      },
      "text/plain": [
       "Validation: |          | 0/? [00:00<?, ?it/s]"
      ]
     },
     "metadata": {},
     "output_type": "display_data"
    },
    {
     "data": {
      "application/vnd.jupyter.widget-view+json": {
       "model_id": "4d43e344de93424ab1a484e3b4367752",
       "version_major": 2,
       "version_minor": 0
      },
      "text/plain": [
       "Validation: |          | 0/? [00:00<?, ?it/s]"
      ]
     },
     "metadata": {},
     "output_type": "display_data"
    },
    {
     "data": {
      "application/vnd.jupyter.widget-view+json": {
       "model_id": "30566a4616d64fd584e60146208ceed5",
       "version_major": 2,
       "version_minor": 0
      },
      "text/plain": [
       "Validation: |          | 0/? [00:00<?, ?it/s]"
      ]
     },
     "metadata": {},
     "output_type": "display_data"
    },
    {
     "data": {
      "application/vnd.jupyter.widget-view+json": {
       "model_id": "6d339a5e418b4d0fa306e5e3c57dfa7f",
       "version_major": 2,
       "version_minor": 0
      },
      "text/plain": [
       "Validation: |          | 0/? [00:00<?, ?it/s]"
      ]
     },
     "metadata": {},
     "output_type": "display_data"
    },
    {
     "data": {
      "application/vnd.jupyter.widget-view+json": {
       "model_id": "43bfab264dce40758440fd30a10eef49",
       "version_major": 2,
       "version_minor": 0
      },
      "text/plain": [
       "Validation: |          | 0/? [00:00<?, ?it/s]"
      ]
     },
     "metadata": {},
     "output_type": "display_data"
    },
    {
     "data": {
      "application/vnd.jupyter.widget-view+json": {
       "model_id": "12e2ef899b5049c8b1b101ede7bd7272",
       "version_major": 2,
       "version_minor": 0
      },
      "text/plain": [
       "Validation: |          | 0/? [00:00<?, ?it/s]"
      ]
     },
     "metadata": {},
     "output_type": "display_data"
    },
    {
     "data": {
      "application/vnd.jupyter.widget-view+json": {
       "model_id": "511a8cf4125b416f9cf5c2a75739e1e5",
       "version_major": 2,
       "version_minor": 0
      },
      "text/plain": [
       "Validation: |          | 0/? [00:00<?, ?it/s]"
      ]
     },
     "metadata": {},
     "output_type": "display_data"
    },
    {
     "data": {
      "application/vnd.jupyter.widget-view+json": {
       "model_id": "e4b6e2409c664fb889ea94ae09c30aca",
       "version_major": 2,
       "version_minor": 0
      },
      "text/plain": [
       "Validation: |          | 0/? [00:00<?, ?it/s]"
      ]
     },
     "metadata": {},
     "output_type": "display_data"
    },
    {
     "data": {
      "application/vnd.jupyter.widget-view+json": {
       "model_id": "eb7b8318cf6a4a9bbce3096e8ec4f877",
       "version_major": 2,
       "version_minor": 0
      },
      "text/plain": [
       "Validation: |          | 0/? [00:00<?, ?it/s]"
      ]
     },
     "metadata": {},
     "output_type": "display_data"
    },
    {
     "data": {
      "application/vnd.jupyter.widget-view+json": {
       "model_id": "d70f030fa64448c5a187a4034fbe0e41",
       "version_major": 2,
       "version_minor": 0
      },
      "text/plain": [
       "Validation: |          | 0/? [00:00<?, ?it/s]"
      ]
     },
     "metadata": {},
     "output_type": "display_data"
    },
    {
     "data": {
      "application/vnd.jupyter.widget-view+json": {
       "model_id": "abcf777a1ef7485594ea1ad6555d6501",
       "version_major": 2,
       "version_minor": 0
      },
      "text/plain": [
       "Validation: |          | 0/? [00:00<?, ?it/s]"
      ]
     },
     "metadata": {},
     "output_type": "display_data"
    },
    {
     "data": {
      "application/vnd.jupyter.widget-view+json": {
       "model_id": "6d52dc51db5340ca8469e31cfd2574f4",
       "version_major": 2,
       "version_minor": 0
      },
      "text/plain": [
       "Validation: |          | 0/? [00:00<?, ?it/s]"
      ]
     },
     "metadata": {},
     "output_type": "display_data"
    },
    {
     "data": {
      "application/vnd.jupyter.widget-view+json": {
       "model_id": "4ecb3168f18441f5831398027b0a5937",
       "version_major": 2,
       "version_minor": 0
      },
      "text/plain": [
       "Validation: |          | 0/? [00:00<?, ?it/s]"
      ]
     },
     "metadata": {},
     "output_type": "display_data"
    },
    {
     "data": {
      "application/vnd.jupyter.widget-view+json": {
       "model_id": "0cc014d68fc24db996b574f2d3912f41",
       "version_major": 2,
       "version_minor": 0
      },
      "text/plain": [
       "Validation: |          | 0/? [00:00<?, ?it/s]"
      ]
     },
     "metadata": {},
     "output_type": "display_data"
    },
    {
     "data": {
      "application/vnd.jupyter.widget-view+json": {
       "model_id": "18b76cdb3e5a4bc38799e9a07a366a43",
       "version_major": 2,
       "version_minor": 0
      },
      "text/plain": [
       "Validation: |          | 0/? [00:00<?, ?it/s]"
      ]
     },
     "metadata": {},
     "output_type": "display_data"
    },
    {
     "data": {
      "application/vnd.jupyter.widget-view+json": {
       "model_id": "8bc28ba083a3422494893d586f15f76a",
       "version_major": 2,
       "version_minor": 0
      },
      "text/plain": [
       "Validation: |          | 0/? [00:00<?, ?it/s]"
      ]
     },
     "metadata": {},
     "output_type": "display_data"
    },
    {
     "data": {
      "application/vnd.jupyter.widget-view+json": {
       "model_id": "9c45acd0ce7b4e208d7afe6505a6ebde",
       "version_major": 2,
       "version_minor": 0
      },
      "text/plain": [
       "Validation: |          | 0/? [00:00<?, ?it/s]"
      ]
     },
     "metadata": {},
     "output_type": "display_data"
    },
    {
     "data": {
      "application/vnd.jupyter.widget-view+json": {
       "model_id": "5f86411d44284bc5b5e1377bbfecf774",
       "version_major": 2,
       "version_minor": 0
      },
      "text/plain": [
       "Validation: |          | 0/? [00:00<?, ?it/s]"
      ]
     },
     "metadata": {},
     "output_type": "display_data"
    },
    {
     "data": {
      "application/vnd.jupyter.widget-view+json": {
       "model_id": "cd5c6094b13c4095ac3a2a91345fee21",
       "version_major": 2,
       "version_minor": 0
      },
      "text/plain": [
       "Validation: |          | 0/? [00:00<?, ?it/s]"
      ]
     },
     "metadata": {},
     "output_type": "display_data"
    },
    {
     "data": {
      "application/vnd.jupyter.widget-view+json": {
       "model_id": "975bfec6268842de98c2fbd34083c122",
       "version_major": 2,
       "version_minor": 0
      },
      "text/plain": [
       "Validation: |          | 0/? [00:00<?, ?it/s]"
      ]
     },
     "metadata": {},
     "output_type": "display_data"
    },
    {
     "data": {
      "application/vnd.jupyter.widget-view+json": {
       "model_id": "4753b88c61194ba9af9462368a705247",
       "version_major": 2,
       "version_minor": 0
      },
      "text/plain": [
       "Validation: |          | 0/? [00:00<?, ?it/s]"
      ]
     },
     "metadata": {},
     "output_type": "display_data"
    },
    {
     "data": {
      "application/vnd.jupyter.widget-view+json": {
       "model_id": "a80f15f861874467898a96f234c19ab5",
       "version_major": 2,
       "version_minor": 0
      },
      "text/plain": [
       "Validation: |          | 0/? [00:00<?, ?it/s]"
      ]
     },
     "metadata": {},
     "output_type": "display_data"
    },
    {
     "data": {
      "application/vnd.jupyter.widget-view+json": {
       "model_id": "3255863e460b47cab143dd4e2037afcb",
       "version_major": 2,
       "version_minor": 0
      },
      "text/plain": [
       "Validation: |          | 0/? [00:00<?, ?it/s]"
      ]
     },
     "metadata": {},
     "output_type": "display_data"
    },
    {
     "data": {
      "application/vnd.jupyter.widget-view+json": {
       "model_id": "a1d41474c18342b2864b66b12df7e3bc",
       "version_major": 2,
       "version_minor": 0
      },
      "text/plain": [
       "Validation: |          | 0/? [00:00<?, ?it/s]"
      ]
     },
     "metadata": {},
     "output_type": "display_data"
    },
    {
     "data": {
      "application/vnd.jupyter.widget-view+json": {
       "model_id": "08a346737a7a4e04a2f3248f5dd239b9",
       "version_major": 2,
       "version_minor": 0
      },
      "text/plain": [
       "Validation: |          | 0/? [00:00<?, ?it/s]"
      ]
     },
     "metadata": {},
     "output_type": "display_data"
    },
    {
     "data": {
      "application/vnd.jupyter.widget-view+json": {
       "model_id": "5ef3fd8fcffc414bbe6cd8aded620fd4",
       "version_major": 2,
       "version_minor": 0
      },
      "text/plain": [
       "Validation: |          | 0/? [00:00<?, ?it/s]"
      ]
     },
     "metadata": {},
     "output_type": "display_data"
    },
    {
     "data": {
      "application/vnd.jupyter.widget-view+json": {
       "model_id": "c1d47c4dc9784d18818bd4d2444848f2",
       "version_major": 2,
       "version_minor": 0
      },
      "text/plain": [
       "Validation: |          | 0/? [00:00<?, ?it/s]"
      ]
     },
     "metadata": {},
     "output_type": "display_data"
    },
    {
     "data": {
      "application/vnd.jupyter.widget-view+json": {
       "model_id": "faed3825faed42c6a8ce54f4fe8807dc",
       "version_major": 2,
       "version_minor": 0
      },
      "text/plain": [
       "Validation: |          | 0/? [00:00<?, ?it/s]"
      ]
     },
     "metadata": {},
     "output_type": "display_data"
    },
    {
     "data": {
      "application/vnd.jupyter.widget-view+json": {
       "model_id": "bf9ee31a4361469c8c4c2e6208fdc886",
       "version_major": 2,
       "version_minor": 0
      },
      "text/plain": [
       "Validation: |          | 0/? [00:00<?, ?it/s]"
      ]
     },
     "metadata": {},
     "output_type": "display_data"
    },
    {
     "data": {
      "application/vnd.jupyter.widget-view+json": {
       "model_id": "69269b60cbe9494a967a1765a2ef5042",
       "version_major": 2,
       "version_minor": 0
      },
      "text/plain": [
       "Validation: |          | 0/? [00:00<?, ?it/s]"
      ]
     },
     "metadata": {},
     "output_type": "display_data"
    },
    {
     "data": {
      "application/vnd.jupyter.widget-view+json": {
       "model_id": "884afb08917d48ea930b34c674f8d264",
       "version_major": 2,
       "version_minor": 0
      },
      "text/plain": [
       "Validation: |          | 0/? [00:00<?, ?it/s]"
      ]
     },
     "metadata": {},
     "output_type": "display_data"
    },
    {
     "data": {
      "application/vnd.jupyter.widget-view+json": {
       "model_id": "df81c7cdbb0b42ab9986d2674007ea80",
       "version_major": 2,
       "version_minor": 0
      },
      "text/plain": [
       "Validation: |          | 0/? [00:00<?, ?it/s]"
      ]
     },
     "metadata": {},
     "output_type": "display_data"
    },
    {
     "data": {
      "application/vnd.jupyter.widget-view+json": {
       "model_id": "2b870096cda942aab5029043a2508b34",
       "version_major": 2,
       "version_minor": 0
      },
      "text/plain": [
       "Validation: |          | 0/? [00:00<?, ?it/s]"
      ]
     },
     "metadata": {},
     "output_type": "display_data"
    },
    {
     "data": {
      "application/vnd.jupyter.widget-view+json": {
       "model_id": "99a234de9609425492447d58ed2d4c70",
       "version_major": 2,
       "version_minor": 0
      },
      "text/plain": [
       "Validation: |          | 0/? [00:00<?, ?it/s]"
      ]
     },
     "metadata": {},
     "output_type": "display_data"
    },
    {
     "data": {
      "application/vnd.jupyter.widget-view+json": {
       "model_id": "4f2bad8b587f45da9b736877dd9696b1",
       "version_major": 2,
       "version_minor": 0
      },
      "text/plain": [
       "Validation: |          | 0/? [00:00<?, ?it/s]"
      ]
     },
     "metadata": {},
     "output_type": "display_data"
    },
    {
     "data": {
      "application/vnd.jupyter.widget-view+json": {
       "model_id": "25a1e8f0b3654d0d9f3b1d2589538964",
       "version_major": 2,
       "version_minor": 0
      },
      "text/plain": [
       "Validation: |          | 0/? [00:00<?, ?it/s]"
      ]
     },
     "metadata": {},
     "output_type": "display_data"
    },
    {
     "data": {
      "application/vnd.jupyter.widget-view+json": {
       "model_id": "a552e74f02404a7182af3f5a0676c738",
       "version_major": 2,
       "version_minor": 0
      },
      "text/plain": [
       "Validation: |          | 0/? [00:00<?, ?it/s]"
      ]
     },
     "metadata": {},
     "output_type": "display_data"
    },
    {
     "data": {
      "application/vnd.jupyter.widget-view+json": {
       "model_id": "b9660ecff056496cac3ccec363ccf516",
       "version_major": 2,
       "version_minor": 0
      },
      "text/plain": [
       "Validation: |          | 0/? [00:00<?, ?it/s]"
      ]
     },
     "metadata": {},
     "output_type": "display_data"
    },
    {
     "data": {
      "application/vnd.jupyter.widget-view+json": {
       "model_id": "2cf38693f2ec405c87e0fe61ec27605e",
       "version_major": 2,
       "version_minor": 0
      },
      "text/plain": [
       "Validation: |          | 0/? [00:00<?, ?it/s]"
      ]
     },
     "metadata": {},
     "output_type": "display_data"
    },
    {
     "data": {
      "application/vnd.jupyter.widget-view+json": {
       "model_id": "a8ea05d81f7c4532a4cc6f8f693240bf",
       "version_major": 2,
       "version_minor": 0
      },
      "text/plain": [
       "Validation: |          | 0/? [00:00<?, ?it/s]"
      ]
     },
     "metadata": {},
     "output_type": "display_data"
    },
    {
     "data": {
      "application/vnd.jupyter.widget-view+json": {
       "model_id": "27e98a981c2448388fcb4b157454940f",
       "version_major": 2,
       "version_minor": 0
      },
      "text/plain": [
       "Validation: |          | 0/? [00:00<?, ?it/s]"
      ]
     },
     "metadata": {},
     "output_type": "display_data"
    },
    {
     "data": {
      "application/vnd.jupyter.widget-view+json": {
       "model_id": "df4b439154b945ed86b151a16be03481",
       "version_major": 2,
       "version_minor": 0
      },
      "text/plain": [
       "Validation: |          | 0/? [00:00<?, ?it/s]"
      ]
     },
     "metadata": {},
     "output_type": "display_data"
    },
    {
     "data": {
      "application/vnd.jupyter.widget-view+json": {
       "model_id": "afa32130caae4fdc90cce1c735f9db8f",
       "version_major": 2,
       "version_minor": 0
      },
      "text/plain": [
       "Validation: |          | 0/? [00:00<?, ?it/s]"
      ]
     },
     "metadata": {},
     "output_type": "display_data"
    },
    {
     "data": {
      "application/vnd.jupyter.widget-view+json": {
       "model_id": "c9b332df631b4048813a1d1eb0b31590",
       "version_major": 2,
       "version_minor": 0
      },
      "text/plain": [
       "Validation: |          | 0/? [00:00<?, ?it/s]"
      ]
     },
     "metadata": {},
     "output_type": "display_data"
    },
    {
     "data": {
      "application/vnd.jupyter.widget-view+json": {
       "model_id": "6e432f1916cd4714b1a6b4f28261c610",
       "version_major": 2,
       "version_minor": 0
      },
      "text/plain": [
       "Validation: |          | 0/? [00:00<?, ?it/s]"
      ]
     },
     "metadata": {},
     "output_type": "display_data"
    },
    {
     "data": {
      "application/vnd.jupyter.widget-view+json": {
       "model_id": "9db00df18eab437c8b98aec8e234e39e",
       "version_major": 2,
       "version_minor": 0
      },
      "text/plain": [
       "Validation: |          | 0/? [00:00<?, ?it/s]"
      ]
     },
     "metadata": {},
     "output_type": "display_data"
    },
    {
     "data": {
      "application/vnd.jupyter.widget-view+json": {
       "model_id": "86fa45c2c58043f8b003d550cd9c4e55",
       "version_major": 2,
       "version_minor": 0
      },
      "text/plain": [
       "Validation: |          | 0/? [00:00<?, ?it/s]"
      ]
     },
     "metadata": {},
     "output_type": "display_data"
    },
    {
     "data": {
      "application/vnd.jupyter.widget-view+json": {
       "model_id": "d56bc63511a14925a875d865d1ad2dd7",
       "version_major": 2,
       "version_minor": 0
      },
      "text/plain": [
       "Validation: |          | 0/? [00:00<?, ?it/s]"
      ]
     },
     "metadata": {},
     "output_type": "display_data"
    },
    {
     "data": {
      "application/vnd.jupyter.widget-view+json": {
       "model_id": "c2570e9db29443fc9e109fa75290d665",
       "version_major": 2,
       "version_minor": 0
      },
      "text/plain": [
       "Validation: |          | 0/? [00:00<?, ?it/s]"
      ]
     },
     "metadata": {},
     "output_type": "display_data"
    },
    {
     "data": {
      "application/vnd.jupyter.widget-view+json": {
       "model_id": "46066a82e601458ab0eaa7db2e60cb8e",
       "version_major": 2,
       "version_minor": 0
      },
      "text/plain": [
       "Validation: |          | 0/? [00:00<?, ?it/s]"
      ]
     },
     "metadata": {},
     "output_type": "display_data"
    },
    {
     "data": {
      "application/vnd.jupyter.widget-view+json": {
       "model_id": "df6b8da3e3a5457ab0159e21c40c7d01",
       "version_major": 2,
       "version_minor": 0
      },
      "text/plain": [
       "Validation: |          | 0/? [00:00<?, ?it/s]"
      ]
     },
     "metadata": {},
     "output_type": "display_data"
    },
    {
     "data": {
      "application/vnd.jupyter.widget-view+json": {
       "model_id": "250747126cbf4f3d91ef4350503e8c8d",
       "version_major": 2,
       "version_minor": 0
      },
      "text/plain": [
       "Validation: |          | 0/? [00:00<?, ?it/s]"
      ]
     },
     "metadata": {},
     "output_type": "display_data"
    },
    {
     "data": {
      "application/vnd.jupyter.widget-view+json": {
       "model_id": "a039aab70bab4123855c92e2c74305a1",
       "version_major": 2,
       "version_minor": 0
      },
      "text/plain": [
       "Validation: |          | 0/? [00:00<?, ?it/s]"
      ]
     },
     "metadata": {},
     "output_type": "display_data"
    },
    {
     "data": {
      "application/vnd.jupyter.widget-view+json": {
       "model_id": "7aa0ee951823438292acc8afe9c20e5e",
       "version_major": 2,
       "version_minor": 0
      },
      "text/plain": [
       "Validation: |          | 0/? [00:00<?, ?it/s]"
      ]
     },
     "metadata": {},
     "output_type": "display_data"
    },
    {
     "data": {
      "application/vnd.jupyter.widget-view+json": {
       "model_id": "02b7fd611d934c1cba7450be04cea1d7",
       "version_major": 2,
       "version_minor": 0
      },
      "text/plain": [
       "Validation: |          | 0/? [00:00<?, ?it/s]"
      ]
     },
     "metadata": {},
     "output_type": "display_data"
    },
    {
     "data": {
      "application/vnd.jupyter.widget-view+json": {
       "model_id": "40939072dcb94ccb958b20a9ae3a477d",
       "version_major": 2,
       "version_minor": 0
      },
      "text/plain": [
       "Validation: |          | 0/? [00:00<?, ?it/s]"
      ]
     },
     "metadata": {},
     "output_type": "display_data"
    },
    {
     "data": {
      "application/vnd.jupyter.widget-view+json": {
       "model_id": "84b4bb75d6e64cac8185b96186aa0dbc",
       "version_major": 2,
       "version_minor": 0
      },
      "text/plain": [
       "Validation: |          | 0/? [00:00<?, ?it/s]"
      ]
     },
     "metadata": {},
     "output_type": "display_data"
    },
    {
     "data": {
      "application/vnd.jupyter.widget-view+json": {
       "model_id": "7238db5a53a24481bf870860e76c5612",
       "version_major": 2,
       "version_minor": 0
      },
      "text/plain": [
       "Validation: |          | 0/? [00:00<?, ?it/s]"
      ]
     },
     "metadata": {},
     "output_type": "display_data"
    },
    {
     "data": {
      "application/vnd.jupyter.widget-view+json": {
       "model_id": "12b821d060a442bab45b3ee177b80fc1",
       "version_major": 2,
       "version_minor": 0
      },
      "text/plain": [
       "Validation: |          | 0/? [00:00<?, ?it/s]"
      ]
     },
     "metadata": {},
     "output_type": "display_data"
    },
    {
     "data": {
      "application/vnd.jupyter.widget-view+json": {
       "model_id": "268d30d3d0054c13a971f496706fc3b7",
       "version_major": 2,
       "version_minor": 0
      },
      "text/plain": [
       "Validation: |          | 0/? [00:00<?, ?it/s]"
      ]
     },
     "metadata": {},
     "output_type": "display_data"
    },
    {
     "data": {
      "application/vnd.jupyter.widget-view+json": {
       "model_id": "e08c0ae7592c4a6193e8cb16128e4c11",
       "version_major": 2,
       "version_minor": 0
      },
      "text/plain": [
       "Validation: |          | 0/? [00:00<?, ?it/s]"
      ]
     },
     "metadata": {},
     "output_type": "display_data"
    },
    {
     "data": {
      "application/vnd.jupyter.widget-view+json": {
       "model_id": "0666a2995a0d4243a829f09dc9edb264",
       "version_major": 2,
       "version_minor": 0
      },
      "text/plain": [
       "Validation: |          | 0/? [00:00<?, ?it/s]"
      ]
     },
     "metadata": {},
     "output_type": "display_data"
    },
    {
     "data": {
      "application/vnd.jupyter.widget-view+json": {
       "model_id": "892ffcc5f6dd4bb6adaddb78d6371c1b",
       "version_major": 2,
       "version_minor": 0
      },
      "text/plain": [
       "Validation: |          | 0/? [00:00<?, ?it/s]"
      ]
     },
     "metadata": {},
     "output_type": "display_data"
    },
    {
     "data": {
      "application/vnd.jupyter.widget-view+json": {
       "model_id": "2c0b0404766d433cb5ceda075b2cd27c",
       "version_major": 2,
       "version_minor": 0
      },
      "text/plain": [
       "Validation: |          | 0/? [00:00<?, ?it/s]"
      ]
     },
     "metadata": {},
     "output_type": "display_data"
    },
    {
     "data": {
      "application/vnd.jupyter.widget-view+json": {
       "model_id": "8e5be52474a54f1c8fe87ac5b0358351",
       "version_major": 2,
       "version_minor": 0
      },
      "text/plain": [
       "Validation: |          | 0/? [00:00<?, ?it/s]"
      ]
     },
     "metadata": {},
     "output_type": "display_data"
    },
    {
     "data": {
      "application/vnd.jupyter.widget-view+json": {
       "model_id": "5803c59151764714a05ead96c914e21b",
       "version_major": 2,
       "version_minor": 0
      },
      "text/plain": [
       "Validation: |          | 0/? [00:00<?, ?it/s]"
      ]
     },
     "metadata": {},
     "output_type": "display_data"
    },
    {
     "data": {
      "application/vnd.jupyter.widget-view+json": {
       "model_id": "f6087fb7fb08485eb8e6111ceb0e5b70",
       "version_major": 2,
       "version_minor": 0
      },
      "text/plain": [
       "Validation: |          | 0/? [00:00<?, ?it/s]"
      ]
     },
     "metadata": {},
     "output_type": "display_data"
    },
    {
     "data": {
      "application/vnd.jupyter.widget-view+json": {
       "model_id": "054da91cc62547a19ca0fed6a8150a28",
       "version_major": 2,
       "version_minor": 0
      },
      "text/plain": [
       "Validation: |          | 0/? [00:00<?, ?it/s]"
      ]
     },
     "metadata": {},
     "output_type": "display_data"
    },
    {
     "data": {
      "application/vnd.jupyter.widget-view+json": {
       "model_id": "35cfc62533304411b0b62a735da5e787",
       "version_major": 2,
       "version_minor": 0
      },
      "text/plain": [
       "Validation: |          | 0/? [00:00<?, ?it/s]"
      ]
     },
     "metadata": {},
     "output_type": "display_data"
    },
    {
     "data": {
      "application/vnd.jupyter.widget-view+json": {
       "model_id": "85af4f2cfb8b4e6bbeb65b9e96badb57",
       "version_major": 2,
       "version_minor": 0
      },
      "text/plain": [
       "Validation: |          | 0/? [00:00<?, ?it/s]"
      ]
     },
     "metadata": {},
     "output_type": "display_data"
    },
    {
     "data": {
      "application/vnd.jupyter.widget-view+json": {
       "model_id": "866f4f8ad91d4a3d8f774027be567893",
       "version_major": 2,
       "version_minor": 0
      },
      "text/plain": [
       "Validation: |          | 0/? [00:00<?, ?it/s]"
      ]
     },
     "metadata": {},
     "output_type": "display_data"
    },
    {
     "data": {
      "application/vnd.jupyter.widget-view+json": {
       "model_id": "b058ee2674384dd98430ad1e1bcd1332",
       "version_major": 2,
       "version_minor": 0
      },
      "text/plain": [
       "Validation: |          | 0/? [00:00<?, ?it/s]"
      ]
     },
     "metadata": {},
     "output_type": "display_data"
    },
    {
     "data": {
      "application/vnd.jupyter.widget-view+json": {
       "model_id": "cde7e30a65884c8ca0abfa818a8b0bb1",
       "version_major": 2,
       "version_minor": 0
      },
      "text/plain": [
       "Validation: |          | 0/? [00:00<?, ?it/s]"
      ]
     },
     "metadata": {},
     "output_type": "display_data"
    },
    {
     "data": {
      "application/vnd.jupyter.widget-view+json": {
       "model_id": "1a1c1f94397a4b399c5d1e594fa739f1",
       "version_major": 2,
       "version_minor": 0
      },
      "text/plain": [
       "Validation: |          | 0/? [00:00<?, ?it/s]"
      ]
     },
     "metadata": {},
     "output_type": "display_data"
    },
    {
     "data": {
      "application/vnd.jupyter.widget-view+json": {
       "model_id": "f1b80df06352484f8533e62b4a723d2a",
       "version_major": 2,
       "version_minor": 0
      },
      "text/plain": [
       "Validation: |          | 0/? [00:00<?, ?it/s]"
      ]
     },
     "metadata": {},
     "output_type": "display_data"
    },
    {
     "data": {
      "application/vnd.jupyter.widget-view+json": {
       "model_id": "e031b87d1cd64cf898860418419513e2",
       "version_major": 2,
       "version_minor": 0
      },
      "text/plain": [
       "Validation: |          | 0/? [00:00<?, ?it/s]"
      ]
     },
     "metadata": {},
     "output_type": "display_data"
    },
    {
     "data": {
      "application/vnd.jupyter.widget-view+json": {
       "model_id": "0e86a9c6460543f38b19122f30c2c2e9",
       "version_major": 2,
       "version_minor": 0
      },
      "text/plain": [
       "Validation: |          | 0/? [00:00<?, ?it/s]"
      ]
     },
     "metadata": {},
     "output_type": "display_data"
    },
    {
     "data": {
      "application/vnd.jupyter.widget-view+json": {
       "model_id": "9fc3c7c1c7724db4be52ccf3f96801db",
       "version_major": 2,
       "version_minor": 0
      },
      "text/plain": [
       "Validation: |          | 0/? [00:00<?, ?it/s]"
      ]
     },
     "metadata": {},
     "output_type": "display_data"
    },
    {
     "data": {
      "application/vnd.jupyter.widget-view+json": {
       "model_id": "200b08afd3f84f088ae47226507d2c1b",
       "version_major": 2,
       "version_minor": 0
      },
      "text/plain": [
       "Validation: |          | 0/? [00:00<?, ?it/s]"
      ]
     },
     "metadata": {},
     "output_type": "display_data"
    },
    {
     "data": {
      "application/vnd.jupyter.widget-view+json": {
       "model_id": "0b3cf5573db0406da1a930c779131923",
       "version_major": 2,
       "version_minor": 0
      },
      "text/plain": [
       "Validation: |          | 0/? [00:00<?, ?it/s]"
      ]
     },
     "metadata": {},
     "output_type": "display_data"
    },
    {
     "data": {
      "application/vnd.jupyter.widget-view+json": {
       "model_id": "113e534210354a68a8602980d047072e",
       "version_major": 2,
       "version_minor": 0
      },
      "text/plain": [
       "Validation: |          | 0/? [00:00<?, ?it/s]"
      ]
     },
     "metadata": {},
     "output_type": "display_data"
    },
    {
     "data": {
      "application/vnd.jupyter.widget-view+json": {
       "model_id": "3d0da0ce058a49c2b909e5177507b9d9",
       "version_major": 2,
       "version_minor": 0
      },
      "text/plain": [
       "Validation: |          | 0/? [00:00<?, ?it/s]"
      ]
     },
     "metadata": {},
     "output_type": "display_data"
    },
    {
     "data": {
      "application/vnd.jupyter.widget-view+json": {
       "model_id": "61f67f4e43b94fc999e89e396f32b347",
       "version_major": 2,
       "version_minor": 0
      },
      "text/plain": [
       "Validation: |          | 0/? [00:00<?, ?it/s]"
      ]
     },
     "metadata": {},
     "output_type": "display_data"
    },
    {
     "data": {
      "application/vnd.jupyter.widget-view+json": {
       "model_id": "d0bf3cebaeaf4a8a9efe72c41a1ddaed",
       "version_major": 2,
       "version_minor": 0
      },
      "text/plain": [
       "Validation: |          | 0/? [00:00<?, ?it/s]"
      ]
     },
     "metadata": {},
     "output_type": "display_data"
    },
    {
     "data": {
      "application/vnd.jupyter.widget-view+json": {
       "model_id": "be7a38a0f5e54447a918460af9bf75e1",
       "version_major": 2,
       "version_minor": 0
      },
      "text/plain": [
       "Validation: |          | 0/? [00:00<?, ?it/s]"
      ]
     },
     "metadata": {},
     "output_type": "display_data"
    },
    {
     "data": {
      "application/vnd.jupyter.widget-view+json": {
       "model_id": "133be70bd5ae4528afe24ea8d4c5f33c",
       "version_major": 2,
       "version_minor": 0
      },
      "text/plain": [
       "Validation: |          | 0/? [00:00<?, ?it/s]"
      ]
     },
     "metadata": {},
     "output_type": "display_data"
    },
    {
     "data": {
      "application/vnd.jupyter.widget-view+json": {
       "model_id": "e226efd75da2407f87e412cecf8e805b",
       "version_major": 2,
       "version_minor": 0
      },
      "text/plain": [
       "Validation: |          | 0/? [00:00<?, ?it/s]"
      ]
     },
     "metadata": {},
     "output_type": "display_data"
    },
    {
     "data": {
      "application/vnd.jupyter.widget-view+json": {
       "model_id": "1853e5f491c8420d84e637a1d88d3b4e",
       "version_major": 2,
       "version_minor": 0
      },
      "text/plain": [
       "Validation: |          | 0/? [00:00<?, ?it/s]"
      ]
     },
     "metadata": {},
     "output_type": "display_data"
    },
    {
     "data": {
      "application/vnd.jupyter.widget-view+json": {
       "model_id": "56945b242f94432694c89127616fa339",
       "version_major": 2,
       "version_minor": 0
      },
      "text/plain": [
       "Validation: |          | 0/? [00:00<?, ?it/s]"
      ]
     },
     "metadata": {},
     "output_type": "display_data"
    },
    {
     "data": {
      "application/vnd.jupyter.widget-view+json": {
       "model_id": "57b4e1d404f645719a1fb6433e718966",
       "version_major": 2,
       "version_minor": 0
      },
      "text/plain": [
       "Validation: |          | 0/? [00:00<?, ?it/s]"
      ]
     },
     "metadata": {},
     "output_type": "display_data"
    },
    {
     "data": {
      "application/vnd.jupyter.widget-view+json": {
       "model_id": "8b80e8f0384b46f2921723b730223cb9",
       "version_major": 2,
       "version_minor": 0
      },
      "text/plain": [
       "Validation: |          | 0/? [00:00<?, ?it/s]"
      ]
     },
     "metadata": {},
     "output_type": "display_data"
    },
    {
     "data": {
      "application/vnd.jupyter.widget-view+json": {
       "model_id": "664d91b828164b9fa79b92c93c1e04e6",
       "version_major": 2,
       "version_minor": 0
      },
      "text/plain": [
       "Validation: |          | 0/? [00:00<?, ?it/s]"
      ]
     },
     "metadata": {},
     "output_type": "display_data"
    },
    {
     "data": {
      "application/vnd.jupyter.widget-view+json": {
       "model_id": "bc20d5a3cf524d1dbc75fed07ec7c2ae",
       "version_major": 2,
       "version_minor": 0
      },
      "text/plain": [
       "Validation: |          | 0/? [00:00<?, ?it/s]"
      ]
     },
     "metadata": {},
     "output_type": "display_data"
    },
    {
     "data": {
      "application/vnd.jupyter.widget-view+json": {
       "model_id": "c037ed1dbef94d758d23544f6ece18cb",
       "version_major": 2,
       "version_minor": 0
      },
      "text/plain": [
       "Validation: |          | 0/? [00:00<?, ?it/s]"
      ]
     },
     "metadata": {},
     "output_type": "display_data"
    },
    {
     "data": {
      "application/vnd.jupyter.widget-view+json": {
       "model_id": "418fc667769047a99ee8dbf625055f59",
       "version_major": 2,
       "version_minor": 0
      },
      "text/plain": [
       "Validation: |          | 0/? [00:00<?, ?it/s]"
      ]
     },
     "metadata": {},
     "output_type": "display_data"
    },
    {
     "data": {
      "application/vnd.jupyter.widget-view+json": {
       "model_id": "dd46c8d1e8a04772b627a87a2991e90c",
       "version_major": 2,
       "version_minor": 0
      },
      "text/plain": [
       "Validation: |          | 0/? [00:00<?, ?it/s]"
      ]
     },
     "metadata": {},
     "output_type": "display_data"
    },
    {
     "data": {
      "application/vnd.jupyter.widget-view+json": {
       "model_id": "54503bdd7f764667a60fc0e816a01cc2",
       "version_major": 2,
       "version_minor": 0
      },
      "text/plain": [
       "Validation: |          | 0/? [00:00<?, ?it/s]"
      ]
     },
     "metadata": {},
     "output_type": "display_data"
    },
    {
     "data": {
      "application/vnd.jupyter.widget-view+json": {
       "model_id": "6f791903226b4b26b8b22d63987d46dd",
       "version_major": 2,
       "version_minor": 0
      },
      "text/plain": [
       "Validation: |          | 0/? [00:00<?, ?it/s]"
      ]
     },
     "metadata": {},
     "output_type": "display_data"
    },
    {
     "data": {
      "application/vnd.jupyter.widget-view+json": {
       "model_id": "3dcb0dc8ec1e4436ba99cc0e2102ece6",
       "version_major": 2,
       "version_minor": 0
      },
      "text/plain": [
       "Validation: |          | 0/? [00:00<?, ?it/s]"
      ]
     },
     "metadata": {},
     "output_type": "display_data"
    },
    {
     "data": {
      "application/vnd.jupyter.widget-view+json": {
       "model_id": "1de7058af4ca4cd6af789d2aeacbe996",
       "version_major": 2,
       "version_minor": 0
      },
      "text/plain": [
       "Validation: |          | 0/? [00:00<?, ?it/s]"
      ]
     },
     "metadata": {},
     "output_type": "display_data"
    },
    {
     "data": {
      "application/vnd.jupyter.widget-view+json": {
       "model_id": "202dd6a869bb449c84c2216974d7ca10",
       "version_major": 2,
       "version_minor": 0
      },
      "text/plain": [
       "Validation: |          | 0/? [00:00<?, ?it/s]"
      ]
     },
     "metadata": {},
     "output_type": "display_data"
    },
    {
     "data": {
      "application/vnd.jupyter.widget-view+json": {
       "model_id": "e320a1e5d42849bb9d3c96c1236d4200",
       "version_major": 2,
       "version_minor": 0
      },
      "text/plain": [
       "Validation: |          | 0/? [00:00<?, ?it/s]"
      ]
     },
     "metadata": {},
     "output_type": "display_data"
    },
    {
     "data": {
      "application/vnd.jupyter.widget-view+json": {
       "model_id": "76c26781c6dc4216a0064e13ea5e671c",
       "version_major": 2,
       "version_minor": 0
      },
      "text/plain": [
       "Validation: |          | 0/? [00:00<?, ?it/s]"
      ]
     },
     "metadata": {},
     "output_type": "display_data"
    },
    {
     "data": {
      "application/vnd.jupyter.widget-view+json": {
       "model_id": "d5b9e17d76d84069abe76e28f70b75c5",
       "version_major": 2,
       "version_minor": 0
      },
      "text/plain": [
       "Validation: |          | 0/? [00:00<?, ?it/s]"
      ]
     },
     "metadata": {},
     "output_type": "display_data"
    },
    {
     "data": {
      "application/vnd.jupyter.widget-view+json": {
       "model_id": "64177c336e234da3846d47324fa0f1c4",
       "version_major": 2,
       "version_minor": 0
      },
      "text/plain": [
       "Validation: |          | 0/? [00:00<?, ?it/s]"
      ]
     },
     "metadata": {},
     "output_type": "display_data"
    },
    {
     "data": {
      "application/vnd.jupyter.widget-view+json": {
       "model_id": "cd7eafa9d2184642ab5c9298d0f794aa",
       "version_major": 2,
       "version_minor": 0
      },
      "text/plain": [
       "Validation: |          | 0/? [00:00<?, ?it/s]"
      ]
     },
     "metadata": {},
     "output_type": "display_data"
    },
    {
     "data": {
      "application/vnd.jupyter.widget-view+json": {
       "model_id": "c3f62d5a8ea4433a8328e31c54dd33b3",
       "version_major": 2,
       "version_minor": 0
      },
      "text/plain": [
       "Validation: |          | 0/? [00:00<?, ?it/s]"
      ]
     },
     "metadata": {},
     "output_type": "display_data"
    },
    {
     "data": {
      "application/vnd.jupyter.widget-view+json": {
       "model_id": "a7234e3347034b3f91a460905de7ac09",
       "version_major": 2,
       "version_minor": 0
      },
      "text/plain": [
       "Validation: |          | 0/? [00:00<?, ?it/s]"
      ]
     },
     "metadata": {},
     "output_type": "display_data"
    },
    {
     "data": {
      "application/vnd.jupyter.widget-view+json": {
       "model_id": "d4d739aa37a541fc8817eda39a47dd32",
       "version_major": 2,
       "version_minor": 0
      },
      "text/plain": [
       "Validation: |          | 0/? [00:00<?, ?it/s]"
      ]
     },
     "metadata": {},
     "output_type": "display_data"
    },
    {
     "data": {
      "application/vnd.jupyter.widget-view+json": {
       "model_id": "d94bd9354e474d318610ec626f62c6b7",
       "version_major": 2,
       "version_minor": 0
      },
      "text/plain": [
       "Validation: |          | 0/? [00:00<?, ?it/s]"
      ]
     },
     "metadata": {},
     "output_type": "display_data"
    },
    {
     "data": {
      "application/vnd.jupyter.widget-view+json": {
       "model_id": "5bf18e10cc8a46d394a589e4e9cc43b3",
       "version_major": 2,
       "version_minor": 0
      },
      "text/plain": [
       "Validation: |          | 0/? [00:00<?, ?it/s]"
      ]
     },
     "metadata": {},
     "output_type": "display_data"
    },
    {
     "data": {
      "application/vnd.jupyter.widget-view+json": {
       "model_id": "80cd083443ec4b128d43426832b65dea",
       "version_major": 2,
       "version_minor": 0
      },
      "text/plain": [
       "Validation: |          | 0/? [00:00<?, ?it/s]"
      ]
     },
     "metadata": {},
     "output_type": "display_data"
    },
    {
     "data": {
      "application/vnd.jupyter.widget-view+json": {
       "model_id": "b67e6b9f94c947f5909fe7967b257fe2",
       "version_major": 2,
       "version_minor": 0
      },
      "text/plain": [
       "Validation: |          | 0/? [00:00<?, ?it/s]"
      ]
     },
     "metadata": {},
     "output_type": "display_data"
    },
    {
     "data": {
      "application/vnd.jupyter.widget-view+json": {
       "model_id": "9fb4d9db8e874ccb9a7879c27d103e45",
       "version_major": 2,
       "version_minor": 0
      },
      "text/plain": [
       "Validation: |          | 0/? [00:00<?, ?it/s]"
      ]
     },
     "metadata": {},
     "output_type": "display_data"
    },
    {
     "data": {
      "application/vnd.jupyter.widget-view+json": {
       "model_id": "a1d9fd62dd0647d295d4dcff0402cd70",
       "version_major": 2,
       "version_minor": 0
      },
      "text/plain": [
       "Validation: |          | 0/? [00:00<?, ?it/s]"
      ]
     },
     "metadata": {},
     "output_type": "display_data"
    },
    {
     "data": {
      "application/vnd.jupyter.widget-view+json": {
       "model_id": "54bddbc8e38b4eebac5d0232d3da1596",
       "version_major": 2,
       "version_minor": 0
      },
      "text/plain": [
       "Validation: |          | 0/? [00:00<?, ?it/s]"
      ]
     },
     "metadata": {},
     "output_type": "display_data"
    },
    {
     "data": {
      "application/vnd.jupyter.widget-view+json": {
       "model_id": "6800efb700f141d9971779ddc94db397",
       "version_major": 2,
       "version_minor": 0
      },
      "text/plain": [
       "Validation: |          | 0/? [00:00<?, ?it/s]"
      ]
     },
     "metadata": {},
     "output_type": "display_data"
    },
    {
     "data": {
      "application/vnd.jupyter.widget-view+json": {
       "model_id": "c0ed2840752a487a912d96a7a5c2cdd7",
       "version_major": 2,
       "version_minor": 0
      },
      "text/plain": [
       "Validation: |          | 0/? [00:00<?, ?it/s]"
      ]
     },
     "metadata": {},
     "output_type": "display_data"
    },
    {
     "data": {
      "application/vnd.jupyter.widget-view+json": {
       "model_id": "5fc79e25b0504751ad88730b754dcc88",
       "version_major": 2,
       "version_minor": 0
      },
      "text/plain": [
       "Validation: |          | 0/? [00:00<?, ?it/s]"
      ]
     },
     "metadata": {},
     "output_type": "display_data"
    },
    {
     "data": {
      "application/vnd.jupyter.widget-view+json": {
       "model_id": "efa26411b24c4bb28f05b40f9539c7bd",
       "version_major": 2,
       "version_minor": 0
      },
      "text/plain": [
       "Validation: |          | 0/? [00:00<?, ?it/s]"
      ]
     },
     "metadata": {},
     "output_type": "display_data"
    },
    {
     "data": {
      "application/vnd.jupyter.widget-view+json": {
       "model_id": "8fea48f7ba1149a097ccada68d68af97",
       "version_major": 2,
       "version_minor": 0
      },
      "text/plain": [
       "Validation: |          | 0/? [00:00<?, ?it/s]"
      ]
     },
     "metadata": {},
     "output_type": "display_data"
    },
    {
     "data": {
      "application/vnd.jupyter.widget-view+json": {
       "model_id": "c610a97f07d74e19879178cc57411d90",
       "version_major": 2,
       "version_minor": 0
      },
      "text/plain": [
       "Validation: |          | 0/? [00:00<?, ?it/s]"
      ]
     },
     "metadata": {},
     "output_type": "display_data"
    },
    {
     "data": {
      "application/vnd.jupyter.widget-view+json": {
       "model_id": "36fc26a6802f4da1b8a4ce015a263f06",
       "version_major": 2,
       "version_minor": 0
      },
      "text/plain": [
       "Validation: |          | 0/? [00:00<?, ?it/s]"
      ]
     },
     "metadata": {},
     "output_type": "display_data"
    },
    {
     "data": {
      "application/vnd.jupyter.widget-view+json": {
       "model_id": "cfc65163e3b54e10b14c539a46f62c5a",
       "version_major": 2,
       "version_minor": 0
      },
      "text/plain": [
       "Validation: |          | 0/? [00:00<?, ?it/s]"
      ]
     },
     "metadata": {},
     "output_type": "display_data"
    },
    {
     "data": {
      "application/vnd.jupyter.widget-view+json": {
       "model_id": "104a40ec6e2f4b2cb5cdce9601b803eb",
       "version_major": 2,
       "version_minor": 0
      },
      "text/plain": [
       "Validation: |          | 0/? [00:00<?, ?it/s]"
      ]
     },
     "metadata": {},
     "output_type": "display_data"
    },
    {
     "data": {
      "application/vnd.jupyter.widget-view+json": {
       "model_id": "a83c7ea9ea404ad690d685215c315a2e",
       "version_major": 2,
       "version_minor": 0
      },
      "text/plain": [
       "Validation: |          | 0/? [00:00<?, ?it/s]"
      ]
     },
     "metadata": {},
     "output_type": "display_data"
    },
    {
     "data": {
      "application/vnd.jupyter.widget-view+json": {
       "model_id": "e9643a4ff9194e52821e3c0dcb6bcb18",
       "version_major": 2,
       "version_minor": 0
      },
      "text/plain": [
       "Validation: |          | 0/? [00:00<?, ?it/s]"
      ]
     },
     "metadata": {},
     "output_type": "display_data"
    },
    {
     "ename": "MemoryError",
     "evalue": "",
     "output_type": "error",
     "traceback": [
      "\u001b[1;31m---------------------------------------------------------------------------\u001b[0m",
      "\u001b[1;31mMemoryError\u001b[0m                               Traceback (most recent call last)",
      "Cell \u001b[1;32mIn[87], line 65\u001b[0m\n\u001b[0;32m     63\u001b[0m trainer\u001b[38;5;241m.\u001b[39mlogger\u001b[38;5;241m.\u001b[39mexperiment\u001b[38;5;241m.\u001b[39madd_text(\u001b[38;5;124m\"\u001b[39m\u001b[38;5;124mphase/start\u001b[39m\u001b[38;5;124m\"\u001b[39m, phase, global_step\u001b[38;5;241m=\u001b[39mtrainer\u001b[38;5;241m.\u001b[39mglobal_step)\n\u001b[0;32m     64\u001b[0m \u001b[38;5;66;03m# pinn_model.log = lambda name, value, **kw: super(type(pinn_model), pinn_model).log(f\"{phase}/{name}\", value, **kw)\u001b[39;00m\n\u001b[1;32m---> 65\u001b[0m \u001b[43mtrainer\u001b[49m\u001b[38;5;241;43m.\u001b[39;49m\u001b[43mfit\u001b[49m\u001b[43m(\u001b[49m\u001b[43mpinn_model\u001b[49m\u001b[43m,\u001b[49m\u001b[43m \u001b[49m\u001b[43mdatamodule\u001b[49m\u001b[38;5;241;43m=\u001b[39;49m\u001b[43mdatamodule\u001b[49m\u001b[43m,\u001b[49m\n\u001b[0;32m     66\u001b[0m \u001b[43m            \u001b[49m\u001b[43mckpt_path\u001b[49m\u001b[38;5;241;43m=\u001b[39;49m\u001b[43mckpt_path\u001b[49m\u001b[43m \u001b[49m\u001b[38;5;28;43;01mif\u001b[39;49;00m\u001b[43m \u001b[49m\u001b[43mcontinue_training\u001b[49m\u001b[43m \u001b[49m\u001b[38;5;129;43;01mand\u001b[39;49;00m\u001b[43m \u001b[49m\u001b[43mlast_model\u001b[49m\u001b[43m \u001b[49m\u001b[38;5;129;43;01mis\u001b[39;49;00m\u001b[43m \u001b[49m\u001b[38;5;28;43;01mNone\u001b[39;49;00m\u001b[43m \u001b[49m\u001b[38;5;28;43;01melse\u001b[39;49;00m\u001b[43m \u001b[49m\u001b[38;5;28;43;01mNone\u001b[39;49;00m\u001b[43m)\u001b[49m\n\u001b[0;32m     67\u001b[0m ckpt_name \u001b[38;5;241m=\u001b[39m (\u001b[38;5;124mf\u001b[39m\u001b[38;5;124m\"\u001b[39m\u001b[38;5;124mdata/adpinn_\u001b[39m\u001b[38;5;132;01m{\u001b[39;00mphase\u001b[38;5;132;01m}\u001b[39;00m\u001b[38;5;124m_\u001b[39m\u001b[38;5;132;01m{\u001b[39;00moutput_tag\u001b[38;5;132;01m}\u001b[39;00m\u001b[38;5;124m.pth\u001b[39m\u001b[38;5;124m\"\u001b[39m)\n\u001b[0;32m     68\u001b[0m trainer\u001b[38;5;241m.\u001b[39msave_checkpoint(ckpt_name)\n",
      "File \u001b[1;32mw:\\bigTool\\Anaconda\\envs\\AI\\lib\\site-packages\\lightning\\pytorch\\trainer\\trainer.py:560\u001b[0m, in \u001b[0;36mTrainer.fit\u001b[1;34m(self, model, train_dataloaders, val_dataloaders, datamodule, ckpt_path)\u001b[0m\n\u001b[0;32m    558\u001b[0m \u001b[38;5;28mself\u001b[39m\u001b[38;5;241m.\u001b[39mtraining \u001b[38;5;241m=\u001b[39m \u001b[38;5;28;01mTrue\u001b[39;00m\n\u001b[0;32m    559\u001b[0m \u001b[38;5;28mself\u001b[39m\u001b[38;5;241m.\u001b[39mshould_stop \u001b[38;5;241m=\u001b[39m \u001b[38;5;28;01mFalse\u001b[39;00m\n\u001b[1;32m--> 560\u001b[0m \u001b[43mcall\u001b[49m\u001b[38;5;241;43m.\u001b[39;49m\u001b[43m_call_and_handle_interrupt\u001b[49m\u001b[43m(\u001b[49m\n\u001b[0;32m    561\u001b[0m \u001b[43m    \u001b[49m\u001b[38;5;28;43mself\u001b[39;49m\u001b[43m,\u001b[49m\u001b[43m \u001b[49m\u001b[38;5;28;43mself\u001b[39;49m\u001b[38;5;241;43m.\u001b[39;49m\u001b[43m_fit_impl\u001b[49m\u001b[43m,\u001b[49m\u001b[43m \u001b[49m\u001b[43mmodel\u001b[49m\u001b[43m,\u001b[49m\u001b[43m \u001b[49m\u001b[43mtrain_dataloaders\u001b[49m\u001b[43m,\u001b[49m\u001b[43m \u001b[49m\u001b[43mval_dataloaders\u001b[49m\u001b[43m,\u001b[49m\u001b[43m \u001b[49m\u001b[43mdatamodule\u001b[49m\u001b[43m,\u001b[49m\u001b[43m \u001b[49m\u001b[43mckpt_path\u001b[49m\n\u001b[0;32m    562\u001b[0m \u001b[43m\u001b[49m\u001b[43m)\u001b[49m\n",
      "File \u001b[1;32mw:\\bigTool\\Anaconda\\envs\\AI\\lib\\site-packages\\lightning\\pytorch\\trainer\\call.py:49\u001b[0m, in \u001b[0;36m_call_and_handle_interrupt\u001b[1;34m(trainer, trainer_fn, *args, **kwargs)\u001b[0m\n\u001b[0;32m     47\u001b[0m     \u001b[38;5;28;01mif\u001b[39;00m trainer\u001b[38;5;241m.\u001b[39mstrategy\u001b[38;5;241m.\u001b[39mlauncher \u001b[38;5;129;01mis\u001b[39;00m \u001b[38;5;129;01mnot\u001b[39;00m \u001b[38;5;28;01mNone\u001b[39;00m:\n\u001b[0;32m     48\u001b[0m         \u001b[38;5;28;01mreturn\u001b[39;00m trainer\u001b[38;5;241m.\u001b[39mstrategy\u001b[38;5;241m.\u001b[39mlauncher\u001b[38;5;241m.\u001b[39mlaunch(trainer_fn, \u001b[38;5;241m*\u001b[39margs, trainer\u001b[38;5;241m=\u001b[39mtrainer, \u001b[38;5;241m*\u001b[39m\u001b[38;5;241m*\u001b[39mkwargs)\n\u001b[1;32m---> 49\u001b[0m     \u001b[38;5;28;01mreturn\u001b[39;00m trainer_fn(\u001b[38;5;241m*\u001b[39margs, \u001b[38;5;241m*\u001b[39m\u001b[38;5;241m*\u001b[39mkwargs)\n\u001b[0;32m     51\u001b[0m \u001b[38;5;28;01mexcept\u001b[39;00m _TunerExitException:\n\u001b[0;32m     52\u001b[0m     _call_teardown_hook(trainer)\n",
      "File \u001b[1;32mw:\\bigTool\\Anaconda\\envs\\AI\\lib\\site-packages\\lightning\\pytorch\\trainer\\trainer.py:598\u001b[0m, in \u001b[0;36mTrainer._fit_impl\u001b[1;34m(self, model, train_dataloaders, val_dataloaders, datamodule, ckpt_path)\u001b[0m\n\u001b[0;32m    591\u001b[0m     download_model_from_registry(ckpt_path, \u001b[38;5;28mself\u001b[39m)\n\u001b[0;32m    592\u001b[0m ckpt_path \u001b[38;5;241m=\u001b[39m \u001b[38;5;28mself\u001b[39m\u001b[38;5;241m.\u001b[39m_checkpoint_connector\u001b[38;5;241m.\u001b[39m_select_ckpt_path(\n\u001b[0;32m    593\u001b[0m     \u001b[38;5;28mself\u001b[39m\u001b[38;5;241m.\u001b[39mstate\u001b[38;5;241m.\u001b[39mfn,\n\u001b[0;32m    594\u001b[0m     ckpt_path,\n\u001b[0;32m    595\u001b[0m     model_provided\u001b[38;5;241m=\u001b[39m\u001b[38;5;28;01mTrue\u001b[39;00m,\n\u001b[0;32m    596\u001b[0m     model_connected\u001b[38;5;241m=\u001b[39m\u001b[38;5;28mself\u001b[39m\u001b[38;5;241m.\u001b[39mlightning_module \u001b[38;5;129;01mis\u001b[39;00m \u001b[38;5;129;01mnot\u001b[39;00m \u001b[38;5;28;01mNone\u001b[39;00m,\n\u001b[0;32m    597\u001b[0m )\n\u001b[1;32m--> 598\u001b[0m \u001b[38;5;28;43mself\u001b[39;49m\u001b[38;5;241;43m.\u001b[39;49m\u001b[43m_run\u001b[49m\u001b[43m(\u001b[49m\u001b[43mmodel\u001b[49m\u001b[43m,\u001b[49m\u001b[43m \u001b[49m\u001b[43mckpt_path\u001b[49m\u001b[38;5;241;43m=\u001b[39;49m\u001b[43mckpt_path\u001b[49m\u001b[43m)\u001b[49m\n\u001b[0;32m    600\u001b[0m \u001b[38;5;28;01massert\u001b[39;00m \u001b[38;5;28mself\u001b[39m\u001b[38;5;241m.\u001b[39mstate\u001b[38;5;241m.\u001b[39mstopped\n\u001b[0;32m    601\u001b[0m \u001b[38;5;28mself\u001b[39m\u001b[38;5;241m.\u001b[39mtraining \u001b[38;5;241m=\u001b[39m \u001b[38;5;28;01mFalse\u001b[39;00m\n",
      "File \u001b[1;32mw:\\bigTool\\Anaconda\\envs\\AI\\lib\\site-packages\\lightning\\pytorch\\trainer\\trainer.py:1011\u001b[0m, in \u001b[0;36mTrainer._run\u001b[1;34m(self, model, ckpt_path)\u001b[0m\n\u001b[0;32m   1006\u001b[0m \u001b[38;5;28mself\u001b[39m\u001b[38;5;241m.\u001b[39m_signal_connector\u001b[38;5;241m.\u001b[39mregister_signal_handlers()\n\u001b[0;32m   1008\u001b[0m \u001b[38;5;66;03m# ----------------------------\u001b[39;00m\n\u001b[0;32m   1009\u001b[0m \u001b[38;5;66;03m# RUN THE TRAINER\u001b[39;00m\n\u001b[0;32m   1010\u001b[0m \u001b[38;5;66;03m# ----------------------------\u001b[39;00m\n\u001b[1;32m-> 1011\u001b[0m results \u001b[38;5;241m=\u001b[39m \u001b[38;5;28;43mself\u001b[39;49m\u001b[38;5;241;43m.\u001b[39;49m\u001b[43m_run_stage\u001b[49m\u001b[43m(\u001b[49m\u001b[43m)\u001b[49m\n\u001b[0;32m   1013\u001b[0m \u001b[38;5;66;03m# ----------------------------\u001b[39;00m\n\u001b[0;32m   1014\u001b[0m \u001b[38;5;66;03m# POST-Training CLEAN UP\u001b[39;00m\n\u001b[0;32m   1015\u001b[0m \u001b[38;5;66;03m# ----------------------------\u001b[39;00m\n\u001b[0;32m   1016\u001b[0m log\u001b[38;5;241m.\u001b[39mdebug(\u001b[38;5;124mf\u001b[39m\u001b[38;5;124m\"\u001b[39m\u001b[38;5;132;01m{\u001b[39;00m\u001b[38;5;28mself\u001b[39m\u001b[38;5;241m.\u001b[39m\u001b[38;5;18m__class__\u001b[39m\u001b[38;5;241m.\u001b[39m\u001b[38;5;18m__name__\u001b[39m\u001b[38;5;132;01m}\u001b[39;00m\u001b[38;5;124m: trainer tearing down\u001b[39m\u001b[38;5;124m\"\u001b[39m)\n",
      "File \u001b[1;32mw:\\bigTool\\Anaconda\\envs\\AI\\lib\\site-packages\\lightning\\pytorch\\trainer\\trainer.py:1055\u001b[0m, in \u001b[0;36mTrainer._run_stage\u001b[1;34m(self)\u001b[0m\n\u001b[0;32m   1053\u001b[0m         \u001b[38;5;28mself\u001b[39m\u001b[38;5;241m.\u001b[39m_run_sanity_check()\n\u001b[0;32m   1054\u001b[0m     \u001b[38;5;28;01mwith\u001b[39;00m torch\u001b[38;5;241m.\u001b[39mautograd\u001b[38;5;241m.\u001b[39mset_detect_anomaly(\u001b[38;5;28mself\u001b[39m\u001b[38;5;241m.\u001b[39m_detect_anomaly):\n\u001b[1;32m-> 1055\u001b[0m         \u001b[38;5;28;43mself\u001b[39;49m\u001b[38;5;241;43m.\u001b[39;49m\u001b[43mfit_loop\u001b[49m\u001b[38;5;241;43m.\u001b[39;49m\u001b[43mrun\u001b[49m\u001b[43m(\u001b[49m\u001b[43m)\u001b[49m\n\u001b[0;32m   1056\u001b[0m     \u001b[38;5;28;01mreturn\u001b[39;00m \u001b[38;5;28;01mNone\u001b[39;00m\n\u001b[0;32m   1057\u001b[0m \u001b[38;5;28;01mraise\u001b[39;00m \u001b[38;5;167;01mRuntimeError\u001b[39;00m(\u001b[38;5;124mf\u001b[39m\u001b[38;5;124m\"\u001b[39m\u001b[38;5;124mUnexpected state \u001b[39m\u001b[38;5;132;01m{\u001b[39;00m\u001b[38;5;28mself\u001b[39m\u001b[38;5;241m.\u001b[39mstate\u001b[38;5;132;01m}\u001b[39;00m\u001b[38;5;124m\"\u001b[39m)\n",
      "File \u001b[1;32mw:\\bigTool\\Anaconda\\envs\\AI\\lib\\site-packages\\lightning\\pytorch\\loops\\fit_loop.py:216\u001b[0m, in \u001b[0;36m_FitLoop.run\u001b[1;34m(self)\u001b[0m\n\u001b[0;32m    214\u001b[0m \u001b[38;5;28;01mtry\u001b[39;00m:\n\u001b[0;32m    215\u001b[0m     \u001b[38;5;28mself\u001b[39m\u001b[38;5;241m.\u001b[39mon_advance_start()\n\u001b[1;32m--> 216\u001b[0m     \u001b[38;5;28;43mself\u001b[39;49m\u001b[38;5;241;43m.\u001b[39;49m\u001b[43madvance\u001b[49m\u001b[43m(\u001b[49m\u001b[43m)\u001b[49m\n\u001b[0;32m    217\u001b[0m     \u001b[38;5;28mself\u001b[39m\u001b[38;5;241m.\u001b[39mon_advance_end()\n\u001b[0;32m    218\u001b[0m \u001b[38;5;28;01mexcept\u001b[39;00m \u001b[38;5;167;01mStopIteration\u001b[39;00m:\n",
      "File \u001b[1;32mw:\\bigTool\\Anaconda\\envs\\AI\\lib\\site-packages\\lightning\\pytorch\\loops\\fit_loop.py:458\u001b[0m, in \u001b[0;36m_FitLoop.advance\u001b[1;34m(self)\u001b[0m\n\u001b[0;32m    456\u001b[0m \u001b[38;5;28;01mwith\u001b[39;00m \u001b[38;5;28mself\u001b[39m\u001b[38;5;241m.\u001b[39mtrainer\u001b[38;5;241m.\u001b[39mprofiler\u001b[38;5;241m.\u001b[39mprofile(\u001b[38;5;124m\"\u001b[39m\u001b[38;5;124mrun_training_epoch\u001b[39m\u001b[38;5;124m\"\u001b[39m):\n\u001b[0;32m    457\u001b[0m     \u001b[38;5;28;01massert\u001b[39;00m \u001b[38;5;28mself\u001b[39m\u001b[38;5;241m.\u001b[39m_data_fetcher \u001b[38;5;129;01mis\u001b[39;00m \u001b[38;5;129;01mnot\u001b[39;00m \u001b[38;5;28;01mNone\u001b[39;00m\n\u001b[1;32m--> 458\u001b[0m     \u001b[38;5;28;43mself\u001b[39;49m\u001b[38;5;241;43m.\u001b[39;49m\u001b[43mepoch_loop\u001b[49m\u001b[38;5;241;43m.\u001b[39;49m\u001b[43mrun\u001b[49m\u001b[43m(\u001b[49m\u001b[38;5;28;43mself\u001b[39;49m\u001b[38;5;241;43m.\u001b[39;49m\u001b[43m_data_fetcher\u001b[49m\u001b[43m)\u001b[49m\n",
      "File \u001b[1;32mw:\\bigTool\\Anaconda\\envs\\AI\\lib\\site-packages\\lightning\\pytorch\\loops\\training_epoch_loop.py:153\u001b[0m, in \u001b[0;36m_TrainingEpochLoop.run\u001b[1;34m(self, data_fetcher)\u001b[0m\n\u001b[0;32m    151\u001b[0m \u001b[38;5;28;01mtry\u001b[39;00m:\n\u001b[0;32m    152\u001b[0m     \u001b[38;5;28mself\u001b[39m\u001b[38;5;241m.\u001b[39madvance(data_fetcher)\n\u001b[1;32m--> 153\u001b[0m     \u001b[38;5;28;43mself\u001b[39;49m\u001b[38;5;241;43m.\u001b[39;49m\u001b[43mon_advance_end\u001b[49m\u001b[43m(\u001b[49m\u001b[43mdata_fetcher\u001b[49m\u001b[43m)\u001b[49m\n\u001b[0;32m    154\u001b[0m \u001b[38;5;28;01mexcept\u001b[39;00m \u001b[38;5;167;01mStopIteration\u001b[39;00m:\n\u001b[0;32m    155\u001b[0m     \u001b[38;5;28;01mbreak\u001b[39;00m\n",
      "File \u001b[1;32mw:\\bigTool\\Anaconda\\envs\\AI\\lib\\site-packages\\lightning\\pytorch\\loops\\training_epoch_loop.py:398\u001b[0m, in \u001b[0;36m_TrainingEpochLoop.on_advance_end\u001b[1;34m(self, data_fetcher)\u001b[0m\n\u001b[0;32m    394\u001b[0m \u001b[38;5;28;01mif\u001b[39;00m \u001b[38;5;129;01mnot\u001b[39;00m \u001b[38;5;28mself\u001b[39m\u001b[38;5;241m.\u001b[39m_should_accumulate():\n\u001b[0;32m    395\u001b[0m     \u001b[38;5;66;03m# clear gradients to not leave any unused memory during validation\u001b[39;00m\n\u001b[0;32m    396\u001b[0m     call\u001b[38;5;241m.\u001b[39m_call_lightning_module_hook(\u001b[38;5;28mself\u001b[39m\u001b[38;5;241m.\u001b[39mtrainer, \u001b[38;5;124m\"\u001b[39m\u001b[38;5;124mon_validation_model_zero_grad\u001b[39m\u001b[38;5;124m\"\u001b[39m)\n\u001b[1;32m--> 398\u001b[0m \u001b[38;5;28;43mself\u001b[39;49m\u001b[38;5;241;43m.\u001b[39;49m\u001b[43mval_loop\u001b[49m\u001b[38;5;241;43m.\u001b[39;49m\u001b[43mrun\u001b[49m\u001b[43m(\u001b[49m\u001b[43m)\u001b[49m\n\u001b[0;32m    399\u001b[0m \u001b[38;5;28mself\u001b[39m\u001b[38;5;241m.\u001b[39mtrainer\u001b[38;5;241m.\u001b[39mtraining \u001b[38;5;241m=\u001b[39m \u001b[38;5;28;01mTrue\u001b[39;00m\n\u001b[0;32m    400\u001b[0m \u001b[38;5;28mself\u001b[39m\u001b[38;5;241m.\u001b[39mtrainer\u001b[38;5;241m.\u001b[39m_logger_connector\u001b[38;5;241m.\u001b[39m_first_loop_iter \u001b[38;5;241m=\u001b[39m first_loop_iter\n",
      "File \u001b[1;32mw:\\bigTool\\Anaconda\\envs\\AI\\lib\\site-packages\\lightning\\pytorch\\loops\\utilities.py:179\u001b[0m, in \u001b[0;36m_no_grad_context.<locals>._decorator\u001b[1;34m(self, *args, **kwargs)\u001b[0m\n\u001b[0;32m    177\u001b[0m     context_manager \u001b[38;5;241m=\u001b[39m torch\u001b[38;5;241m.\u001b[39mno_grad\n\u001b[0;32m    178\u001b[0m \u001b[38;5;28;01mwith\u001b[39;00m context_manager():\n\u001b[1;32m--> 179\u001b[0m     \u001b[38;5;28;01mreturn\u001b[39;00m loop_run(\u001b[38;5;28mself\u001b[39m, \u001b[38;5;241m*\u001b[39margs, \u001b[38;5;241m*\u001b[39m\u001b[38;5;241m*\u001b[39mkwargs)\n",
      "File \u001b[1;32mw:\\bigTool\\Anaconda\\envs\\AI\\lib\\site-packages\\lightning\\pytorch\\loops\\evaluation_loop.py:123\u001b[0m, in \u001b[0;36m_EvaluationLoop.run\u001b[1;34m(self)\u001b[0m\n\u001b[0;32m    121\u001b[0m \u001b[38;5;28;01mif\u001b[39;00m \u001b[38;5;28mself\u001b[39m\u001b[38;5;241m.\u001b[39mskip:\n\u001b[0;32m    122\u001b[0m     \u001b[38;5;28;01mreturn\u001b[39;00m []\n\u001b[1;32m--> 123\u001b[0m \u001b[38;5;28;43mself\u001b[39;49m\u001b[38;5;241;43m.\u001b[39;49m\u001b[43mreset\u001b[49m\u001b[43m(\u001b[49m\u001b[43m)\u001b[49m\n\u001b[0;32m    124\u001b[0m \u001b[38;5;28mself\u001b[39m\u001b[38;5;241m.\u001b[39mon_run_start()\n\u001b[0;32m    125\u001b[0m data_fetcher \u001b[38;5;241m=\u001b[39m \u001b[38;5;28mself\u001b[39m\u001b[38;5;241m.\u001b[39m_data_fetcher\n",
      "File \u001b[1;32mw:\\bigTool\\Anaconda\\envs\\AI\\lib\\site-packages\\lightning\\pytorch\\loops\\evaluation_loop.py:259\u001b[0m, in \u001b[0;36m_EvaluationLoop.reset\u001b[1;34m(self)\u001b[0m\n\u001b[0;32m    257\u001b[0m combined_loader\u001b[38;5;241m.\u001b[39mlimits \u001b[38;5;241m=\u001b[39m \u001b[38;5;28mself\u001b[39m\u001b[38;5;241m.\u001b[39mmax_batches\n\u001b[0;32m    258\u001b[0m data_fetcher\u001b[38;5;241m.\u001b[39msetup(combined_loader)\n\u001b[1;32m--> 259\u001b[0m \u001b[38;5;28;43miter\u001b[39;49m\u001b[43m(\u001b[49m\u001b[43mdata_fetcher\u001b[49m\u001b[43m)\u001b[49m  \u001b[38;5;66;03m# creates the iterator inside the fetcher\u001b[39;00m\n\u001b[0;32m    261\u001b[0m \u001b[38;5;66;03m# add the previous `fetched` value to properly track `is_last_batch` with no prefetching\u001b[39;00m\n\u001b[0;32m    262\u001b[0m data_fetcher\u001b[38;5;241m.\u001b[39mfetched \u001b[38;5;241m+\u001b[39m\u001b[38;5;241m=\u001b[39m \u001b[38;5;28mself\u001b[39m\u001b[38;5;241m.\u001b[39mbatch_progress\u001b[38;5;241m.\u001b[39mcurrent\u001b[38;5;241m.\u001b[39mready\n",
      "File \u001b[1;32mw:\\bigTool\\Anaconda\\envs\\AI\\lib\\site-packages\\lightning\\pytorch\\loops\\fetchers.py:105\u001b[0m, in \u001b[0;36m_PrefetchDataFetcher.__iter__\u001b[1;34m(self)\u001b[0m\n\u001b[0;32m    103\u001b[0m \u001b[38;5;129m@override\u001b[39m\n\u001b[0;32m    104\u001b[0m \u001b[38;5;28;01mdef\u001b[39;00m \u001b[38;5;21m__iter__\u001b[39m(\u001b[38;5;28mself\u001b[39m) \u001b[38;5;241m-\u001b[39m\u001b[38;5;241m>\u001b[39m \u001b[38;5;124m\"\u001b[39m\u001b[38;5;124m_PrefetchDataFetcher\u001b[39m\u001b[38;5;124m\"\u001b[39m:\n\u001b[1;32m--> 105\u001b[0m     \u001b[38;5;28;43msuper\u001b[39;49m\u001b[43m(\u001b[49m\u001b[43m)\u001b[49m\u001b[38;5;241;43m.\u001b[39;49m\u001b[38;5;21;43m__iter__\u001b[39;49m\u001b[43m(\u001b[49m\u001b[43m)\u001b[49m\n\u001b[0;32m    106\u001b[0m     \u001b[38;5;28;01mif\u001b[39;00m \u001b[38;5;28mself\u001b[39m\u001b[38;5;241m.\u001b[39mlength \u001b[38;5;129;01mis\u001b[39;00m \u001b[38;5;129;01mnot\u001b[39;00m \u001b[38;5;28;01mNone\u001b[39;00m:\n\u001b[0;32m    107\u001b[0m         \u001b[38;5;66;03m# ignore pre-fetching, it's not necessary\u001b[39;00m\n\u001b[0;32m    108\u001b[0m         \u001b[38;5;28;01mreturn\u001b[39;00m \u001b[38;5;28mself\u001b[39m\n",
      "File \u001b[1;32mw:\\bigTool\\Anaconda\\envs\\AI\\lib\\site-packages\\lightning\\pytorch\\loops\\fetchers.py:52\u001b[0m, in \u001b[0;36m_DataFetcher.__iter__\u001b[1;34m(self)\u001b[0m\n\u001b[0;32m     50\u001b[0m \u001b[38;5;129m@override\u001b[39m\n\u001b[0;32m     51\u001b[0m \u001b[38;5;28;01mdef\u001b[39;00m \u001b[38;5;21m__iter__\u001b[39m(\u001b[38;5;28mself\u001b[39m) \u001b[38;5;241m-\u001b[39m\u001b[38;5;241m>\u001b[39m \u001b[38;5;124m\"\u001b[39m\u001b[38;5;124m_DataFetcher\u001b[39m\u001b[38;5;124m\"\u001b[39m:\n\u001b[1;32m---> 52\u001b[0m     \u001b[38;5;28mself\u001b[39m\u001b[38;5;241m.\u001b[39miterator \u001b[38;5;241m=\u001b[39m \u001b[38;5;28;43miter\u001b[39;49m\u001b[43m(\u001b[49m\u001b[38;5;28;43mself\u001b[39;49m\u001b[38;5;241;43m.\u001b[39;49m\u001b[43mcombined_loader\u001b[49m\u001b[43m)\u001b[49m\n\u001b[0;32m     53\u001b[0m     \u001b[38;5;28mself\u001b[39m\u001b[38;5;241m.\u001b[39mreset()\n\u001b[0;32m     54\u001b[0m     \u001b[38;5;28;01mreturn\u001b[39;00m \u001b[38;5;28mself\u001b[39m\n",
      "File \u001b[1;32mw:\\bigTool\\Anaconda\\envs\\AI\\lib\\site-packages\\lightning\\pytorch\\utilities\\combined_loader.py:351\u001b[0m, in \u001b[0;36mCombinedLoader.__iter__\u001b[1;34m(self)\u001b[0m\n\u001b[0;32m    349\u001b[0m \u001b[38;5;28mcls\u001b[39m \u001b[38;5;241m=\u001b[39m _SUPPORTED_MODES[\u001b[38;5;28mself\u001b[39m\u001b[38;5;241m.\u001b[39m_mode][\u001b[38;5;124m\"\u001b[39m\u001b[38;5;124miterator\u001b[39m\u001b[38;5;124m\"\u001b[39m]\n\u001b[0;32m    350\u001b[0m iterator \u001b[38;5;241m=\u001b[39m \u001b[38;5;28mcls\u001b[39m(\u001b[38;5;28mself\u001b[39m\u001b[38;5;241m.\u001b[39mflattened, \u001b[38;5;28mself\u001b[39m\u001b[38;5;241m.\u001b[39m_limits)\n\u001b[1;32m--> 351\u001b[0m \u001b[38;5;28;43miter\u001b[39;49m\u001b[43m(\u001b[49m\u001b[43miterator\u001b[49m\u001b[43m)\u001b[49m\n\u001b[0;32m    352\u001b[0m \u001b[38;5;28mself\u001b[39m\u001b[38;5;241m.\u001b[39m_iterator \u001b[38;5;241m=\u001b[39m iterator\n\u001b[0;32m    353\u001b[0m \u001b[38;5;28;01mreturn\u001b[39;00m \u001b[38;5;28mself\u001b[39m\n",
      "File \u001b[1;32mw:\\bigTool\\Anaconda\\envs\\AI\\lib\\site-packages\\lightning\\pytorch\\utilities\\combined_loader.py:155\u001b[0m, in \u001b[0;36m_Sequential.__iter__\u001b[1;34m(self)\u001b[0m\n\u001b[0;32m    153\u001b[0m \u001b[38;5;28mself\u001b[39m\u001b[38;5;241m.\u001b[39m_iterator_idx \u001b[38;5;241m=\u001b[39m \u001b[38;5;241m0\u001b[39m\n\u001b[0;32m    154\u001b[0m \u001b[38;5;28mself\u001b[39m\u001b[38;5;241m.\u001b[39m_idx \u001b[38;5;241m=\u001b[39m \u001b[38;5;241m0\u001b[39m\n\u001b[1;32m--> 155\u001b[0m \u001b[38;5;28;43mself\u001b[39;49m\u001b[38;5;241;43m.\u001b[39;49m\u001b[43m_load_current_iterator\u001b[49m\u001b[43m(\u001b[49m\u001b[43m)\u001b[49m\n\u001b[0;32m    156\u001b[0m \u001b[38;5;28;01mreturn\u001b[39;00m \u001b[38;5;28mself\u001b[39m\n",
      "File \u001b[1;32mw:\\bigTool\\Anaconda\\envs\\AI\\lib\\site-packages\\lightning\\pytorch\\utilities\\combined_loader.py:173\u001b[0m, in \u001b[0;36m_Sequential._load_current_iterator\u001b[1;34m(self)\u001b[0m\n\u001b[0;32m    170\u001b[0m \u001b[38;5;28;01mdef\u001b[39;00m \u001b[38;5;21m_load_current_iterator\u001b[39m(\u001b[38;5;28mself\u001b[39m) \u001b[38;5;241m-\u001b[39m\u001b[38;5;241m>\u001b[39m \u001b[38;5;28;01mNone\u001b[39;00m:\n\u001b[0;32m    171\u001b[0m     \u001b[38;5;66;03m# Load a single DataLoader, prevents multiple sets of workers from starting unnecessarily\u001b[39;00m\n\u001b[0;32m    172\u001b[0m     \u001b[38;5;28;01mif\u001b[39;00m \u001b[38;5;28mself\u001b[39m\u001b[38;5;241m.\u001b[39m_iterator_idx \u001b[38;5;241m<\u001b[39m \u001b[38;5;28mlen\u001b[39m(\u001b[38;5;28mself\u001b[39m\u001b[38;5;241m.\u001b[39miterables):\n\u001b[1;32m--> 173\u001b[0m         \u001b[38;5;28mself\u001b[39m\u001b[38;5;241m.\u001b[39miterators \u001b[38;5;241m=\u001b[39m [\u001b[38;5;28;43miter\u001b[39;49m\u001b[43m(\u001b[49m\u001b[38;5;28;43mself\u001b[39;49m\u001b[38;5;241;43m.\u001b[39;49m\u001b[43miterables\u001b[49m\u001b[43m[\u001b[49m\u001b[38;5;28;43mself\u001b[39;49m\u001b[38;5;241;43m.\u001b[39;49m\u001b[43m_iterator_idx\u001b[49m\u001b[43m]\u001b[49m\u001b[43m)\u001b[49m]\n\u001b[0;32m    174\u001b[0m     \u001b[38;5;28;01melse\u001b[39;00m:\n\u001b[0;32m    175\u001b[0m         \u001b[38;5;66;03m# No more iterables to step through, return an empty list\u001b[39;00m\n\u001b[0;32m    176\u001b[0m         \u001b[38;5;28mself\u001b[39m\u001b[38;5;241m.\u001b[39miterators \u001b[38;5;241m=\u001b[39m []\n",
      "File \u001b[1;32mw:\\bigTool\\Anaconda\\envs\\AI\\lib\\site-packages\\torch\\utils\\data\\dataloader.py:436\u001b[0m, in \u001b[0;36mDataLoader.__iter__\u001b[1;34m(self)\u001b[0m\n\u001b[0;32m    434\u001b[0m         \u001b[38;5;28mself\u001b[39m\u001b[38;5;241m.\u001b[39m_iterator \u001b[38;5;241m=\u001b[39m \u001b[38;5;28mself\u001b[39m\u001b[38;5;241m.\u001b[39m_get_iterator()\n\u001b[0;32m    435\u001b[0m     \u001b[38;5;28;01melse\u001b[39;00m:\n\u001b[1;32m--> 436\u001b[0m         \u001b[38;5;28;43mself\u001b[39;49m\u001b[38;5;241;43m.\u001b[39;49m\u001b[43m_iterator\u001b[49m\u001b[38;5;241;43m.\u001b[39;49m\u001b[43m_reset\u001b[49m\u001b[43m(\u001b[49m\u001b[38;5;28;43mself\u001b[39;49m\u001b[43m)\u001b[49m\n\u001b[0;32m    437\u001b[0m     \u001b[38;5;28;01mreturn\u001b[39;00m \u001b[38;5;28mself\u001b[39m\u001b[38;5;241m.\u001b[39m_iterator\n\u001b[0;32m    438\u001b[0m \u001b[38;5;28;01melse\u001b[39;00m:\n",
      "File \u001b[1;32mw:\\bigTool\\Anaconda\\envs\\AI\\lib\\site-packages\\torch\\utils\\data\\dataloader.py:1118\u001b[0m, in \u001b[0;36m_MultiProcessingDataLoaderIter._reset\u001b[1;34m(self, loader, first_iter)\u001b[0m\n\u001b[0;32m   1116\u001b[0m \u001b[38;5;66;03m# prime the prefetch loop\u001b[39;00m\n\u001b[0;32m   1117\u001b[0m \u001b[38;5;28;01mfor\u001b[39;00m _ \u001b[38;5;129;01min\u001b[39;00m \u001b[38;5;28mrange\u001b[39m(\u001b[38;5;28mself\u001b[39m\u001b[38;5;241m.\u001b[39m_prefetch_factor \u001b[38;5;241m*\u001b[39m \u001b[38;5;28mself\u001b[39m\u001b[38;5;241m.\u001b[39m_num_workers):\n\u001b[1;32m-> 1118\u001b[0m     \u001b[38;5;28;43mself\u001b[39;49m\u001b[38;5;241;43m.\u001b[39;49m\u001b[43m_try_put_index\u001b[49m\u001b[43m(\u001b[49m\u001b[43m)\u001b[49m\n",
      "File \u001b[1;32mw:\\bigTool\\Anaconda\\envs\\AI\\lib\\site-packages\\torch\\utils\\data\\dataloader.py:1352\u001b[0m, in \u001b[0;36m_MultiProcessingDataLoaderIter._try_put_index\u001b[1;34m(self)\u001b[0m\n\u001b[0;32m   1349\u001b[0m \u001b[38;5;28;01massert\u001b[39;00m \u001b[38;5;28mself\u001b[39m\u001b[38;5;241m.\u001b[39m_tasks_outstanding \u001b[38;5;241m<\u001b[39m \u001b[38;5;28mself\u001b[39m\u001b[38;5;241m.\u001b[39m_prefetch_factor \u001b[38;5;241m*\u001b[39m \u001b[38;5;28mself\u001b[39m\u001b[38;5;241m.\u001b[39m_num_workers\n\u001b[0;32m   1351\u001b[0m \u001b[38;5;28;01mtry\u001b[39;00m:\n\u001b[1;32m-> 1352\u001b[0m     index \u001b[38;5;241m=\u001b[39m \u001b[38;5;28;43mself\u001b[39;49m\u001b[38;5;241;43m.\u001b[39;49m\u001b[43m_next_index\u001b[49m\u001b[43m(\u001b[49m\u001b[43m)\u001b[49m\n\u001b[0;32m   1353\u001b[0m \u001b[38;5;28;01mexcept\u001b[39;00m \u001b[38;5;167;01mStopIteration\u001b[39;00m:\n\u001b[0;32m   1354\u001b[0m     \u001b[38;5;28;01mreturn\u001b[39;00m\n",
      "File \u001b[1;32mw:\\bigTool\\Anaconda\\envs\\AI\\lib\\site-packages\\torch\\utils\\data\\dataloader.py:621\u001b[0m, in \u001b[0;36m_BaseDataLoaderIter._next_index\u001b[1;34m(self)\u001b[0m\n\u001b[0;32m    620\u001b[0m \u001b[38;5;28;01mdef\u001b[39;00m \u001b[38;5;21m_next_index\u001b[39m(\u001b[38;5;28mself\u001b[39m):\n\u001b[1;32m--> 621\u001b[0m     \u001b[38;5;28;01mreturn\u001b[39;00m \u001b[38;5;28;43mnext\u001b[39;49m\u001b[43m(\u001b[49m\u001b[38;5;28;43mself\u001b[39;49m\u001b[38;5;241;43m.\u001b[39;49m\u001b[43m_sampler_iter\u001b[49m\u001b[43m)\u001b[49m\n",
      "File \u001b[1;32mw:\\bigTool\\Anaconda\\envs\\AI\\lib\\site-packages\\torch\\utils\\data\\sampler.py:285\u001b[0m, in \u001b[0;36mBatchSampler.__iter__\u001b[1;34m(self)\u001b[0m\n\u001b[0;32m    283\u001b[0m             \u001b[38;5;28;01mbreak\u001b[39;00m\n\u001b[0;32m    284\u001b[0m \u001b[38;5;28;01melse\u001b[39;00m:\n\u001b[1;32m--> 285\u001b[0m     batch \u001b[38;5;241m=\u001b[39m \u001b[43m[\u001b[49m\u001b[38;5;241;43m0\u001b[39;49m\u001b[43m]\u001b[49m\u001b[43m \u001b[49m\u001b[38;5;241;43m*\u001b[39;49m\u001b[43m \u001b[49m\u001b[38;5;28;43mself\u001b[39;49m\u001b[38;5;241;43m.\u001b[39;49m\u001b[43mbatch_size\u001b[49m\n\u001b[0;32m    286\u001b[0m     idx_in_batch \u001b[38;5;241m=\u001b[39m \u001b[38;5;241m0\u001b[39m\n\u001b[0;32m    287\u001b[0m     \u001b[38;5;28;01mfor\u001b[39;00m idx \u001b[38;5;129;01min\u001b[39;00m \u001b[38;5;28mself\u001b[39m\u001b[38;5;241m.\u001b[39msampler:\n",
      "\u001b[1;31mMemoryError\u001b[0m: "
     ]
    }
   ],
   "source": [
    "if do_training:\n",
    "    logger = TensorBoardLogger(\"tb_logs\", name=\"seqtrain_ADPINN\")\n",
    "    # save every 100 epochs\n",
    "    checkpoint_callback = ModelCheckpoint(\n",
    "        dirpath=\"checkpoints/\",\n",
    "        filename=\"pinn-{epoch:04d}\",\n",
    "        save_top_k=0,                # keep latest checkpoints\n",
    "        every_n_epochs=100            # save every 100 epochs\n",
    "    )\n",
    "\n",
    "    trainer = Trainer(log_every_n_steps=3, callbacks=[checkpoint_callback]\n",
    "                      , gradient_clip_val=1.0, logger=logger)\n",
    "    last_model = None\n",
    "\n",
    "    train_phase_togo = [phase for phase in phase_order if phase in train_setting]\n",
    "\n",
    "    if continue_training:\n",
    "        # first check whether the ckpt_path is a lightning checkpoint or state_dict\n",
    "        checkpoint = torch.load(ckpt_path, map_location=\"cpu\")\n",
    "        # also check whether sequential training step meet our next training phase\n",
    "        if \"state_dict\" in checkpoint and \"train_phase\" in checkpoint and checkpoint[\"train_phase\"] == train_phase_togo[0]:\n",
    "            # could directly fit the trainer.\n",
    "            last_epoch = checkpoint[\"epoch\"]\n",
    "            total_epochs = last_epoch\n",
    "            print(f\"Continue training from phase {checkpoint['train_phase']} with epoch {last_epoch}\")\n",
    "        else:\n",
    "            ad_net.load_state_dict(checkpoint['state_dict'], strict=False)\n",
    "            total_epochs = 0\n",
    "            continue_training = False # already loaded state_dict, no need to continue training\n",
    "    else:\n",
    "        total_epochs = 0\n",
    "    \n",
    "    for phase in train_phase_togo:\n",
    "        cfg = train_setting[phase]\n",
    "        lr = cfg.get(\"learning_rate\", 1e-3)\n",
    "        max_epochs = cfg.get(\"max_epochs\", 1000)\n",
    "        batch_size = cfg.get(\"batch_size\", 400_000)\n",
    "        if phase == \"init_c\":\n",
    "            pinn_model = ADPINN_InitC(ad_net, learning_rate=lr)\n",
    "            datamodule = c_dataset\n",
    "        elif phase == \"init_c_denoise\":\n",
    "            pinn_model = Denoising_C_Pretrainer(ad_net.c_net, lr=lr)\n",
    "            datamodule = c_dataset\n",
    "        elif phase == \"init_v\":\n",
    "            pinn_model = ADPINN_InitV(ad_net, learning_rate=lr)\n",
    "            datamodule = v_dataset\n",
    "        elif phase == \"pde_v\":\n",
    "            pinn_model = ADPINN_PDE_V(ad_net, learning_rate=lr)\n",
    "            datamodule = DCEMRIDataModule(data, char_domain, mask,\n",
    "                                      batch_size=batch_size, device=device) # use smaller batch_size\n",
    "        elif phase == \"joint\":\n",
    "            pinn_model = ADPINN_Joint(ad_net, learning_rate=lr)\n",
    "            datamodule = DCEMRIDataModule(data, char_domain, mask,\n",
    "                                      batch_size=batch_size, device=device)  # use smaller batch_size\n",
    "        else:\n",
    "            continue\n",
    "\n",
    "        # update epochs per phase on the same Trainer\n",
    "        total_epochs += max_epochs\n",
    "        trainer.fit_loop.max_epochs = total_epochs\n",
    "\n",
    "        # optional: tag phase in TensorBoard\n",
    "        trainer.logger.experiment.add_text(\"phase/start\", phase, global_step=trainer.global_step)\n",
    "        # pinn_model.log = lambda name, value, **kw: super(type(pinn_model), pinn_model).log(f\"{phase}/{name}\", value, **kw)\n",
    "        trainer.fit(pinn_model, datamodule=datamodule,\n",
    "                    ckpt_path=ckpt_path if continue_training and last_model is None else None)\n",
    "        ckpt_name = (f\"data/adpinn_{phase}_{output_tag}.pth\")\n",
    "        trainer.save_checkpoint(ckpt_name)\n",
    "        \n",
    "        last_model = pinn_model\n",
    "    \n",
    "    pinn_model = last_model\n",
    "else:\n",
    "    if continue_training:\n",
    "        checkpoint = torch.load(ckpt_path)\n",
    "        ad_net.load_state_dict(checkpoint, strict=False)\n",
    "    pinn_model = ADPINN_Joint(ad_net)\n",
    "\n",
    "\n",
    "# After training, visualize the learned velocity field and diffusivity\n",
    "# Extract learned parameters\n",
    "D_learned = pinn_model.ad_net.D.item()\n",
    "\n",
    "print(f\"Learned diffusivity D: {D_learned}\")"
   ]
  },
  {
   "cell_type": "markdown",
   "id": "a062a7d7",
   "metadata": {},
   "source": [
    "#### 4. Visualize result.\n",
    "Finally we will save the velocity mat to run GLAD (get pathline figure) in matlab."
   ]
  },
  {
   "cell_type": "code",
   "execution_count": 98,
   "id": "9d1104b0",
   "metadata": {},
   "outputs": [
    {
     "name": "stdout",
     "output_type": "stream",
     "text": [
      "(600, 700, 3)\n"
     ]
    },
    {
     "data": {
      "text/plain": [
       "<matplotlib.image.AxesImage at 0x25cfa4938e0>"
      ]
     },
     "execution_count": 98,
     "metadata": {},
     "output_type": "execute_result"
    },
    {
     "data": {
      "application/vnd.jupyter.widget-view+json": {
       "model_id": "43daaf20dff44a179e9a628aadf6f4ff",
       "version_major": 2,
       "version_minor": 0
      },
      "image/png": "[encoded data removed]",
      "text/html": [
       "\n",
       "            <div style=\"display: inline-block;\">\n",
       "                <div class=\"jupyter-widgets widget-label\" style=\"text-align: center;\">\n",
       "                    Figure\n",
       "                </div>\n",
       "                <img src='data:image/png;base64,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' width=800.0/>\n",
       "            </div>\n",
       "        "
      ],
      "text/plain": [
       "Canvas(toolbar=Toolbar(toolitems=[('Home', 'Reset original view', 'home', 'home'), ('Back', 'Back to previous …"
      ]
     },
     "metadata": {},
     "output_type": "display_data"
    }
   ],
   "source": [
    "\n",
    "# 1. Extract learned velocity field on a grid for visualization\n",
    "pinn_model.to(device)\n",
    "# using mask to filter out the background vectors\n",
    "# _ = interactive_quiver(vx, vy, vz, pixdim, default_elev=-62.76, default_azim=-10.87)\n",
    "nx, ny, nz = data.shape[0], data.shape[1], data.shape[2]\n",
    "v_fig, vx,vy,vz = pinn_model.draw_velocity_volume();\n",
    "print(v_fig.shape)\n",
    "plt.figure(figsize=(8,8))\n",
    "plt.imshow(v_fig)\n",
    "# use a grid (from real to characteristic) to extract velocity field"
   ]
  },
  {
   "cell_type": "code",
   "execution_count": 89,
   "id": "5835d99f",
   "metadata": {},
   "outputs": [
    {
     "data": {
      "application/vnd.jupyter.widget-view+json": {
       "model_id": "f9dc56601c7a4df9abe9e14d9bddd7fd",
       "version_major": 2,
       "version_minor": 0
      },
      "image/png": "[encoded data removed]",
      "text/html": [
       "\n",
       "            <div style=\"display: inline-block;\">\n",
       "                <div class=\"jupyter-widgets widget-label\" style=\"text-align: center;\">\n",
       "                    Figure\n",
       "                </div>\n",
       "                <img src='data:image/png;base64,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' width=600.0/>\n",
       "            </div>\n",
       "        "
      ],
      "text/plain": [
       "Canvas(toolbar=Toolbar(toolitems=[('Home', 'Reset original view', 'home', 'home'), ('Back', 'Back to previous …"
      ]
     },
     "metadata": {},
     "output_type": "display_data"
    }
   ],
   "source": [
    "# use pinn_model.val_slice_4d to draw concentration slices\n",
    "c_vis_list = pinn_model.c_net.draw_concentration_slices()\n",
    "plt.figure(figsize=(6,3))\n",
    "plt.imshow(c_vis_list, cmap='jet', vmin=0, vmax=1)\n",
    "plt.axis('off')\n",
    "plt.show()"
   ]
  },
  {
   "cell_type": "code",
   "execution_count": 90,
   "id": "f4cb6f15",
   "metadata": {},
   "outputs": [
    {
     "name": "stdout",
     "output_type": "stream",
     "text": [
      "torch.Size([737280, 4])\n",
      "Pred shape: (32, 40, 32, 18) True shape: (32, 40, 32, 18)\n"
     ]
    },
    {
     "data": {
      "application/vnd.jupyter.widget-view+json": {
       "model_id": "f4bae281ab1b4224802bf1c4f7862d52",
       "version_major": 2,
       "version_minor": 0
      },
      "text/plain": [
       "VBox(children=(HBox(children=(IntSlider(value=0, description='Time', max=17), IntSlider(value=16, description=…"
      ]
     },
     "metadata": {},
     "output_type": "display_data"
    },
    {
     "data": {
      "application/vnd.jupyter.widget-view+json": {
       "model_id": "0e9ac37f168342fb81f3c7fd4f97c394",
       "version_major": 2,
       "version_minor": 0
      },
      "image/png": "[encoded data removed]",
      "text/html": [
       "\n",
       "            <div style=\"display: inline-block;\">\n",
       "                <div class=\"jupyter-widgets widget-label\" style=\"text-align: center;\">\n",
       "                    Figure\n",
       "                </div>\n",
       "                <img src='data:image/png;base64,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' width=500.0/>\n",
       "            </div>\n",
       "        "
      ],
      "text/plain": [
       "Canvas(toolbar=Toolbar(toolitems=[('Home', 'Reset original view', 'home', 'home'), ('Back', 'Back to previous …"
      ]
     },
     "metadata": {},
     "output_type": "display_data"
    }
   ],
   "source": [
    "# 2. Extract all density field with x,y,z,t 4D grid for visualization\n",
    "\n",
    "grid_tensor_4d = char_domain.get_characteristic_geotimedomain()  # include time part\n",
    "print(grid_tensor_4d.shape)\n",
    "def predict_concentration_4d(model, pts4, nx, ny, nz, nt, batch_size=200_000):\n",
    "    out_list = []\n",
    "    with torch.no_grad():\n",
    "        for i in range(0, pts4.shape[0], batch_size):\n",
    "            chunk = pts4[i:i+batch_size]\n",
    "            pred = model.c_net(chunk)\n",
    "            out_list.append(pred.cpu())\n",
    "    C_flat = torch.cat(out_list, dim=0).numpy().reshape(nx, ny, nz, nt)\n",
    "    # C_flat = torch.cat(out_list, dim=0).numpy().reshape(nx, ny, nz, nt)\n",
    "    return C_flat\n",
    "\n",
    "C_pred_4d = predict_concentration_4d(pinn_model, grid_tensor_4d, nx, ny, nz, len(t), batch_size=200_000)\n",
    "\n",
    "# Back to physical units\n",
    "C_pred_4d *= c_dataset.C_star\n",
    "print(\"Pred shape:\", C_pred_4d.shape, \"True shape:\", data.shape)  # (nx, ny, nz, nt)\n",
    "\n",
    "_ = draw_nifti_slices_with_time(C_pred_4d, data, mask)\n",
    "# try calculate loss with true data\n",
    "# from sklearn.metrics import mean_squared_error\n",
    "# mse_overall = mean_squared_error(data.flatten(), C_pred_4d.flatten())\n"
   ]
  },
  {
   "cell_type": "code",
   "execution_count": null,
   "id": "b173fbb2",
   "metadata": {},
   "outputs": [
    {
     "ename": "NameError",
     "evalue": "name 'vx' is not defined",
     "output_type": "error",
     "traceback": [
      "\u001b[1;31m---------------------------------------------------------------------------\u001b[0m",
      "\u001b[1;31mNameError\u001b[0m                                 Traceback (most recent call last)",
      "Cell \u001b[1;32mIn[65], line 3\u001b[0m\n\u001b[0;32m      1\u001b[0m \u001b[38;5;66;03m# Export velocity to .mat format so that we could run GLAD using matlab\u001b[39;00m\n\u001b[0;32m      2\u001b[0m \u001b[38;5;66;03m# the rOMT code require velocity reshaped to N*3 x 1, with unit cell/min\u001b[39;00m\n\u001b[1;32m----> 3\u001b[0m save_velocity_mat(\u001b[43mvx\u001b[49m,vy,vz,pixdim,path\u001b[38;5;241m=\u001b[39m\u001b[38;5;124mf\u001b[39m\u001b[38;5;124m\"\u001b[39m\u001b[38;5;124mdata/ad_net_velocity_\u001b[39m\u001b[38;5;132;01m{\u001b[39;00moutput_tag\u001b[38;5;132;01m}\u001b[39;00m\u001b[38;5;124m.mat\u001b[39m\u001b[38;5;124m\"\u001b[39m)\n",
      "\u001b[1;31mNameError\u001b[0m: name 'vx' is not defined"
     ]
    }
   ],
   "source": [
    "# Export velocity to .mat format so that we could run GLAD using matlab\n",
    "# the rOMT code require velocity reshaped to N*3 x 1, with unit cell/min\n",
    "save_velocity_mat(vx,vy,vz,pixdim,path=f\"data/ad_net_velocity_{output_tag}.mat\")"
   ]
  }
 ],
 "metadata": {
  "kernelspec": {
   "display_name": "AI",
   "language": "python",
   "name": "python3"
  },
  "language_info": {
   "codemirror_mode": {
    "name": "ipython",
    "version": 3
   },
   "file_extension": ".py",
   "mimetype": "text/x-python",
   "name": "python",
   "nbconvert_exporter": "python",
   "pygments_lexer": "ipython3",
   "version": "3.10.14"
  }
 },
 "nbformat": 4,
 "nbformat_minor": 5
}
