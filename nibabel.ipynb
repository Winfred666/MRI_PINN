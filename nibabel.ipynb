{
 "cells": [
  {
   "cell_type": "markdown",
   "id": "3f57a032",
   "metadata": {},
   "source": [
    "### A test of nibabel to load nii DCE-MRI data"
   ]
  },
  {
   "cell_type": "code",
   "execution_count": 1,
   "id": "136464b3",
   "metadata": {},
   "outputs": [],
   "source": [
    "import numpy as np\n",
    "import nibabel as nib\n",
    "\n",
    "# 3D erose and smooth the mask \n",
    "from scipy.ndimage import binary_erosion,label,gaussian_filter\n",
    "\n",
    "# downsample images for quick testing \n",
    "from scipy.ndimage import zoom\n"
   ]
  },
  {
   "cell_type": "code",
   "execution_count": 2,
   "id": "85e3bf19",
   "metadata": {},
   "outputs": [],
   "source": [
    "def read_nii_list(template, data_index):\n",
    "    datapaths = [template.format(i) for i in data_index]\n",
    "    imgs = [nib.load(path) for path in datapaths]\n",
    "\n",
    "    # check whether all headers are align (affine + pixdim)\n",
    "    ref_header = imgs[0].header\n",
    "    for img in imgs[0:]:\n",
    "        assert img.get_data_dtype() == np.dtype('float32')\n",
    "        assert np.allclose(img.header.get_best_affine(), ref_header.get_best_affine())\n",
    "        assert np.allclose(img.header['pixdim'], ref_header['pixdim'])\n",
    "    pixdim = np.round(ref_header['pixdim'][1:4], 4)\n",
    "    print(\"All headers are aligned, pixdim: \", ref_header['pixdim'][1:4])\n",
    "    # directly transfer all to numpy array, shape: (nx, ny, nz, nt)\n",
    "    imgs = [np.nan_to_num( \\\n",
    "        np.asanyarray(img.dataobj, dtype=np.float32),nan=0.0) for img in imgs]\n",
    "    imgs = np.stack(imgs, axis=-1)\n",
    "    return imgs, pixdim\n"
   ]
  },
  {
   "cell_type": "code",
   "execution_count": 11,
   "id": "222028e2",
   "metadata": {},
   "outputs": [
    {
     "name": "stdout",
     "output_type": "stream",
     "text": [
      "All headers are aligned, pixdim:  [0.12500004 0.12499997 0.12499953]\n",
      "(128, 160, 128, 9) [0.125 0.125 0.125]\n",
      "0.0 989.0536\n"
     ]
    }
   ],
   "source": [
    "# WARNING: time stamp is related to the actual acquisition time, should record them as part of metadata.\n",
    "timeindex = list(range(9, 18))  # 4,5,...35, total 32 time points\n",
    "timestamp = [(t - 4) * 4 for t in timeindex]  # in minutes, 4th minute is the injection time, then record MRI every 4 minutes\n",
    "\n",
    "imgs, pixdim = read_nii_list(\"data/psnrT1_FLASH_3D_{:04d}.nii\", timeindex)\n",
    "imgs[imgs < 0] = 0\n",
    "\n",
    "print(imgs.shape, pixdim)  # (nx, ny, nz, nt), (dx, dy, dz)\n",
    "print(imgs[:,:,:,0].min(), imgs[:,:,:,0].max())\n",
    "\n",
    "mask = nib.load(\"data/Template_C57Bl6_n30_brain_ISO_52.nii\")\n",
    "mask = np.asanyarray(mask.dataobj, dtype=bool)"
   ]
  },
  {
   "cell_type": "code",
   "execution_count": 12,
   "id": "4aca0d39",
   "metadata": {},
   "outputs": [],
   "source": [
    "from visualize import draw_nifti_slices_with_threshold"
   ]
  },
  {
   "cell_type": "code",
   "execution_count": 32,
   "id": "b66f7f42",
   "metadata": {},
   "outputs": [
    {
     "name": "stdout",
     "output_type": "stream",
     "text": [
      "Number of connected components: 1\n"
     ]
    }
   ],
   "source": [
    "\n",
    "postmask = binary_erosion(mask, iterations=8)\n",
    "\n",
    "# then isolate the largest connected component\n",
    "isolated_mask = np.zeros_like(postmask)\n",
    "labeled_array, num_features = label(postmask)\n",
    "print(\"Number of connected components:\", num_features)\n",
    "if num_features > 0:\n",
    "    largest_component = np.argmax(np.bincount(labeled_array.flat)[1:]) + 1\n",
    "    isolated_mask[labeled_array == largest_component] = 1\n",
    "\n",
    "# 3D Gaussian smoothing\n",
    "smoothed_mask = gaussian_filter(isolated_mask.astype(float), sigma=1) > 0.5\n",
    "postmask = smoothed_mask.astype(bool)"
   ]
  },
  {
   "cell_type": "code",
   "execution_count": null,
   "id": "5d9dc0e4",
   "metadata": {},
   "outputs": [
    {
     "name": "stdout",
     "output_type": "stream",
     "text": [
      "Volume shape: (128, 160, 128) dtype: float32\n"
     ]
    },
    {
     "data": {
      "application/vnd.jupyter.widget-view+json": {
       "model_id": "221e96f88a7e4cd7b1919becd2343bf4",
       "version_major": 2,
       "version_minor": 0
      },
      "text/plain": [
       "interactive(children=(IntSlider(value=64, description='z', max=127), FloatSlider(value=0.5, description='thr',…"
      ]
     },
     "metadata": {},
     "output_type": "display_data"
    }
   ],
   "source": [
    "draw_nifti_slices_with_threshold(imgs[:,:,:,5], postmask)"
   ]
  },
  {
   "cell_type": "code",
   "execution_count": 36,
   "id": "97df397e",
   "metadata": {},
   "outputs": [
    {
     "name": "stdout",
     "output_type": "stream",
     "text": [
      "(32, 40, 32, 9) 0.0 299.53845\n",
      "Volume shape: (32, 40, 32) dtype: float32\n"
     ]
    },
    {
     "data": {
      "application/vnd.jupyter.widget-view+json": {
       "model_id": "eb4621640b1744febe7c5210c890de67",
       "version_major": 2,
       "version_minor": 0
      },
      "text/plain": [
       "interactive(children=(IntSlider(value=16, description='z', max=31), FloatSlider(value=0.5, description='thr', …"
      ]
     },
     "metadata": {},
     "output_type": "display_data"
    }
   ],
   "source": [
    "\n",
    "# Select the image to downsample (e.g., imgs[0])\n",
    "zoom_factors = (0.25, 0.25, 0.25)\n",
    "\n",
    "pixdim = pixdim / np.array(zoom_factors)\n",
    "\n",
    "# zoom and masked (optionally threshold) each image in the 4D array\n",
    "zoom_factors_4d = (*zoom_factors, 1)\n",
    "\n",
    "downsampled_mask = zoom(postmask.astype(float), zoom_factors, order=1) > 0.5 # Use linear for masks\n",
    "\n",
    "down_imgs = zoom(imgs, zoom_factors_4d, order=3)\n",
    "down_imgs *= downsampled_mask[..., np.newaxis]  # apply mask\n",
    "\n",
    "down_imgs[down_imgs < 0] = 0\n",
    "\n",
    "# Print the new shape\n",
    "print(down_imgs.shape, down_imgs.min(), down_imgs.max())\n",
    "_ = draw_nifti_slices_with_threshold(down_imgs)\n"
   ]
  },
  {
   "cell_type": "code",
   "execution_count": null,
   "id": "6f5029a2",
   "metadata": {},
   "outputs": [
    {
     "name": "stdout",
     "output_type": "stream",
     "text": [
      "(32,) (40,) (32,) [2370.37037037 2370.37037037 2370.37037037]\n"
     ]
    },
    {
     "ename": "",
     "evalue": "",
     "output_type": "error",
     "traceback": [
      "\u001b[1;31mThe Kernel crashed while executing code in the current cell or a previous cell. \n",
      "\u001b[1;31mPlease review the code in the cell(s) to identify a possible cause of the failure. \n",
      "\u001b[1;31mClick <a href='https://aka.ms/vscodeJupyterKernelCrash'>here</a> for more info. \n",
      "\u001b[1;31mView Jupyter <a href='command:jupyter.viewOutput'>log</a> for further details."
     ]
    }
   ],
   "source": [
    "# prepare x, which is from pixdim per voxel\n",
    "x = np.arange(0, down_imgs.shape[0]) * pixdim[0]\n",
    "y = np.arange(0, down_imgs.shape[1]) * pixdim[1]\n",
    "z = np.arange(0, down_imgs.shape[2]) * pixdim[2]\n",
    "print(x.shape, y.shape, z.shape, pixdim)\n",
    "\n",
    "# Save the downsampled volume (masked + optionally thresholded) as npz,\n",
    "# ready to be used in PINN training\n",
    "np.savez_compressed(\"data/dataset_downsampled.npz\",\n",
    "                    data=down_imgs.astype(np.float32),\n",
    "                    mask=downsampled_mask.astype(np.bool_),\n",
    "                    pixdim=pixdim.astype(np.float32),\n",
    "                    x=x.astype(np.float32),\n",
    "                    y=y.astype(np.float32),\n",
    "                    z=z.astype(np.float32),\n",
    "                    t=np.array(timestamp, dtype=np.float32),)"
   ]
  },
  {
   "cell_type": "code",
   "execution_count": null,
   "id": "10534f3e",
   "metadata": {},
   "outputs": [],
   "source": []
  }
 ],
 "metadata": {
  "kernelspec": {
   "display_name": "AI",
   "language": "python",
   "name": "python3"
  },
  "language_info": {
   "codemirror_mode": {
    "name": "ipython",
    "version": 3
   },
   "file_extension": ".py",
   "mimetype": "text/x-python",
   "name": "python",
   "nbconvert_exporter": "python",
   "pygments_lexer": "ipython3",
   "version": "3.10.14"
  }
 },
 "nbformat": 4,
 "nbformat_minor": 5
}
