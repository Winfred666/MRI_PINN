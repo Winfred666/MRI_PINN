{
 "cells": [
  {
   "cell_type": "markdown",
   "id": "3f57a032",
   "metadata": {},
   "source": [
    "### A test of nibabel to load nii DCE-MRI data into dataset"
   ]
  },
  {
   "cell_type": "code",
   "execution_count": 1,
   "id": "f657ca36",
   "metadata": {},
   "outputs": [],
   "source": [
    "# Select the image to downsample (e.g., imgs[0])\n",
    "\n",
    "zoom_factors = (0.25, 0.25, 0.25)\n",
    "timeindex = list(range(9, 27))  # 4,5,...35, total 32 time points\n",
    "\n",
    "data_template = \"data/KX078_DCE_nii_data/psnrT1_FLASH_3D_{:04d}.nii\"\n",
    "mask_path = \"data/KX078_DCE_nii_data/Template_C57Bl6_n30_brain_KX_078.nii\"\n",
    "mask_erosion_iter = 10 # if affect mask outside of \n",
    "save_path = \"data/KX078_DCE_nii_data/dataset_downsampled.npz\""
   ]
  },
  {
   "cell_type": "code",
   "execution_count": 2,
   "id": "136464b3",
   "metadata": {},
   "outputs": [],
   "source": [
    "import numpy as np\n",
    "import nibabel as nib\n",
    "# 3D erose and smooth the mask \n",
    "from scipy.ndimage import binary_erosion,label,gaussian_filter\n",
    "# downsample images for quick testing \n",
    "from scipy.ndimage import zoom\n",
    "from utils.visualize import draw_nifti_slices_with_threshold,draw_nifti_slices_with_time\n",
    "import os\n",
    "\n",
    "%matplotlib widget\n",
    "%load_ext autoreload\n",
    "%autoreload 2\n"
   ]
  },
  {
   "cell_type": "code",
   "execution_count": 3,
   "id": "85e3bf19",
   "metadata": {},
   "outputs": [],
   "source": [
    "def read_nii_list(template, data_index):\n",
    "    datapaths = [template.format(i) for i in data_index]\n",
    "    imgs = [nib.load(path) for path in datapaths]\n",
    "\n",
    "    # check whether all headers are align (affine + pixdim)\n",
    "    ref_header = imgs[0].header\n",
    "    for img in imgs[0:]:\n",
    "        assert img.get_data_dtype() == np.dtype('float32')\n",
    "        assert np.allclose(img.header.get_best_affine(), ref_header.get_best_affine())\n",
    "        assert np.allclose(img.header['pixdim'], ref_header['pixdim'])\n",
    "    pixdim = np.round(ref_header['pixdim'][1:4], 4)\n",
    "    print(\"All headers are aligned, pixdim: \", ref_header['pixdim'][1:4])\n",
    "    # directly transfer all to numpy array, shape: (nx, ny, nz, nt)\n",
    "    imgs = [np.nan_to_num( \\\n",
    "        np.asanyarray(img.dataobj, dtype=np.float32),nan=0.0) for img in imgs]\n",
    "    imgs = np.stack(imgs, axis=-1)\n",
    "    return imgs, pixdim\n"
   ]
  },
  {
   "cell_type": "code",
   "execution_count": 4,
   "id": "222028e2",
   "metadata": {},
   "outputs": [
    {
     "name": "stdout",
     "output_type": "stream",
     "text": [
      "All headers are aligned, pixdim:  [0.12500003 0.125      0.1249999 ]\n",
      "(128, 160, 128, 18) [0.125 0.125 0.125]\n",
      "0.0 494.51337\n"
     ]
    }
   ],
   "source": [
    "# WARNING: time stamp is related to the actual acquisition time, should record them as part of metadata.\n",
    "timestamp = [(t - 4) * 4 for t in timeindex]  # in minutes, 4th minute is the injection time, then record MRI every 4 minutes\n",
    "\n",
    "imgs, pixdim = read_nii_list(data_template, timeindex)\n",
    "imgs[imgs < 0] = 0\n",
    "\n",
    "print(imgs.shape, pixdim)  # (nx, ny, nz, nt), (dx, dy, dz)\n",
    "print(imgs[:,:,:,0].min(), imgs[:,:,:,0].max())\n",
    "\n",
    "mask = nib.load(mask_path)\n",
    "mask = np.asanyarray(mask.dataobj, dtype=bool)"
   ]
  },
  {
   "cell_type": "code",
   "execution_count": 5,
   "id": "b66f7f42",
   "metadata": {},
   "outputs": [
    {
     "name": "stdout",
     "output_type": "stream",
     "text": [
      "Number of connected components: 1\n"
     ]
    }
   ],
   "source": [
    "postmask = binary_erosion(mask, iterations=mask_erosion_iter)\n",
    "\n",
    "# then isolate the largest connected component\n",
    "isolated_mask = np.zeros_like(postmask)\n",
    "labeled_array, num_features = label(postmask)\n",
    "print(\"Number of connected components:\", num_features)\n",
    "if num_features > 0:\n",
    "    largest_component = np.argmax(np.bincount(labeled_array.flat)[1:]) + 1\n",
    "    isolated_mask[labeled_array == largest_component] = 1\n",
    "\n",
    "# 3D Gaussian smoothing\n",
    "smoothed_mask = gaussian_filter(isolated_mask.astype(float), sigma=1) > 0.5\n",
    "postmask = smoothed_mask.astype(bool)"
   ]
  },
  {
   "cell_type": "code",
   "execution_count": 6,
   "id": "5d9dc0e4",
   "metadata": {},
   "outputs": [
    {
     "data": {
      "application/vnd.jupyter.widget-view+json": {
       "model_id": "e16a224c3d254172b4748d3b8590a166",
       "version_major": 2,
       "version_minor": 0
      },
      "text/plain": [
       "VBox(children=(HBox(children=(IntSlider(value=0, description='Time', max=17), IntSlider(value=63, description=…"
      ]
     },
     "metadata": {},
     "output_type": "display_data"
    },
    {
     "data": {
      "application/vnd.jupyter.widget-view+json": {
       "model_id": "3c3c619deecf44e6804aef0cfc2d7d63",
       "version_major": 2,
       "version_minor": 0
      },
      "image/png": "[encoded data removed]",
      "text/html": [
       "\n",
       "            <div style=\"display: inline-block;\">\n",
       "                <div class=\"jupyter-widgets widget-label\" style=\"text-align: center;\">\n",
       "                    Figure\n",
       "                </div>\n",
       "                <img src='data:image/png;base64,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' width=800.0/>\n",
       "            </div>\n",
       "        "
      ],
      "text/plain": [
       "Canvas(toolbar=Toolbar(toolitems=[('Home', 'Reset original view', 'home', 'home'), ('Back', 'Back to previous …"
      ]
     },
     "metadata": {},
     "output_type": "display_data"
    }
   ],
   "source": [
    "_ = draw_nifti_slices_with_time(imgs, brain_mask=postmask, percentiles=(1,98), slice_along_axis='z')"
   ]
  },
  {
   "cell_type": "code",
   "execution_count": 7,
   "id": "97df397e",
   "metadata": {},
   "outputs": [
    {
     "name": "stdout",
     "output_type": "stream",
     "text": [
      "(32, 40, 32, 18) 0.0 290.3152\n"
     ]
    },
    {
     "data": {
      "application/vnd.jupyter.widget-view+json": {
       "model_id": "d359493c1864444ea3488ad32ad5c885",
       "version_major": 2,
       "version_minor": 0
      },
      "text/plain": [
       "VBox(children=(HBox(children=(IntSlider(value=0, description='Time', max=17), IntSlider(value=15, description=…"
      ]
     },
     "metadata": {},
     "output_type": "display_data"
    },
    {
     "data": {
      "application/vnd.jupyter.widget-view+json": {
       "model_id": "6272f79dac3c49b8bce8a844bb11f979",
       "version_major": 2,
       "version_minor": 0
      },
      "image/png": "[encoded data removed]",
      "text/html": [
       "\n",
       "            <div style=\"display: inline-block;\">\n",
       "                <div class=\"jupyter-widgets widget-label\" style=\"text-align: center;\">\n",
       "                    Figure\n",
       "                </div>\n",
       "                <img src='data:image/png;base64,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' width=800.0/>\n",
       "            </div>\n",
       "        "
      ],
      "text/plain": [
       "Canvas(toolbar=Toolbar(toolitems=[('Home', 'Reset original view', 'home', 'home'), ('Back', 'Back to previous …"
      ]
     },
     "metadata": {},
     "output_type": "display_data"
    }
   ],
   "source": [
    "\n",
    "pixdim = pixdim / np.array(zoom_factors)\n",
    "\n",
    "# zoom and masked (optionally threshold) each image in the 4D array\n",
    "zoom_factors_4d = (*zoom_factors, 1)\n",
    "\n",
    "downsampled_mask = zoom(postmask.astype(float), zoom_factors, order=1) > 0.5 # Use linear for masks\n",
    "\n",
    "down_imgs = zoom(imgs, zoom_factors_4d, order=3)\n",
    "down_imgs *= downsampled_mask[..., np.newaxis]  # apply mask\n",
    "\n",
    "down_imgs[down_imgs < 0] = 0\n",
    "\n",
    "# Print the new shape\n",
    "print(down_imgs.shape, down_imgs.min(), down_imgs.max())\n",
    "_ = draw_nifti_slices_with_time(down_imgs)\n"
   ]
  },
  {
   "cell_type": "code",
   "execution_count": 8,
   "id": "6f5029a2",
   "metadata": {},
   "outputs": [
    {
     "name": "stdout",
     "output_type": "stream",
     "text": [
      "(32,) (40,) (32,) [0.5 0.5 0.5]\n"
     ]
    }
   ],
   "source": [
    "# prepare x, which is from pixdim per voxel\n",
    "x = np.arange(0, down_imgs.shape[0]) * pixdim[0]\n",
    "y = np.arange(0, down_imgs.shape[1]) * pixdim[1]\n",
    "z = np.arange(0, down_imgs.shape[2]) * pixdim[2]\n",
    "print(x.shape, y.shape, z.shape, pixdim)\n",
    "\n",
    "os.makedirs(os.path.dirname(save_path), exist_ok=True)\n",
    "# Save the downsampled volume (masked + optionally thresholded) as npz,\n",
    "# ready to be used in PINN training\n",
    "np.savez_compressed(save_path,\n",
    "                    data=down_imgs.astype(np.float32),\n",
    "                    mask=downsampled_mask.astype(np.bool_),\n",
    "                    pixdim=pixdim.astype(np.float32),\n",
    "                    x=x.astype(np.float32),\n",
    "                    y=y.astype(np.float32),\n",
    "                    z=z.astype(np.float32),\n",
    "                    t=np.array(timestamp, dtype=np.float32),)"
   ]
  }
 ],
 "metadata": {
  "kernelspec": {
   "display_name": "AI",
   "language": "python",
   "name": "python3"
  },
  "language_info": {
   "codemirror_mode": {
    "name": "ipython",
    "version": 3
   },
   "file_extension": ".py",
   "mimetype": "text/x-python",
   "name": "python",
   "nbconvert_exporter": "python",
   "pygments_lexer": "ipython3",
   "version": "3.10.14"
  }
 },
 "nbformat": 4,
 "nbformat_minor": 5
}
