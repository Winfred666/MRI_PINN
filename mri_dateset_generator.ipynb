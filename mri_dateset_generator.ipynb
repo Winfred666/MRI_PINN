{
 "cells": [
  {
   "cell_type": "markdown",
   "id": "3f57a032",
   "metadata": {},
   "source": [
    "### A test of nibabel to load nii DCE-MRI data into dataset"
   ]
  },
  {
   "cell_type": "code",
   "execution_count": 9,
   "id": "f657ca36",
   "metadata": {},
   "outputs": [],
   "source": [
    "# Select the image to downsample (e.g., imgs[0])\n",
    "zoom_factors = (0.3, 0.3, 0.3)\n",
    "\n",
    "timeindex = list(range(9, 27))  # 4,5,...35, total 32 time points"
   ]
  },
  {
   "cell_type": "code",
   "execution_count": 10,
   "id": "136464b3",
   "metadata": {},
   "outputs": [
    {
     "name": "stdout",
     "output_type": "stream",
     "text": [
      "The autoreload extension is already loaded. To reload it, use:\n",
      "  %reload_ext autoreload\n"
     ]
    }
   ],
   "source": [
    "import numpy as np\n",
    "import nibabel as nib\n",
    "# 3D erose and smooth the mask \n",
    "from scipy.ndimage import binary_erosion,label,gaussian_filter\n",
    "# downsample images for quick testing \n",
    "from scipy.ndimage import zoom\n",
    "from utils.visualize import draw_nifti_slices_with_threshold,draw_nifti_slices_with_time\n",
    "\n",
    "%matplotlib widget\n",
    "%load_ext autoreload\n",
    "%autoreload 2\n"
   ]
  },
  {
   "cell_type": "code",
   "execution_count": 11,
   "id": "85e3bf19",
   "metadata": {},
   "outputs": [],
   "source": [
    "def read_nii_list(template, data_index):\n",
    "    datapaths = [template.format(i) for i in data_index]\n",
    "    imgs = [nib.load(path) for path in datapaths]\n",
    "\n",
    "    # check whether all headers are align (affine + pixdim)\n",
    "    ref_header = imgs[0].header\n",
    "    for img in imgs[0:]:\n",
    "        assert img.get_data_dtype() == np.dtype('float32')\n",
    "        assert np.allclose(img.header.get_best_affine(), ref_header.get_best_affine())\n",
    "        assert np.allclose(img.header['pixdim'], ref_header['pixdim'])\n",
    "    pixdim = np.round(ref_header['pixdim'][1:4], 4)\n",
    "    print(\"All headers are aligned, pixdim: \", ref_header['pixdim'][1:4])\n",
    "    # directly transfer all to numpy array, shape: (nx, ny, nz, nt)\n",
    "    imgs = [np.nan_to_num( \\\n",
    "        np.asanyarray(img.dataobj, dtype=np.float32),nan=0.0) for img in imgs]\n",
    "    imgs = np.stack(imgs, axis=-1)\n",
    "    return imgs, pixdim\n"
   ]
  },
  {
   "cell_type": "code",
   "execution_count": 12,
   "id": "222028e2",
   "metadata": {},
   "outputs": [
    {
     "name": "stdout",
     "output_type": "stream",
     "text": [
      "All headers are aligned, pixdim:  [0.12500004 0.12499997 0.12499953]\n",
      "(128, 160, 128, 18) [0.125 0.125 0.125]\n",
      "0.0 989.0536\n"
     ]
    }
   ],
   "source": [
    "# WARNING: time stamp is related to the actual acquisition time, should record them as part of metadata.\n",
    "timestamp = [(t - 4) * 4 for t in timeindex]  # in minutes, 4th minute is the injection time, then record MRI every 4 minutes\n",
    "\n",
    "imgs, pixdim = read_nii_list(\"data/DCE_nii_data/psnrT1_FLASH_3D_{:04d}.nii\", timeindex)\n",
    "imgs[imgs < 0] = 0\n",
    "\n",
    "print(imgs.shape, pixdim)  # (nx, ny, nz, nt), (dx, dy, dz)\n",
    "print(imgs[:,:,:,0].min(), imgs[:,:,:,0].max())\n",
    "\n",
    "mask = nib.load(\"data/DCE_nii_data/Template_C57Bl6_n30_brain_ISO_52.nii\")\n",
    "mask = np.asanyarray(mask.dataobj, dtype=bool)"
   ]
  },
  {
   "cell_type": "code",
   "execution_count": 13,
   "id": "b66f7f42",
   "metadata": {},
   "outputs": [
    {
     "name": "stdout",
     "output_type": "stream",
     "text": [
      "Number of connected components: 1\n"
     ]
    }
   ],
   "source": [
    "postmask = binary_erosion(mask, iterations=8)\n",
    "\n",
    "# then isolate the largest connected component\n",
    "isolated_mask = np.zeros_like(postmask)\n",
    "labeled_array, num_features = label(postmask)\n",
    "print(\"Number of connected components:\", num_features)\n",
    "if num_features > 0:\n",
    "    largest_component = np.argmax(np.bincount(labeled_array.flat)[1:]) + 1\n",
    "    isolated_mask[labeled_array == largest_component] = 1\n",
    "\n",
    "# 3D Gaussian smoothing\n",
    "smoothed_mask = gaussian_filter(isolated_mask.astype(float), sigma=1) > 0.5\n",
    "postmask = smoothed_mask.astype(bool)"
   ]
  },
  {
   "cell_type": "code",
   "execution_count": 14,
   "id": "5d9dc0e4",
   "metadata": {},
   "outputs": [
    {
     "name": "stderr",
     "output_type": "stream",
     "text": [
      "c:\\Users\\Winfred X\\Desktop\\deepsearch\\MRI_PINN\\advect_diffuse\\utils\\visualize.py:256: RuntimeWarning: More than 20 figures have been opened. Figures created through the pyplot interface (`matplotlib.pyplot.figure`) are retained until explicitly closed and may consume too much memory. (To control this warning, see the rcParam `figure.max_open_warning`). Consider using `matplotlib.pyplot.close()`.\n",
      "  fig, ax = plt.subplots(figsize=(5, 5))\n"
     ]
    },
    {
     "data": {
      "application/vnd.jupyter.widget-view+json": {
       "model_id": "6dea3a3dc1ab4ff9bf5c1604be359028",
       "version_major": 2,
       "version_minor": 0
      },
      "text/plain": [
       "VBox(children=(HBox(children=(IntSlider(value=0, description='Time', max=17), IntSlider(value=64, description=…"
      ]
     },
     "metadata": {},
     "output_type": "display_data"
    },
    {
     "data": {
      "application/vnd.jupyter.widget-view+json": {
       "model_id": "631f68288ab6479eb76a501d9eafe1cb",
       "version_major": 2,
       "version_minor": 0
      },
      "image/png": "[encoded data removed]",
      "text/html": [
       "\n",
       "            <div style=\"display: inline-block;\">\n",
       "                <div class=\"jupyter-widgets widget-label\" style=\"text-align: center;\">\n",
       "                    Figure\n",
       "                </div>\n",
       "                <img src='data:image/png;base64,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' width=500.0/>\n",
       "            </div>\n",
       "        "
      ],
      "text/plain": [
       "Canvas(toolbar=Toolbar(toolitems=[('Home', 'Reset original view', 'home', 'home'), ('Back', 'Back to previous …"
      ]
     },
     "metadata": {},
     "output_type": "display_data"
    }
   ],
   "source": [
    "_ = draw_nifti_slices_with_time(imgs, brain_mask=postmask)"
   ]
  },
  {
   "cell_type": "code",
   "execution_count": null,
   "id": "97df397e",
   "metadata": {},
   "outputs": [
    {
     "name": "stdout",
     "output_type": "stream",
     "text": [
      "(38, 48, 38, 18) 0.0 705.13226\n",
      "Volume shape: (38, 48, 38) dtype: float32\n"
     ]
    },
    {
     "data": {
      "application/vnd.jupyter.widget-view+json": {
       "model_id": "81e1aa30215546e8bb4ab653afef7176",
       "version_major": 2,
       "version_minor": 0
      },
      "text/plain": [
       "interactive(children=(IntSlider(value=19, description='z', max=37), FloatSlider(value=0.5, description='thr', …"
      ]
     },
     "metadata": {},
     "output_type": "display_data"
    }
   ],
   "source": [
    "\n",
    "pixdim = pixdim / np.array(zoom_factors)\n",
    "\n",
    "# zoom and masked (optionally threshold) each image in the 4D array\n",
    "zoom_factors_4d = (*zoom_factors, 1)\n",
    "\n",
    "downsampled_mask = zoom(postmask.astype(float), zoom_factors, order=1) > 0.5 # Use linear for masks\n",
    "\n",
    "down_imgs = zoom(imgs, zoom_factors_4d, order=3)\n",
    "down_imgs *= downsampled_mask[..., np.newaxis]  # apply mask\n",
    "\n",
    "down_imgs[down_imgs < 0] = 0\n",
    "\n",
    "# Print the new shape\n",
    "print(down_imgs.shape, down_imgs.min(), down_imgs.max())\n",
    "_ = draw_nifti_slices_with_threshold(down_imgs)\n"
   ]
  },
  {
   "cell_type": "code",
   "execution_count": 16,
   "id": "6f5029a2",
   "metadata": {},
   "outputs": [
    {
     "name": "stdout",
     "output_type": "stream",
     "text": [
      "(38,) (48,) (38,) [0.41666667 0.41666667 0.41666667]\n"
     ]
    }
   ],
   "source": [
    "# prepare x, which is from pixdim per voxel\n",
    "x = np.arange(0, down_imgs.shape[0]) * pixdim[0]\n",
    "y = np.arange(0, down_imgs.shape[1]) * pixdim[1]\n",
    "z = np.arange(0, down_imgs.shape[2]) * pixdim[2]\n",
    "print(x.shape, y.shape, z.shape, pixdim)\n",
    "\n",
    "# Save the downsampled volume (masked + optionally thresholded) as npz,\n",
    "# ready to be used in PINN training\n",
    "np.savez_compressed(\"data/dataset_downsampled.npz\",\n",
    "                    data=down_imgs.astype(np.float32),\n",
    "                    mask=downsampled_mask.astype(np.bool_),\n",
    "                    pixdim=pixdim.astype(np.float32),\n",
    "                    x=x.astype(np.float32),\n",
    "                    y=y.astype(np.float32),\n",
    "                    z=z.astype(np.float32),\n",
    "                    t=np.array(timestamp, dtype=np.float32),)"
   ]
  }
 ],
 "metadata": {
  "kernelspec": {
   "display_name": "AI",
   "language": "python",
   "name": "python3"
  },
  "language_info": {
   "codemirror_mode": {
    "name": "ipython",
    "version": 3
   },
   "file_extension": ".py",
   "mimetype": "text/x-python",
   "name": "python",
   "nbconvert_exporter": "python",
   "pygments_lexer": "ipython3",
   "version": "3.10.14"
  }
 },
 "nbformat": 4,
 "nbformat_minor": 5
}
