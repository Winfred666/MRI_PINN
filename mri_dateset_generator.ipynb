{
 "cells": [
  {
   "cell_type": "markdown",
   "id": "3f57a032",
   "metadata": {},
   "source": [
    "### A test of nibabel to load nii DCE-MRI data into dataset"
   ]
  },
  {
   "cell_type": "code",
   "execution_count": null,
   "id": "f657ca36",
   "metadata": {},
   "outputs": [],
   "source": [
    "# Select the image to downsample (e.g., imgs[0])\n",
    "\n",
    "zoom_factors = (0.65, 0.65, 0.65)\n",
    "timeindex = list(range(9, 27))  # 4,5,...35, total 32 time points\n",
    "\n",
    "data_template = \"data/KX078_DCE_nii_data/psnrT1_FLASH_3D_{:04d}.nii\"\n",
    "mask_path = \"data/KX078_DCE_nii_data/Template_C57Bl6_n30_brain_KX_078.nii\"\n",
    "mask_erosion_iter = 8 # if affect mask outside of \n",
    "save_path = \"data/KX078_DCE_nii_data/dataset_downsampled.npz\""
   ]
  },
  {
   "cell_type": "code",
   "execution_count": null,
   "id": "136464b3",
   "metadata": {},
   "outputs": [],
   "source": [
    "import numpy as np\n",
    "import nibabel as nib\n",
    "# 3D erose and smooth the mask \n",
    "from scipy.ndimage import binary_erosion,label,gaussian_filter\n",
    "# downsample images for quick testing \n",
    "from scipy.ndimage import zoom\n",
    "from utils.visualize import draw_nifti_slices_with_threshold,draw_nifti_slices_with_time\n",
    "import os\n",
    "\n",
    "%matplotlib widget\n",
    "%load_ext autoreload\n",
    "%autoreload 2\n"
   ]
  },
  {
   "cell_type": "code",
   "execution_count": null,
   "id": "85e3bf19",
   "metadata": {},
   "outputs": [],
   "source": [
    "def read_nii_list(template, data_index):\n",
    "    datapaths = [template.format(i) for i in data_index]\n",
    "    imgs = [nib.load(path) for path in datapaths]\n",
    "\n",
    "    # check whether all headers are align (affine + pixdim)\n",
    "    ref_header = imgs[0].header\n",
    "    for img in imgs[0:]:\n",
    "        assert img.get_data_dtype() == np.dtype('float32')\n",
    "        assert np.allclose(img.header.get_best_affine(), ref_header.get_best_affine())\n",
    "        assert np.allclose(img.header['pixdim'], ref_header['pixdim'])\n",
    "    pixdim = np.round(ref_header['pixdim'][1:4], 4)\n",
    "    print(\"All headers are aligned, pixdim: \", ref_header['pixdim'][1:4])\n",
    "    # directly transfer all to numpy array, shape: (nx, ny, nz, nt)\n",
    "    imgs = [np.nan_to_num( \\\n",
    "        np.asanyarray(img.dataobj, dtype=np.float32),nan=0.0) for img in imgs]\n",
    "    imgs = np.stack(imgs, axis=-1)\n",
    "    return imgs, pixdim\n"
   ]
  },
  {
   "cell_type": "code",
   "execution_count": null,
   "id": "222028e2",
   "metadata": {},
   "outputs": [],
   "source": [
    "# WARNING: time stamp is related to the actual acquisition time, should record them as part of metadata.\n",
    "timestamp = [(t - 4) * 4 for t in timeindex]  # in minutes, 4th minute is the injection time, then record MRI every 4 minutes\n",
    "\n",
    "imgs, pixdim = read_nii_list(data_template, timeindex)\n",
    "imgs[imgs < 0] = 0\n",
    "\n",
    "print(imgs.shape, pixdim)  # (nx, ny, nz, nt), (dx, dy, dz)\n",
    "print(imgs[:,:,:,0].min(), imgs[:,:,:,0].max())\n",
    "\n",
    "mask = nib.load(mask_path)\n",
    "mask = np.asanyarray(mask.dataobj, dtype=bool)"
   ]
  },
  {
   "cell_type": "code",
   "execution_count": null,
   "id": "b66f7f42",
   "metadata": {},
   "outputs": [],
   "source": [
    "postmask = binary_erosion(mask, iterations=mask_erosion_iter)\n",
    "\n",
    "# then isolate the largest connected component\n",
    "isolated_mask = np.zeros_like(postmask)\n",
    "labeled_array, num_features = label(postmask)\n",
    "print(\"Number of connected components:\", num_features)\n",
    "if num_features > 0:\n",
    "    largest_component = np.argmax(np.bincount(labeled_array.flat)[1:]) + 1\n",
    "    isolated_mask[labeled_array == largest_component] = 1\n",
    "\n",
    "# 3D Gaussian smoothing\n",
    "smoothed_mask = gaussian_filter(isolated_mask.astype(float), sigma=1) > 0.5\n",
    "postmask = smoothed_mask.astype(bool)"
   ]
  },
  {
   "cell_type": "code",
   "execution_count": null,
   "id": "5d9dc0e4",
   "metadata": {},
   "outputs": [],
   "source": [
    "_ = draw_nifti_slices_with_time(imgs, brain_mask=postmask, percentiles=(1,98), slice_along_axis='z')"
   ]
  },
  {
   "cell_type": "code",
   "execution_count": null,
   "id": "97df397e",
   "metadata": {},
   "outputs": [],
   "source": [
    "\n",
    "pixdim = pixdim / np.array(zoom_factors)\n",
    "\n",
    "# zoom and masked (optionally threshold) each image in the 4D array\n",
    "zoom_factors_4d = (*zoom_factors, 1)\n",
    "\n",
    "downsampled_mask = zoom(postmask.astype(float), zoom_factors, order=1) > 0.5 # Use linear for masks\n",
    "\n",
    "down_imgs = zoom(imgs, zoom_factors_4d, order=3)\n",
    "down_imgs *= downsampled_mask[..., np.newaxis]  # apply mask\n",
    "\n",
    "down_imgs[down_imgs < 0] = 0\n",
    "\n",
    "# Print the new shape\n",
    "print(down_imgs.shape, down_imgs.min(), down_imgs.max())\n",
    "_ = draw_nifti_slices_with_time(down_imgs)\n"
   ]
  },
  {
   "cell_type": "code",
   "execution_count": null,
   "id": "6f5029a2",
   "metadata": {},
   "outputs": [],
   "source": [
    "# prepare x, which is from pixdim per voxel\n",
    "x = np.arange(0, down_imgs.shape[0]) * pixdim[0]\n",
    "y = np.arange(0, down_imgs.shape[1]) * pixdim[1]\n",
    "z = np.arange(0, down_imgs.shape[2]) * pixdim[2]\n",
    "print(x.shape, y.shape, z.shape, pixdim)\n",
    "\n",
    "os.makedirs(os.path.dirname(save_path), exist_ok=True)\n",
    "# Save the downsampled volume (masked + optionally thresholded) as npz,\n",
    "# ready to be used in PINN training\n",
    "np.savez_compressed(save_path,\n",
    "                    data=down_imgs.astype(np.float32),\n",
    "                    mask=downsampled_mask.astype(np.bool_),\n",
    "                    pixdim=pixdim.astype(np.float32),\n",
    "                    x=x.astype(np.float32),\n",
    "                    y=y.astype(np.float32),\n",
    "                    z=z.astype(np.float32),\n",
    "                    t=np.array(timestamp, dtype=np.float32),)"
   ]
  }
 ],
 "metadata": {
  "kernelspec": {
   "display_name": "AI",
   "language": "python",
   "name": "python3"
  },
  "language_info": {
   "codemirror_mode": {
    "name": "ipython",
    "version": 3
   },
   "file_extension": ".py",
   "mimetype": "text/x-python",
   "name": "python",
   "nbconvert_exporter": "python",
   "pygments_lexer": "ipython3",
   "version": "3.10.14"
  }
 },
 "nbformat": 4,
 "nbformat_minor": 5
}
