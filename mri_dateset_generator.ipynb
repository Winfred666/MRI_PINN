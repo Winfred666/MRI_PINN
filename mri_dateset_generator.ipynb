{
 "cells": [
  {
   "cell_type": "markdown",
   "id": "3f57a032",
   "metadata": {},
   "source": [
    "### A test of nibabel to load nii DCE-MRI data into dataset"
   ]
  },
  {
   "cell_type": "code",
   "execution_count": 1,
   "id": "f657ca36",
   "metadata": {},
   "outputs": [],
   "source": [
    "# Select the image to downsample (e.g., imgs[0])\n",
    "\n",
    "zoom_factors = (0.2, 0.2, 0.2)\n",
    "timeindex = list(range(9, 27))  # 4,5,...35, total 32 time points\n",
    "\n",
    "data_template = \"data/KX078_DCE_nii_data/psnrT1_FLASH_3D_{:04d}.nii\"\n",
    "mask_path = \"data/KX078_DCE_nii_data/Template_C57Bl6_n30_brain_KX_078.nii\"\n",
    "mask_erosion_iter = 10 # if affect mask outside of \n",
    "save_path = \"data/KX078_DCE_nii_data/dataset_downsampled.npz\""
   ]
  },
  {
   "cell_type": "code",
   "execution_count": 2,
   "id": "136464b3",
   "metadata": {},
   "outputs": [],
   "source": [
    "import numpy as np\n",
    "import nibabel as nib\n",
    "# 3D erose and smooth the mask \n",
    "from scipy.ndimage import binary_erosion,label,gaussian_filter\n",
    "# downsample images for quick testing \n",
    "from scipy.ndimage import zoom\n",
    "from utils.visualize import draw_nifti_slices_with_threshold,draw_nifti_slices_with_time\n",
    "import os\n",
    "\n",
    "%matplotlib widget\n",
    "%load_ext autoreload\n",
    "%autoreload 2\n"
   ]
  },
  {
   "cell_type": "code",
   "execution_count": 3,
   "id": "85e3bf19",
   "metadata": {},
   "outputs": [],
   "source": [
    "def read_nii_list(template, data_index):\n",
    "    datapaths = [template.format(i) for i in data_index]\n",
    "    imgs = [nib.load(path) for path in datapaths]\n",
    "\n",
    "    # check whether all headers are align (affine + pixdim)\n",
    "    ref_header = imgs[0].header\n",
    "    for img in imgs[0:]:\n",
    "        assert img.get_data_dtype() == np.dtype('float32')\n",
    "        assert np.allclose(img.header.get_best_affine(), ref_header.get_best_affine())\n",
    "        assert np.allclose(img.header['pixdim'], ref_header['pixdim'])\n",
    "    pixdim = np.round(ref_header['pixdim'][1:4], 4)\n",
    "    print(\"All headers are aligned, pixdim: \", ref_header['pixdim'][1:4])\n",
    "    # directly transfer all to numpy array, shape: (nx, ny, nz, nt)\n",
    "    imgs = [np.nan_to_num( \\\n",
    "        np.asanyarray(img.dataobj, dtype=np.float32),nan=0.0) for img in imgs]\n",
    "    imgs = np.stack(imgs, axis=-1)\n",
    "    return imgs, pixdim\n"
   ]
  },
  {
   "cell_type": "code",
   "execution_count": 4,
   "id": "222028e2",
   "metadata": {},
   "outputs": [
    {
     "name": "stdout",
     "output_type": "stream",
     "text": [
      "All headers are aligned, pixdim:  [0.12500003 0.125      0.1249999 ]\n",
      "(128, 160, 128, 18) [0.125 0.125 0.125]\n",
      "0.0 494.51337\n"
     ]
    }
   ],
   "source": [
    "# WARNING: time stamp is related to the actual acquisition time, should record them as part of metadata.\n",
    "timestamp = [(t - 4) * 4 for t in timeindex]  # in minutes, 4th minute is the injection time, then record MRI every 4 minutes\n",
    "\n",
    "imgs, pixdim = read_nii_list(data_template, timeindex)\n",
    "imgs[imgs < 0] = 0\n",
    "\n",
    "print(imgs.shape, pixdim)  # (nx, ny, nz, nt), (dx, dy, dz)\n",
    "print(imgs[:,:,:,0].min(), imgs[:,:,:,0].max())\n",
    "\n",
    "mask = nib.load(mask_path)\n",
    "mask = np.asanyarray(mask.dataobj, dtype=bool)"
   ]
  },
  {
   "cell_type": "code",
   "execution_count": 5,
   "id": "b66f7f42",
   "metadata": {},
   "outputs": [
    {
     "name": "stdout",
     "output_type": "stream",
     "text": [
      "Number of connected components: 1\n"
     ]
    }
   ],
   "source": [
    "postmask = binary_erosion(mask, iterations=mask_erosion_iter)\n",
    "\n",
    "# then isolate the largest connected component\n",
    "isolated_mask = np.zeros_like(postmask)\n",
    "labeled_array, num_features = label(postmask)\n",
    "print(\"Number of connected components:\", num_features)\n",
    "if num_features > 0:\n",
    "    largest_component = np.argmax(np.bincount(labeled_array.flat)[1:]) + 1\n",
    "    isolated_mask[labeled_array == largest_component] = 1\n",
    "\n",
    "# 3D Gaussian smoothing\n",
    "smoothed_mask = gaussian_filter(isolated_mask.astype(float), sigma=1) > 0.5\n",
    "postmask = smoothed_mask.astype(bool)"
   ]
  },
  {
   "cell_type": "code",
   "execution_count": 6,
   "id": "5d9dc0e4",
   "metadata": {},
   "outputs": [
    {
     "data": {
      "application/vnd.jupyter.widget-view+json": {
       "model_id": "b3dd3c5fd49f4cd687bc3653fd662a62",
       "version_major": 2,
       "version_minor": 0
      },
      "text/plain": [
       "VBox(children=(HBox(children=(IntSlider(value=0, description='Time', max=17), IntSlider(value=63, description=…"
      ]
     },
     "metadata": {},
     "output_type": "display_data"
    },
    {
     "data": {
      "application/vnd.jupyter.widget-view+json": {
       "model_id": "c40fc132b1da47e3bacdf562afc20655",
       "version_major": 2,
       "version_minor": 0
      },
      "image/png": "[encoded data removed]",
      "text/html": [
       "\n",
       "            <div style=\"display: inline-block;\">\n",
       "                <div class=\"jupyter-widgets widget-label\" style=\"text-align: center;\">\n",
       "                    Figure\n",
       "                </div>\n",
       "                <img src='data:image/png;base64,iVBORw0KGgoAAAANSUhEUgAAAlgAAAGQCAYAAAByNR6YAAAAOnRFWHRTb2Z0d2FyZQBNYXRwbG90bGliIHZlcnNpb24zLjEwLjYsIGh0dHBzOi8vbWF0cGxvdGxpYi5vcmcvq6yFwwAAAAlwSFlzAAAPYQAAD2EBqD+naQAAK1NJREFUeJzt3Xl81dWd//FXCIGEPSyy76AsShhQGfvTEWq1U9TCA0WhHSvUajvaaeu4dKp2xJZWHbW2U2dstR1slcVq0XEG1Mqj0BZQEIGxCogYQAj7vhiykO/vD+69yTUr4SQ3kNfz8egjN9/7Xc5Nr9zPfZ/zPSctiqIISZIkBdMk1Q2QJEk601hgSZIkBWaBJUmSFJgFliRJUmAWWJIkSYFZYEmSJAVmgSVJkhSYBZYkSVJgFliSJEmBWWBJkiQFZoElSZIUmAWWJElSYBZYkiRJgVlgSZIkBWaBJUkpkJaWxje/+c1UN0NSHbHA0hlt6dKlTJs2jQMHDgQ97yuvvMKIESPIzMykV69e3H///RQXF1e47/79+2natCm/+93vAPjDH/7ATTfdxLnnnkt6ejp9+vSp8Lhp06aRlpZW6f+WLFkS9DWFsmDBAj772c/Stm1bWrduzciRI3n++eeT9rn99tsZMWIE7du3p0WLFgwePJhp06Zx5MiRCs9ZUlJCp06d+Ld/+zcAli9fzq233srIkSPJyMggLS2twuO2bNnCAw88wIUXXkh2djYdO3Zk9OjRLFiwoNy+o0ePrvRvnZGRUau/RV29/0LIy8vjuuuuo127drRp04Zx48aRm5tbo2Mr+1v9/d//fbl9CwoK+O53v0u3bt3Iyspi1KhRvPHGG6FfjtTgNE11A6S6tHTpUh544AGmTJlCu3btgpzz1VdfZfz48YwePZqf//zn/PWvf2X69Ons2rWLJ598stz+r7/+OmlpaVxxxRUAzJo1i+eff54RI0bQrVu3Sq8zYcIEBgwYUG77Pffcw5EjR7jggguCvJ6QZsyYwU033cTll1/Oj3/8Y9LT0/nggw/YsmVL0n5vv/02l1xyCVOnTiUzM5NVq1bx0EMPsWDBAv785z/TpEnyd7/ly5ezZ88errzySgDmz5/Pr371K4YNG0a/fv1Yv359he357//+bx5++GHGjx/PjTfeSHFxMb/97W+5/PLL+a//+i+mTp2a2Pfee+/la1/7WtLxR48e5Rvf+Ebi/7uTVRfvvxCOHDnCmDFjOHjwIPfccw8ZGRk8/vjjXHrppaxevZoOHTpUe44ePXrw4IMPJm2r6P08ZcoUXnzxRb7zne8wcOBAnnnmGcaOHcvChQu5+OKLg70mqcGJpDPYI488EgHRxo0bg51zyJAhUU5OTlRUVJTYdu+990ZpaWnR2rVry+1/ww03RJdeemni97y8vKiwsDCKoii68soro969e9f42h9//HGUlpYW3XzzzbVuf13ZuHFjlJWVFX3rW9+q1fGPPvpoBERvvvlmuee+//3vJ/2dduzYEX3yySdRFEXRbbfdFlX2T9l7770X7d69O2nbsWPHokGDBkU9evSotk3PPvtsBEQzZ848iVdSqqr3HxDddttttTrvkSNHanVc3MMPPxwB0fLlyxPb1q5dG6Wnp0ff+973qj3+0ksvjYYOHVrtfsuWLYuA6JFHHklsy8/Pj/r37x9ddNFFtWu8dJqwi1BnrGnTpnHXXXcB0Ldv30Q3xqZNm2p9zjVr1rBmzRpuueUWmjYtDYBvvfVWoijixRdfTNq/pKSE1157LZG8wIlv+bXtcpo9ezZRFPHlL3+5Vsf36dOn0m6wRYsW1eqccb/4xS84fvw4P/jBD4ATKUkURSfVNqDC7rR58+Yl/Q07d+5MVlZWteccOnQoHTt2TNrWvHlzxo4dy9atWzl8+HCVx8+aNYuWLVsybty46l/Ap9T0/ffyyy9z7rnn0rx5c4YOHcprr71W7jxpaWmsWbOGL33pS2RnZ59y8vPiiy9ywQUXJKWggwYN4rLLLkt0ZddEcXFxpd268eukp6dzyy23JLZlZmZy00038eabb5ZLNqUziV2EOmNNmDCB9evXM3v2bB5//PHEB22nTp0AOHjwIEVFRdWeJzMzk1atWgGwatUqAM4///ykfbp160aPHj0Sz8e9/fbb7N69m7Fjx57y6wGYOXMmPXv25O/+7u9qdfxPf/rTch+Ijz/+eFK3UFFREQcPHqzR+dq3b5/ozluwYAGDBg1i/vz53HXXXeTl5ZGdnc1tt93GAw88UK7br7i4mAMHDlBYWMh7773HfffdR+vWrbnwwguT9tuxYwerVq1KFG4h7NixgxYtWtCiRYtK99m9ezdvvPEG119/PS1btjzpa1T3/gNYvHgxc+fO5dZbb6V169b8+7//O9dccw0ff/xxuW66iRMnMnDgQH784x8nCteCgoJqi8S4+PVLSkp49913+epXv1punwsvvJA//OEPHD58mNatW1d5vvXr19OyZUsKCwvp3LkzN998M//6r/+a9OVh1apVnH322bRp06bcdQBWr15Nz549a9R+6XRjgaUz1rBhwxgxYgSzZ89m/Pjx5QaTjxs3jj/96U/VnufGG2/kmWeeAWD79u0AdO3atdx+Xbt2Zdu2bUnb5s2bR+/evRk6dGjtXkQZ77//Pu+++y533313pYO6qzN+/Pik31944QVWrlzJD37wA8477zwAlixZwpgxY2p0vo0bNyb+rh9++CHp6elMnTqVu+++m5ycHObOncv06dMpLi4uN15nxYoVXHTRRYnfzznnHF555RXat2+ftN/8+fPJzMzks5/97Em+2opt2LCBuXPnMnHiRNLT0yvd7/nnn6e4uLjWaWF17z+AtWvXsmbNGvr37w/AmDFjyMnJYfbs2eXuMMzJyWHWrFlJ22bPnp00jqwq8aJs3759FBQUVPoeBti2bRvnnHNOpefq378/Y8aM4bzzzuPo0aO8+OKLTJ8+nfXr1yfd0LB9+/ZqryOdqSyw1Gg99thj7N+/v9r9yg7czc/PB050M31aZmYmhw4dSto2f/78pK6tUzFz5kyAWn/gf9qaNWv46le/yrhx47jvvvsS23Nycmp8l1eXLl0Sj48cOUJJSQkPPfQQ3/3udwG45ppr2LdvHz/72c+45557klKRIUOG8MYbb3D06FGWLl3KggULKuxumj9/PmPGjKlRl2B1PvnkEyZOnEhWVhYPPfRQlfvOmjWLTp06cfnll5/ydSvzuc99LlFcwYmirE2bNhXezfeNb3yj3LbPf/7zJ31HXnXv4bL7VObXv/510u833HADt9xyC08//TS33347f/u3f5s4z6lcRzqdWWCp0Ro5cuRJHxP/kC8oKCj33LFjx5KKgB07diTSoVMVRRGzZs3i3HPPZdiwYad8vkOHDjFhwgS6d+/Ob3/726RELDs7m8997nMnfc6srCyOHj3K5MmTk7ZPnjyZ1157jVWrViV1bbZp0yZxnXHjxjFr1izGjRvHypUrycnJAU50V77xxhvl0q/aOH78OJMmTWLNmjW8+uqrVd7BmZuby5tvvsk3v/nNpLF2ofXq1avctuzs7AoL/759+5bb1rVr1woToqpU9x4uu8/JuOOOO3j66adZsGBBosDKysoKfh3pdGGBpUZr3759FBYWVrtfVlYWbdu2BUq7NrZv315u7Mj27duTxg+9+uqrZGZm1ri7rSpLlixh8+bNQQoNOHHr/LZt21i+fHm58TGFhYXs27evRufp1KlToputW7dufPjhh3Tu3Dlpn7POOgug2rRwwoQJ3HDDDcyZMydRYC1evJhDhw4FGcN2880387//+7/MnDmz2u7GeFdcqLSwMpV1UVZ0c0BFxUh+fn6Nx8vF08b27dvTvHnzRHd3WfFtVRWflYn/91D2vdO1a1fy8vKCXkc6XVhg6YxW1VilCRMmnPQYrOHDhwMnxg+VLaa2bdvG1q1bk+6WmjdvXrCurZkzZ5KWlsaXvvSlUz7XQw89xMsvv8zcuXMZNGhQueeXLl1aqzFYI0eO5MMPPyQvL49+/fol9omPsyk7uLsiBQUFlJSUJBUM8+bNY8iQIZVOxlpTd911FzNmzOCnP/1puYStIrNmzaJ///6JJKa2ajtWrqaef/75kx6D1aRJE8477zxWrFhRbp9ly5bRr1+/age4VyTerVn2/+fhw4ezcOFCDh06lFTIL1u2LPG8dKaywNIZLX73V0W3/tdmDNbQoUMZNGgQTz31FF//+tcTCcSTTz5JWloa1157LRC2a6uoqIgXXniBiy++uMIupZOxYMEC7rvvPu69995yA97jajsG6/rrr2fOnDn8+te/5kc/+hFw4o61GTNm0L59+0SX7IEDB2jZsmW5qSp+9atfAcl3aM6fP5+rrrqqxq+vIo888giPPvoo99xzD9/+9rer3X/VqlWsXbuW73//+6d0Xaj6/RdCbcZgAVx77bX8y7/8CytWrEj8vT/44AP++Mc/cueddybtu27dOlq0aJF47x06dIjmzZsnja2Koojp06cn2lT2Oo8++ihPPfVU4rwFBQXMmDGDUaNGeQehzmgWWDqjxT/U7733XiZNmkRGRgZXX301LVu2rNUYLDjxgf3FL36RK664gkmTJvHee+/xxBNP8LWvfY3BgwcDpV1bFQ1wf/fdd3nllVeAE3e0HTx4MPHhlJOTw9VXX520/+uvv87evXur7K565plnmDp1KjNmzGDKlCmV7jd58mQ6derEwIEDee6555Keu/zyy+ncuXOtx2CNGzeOyy67jAcffJA9e/aQk5PDyy+/zOLFi/nlL3+Z+EBetGgR3/rWt7j22msZOHAghYWF/OUvf2Hu3Lmcf/75/MM//ANwIh1bu3ZthbPjb968mWeffRYgkcTE/4a9e/fmhhtuAOCll17i7rvvZuDAgQwePLjS11xWTW4mmDJlCr/5zW+SEryKVPX+C6E2Y7DgxLxtTz/9NFdeeSV33nknGRkZ/OQnP6Fz587ccccdSfsOHjyYSy+9NDFP2sqVK5k8eTKTJ09mwIAB5Ofn89JLL7FkyRJuueUWRowYkTh21KhRTJw4ke9973vs2rWLAQMG8Jvf/IZNmzaVGygvnXFSNsWpVE9++MMfRt27d4+aNGkSbFb3l156KRo+fHjUvHnzqEePHtF9992XmJ09iqLozjvvjIYMGVLhsTNmzIiACv934403ltt/0qRJUUZGRrR3795K2/Pzn/88AqLXXnutynZXdl0gWrhwYY1ee1UOHz4cffvb3466dOkSNWvWLDrvvPOi5557LmmfDRs2RF/5yleifv36RVlZWVFmZmY0dOjQ6P7770+aofyJJ56I2rZtmzRjftzChQsrfR1lZ82///77T+o1Hz9+POrevXs0YsSIKl/nNddcE2VlZUX79++v9m9S2fuPSmZy7927d9L7IP4aPj0j/anasmVLdO2110Zt2rSJWrVqFV111VXRhx9+WG6/T/9Nc3Nzo4kTJ0Z9+vSJMjMzoxYtWkQjR46MfvGLX0QlJSXljs/Pz4/uvPPOqEuXLlHz5s2jCy64oNr3qXQmSIuik5hqWVKNDBkyhKuuuiqxOHFdu+6669i0aRPLly+vl+vVh7Fjx9KqVauTmlm8vnTu3JmvfOUrPPLII6luiqQGyi5CKbDCwkKuv/56rrvuunq5XhRFLFq0qFz31+lu9OjRXHLJJaluRjnvv/8++fn5ibm+JKkiJliSJEmBudizJElSYBZYkiRJgVlgSZIkBWaBJUmSFJgFliRJUmBO06CUq+v12iQ1Tt4kr1QywZIkSQrMAkuSJCkwCyxJkqTALLAkSZICs8CSJEkKzAJLkiQpMAssSZKkwCywJEmSArPAkiRJCswCS5IkKTALLEmSpMAssCRJkgKzwJIkSQrMAkuSJCkwCyxJkqTALLAkSZICs8CSJEkKzAJLkiQpMAssSZKkwCywJEmSArPAkiRJCswCS5IkKTALLEmSpMAssCRJkgKzwJIkSQrMAkuSJCkwCyxJkqTALLAkSZICs8CSJEkKzAJLkiQpMAssSZKkwCywJEmSArPAkiRJCswCS5IkKTALLEmSpMAssCRJkgJrmuoGSJJS67rrrgNg165dACxatCiFrZHODCZYkiRJgZlgSdJp7jOf+QwAz519dmJbn969AcjNzQXg7998E4ANGzYAMGzYsMS+Z8eOezAzE4D+ddxeqTEwwZIkSQosLYqiKNWNUOOWlpaW6iZIZ4Q+ffokHs8ZPBiALl27AvCrbt0A2LJlCwCPt2uX2Dc7O7vC86VNm1bptaLYc1Xtk2p+vCmVTLAkSZICs8CSJEkKzC5CpZxdhFJ4V1xxBQC/7tULgMKiIgAymp64t6lnz541PldD7gasih9vSiUTLEmSpMCcpkGSzkAXXXQRAD0CJMSnw4B2qaExwZIkSQrMMVhKOcdgSWF06dIl8Xj7N74R/PzfLy5OPJ4+fXrw84fmx5tSyQRLkiQpMMdgSdJpbvLkyQDMOuecavctPn4cgI83b05sy8/PB2Do0KFVHvvDpqUfGQ0/v5JSywRLkiQpMMdgKeUcgyXVTtu2bQE4cPvtNT5myZIlANxTUJDY9s477ySd7w8XXwzA0CFDqj1fQ76z0I83pZIJliRJUmCOwZKkBiQ+nqppmfFO/1JYCEDv3r0BaNmiRa3Pn5WVBcCh3bsT244ePZr0c9iLLwLwzhe/CMDw4cNrfT2psTLBkiRJCswCS5IkKTC7CCWpAYjqabD4iBEjABjTv39i2/r16wH45JNPACgpKTmxz6JFAKzr1g2AzmedVS9tlM4EJliSJEmBmWBJUiP05Q0bEo9f6doVgI8++ihpnwMHDgAwdeNGAOZXkGC5ELRUMRMsSZKkwEywJKkRGjBwYOLx+bFpH44cOQLAzp07AWjWrBkAhbFpIg4dPpw4pk3r1vXSTul0ZYIlSZIUmEvlKOVcKkeqv7sIK5KXlwfA07G7Bffs2QOUTnZ6Q24uACNHjqz2XA1pLJYfb0olEyxJkqTAHIMlSSmUyuQqrnv37gDcFZsHa9+xY0BputwtNneWpJozwZIkSQrMBEuSBJQuIn0qi0lLOsEES5IkKTALLEmSpMDsIpSkFGgIg9sl1R0TLEmSpMCcaFQp50SjaiwaU2rVECYc9eNNqWSCJUmSFJhjsCSpjjWm5ErSCSZYkiRJgZlgSVIdaYzJVUMYeyU1BCZYkiRJgZlgSVJgH990U6qbUO9MrqRkJliSJEmBmWBJUmA9e/ZMdRMkpZgJliRJUmAWWJIkSYFZYEmSJAVmgSVJkhSYBZYkSVJgFliSJEmBOU2DJNXCny+7LPH41QsvBGDc6tUpak3qXX311QD8z//8T4pbIjUMJliSJEmBmWBJ0knY++1vA9A+Ozux7ZL4g1Gj6r9BDUTv3r1T3QSpQTHBkiRJCswES5JqIGpEixmvXbcOgP/o0AGAAwcOADBgwIDEPlM+/hiAoqIiAP787rv12EKp4TPBkiRJCswCS5IkKTC7CCWpCjfccAMAubm5APTr1y+VzakT8df2g7Q0AJ5/+WUAjh07VukxL+fkAJCVlQXAu3YRSklMsCRJkgJLi6IoSnUj1Lilxb41S6eDv3zucwBcfPHFKW7JyYmnVFu2bAHgkRYtEs+tjk2QmpeXV+/tqkt+vCmVTLAkSZICcwyWJJ2Enj17proJJ2VzbDqF6enpAPxh/XrgzEurpIbGBEuSJCkwEyxJqoH27dsDDXtJmMOHDyceb40lVA83bw6ULsK8b9+++m+Y1AiZYEmSJAVmgiVJNbD3W99KdRMq9UFsXNWzffsmtr0dS6ridwiaXEn1ywRLkiQpMBMsSarCbbfdluomcPz4cQDSY3cCxv3f//0fAHcdOQLAB4sXJ56L3yUYP1ZS/TLBkiRJCswCS5IkKTC7CCWpCjdt3XriQadO9XrdTz75JPH44MGDQOnSLwcPHQLg3sJCAN544416bZuk6plgSZIkBWaCJUlVaNuuXZ2eP55UtSiz+DIkL1RcUlICwJHYYPZdO3cCsNWpF6QGywRLkiQpMBMsSY3epEmTAJgzZ05iW9u2bQHoV2byzroQT66Ki4sB+CQ/H4ADBw4k9ik4duzEz4ICAN74zGcAaL90aZ22TVLtmWBJkiQFZoIlqdGL36U3YMCAxLbnhwyp1zYcOXoUgNyPPgLgv4cPTzwXH6fVpMmJ78RNYpOHDhw4MGn722+/nTjmUOxOQ0mpYYIlSZIUmAmWpEbvu7ExTkO/8IXEto4dOtRrG4pic1odPnwYgHXr1iWeWx9bzDmeSvWNjQvr1atX0s/4GC2AN998E3CpHClVTLAkSZICM8GS1OgNGjQIqPvUas/evYnHx2J3C8bnu8qPpWjNmzcHoHXr1ol943cUbtq0CYDc3Nyk85599tkAdOnSJbHt3HPPBUoXhJZUv0ywJEmSArPAkiRJCiwtKrseg5QCaWlpqW6CGqlV48cDpe/BnJycoOdfsWIFAD+Jdfdt3Lgx8dyxWJdgdnY2UNq9l5mZCcC+MsvgxLv54l2Eqhk/3pRKJliSJEmBmWAp5Uyw1BBF06bV+thVq1YBcPPWrQC88847IZqkk+THm1LJBEuSJCkwp2mQpAosW7YMgFGjRtX4mC2xxOqh2FQLq1evDt4uSacHEyxJkqTATLAkKSYrKyvx+Dd9+gDw6fzqYGy5mvhdgAC7du4E4N9jdwS+9dZbgMvUSI2ZCZYkSVJgJliSGq2a3Cn4r7EUau7cuQC8//77ddkkSWcIEyxJkqTALLAkSZICs4tQkqpw9cqVAPzQrkFJJ8EES5IkKTATLEmqQtdu3QDo378/AB999FEqmyPpNGGCJUmSFJgFliRVISMjg4yMDDp37kznzp1T3RxJpwkLLEmSpMAcgyVJVdixfTsAH3/8cYpbIul0YoIlSZIUmAmWJFXhmd69Adj60ktJ25s1a5Z4XFhYWK9tOp00bVr6MVNcXJzClkj1ywRLkiQpMBMsSapCQUFBhdvbtGmTeJyWlgbA7t2766VNp5OsrKzE48OHD6ewJVL9MsGSJEkKzAJLkiQpMLsIJakKTZpU/D20bHdXly5dAOjZsycAeXl5AJSUlNT6uueff37i8datWwHYsWNHrc8nqX6ZYEmSJAVmgiVJFYhPKXDs2DEAMjMzk34vO/j9yJEjAHTt2hWAAwcOAKc2qHvdunWJxxMnTgSgqKgIgOeee67W561vDmxXY2WCJUmSFFhaFEVRqhuhxi1+i7tU36Jp06rd59q//hWA3//+99Xum56eDsDx48dPqV2VmTRpElA65uuFF14ASsd8KZkfb0olEyxJkqTAHIMlSVXIzs6u8b51lVzFzZkzB4Arr7wSgAsvvBCAlz61jE9DFb/LcsuWLSluiVT3TLAkSZICM8GSpCr8465dAPwmIwMovZMvlebNmwfAgAEDAOjYsSMAe/bsSVmbaiIj9jeUGgMTLEmSpMBMsCSpCh1i6VBOTg4AK1asSGVzkmzYsCHVTTgpZ511FgC5ubkpbolU90ywJEmSArPAkiRJCswCS5Kq0KxZM5o1a0a/fv3o169fqptzWisuLk4sQSSd6SywJEmSAnOQuyRVoU2bNgB0z8pKcUtOfytXrkx1E6R6Y4IlSZIUmIs9K+Vc7FmpVpNFnxcvXgzAJQsW1HFr6ka7du2A0oWi161bl8LW1A8/3pRKJliSJEmBOQZLkmqgU6dOqW7CSWnfvj0ATZue+Gf+4MGDQONIrqSGwARLkiQpMBMsSaqBtrExTN27dwcgLy8vha2pXjy56tatW9Lv27ZtS1mbpMbEBEuSJCkwEyxJqoH43a5DhgwBGn6CVVBQAJyYiR6gVatWqWyO1OiYYEmSJAVmgSVJkhSYXYSSVAP5+fkAjBgxAoAmTUq/ny5fvhyA/fv313/DKnHs2DEAjh8/DpQOcpdUP0ywJEmSAvMrjSTVQPPmzQH4+o4dJzbElpwB2H7BBQBMWrsWgC1bttRv4yoQH+S+d+9eoDTJklQ/TLAkSZICM8GS1GjVZJHnuK5lEqtP69K1KwCzSkoAGHf0KAD79u2rfeMCibehJNY2SfXDBEuSJCkwEyxJOkVZmZkAXHzxxQC8Hvt96qZNALz33nv13qa2bdsCkBlrSzzBOnLkSL23RWqMTLAkSZICM8GSpMDOP/98AGbEfr+tRQugdL6suhJfFgdKF6XOyMgA4GhsXNju3bvrtA2STjDBkiRJCswCS5IkKTC7CCWpjgw8+2wAfhKb9POOUaMSzy1btiz49QoLCxOPDxw4AECvXr2A0olHJdUPEyxJkqTATLAkqY60bdMGgB49ewIwIrbcDpQOeI+iqE6uvW3bNgBat24NQLdu3QDYunUr4HQNUl0zwZIkSQosLaqrr09SDaWlpaW6CWqk1k6eDMCgc86p0+vEF1petWpVYtuX168HYH3sZ12bHHuthw4dAmDevHn1ct1U8uNNqWSCJUmSFJhjsCQ1WoNnzwbgwD//M1A6ZqomFi1alHj8T3v2ANC5c2cAZsYSsc5nnQVAeno6AP0HDEgcMzI2Nqq+EqwtW7YAcNlllwHw1ltvJZ7bu3dvvbQh/vfZuXNnvVxPSiUTLEmSpMBMsCQ1eiNefhmACRMmJLY98cQTAFx00UUAzOjbF4CzOnUC4P/FFnYGWF5UBEBWVlaV18lu1y7xuPOpNfmkLV68GIB+/foBMHr06MRzv//97+ulDZ1ifzsTLDUGJliSJEmBmWBJavRyc3MBKIolUQBXXnklUHoHYO/YjOgVyWh68v+Ubt++/aSPCeHZZ58FYMSIEYltLVu2BEoXhK4rLWKLXkuNgQmWJElSYBZYkiRJgdlFKEkxP83OLv2l7OM68P7779fp+SsTn3zznXfeqfdrx7sipcbABEuSJCkwEyxJjV40bVq9X7MxLracmZmZ6iZI9cYES5IkKTATLEmqJwWFhYnHHTt2BGDTpk0pak39iy8ZJDUGJliSJEmBmWBJUh2L37n3wbp1iW0lJSWpak7KNGnid3o1Hr7bJUmSAjPBkqTA4ncIfvjhhwD8Z2yR49Uff5zYZ+XKlfXfsIDii0bHlxmqifiyQ1JjYIIlSZIUmAmWJNVC2cWad+7cCcCLQ4cCsOajjwBYEUuptmzZUs+tq3vNmjUD4I477gDg9ddfB+C9996r9BhncldjYoIlSZIUmAWWJElSYHYRStJJ2L17NwAbNmxIbHukRQsAlj39NAC7du2q/4bVs/gEqVNj3Z/3XHYZAGNj3YDLli0rd0z//v3rp3FSA2CCJUmSFJgJliTVwP4DBwDYtm0bAE917Zp4btWiRUDjSK7imjdvDkDv3r0BaBVLrv5y+eUA9N26FYC8vLzEMVfHBv0/WG+tlFLHBEuSJCkwEyxJqsKhw4cB2Boba/Tz9u0BeOtPf0rsszWW1jQmffv2BUqTq7iMpic+Vl4491wAvtO9e+K5du3a1U/jpAbABEuSJCkwEyxJjV5xbAmXsku5FBYWArA7Nq7q+UGDAFg0Zw4AH8UmE22sqkujLrroIgAeW7w4sa1nz5512SSpQTHBkiRJCswES1KjFU2blvR7epPS75z79u0DSpfBWRNbwLmxJ1cnq6SkJPH46NGjKWyJVL9MsCRJkgKzwJIkSQrMLkJJiklLS0s8jg94f+Vv/gaA3NdeS0mbaiInJweAIUOGJLatXbsWgNWrV9fJNVt+anqGT7szNr3FY3/8Y2Lb2Y1wOgs1XiZYkiRJgZlgSVIFioqKADgSG9xedsmXhmLYsGEAPDtgAAD9evRIPLcnMxOAKbHpFBbFlvMJpV+/fhVuLy4uBuCxxx4r99z69euDtkFqyEywJEmSAjPBkqQKHI0lV5v37AFgT+xnQzB8+HAAXhk5Eqh4As/4GKkn8/MBGBy4DbfF/x4dOiRtX7JkSeArSacnEyxJkqTATLAkqQLxSTFzN29OcUtKjR8/HoCXYglWTXSIJUxjxowBYOHChbW+fnzMF8A555xT4T6vXnghsQvV+jrSmcAES5IkKTATLEmNzqeXyKlI06Yn/nksKCio49ZU76qrrgJOLrmK27RpU7B2xO9WrMpDWVkAPBzsqtLpyQRLkiQpMBMsSapAq9atAejatStQ/4s8f+ELX0g8/ln79lXue+DAAQD279+f2PbTtm0BeHbp0nLP1VbZhZurc8sttwDw1FNPnfJ1pdORCZYkSVJgFliSJEmB2UUoSRVo0uTE988+ffoAsHjx4nq57u233w7AP+7endg2o1cvAP735ZcB2LBhA1C6jE9c2cWqoygK3ra/iV0fIKpmwP0vu3UDwA5CNVYmWJIkSYGZYElSBZplZADQtWNHAFq1agWUT41O1cLRowEYHfsZdzg9PfF4zpw5QGlyVZm6SK0q0/eZZwDYOGVKhc+n1WAqDOlMZoIlSZIUmAmWJFWgbbt2AIx9+20AZsd+P5UE67rrrks8fn7IkCr33bZtW+JxdclVKsQnMC0+fhyApmUSN0kmWJIkScGZYElSBYqKigD4/bnnAlC4Zk2tz9W/f3+g+tSqrP+Mjf1q6ApjSwk1bdEixS2RGhYTLEmSpMBMsCSpAtvy8gBYHZuPateuXbU+14QJE076mJ07d9b6evWpxaeSK+8elE4wwZIkSQrMBEuSYjbG7oyD0gWU4z9PxZfjdwHm5FS7b35+PgAFsbFNDd227dsB6P7LX6a4JVLDYoIlSZIUmAWWJElSYHYRSmr09se6AY8cPlzuufgSObXR8SSmWti+YwcAO2M/mzY9Pf55/nD9+lQ3QWqQTLAkSZICOz2+IklSHSouLgZKJxcFmDlgAAB5r71W6/N+4QtfAKBtDdKorl26AKWLTP9zmWRoZb9+AOTm5ta6LXVl9MKFqW6C1CCZYEmSJAVmgiWp0evYoQMAm8tM0/B2bJHnLVu2nPT5brzxRgAebtkSgM5nnVXjYzvE2tKte/fEtl6xKRsaYoIlqWImWJIkSYGZYElq9NLS0oDkO/d2x5bIqUz3MglTp06dALjkkksAmBY7X/v27Wvdpvi4sE9fS9LpwQRLkiQpMBMsSYqJL1MD0Lp166TnsrKyABg3bhwAd5fZt1/sLr+2bdvW+tqFsTsY421on52deG7avn0AZH/zmwA88cQTtb6OpPphgiVJkhRYWhRFUaobocYtPv5Fqi/RtGlJv+/ctQuA2/fvT2z761//CkBmZiYAI0aMAOCuTz4BYEBsnqxTtSl252J8Uelhw4YB0KRJ+e+/Bw8dAuB7sZTrySefDNKGM5Ufb0olEyxJkqTALLAkSZICc5C7pEbv6JEjQGk3HUDz5s0BuOCCCwD459hC0KG6BuOaNWsGQHp6OlBx12Bc69jC01/bsAGAt88/H4AVK1YEbVNN9OzZE6jdRKxSY2CCJUmSFJiD3JVyDnJXffn04Pa4vXv3AvBIixaJbcePHwfgH2MD4ONTMaRCUWzS0YJjx5K2b968GYDPL10KQF5eXr21KZ7wFcSW8WmI/HhTKplgSZIkBeYYLEmNXqvY2KYpGzcmtnXo2BGATilKrsomQ2vXrgWgb3xC0zZtABg6dCgAf4yN4zpn5syUtE9SeSZYkiRJgTkGSynnGCzVtcrGXn1a2bsI27VrVydtqamNsQlIAZ7u2hWAH8WSqsr+mxn6u98lHq9Zs6buGnea8ONNqWSCJUmSFJhjsCSdkXb/0z+d9DGpTq3KKiwzxmnc6tUApI0aVeUxY8eOTTw2wZJSywRLkiQpMAssSZKkwOwilHRG2XzTTQB07NAhxS2pnfgEp5lZWYltfbKza3RsvCsR4NXYFA579uwBYOfOnYFaKKkmTLAkSZICM8GSdEa44447AMjfvj3FLTk1RUVFALRs2TKxrbo0rji2lM6cc85JbGsVW5w6vsRPfDLV+fPnA3Dw4MFq2zJ16lQA/vSnPwGQm5tb/QuQBJhgSZIkBWeCJemM8L3CQgCyevRIcUtOTWZmZtLPmogvBn3o0KHEtvz8fABKSkoAaBFbyHrw4MEAvPXWW9We95FY6tXhK18BoM1jjyWeOxxLyCRVzARLkiQpMBMsSae1mi6DcybLiqVdt5dJsP7jggsAyMjIAGq3OPOjsXFgD8Z+N7WSas4ES5IkKTAXe1bKudizasPkqrz43YQAGdOnp7AlDYMfb0olEyxJkqTAHIMl6bTR2FOrtEb++qXTiQmWJElSYBZYkiRJgdlFKEkNnF2D0unHBEuSJCkwEyxJaoBMraTTmwmWJElSYCZYktSAmFxJZwYTLEmSpMBcKkcp51I5qo34pKMmPqqMH29KJRMsSZKkwEywlHImWJLqgh9vSiUTLEmSpMAssCRJkgKzwJIkSQrMAkuSJCkwCyxJkqTALLAkSZICs8CSJEkKzAJLkiQpMAssSZKkwCywJEmSArPAkiRJCswCS5IkKTALLEmSpMAssCRJkgKzwJIkSQrMAkuSJCkwCyxJkqTALLAkSZICs8CSJEkKzAJLkiQpMAssSZKkwCywJEmSArPAkiRJCswCS5IkKTALLEmSpMAssCRJkgKzwJIkSQrMAkuSJCkwCyxJkqTALLAkSZICs8CSJEkKzAJLkiQpMAssSZKkwCywJEmSArPAkiRJCswCS5IkKTALLEmSpMAssCRJkgKzwJIkSQrMAkuSJCkwCyxJkqTALLAkSZICs8CSJEkKzAJLkiQpMAssSZKkwCywJEmSArPAkiRJCswCS5IkKTALLEmSpMAssCRJkgKzwJIkSQrMAkuSJCkwCyxJkqTALLAkSZICs8CSJEkKzAJLkiQpMAssSZKkwCywJEmSAmua6gZIURSlugmSJAVlgiVJkhSYBZYkSVJgFliSJEmBWWBJkiQFZoElSZIUmAWWJElSYBZYkiRJgVlgSZIkBWaBJUmSFJgFliRJUmAWWJIkSYFZYEmSJAVmgSVJkhSYBZYkSVJg/x9UHWoWHVZjdgAAAABJRU5ErkJggg==' width=600.0/>\n",
       "            </div>\n",
       "        "
      ],
      "text/plain": [
       "Canvas(toolbar=Toolbar(toolitems=[('Home', 'Reset original view', 'home', 'home'), ('Back', 'Back to previous …"
      ]
     },
     "metadata": {},
     "output_type": "display_data"
    }
   ],
   "source": [
    "_ = draw_nifti_slices_with_time(imgs, brain_mask=postmask, percentiles=(1,98), slice_along_axis='z')"
   ]
  },
  {
   "cell_type": "code",
   "execution_count": 7,
   "id": "97df397e",
   "metadata": {},
   "outputs": [
    {
     "name": "stdout",
     "output_type": "stream",
     "text": [
      "(26, 32, 26, 18) 0.0 228.33249\n"
     ]
    },
    {
     "data": {
      "application/vnd.jupyter.widget-view+json": {
       "model_id": "e4809526c6a2427b9c9847039e7855a4",
       "version_major": 2,
       "version_minor": 0
      },
      "text/plain": [
       "VBox(children=(HBox(children=(IntSlider(value=0, description='Time', max=17), IntSlider(value=12, description=…"
      ]
     },
     "metadata": {},
     "output_type": "display_data"
    },
    {
     "data": {
      "application/vnd.jupyter.widget-view+json": {
       "model_id": "4cbeace620644dc39d20e14084de18c9",
       "version_major": 2,
       "version_minor": 0
      },
      "image/png": "[encoded data removed]",
      "text/html": [
       "\n",
       "            <div style=\"display: inline-block;\">\n",
       "                <div class=\"jupyter-widgets widget-label\" style=\"text-align: center;\">\n",
       "                    Figure\n",
       "                </div>\n",
       "                <img src='data:image/png;base64,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' width=600.0/>\n",
       "            </div>\n",
       "        "
      ],
      "text/plain": [
       "Canvas(toolbar=Toolbar(toolitems=[('Home', 'Reset original view', 'home', 'home'), ('Back', 'Back to previous …"
      ]
     },
     "metadata": {},
     "output_type": "display_data"
    }
   ],
   "source": [
    "\n",
    "pixdim = pixdim / np.array(zoom_factors)\n",
    "\n",
    "# zoom and masked (optionally threshold) each image in the 4D array\n",
    "zoom_factors_4d = (*zoom_factors, 1)\n",
    "\n",
    "downsampled_mask = zoom(postmask.astype(float), zoom_factors, order=1) > 0.5 # Use linear for masks\n",
    "\n",
    "down_imgs = zoom(imgs, zoom_factors_4d, order=3)\n",
    "down_imgs *= downsampled_mask[..., np.newaxis]  # apply mask\n",
    "\n",
    "down_imgs[down_imgs < 0] = 0\n",
    "\n",
    "# Print the new shape\n",
    "print(down_imgs.shape, down_imgs.min(), down_imgs.max())\n",
    "_ = draw_nifti_slices_with_time(down_imgs)\n"
   ]
  },
  {
   "cell_type": "code",
   "execution_count": 8,
   "id": "6f5029a2",
   "metadata": {},
   "outputs": [
    {
     "name": "stdout",
     "output_type": "stream",
     "text": [
      "(26,) (32,) (26,) [0.625 0.625 0.625]\n"
     ]
    }
   ],
   "source": [
    "# prepare x, which is from pixdim per voxel\n",
    "x = np.arange(0, down_imgs.shape[0]) * pixdim[0]\n",
    "y = np.arange(0, down_imgs.shape[1]) * pixdim[1]\n",
    "z = np.arange(0, down_imgs.shape[2]) * pixdim[2]\n",
    "print(x.shape, y.shape, z.shape, pixdim)\n",
    "\n",
    "os.makedirs(os.path.dirname(save_path), exist_ok=True)\n",
    "# Save the downsampled volume (masked + optionally thresholded) as npz,\n",
    "# ready to be used in PINN training\n",
    "np.savez_compressed(save_path,\n",
    "                    data=down_imgs.astype(np.float32),\n",
    "                    mask=downsampled_mask.astype(np.bool_),\n",
    "                    pixdim=pixdim.astype(np.float32),\n",
    "                    x=x.astype(np.float32),\n",
    "                    y=y.astype(np.float32),\n",
    "                    z=z.astype(np.float32),\n",
    "                    t=np.array(timestamp, dtype=np.float32),)"
   ]
  }
 ],
 "metadata": {
  "kernelspec": {
   "display_name": "AI",
   "language": "python",
   "name": "python3"
  },
  "language_info": {
   "codemirror_mode": {
    "name": "ipython",
    "version": 3
   },
   "file_extension": ".py",
   "mimetype": "text/x-python",
   "name": "python",
   "nbconvert_exporter": "python",
   "pygments_lexer": "ipython3",
   "version": "3.10.14"
  }
 },
 "nbformat": 4,
 "nbformat_minor": 5
}
