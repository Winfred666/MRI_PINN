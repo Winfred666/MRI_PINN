{
 "cells": [
  {
   "cell_type": "markdown",
   "id": "3f57a032",
   "metadata": {},
   "source": [
    "### A test of nibabel to load nii DCE-MRI data into dataset"
   ]
  },
  {
   "cell_type": "code",
   "execution_count": 17,
   "id": "f657ca36",
   "metadata": {},
   "outputs": [],
   "source": [
    "# Select the image to downsample (e.g., imgs[0])\n",
    "\n",
    "zoom_factors = (0.4, 0.4, 0.4)\n",
    "timeindex = list(range(9, 27))  # 4,5,...35, total 32 time points\n",
    "\n",
    "data_template = \"data/KX078_DCE_nii_data/psnrT1_FLASH_3D_{:04d}.nii\"\n",
    "mask_path = \"data/KX078_DCE_nii_data/Template_C57Bl6_n30_brain_KX_078.nii\"\n",
    "mask_erosion_iter = 10 # if affect mask outside of \n",
    "save_path = \"data/KX078_DCE_nii_data/dataset_downsampled.npz\""
   ]
  },
  {
   "cell_type": "code",
   "execution_count": 18,
   "id": "136464b3",
   "metadata": {},
   "outputs": [
    {
     "name": "stdout",
     "output_type": "stream",
     "text": [
      "The autoreload extension is already loaded. To reload it, use:\n",
      "  %reload_ext autoreload\n"
     ]
    }
   ],
   "source": [
    "import numpy as np\n",
    "import nibabel as nib\n",
    "# 3D erose and smooth the mask \n",
    "from scipy.ndimage import binary_erosion,label,gaussian_filter\n",
    "# downsample images for quick testing \n",
    "from scipy.ndimage import zoom\n",
    "from utils.visualize import draw_nifti_slices_with_threshold,draw_nifti_slices_with_time\n",
    "import os\n",
    "\n",
    "%matplotlib widget\n",
    "%load_ext autoreload\n",
    "%autoreload 2\n"
   ]
  },
  {
   "cell_type": "code",
   "execution_count": 19,
   "id": "85e3bf19",
   "metadata": {},
   "outputs": [],
   "source": [
    "def read_nii_list(template, data_index):\n",
    "    datapaths = [template.format(i) for i in data_index]\n",
    "    imgs = [nib.load(path) for path in datapaths]\n",
    "\n",
    "    # check whether all headers are align (affine + pixdim)\n",
    "    ref_header = imgs[0].header\n",
    "    for img in imgs[0:]:\n",
    "        assert img.get_data_dtype() == np.dtype('float32')\n",
    "        assert np.allclose(img.header.get_best_affine(), ref_header.get_best_affine())\n",
    "        assert np.allclose(img.header['pixdim'], ref_header['pixdim'])\n",
    "    pixdim = np.round(ref_header['pixdim'][1:4], 4)\n",
    "    print(\"All headers are aligned, pixdim: \", ref_header['pixdim'][1:4])\n",
    "    # directly transfer all to numpy array, shape: (nx, ny, nz, nt)\n",
    "    imgs = [np.nan_to_num( \\\n",
    "        np.asanyarray(img.dataobj, dtype=np.float32),nan=0.0) for img in imgs]\n",
    "    imgs = np.stack(imgs, axis=-1)\n",
    "    return imgs, pixdim\n"
   ]
  },
  {
   "cell_type": "code",
   "execution_count": 20,
   "id": "222028e2",
   "metadata": {},
   "outputs": [
    {
     "name": "stdout",
     "output_type": "stream",
     "text": [
      "All headers are aligned, pixdim:  [0.12500003 0.125      0.1249999 ]\n"
     ]
    },
    {
     "ename": "KeyboardInterrupt",
     "evalue": "",
     "output_type": "error",
     "traceback": [
      "\u001b[1;31m---------------------------------------------------------------------------\u001b[0m",
      "\u001b[1;31mKeyboardInterrupt\u001b[0m                         Traceback (most recent call last)",
      "\u001b[1;31mKeyboardInterrupt\u001b[0m: "
     ]
    }
   ],
   "source": [
    "# WARNING: time stamp is related to the actual acquisition time, should record them as part of metadata.\n",
    "timestamp = [(t - 4) * 4 for t in timeindex]  # in minutes, 4th minute is the injection time, then record MRI every 4 minutes\n",
    "\n",
    "imgs, pixdim = read_nii_list(data_template, timeindex)\n",
    "imgs[imgs < 0] = 0\n",
    "\n",
    "print(imgs.shape, pixdim)  # (nx, ny, nz, nt), (dx, dy, dz)\n",
    "print(imgs[:,:,:,0].min(), imgs[:,:,:,0].max())\n",
    "\n",
    "mask = nib.load(mask_path)\n",
    "mask = np.asanyarray(mask.dataobj, dtype=bool)"
   ]
  },
  {
   "cell_type": "code",
   "execution_count": null,
   "id": "b66f7f42",
   "metadata": {},
   "outputs": [
    {
     "name": "stdout",
     "output_type": "stream",
     "text": [
      "Number of connected components: 1\n"
     ]
    }
   ],
   "source": [
    "postmask = binary_erosion(mask, iterations=mask_erosion_iter)\n",
    "\n",
    "# then isolate the largest connected component\n",
    "isolated_mask = np.zeros_like(postmask)\n",
    "labeled_array, num_features = label(postmask)\n",
    "print(\"Number of connected components:\", num_features)\n",
    "if num_features > 0:\n",
    "    largest_component = np.argmax(np.bincount(labeled_array.flat)[1:]) + 1\n",
    "    isolated_mask[labeled_array == largest_component] = 1\n",
    "\n",
    "# 3D Gaussian smoothing\n",
    "smoothed_mask = gaussian_filter(isolated_mask.astype(float), sigma=1) > 0.5\n",
    "postmask = smoothed_mask.astype(bool)"
   ]
  },
  {
   "cell_type": "code",
   "execution_count": null,
   "id": "5d9dc0e4",
   "metadata": {},
   "outputs": [
    {
     "data": {
      "application/vnd.jupyter.widget-view+json": {
       "model_id": "885c4616b0354072a258b85c0179a54e",
       "version_major": 2,
       "version_minor": 0
      },
      "text/plain": [
       "VBox(children=(HBox(children=(IntSlider(value=0, description='Time', max=17), IntSlider(value=63, description=…"
      ]
     },
     "metadata": {},
     "output_type": "display_data"
    },
    {
     "data": {
      "application/vnd.jupyter.widget-view+json": {
       "model_id": "5f114dfd9d074069a76149b023c8e39c",
       "version_major": 2,
       "version_minor": 0
      },
      "image/png": "[encoded data removed]",
      "text/html": [
       "\n",
       "            <div style=\"display: inline-block;\">\n",
       "                <div class=\"jupyter-widgets widget-label\" style=\"text-align: center;\">\n",
       "                    Figure\n",
       "                </div>\n",
       "                <img src='data:image/png;base64,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' width=600.0/>\n",
       "            </div>\n",
       "        "
      ],
      "text/plain": [
       "Canvas(toolbar=Toolbar(toolitems=[('Home', 'Reset original view', 'home', 'home'), ('Back', 'Back to previous …"
      ]
     },
     "metadata": {},
     "output_type": "display_data"
    }
   ],
   "source": [
    "_ = draw_nifti_slices_with_time(imgs, brain_mask=postmask, percentiles=(1,98), slice_along_axis='z')"
   ]
  },
  {
   "cell_type": "code",
   "execution_count": null,
   "id": "97df397e",
   "metadata": {},
   "outputs": [
    {
     "name": "stdout",
     "output_type": "stream",
     "text": [
      "(51, 64, 51, 18) 0.0 347.94464\n"
     ]
    },
    {
     "data": {
      "application/vnd.jupyter.widget-view+json": {
       "model_id": "0c29912781a842fb8b819975dde5efb6",
       "version_major": 2,
       "version_minor": 0
      },
      "text/plain": [
       "VBox(children=(HBox(children=(IntSlider(value=0, description='Time', max=17), IntSlider(value=25, description=…"
      ]
     },
     "metadata": {},
     "output_type": "display_data"
    },
    {
     "data": {
      "application/vnd.jupyter.widget-view+json": {
       "model_id": "4c5184fddf6f437a890bd98fdea090dc",
       "version_major": 2,
       "version_minor": 0
      },
      "image/png": "[encoded data removed]",
      "text/html": [
       "\n",
       "            <div style=\"display: inline-block;\">\n",
       "                <div class=\"jupyter-widgets widget-label\" style=\"text-align: center;\">\n",
       "                    Figure\n",
       "                </div>\n",
       "                <img src='data:image/png;base64,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' width=600.0/>\n",
       "            </div>\n",
       "        "
      ],
      "text/plain": [
       "Canvas(toolbar=Toolbar(toolitems=[('Home', 'Reset original view', 'home', 'home'), ('Back', 'Back to previous …"
      ]
     },
     "metadata": {},
     "output_type": "display_data"
    }
   ],
   "source": [
    "\n",
    "pixdim = pixdim / np.array(zoom_factors)\n",
    "\n",
    "# zoom and masked (optionally threshold) each image in the 4D array\n",
    "zoom_factors_4d = (*zoom_factors, 1)\n",
    "\n",
    "downsampled_mask = zoom(postmask.astype(float), zoom_factors, order=1) > 0.5 # Use linear for masks\n",
    "\n",
    "down_imgs = zoom(imgs, zoom_factors_4d, order=3)\n",
    "down_imgs *= downsampled_mask[..., np.newaxis]  # apply mask\n",
    "\n",
    "down_imgs[down_imgs < 0] = 0\n",
    "\n",
    "# Print the new shape\n",
    "print(down_imgs.shape, down_imgs.min(), down_imgs.max())\n",
    "_ = draw_nifti_slices_with_time(down_imgs)\n"
   ]
  },
  {
   "cell_type": "code",
   "execution_count": null,
   "id": "6f5029a2",
   "metadata": {},
   "outputs": [
    {
     "name": "stdout",
     "output_type": "stream",
     "text": [
      "(51,) (64,) (51,) [0.3125 0.3125 0.3125]\n"
     ]
    }
   ],
   "source": [
    "# prepare x, which is from pixdim per voxel\n",
    "x = np.arange(0, down_imgs.shape[0]) * pixdim[0]\n",
    "y = np.arange(0, down_imgs.shape[1]) * pixdim[1]\n",
    "z = np.arange(0, down_imgs.shape[2]) * pixdim[2]\n",
    "print(x.shape, y.shape, z.shape, pixdim)\n",
    "\n",
    "os.makedirs(os.path.dirname(save_path), exist_ok=True)\n",
    "# Save the downsampled volume (masked + optionally thresholded) as npz,\n",
    "# ready to be used in PINN training\n",
    "np.savez_compressed(save_path,\n",
    "                    data=down_imgs.astype(np.float32),\n",
    "                    mask=downsampled_mask.astype(np.bool_),\n",
    "                    pixdim=pixdim.astype(np.float32),\n",
    "                    x=x.astype(np.float32),\n",
    "                    y=y.astype(np.float32),\n",
    "                    z=z.astype(np.float32),\n",
    "                    t=np.array(timestamp, dtype=np.float32),)"
   ]
  }
 ],
 "metadata": {
  "kernelspec": {
   "display_name": "AI",
   "language": "python",
   "name": "python3"
  },
  "language_info": {
   "codemirror_mode": {
    "name": "ipython",
    "version": 3
   },
   "file_extension": ".py",
   "mimetype": "text/x-python",
   "name": "python",
   "nbconvert_exporter": "python",
   "pygments_lexer": "ipython3",
   "version": "3.10.14"
  }
 },
 "nbformat": 4,
 "nbformat_minor": 5
}
