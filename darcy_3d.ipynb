{
 "cells": [
  {
   "cell_type": "markdown",
   "id": "1f3278e3",
   "metadata": {},
   "source": [
    "### darcy_3d\n",
    "\n",
    "Use darcy law, build 4 PINN, a reproduction of paper [J. D. Toscano et al. 2025](https://doi.org/10.1101/2025.07.30.667741)"
   ]
  },
  {
   "cell_type": "markdown",
   "id": "fa6b28a8",
   "metadata": {},
   "source": [
    "0. parameter adjust"
   ]
  },
  {
   "cell_type": "code",
   "execution_count": 3,
   "id": "be6b9f8f",
   "metadata": {},
   "outputs": [],
   "source": [
    "do_training = True\n",
    "# if do not training, please provide pth path to load.\n",
    "ckpt_path = \"data/adpinn_pde_v_32_20-52_l8_n128_20250930.pth\"\n",
    "\n",
    "continue_training = True\n",
    "# if continue training, please provide ckpt path to load.\n",
    "# ckpt_path = \"data/adpinn_init_c_32_20-52_l8_n128_20250930.pth\"\n",
    "\n",
    "neuron_num = 128\n",
    "hid_layer_num = 8\n",
    "\n",
    "position_encode_freq_scale = 1.0\n",
    "\n",
    "train_setting = {\n",
    "    \"init_c\":{\n",
    "        \"learning_rate\": 5e-4,\n",
    "        \"max_epochs\": 5000,\n",
    "    },\n",
    "    \"init_v\":{\n",
    "        \"learning_rate\": 5e-4,\n",
    "        \"max_epochs\": 5000,\n",
    "    },\n",
    "    \"pde_v\":{\n",
    "        \"learning_rate\": 1e-4,\n",
    "        \"max_epochs\": 5000,\n",
    "    },\n",
    "    # \"joint\":{\n",
    "    #     \"learning_rate\": 1e-5,\n",
    "    #     \"max_epochs\": 2000,\n",
    "    # }\n",
    "}\n"
   ]
  },
  {
   "cell_type": "markdown",
   "id": "707e4cbe",
   "metadata": {},
   "source": [
    "1. Data preparation"
   ]
  },
  {
   "cell_type": "code",
   "execution_count": 4,
   "id": "b92874a8",
   "metadata": {},
   "outputs": [],
   "source": [
    "import numpy as np\n",
    "import matplotlib.pyplot as plt\n",
    "import torch\n",
    "import torch.nn as nn\n",
    "import lightning as L\n",
    "from lightning.pytorch import Trainer\n",
    "from lightning.pytorch.loggers import TensorBoardLogger\n",
    "\n",
    "from ad_net import AD_Net\n",
    "from datetime import datetime\n",
    "\n",
    "%matplotlib widget\n",
    "%load_ext autoreload\n",
    "%autoreload 2\n"
   ]
  },
  {
   "cell_type": "code",
   "execution_count": 5,
   "id": "891b0a39",
   "metadata": {},
   "outputs": [
    {
     "name": "stdout",
     "output_type": "stream",
     "text": [
      "data_shape:  (32, 40, 32, 18) pixdim:  [0.5 0.5 0.5]\n",
      "domain_shape:  (32,) (40,) (32,) (18,)\n",
      "min_c:  0.0 max_c:  299.53845\n",
      "L_star:  [7.75 9.75 7.75] T_star:  34.0 Pe_g:  20835.375816993463\n"
     ]
    }
   ],
   "source": [
    "from data_module import load_dcemri_data, CharacteristicDomain, DCEMRIDataModule, VelocityDataModule\n",
    "from visualize import visualize_prediction_vs_groundtruth, draw_nifti_slices_with_time, draw_nifti_slices_with_threshold\n",
    "\n",
    "data,mask,pixdim,x,y,z,t = load_dcemri_data(\"data/dataset_downsampled.npz\")\n",
    "\n",
    "# Also need to transform anisotropic diffusivity if needed here.\n",
    "device = torch.device(\"cuda\" if torch.cuda.is_available() else \"cpu\")\n",
    "\n",
    "char_domain = CharacteristicDomain(data.shape, t, pixdim, device)\n",
    "\n",
    "print(\"L_star: \",char_domain.L_star, \"T_star: \", char_domain.T_star ,\n",
    "      \"Pe_g: \", char_domain.Pe_g)\n",
    "# batch_size is sum over data's point\n",
    "c_dataset = DCEMRIDataModule(data, char_domain, mask, \n",
    "                           batch_size=int(mask.sum()*len(t)), device=device)"
   ]
  },
  {
   "cell_type": "code",
   "execution_count": 6,
   "id": "3a81e2fb",
   "metadata": {},
   "outputs": [
    {
     "name": "stdout",
     "output_type": "stream",
     "text": [
      "velocity max and min:  1.627875979102795 0.0\n",
      "Volume shape: (32, 40, 32) dtype: float64\n"
     ]
    },
    {
     "data": {
      "application/vnd.jupyter.widget-view+json": {
       "model_id": "22d2b64277c74b6ea6b64ab6ec592515",
       "version_major": 2,
       "version_minor": 0
      },
      "text/plain": [
       "interactive(children=(IntSlider(value=16, description='z', max=31), FloatSlider(value=0.5, description='thr', …"
      ]
     },
     "metadata": {},
     "output_type": "display_data"
    }
   ],
   "source": [
    "# use front-tracking to get initial velocity field.\n",
    "from front_tracking import front_tracking_velocity\n",
    "# shape (nx, ny, nz, 3), only use half of the timestep to training, consistant with c_dataset\n",
    "\n",
    "initial_velocity_field = front_tracking_velocity(data[:,:,:,::2], \n",
    "                                                 dt=t[2] - t[0])\n",
    "# scaling using V_star\n",
    "initial_velocity_field /= char_domain.V_star\n",
    "# draw initial velocity magnitude\n",
    "vel_mag = np.linalg.norm(initial_velocity_field, axis=-1)\n",
    "\n",
    "# print(pixdim, char_domain.domain_shape, char_domain.L_star, char_domain.T_star, char_domain.V_star)\n",
    "print(\"velocity max and min: \", vel_mag.max(), vel_mag.min())\n",
    "\n",
    "draw_nifti_slices_with_threshold(vel_mag)\n",
    "\n",
    "v_dataset = VelocityDataModule(initial_velocity_field, char_domain, mask, \n",
    "                              batch_size=int(mask.sum()), device=device)"
   ]
  },
  {
   "cell_type": "markdown",
   "id": "9d0d580f",
   "metadata": {},
   "source": [
    "2. Network definition\n",
    "\n",
    "Here only define a base advect-diffuse PINN that learn the whole, it is reported in [J. D. Toscano et al. 2025](https://doi.org/10.1101/2025.07.30.667741) , that pure AD instead of Darcy's law cannot capture bimodal velocity distribution. \n",
    "\n",
    "This version has two variants:\n",
    "1. simply using FNN to produce velocity field, without any pruning on solution space.\n",
    "2. physics constrained divergence-free to the \n"
   ]
  },
  {
   "cell_type": "code",
   "execution_count": 7,
   "id": "cc858289",
   "metadata": {},
   "outputs": [],
   "source": [
    "class ADPINN_Base(L.LightningModule):\n",
    "    def __init__(self, ad_net: AD_Net, learning_rate=1e-3):\n",
    "        super().__init__()\n",
    "        self.save_hyperparameters({\"learning_rate\": learning_rate})\n",
    "\n",
    "        self.L2_loss = nn.MSELoss()\n",
    "\n",
    "        self.ad_net = ad_net\n",
    "        self.c_net = ad_net.c_net\n",
    "        self.v_net = ad_net.v_net\n",
    "        \n",
    "        self.learning_rate = learning_rate\n",
    "        \n",
    "        # slice domain for visualization\n",
    "        self.val_slice_z = [data.shape[2]//4, data.shape[2]//2, 3*data.shape[2]//4]\n",
    "        self.val_slice_t = [data.shape[3]//4, data.shape[3]//2, 3*data.shape[3]//4]\n",
    "        self.val_slice_4d = char_domain.get_characteristic_geotimedomain(slice_zindex = self.val_slice_z, \n",
    "                                                                       slice_tindex = self.val_slice_t)\n",
    "        Z,T = np.meshgrid(self.val_slice_z, self.val_slice_t, indexing='ij')\n",
    "        self.val_slice_gt_c = data[:, :, Z, T] / c_dataset.C_star # simulate the dataset process\n",
    "        # print(self.val_slice_gt_c.shape)\n",
    "    \n",
    "    \n",
    "    def configure_optimizers(self):\n",
    "        params = [p for p in self.parameters() if p.requires_grad]\n",
    "        optimizer = torch.optim.AdamW(params, lr=self.learning_rate, weight_decay=1e-6)\n",
    "        return optimizer\n",
    "    \n",
    "    def validation_step(self, batch, batch_idx):\n",
    "        x, C_true = batch\n",
    "        C_pred = self.c_net(x)\n",
    "        mse_data = self.L2_loss(C_pred, C_true)\n",
    "        \n",
    "        # also slice c map of mid time + mid z when validation\n",
    "        if batch_idx == 0:\n",
    "            self.log('val_data_loss', mse_data)\n",
    "            if self.current_epoch % 50 == 0:\n",
    "                self.draw_concentration_slices()\n",
    "                self.draw_velocity_slices()\n",
    "        return mse_data\n",
    "    \n",
    "    def draw_concentration_slices(self, to_logger=True):\n",
    "        with torch.no_grad():\n",
    "            vol_disp_all = self.c_net(self.val_slice_4d).cpu().numpy().reshape(\n",
    "                data.shape[0], data.shape[1], len(self.val_slice_z), len(self.val_slice_t))\n",
    "            # self.logger.experiment.add_image('val_C_slice', vol_disp, self.current_epoch, dataformats='HW')\n",
    "            # scale of vol_disp will done inside visualize function\n",
    "            c_vis_list = []\n",
    "            for i in range(len(self.val_slice_z)):\n",
    "                for j in range(len(self.val_slice_t)):\n",
    "                    slice_gt_c = self.val_slice_gt_c[:, :, i, j]\n",
    "                    vol_disp = vol_disp_all[:, :, i, j]\n",
    "                    vol_disp *= mask[:,:,self.val_slice_z[i]]  # mask out of brain region\n",
    "                    c_vis_list.append(visualize_prediction_vs_groundtruth(vol_disp, slice_gt_c))\n",
    "            # stack all images horizontally (along H direction)\n",
    "            c_vis_list = np.hstack(c_vis_list)\n",
    "            if to_logger:\n",
    "                self.logger.experiment.add_image('val_C_compare', c_vis_list, self.current_epoch, dataformats='WH')\n",
    "            else:\n",
    "                plt.figure(figsize=(6,3))\n",
    "                plt.imshow(c_vis_list, cmap='jet', vmin=0, vmax=1)\n",
    "                plt.axis('off')\n",
    "                plt.show()\n",
    "\n",
    "\n",
    "    def draw_velocity_slices(self):\n",
    "        with torch.no_grad():\n",
    "            vx_img, vy_img, vz_img = self.v_net(self.val_slice_4d)\n",
    "            vx_img = vx_img.cpu().numpy().reshape(data.shape[0], data.shape[1], len(self.val_slice_z), len(self.val_slice_t))\n",
    "            vy_img = vy_img.cpu().numpy().reshape(data.shape[0], data.shape[1], len(self.val_slice_z), len(self.val_slice_t))\n",
    "            vz_img = vz_img.cpu().numpy().reshape(data.shape[0], data.shape[1], len(self.val_slice_z), len(self.val_slice_t))\n",
    "            v_vis_list = []\n",
    "            for i in range(len(self.val_slice_z)):\n",
    "                for j in range(len(self.val_slice_t)):\n",
    "                    vx = vx_img[:, :, i, j]\n",
    "                    vy = vy_img[:, :, i, j]\n",
    "                    vz = vz_img[:, :, i, j]\n",
    "                    v_vis_list.append(vx ** 2 + vy ** 2 + vz ** 2)\n",
    "            v_vis_list = np.hstack(v_vis_list)\n",
    "            # scale to [0,1] for visualization\n",
    "            v_vis_list = (v_vis_list - v_vis_list.min()) / (v_vis_list.max() - v_vis_list.min() + 1e-8)\n",
    "            self.logger.experiment.add_image('train_v_mag_slice', v_vis_list, self.current_epoch, dataformats='WH')\n"
   ]
  },
  {
   "cell_type": "code",
   "execution_count": 8,
   "id": "1b4303f8",
   "metadata": {},
   "outputs": [],
   "source": [
    "# Training variant 1: init C_Net\n",
    "class ADPINN_InitC(ADPINN_Base):\n",
    "    def training_step(self, batch, batch_idx):\n",
    "        x, C_true = batch\n",
    "        C_pred = self.c_net(x)\n",
    "        mse_data = self.L2_loss(C_pred, C_true)\n",
    "        if batch_idx == 0:\n",
    "            self.log('train_c_init_loss', mse_data)\n",
    "        return mse_data\n",
    "\n",
    "# Training varient 2: init V_Net (need heuristic estimate)\n",
    "class ADPINN_InitV(ADPINN_Base):\n",
    "    def training_step(self, batch_v, batch_idx):\n",
    "        x, v_true = batch_v # still x shaped (N, 4), v_true shaped (N, 3)\n",
    "        vx,vy,vz = self.v_net(x)\n",
    "        vx = vx.view(vx.shape[0], -1) # (N, 1) -> (N, )\n",
    "        vy = vy.view(vy.shape[0], -1)\n",
    "        vz = vz.view(vz.shape[0], -1)\n",
    "        v_pred = torch.cat([vx, vy, vz], dim=1) # (N, 3)\n",
    "\n",
    "        mse_data = self.L2_loss(v_pred, v_true)\n",
    "\n",
    "        if batch_idx == 0:\n",
    "            self.log('train_v_init_loss', mse_data)\n",
    "            if self.current_epoch % 50 == 0:\n",
    "                self.draw_velocity_slices()\n",
    "        return mse_data\n",
    "\n",
    "# only optimize v + D, using advect-diffuse.\n",
    "class ADPINN_PDE_V(ADPINN_Base):\n",
    "    def __init__(self, ad_net, learning_rate=1e-3):\n",
    "        super().__init__(ad_net, learning_rate)\n",
    "        # freeze c_net\n",
    "        for param in self.c_net.parameters():\n",
    "            param.requires_grad = False\n",
    "        self.c_net.eval()\n",
    "        \n",
    "    # TODO: here to batch could use smart sampling.\n",
    "    def training_step(self, batch, batch_idx):\n",
    "        x, _ = batch\n",
    "        # PDE loss\n",
    "        pde_residual = self.ad_net.pde_residual(x)\n",
    "        mse_pde = self.L2_loss(pde_residual, torch.zeros_like(pde_residual))\n",
    "        \n",
    "        loss = mse_pde\n",
    "        \n",
    "        if batch_idx == 0:\n",
    "            self.log('pde_v_residual', mse_pde)\n",
    "            self.log('pde_v_D', self.ad_net.D.item())\n",
    "\n",
    "        \n",
    "        return loss\n",
    "\n",
    "# joint optimize c + v + D, using advect-diffuse\n",
    "class ADPINN_Joint(ADPINN_Base):\n",
    "    def training_step(self, batch, batch_idx):\n",
    "        x, C_true = batch\n",
    "        C_pred = self.c_net(x)\n",
    "        mse_data = self.L2_loss(C_pred, C_true)\n",
    "        \n",
    "        # PDE loss\n",
    "        pde_residual = self.ad_net.pde_residual(x)\n",
    "        mse_pde = self.L2_loss(pde_residual, torch.zeros_like(pde_residual))\n",
    "        \n",
    "        loss = mse_data + mse_pde\n",
    "\n",
    "        if batch_idx == 0:\n",
    "            self.log('joint_data_loss', mse_data)\n",
    "            self.log('joint_pde_loss', mse_pde)\n",
    "            self.log('joint_D', self.ad_net.D.item())\n",
    "        \n",
    "        return loss"
   ]
  },
  {
   "cell_type": "markdown",
   "id": "79a2035e",
   "metadata": {},
   "source": [
    "3. Training step\n",
    "\n",
    "- first we has initializaiton for c and v net\n",
    "- then pde loss for only v net\n",
    "- finally joint optimization."
   ]
  },
  {
   "cell_type": "code",
   "execution_count": null,
   "id": "61e490b4",
   "metadata": {},
   "outputs": [
    {
     "name": "stderr",
     "output_type": "stream",
     "text": [
      "💡 Tip: For seamless cloud uploads and versioning, try installing [litmodels](https://pypi.org/project/litmodels/) to enable LitModelCheckpoint, which syncs automatically with the Lightning model registry.\n",
      "GPU available: True (cuda), used: True\n",
      "TPU available: False, using: 0 TPU cores\n",
      "HPU available: False, using: 0 HPUs\n",
      "You are using a CUDA device ('NVIDIA GeForce RTX 3050 Laptop GPU') that has Tensor Cores. To properly utilize them, you should set `torch.set_float32_matmul_precision('medium' | 'high')` which will trade-off precision for performance. For more details, read https://pytorch.org/docs/stable/generated/torch.set_float32_matmul_precision.html#torch.set_float32_matmul_precision\n",
      "LOCAL_RANK: 0 - CUDA_VISIBLE_DEVICES: [0]\n",
      "\n",
      "  | Name    | Type    | Params | Mode \n",
      "--------------------------------------------\n",
      "0 | L2_loss | MSELoss | 0      | train\n",
      "1 | ad_net  | AD_Net  | 249 K  | train\n",
      "2 | c_net   | C_Net   | 124 K  | train\n",
      "3 | v_net   | V_Net   | 124 K  | train\n",
      "--------------------------------------------\n",
      "249 K     Trainable params\n",
      "0         Non-trainable params\n",
      "249 K     Total params\n",
      "0.999     Total estimated model params size (MB)\n",
      "42        Modules in train mode\n",
      "0         Modules in eval mode\n"
     ]
    },
    {
     "data": {
      "application/vnd.jupyter.widget-view+json": {
       "model_id": "d123b28648834a7b9e33cb88e8529017",
       "version_major": 2,
       "version_minor": 0
      },
      "text/plain": [
       "Sanity Checking: |          | 0/? [00:00<?, ?it/s]"
      ]
     },
     "metadata": {},
     "output_type": "display_data"
    },
    {
     "name": "stderr",
     "output_type": "stream",
     "text": [
      "w:\\bigTool\\Anaconda\\envs\\AI\\lib\\site-packages\\lightning\\pytorch\\trainer\\connectors\\data_connector.py:433: The 'val_dataloader' does not have many workers which may be a bottleneck. Consider increasing the value of the `num_workers` argument` to `num_workers=19` in the `DataLoader` to improve performance.\n",
      "w:\\bigTool\\Anaconda\\envs\\AI\\lib\\site-packages\\lightning\\pytorch\\trainer\\connectors\\data_connector.py:433: The 'train_dataloader' does not have many workers which may be a bottleneck. Consider increasing the value of the `num_workers` argument` to `num_workers=19` in the `DataLoader` to improve performance.\n",
      "w:\\bigTool\\Anaconda\\envs\\AI\\lib\\site-packages\\lightning\\pytorch\\loops\\fit_loop.py:310: The number of training batches (1) is smaller than the logging interval Trainer(log_every_n_steps=3). Set a lower value for log_every_n_steps if you want to see logs for the training epoch.\n"
     ]
    },
    {
     "data": {
      "application/vnd.jupyter.widget-view+json": {
       "model_id": "fb7d3a45fd9f4c22a6747b9aca966072",
       "version_major": 2,
       "version_minor": 0
      },
      "text/plain": [
       "Training: |          | 0/? [00:00<?, ?it/s]"
      ]
     },
     "metadata": {},
     "output_type": "display_data"
    },
    {
     "data": {
      "application/vnd.jupyter.widget-view+json": {
       "model_id": "c464a4f6fceb4f1db3d29e2b49e75dbe",
       "version_major": 2,
       "version_minor": 0
      },
      "text/plain": [
       "Validation: |          | 0/? [00:00<?, ?it/s]"
      ]
     },
     "metadata": {},
     "output_type": "display_data"
    },
    {
     "data": {
      "application/vnd.jupyter.widget-view+json": {
       "model_id": "18d2f89379d24fd0b7a28acf1990db36",
       "version_major": 2,
       "version_minor": 0
      },
      "text/plain": [
       "Validation: |          | 0/? [00:00<?, ?it/s]"
      ]
     },
     "metadata": {},
     "output_type": "display_data"
    },
    {
     "data": {
      "application/vnd.jupyter.widget-view+json": {
       "model_id": "22bb7e255e584b169708c9844fc1a057",
       "version_major": 2,
       "version_minor": 0
      },
      "text/plain": [
       "Validation: |          | 0/? [00:00<?, ?it/s]"
      ]
     },
     "metadata": {},
     "output_type": "display_data"
    },
    {
     "data": {
      "application/vnd.jupyter.widget-view+json": {
       "model_id": "dabb9ba976164b51baf0dd58e7265cee",
       "version_major": 2,
       "version_minor": 0
      },
      "text/plain": [
       "Validation: |          | 0/? [00:00<?, ?it/s]"
      ]
     },
     "metadata": {},
     "output_type": "display_data"
    },
    {
     "data": {
      "application/vnd.jupyter.widget-view+json": {
       "model_id": "9e02d0c8cd9c46c4949029db61db253f",
       "version_major": 2,
       "version_minor": 0
      },
      "text/plain": [
       "Validation: |          | 0/? [00:00<?, ?it/s]"
      ]
     },
     "metadata": {},
     "output_type": "display_data"
    },
    {
     "data": {
      "application/vnd.jupyter.widget-view+json": {
       "model_id": "a18b3bf89b6f46fcb399a573b109bd8f",
       "version_major": 2,
       "version_minor": 0
      },
      "text/plain": [
       "Validation: |          | 0/? [00:00<?, ?it/s]"
      ]
     },
     "metadata": {},
     "output_type": "display_data"
    },
    {
     "data": {
      "application/vnd.jupyter.widget-view+json": {
       "model_id": "b92624dd0369457b993a5024900427a2",
       "version_major": 2,
       "version_minor": 0
      },
      "text/plain": [
       "Validation: |          | 0/? [00:00<?, ?it/s]"
      ]
     },
     "metadata": {},
     "output_type": "display_data"
    },
    {
     "data": {
      "application/vnd.jupyter.widget-view+json": {
       "model_id": "29b779b7790240e289b4b2da4bbcecbd",
       "version_major": 2,
       "version_minor": 0
      },
      "text/plain": [
       "Validation: |          | 0/? [00:00<?, ?it/s]"
      ]
     },
     "metadata": {},
     "output_type": "display_data"
    },
    {
     "data": {
      "application/vnd.jupyter.widget-view+json": {
       "model_id": "fc89c16ed94340da928153a6b20587a0",
       "version_major": 2,
       "version_minor": 0
      },
      "text/plain": [
       "Validation: |          | 0/? [00:00<?, ?it/s]"
      ]
     },
     "metadata": {},
     "output_type": "display_data"
    },
    {
     "data": {
      "application/vnd.jupyter.widget-view+json": {
       "model_id": "63dffb7d08ff4559b7923d2a2854247f",
       "version_major": 2,
       "version_minor": 0
      },
      "text/plain": [
       "Validation: |          | 0/? [00:00<?, ?it/s]"
      ]
     },
     "metadata": {},
     "output_type": "display_data"
    },
    {
     "data": {
      "application/vnd.jupyter.widget-view+json": {
       "model_id": "977e700b9f6d4a48904da9ca020f87d5",
       "version_major": 2,
       "version_minor": 0
      },
      "text/plain": [
       "Validation: |          | 0/? [00:00<?, ?it/s]"
      ]
     },
     "metadata": {},
     "output_type": "display_data"
    },
    {
     "data": {
      "application/vnd.jupyter.widget-view+json": {
       "model_id": "644fda54b0e94a949064b198c690244e",
       "version_major": 2,
       "version_minor": 0
      },
      "text/plain": [
       "Validation: |          | 0/? [00:00<?, ?it/s]"
      ]
     },
     "metadata": {},
     "output_type": "display_data"
    },
    {
     "data": {
      "application/vnd.jupyter.widget-view+json": {
       "model_id": "431b4146b5d5457aa4b116fde9450c34",
       "version_major": 2,
       "version_minor": 0
      },
      "text/plain": [
       "Validation: |          | 0/? [00:00<?, ?it/s]"
      ]
     },
     "metadata": {},
     "output_type": "display_data"
    },
    {
     "data": {
      "application/vnd.jupyter.widget-view+json": {
       "model_id": "e22e9d2d05454b14ae198452007ef951",
       "version_major": 2,
       "version_minor": 0
      },
      "text/plain": [
       "Validation: |          | 0/? [00:00<?, ?it/s]"
      ]
     },
     "metadata": {},
     "output_type": "display_data"
    },
    {
     "data": {
      "application/vnd.jupyter.widget-view+json": {
       "model_id": "37459b305926414c8f2c9a60ef1fd2f9",
       "version_major": 2,
       "version_minor": 0
      },
      "text/plain": [
       "Validation: |          | 0/? [00:00<?, ?it/s]"
      ]
     },
     "metadata": {},
     "output_type": "display_data"
    },
    {
     "data": {
      "application/vnd.jupyter.widget-view+json": {
       "model_id": "20b3ee0684224500aa2aad3458531243",
       "version_major": 2,
       "version_minor": 0
      },
      "text/plain": [
       "Validation: |          | 0/? [00:00<?, ?it/s]"
      ]
     },
     "metadata": {},
     "output_type": "display_data"
    },
    {
     "data": {
      "application/vnd.jupyter.widget-view+json": {
       "model_id": "080370b6c6f84ec6b69e4e30ca009f3a",
       "version_major": 2,
       "version_minor": 0
      },
      "text/plain": [
       "Validation: |          | 0/? [00:00<?, ?it/s]"
      ]
     },
     "metadata": {},
     "output_type": "display_data"
    },
    {
     "data": {
      "application/vnd.jupyter.widget-view+json": {
       "model_id": "1bd4604d39e6473f94a26792434ee365",
       "version_major": 2,
       "version_minor": 0
      },
      "text/plain": [
       "Validation: |          | 0/? [00:00<?, ?it/s]"
      ]
     },
     "metadata": {},
     "output_type": "display_data"
    },
    {
     "data": {
      "application/vnd.jupyter.widget-view+json": {
       "model_id": "eac23833980d423c9e209fae0e7eb86f",
       "version_major": 2,
       "version_minor": 0
      },
      "text/plain": [
       "Validation: |          | 0/? [00:00<?, ?it/s]"
      ]
     },
     "metadata": {},
     "output_type": "display_data"
    },
    {
     "data": {
      "application/vnd.jupyter.widget-view+json": {
       "model_id": "ddbc628529cc4f05bbaa30df1e0f1444",
       "version_major": 2,
       "version_minor": 0
      },
      "text/plain": [
       "Validation: |          | 0/? [00:00<?, ?it/s]"
      ]
     },
     "metadata": {},
     "output_type": "display_data"
    },
    {
     "data": {
      "application/vnd.jupyter.widget-view+json": {
       "model_id": "78f1d36b96aa456ca54cd481ec11ed55",
       "version_major": 2,
       "version_minor": 0
      },
      "text/plain": [
       "Validation: |          | 0/? [00:00<?, ?it/s]"
      ]
     },
     "metadata": {},
     "output_type": "display_data"
    },
    {
     "data": {
      "application/vnd.jupyter.widget-view+json": {
       "model_id": "f05bbfc64f224da5963c669322b22533",
       "version_major": 2,
       "version_minor": 0
      },
      "text/plain": [
       "Validation: |          | 0/? [00:00<?, ?it/s]"
      ]
     },
     "metadata": {},
     "output_type": "display_data"
    },
    {
     "data": {
      "application/vnd.jupyter.widget-view+json": {
       "model_id": "1eea3c9168ee41f39c074748798fb414",
       "version_major": 2,
       "version_minor": 0
      },
      "text/plain": [
       "Validation: |          | 0/? [00:00<?, ?it/s]"
      ]
     },
     "metadata": {},
     "output_type": "display_data"
    },
    {
     "data": {
      "application/vnd.jupyter.widget-view+json": {
       "model_id": "feb8c3e8b3664e2bb6a85db584d657c8",
       "version_major": 2,
       "version_minor": 0
      },
      "text/plain": [
       "Validation: |          | 0/? [00:00<?, ?it/s]"
      ]
     },
     "metadata": {},
     "output_type": "display_data"
    },
    {
     "data": {
      "application/vnd.jupyter.widget-view+json": {
       "model_id": "8647f40faf4441319e94e6fb82862893",
       "version_major": 2,
       "version_minor": 0
      },
      "text/plain": [
       "Validation: |          | 0/? [00:00<?, ?it/s]"
      ]
     },
     "metadata": {},
     "output_type": "display_data"
    },
    {
     "data": {
      "application/vnd.jupyter.widget-view+json": {
       "model_id": "8fabf5a5ed1b4d569f659c14928ee8d2",
       "version_major": 2,
       "version_minor": 0
      },
      "text/plain": [
       "Validation: |          | 0/? [00:00<?, ?it/s]"
      ]
     },
     "metadata": {},
     "output_type": "display_data"
    },
    {
     "data": {
      "application/vnd.jupyter.widget-view+json": {
       "model_id": "85c8d0ec09db4a97bc0788b2d2a41a04",
       "version_major": 2,
       "version_minor": 0
      },
      "text/plain": [
       "Validation: |          | 0/? [00:00<?, ?it/s]"
      ]
     },
     "metadata": {},
     "output_type": "display_data"
    },
    {
     "data": {
      "application/vnd.jupyter.widget-view+json": {
       "model_id": "3423af83b934495ab15398b4e766fc19",
       "version_major": 2,
       "version_minor": 0
      },
      "text/plain": [
       "Validation: |          | 0/? [00:00<?, ?it/s]"
      ]
     },
     "metadata": {},
     "output_type": "display_data"
    },
    {
     "data": {
      "application/vnd.jupyter.widget-view+json": {
       "model_id": "d6cbad5e8b4348bab04326fa51ced0c9",
       "version_major": 2,
       "version_minor": 0
      },
      "text/plain": [
       "Validation: |          | 0/? [00:00<?, ?it/s]"
      ]
     },
     "metadata": {},
     "output_type": "display_data"
    },
    {
     "data": {
      "application/vnd.jupyter.widget-view+json": {
       "model_id": "45334238be6044a4bb31be72b4412ab7",
       "version_major": 2,
       "version_minor": 0
      },
      "text/plain": [
       "Validation: |          | 0/? [00:00<?, ?it/s]"
      ]
     },
     "metadata": {},
     "output_type": "display_data"
    },
    {
     "data": {
      "application/vnd.jupyter.widget-view+json": {
       "model_id": "7be6ac562bb945d2a80b54c8ec8af394",
       "version_major": 2,
       "version_minor": 0
      },
      "text/plain": [
       "Validation: |          | 0/? [00:00<?, ?it/s]"
      ]
     },
     "metadata": {},
     "output_type": "display_data"
    },
    {
     "data": {
      "application/vnd.jupyter.widget-view+json": {
       "model_id": "8cdd76a9f18045f08a9bc4b3cf0c8c6d",
       "version_major": 2,
       "version_minor": 0
      },
      "text/plain": [
       "Validation: |          | 0/? [00:00<?, ?it/s]"
      ]
     },
     "metadata": {},
     "output_type": "display_data"
    },
    {
     "data": {
      "application/vnd.jupyter.widget-view+json": {
       "model_id": "3f8785d36b7444f5b78caad0166e8e1b",
       "version_major": 2,
       "version_minor": 0
      },
      "text/plain": [
       "Validation: |          | 0/? [00:00<?, ?it/s]"
      ]
     },
     "metadata": {},
     "output_type": "display_data"
    },
    {
     "data": {
      "application/vnd.jupyter.widget-view+json": {
       "model_id": "fba063db374949eca7e51fe5137caa64",
       "version_major": 2,
       "version_minor": 0
      },
      "text/plain": [
       "Validation: |          | 0/? [00:00<?, ?it/s]"
      ]
     },
     "metadata": {},
     "output_type": "display_data"
    },
    {
     "data": {
      "application/vnd.jupyter.widget-view+json": {
       "model_id": "a09b820fdc89443bad0e1aa646bf2f4a",
       "version_major": 2,
       "version_minor": 0
      },
      "text/plain": [
       "Validation: |          | 0/? [00:00<?, ?it/s]"
      ]
     },
     "metadata": {},
     "output_type": "display_data"
    },
    {
     "data": {
      "application/vnd.jupyter.widget-view+json": {
       "model_id": "bb948946c1d24954b1859b243218f541",
       "version_major": 2,
       "version_minor": 0
      },
      "text/plain": [
       "Validation: |          | 0/? [00:00<?, ?it/s]"
      ]
     },
     "metadata": {},
     "output_type": "display_data"
    },
    {
     "data": {
      "application/vnd.jupyter.widget-view+json": {
       "model_id": "882e09e6a32746eba0e9c91b7bf3c732",
       "version_major": 2,
       "version_minor": 0
      },
      "text/plain": [
       "Validation: |          | 0/? [00:00<?, ?it/s]"
      ]
     },
     "metadata": {},
     "output_type": "display_data"
    },
    {
     "data": {
      "application/vnd.jupyter.widget-view+json": {
       "model_id": "f1526f3aebf5405380e0b99f13c04a04",
       "version_major": 2,
       "version_minor": 0
      },
      "text/plain": [
       "Validation: |          | 0/? [00:00<?, ?it/s]"
      ]
     },
     "metadata": {},
     "output_type": "display_data"
    },
    {
     "data": {
      "application/vnd.jupyter.widget-view+json": {
       "model_id": "d4b72d9b8d464720b3d112d6b1bffdf6",
       "version_major": 2,
       "version_minor": 0
      },
      "text/plain": [
       "Validation: |          | 0/? [00:00<?, ?it/s]"
      ]
     },
     "metadata": {},
     "output_type": "display_data"
    },
    {
     "data": {
      "application/vnd.jupyter.widget-view+json": {
       "model_id": "2a726338ded049ed82bc7e60e50033b4",
       "version_major": 2,
       "version_minor": 0
      },
      "text/plain": [
       "Validation: |          | 0/? [00:00<?, ?it/s]"
      ]
     },
     "metadata": {},
     "output_type": "display_data"
    },
    {
     "data": {
      "application/vnd.jupyter.widget-view+json": {
       "model_id": "f1803b98e8d148deb5e9599669409004",
       "version_major": 2,
       "version_minor": 0
      },
      "text/plain": [
       "Validation: |          | 0/? [00:00<?, ?it/s]"
      ]
     },
     "metadata": {},
     "output_type": "display_data"
    },
    {
     "data": {
      "application/vnd.jupyter.widget-view+json": {
       "model_id": "33a91ece670f486ab96475058b6ac8d6",
       "version_major": 2,
       "version_minor": 0
      },
      "text/plain": [
       "Validation: |          | 0/? [00:00<?, ?it/s]"
      ]
     },
     "metadata": {},
     "output_type": "display_data"
    },
    {
     "data": {
      "application/vnd.jupyter.widget-view+json": {
       "model_id": "64b3f3f7c6d14d299996d0829739c891",
       "version_major": 2,
       "version_minor": 0
      },
      "text/plain": [
       "Validation: |          | 0/? [00:00<?, ?it/s]"
      ]
     },
     "metadata": {},
     "output_type": "display_data"
    },
    {
     "data": {
      "application/vnd.jupyter.widget-view+json": {
       "model_id": "540752a6d04b42d9aba6976054f8812d",
       "version_major": 2,
       "version_minor": 0
      },
      "text/plain": [
       "Validation: |          | 0/? [00:00<?, ?it/s]"
      ]
     },
     "metadata": {},
     "output_type": "display_data"
    },
    {
     "data": {
      "application/vnd.jupyter.widget-view+json": {
       "model_id": "ed8cc65380ba480c8de16621e7987976",
       "version_major": 2,
       "version_minor": 0
      },
      "text/plain": [
       "Validation: |          | 0/? [00:00<?, ?it/s]"
      ]
     },
     "metadata": {},
     "output_type": "display_data"
    },
    {
     "data": {
      "application/vnd.jupyter.widget-view+json": {
       "model_id": "1f393f9ea2bf47b9b34a59d3f3cb5a1c",
       "version_major": 2,
       "version_minor": 0
      },
      "text/plain": [
       "Validation: |          | 0/? [00:00<?, ?it/s]"
      ]
     },
     "metadata": {},
     "output_type": "display_data"
    },
    {
     "data": {
      "application/vnd.jupyter.widget-view+json": {
       "model_id": "d8726a4385e24d4a8b4639fe94691f71",
       "version_major": 2,
       "version_minor": 0
      },
      "text/plain": [
       "Validation: |          | 0/? [00:00<?, ?it/s]"
      ]
     },
     "metadata": {},
     "output_type": "display_data"
    },
    {
     "data": {
      "application/vnd.jupyter.widget-view+json": {
       "model_id": "e07ddda811cb40109901c962b1e2e51e",
       "version_major": 2,
       "version_minor": 0
      },
      "text/plain": [
       "Validation: |          | 0/? [00:00<?, ?it/s]"
      ]
     },
     "metadata": {},
     "output_type": "display_data"
    },
    {
     "data": {
      "application/vnd.jupyter.widget-view+json": {
       "model_id": "79555a9203824b85af33a82b5a9f52a9",
       "version_major": 2,
       "version_minor": 0
      },
      "text/plain": [
       "Validation: |          | 0/? [00:00<?, ?it/s]"
      ]
     },
     "metadata": {},
     "output_type": "display_data"
    },
    {
     "data": {
      "application/vnd.jupyter.widget-view+json": {
       "model_id": "84e41b49673f44808bbdfc6cb94aa7e0",
       "version_major": 2,
       "version_minor": 0
      },
      "text/plain": [
       "Validation: |          | 0/? [00:00<?, ?it/s]"
      ]
     },
     "metadata": {},
     "output_type": "display_data"
    },
    {
     "data": {
      "application/vnd.jupyter.widget-view+json": {
       "model_id": "acdb68a4bfe14b108bef9d537299e718",
       "version_major": 2,
       "version_minor": 0
      },
      "text/plain": [
       "Validation: |          | 0/? [00:00<?, ?it/s]"
      ]
     },
     "metadata": {},
     "output_type": "display_data"
    },
    {
     "data": {
      "application/vnd.jupyter.widget-view+json": {
       "model_id": "4c264e5d894d4da9927337ef02e6ee63",
       "version_major": 2,
       "version_minor": 0
      },
      "text/plain": [
       "Validation: |          | 0/? [00:00<?, ?it/s]"
      ]
     },
     "metadata": {},
     "output_type": "display_data"
    },
    {
     "data": {
      "application/vnd.jupyter.widget-view+json": {
       "model_id": "1e8a07e91e4048028852f28faa62a24d",
       "version_major": 2,
       "version_minor": 0
      },
      "text/plain": [
       "Validation: |          | 0/? [00:00<?, ?it/s]"
      ]
     },
     "metadata": {},
     "output_type": "display_data"
    },
    {
     "data": {
      "application/vnd.jupyter.widget-view+json": {
       "model_id": "c279468e8f3348159b9d936b20f122c6",
       "version_major": 2,
       "version_minor": 0
      },
      "text/plain": [
       "Validation: |          | 0/? [00:00<?, ?it/s]"
      ]
     },
     "metadata": {},
     "output_type": "display_data"
    },
    {
     "data": {
      "application/vnd.jupyter.widget-view+json": {
       "model_id": "1c60bf5618714d8da990129209f8c803",
       "version_major": 2,
       "version_minor": 0
      },
      "text/plain": [
       "Validation: |          | 0/? [00:00<?, ?it/s]"
      ]
     },
     "metadata": {},
     "output_type": "display_data"
    },
    {
     "data": {
      "application/vnd.jupyter.widget-view+json": {
       "model_id": "9416ce98a8404c70ae04133ae18ab01a",
       "version_major": 2,
       "version_minor": 0
      },
      "text/plain": [
       "Validation: |          | 0/? [00:00<?, ?it/s]"
      ]
     },
     "metadata": {},
     "output_type": "display_data"
    },
    {
     "data": {
      "application/vnd.jupyter.widget-view+json": {
       "model_id": "7b6c8126da2d4c0887823267e9399a98",
       "version_major": 2,
       "version_minor": 0
      },
      "text/plain": [
       "Validation: |          | 0/? [00:00<?, ?it/s]"
      ]
     },
     "metadata": {},
     "output_type": "display_data"
    },
    {
     "data": {
      "application/vnd.jupyter.widget-view+json": {
       "model_id": "961d085507d84b7aad1d2245f058abb0",
       "version_major": 2,
       "version_minor": 0
      },
      "text/plain": [
       "Validation: |          | 0/? [00:00<?, ?it/s]"
      ]
     },
     "metadata": {},
     "output_type": "display_data"
    },
    {
     "data": {
      "application/vnd.jupyter.widget-view+json": {
       "model_id": "7c04957dcdad4cf1a5697d23a1f95d35",
       "version_major": 2,
       "version_minor": 0
      },
      "text/plain": [
       "Validation: |          | 0/? [00:00<?, ?it/s]"
      ]
     },
     "metadata": {},
     "output_type": "display_data"
    },
    {
     "data": {
      "application/vnd.jupyter.widget-view+json": {
       "model_id": "35bbfb52e8e74ed0bb99f7062ebdc411",
       "version_major": 2,
       "version_minor": 0
      },
      "text/plain": [
       "Validation: |          | 0/? [00:00<?, ?it/s]"
      ]
     },
     "metadata": {},
     "output_type": "display_data"
    },
    {
     "data": {
      "application/vnd.jupyter.widget-view+json": {
       "model_id": "2d37b8bfc85a4c17b8729df3e5084d4f",
       "version_major": 2,
       "version_minor": 0
      },
      "text/plain": [
       "Validation: |          | 0/? [00:00<?, ?it/s]"
      ]
     },
     "metadata": {},
     "output_type": "display_data"
    },
    {
     "data": {
      "application/vnd.jupyter.widget-view+json": {
       "model_id": "438aa6c50f7749aabe692fc2aa5612b6",
       "version_major": 2,
       "version_minor": 0
      },
      "text/plain": [
       "Validation: |          | 0/? [00:00<?, ?it/s]"
      ]
     },
     "metadata": {},
     "output_type": "display_data"
    },
    {
     "data": {
      "application/vnd.jupyter.widget-view+json": {
       "model_id": "e925012356674e87baf744d862ea651b",
       "version_major": 2,
       "version_minor": 0
      },
      "text/plain": [
       "Validation: |          | 0/? [00:00<?, ?it/s]"
      ]
     },
     "metadata": {},
     "output_type": "display_data"
    },
    {
     "data": {
      "application/vnd.jupyter.widget-view+json": {
       "model_id": "11715ea6afb94902988b8735c4d35728",
       "version_major": 2,
       "version_minor": 0
      },
      "text/plain": [
       "Validation: |          | 0/? [00:00<?, ?it/s]"
      ]
     },
     "metadata": {},
     "output_type": "display_data"
    },
    {
     "data": {
      "application/vnd.jupyter.widget-view+json": {
       "model_id": "2c9b967ef5594183b25df7e9704505f3",
       "version_major": 2,
       "version_minor": 0
      },
      "text/plain": [
       "Validation: |          | 0/? [00:00<?, ?it/s]"
      ]
     },
     "metadata": {},
     "output_type": "display_data"
    },
    {
     "data": {
      "application/vnd.jupyter.widget-view+json": {
       "model_id": "e6aae086833749c9a8d16a64e909f00c",
       "version_major": 2,
       "version_minor": 0
      },
      "text/plain": [
       "Validation: |          | 0/? [00:00<?, ?it/s]"
      ]
     },
     "metadata": {},
     "output_type": "display_data"
    },
    {
     "data": {
      "application/vnd.jupyter.widget-view+json": {
       "model_id": "045eb06998144afa8d37eb63f41f8725",
       "version_major": 2,
       "version_minor": 0
      },
      "text/plain": [
       "Validation: |          | 0/? [00:00<?, ?it/s]"
      ]
     },
     "metadata": {},
     "output_type": "display_data"
    },
    {
     "data": {
      "application/vnd.jupyter.widget-view+json": {
       "model_id": "89930ce4a6394743805fbf51baf2cd6e",
       "version_major": 2,
       "version_minor": 0
      },
      "text/plain": [
       "Validation: |          | 0/? [00:00<?, ?it/s]"
      ]
     },
     "metadata": {},
     "output_type": "display_data"
    },
    {
     "data": {
      "application/vnd.jupyter.widget-view+json": {
       "model_id": "ad63d611aad646a79002b32e2f5d6832",
       "version_major": 2,
       "version_minor": 0
      },
      "text/plain": [
       "Validation: |          | 0/? [00:00<?, ?it/s]"
      ]
     },
     "metadata": {},
     "output_type": "display_data"
    },
    {
     "data": {
      "application/vnd.jupyter.widget-view+json": {
       "model_id": "19609fb2f9e74fb282effb025e5cca16",
       "version_major": 2,
       "version_minor": 0
      },
      "text/plain": [
       "Validation: |          | 0/? [00:00<?, ?it/s]"
      ]
     },
     "metadata": {},
     "output_type": "display_data"
    },
    {
     "data": {
      "application/vnd.jupyter.widget-view+json": {
       "model_id": "1e88e85b7d07453c845059f17093a50b",
       "version_major": 2,
       "version_minor": 0
      },
      "text/plain": [
       "Validation: |          | 0/? [00:00<?, ?it/s]"
      ]
     },
     "metadata": {},
     "output_type": "display_data"
    },
    {
     "data": {
      "application/vnd.jupyter.widget-view+json": {
       "model_id": "48b87120c9b341afa8a496768320ee60",
       "version_major": 2,
       "version_minor": 0
      },
      "text/plain": [
       "Validation: |          | 0/? [00:00<?, ?it/s]"
      ]
     },
     "metadata": {},
     "output_type": "display_data"
    },
    {
     "data": {
      "application/vnd.jupyter.widget-view+json": {
       "model_id": "3f3b11c564f246179b55814f8d5e06fc",
       "version_major": 2,
       "version_minor": 0
      },
      "text/plain": [
       "Validation: |          | 0/? [00:00<?, ?it/s]"
      ]
     },
     "metadata": {},
     "output_type": "display_data"
    },
    {
     "data": {
      "application/vnd.jupyter.widget-view+json": {
       "model_id": "b581f43eab4a42c280810d592b6c646a",
       "version_major": 2,
       "version_minor": 0
      },
      "text/plain": [
       "Validation: |          | 0/? [00:00<?, ?it/s]"
      ]
     },
     "metadata": {},
     "output_type": "display_data"
    },
    {
     "data": {
      "application/vnd.jupyter.widget-view+json": {
       "model_id": "a8b488b786c544fa8e0295e186ca57ad",
       "version_major": 2,
       "version_minor": 0
      },
      "text/plain": [
       "Validation: |          | 0/? [00:00<?, ?it/s]"
      ]
     },
     "metadata": {},
     "output_type": "display_data"
    },
    {
     "data": {
      "application/vnd.jupyter.widget-view+json": {
       "model_id": "a0891ad8cd1442a0bb1f717e7af94ae7",
       "version_major": 2,
       "version_minor": 0
      },
      "text/plain": [
       "Validation: |          | 0/? [00:00<?, ?it/s]"
      ]
     },
     "metadata": {},
     "output_type": "display_data"
    },
    {
     "data": {
      "application/vnd.jupyter.widget-view+json": {
       "model_id": "96ae59e51e7b47aebcd3b93a399769cb",
       "version_major": 2,
       "version_minor": 0
      },
      "text/plain": [
       "Validation: |          | 0/? [00:00<?, ?it/s]"
      ]
     },
     "metadata": {},
     "output_type": "display_data"
    },
    {
     "data": {
      "application/vnd.jupyter.widget-view+json": {
       "model_id": "f7941566a42b40358d933fb5e4944098",
       "version_major": 2,
       "version_minor": 0
      },
      "text/plain": [
       "Validation: |          | 0/? [00:00<?, ?it/s]"
      ]
     },
     "metadata": {},
     "output_type": "display_data"
    },
    {
     "data": {
      "application/vnd.jupyter.widget-view+json": {
       "model_id": "2baffe0bb9c94f49a7bbc4397e71586c",
       "version_major": 2,
       "version_minor": 0
      },
      "text/plain": [
       "Validation: |          | 0/? [00:00<?, ?it/s]"
      ]
     },
     "metadata": {},
     "output_type": "display_data"
    },
    {
     "data": {
      "application/vnd.jupyter.widget-view+json": {
       "model_id": "172c02ff230941d493a38d035e87dc5d",
       "version_major": 2,
       "version_minor": 0
      },
      "text/plain": [
       "Validation: |          | 0/? [00:00<?, ?it/s]"
      ]
     },
     "metadata": {},
     "output_type": "display_data"
    },
    {
     "data": {
      "application/vnd.jupyter.widget-view+json": {
       "model_id": "b34ca121f36c45708de65f1ac37cbb68",
       "version_major": 2,
       "version_minor": 0
      },
      "text/plain": [
       "Validation: |          | 0/? [00:00<?, ?it/s]"
      ]
     },
     "metadata": {},
     "output_type": "display_data"
    },
    {
     "data": {
      "application/vnd.jupyter.widget-view+json": {
       "model_id": "9de29cec8575476dbb2af4fa7fcaaf8b",
       "version_major": 2,
       "version_minor": 0
      },
      "text/plain": [
       "Validation: |          | 0/? [00:00<?, ?it/s]"
      ]
     },
     "metadata": {},
     "output_type": "display_data"
    },
    {
     "data": {
      "application/vnd.jupyter.widget-view+json": {
       "model_id": "9e5a154b1f5c40c394b62d4d0c1eec88",
       "version_major": 2,
       "version_minor": 0
      },
      "text/plain": [
       "Validation: |          | 0/? [00:00<?, ?it/s]"
      ]
     },
     "metadata": {},
     "output_type": "display_data"
    },
    {
     "data": {
      "application/vnd.jupyter.widget-view+json": {
       "model_id": "0fcd4ca2e30449fc80dab8dc4246e5f5",
       "version_major": 2,
       "version_minor": 0
      },
      "text/plain": [
       "Validation: |          | 0/? [00:00<?, ?it/s]"
      ]
     },
     "metadata": {},
     "output_type": "display_data"
    },
    {
     "data": {
      "application/vnd.jupyter.widget-view+json": {
       "model_id": "d20ef5e0da7e4f9f84b61c3a0209ce8a",
       "version_major": 2,
       "version_minor": 0
      },
      "text/plain": [
       "Validation: |          | 0/? [00:00<?, ?it/s]"
      ]
     },
     "metadata": {},
     "output_type": "display_data"
    },
    {
     "data": {
      "application/vnd.jupyter.widget-view+json": {
       "model_id": "d7587c6a3ed74079bacac6373c048070",
       "version_major": 2,
       "version_minor": 0
      },
      "text/plain": [
       "Validation: |          | 0/? [00:00<?, ?it/s]"
      ]
     },
     "metadata": {},
     "output_type": "display_data"
    },
    {
     "data": {
      "application/vnd.jupyter.widget-view+json": {
       "model_id": "101466928ae1447c82d53f3433935ccf",
       "version_major": 2,
       "version_minor": 0
      },
      "text/plain": [
       "Validation: |          | 0/? [00:00<?, ?it/s]"
      ]
     },
     "metadata": {},
     "output_type": "display_data"
    },
    {
     "data": {
      "application/vnd.jupyter.widget-view+json": {
       "model_id": "c8e4fb6bd94241e19a1b721a4b9a2361",
       "version_major": 2,
       "version_minor": 0
      },
      "text/plain": [
       "Validation: |          | 0/? [00:00<?, ?it/s]"
      ]
     },
     "metadata": {},
     "output_type": "display_data"
    },
    {
     "data": {
      "application/vnd.jupyter.widget-view+json": {
       "model_id": "4785463ef3264b89b4b4f99608769287",
       "version_major": 2,
       "version_minor": 0
      },
      "text/plain": [
       "Validation: |          | 0/? [00:00<?, ?it/s]"
      ]
     },
     "metadata": {},
     "output_type": "display_data"
    },
    {
     "data": {
      "application/vnd.jupyter.widget-view+json": {
       "model_id": "288859268cbe41b5ad7d7f84b209c860",
       "version_major": 2,
       "version_minor": 0
      },
      "text/plain": [
       "Validation: |          | 0/? [00:00<?, ?it/s]"
      ]
     },
     "metadata": {},
     "output_type": "display_data"
    },
    {
     "data": {
      "application/vnd.jupyter.widget-view+json": {
       "model_id": "1dad3efa093346439abed6600442ac27",
       "version_major": 2,
       "version_minor": 0
      },
      "text/plain": [
       "Validation: |          | 0/? [00:00<?, ?it/s]"
      ]
     },
     "metadata": {},
     "output_type": "display_data"
    },
    {
     "data": {
      "application/vnd.jupyter.widget-view+json": {
       "model_id": "eedd2a7a0c684cbb98f48d70fc6dd8bc",
       "version_major": 2,
       "version_minor": 0
      },
      "text/plain": [
       "Validation: |          | 0/? [00:00<?, ?it/s]"
      ]
     },
     "metadata": {},
     "output_type": "display_data"
    },
    {
     "data": {
      "application/vnd.jupyter.widget-view+json": {
       "model_id": "af4cb51d600245c39ab0563f3d88d8d6",
       "version_major": 2,
       "version_minor": 0
      },
      "text/plain": [
       "Validation: |          | 0/? [00:00<?, ?it/s]"
      ]
     },
     "metadata": {},
     "output_type": "display_data"
    },
    {
     "data": {
      "application/vnd.jupyter.widget-view+json": {
       "model_id": "2cd23eb3adf54ea985d764054b409293",
       "version_major": 2,
       "version_minor": 0
      },
      "text/plain": [
       "Validation: |          | 0/? [00:00<?, ?it/s]"
      ]
     },
     "metadata": {},
     "output_type": "display_data"
    },
    {
     "data": {
      "application/vnd.jupyter.widget-view+json": {
       "model_id": "82c34457c81349c981913ca55eeed5ee",
       "version_major": 2,
       "version_minor": 0
      },
      "text/plain": [
       "Validation: |          | 0/? [00:00<?, ?it/s]"
      ]
     },
     "metadata": {},
     "output_type": "display_data"
    },
    {
     "data": {
      "application/vnd.jupyter.widget-view+json": {
       "model_id": "68c3a78f0f91441b8decf7f94b449230",
       "version_major": 2,
       "version_minor": 0
      },
      "text/plain": [
       "Validation: |          | 0/? [00:00<?, ?it/s]"
      ]
     },
     "metadata": {},
     "output_type": "display_data"
    },
    {
     "data": {
      "application/vnd.jupyter.widget-view+json": {
       "model_id": "566c08e600db4df4b6396426e49594b3",
       "version_major": 2,
       "version_minor": 0
      },
      "text/plain": [
       "Validation: |          | 0/? [00:00<?, ?it/s]"
      ]
     },
     "metadata": {},
     "output_type": "display_data"
    },
    {
     "data": {
      "application/vnd.jupyter.widget-view+json": {
       "model_id": "1350d65902124cc1a3c0de20564c11b7",
       "version_major": 2,
       "version_minor": 0
      },
      "text/plain": [
       "Validation: |          | 0/? [00:00<?, ?it/s]"
      ]
     },
     "metadata": {},
     "output_type": "display_data"
    },
    {
     "data": {
      "application/vnd.jupyter.widget-view+json": {
       "model_id": "fec28317d7cd4d6386f3735514ba23ce",
       "version_major": 2,
       "version_minor": 0
      },
      "text/plain": [
       "Validation: |          | 0/? [00:00<?, ?it/s]"
      ]
     },
     "metadata": {},
     "output_type": "display_data"
    },
    {
     "data": {
      "application/vnd.jupyter.widget-view+json": {
       "model_id": "d2b5101c2e614f7583efc75b84ceb8ea",
       "version_major": 2,
       "version_minor": 0
      },
      "text/plain": [
       "Validation: |          | 0/? [00:00<?, ?it/s]"
      ]
     },
     "metadata": {},
     "output_type": "display_data"
    },
    {
     "data": {
      "application/vnd.jupyter.widget-view+json": {
       "model_id": "8b8efcd183e3482b92f37f12e889371d",
       "version_major": 2,
       "version_minor": 0
      },
      "text/plain": [
       "Validation: |          | 0/? [00:00<?, ?it/s]"
      ]
     },
     "metadata": {},
     "output_type": "display_data"
    },
    {
     "data": {
      "application/vnd.jupyter.widget-view+json": {
       "model_id": "93d72f34ac0343c5a7dd3fd0621b8b10",
       "version_major": 2,
       "version_minor": 0
      },
      "text/plain": [
       "Validation: |          | 0/? [00:00<?, ?it/s]"
      ]
     },
     "metadata": {},
     "output_type": "display_data"
    },
    {
     "data": {
      "application/vnd.jupyter.widget-view+json": {
       "model_id": "ea5d6ac45c7049fd9507c7be54e41c39",
       "version_major": 2,
       "version_minor": 0
      },
      "text/plain": [
       "Validation: |          | 0/? [00:00<?, ?it/s]"
      ]
     },
     "metadata": {},
     "output_type": "display_data"
    },
    {
     "data": {
      "application/vnd.jupyter.widget-view+json": {
       "model_id": "6a55273731b94d6ca8c5a8352075d115",
       "version_major": 2,
       "version_minor": 0
      },
      "text/plain": [
       "Validation: |          | 0/? [00:00<?, ?it/s]"
      ]
     },
     "metadata": {},
     "output_type": "display_data"
    },
    {
     "data": {
      "application/vnd.jupyter.widget-view+json": {
       "model_id": "347acc285a0e430fba17d46f9e617f3e",
       "version_major": 2,
       "version_minor": 0
      },
      "text/plain": [
       "Validation: |          | 0/? [00:00<?, ?it/s]"
      ]
     },
     "metadata": {},
     "output_type": "display_data"
    },
    {
     "data": {
      "application/vnd.jupyter.widget-view+json": {
       "model_id": "29bf591cbe9f4f64b878dece806ad8a5",
       "version_major": 2,
       "version_minor": 0
      },
      "text/plain": [
       "Validation: |          | 0/? [00:00<?, ?it/s]"
      ]
     },
     "metadata": {},
     "output_type": "display_data"
    },
    {
     "data": {
      "application/vnd.jupyter.widget-view+json": {
       "model_id": "e60eebc931ed4496b3ddcb946c5f4553",
       "version_major": 2,
       "version_minor": 0
      },
      "text/plain": [
       "Validation: |          | 0/? [00:00<?, ?it/s]"
      ]
     },
     "metadata": {},
     "output_type": "display_data"
    },
    {
     "data": {
      "application/vnd.jupyter.widget-view+json": {
       "model_id": "1d28292a991c4d4b8a19d28abfe71f0b",
       "version_major": 2,
       "version_minor": 0
      },
      "text/plain": [
       "Validation: |          | 0/? [00:00<?, ?it/s]"
      ]
     },
     "metadata": {},
     "output_type": "display_data"
    },
    {
     "data": {
      "application/vnd.jupyter.widget-view+json": {
       "model_id": "da5e241b02c1429c9bf07567ad88a5a0",
       "version_major": 2,
       "version_minor": 0
      },
      "text/plain": [
       "Validation: |          | 0/? [00:00<?, ?it/s]"
      ]
     },
     "metadata": {},
     "output_type": "display_data"
    },
    {
     "data": {
      "application/vnd.jupyter.widget-view+json": {
       "model_id": "009defd99ff04976b6212b18f92da96c",
       "version_major": 2,
       "version_minor": 0
      },
      "text/plain": [
       "Validation: |          | 0/? [00:00<?, ?it/s]"
      ]
     },
     "metadata": {},
     "output_type": "display_data"
    },
    {
     "data": {
      "application/vnd.jupyter.widget-view+json": {
       "model_id": "eaceda33487c46c8b8f31e9f23c5b250",
       "version_major": 2,
       "version_minor": 0
      },
      "text/plain": [
       "Validation: |          | 0/? [00:00<?, ?it/s]"
      ]
     },
     "metadata": {},
     "output_type": "display_data"
    },
    {
     "data": {
      "application/vnd.jupyter.widget-view+json": {
       "model_id": "909e1e4736e242e3ab8d2973751bf8fb",
       "version_major": 2,
       "version_minor": 0
      },
      "text/plain": [
       "Validation: |          | 0/? [00:00<?, ?it/s]"
      ]
     },
     "metadata": {},
     "output_type": "display_data"
    },
    {
     "data": {
      "application/vnd.jupyter.widget-view+json": {
       "model_id": "49ce5033ed774c5d8d4c78aae73861f7",
       "version_major": 2,
       "version_minor": 0
      },
      "text/plain": [
       "Validation: |          | 0/? [00:00<?, ?it/s]"
      ]
     },
     "metadata": {},
     "output_type": "display_data"
    },
    {
     "data": {
      "application/vnd.jupyter.widget-view+json": {
       "model_id": "9e7aa1819e404d5b8e7ed254c2da733b",
       "version_major": 2,
       "version_minor": 0
      },
      "text/plain": [
       "Validation: |          | 0/? [00:00<?, ?it/s]"
      ]
     },
     "metadata": {},
     "output_type": "display_data"
    },
    {
     "data": {
      "application/vnd.jupyter.widget-view+json": {
       "model_id": "f40e6768109242218c6a80eb0200a226",
       "version_major": 2,
       "version_minor": 0
      },
      "text/plain": [
       "Validation: |          | 0/? [00:00<?, ?it/s]"
      ]
     },
     "metadata": {},
     "output_type": "display_data"
    },
    {
     "data": {
      "application/vnd.jupyter.widget-view+json": {
       "model_id": "aa276c423d0940feb6c0aed1590dde6a",
       "version_major": 2,
       "version_minor": 0
      },
      "text/plain": [
       "Validation: |          | 0/? [00:00<?, ?it/s]"
      ]
     },
     "metadata": {},
     "output_type": "display_data"
    },
    {
     "data": {
      "application/vnd.jupyter.widget-view+json": {
       "model_id": "20f007e7931743c19691c8a45be82117",
       "version_major": 2,
       "version_minor": 0
      },
      "text/plain": [
       "Validation: |          | 0/? [00:00<?, ?it/s]"
      ]
     },
     "metadata": {},
     "output_type": "display_data"
    },
    {
     "data": {
      "application/vnd.jupyter.widget-view+json": {
       "model_id": "91d4b7ffa2a3471aa74d531d2884e11e",
       "version_major": 2,
       "version_minor": 0
      },
      "text/plain": [
       "Validation: |          | 0/? [00:00<?, ?it/s]"
      ]
     },
     "metadata": {},
     "output_type": "display_data"
    },
    {
     "data": {
      "application/vnd.jupyter.widget-view+json": {
       "model_id": "1fd686205cae4ae68df6c0f4836ee302",
       "version_major": 2,
       "version_minor": 0
      },
      "text/plain": [
       "Validation: |          | 0/? [00:00<?, ?it/s]"
      ]
     },
     "metadata": {},
     "output_type": "display_data"
    },
    {
     "data": {
      "application/vnd.jupyter.widget-view+json": {
       "model_id": "19e5c11a1fe64256b59646578f5abb31",
       "version_major": 2,
       "version_minor": 0
      },
      "text/plain": [
       "Validation: |          | 0/? [00:00<?, ?it/s]"
      ]
     },
     "metadata": {},
     "output_type": "display_data"
    },
    {
     "data": {
      "application/vnd.jupyter.widget-view+json": {
       "model_id": "c964607598974bca9f1fa4e43acc556d",
       "version_major": 2,
       "version_minor": 0
      },
      "text/plain": [
       "Validation: |          | 0/? [00:00<?, ?it/s]"
      ]
     },
     "metadata": {},
     "output_type": "display_data"
    },
    {
     "data": {
      "application/vnd.jupyter.widget-view+json": {
       "model_id": "eb64adf2c08346fbbad4fbea10183d06",
       "version_major": 2,
       "version_minor": 0
      },
      "text/plain": [
       "Validation: |          | 0/? [00:00<?, ?it/s]"
      ]
     },
     "metadata": {},
     "output_type": "display_data"
    },
    {
     "data": {
      "application/vnd.jupyter.widget-view+json": {
       "model_id": "019a5c7a0f8641cda3c37ced936e613b",
       "version_major": 2,
       "version_minor": 0
      },
      "text/plain": [
       "Validation: |          | 0/? [00:00<?, ?it/s]"
      ]
     },
     "metadata": {},
     "output_type": "display_data"
    },
    {
     "data": {
      "application/vnd.jupyter.widget-view+json": {
       "model_id": "979e07eb1cbf48c6a6cbe4169e99ff73",
       "version_major": 2,
       "version_minor": 0
      },
      "text/plain": [
       "Validation: |          | 0/? [00:00<?, ?it/s]"
      ]
     },
     "metadata": {},
     "output_type": "display_data"
    },
    {
     "data": {
      "application/vnd.jupyter.widget-view+json": {
       "model_id": "6283b17daa4d437981c6c9718ca8c65d",
       "version_major": 2,
       "version_minor": 0
      },
      "text/plain": [
       "Validation: |          | 0/? [00:00<?, ?it/s]"
      ]
     },
     "metadata": {},
     "output_type": "display_data"
    },
    {
     "data": {
      "application/vnd.jupyter.widget-view+json": {
       "model_id": "92a4b7a76b01498b836dc367b8b97cfc",
       "version_major": 2,
       "version_minor": 0
      },
      "text/plain": [
       "Validation: |          | 0/? [00:00<?, ?it/s]"
      ]
     },
     "metadata": {},
     "output_type": "display_data"
    },
    {
     "data": {
      "application/vnd.jupyter.widget-view+json": {
       "model_id": "51ef21ce8be24829b70523ae29788720",
       "version_major": 2,
       "version_minor": 0
      },
      "text/plain": [
       "Validation: |          | 0/? [00:00<?, ?it/s]"
      ]
     },
     "metadata": {},
     "output_type": "display_data"
    },
    {
     "data": {
      "application/vnd.jupyter.widget-view+json": {
       "model_id": "ccc847ed1184414cab74afa846599dba",
       "version_major": 2,
       "version_minor": 0
      },
      "text/plain": [
       "Validation: |          | 0/? [00:00<?, ?it/s]"
      ]
     },
     "metadata": {},
     "output_type": "display_data"
    },
    {
     "data": {
      "application/vnd.jupyter.widget-view+json": {
       "model_id": "ad0cabbdcd7f4e058d654af01631e505",
       "version_major": 2,
       "version_minor": 0
      },
      "text/plain": [
       "Validation: |          | 0/? [00:00<?, ?it/s]"
      ]
     },
     "metadata": {},
     "output_type": "display_data"
    },
    {
     "data": {
      "application/vnd.jupyter.widget-view+json": {
       "model_id": "a64efba773d34adf886d369748a8ec31",
       "version_major": 2,
       "version_minor": 0
      },
      "text/plain": [
       "Validation: |          | 0/? [00:00<?, ?it/s]"
      ]
     },
     "metadata": {},
     "output_type": "display_data"
    },
    {
     "data": {
      "application/vnd.jupyter.widget-view+json": {
       "model_id": "4e0b5f213872491396a3a280a34a3348",
       "version_major": 2,
       "version_minor": 0
      },
      "text/plain": [
       "Validation: |          | 0/? [00:00<?, ?it/s]"
      ]
     },
     "metadata": {},
     "output_type": "display_data"
    },
    {
     "data": {
      "application/vnd.jupyter.widget-view+json": {
       "model_id": "f1de49d7718e405b87d0837d3c6a6e11",
       "version_major": 2,
       "version_minor": 0
      },
      "text/plain": [
       "Validation: |          | 0/? [00:00<?, ?it/s]"
      ]
     },
     "metadata": {},
     "output_type": "display_data"
    },
    {
     "data": {
      "application/vnd.jupyter.widget-view+json": {
       "model_id": "63c38564b7b647d4a4c7251f51b75bcc",
       "version_major": 2,
       "version_minor": 0
      },
      "text/plain": [
       "Validation: |          | 0/? [00:00<?, ?it/s]"
      ]
     },
     "metadata": {},
     "output_type": "display_data"
    },
    {
     "data": {
      "application/vnd.jupyter.widget-view+json": {
       "model_id": "607aade262ac4fef884746da96c02c94",
       "version_major": 2,
       "version_minor": 0
      },
      "text/plain": [
       "Validation: |          | 0/? [00:00<?, ?it/s]"
      ]
     },
     "metadata": {},
     "output_type": "display_data"
    },
    {
     "data": {
      "application/vnd.jupyter.widget-view+json": {
       "model_id": "4e58bf52a4ee443ab1e92323818e59fd",
       "version_major": 2,
       "version_minor": 0
      },
      "text/plain": [
       "Validation: |          | 0/? [00:00<?, ?it/s]"
      ]
     },
     "metadata": {},
     "output_type": "display_data"
    },
    {
     "data": {
      "application/vnd.jupyter.widget-view+json": {
       "model_id": "a1b77df6e6944293a29f3e84f2e39091",
       "version_major": 2,
       "version_minor": 0
      },
      "text/plain": [
       "Validation: |          | 0/? [00:00<?, ?it/s]"
      ]
     },
     "metadata": {},
     "output_type": "display_data"
    },
    {
     "data": {
      "application/vnd.jupyter.widget-view+json": {
       "model_id": "0f066d8c751648f3af29632c378f62c2",
       "version_major": 2,
       "version_minor": 0
      },
      "text/plain": [
       "Validation: |          | 0/? [00:00<?, ?it/s]"
      ]
     },
     "metadata": {},
     "output_type": "display_data"
    },
    {
     "data": {
      "application/vnd.jupyter.widget-view+json": {
       "model_id": "e8c8b2ff95dc4924be4a17f03719580a",
       "version_major": 2,
       "version_minor": 0
      },
      "text/plain": [
       "Validation: |          | 0/? [00:00<?, ?it/s]"
      ]
     },
     "metadata": {},
     "output_type": "display_data"
    },
    {
     "data": {
      "application/vnd.jupyter.widget-view+json": {
       "model_id": "943746ab7716420b952ab37e18450884",
       "version_major": 2,
       "version_minor": 0
      },
      "text/plain": [
       "Validation: |          | 0/? [00:00<?, ?it/s]"
      ]
     },
     "metadata": {},
     "output_type": "display_data"
    },
    {
     "data": {
      "application/vnd.jupyter.widget-view+json": {
       "model_id": "02b90de0741a4a77a92ab888a6c5bd0c",
       "version_major": 2,
       "version_minor": 0
      },
      "text/plain": [
       "Validation: |          | 0/? [00:00<?, ?it/s]"
      ]
     },
     "metadata": {},
     "output_type": "display_data"
    },
    {
     "data": {
      "application/vnd.jupyter.widget-view+json": {
       "model_id": "a4d940375e14492aa8b675b90d8c1f65",
       "version_major": 2,
       "version_minor": 0
      },
      "text/plain": [
       "Validation: |          | 0/? [00:00<?, ?it/s]"
      ]
     },
     "metadata": {},
     "output_type": "display_data"
    },
    {
     "data": {
      "application/vnd.jupyter.widget-view+json": {
       "model_id": "bf3aec530b5040acbda714268bbf50d9",
       "version_major": 2,
       "version_minor": 0
      },
      "text/plain": [
       "Validation: |          | 0/? [00:00<?, ?it/s]"
      ]
     },
     "metadata": {},
     "output_type": "display_data"
    },
    {
     "data": {
      "application/vnd.jupyter.widget-view+json": {
       "model_id": "baf8bf7072f84469ad30dbd9f572ae54",
       "version_major": 2,
       "version_minor": 0
      },
      "text/plain": [
       "Validation: |          | 0/? [00:00<?, ?it/s]"
      ]
     },
     "metadata": {},
     "output_type": "display_data"
    },
    {
     "data": {
      "application/vnd.jupyter.widget-view+json": {
       "model_id": "f07d202a91fb4a709262295ef7c63d0b",
       "version_major": 2,
       "version_minor": 0
      },
      "text/plain": [
       "Validation: |          | 0/? [00:00<?, ?it/s]"
      ]
     },
     "metadata": {},
     "output_type": "display_data"
    },
    {
     "data": {
      "application/vnd.jupyter.widget-view+json": {
       "model_id": "40e6122fe925406c8716b38b03ba5840",
       "version_major": 2,
       "version_minor": 0
      },
      "text/plain": [
       "Validation: |          | 0/? [00:00<?, ?it/s]"
      ]
     },
     "metadata": {},
     "output_type": "display_data"
    },
    {
     "data": {
      "application/vnd.jupyter.widget-view+json": {
       "model_id": "de2fed8b98624f329f44554cb03a3ecf",
       "version_major": 2,
       "version_minor": 0
      },
      "text/plain": [
       "Validation: |          | 0/? [00:00<?, ?it/s]"
      ]
     },
     "metadata": {},
     "output_type": "display_data"
    },
    {
     "data": {
      "application/vnd.jupyter.widget-view+json": {
       "model_id": "861d2d1047624ca9b3915e1c1ae06184",
       "version_major": 2,
       "version_minor": 0
      },
      "text/plain": [
       "Validation: |          | 0/? [00:00<?, ?it/s]"
      ]
     },
     "metadata": {},
     "output_type": "display_data"
    },
    {
     "data": {
      "application/vnd.jupyter.widget-view+json": {
       "model_id": "5b4b07546ee2414589909c9bfba48320",
       "version_major": 2,
       "version_minor": 0
      },
      "text/plain": [
       "Validation: |          | 0/? [00:00<?, ?it/s]"
      ]
     },
     "metadata": {},
     "output_type": "display_data"
    },
    {
     "data": {
      "application/vnd.jupyter.widget-view+json": {
       "model_id": "d329df38e2d54d07b2975634b51ba323",
       "version_major": 2,
       "version_minor": 0
      },
      "text/plain": [
       "Validation: |          | 0/? [00:00<?, ?it/s]"
      ]
     },
     "metadata": {},
     "output_type": "display_data"
    },
    {
     "data": {
      "application/vnd.jupyter.widget-view+json": {
       "model_id": "3fbb1af422604462b7a7c42deae16caa",
       "version_major": 2,
       "version_minor": 0
      },
      "text/plain": [
       "Validation: |          | 0/? [00:00<?, ?it/s]"
      ]
     },
     "metadata": {},
     "output_type": "display_data"
    },
    {
     "data": {
      "application/vnd.jupyter.widget-view+json": {
       "model_id": "55dbd76c971e469fab25d8285e000854",
       "version_major": 2,
       "version_minor": 0
      },
      "text/plain": [
       "Validation: |          | 0/? [00:00<?, ?it/s]"
      ]
     },
     "metadata": {},
     "output_type": "display_data"
    },
    {
     "data": {
      "application/vnd.jupyter.widget-view+json": {
       "model_id": "ab93e4abbeea43f0b134888814d74558",
       "version_major": 2,
       "version_minor": 0
      },
      "text/plain": [
       "Validation: |          | 0/? [00:00<?, ?it/s]"
      ]
     },
     "metadata": {},
     "output_type": "display_data"
    },
    {
     "data": {
      "application/vnd.jupyter.widget-view+json": {
       "model_id": "97e2709716ce461d892567e37a7b09a3",
       "version_major": 2,
       "version_minor": 0
      },
      "text/plain": [
       "Validation: |          | 0/? [00:00<?, ?it/s]"
      ]
     },
     "metadata": {},
     "output_type": "display_data"
    },
    {
     "data": {
      "application/vnd.jupyter.widget-view+json": {
       "model_id": "4699fbafbace4a95925f00442160e494",
       "version_major": 2,
       "version_minor": 0
      },
      "text/plain": [
       "Validation: |          | 0/? [00:00<?, ?it/s]"
      ]
     },
     "metadata": {},
     "output_type": "display_data"
    },
    {
     "data": {
      "application/vnd.jupyter.widget-view+json": {
       "model_id": "20bca6e36d1e4dbc84dda37f99bd20fc",
       "version_major": 2,
       "version_minor": 0
      },
      "text/plain": [
       "Validation: |          | 0/? [00:00<?, ?it/s]"
      ]
     },
     "metadata": {},
     "output_type": "display_data"
    },
    {
     "data": {
      "application/vnd.jupyter.widget-view+json": {
       "model_id": "56fad03fca264a99a362049e8c0ce13a",
       "version_major": 2,
       "version_minor": 0
      },
      "text/plain": [
       "Validation: |          | 0/? [00:00<?, ?it/s]"
      ]
     },
     "metadata": {},
     "output_type": "display_data"
    },
    {
     "data": {
      "application/vnd.jupyter.widget-view+json": {
       "model_id": "46408c3291674c80833ba47e47efdc08",
       "version_major": 2,
       "version_minor": 0
      },
      "text/plain": [
       "Validation: |          | 0/? [00:00<?, ?it/s]"
      ]
     },
     "metadata": {},
     "output_type": "display_data"
    },
    {
     "data": {
      "application/vnd.jupyter.widget-view+json": {
       "model_id": "f81c763e73244db0b7b94cf511e85f9c",
       "version_major": 2,
       "version_minor": 0
      },
      "text/plain": [
       "Validation: |          | 0/? [00:00<?, ?it/s]"
      ]
     },
     "metadata": {},
     "output_type": "display_data"
    },
    {
     "data": {
      "application/vnd.jupyter.widget-view+json": {
       "model_id": "9e69c53868da489c9e2931d7b7cc538b",
       "version_major": 2,
       "version_minor": 0
      },
      "text/plain": [
       "Validation: |          | 0/? [00:00<?, ?it/s]"
      ]
     },
     "metadata": {},
     "output_type": "display_data"
    },
    {
     "data": {
      "application/vnd.jupyter.widget-view+json": {
       "model_id": "ad52e11cd5d2488fb71d77edaae13542",
       "version_major": 2,
       "version_minor": 0
      },
      "text/plain": [
       "Validation: |          | 0/? [00:00<?, ?it/s]"
      ]
     },
     "metadata": {},
     "output_type": "display_data"
    },
    {
     "data": {
      "application/vnd.jupyter.widget-view+json": {
       "model_id": "0a30b9190c2545f4800827ab88d9698f",
       "version_major": 2,
       "version_minor": 0
      },
      "text/plain": [
       "Validation: |          | 0/? [00:00<?, ?it/s]"
      ]
     },
     "metadata": {},
     "output_type": "display_data"
    },
    {
     "data": {
      "application/vnd.jupyter.widget-view+json": {
       "model_id": "341ff47e0208499ca1b7e9e38d3df034",
       "version_major": 2,
       "version_minor": 0
      },
      "text/plain": [
       "Validation: |          | 0/? [00:00<?, ?it/s]"
      ]
     },
     "metadata": {},
     "output_type": "display_data"
    },
    {
     "data": {
      "application/vnd.jupyter.widget-view+json": {
       "model_id": "b84f4b36313e4ec79d3b803e42259efb",
       "version_major": 2,
       "version_minor": 0
      },
      "text/plain": [
       "Validation: |          | 0/? [00:00<?, ?it/s]"
      ]
     },
     "metadata": {},
     "output_type": "display_data"
    },
    {
     "data": {
      "application/vnd.jupyter.widget-view+json": {
       "model_id": "dc4bb702bb8944e5812556608b40b341",
       "version_major": 2,
       "version_minor": 0
      },
      "text/plain": [
       "Validation: |          | 0/? [00:00<?, ?it/s]"
      ]
     },
     "metadata": {},
     "output_type": "display_data"
    },
    {
     "data": {
      "application/vnd.jupyter.widget-view+json": {
       "model_id": "8e663a8b7fe841faa9e98002acaa4005",
       "version_major": 2,
       "version_minor": 0
      },
      "text/plain": [
       "Validation: |          | 0/? [00:00<?, ?it/s]"
      ]
     },
     "metadata": {},
     "output_type": "display_data"
    },
    {
     "data": {
      "application/vnd.jupyter.widget-view+json": {
       "model_id": "f9cc53b6eb56481cb1cb8d7443bda9f1",
       "version_major": 2,
       "version_minor": 0
      },
      "text/plain": [
       "Validation: |          | 0/? [00:00<?, ?it/s]"
      ]
     },
     "metadata": {},
     "output_type": "display_data"
    },
    {
     "data": {
      "application/vnd.jupyter.widget-view+json": {
       "model_id": "7829c8d5dcde4d08a7809001210f25c9",
       "version_major": 2,
       "version_minor": 0
      },
      "text/plain": [
       "Validation: |          | 0/? [00:00<?, ?it/s]"
      ]
     },
     "metadata": {},
     "output_type": "display_data"
    },
    {
     "data": {
      "application/vnd.jupyter.widget-view+json": {
       "model_id": "5cd397d233f1400c9eb0f480946b782a",
       "version_major": 2,
       "version_minor": 0
      },
      "text/plain": [
       "Validation: |          | 0/? [00:00<?, ?it/s]"
      ]
     },
     "metadata": {},
     "output_type": "display_data"
    },
    {
     "data": {
      "application/vnd.jupyter.widget-view+json": {
       "model_id": "7b58346b2c124c72b5b7e1d1146dee02",
       "version_major": 2,
       "version_minor": 0
      },
      "text/plain": [
       "Validation: |          | 0/? [00:00<?, ?it/s]"
      ]
     },
     "metadata": {},
     "output_type": "display_data"
    },
    {
     "data": {
      "application/vnd.jupyter.widget-view+json": {
       "model_id": "4c9aca5f0d654a7bae1a80cb194b991b",
       "version_major": 2,
       "version_minor": 0
      },
      "text/plain": [
       "Validation: |          | 0/? [00:00<?, ?it/s]"
      ]
     },
     "metadata": {},
     "output_type": "display_data"
    },
    {
     "data": {
      "application/vnd.jupyter.widget-view+json": {
       "model_id": "6f057d80102a466da4ffdcef41f733c6",
       "version_major": 2,
       "version_minor": 0
      },
      "text/plain": [
       "Validation: |          | 0/? [00:00<?, ?it/s]"
      ]
     },
     "metadata": {},
     "output_type": "display_data"
    },
    {
     "data": {
      "application/vnd.jupyter.widget-view+json": {
       "model_id": "a1e0724661cc4fe99c2cb8265676ddea",
       "version_major": 2,
       "version_minor": 0
      },
      "text/plain": [
       "Validation: |          | 0/? [00:00<?, ?it/s]"
      ]
     },
     "metadata": {},
     "output_type": "display_data"
    },
    {
     "data": {
      "application/vnd.jupyter.widget-view+json": {
       "model_id": "f17709a3694647ebb77fe5675e19e870",
       "version_major": 2,
       "version_minor": 0
      },
      "text/plain": [
       "Validation: |          | 0/? [00:00<?, ?it/s]"
      ]
     },
     "metadata": {},
     "output_type": "display_data"
    },
    {
     "data": {
      "application/vnd.jupyter.widget-view+json": {
       "model_id": "32ebdde4fabd48a9892a9df376c184a0",
       "version_major": 2,
       "version_minor": 0
      },
      "text/plain": [
       "Validation: |          | 0/? [00:00<?, ?it/s]"
      ]
     },
     "metadata": {},
     "output_type": "display_data"
    },
    {
     "data": {
      "application/vnd.jupyter.widget-view+json": {
       "model_id": "123c5ba597684476b6bcdd13c0673049",
       "version_major": 2,
       "version_minor": 0
      },
      "text/plain": [
       "Validation: |          | 0/? [00:00<?, ?it/s]"
      ]
     },
     "metadata": {},
     "output_type": "display_data"
    },
    {
     "data": {
      "application/vnd.jupyter.widget-view+json": {
       "model_id": "01ad218c37ab4b9c8717cd84554148d7",
       "version_major": 2,
       "version_minor": 0
      },
      "text/plain": [
       "Validation: |          | 0/? [00:00<?, ?it/s]"
      ]
     },
     "metadata": {},
     "output_type": "display_data"
    },
    {
     "data": {
      "application/vnd.jupyter.widget-view+json": {
       "model_id": "6d94fa3936c1468eb4e445b22e6bc965",
       "version_major": 2,
       "version_minor": 0
      },
      "text/plain": [
       "Validation: |          | 0/? [00:00<?, ?it/s]"
      ]
     },
     "metadata": {},
     "output_type": "display_data"
    },
    {
     "data": {
      "application/vnd.jupyter.widget-view+json": {
       "model_id": "bfe93dcdce994387895ee99ec0859993",
       "version_major": 2,
       "version_minor": 0
      },
      "text/plain": [
       "Validation: |          | 0/? [00:00<?, ?it/s]"
      ]
     },
     "metadata": {},
     "output_type": "display_data"
    },
    {
     "data": {
      "application/vnd.jupyter.widget-view+json": {
       "model_id": "5d2e57bf625542e9ac6505a22aa4c04e",
       "version_major": 2,
       "version_minor": 0
      },
      "text/plain": [
       "Validation: |          | 0/? [00:00<?, ?it/s]"
      ]
     },
     "metadata": {},
     "output_type": "display_data"
    },
    {
     "data": {
      "application/vnd.jupyter.widget-view+json": {
       "model_id": "c8e27d81d1c24f859f66dff002ed50e1",
       "version_major": 2,
       "version_minor": 0
      },
      "text/plain": [
       "Validation: |          | 0/? [00:00<?, ?it/s]"
      ]
     },
     "metadata": {},
     "output_type": "display_data"
    },
    {
     "data": {
      "application/vnd.jupyter.widget-view+json": {
       "model_id": "b808250467864754b0bf5568b4d40ef0",
       "version_major": 2,
       "version_minor": 0
      },
      "text/plain": [
       "Validation: |          | 0/? [00:00<?, ?it/s]"
      ]
     },
     "metadata": {},
     "output_type": "display_data"
    },
    {
     "data": {
      "application/vnd.jupyter.widget-view+json": {
       "model_id": "10b0949f7b08403c90eba9debd5c1559",
       "version_major": 2,
       "version_minor": 0
      },
      "text/plain": [
       "Validation: |          | 0/? [00:00<?, ?it/s]"
      ]
     },
     "metadata": {},
     "output_type": "display_data"
    },
    {
     "data": {
      "application/vnd.jupyter.widget-view+json": {
       "model_id": "24a482b0f9a04736b01ab3df00a767ef",
       "version_major": 2,
       "version_minor": 0
      },
      "text/plain": [
       "Validation: |          | 0/? [00:00<?, ?it/s]"
      ]
     },
     "metadata": {},
     "output_type": "display_data"
    }
   ],
   "source": [
    "# Instantiate the model and trainer or load from checkpoint:\n",
    "ad_net = AD_Net(c_layers=[4] + [neuron_num for _ in range(hid_layer_num)] + [1],\n",
    "    u_layers=[3] + [neuron_num for _ in range(hid_layer_num)] + [3],\n",
    "    incompressible=False,\n",
    "    char_domain=char_domain,\n",
    "    gamma_space=position_encode_freq_scale)\n",
    "\n",
    "if do_training:\n",
    "    if continue_training:\n",
    "        checkpoint = torch.load(ckpt_path)\n",
    "        ad_net.load_state_dict(checkpoint['state_dict'], strict=False)\n",
    "    logger = TensorBoardLogger(\"tb_logs\", name=\"seqtrain_ADPINN\")\n",
    "\n",
    "    trainer = Trainer(log_every_n_steps=3, gradient_clip_val=1.0, logger=logger)\n",
    "\n",
    "    # define ordered phases explicitly\n",
    "    phase_order = [\"init_c\", \"init_v\", \"pde_v\" ,\"joint\"]\n",
    "    last_model = None\n",
    "    total_epochs = 0\n",
    "    \n",
    "    for phase in phase_order:\n",
    "        cfg = train_setting.get(phase)\n",
    "        if not cfg:\n",
    "            continue\n",
    "        lr = cfg.get(\"learning_rate\", 1e-3)\n",
    "        max_epochs = cfg.get(\"max_epochs\", 1000)\n",
    "\n",
    "        if phase == \"init_c\":\n",
    "            pinn_model = ADPINN_InitC(ad_net, learning_rate=lr)\n",
    "            datamodule = c_dataset\n",
    "        elif phase == \"init_v\":\n",
    "            pinn_model = ADPINN_InitV(ad_net, learning_rate=lr)\n",
    "            datamodule = v_dataset\n",
    "        elif phase == \"pde_v\":\n",
    "            pinn_model = ADPINN_PDE_V(ad_net, learning_rate=lr)\n",
    "            datamodule = c_dataset\n",
    "        elif phase == \"joint\":\n",
    "            pinn_model = ADPINN_Joint(ad_net, learning_rate=lr)\n",
    "            datamodule = c_dataset\n",
    "        else:\n",
    "            continue\n",
    "\n",
    "        # update epochs per phase on the same Trainer\n",
    "        total_epochs += max_epochs\n",
    "        trainer.fit_loop.max_epochs = total_epochs\n",
    "\n",
    "        # optional: tag phase in TensorBoard\n",
    "        trainer.logger.experiment.add_text(\"phase/start\", phase, global_step=trainer.global_step)\n",
    "        # pinn_model.log = lambda name, value, **kw: super(type(pinn_model), pinn_model).log(f\"{phase}/{name}\", value, **kw)\n",
    "        trainer.fit(pinn_model, datamodule=datamodule)\n",
    "        \n",
    "        trainer.save_checkpoint(f\"data/adpinn_{phase}_{data.shape[0]}_{int(t[0])}-{int(t[-1])}_l{hid_layer_num}_n{neuron_num}_{datetime.now().strftime('%Y%m%d')}.pth\")\n",
    "        last_model = pinn_model\n",
    "    \n",
    "    pinn_model = last_model\n",
    "else:\n",
    "    if continue_training:\n",
    "        checkpoint = torch.load(ckpt_path)\n",
    "        ad_net.load_state_dict(checkpoint, strict=False)\n",
    "    pinn_model = ADPINN_Joint(ad_net)\n",
    "\n",
    "\n",
    "# After training, visualize the learned velocity field and diffusivity\n",
    "\n",
    "# Extract learned parameters\n",
    "\n",
    "D_learned = pinn_model.ad_net.D.item()\n",
    "\n",
    "print(f\"Learned diffusivity D: {D_learned}\")"
   ]
  },
  {
   "cell_type": "code",
   "execution_count": null,
   "id": "9d1104b0",
   "metadata": {},
   "outputs": [
    {
     "name": "stdout",
     "output_type": "stream",
     "text": [
      "torch.Size([40960, 3])\n"
     ]
    }
   ],
   "source": [
    "\n",
    "# 1. Extract learned velocity field on a grid for visualization\n",
    "pinn_model.to(device)\n",
    "\n",
    "# use a grid (from real to characteristic) to extract velocity field\n",
    "# Create a grid in normalized coordinates\n",
    "nx, ny, nz = data.shape[0], data.shape[1], data.shape[2]\n",
    "# to characteristic units first.\n",
    "grid_tensor = char_domain.get_characteristic_geodomain()  # only need spatial part\n",
    "print(grid_tensor.shape)\n",
    "# directly using 3D matplotlib to visualize the quiver\n",
    "with torch.no_grad():\n",
    "    vx, vy, vz = pinn_model.v_net(grid_tensor)\n",
    "    \n",
    "    vx = vx.cpu().numpy().reshape((nx, ny, nz))\n",
    "    vy = vy.cpu().numpy().reshape((nx, ny, nz))\n",
    "    vz = vz.cpu().numpy().reshape((nx, ny, nz))\n",
    "# Scale velocity back to physical units (mm/min)\n",
    "vx *= char_domain.V_star[0]\n",
    "vy *= char_domain.V_star[1]\n",
    "vz *= char_domain.V_star[2]"
   ]
  },
  {
   "cell_type": "code",
   "execution_count": null,
   "id": "7fe5a3ba",
   "metadata": {},
   "outputs": [
    {
     "name": "stdout",
     "output_type": "stream",
     "text": [
      "[0.5 0.5 0.5] (32, 40, 32) 0.1777172 -0.2967756\n"
     ]
    },
    {
     "data": {
      "application/vnd.jupyter.widget-view+json": {
       "model_id": "3ecb9a8bfd4541b7a70ae65cdee3e3b8",
       "version_major": 2,
       "version_minor": 0
      },
      "text/plain": [
       "interactive(children=(IntSlider(value=3, description='Stride', max=10, min=1), IntSlider(value=25, description…"
      ]
     },
     "metadata": {},
     "output_type": "display_data"
    },
    {
     "data": {
      "application/vnd.jupyter.widget-view+json": {
       "model_id": "1d170c636d464090bf0c456183c821ea",
       "version_major": 2,
       "version_minor": 0
      },
      "image/png": "[encoded data removed]",
      "text/html": [
       "\n",
       "            <div style=\"display: inline-block;\">\n",
       "                <div class=\"jupyter-widgets widget-label\" style=\"text-align: center;\">\n",
       "                    Figure\n",
       "                </div>\n",
       "                <img src='data:image/png;base64,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' width=900.0/>\n",
       "            </div>\n",
       "        "
      ],
      "text/plain": [
       "Canvas(toolbar=Toolbar(toolitems=[('Home', 'Reset original view', 'home', 'home'), ('Back', 'Back to previous …"
      ]
     },
     "metadata": {},
     "output_type": "display_data"
    }
   ],
   "source": [
    "%matplotlib widget\n",
    "\n",
    "from visualize import draw_3d_quiver, interactive_quiver\n",
    "# draw_3d_quiver(X, Y, Z, vx, vy, vz, stride=4)\n",
    "# using mask to filter out the background vectors\n",
    "\n",
    "# get rid of background vectors by mask\n",
    "vx = vx * mask\n",
    "vy = vy * mask\n",
    "vz = vz * mask\n",
    "print(pixdim, vx.shape, vx.max(), vx.min())\n",
    "_ = interactive_quiver(vx, vy, vz, pixdim, default_elev=-62.76, default_azim=-10.87)\n"
   ]
  },
  {
   "cell_type": "code",
   "execution_count": null,
   "id": "5835d99f",
   "metadata": {},
   "outputs": [
    {
     "data": {
      "application/vnd.jupyter.widget-view+json": {
       "model_id": "3d21279d707f47e9a449bad55b4b098b",
       "version_major": 2,
       "version_minor": 0
      },
      "image/png": "[encoded data removed]",
      "text/html": [
       "\n",
       "            <div style=\"display: inline-block;\">\n",
       "                <div class=\"jupyter-widgets widget-label\" style=\"text-align: center;\">\n",
       "                    Figure\n",
       "                </div>\n",
       "                <img src='data:image/png;base64,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' width=600.0/>\n",
       "            </div>\n",
       "        "
      ],
      "text/plain": [
       "Canvas(toolbar=Toolbar(toolitems=[('Home', 'Reset original view', 'home', 'home'), ('Back', 'Back to previous …"
      ]
     },
     "metadata": {},
     "output_type": "display_data"
    }
   ],
   "source": [
    "# use pinn_model.val_slice_4d to draw concentration slices\n",
    "pinn_model.draw_concentration_slices(to_logger=False)"
   ]
  },
  {
   "cell_type": "code",
   "execution_count": null,
   "id": "f4cb6f15",
   "metadata": {},
   "outputs": [
    {
     "name": "stdout",
     "output_type": "stream",
     "text": [
      "torch.Size([368640, 4])\n",
      "Pred shape: (32, 40, 32, 9) True shape: (32, 40, 32, 9)\n"
     ]
    },
    {
     "data": {
      "application/vnd.jupyter.widget-view+json": {
       "model_id": "368a3815539f485a92c65768bad0af3e",
       "version_major": 2,
       "version_minor": 0
      },
      "text/plain": [
       "VBox(children=(HBox(children=(IntSlider(value=0, description='Time', max=8), IntSlider(value=16, description='…"
      ]
     },
     "metadata": {},
     "output_type": "display_data"
    },
    {
     "name": "stdout",
     "output_type": "stream",
     "text": [
      "Overall MSE: 40.86216735839844\n"
     ]
    },
    {
     "data": {
      "application/vnd.jupyter.widget-view+json": {
       "model_id": "70d23b4583fe446695bd63d215dfce72",
       "version_major": 2,
       "version_minor": 0
      },
      "image/png": "[encoded data removed]",
      "text/html": [
       "\n",
       "            <div style=\"display: inline-block;\">\n",
       "                <div class=\"jupyter-widgets widget-label\" style=\"text-align: center;\">\n",
       "                    Figure\n",
       "                </div>\n",
       "                <img src='data:image/png;base64,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' width=500.0/>\n",
       "            </div>\n",
       "        "
      ],
      "text/plain": [
       "Canvas(toolbar=Toolbar(toolitems=[('Home', 'Reset original view', 'home', 'home'), ('Back', 'Back to previous …"
      ]
     },
     "metadata": {},
     "output_type": "display_data"
    }
   ],
   "source": [
    "# 2. Extract all density field with x,y,z,t 4D grid for visualization\n",
    "\n",
    "grid_tensor_4d = char_domain.get_characteristic_geotimedomain()  # include time part\n",
    "print(grid_tensor_4d.shape)\n",
    "def predict_concentration_4d(model, pts4, nx, ny, nz, nt, batch_size=200_000):\n",
    "    out_list = []\n",
    "    with torch.no_grad():\n",
    "        for i in range(0, pts4.shape[0], batch_size):\n",
    "            chunk = pts4[i:i+batch_size]\n",
    "            pred = model.c_net(chunk)\n",
    "            out_list.append(pred.cpu())\n",
    "    C_flat = torch.cat(out_list, dim=0).numpy().reshape(nx, ny, nz, nt)\n",
    "    # C_flat = torch.cat(out_list, dim=0).numpy().reshape(nx, ny, nz, nt)\n",
    "    return C_flat\n",
    "\n",
    "C_pred_4d = predict_concentration_4d(pinn_model, grid_tensor_4d, nx, ny, nz, len(t), batch_size=200_000)\n",
    "\n",
    "# Back to physical units\n",
    "C_pred_4d *= c_dataset.C_star\n",
    "\n",
    "print(\"Pred shape:\", C_pred_4d.shape, \"True shape:\", data.shape)  # (nx, ny, nz, nt)\n",
    "\n",
    "_ = draw_nifti_slices_with_time(C_pred_4d, mask)\n",
    "# try calculate loss with true data\n",
    "from sklearn.metrics import mean_squared_error\n",
    "mse_overall = mean_squared_error(data.flatten(), C_pred_4d.flatten())\n",
    "\n",
    "print(f\"Overall MSE: {mse_overall}\")"
   ]
  },
  {
   "cell_type": "code",
   "execution_count": null,
   "id": "b173fbb2",
   "metadata": {},
   "outputs": [
    {
     "name": "stdout",
     "output_type": "stream",
     "text": [
      "(491520, 1)\n"
     ]
    }
   ],
   "source": [
    "# Export velocity to .mat format so that we could run GLAD using matlab\n",
    "import scipy.io as sio\n",
    "# the rOMT code require velocity reshaped to N*3 x 1\n",
    "\n",
    "v_tensor = np.stack([vx.flatten(), vy.flatten(), vz.flatten()], axis=1)  # shape (N, 3)\n",
    "v_tensor = v_tensor.reshape(-1, 1)  # shape (N*3, 1)\n",
    "# repeated 4 times, as in rOMT there are 4 interpolate steps\n",
    "v_tensor = np.tile(v_tensor, (4, 1))\n",
    "print(v_tensor.shape)\n",
    "sio.savemat(\"data/ad_net_velocity.mat\", {\"u\": v_tensor, \"pixdim\": pixdim})\n"
   ]
  }
 ],
 "metadata": {
  "kernelspec": {
   "display_name": "AI",
   "language": "python",
   "name": "python3"
  },
  "language_info": {
   "codemirror_mode": {
    "name": "ipython",
    "version": 3
   },
   "file_extension": ".py",
   "mimetype": "text/x-python",
   "name": "python",
   "nbconvert_exporter": "python",
   "pygments_lexer": "ipython3",
   "version": "3.10.14"
  }
 },
 "nbformat": 4,
 "nbformat_minor": 5
}
